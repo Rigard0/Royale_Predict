{
 "cells": [
  {
   "cell_type": "code",
   "execution_count": 2,
   "id": "99eaaf95",
   "metadata": {},
   "outputs": [
    {
     "data": {
      "application/vnd.plotly.v1+json": {
       "config": {
        "plotlyServerURL": "https://plot.ly"
       },
       "data": [
        {
         "hovertemplate": "x=%{x}<br>y=%{y}<br>z=%{z}<br>text=%{text}<br>color=%{marker.color}<extra></extra>",
         "legendgroup": "",
         "marker": {
          "color": {
           "bdata": "RRHRZ6ZzU0BrNs/HAoMuwHsWdZCa2UvA9Dap/JBgSMBmRY4CmeAiQOxZyuPoczRAOmxbu4WcMEDCXKzRESlpQLcCMKX+bETA0qnIsbAkQ8BH+k77o+lRQJPJcFwWcXJAv5Ez+JdgW0AaKqGdPwxEwHVuFGxL9/0/R4RL8jnpEsC83+pE5GhKQGQlZC1vJlRAA0BdCLgFZUBldF+MB2dGwA3mLKNlWDfAYNHnqYAhcUD3y3WECS09wH+Wch3Rzz3AovL4pQoWQMD2XHqp1BMxwEMZVAteiBLAeNLjQ+WDQsCDwuEtkAhQwLKLpM3vTU/A44mkClRtUUC5pUNzrC1JwDTCczWoxDXAfSpn1A0kScDxXSwniWxHwL/+uCSaaURAuqU3rUwfRcBjqnJM+gg+QK/IFDGGpkfAXYR356BVR8D6LU9eFdhUQCeq6OgVHl1A94rcto32RkCEY3+3k+MhwOl2r6crMUzAw7xfL9Y6+L8SYOsm3SsswIzuORUCvDbA44DQva5ASsA2ZF4JoFxeQADe88AwB0rAakwWVUwWQ8Aw5be8YIBMwC8a1ZYU903Ayjuiyi2vTcCL0DpIMEd4QHwDWxZ2/DBAoqKXSlg1ScCdTjpva4IkwCgyRVuZkETA3n1smrBbSsBjDiHy6R1NwFIOTM3WrTrAzf84EJPrQcDuu0mEji10QJk5+jempkTA5Xe06zK9O8CIdanpex1NwEH4lBVIlErAhXKH48alSsAPX33YCMBJwOYJPZ6p8EzA8Kbnl2++T8BWZuFloGlIwAWdrEz/L0DAuhec1+S6S8D7BnwcSblQwD1aPeDYGknANjsrkXnQUMDaCl3G0lFJwOYoV80LCUvAlWC39zemUMD5B7uqNwhRwM64kBu7LUTABd7YOsM2PMB6UzuJqhM+QPbDn9va1kvAQMZ7P2/KScBx2YRDrUcsQPQi8K1zpUvAj1GR/ou4UMAEzyL0g49TQLGPkmCGpU7AQXJnLjb9SMDPJT4pfS9HwAkM8NuK/yVAd9AI+BJvSMDMhrwVzRNQwC9us/oxqFpAcNtePvQBd0DKcLWq8qkYQLZEJXkX1iHAT1D9m1ItYECE5oUp5DQ2wH68PvisKzLA0eMovwCEqL966HVFGARgQNQ3rMHWLkLAT1DYHMb1S8BcW1B1Dm9vQCry77bkNDTAXrSTdun+ScA2iHK6CUBCwDeH7cfnaC3AiYaa7V6XUMD4VLWdJnNIwOGPC4pv8UvAYDsGNiPCT8AYdV0yyOdLwIqlNfPaZVDAAT34QnoUJEA=",
           "dtype": "f8"
          },
          "coloraxis": "coloraxis",
          "size": 5,
          "symbol": "circle"
         },
         "mode": "markers+text",
         "name": "",
         "scene": "scene",
         "showlegend": false,
         "text": [
          "Knight",
          "Archers",
          "Goblins",
          "Giant",
          "P.E.K.K.A",
          "Minions",
          "Balloon",
          "Witch",
          "Barbarians",
          "Golem",
          "Skeletons",
          "Valkyrie",
          "Skeleton Army",
          "Bomber",
          "Musketeer",
          "Baby Dragon",
          "Prince",
          "Wizard",
          "Mini P.E.K.K.A",
          "Spear Goblins",
          "Giant Skeleton",
          "Hog Rider",
          "Minion Horde",
          "Ice Wizard",
          "Royal Giant",
          "Guards",
          "Princess",
          "Dark Prince",
          "Three Musketeers",
          "Lava Hound",
          "Ice Spirit",
          "Fire Spirit",
          "Miner",
          "Sparky",
          "Bowler",
          "Lumberjack",
          "Battle Ram",
          "Inferno Dragon",
          "Ice Golem",
          "Mega Minion",
          "Dart Goblin",
          "Goblin Gang",
          "Electro Wizard",
          "Elite Barbarians",
          "Hunter",
          "Executioner",
          "Bandit",
          "Royal Recruits",
          "Night Witch",
          "Bats",
          "Royal Ghost",
          "Ram Rider",
          "Zappies",
          "Rascals",
          "Cannon Cart",
          "Mega Knight",
          "Skeleton Barrel",
          "Flying Machine",
          "Wall Breakers",
          "Royal Hogs",
          "Goblin Giant",
          "Fisherman",
          "Magic Archer",
          "Electro Dragon",
          "Firecracker",
          "Mighty Miner",
          "Elixir Golem",
          "Battle Healer",
          "Skeleton King",
          "Archer Queen",
          "Golden Knight",
          "Monk",
          "Skeleton Dragons",
          "Mother Witch",
          "Electro Spirit",
          "Electro Giant",
          "Phoenix",
          "Little Prince",
          "Goblin Demolisher",
          "Goblin Machine",
          "Suspicious Bush",
          "Goblinstein",
          "Rune Giant",
          "Berserker",
          "Boss Bandit",
          "Cannon",
          "Goblin Hut",
          "Mortar",
          "Inferno Tower",
          "Bomb Tower",
          "Barbarian Hut",
          "Tesla",
          "Elixir Collector",
          "X-Bow",
          "Tombstone",
          "Furnace",
          "Goblin Cage",
          "Goblin Drill",
          "Fireball",
          "Arrows",
          "Rage",
          "Rocket",
          "Goblin Barrel",
          "Freeze",
          "Mirror",
          "Lightning",
          "Zap",
          "Poison",
          "Graveyard",
          "The Log",
          "Tornado",
          "Clone",
          "Earthquake",
          "Barbarian Barrel",
          "Heal Spirit",
          "Giant Snowball",
          "Royal Delivery",
          "Void",
          "Goblin Curse",
          "Spirit Empress",
          "Vines"
         ],
         "type": "scatter3d",
         "x": {
          "bdata": "RRHRZ6ZzU0BrNs/HAoMuwHsWdZCa2UvA9Dap/JBgSMBmRY4CmeAiQOxZyuPoczRAOmxbu4WcMEDCXKzRESlpQLcCMKX+bETA0qnIsbAkQ8BH+k77o+lRQJPJcFwWcXJAv5Ez+JdgW0AaKqGdPwxEwHVuFGxL9/0/R4RL8jnpEsC83+pE5GhKQGQlZC1vJlRAA0BdCLgFZUBldF+MB2dGwA3mLKNlWDfAYNHnqYAhcUD3y3WECS09wH+Wch3Rzz3AovL4pQoWQMD2XHqp1BMxwEMZVAteiBLAeNLjQ+WDQsCDwuEtkAhQwLKLpM3vTU/A44mkClRtUUC5pUNzrC1JwDTCczWoxDXAfSpn1A0kScDxXSwniWxHwL/+uCSaaURAuqU3rUwfRcBjqnJM+gg+QK/IFDGGpkfAXYR356BVR8D6LU9eFdhUQCeq6OgVHl1A94rcto32RkCEY3+3k+MhwOl2r6crMUzAw7xfL9Y6+L8SYOsm3SsswIzuORUCvDbA44DQva5ASsA2ZF4JoFxeQADe88AwB0rAakwWVUwWQ8Aw5be8YIBMwC8a1ZYU903Ayjuiyi2vTcCL0DpIMEd4QHwDWxZ2/DBAoqKXSlg1ScCdTjpva4IkwCgyRVuZkETA3n1smrBbSsBjDiHy6R1NwFIOTM3WrTrAzf84EJPrQcDuu0mEji10QJk5+jempkTA5Xe06zK9O8CIdanpex1NwEH4lBVIlErAhXKH48alSsAPX33YCMBJwOYJPZ6p8EzA8Kbnl2++T8BWZuFloGlIwAWdrEz/L0DAuhec1+S6S8D7BnwcSblQwD1aPeDYGknANjsrkXnQUMDaCl3G0lFJwOYoV80LCUvAlWC39zemUMD5B7uqNwhRwM64kBu7LUTABd7YOsM2PMB6UzuJqhM+QPbDn9va1kvAQMZ7P2/KScBx2YRDrUcsQPQi8K1zpUvAj1GR/ou4UMAEzyL0g49TQLGPkmCGpU7AQXJnLjb9SMDPJT4pfS9HwAkM8NuK/yVAd9AI+BJvSMDMhrwVzRNQwC9us/oxqFpAcNtePvQBd0DKcLWq8qkYQLZEJXkX1iHAT1D9m1ItYECE5oUp5DQ2wH68PvisKzLA0eMovwCEqL966HVFGARgQNQ3rMHWLkLAT1DYHMb1S8BcW1B1Dm9vQCry77bkNDTAXrSTdun+ScA2iHK6CUBCwDeH7cfnaC3AiYaa7V6XUMD4VLWdJnNIwOGPC4pv8UvAYDsGNiPCT8AYdV0yyOdLwIqlNfPaZVDAAT34QnoUJEA=",
          "dtype": "f8"
         },
         "y": {
          "bdata": "4BYEoAn0UkDv1gLwEWAmQI/7I13gbRBAavcRaOngKMBidQ7fqrUswBZA+Gx3ODjAHdBK5tH7McDyUFdz7gJTwJb8h7hk2CDAMsaLC4TDIMA8Y1weE/NeQJIOOQMOWTTArOyr+mWrRcAwB7EIK2EbwCer1rat+DJAcezZJTIkI8B3Ms4ahtE7wBeAmP79/kjApz+/CFa1RMBp5h+WoaP7v+/rZajjLSrAM4PdSDgZU0CoqCtAseYowBKe1FDeERxA/ES7/vziFcAoGBQ0H/YUwIPwNMq4Kj1AssTApvOYF8AB1T/NLQYTwH21cr+o1w/AT6otQUDZX0CmxE9bchkXQMRV6hsJwRtAyddgLGTJIsDUJGfp5AMhwNxyNl3ndz7ANPNzsqOMGcCz+CpyCJhBwLKT1N3sDzRAQ/j8/CekFMBEvxoNJnlCQHi9Fo8JcUNA+gNHf/K1OcD4s+S3adgqwByCUY1PDA3ACtTak3jDBMCnt0jlUuotwOQ9PcYNeiLAdCpe9i9RJMAWjJFtYERAwP7veXrRsxjAmIMUcfyIKsDnfvX9a0oWwMoSL2sfWxFALS4aozJ1GcCPIGwD2fZXwFlfz62tkybAW7hK6gwrIMCNWBAYFbIaQOw+ZmHKrBPAJFimw9YdI8DTfx4Mz+oAwG0TPLdpmizAw74O3ZfCM8ABEPd1q5RBQDzyiSppxzVA0PT9CmEuNsBbLq2AwesiwI0DzFhoFBrAQAiQG7pL7D9zq8SMFr8LwHYc44ZWm+Q/1+YUFMnHEcAHauNKViUiwLm6p5JlkDJAHiNuSh2yEcC+TwKm/dv/v6ev2cai4hHAKIQBv0JF+L+kDNTtpzEmwD3LwvGHKre/r2m+5qSe8b8XanArHXECwJQ673b4xANAu+hpHIhuAMAUIwkulChRQPvAnXpCq/S/aYoSTJtyCkDG5x/SSsceQLT9PYMyS8U/DVwe1/6DAcC7cLvDcvtRQJVEc5CawBHAr3V9TzDtNkBcfdX3jLMWwF48PI2nMirA7YwKbSvs8L9FW02VL8wLQP7H+YgbY0tAvI0ZirM3ZMBHsybVY28/wIi7Z5PfzD1AUfaknl9wRECSftHdwpAuwH7yq/7vnDHAdd51xCp2O8DMJnhFpmpCwMvNI76Wuvo/VIQkWDCrCcADuMKD951sQGPPYd7UwSJA52K3PLt7IsD43VGp6ug+QP0X+Z+pyC/A7FtkImAYAMASMVFawlgUQIylwT4PESpAj1rUciWnDcCrbkPjBN4WwHdqg0GlFw3AMcOrEG3h9r8=",
          "dtype": "f8"
         },
         "z": {
          "bdata": "Vbp9vPC7KMDgnxnmJFMiQJY4va7GmOi/EeZ6S80REUALqPhFcicrQBbuyT8/cztAbZVMjl3VOEA3tsgEmFVOQPKwuN7qZBhAKvLNzvMaK0CTn6GXfSgyQFFVWsMP+1xAlBMHTmP+PUCTi3llLwYHwLp6lYcjKipAP14tJqn7QEDLGYM11PAywHr0y5EdvjxAIA01KLOdM0DKv7Bd23sowNsTABkigPw/MPtUJMrPUkCeRULg1xEJQHlQw7p94yFAZTGav5Y66D8z7ihIwG8KQCbvK2S0izHAD2KC0hQqE8CMuYGK5NoWwOzB1+iT8NO/VCYtk3XyEEBOQvntUuAcwHMtVQhAcCzA8LYtecdyDsBL9VKkC8H1P8JJGgWLpkFAFsLn1KPPCUCgas5z1UYPQAi6Tanvvw5A8dKok2Ic5z/3lm0Sc69OwNjlwRA+ylPAzx8P/HNZK0CLOi+EQY4lQLmXZ37hze2/AI3yCs4ABUDPhrkC99UtwOtWjM7nfiXAxs/OX4X4DkBIhH1rDrpTwIy0Gc46B+S/LMcn56+1D8CcMz0DNRfyv0thb2Tb3CLASMbU8xjfHMD3UE7+lxVawKKNsTWoXEPAYfgYXJAIF8CB/H4nd/I6wIZnIJLmUwDAwfbrmUy2ub+q7w6G49QNwEzNZTFj0xXATqGJxCco/D/7ux213SpKwH5GM7qyVSDAc0shJATfBMAIdKi17lsCwKB9q0PxPg/AOew9cBodHMBifE3wgdcSwOvbKVvcvBfAcNRSrXeO478kumH8HzUZwFBbugxMsJu/RSWSLrgp6b/XOirNd50KwDT7sw10WRLAVZxvpI01EcA3t3cFR7UfQBGCVZqa4irADFlstrHMA8DwIa5E7BkRwE+114pIdvk/NTT2i459IcBKku7mrtUQwMvLVKOKNApA93aznNatIcD2CnB9qyMXwD3t4rFdYQHAjHJPgoVDFMDUMO2qthkXQJgnCk9O9QTAZW0dzneN7j+OF8TGEYYHQG892pkiZwxAqzy72J4I+D+RZ5Y0nakSwMP/0vBDx09AOHDAxk9YIsArczw8t+gYQBFgp77okSDA8bkJOcu+RMB+dyVR/WkmQPQSqDEuoQHAAT5ZR5+mH0C0eZOUgqAEQMP+NICroxtAirquyE5cH0DQyzDLOoEiwK1J8emY5DVAieqAB2nB8D/QOsRGahkDQKKC7PX+Vz5AxK8b7NryDsB5r40sNhzBP+JaFeXPOwjAMudyPOpHE8CxKbF/h08TwCUKVdB3ogLAKwBsm0iuO0A=",
          "dtype": "f8"
         }
        }
       ],
       "layout": {
        "coloraxis": {
         "colorbar": {
          "title": {
           "text": "color"
          }
         },
         "colorscale": [
          [
           0,
           "#0d0887"
          ],
          [
           0.1111111111111111,
           "#46039f"
          ],
          [
           0.2222222222222222,
           "#7201a8"
          ],
          [
           0.3333333333333333,
           "#9c179e"
          ],
          [
           0.4444444444444444,
           "#bd3786"
          ],
          [
           0.5555555555555556,
           "#d8576b"
          ],
          [
           0.6666666666666666,
           "#ed7953"
          ],
          [
           0.7777777777777778,
           "#fb9f3a"
          ],
          [
           0.8888888888888888,
           "#fdca26"
          ],
          [
           1,
           "#f0f921"
          ]
         ]
        },
        "legend": {
         "tracegroupgap": 0
        },
        "scene": {
         "domain": {
          "x": [
           0,
           1
          ],
          "y": [
           0,
           1
          ]
         },
         "xaxis": {
          "title": {
           "text": "x"
          }
         },
         "yaxis": {
          "title": {
           "text": "y"
          }
         },
         "zaxis": {
          "title": {
           "text": "z"
          }
         }
        },
        "template": {
         "data": {
          "bar": [
           {
            "error_x": {
             "color": "#2a3f5f"
            },
            "error_y": {
             "color": "#2a3f5f"
            },
            "marker": {
             "line": {
              "color": "#E5ECF6",
              "width": 0.5
             },
             "pattern": {
              "fillmode": "overlay",
              "size": 10,
              "solidity": 0.2
             }
            },
            "type": "bar"
           }
          ],
          "barpolar": [
           {
            "marker": {
             "line": {
              "color": "#E5ECF6",
              "width": 0.5
             },
             "pattern": {
              "fillmode": "overlay",
              "size": 10,
              "solidity": 0.2
             }
            },
            "type": "barpolar"
           }
          ],
          "carpet": [
           {
            "aaxis": {
             "endlinecolor": "#2a3f5f",
             "gridcolor": "white",
             "linecolor": "white",
             "minorgridcolor": "white",
             "startlinecolor": "#2a3f5f"
            },
            "baxis": {
             "endlinecolor": "#2a3f5f",
             "gridcolor": "white",
             "linecolor": "white",
             "minorgridcolor": "white",
             "startlinecolor": "#2a3f5f"
            },
            "type": "carpet"
           }
          ],
          "choropleth": [
           {
            "colorbar": {
             "outlinewidth": 0,
             "ticks": ""
            },
            "type": "choropleth"
           }
          ],
          "contour": [
           {
            "colorbar": {
             "outlinewidth": 0,
             "ticks": ""
            },
            "colorscale": [
             [
              0,
              "#0d0887"
             ],
             [
              0.1111111111111111,
              "#46039f"
             ],
             [
              0.2222222222222222,
              "#7201a8"
             ],
             [
              0.3333333333333333,
              "#9c179e"
             ],
             [
              0.4444444444444444,
              "#bd3786"
             ],
             [
              0.5555555555555556,
              "#d8576b"
             ],
             [
              0.6666666666666666,
              "#ed7953"
             ],
             [
              0.7777777777777778,
              "#fb9f3a"
             ],
             [
              0.8888888888888888,
              "#fdca26"
             ],
             [
              1,
              "#f0f921"
             ]
            ],
            "type": "contour"
           }
          ],
          "contourcarpet": [
           {
            "colorbar": {
             "outlinewidth": 0,
             "ticks": ""
            },
            "type": "contourcarpet"
           }
          ],
          "heatmap": [
           {
            "colorbar": {
             "outlinewidth": 0,
             "ticks": ""
            },
            "colorscale": [
             [
              0,
              "#0d0887"
             ],
             [
              0.1111111111111111,
              "#46039f"
             ],
             [
              0.2222222222222222,
              "#7201a8"
             ],
             [
              0.3333333333333333,
              "#9c179e"
             ],
             [
              0.4444444444444444,
              "#bd3786"
             ],
             [
              0.5555555555555556,
              "#d8576b"
             ],
             [
              0.6666666666666666,
              "#ed7953"
             ],
             [
              0.7777777777777778,
              "#fb9f3a"
             ],
             [
              0.8888888888888888,
              "#fdca26"
             ],
             [
              1,
              "#f0f921"
             ]
            ],
            "type": "heatmap"
           }
          ],
          "histogram": [
           {
            "marker": {
             "pattern": {
              "fillmode": "overlay",
              "size": 10,
              "solidity": 0.2
             }
            },
            "type": "histogram"
           }
          ],
          "histogram2d": [
           {
            "colorbar": {
             "outlinewidth": 0,
             "ticks": ""
            },
            "colorscale": [
             [
              0,
              "#0d0887"
             ],
             [
              0.1111111111111111,
              "#46039f"
             ],
             [
              0.2222222222222222,
              "#7201a8"
             ],
             [
              0.3333333333333333,
              "#9c179e"
             ],
             [
              0.4444444444444444,
              "#bd3786"
             ],
             [
              0.5555555555555556,
              "#d8576b"
             ],
             [
              0.6666666666666666,
              "#ed7953"
             ],
             [
              0.7777777777777778,
              "#fb9f3a"
             ],
             [
              0.8888888888888888,
              "#fdca26"
             ],
             [
              1,
              "#f0f921"
             ]
            ],
            "type": "histogram2d"
           }
          ],
          "histogram2dcontour": [
           {
            "colorbar": {
             "outlinewidth": 0,
             "ticks": ""
            },
            "colorscale": [
             [
              0,
              "#0d0887"
             ],
             [
              0.1111111111111111,
              "#46039f"
             ],
             [
              0.2222222222222222,
              "#7201a8"
             ],
             [
              0.3333333333333333,
              "#9c179e"
             ],
             [
              0.4444444444444444,
              "#bd3786"
             ],
             [
              0.5555555555555556,
              "#d8576b"
             ],
             [
              0.6666666666666666,
              "#ed7953"
             ],
             [
              0.7777777777777778,
              "#fb9f3a"
             ],
             [
              0.8888888888888888,
              "#fdca26"
             ],
             [
              1,
              "#f0f921"
             ]
            ],
            "type": "histogram2dcontour"
           }
          ],
          "mesh3d": [
           {
            "colorbar": {
             "outlinewidth": 0,
             "ticks": ""
            },
            "type": "mesh3d"
           }
          ],
          "parcoords": [
           {
            "line": {
             "colorbar": {
              "outlinewidth": 0,
              "ticks": ""
             }
            },
            "type": "parcoords"
           }
          ],
          "pie": [
           {
            "automargin": true,
            "type": "pie"
           }
          ],
          "scatter": [
           {
            "fillpattern": {
             "fillmode": "overlay",
             "size": 10,
             "solidity": 0.2
            },
            "type": "scatter"
           }
          ],
          "scatter3d": [
           {
            "line": {
             "colorbar": {
              "outlinewidth": 0,
              "ticks": ""
             }
            },
            "marker": {
             "colorbar": {
              "outlinewidth": 0,
              "ticks": ""
             }
            },
            "type": "scatter3d"
           }
          ],
          "scattercarpet": [
           {
            "marker": {
             "colorbar": {
              "outlinewidth": 0,
              "ticks": ""
             }
            },
            "type": "scattercarpet"
           }
          ],
          "scattergeo": [
           {
            "marker": {
             "colorbar": {
              "outlinewidth": 0,
              "ticks": ""
             }
            },
            "type": "scattergeo"
           }
          ],
          "scattergl": [
           {
            "marker": {
             "colorbar": {
              "outlinewidth": 0,
              "ticks": ""
             }
            },
            "type": "scattergl"
           }
          ],
          "scattermap": [
           {
            "marker": {
             "colorbar": {
              "outlinewidth": 0,
              "ticks": ""
             }
            },
            "type": "scattermap"
           }
          ],
          "scattermapbox": [
           {
            "marker": {
             "colorbar": {
              "outlinewidth": 0,
              "ticks": ""
             }
            },
            "type": "scattermapbox"
           }
          ],
          "scatterpolar": [
           {
            "marker": {
             "colorbar": {
              "outlinewidth": 0,
              "ticks": ""
             }
            },
            "type": "scatterpolar"
           }
          ],
          "scatterpolargl": [
           {
            "marker": {
             "colorbar": {
              "outlinewidth": 0,
              "ticks": ""
             }
            },
            "type": "scatterpolargl"
           }
          ],
          "scatterternary": [
           {
            "marker": {
             "colorbar": {
              "outlinewidth": 0,
              "ticks": ""
             }
            },
            "type": "scatterternary"
           }
          ],
          "surface": [
           {
            "colorbar": {
             "outlinewidth": 0,
             "ticks": ""
            },
            "colorscale": [
             [
              0,
              "#0d0887"
             ],
             [
              0.1111111111111111,
              "#46039f"
             ],
             [
              0.2222222222222222,
              "#7201a8"
             ],
             [
              0.3333333333333333,
              "#9c179e"
             ],
             [
              0.4444444444444444,
              "#bd3786"
             ],
             [
              0.5555555555555556,
              "#d8576b"
             ],
             [
              0.6666666666666666,
              "#ed7953"
             ],
             [
              0.7777777777777778,
              "#fb9f3a"
             ],
             [
              0.8888888888888888,
              "#fdca26"
             ],
             [
              1,
              "#f0f921"
             ]
            ],
            "type": "surface"
           }
          ],
          "table": [
           {
            "cells": {
             "fill": {
              "color": "#EBF0F8"
             },
             "line": {
              "color": "white"
             }
            },
            "header": {
             "fill": {
              "color": "#C8D4E3"
             },
             "line": {
              "color": "white"
             }
            },
            "type": "table"
           }
          ]
         },
         "layout": {
          "annotationdefaults": {
           "arrowcolor": "#2a3f5f",
           "arrowhead": 0,
           "arrowwidth": 1
          },
          "autotypenumbers": "strict",
          "coloraxis": {
           "colorbar": {
            "outlinewidth": 0,
            "ticks": ""
           }
          },
          "colorscale": {
           "diverging": [
            [
             0,
             "#8e0152"
            ],
            [
             0.1,
             "#c51b7d"
            ],
            [
             0.2,
             "#de77ae"
            ],
            [
             0.3,
             "#f1b6da"
            ],
            [
             0.4,
             "#fde0ef"
            ],
            [
             0.5,
             "#f7f7f7"
            ],
            [
             0.6,
             "#e6f5d0"
            ],
            [
             0.7,
             "#b8e186"
            ],
            [
             0.8,
             "#7fbc41"
            ],
            [
             0.9,
             "#4d9221"
            ],
            [
             1,
             "#276419"
            ]
           ],
           "sequential": [
            [
             0,
             "#0d0887"
            ],
            [
             0.1111111111111111,
             "#46039f"
            ],
            [
             0.2222222222222222,
             "#7201a8"
            ],
            [
             0.3333333333333333,
             "#9c179e"
            ],
            [
             0.4444444444444444,
             "#bd3786"
            ],
            [
             0.5555555555555556,
             "#d8576b"
            ],
            [
             0.6666666666666666,
             "#ed7953"
            ],
            [
             0.7777777777777778,
             "#fb9f3a"
            ],
            [
             0.8888888888888888,
             "#fdca26"
            ],
            [
             1,
             "#f0f921"
            ]
           ],
           "sequentialminus": [
            [
             0,
             "#0d0887"
            ],
            [
             0.1111111111111111,
             "#46039f"
            ],
            [
             0.2222222222222222,
             "#7201a8"
            ],
            [
             0.3333333333333333,
             "#9c179e"
            ],
            [
             0.4444444444444444,
             "#bd3786"
            ],
            [
             0.5555555555555556,
             "#d8576b"
            ],
            [
             0.6666666666666666,
             "#ed7953"
            ],
            [
             0.7777777777777778,
             "#fb9f3a"
            ],
            [
             0.8888888888888888,
             "#fdca26"
            ],
            [
             1,
             "#f0f921"
            ]
           ]
          },
          "colorway": [
           "#636efa",
           "#EF553B",
           "#00cc96",
           "#ab63fa",
           "#FFA15A",
           "#19d3f3",
           "#FF6692",
           "#B6E880",
           "#FF97FF",
           "#FECB52"
          ],
          "font": {
           "color": "#2a3f5f"
          },
          "geo": {
           "bgcolor": "white",
           "lakecolor": "white",
           "landcolor": "#E5ECF6",
           "showlakes": true,
           "showland": true,
           "subunitcolor": "white"
          },
          "hoverlabel": {
           "align": "left"
          },
          "hovermode": "closest",
          "mapbox": {
           "style": "light"
          },
          "paper_bgcolor": "white",
          "plot_bgcolor": "#E5ECF6",
          "polar": {
           "angularaxis": {
            "gridcolor": "white",
            "linecolor": "white",
            "ticks": ""
           },
           "bgcolor": "#E5ECF6",
           "radialaxis": {
            "gridcolor": "white",
            "linecolor": "white",
            "ticks": ""
           }
          },
          "scene": {
           "xaxis": {
            "backgroundcolor": "#E5ECF6",
            "gridcolor": "white",
            "gridwidth": 2,
            "linecolor": "white",
            "showbackground": true,
            "ticks": "",
            "zerolinecolor": "white"
           },
           "yaxis": {
            "backgroundcolor": "#E5ECF6",
            "gridcolor": "white",
            "gridwidth": 2,
            "linecolor": "white",
            "showbackground": true,
            "ticks": "",
            "zerolinecolor": "white"
           },
           "zaxis": {
            "backgroundcolor": "#E5ECF6",
            "gridcolor": "white",
            "gridwidth": 2,
            "linecolor": "white",
            "showbackground": true,
            "ticks": "",
            "zerolinecolor": "white"
           }
          },
          "shapedefaults": {
           "line": {
            "color": "#2a3f5f"
           }
          },
          "ternary": {
           "aaxis": {
            "gridcolor": "white",
            "linecolor": "white",
            "ticks": ""
           },
           "baxis": {
            "gridcolor": "white",
            "linecolor": "white",
            "ticks": ""
           },
           "bgcolor": "#E5ECF6",
           "caxis": {
            "gridcolor": "white",
            "linecolor": "white",
            "ticks": ""
           }
          },
          "title": {
           "x": 0.05
          },
          "xaxis": {
           "automargin": true,
           "gridcolor": "white",
           "linecolor": "white",
           "ticks": "",
           "title": {
            "standoff": 15
           },
           "zerolinecolor": "white",
           "zerolinewidth": 2
          },
          "yaxis": {
           "automargin": true,
           "gridcolor": "white",
           "linecolor": "white",
           "ticks": "",
           "title": {
            "standoff": 15
           },
           "zerolinecolor": "white",
           "zerolinewidth": 2
          }
         }
        },
        "title": {
         "text": "Embedding 3D delle carte (PCA su co-occorrenze)"
        }
       }
      }
     },
     "metadata": {},
     "output_type": "display_data"
    }
   ],
   "source": [
    "import numpy as np\n",
    "import pandas as pd\n",
    "import json\n",
    "from sklearn.decomposition import PCA\n",
    "import plotly.express as px\n",
    "\n",
    "# --- 1) Carica la matrice di co-occorrenza ---\n",
    "cxc = pd.read_csv(\"cxc.csv\", header=None).values\n",
    "\n",
    "# --- 2) Carica dizionario carte ---\n",
    "with open('./royale/cards_dict.json', \"r\", encoding=\"utf-8\") as f:\n",
    "    cards_dict = json.load(f)\n",
    "\n",
    "for i, (cid, c) in enumerate(cards_dict.items()):\n",
    "    c['loc'] = i   # aggiungi la posizione\n",
    "    \n",
    "with open('./royale/cards_dict.json', \"w\", encoding=\"utf-8\") as f:\n",
    "    json.dump(cards_dict, f, indent=2, ensure_ascii=False)\n",
    "\n",
    "# creo un mapping indice -> nome carta\n",
    "idx_to_label = [None] * len(cards_dict)\n",
    "for cid, info in cards_dict.items():\n",
    "    idx = info['loc']   # se nel tuo dict hai la posizione della carta\n",
    "    idx_to_label[idx] = info.get('name', cid)\n",
    "\n",
    "# --- 3) PCA in 3 dimensioni ---\n",
    "pca = PCA(n_components=3)\n",
    "coords = pca.fit_transform(cxc)\n",
    "\n",
    "# --- 4) Etichette ---\n",
    "labels = idx_to_label\n",
    "\n",
    "# --- 5) Visualizza ---\n",
    "fig = px.scatter_3d(\n",
    "    x=coords[:,0],\n",
    "    y=coords[:,1],\n",
    "    z=coords[:,2],\n",
    "    text=labels,\n",
    "    color=coords[:,0],\n",
    "    title=\"Embedding 3D delle carte (PCA su co-occorrenze)\"\n",
    ")\n",
    "fig.update_traces(marker=dict(size=5))\n",
    "fig.show()\n"
   ]
  }
 ],
 "metadata": {
  "kernelspec": {
   "display_name": "royale",
   "language": "python",
   "name": "python3"
  },
  "language_info": {
   "codemirror_mode": {
    "name": "ipython",
    "version": 3
   },
   "file_extension": ".py",
   "mimetype": "text/x-python",
   "name": "python",
   "nbconvert_exporter": "python",
   "pygments_lexer": "ipython3",
   "version": "3.10.18"
  }
 },
 "nbformat": 4,
 "nbformat_minor": 5
}
