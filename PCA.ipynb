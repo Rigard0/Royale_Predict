{
 "cells": [
  {
   "cell_type": "code",
   "execution_count": 1,
   "id": "99eaaf95",
   "metadata": {},
   "outputs": [
    {
     "data": {
      "application/vnd.plotly.v1+json": {
       "config": {
        "plotlyServerURL": "https://plot.ly"
       },
       "data": [
        {
         "hovertemplate": "x=%{x}<br>y=%{y}<br>z=%{z}<br>text=%{text}<br>color=%{marker.color}<extra></extra>",
         "legendgroup": "",
         "marker": {
          "color": {
           "bdata": "xmyAOwsHb0AK5/GGWudMwIyCSZMq12DAwL/ZKnhAW8CW2D3IL0tYQGgAYdirVUFAFUWA9qUbVEAQ+eAQM+F2QCjNyzDYjFXAk/c4qripWcBkixsDHGVpQGhhDJ1WEodAeOQ9h/uBbkClBMi0wKhawBnd7Da+1kFAFMMTKkTnHcD9OY//ETlfQCQEHGBgOmhABG3tnrDheECj4+bUNl9ewMqxR60spVLAVOpI8FIWgkAnQgxEesBHwEj3Y0aOC1TA0b7a4yOtWMAhrNc0V1AyQFM2bZKDcwPAsRDDcCF5UMBe00P5wTRjwIKKHC8e/GHAxihPIWpcaECIm4dT71ZewHTltHmIclDA1YZCTqPhUMCbLfv+iiNawA1Pa1yTQ1RAnXn2n24uVcDeAEskbHxMQF8zxy1nvFjA045d5WC0WsAV4rBJu/9tQHmrUUOp53BAByW555t8a0Bp3SZvWndFwBUcaWWAp2HAEoKhn5bhMMBIZ/J/yys4wBcGlidRaFPAASylUvPDXMAM99JSSgtnQBA71vpwWVvAz0pBb4dpUcAr5QybTOhgwN7H9zzqYGLAmwx2l4a5YcAi1+RbLJWGQBG2FCZmUU1ARe1wZc0+XcAj1mlV90I2wB/kCaOL8VrA/F+WB6UcWsBXAq71NwVhwDyGuAfx41TAvl/OJU1LWcDMPdnYf++FQFl6iQZ12ljAQ52c9P9pVMByE6hZiO1hwDcE1YTZM2HAFgtkNApaYMCBF2butbBbwEDwx3T8RmLAYfLkfB3cYsCIZXtH4ZddwPOkj4yc8kjAS1wQiWZWX8AlcWELYItjwDXOM3EgiGHAXFUm5q0uZMC41YSYF4hfwPh0QTkwnV/A/eA5Rp6CYsDfczRThWZkwOzXkIIvIVrAiu8Eyp5sU8Cx++JCs2FUQKhTYXo29V7AZoDHEYgvYMCfNtDYyrhKQKKJotlEUWHALO6ElPRgZMCDmWBT271iQAUSdOxlUWHAY+F85uVyYMCIpGwYRYlcwIXnBk5yEDlAm4TMwksOXcBZOedkNr5iwNgJ3OlmJHFAAeK10aUVikDh0qsG958zQI+dklJJOUnAvWShleFgcEDtDmYUjbFKwAW9MeC4I0rAB9KzZePKO0CDvpUZIMR1QO9366W3CUTATNVLU+TEXsCixQCoBn2BQEGfnhIU7DbAt0PgLhWFX8BsjC1I8BdQwA1ZQaXbVzLAcOaoPnZ7Y8Att63iEPZZwBPBginrUl/AYWKbgUARZMCSnf4WGChiwK8YBtvfu2LAaB+8cvenWUA=",
           "dtype": "f8"
          },
          "coloraxis": "coloraxis",
          "size": 5,
          "symbol": "circle"
         },
         "mode": "markers+text",
         "name": "",
         "scene": "scene",
         "showlegend": false,
         "text": [
          "Knight",
          "Archers",
          "Goblins",
          "Giant",
          "P.E.K.K.A",
          "Minions",
          "Balloon",
          "Witch",
          "Barbarians",
          "Golem",
          "Skeletons",
          "Valkyrie",
          "Skeleton Army",
          "Bomber",
          "Musketeer",
          "Baby Dragon",
          "Prince",
          "Wizard",
          "Mini P.E.K.K.A",
          "Spear Goblins",
          "Giant Skeleton",
          "Hog Rider",
          "Minion Horde",
          "Ice Wizard",
          "Royal Giant",
          "Guards",
          "Princess",
          "Dark Prince",
          "Three Musketeers",
          "Lava Hound",
          "Ice Spirit",
          "Fire Spirit",
          "Miner",
          "Sparky",
          "Bowler",
          "Lumberjack",
          "Battle Ram",
          "Inferno Dragon",
          "Ice Golem",
          "Mega Minion",
          "Dart Goblin",
          "Goblin Gang",
          "Electro Wizard",
          "Elite Barbarians",
          "Hunter",
          "Executioner",
          "Bandit",
          "Royal Recruits",
          "Night Witch",
          "Bats",
          "Royal Ghost",
          "Ram Rider",
          "Zappies",
          "Rascals",
          "Cannon Cart",
          "Mega Knight",
          "Skeleton Barrel",
          "Flying Machine",
          "Wall Breakers",
          "Royal Hogs",
          "Goblin Giant",
          "Fisherman",
          "Magic Archer",
          "Electro Dragon",
          "Firecracker",
          "Mighty Miner",
          "Elixir Golem",
          "Battle Healer",
          "Skeleton King",
          "Archer Queen",
          "Golden Knight",
          "Monk",
          "Skeleton Dragons",
          "Mother Witch",
          "Electro Spirit",
          "Electro Giant",
          "Phoenix",
          "Little Prince",
          "Goblin Demolisher",
          "Goblin Machine",
          "Suspicious Bush",
          "Goblinstein",
          "Rune Giant",
          "Berserker",
          "Boss Bandit",
          "Cannon",
          "Goblin Hut",
          "Mortar",
          "Inferno Tower",
          "Bomb Tower",
          "Barbarian Hut",
          "Tesla",
          "Elixir Collector",
          "X-Bow",
          "Tombstone",
          "Furnace",
          "Goblin Cage",
          "Goblin Drill",
          "Fireball",
          "Arrows",
          "Rage",
          "Rocket",
          "Goblin Barrel",
          "Freeze",
          "Mirror",
          "Lightning",
          "Zap",
          "Poison",
          "Graveyard",
          "The Log",
          "Tornado",
          "Clone",
          "Earthquake",
          "Barbarian Barrel",
          "Heal Spirit",
          "Giant Snowball",
          "Royal Delivery",
          "Void",
          "Goblin Curse",
          "Spirit Empress",
          "Vines"
         ],
         "type": "scatter3d",
         "x": {
          "bdata": "xmyAOwsHb0AK5/GGWudMwIyCSZMq12DAwL/ZKnhAW8CW2D3IL0tYQGgAYdirVUFAFUWA9qUbVEAQ+eAQM+F2QCjNyzDYjFXAk/c4qripWcBkixsDHGVpQGhhDJ1WEodAeOQ9h/uBbkClBMi0wKhawBnd7Da+1kFAFMMTKkTnHcD9OY//ETlfQCQEHGBgOmhABG3tnrDheECj4+bUNl9ewMqxR60spVLAVOpI8FIWgkAnQgxEesBHwEj3Y0aOC1TA0b7a4yOtWMAhrNc0V1AyQFM2bZKDcwPAsRDDcCF5UMBe00P5wTRjwIKKHC8e/GHAxihPIWpcaECIm4dT71ZewHTltHmIclDA1YZCTqPhUMCbLfv+iiNawA1Pa1yTQ1RAnXn2n24uVcDeAEskbHxMQF8zxy1nvFjA045d5WC0WsAV4rBJu/9tQHmrUUOp53BAByW555t8a0Bp3SZvWndFwBUcaWWAp2HAEoKhn5bhMMBIZ/J/yys4wBcGlidRaFPAASylUvPDXMAM99JSSgtnQBA71vpwWVvAz0pBb4dpUcAr5QybTOhgwN7H9zzqYGLAmwx2l4a5YcAi1+RbLJWGQBG2FCZmUU1ARe1wZc0+XcAj1mlV90I2wB/kCaOL8VrA/F+WB6UcWsBXAq71NwVhwDyGuAfx41TAvl/OJU1LWcDMPdnYf++FQFl6iQZ12ljAQ52c9P9pVMByE6hZiO1hwDcE1YTZM2HAFgtkNApaYMCBF2butbBbwEDwx3T8RmLAYfLkfB3cYsCIZXtH4ZddwPOkj4yc8kjAS1wQiWZWX8AlcWELYItjwDXOM3EgiGHAXFUm5q0uZMC41YSYF4hfwPh0QTkwnV/A/eA5Rp6CYsDfczRThWZkwOzXkIIvIVrAiu8Eyp5sU8Cx++JCs2FUQKhTYXo29V7AZoDHEYgvYMCfNtDYyrhKQKKJotlEUWHALO6ElPRgZMCDmWBT271iQAUSdOxlUWHAY+F85uVyYMCIpGwYRYlcwIXnBk5yEDlAm4TMwksOXcBZOedkNr5iwNgJ3OlmJHFAAeK10aUVikDh0qsG958zQI+dklJJOUnAvWShleFgcEDtDmYUjbFKwAW9MeC4I0rAB9KzZePKO0CDvpUZIMR1QO9366W3CUTATNVLU+TEXsCixQCoBn2BQEGfnhIU7DbAt0PgLhWFX8BsjC1I8BdQwA1ZQaXbVzLAcOaoPnZ7Y8Att63iEPZZwBPBginrUl/AYWKbgUARZMCSnf4WGChiwK8YBtvfu2LAaB+8cvenWUA=",
          "dtype": "f8"
         },
         "y": {
          "bdata": "euU7y50/bEBlYx+tN0FAQKKisnfS7S1Aybx2idf4PMAYCdxln01RwA50sLtMUlPAzqoQFzL+VsD0EzXa9rBowLlxR+uZ4TzACZLHmi9VP8A5TiYGPKJ0QJPyCvUd8VLA+hBduzAvWsCXv7fDKvQywGF4lUEROUlA+eO4Ovz3R8BMi/RtWi5XwNWDNU8DLl7AHBGADgcJYcC8yhqrF/UXwK9BBUjGyjnAqlvsJ+Fza0DFENiKx2ZHwHpDegupiQlAoCe0JQ+QBcDNgHugsHE+wDuWnyUqiFdAsPoosFOmPsDuRaXhP6wVwFXoEZNr+yjAwGnlqGp0dUCHqDS5/o0xQJS84uH1QPY/zCUQmL3OR8Acg8CCy1Y4wHxu9lMzFVjA+JBd+mM3PcBWkc7bIlJYwFs1gPxohlBAxpKfQ25IOsDrRXfH2VJaQJQUYZ2gc1NAweFGzbZgXMC9GUebv9lBwOQ1MLcoghJAfrbf1NUoNMD1CHF72oNDwHZ6qMct1S3ACQue3BUGOsBqPxkJDWdUwPxrnHKalSTA/QHouBEgNMC2Wdo3rVMrwDNunR9RviBA5qyYEcEzCcCDrLwcbLVuwE88c9IgOey/cMoKoiOtOMAxQ+WDUThBQHaSVZwWPhbAn7B21m8/Q8CxHngHl178v05971T0yS3A2pyIgUWfQMDNtQbI+qxcQCGuxvIiEExA5FwA4AuHRMDRic9g0v4rwEKdlll8g/K/Iv4w/84wJkCDfmm14ionwCDyMtzXmhFALNAboKMIIcD/RsDnH1ozwGLJhBLPM1VAXMFxYVzkLMAkrT34v6sXwGvdg4J4oCJAtcI4cD62BUBdiwbn0Mk7wJ8Z6GcY4yNATzh+72+XAEB2PXlifUr0vyLmjEn5YiRAdgReBE7ILcAgGKnqpyVpQKdjfvCAIOQ/y7BYh5XkK0ASa1054t5DQJyhODAdMydAs3YvkD9fBcCqRqk0/TVkQHQCdPXDxSHAPV5tLA2gR0DUec1pk9UdwCzq29BLFSrAPm2llnjnLcAfKrAkqIcoQHSQka7P51pAbzw395fXecDFVHL/8y5XwHJC020h9UxAiBPU1UG1XkCpviYO4otGwJW1xL/ZBETASF4HwXOHUMA9pDFAR41gwNhSevV5QjJAiz465RmMEsCesX9E+EOBQD6YbzcsBzPA1ygH8EEkMMAwAiMZky9ZQA3DCUrlSDzAJrVHoyieCMDgmwHnHEozQN61jnRsOUZAt7kPlkG1+79U5VZPOsYkwJZPUWk7uBrASXq3EyaIKsA=",
          "dtype": "f8"
         },
         "z": {
          "bdata": "LbY2HoTIRUCr/q0IaTcnwGAXFCpWlQDANxdtfnnQF8Dq5YWqxwdQwMxUmf3oBz/Ay7PnlYrUScCQysy+r6YLQJgDYG8UWSLA5YBf7eBrJ8CWKA9C/JZhwJdDsCAlwEJAcQ4il6goQEBIXtj6mkwhwDW399zF0U7AXOvPXs1HOsDN7sRcLq7YP48TpOem0TTA/fnZK2o7T8CKsLErrQYtQAQg3g9ERQ5AKbr1qs6ra8CjOVdwDEDmP9axcWnKbOC/QhQHfTsKHMAPXKV1k3ArwAxpAVm0rGFAw57VzEflNsBAt0kmtqYAQD77Cqoc3Pa/p3Xn69rvB8D1KwahcwohQCZpbSx9NCdAvv2QemuFIMDCYLx7PqwRwLpkbGSDWEjAUNspHdpnJsCQiaWqIqMywItbdxrqRETAIU8lu6khMMBQlqXjWltuQKZYHEZRGHFAx6MX232GUcAu1rNsJ7sywBpd7C2ZHxPAF/fMSRv4N8DZU1d80YQcwOPNF/94qj1AEyV5CahMFMABAVsdMwZFQHlcaVOXKyHAKOKS4isDF8C03pJL1uIRQHbe8h8m3zNAaCQL0xELI0CeWrYjERNMQMK/FXY+zllAvMHauNMfHEACGU34poFWQCg3mkzLQBBAD0kTEA7jMcAZ3ist/K0LwPnEaeKVxOi/VW8Nj7K+J8BbXdIJLNBYwGUj9NtC0t0/bw3VVbnhCsBfreqf+SoFwJF6hZIIxCxAsc6cEO+hDkBZdtcOSLcWQOHzIOwvdvC/Aj3uzueh77/CUj/hEd7kv2iQgu6SfjXA3e4o0M+nBMDH3WE39+LcvxNlRtY0Vvm/5a+el9XvCkClaw5FFmEnwOVOd5TpAzpAZu0bKms6FEDwYTupdR8KQKbY4XgVISNACMaRGkUWLEBYa7IRzFlAwEyFWi3IORpApxymaCvrJEByj9YRJpdVQBwcIpQSh/G/mVjtrLSQBEA1dTkId1pIwAqHJ/cclfq/Kmem463mJMCVpwpurLIQQArr2EFJl7c/x0QRJzItGMCX/mWWEW8EwE5wuGZiuFnAksBU7D5mSkD8K+QHGWNEwFu3fN3Eqk9AWI/1xBpHcUDaujQx98MlwPTweBfULPG/SmEOQLeXNsAeBT8o2pNcwCXijfMMnSzAitjoybByEMCGju5sPekzQC56QGN95T7AxbinztNYHUDOwRNtsRFHwOUtGAfmmkbAfI2ecrJI8T8FWIN2KTchwJkUHhIbOfK/3Y9wVqlPBUASwDMjB9zyv8fDS983QfI/BusPNZ7vF8A=",
          "dtype": "f8"
         }
        }
       ],
       "layout": {
        "coloraxis": {
         "colorbar": {
          "title": {
           "text": "color"
          }
         },
         "colorscale": [
          [
           0,
           "#0d0887"
          ],
          [
           0.1111111111111111,
           "#46039f"
          ],
          [
           0.2222222222222222,
           "#7201a8"
          ],
          [
           0.3333333333333333,
           "#9c179e"
          ],
          [
           0.4444444444444444,
           "#bd3786"
          ],
          [
           0.5555555555555556,
           "#d8576b"
          ],
          [
           0.6666666666666666,
           "#ed7953"
          ],
          [
           0.7777777777777778,
           "#fb9f3a"
          ],
          [
           0.8888888888888888,
           "#fdca26"
          ],
          [
           1,
           "#f0f921"
          ]
         ]
        },
        "legend": {
         "tracegroupgap": 0
        },
        "scene": {
         "domain": {
          "x": [
           0,
           1
          ],
          "y": [
           0,
           1
          ]
         },
         "xaxis": {
          "title": {
           "text": "x"
          }
         },
         "yaxis": {
          "title": {
           "text": "y"
          }
         },
         "zaxis": {
          "title": {
           "text": "z"
          }
         }
        },
        "template": {
         "data": {
          "bar": [
           {
            "error_x": {
             "color": "#2a3f5f"
            },
            "error_y": {
             "color": "#2a3f5f"
            },
            "marker": {
             "line": {
              "color": "#E5ECF6",
              "width": 0.5
             },
             "pattern": {
              "fillmode": "overlay",
              "size": 10,
              "solidity": 0.2
             }
            },
            "type": "bar"
           }
          ],
          "barpolar": [
           {
            "marker": {
             "line": {
              "color": "#E5ECF6",
              "width": 0.5
             },
             "pattern": {
              "fillmode": "overlay",
              "size": 10,
              "solidity": 0.2
             }
            },
            "type": "barpolar"
           }
          ],
          "carpet": [
           {
            "aaxis": {
             "endlinecolor": "#2a3f5f",
             "gridcolor": "white",
             "linecolor": "white",
             "minorgridcolor": "white",
             "startlinecolor": "#2a3f5f"
            },
            "baxis": {
             "endlinecolor": "#2a3f5f",
             "gridcolor": "white",
             "linecolor": "white",
             "minorgridcolor": "white",
             "startlinecolor": "#2a3f5f"
            },
            "type": "carpet"
           }
          ],
          "choropleth": [
           {
            "colorbar": {
             "outlinewidth": 0,
             "ticks": ""
            },
            "type": "choropleth"
           }
          ],
          "contour": [
           {
            "colorbar": {
             "outlinewidth": 0,
             "ticks": ""
            },
            "colorscale": [
             [
              0,
              "#0d0887"
             ],
             [
              0.1111111111111111,
              "#46039f"
             ],
             [
              0.2222222222222222,
              "#7201a8"
             ],
             [
              0.3333333333333333,
              "#9c179e"
             ],
             [
              0.4444444444444444,
              "#bd3786"
             ],
             [
              0.5555555555555556,
              "#d8576b"
             ],
             [
              0.6666666666666666,
              "#ed7953"
             ],
             [
              0.7777777777777778,
              "#fb9f3a"
             ],
             [
              0.8888888888888888,
              "#fdca26"
             ],
             [
              1,
              "#f0f921"
             ]
            ],
            "type": "contour"
           }
          ],
          "contourcarpet": [
           {
            "colorbar": {
             "outlinewidth": 0,
             "ticks": ""
            },
            "type": "contourcarpet"
           }
          ],
          "heatmap": [
           {
            "colorbar": {
             "outlinewidth": 0,
             "ticks": ""
            },
            "colorscale": [
             [
              0,
              "#0d0887"
             ],
             [
              0.1111111111111111,
              "#46039f"
             ],
             [
              0.2222222222222222,
              "#7201a8"
             ],
             [
              0.3333333333333333,
              "#9c179e"
             ],
             [
              0.4444444444444444,
              "#bd3786"
             ],
             [
              0.5555555555555556,
              "#d8576b"
             ],
             [
              0.6666666666666666,
              "#ed7953"
             ],
             [
              0.7777777777777778,
              "#fb9f3a"
             ],
             [
              0.8888888888888888,
              "#fdca26"
             ],
             [
              1,
              "#f0f921"
             ]
            ],
            "type": "heatmap"
           }
          ],
          "histogram": [
           {
            "marker": {
             "pattern": {
              "fillmode": "overlay",
              "size": 10,
              "solidity": 0.2
             }
            },
            "type": "histogram"
           }
          ],
          "histogram2d": [
           {
            "colorbar": {
             "outlinewidth": 0,
             "ticks": ""
            },
            "colorscale": [
             [
              0,
              "#0d0887"
             ],
             [
              0.1111111111111111,
              "#46039f"
             ],
             [
              0.2222222222222222,
              "#7201a8"
             ],
             [
              0.3333333333333333,
              "#9c179e"
             ],
             [
              0.4444444444444444,
              "#bd3786"
             ],
             [
              0.5555555555555556,
              "#d8576b"
             ],
             [
              0.6666666666666666,
              "#ed7953"
             ],
             [
              0.7777777777777778,
              "#fb9f3a"
             ],
             [
              0.8888888888888888,
              "#fdca26"
             ],
             [
              1,
              "#f0f921"
             ]
            ],
            "type": "histogram2d"
           }
          ],
          "histogram2dcontour": [
           {
            "colorbar": {
             "outlinewidth": 0,
             "ticks": ""
            },
            "colorscale": [
             [
              0,
              "#0d0887"
             ],
             [
              0.1111111111111111,
              "#46039f"
             ],
             [
              0.2222222222222222,
              "#7201a8"
             ],
             [
              0.3333333333333333,
              "#9c179e"
             ],
             [
              0.4444444444444444,
              "#bd3786"
             ],
             [
              0.5555555555555556,
              "#d8576b"
             ],
             [
              0.6666666666666666,
              "#ed7953"
             ],
             [
              0.7777777777777778,
              "#fb9f3a"
             ],
             [
              0.8888888888888888,
              "#fdca26"
             ],
             [
              1,
              "#f0f921"
             ]
            ],
            "type": "histogram2dcontour"
           }
          ],
          "mesh3d": [
           {
            "colorbar": {
             "outlinewidth": 0,
             "ticks": ""
            },
            "type": "mesh3d"
           }
          ],
          "parcoords": [
           {
            "line": {
             "colorbar": {
              "outlinewidth": 0,
              "ticks": ""
             }
            },
            "type": "parcoords"
           }
          ],
          "pie": [
           {
            "automargin": true,
            "type": "pie"
           }
          ],
          "scatter": [
           {
            "fillpattern": {
             "fillmode": "overlay",
             "size": 10,
             "solidity": 0.2
            },
            "type": "scatter"
           }
          ],
          "scatter3d": [
           {
            "line": {
             "colorbar": {
              "outlinewidth": 0,
              "ticks": ""
             }
            },
            "marker": {
             "colorbar": {
              "outlinewidth": 0,
              "ticks": ""
             }
            },
            "type": "scatter3d"
           }
          ],
          "scattercarpet": [
           {
            "marker": {
             "colorbar": {
              "outlinewidth": 0,
              "ticks": ""
             }
            },
            "type": "scattercarpet"
           }
          ],
          "scattergeo": [
           {
            "marker": {
             "colorbar": {
              "outlinewidth": 0,
              "ticks": ""
             }
            },
            "type": "scattergeo"
           }
          ],
          "scattergl": [
           {
            "marker": {
             "colorbar": {
              "outlinewidth": 0,
              "ticks": ""
             }
            },
            "type": "scattergl"
           }
          ],
          "scattermap": [
           {
            "marker": {
             "colorbar": {
              "outlinewidth": 0,
              "ticks": ""
             }
            },
            "type": "scattermap"
           }
          ],
          "scattermapbox": [
           {
            "marker": {
             "colorbar": {
              "outlinewidth": 0,
              "ticks": ""
             }
            },
            "type": "scattermapbox"
           }
          ],
          "scatterpolar": [
           {
            "marker": {
             "colorbar": {
              "outlinewidth": 0,
              "ticks": ""
             }
            },
            "type": "scatterpolar"
           }
          ],
          "scatterpolargl": [
           {
            "marker": {
             "colorbar": {
              "outlinewidth": 0,
              "ticks": ""
             }
            },
            "type": "scatterpolargl"
           }
          ],
          "scatterternary": [
           {
            "marker": {
             "colorbar": {
              "outlinewidth": 0,
              "ticks": ""
             }
            },
            "type": "scatterternary"
           }
          ],
          "surface": [
           {
            "colorbar": {
             "outlinewidth": 0,
             "ticks": ""
            },
            "colorscale": [
             [
              0,
              "#0d0887"
             ],
             [
              0.1111111111111111,
              "#46039f"
             ],
             [
              0.2222222222222222,
              "#7201a8"
             ],
             [
              0.3333333333333333,
              "#9c179e"
             ],
             [
              0.4444444444444444,
              "#bd3786"
             ],
             [
              0.5555555555555556,
              "#d8576b"
             ],
             [
              0.6666666666666666,
              "#ed7953"
             ],
             [
              0.7777777777777778,
              "#fb9f3a"
             ],
             [
              0.8888888888888888,
              "#fdca26"
             ],
             [
              1,
              "#f0f921"
             ]
            ],
            "type": "surface"
           }
          ],
          "table": [
           {
            "cells": {
             "fill": {
              "color": "#EBF0F8"
             },
             "line": {
              "color": "white"
             }
            },
            "header": {
             "fill": {
              "color": "#C8D4E3"
             },
             "line": {
              "color": "white"
             }
            },
            "type": "table"
           }
          ]
         },
         "layout": {
          "annotationdefaults": {
           "arrowcolor": "#2a3f5f",
           "arrowhead": 0,
           "arrowwidth": 1
          },
          "autotypenumbers": "strict",
          "coloraxis": {
           "colorbar": {
            "outlinewidth": 0,
            "ticks": ""
           }
          },
          "colorscale": {
           "diverging": [
            [
             0,
             "#8e0152"
            ],
            [
             0.1,
             "#c51b7d"
            ],
            [
             0.2,
             "#de77ae"
            ],
            [
             0.3,
             "#f1b6da"
            ],
            [
             0.4,
             "#fde0ef"
            ],
            [
             0.5,
             "#f7f7f7"
            ],
            [
             0.6,
             "#e6f5d0"
            ],
            [
             0.7,
             "#b8e186"
            ],
            [
             0.8,
             "#7fbc41"
            ],
            [
             0.9,
             "#4d9221"
            ],
            [
             1,
             "#276419"
            ]
           ],
           "sequential": [
            [
             0,
             "#0d0887"
            ],
            [
             0.1111111111111111,
             "#46039f"
            ],
            [
             0.2222222222222222,
             "#7201a8"
            ],
            [
             0.3333333333333333,
             "#9c179e"
            ],
            [
             0.4444444444444444,
             "#bd3786"
            ],
            [
             0.5555555555555556,
             "#d8576b"
            ],
            [
             0.6666666666666666,
             "#ed7953"
            ],
            [
             0.7777777777777778,
             "#fb9f3a"
            ],
            [
             0.8888888888888888,
             "#fdca26"
            ],
            [
             1,
             "#f0f921"
            ]
           ],
           "sequentialminus": [
            [
             0,
             "#0d0887"
            ],
            [
             0.1111111111111111,
             "#46039f"
            ],
            [
             0.2222222222222222,
             "#7201a8"
            ],
            [
             0.3333333333333333,
             "#9c179e"
            ],
            [
             0.4444444444444444,
             "#bd3786"
            ],
            [
             0.5555555555555556,
             "#d8576b"
            ],
            [
             0.6666666666666666,
             "#ed7953"
            ],
            [
             0.7777777777777778,
             "#fb9f3a"
            ],
            [
             0.8888888888888888,
             "#fdca26"
            ],
            [
             1,
             "#f0f921"
            ]
           ]
          },
          "colorway": [
           "#636efa",
           "#EF553B",
           "#00cc96",
           "#ab63fa",
           "#FFA15A",
           "#19d3f3",
           "#FF6692",
           "#B6E880",
           "#FF97FF",
           "#FECB52"
          ],
          "font": {
           "color": "#2a3f5f"
          },
          "geo": {
           "bgcolor": "white",
           "lakecolor": "white",
           "landcolor": "#E5ECF6",
           "showlakes": true,
           "showland": true,
           "subunitcolor": "white"
          },
          "hoverlabel": {
           "align": "left"
          },
          "hovermode": "closest",
          "mapbox": {
           "style": "light"
          },
          "paper_bgcolor": "white",
          "plot_bgcolor": "#E5ECF6",
          "polar": {
           "angularaxis": {
            "gridcolor": "white",
            "linecolor": "white",
            "ticks": ""
           },
           "bgcolor": "#E5ECF6",
           "radialaxis": {
            "gridcolor": "white",
            "linecolor": "white",
            "ticks": ""
           }
          },
          "scene": {
           "xaxis": {
            "backgroundcolor": "#E5ECF6",
            "gridcolor": "white",
            "gridwidth": 2,
            "linecolor": "white",
            "showbackground": true,
            "ticks": "",
            "zerolinecolor": "white"
           },
           "yaxis": {
            "backgroundcolor": "#E5ECF6",
            "gridcolor": "white",
            "gridwidth": 2,
            "linecolor": "white",
            "showbackground": true,
            "ticks": "",
            "zerolinecolor": "white"
           },
           "zaxis": {
            "backgroundcolor": "#E5ECF6",
            "gridcolor": "white",
            "gridwidth": 2,
            "linecolor": "white",
            "showbackground": true,
            "ticks": "",
            "zerolinecolor": "white"
           }
          },
          "shapedefaults": {
           "line": {
            "color": "#2a3f5f"
           }
          },
          "ternary": {
           "aaxis": {
            "gridcolor": "white",
            "linecolor": "white",
            "ticks": ""
           },
           "baxis": {
            "gridcolor": "white",
            "linecolor": "white",
            "ticks": ""
           },
           "bgcolor": "#E5ECF6",
           "caxis": {
            "gridcolor": "white",
            "linecolor": "white",
            "ticks": ""
           }
          },
          "title": {
           "x": 0.05
          },
          "xaxis": {
           "automargin": true,
           "gridcolor": "white",
           "linecolor": "white",
           "ticks": "",
           "title": {
            "standoff": 15
           },
           "zerolinecolor": "white",
           "zerolinewidth": 2
          },
          "yaxis": {
           "automargin": true,
           "gridcolor": "white",
           "linecolor": "white",
           "ticks": "",
           "title": {
            "standoff": 15
           },
           "zerolinecolor": "white",
           "zerolinewidth": 2
          }
         }
        },
        "title": {
         "text": "Embedding 3D delle carte (PCA su co-occorrenze)"
        }
       }
      }
     },
     "metadata": {},
     "output_type": "display_data"
    }
   ],
   "source": [
    "import numpy as np\n",
    "import pandas as pd\n",
    "import json\n",
    "from sklearn.decomposition import PCA\n",
    "import plotly.express as px\n",
    "\n",
    "# --- 1) Carica la matrice di co-occorrenza ---\n",
    "cxc = pd.read_csv(\"cxc.csv\", header=None).values\n",
    "\n",
    "# --- 2) Carica dizionario carte ---\n",
    "with open('./royale/cards_dict.json', \"r\", encoding=\"utf-8\") as f:\n",
    "    cards_dict = json.load(f)\n",
    "\n",
    "for i, (cid, c) in enumerate(cards_dict.items()):\n",
    "    c['loc'] = i   # aggiungi la posizione\n",
    "    \n",
    "with open('./royale/cards_dict.json', \"w\", encoding=\"utf-8\") as f:\n",
    "    json.dump(cards_dict, f, indent=2, ensure_ascii=False)\n",
    "\n",
    "# creo un mapping indice -> nome carta\n",
    "idx_to_label = [None] * len(cards_dict)\n",
    "for cid, info in cards_dict.items():\n",
    "    idx = info['loc']   # se nel tuo dict hai la posizione della carta\n",
    "    idx_to_label[idx] = info.get('name', cid)\n",
    "\n",
    "# --- 3) PCA in 3 dimensioni ---\n",
    "pca = PCA(n_components=3)\n",
    "coords = pca.fit_transform(cxc)\n",
    "\n",
    "# --- 4) Etichette ---\n",
    "labels = idx_to_label\n",
    "\n",
    "# --- 5) Visualizza ---\n",
    "fig = px.scatter_3d(\n",
    "    x=coords[:,0],\n",
    "    y=coords[:,1],\n",
    "    z=coords[:,2],\n",
    "    text=labels,\n",
    "    color=coords[:,0],\n",
    "    title=\"Embedding 3D delle carte (PCA su co-occorrenze)\"\n",
    ")\n",
    "fig.update_traces(marker=dict(size=5))\n",
    "fig.show()\n"
   ]
  },
  {
   "cell_type": "code",
   "execution_count": 5,
   "id": "0b7ca5ea",
   "metadata": {},
   "outputs": [
    {
     "data": {
      "application/vnd.plotly.v1+json": {
       "config": {
        "plotlyServerURL": "https://plot.ly"
       },
       "data": [
        {
         "hovertemplate": "color=2<br>x=%{x}<br>y=%{y}<br>z=%{z}<br>text=%{text}<extra></extra>",
         "legendgroup": "2",
         "marker": {
          "color": "#636efa",
          "size": 5,
          "symbol": "circle"
         },
         "mode": "markers+text",
         "name": "2",
         "scene": "scene",
         "showlegend": true,
         "text": [
          "Knight",
          "Archers",
          "Goblins",
          "Musketeer",
          "Hog Rider",
          "Princess",
          "Fire Spirit",
          "Miner",
          "Dart Goblin",
          "Goblin Gang",
          "Hunter",
          "Rascals",
          "Skeleton Barrel",
          "Wall Breakers",
          "Firecracker",
          "Archer Queen",
          "Monk",
          "Little Prince",
          "Goblin Demolisher",
          "Suspicious Bush",
          "Goblinstein",
          "Mortar",
          "Inferno Tower",
          "Bomb Tower",
          "Tesla",
          "Fireball",
          "Rocket",
          "Goblin Barrel",
          "The Log"
         ],
         "type": "scatter3d",
         "x": {
          "bdata": "Pbza8FX6rD8K4+Fsuv+kP7eHOdiRKKw/p/pcSct7oj/twe89iJSiP54i3JsbzrI/PiVvaNLIqD/DRf1s1rODP9urPLee6KI/qEnl2zNvnD9YyxP9ptmWPwhWwJfzcqg/4/beZsALjD8arpwnZgqjP+iX62JmZZU/IL00vSTApz9O838bJr2TPzAl+f2Teac/mV9j2ZMmsD/dp7Ka7tahP3WzlNczypU/NatYDKrkqD/aWdWaI/ufP+HAqSTGtak/gHLcQMM0sj/Vpkdhr6qdP8XSl4G/pq0/bRHfnrCRpT/bZ5MnRTCtPw==",
          "dtype": "f8"
         },
         "y": {
          "bdata": "eXuLeK3qhb/p+q/Whj9CvymfqlUCKHq/UFUp/mTtir9Q4kNND5Wgv2vAInLcnaq/4lQtjDrsg79Urku5OdRvvysaSathOZ+/50ltoKSXpL9TXeFijTV7P7eEef1xxnK/dgEoDiF9m7+d42k1v/mPv0B8Nd95a52/L0m2nXPZi7+rdCvXsqKfP6s365CEU3k/+3qh3Czfpj+5pcnhjX6Ov51QIVv1S3o/TQij3fMEjz+msIrXSkutv8aTt+cWWpM/0Vn5y8ktmb/Xgbk+Ljybv740mwLKzaC//dwD5JyIqL9lSrUwWx6Rvw==",
          "dtype": "f8"
         },
         "z": {
          "bdata": "ZF0sZfv9TL8AjZrTYLGaP6+AcE/7KVG/I2aJBE7NkD869D+6Qr94P9u1C3o3RqC/3G+4++VHc78SFSx1v+hxv9xIOzb2Rpi/mqQo/7dCnr88kvBB1qKhPwUBtzrSU6K/QIkVznDPpL+MAMET93qmv/cg/FNm6T0/iU793uKiVL85V8tx+J+bP2eJ3XjccJs/F8AOGmVyYT+PB4aY17SpvwfY4t3Qvp2/T1IWE8BHm7/9/c309EGZvwd3sRgV/Uo/1WvGK4nmgT/GF5TI2HKMP2vLW0AJvYS/iUYEAZrBm79R/b7AGR1qPw==",
          "dtype": "f8"
         }
        },
        {
         "hovertemplate": "color=4<br>x=%{x}<br>y=%{y}<br>z=%{z}<br>text=%{text}<extra></extra>",
         "legendgroup": "4",
         "marker": {
          "color": "#EF553B",
          "size": 5,
          "symbol": "circle"
         },
         "mode": "markers+text",
         "name": "4",
         "scene": "scene",
         "showlegend": true,
         "text": [
          "Giant",
          "Minions",
          "Golem",
          "Bomber",
          "Baby Dragon",
          "Dark Prince",
          "Three Musketeers",
          "Lava Hound",
          "Sparky",
          "Bowler",
          "Battle Ram",
          "Mega Minion",
          "Night Witch",
          "Royal Ghost",
          "Goblin Giant",
          "Electro Dragon",
          "Elixir Golem",
          "Battle Healer",
          "Skeleton Dragons",
          "Mother Witch",
          "Phoenix",
          "Goblin Machine",
          "Barbarian Hut",
          "Elixir Collector",
          "Rage",
          "Tornado",
          "Heal Spirit",
          "Goblin Curse",
          "Spirit Empress"
         ],
         "type": "scatter3d",
         "x": {
          "bdata": "z1z12nGrqr/MmT3m2I+jv594+s0I/qq/ocKqMFshor9uJETasu2dv9nnWnTWXaG/KLeab46Kpb8aPFUyVnavv3HoiMHYy6u/oweWC8DVo7+dri3Jm0+jv/lyHGotnKq/89CzQ5wmrL8t2mWXO4CQvypRbUYLjrK/3qDD6x6grL9DgXaZytivv2NfJ4P1M7O/ObibOz1Cr78qGWK+Qw+jv8O2jdZwLbG/j2pX9qgLsr/yp7wA97CzvzHDZeo6RaG/jjUJuV1GqL/mHPFs2cGPv0mTgyn6hqO/pdWTYkccqr/ktY2DkGiivw==",
          "dtype": "f8"
         },
         "y": {
          "bdata": "PqxyGoiVaj8Y0kWnpL7xvgeAjuUN+aE/SbI5gQN4c79VIA20IteTPym9SueqH3e/HysyRHpdlD/57zijdnSIv81Xi/8BtZ2/bDHsgm+Tjj9J7j7xpSp0v9wcmrX1gGe/xfr2G04Ghz/dgP7yxRSGP/eTqKt6yqI/b7Y3HGWekz9w8pBjR2qSv4IUtazu6Zk/1dZTzOv4fr+wEJM3hnuNP9ShRVGSioQ/jaZDztp4tD90Z3982AaKv6n2YCQDGqA/0MkzFG73dr9b9LOV9c2SP2I1V/mhjok/K5KOh2MEkT8BQHlkSomTPw==",
          "dtype": "f8"
         },
         "z": {
          "bdata": "2yeJxb5rkz/jtnFDerh3P7EMHwrGC4o/rB5RyLsIoT+llRcdJY8nP6VBNchzz5U/tl6aykwKpz8QgTyl23Jyv+oU4lmmB5s/NaAi8zFjgL8QvJMXMw2RP60YugYufaA/5yLK/1/ElT/mTYASDYOHP2usqJNajq0/O8XmG0IMgz9w+ZmqtLaAPzcyMI9356U/F8ffk48TUT9cHNNILl41vwKv1oeW9Kc/GnPt5vawpj948o9MeC+qPzhS7K1pHpo/VXJbvwInlj81uwIH/wF0P5i1ffHmtKg/UFDv/4HGqT8d+JYf341cPw==",
          "dtype": "f8"
         }
        },
        {
         "hovertemplate": "color=0<br>x=%{x}<br>y=%{y}<br>z=%{z}<br>text=%{text}<extra></extra>",
         "legendgroup": "0",
         "marker": {
          "color": "#00cc96",
          "size": 5,
          "symbol": "circle"
         },
         "mode": "markers+text",
         "name": "0",
         "scene": "scene",
         "showlegend": true,
         "text": [
          "P.E.K.K.A",
          "Balloon",
          "Witch",
          "Barbarians",
          "Valkyrie",
          "Skeleton Army",
          "Prince",
          "Wizard",
          "Mini P.E.K.K.A",
          "Spear Goblins",
          "Giant Skeleton",
          "Minion Horde",
          "Royal Giant",
          "Guards",
          "Lumberjack",
          "Inferno Dragon",
          "Electro Wizard",
          "Elite Barbarians",
          "Executioner",
          "Bandit",
          "Bats",
          "Ram Rider",
          "Mega Knight",
          "Magic Archer",
          "Golden Knight",
          "Electro Giant",
          "Rune Giant",
          "Boss Bandit",
          "Tombstone",
          "Arrows",
          "Freeze",
          "Mirror",
          "Lightning",
          "Zap",
          "Clone",
          "Void"
         ],
         "type": "scatter3d",
         "x": {
          "bdata": "5eL30zX0mL9Rnav0IUyhv/NGDv3JdJq/bGHBD0LMo78Ue9W3GfliP8u8QAK3/pO/xBrD3T2Mn79xpc1ka2ScvxL8erE3VpG/0q0JZOjKRj87dsGIno2Yv2Y/I3WYfaO/YL5Cnt+nXT8zTNJGqQWHv+8hxGSFWKG/n1rEuDPDpL/psg5StiSbv1jFVHu0TKG/1g90npdKh79FXcXfBlmbvz+oUo64pIm/s9Zofauzkr//8gUdugSLv0yZFxbIA42/2RMyshwTkb9ZqbuTN8yiv7iB9hIBtam/QFWG+VwYhL8+gty6RiuPvxnfg2plCIi/xVmkMe2ppL8Knk0ybPGhv1cAlbzDM56/yQRpfwYQjr+GXNICeWegv++1VE6wOqC/",
          "dtype": "f8"
         },
         "y": {
          "bdata": "b8fcmgM7hL9Om35Zt0iRvxtDJDwfD5y/3fNVUX5NmL+dfA/0q7+av/kpgchyl6q/dWUtVSd9or8RB5yyQPWmv5BsKQod45y/MQiQAm3Dl7/51iaelMygv75lvxsK56i/Wruz5d7HV7+HOgUgsbphP+OyzKsWQ4q/jm3SLLwImL+y1g05I/6gv5m/f+9V66G/ZrsSUALvkb/Kr654ovGbv+wPvV/F/qK/x1/nMzkqjb/8dIcwcoefvww+TLrZfaG/ThuWyKCbbj+HkNLheIBCP9A8l3cHmqu/Pl7T0m6Pf7+XLtozfwd6P/MhU2x2Zpi/oMwosd8tmr+LqOVWyA2kvxoz3aVJSnW/GXFaJQ0Bnr82Qa0uDuCgv8Js7HP8loC/",
          "dtype": "f8"
         },
         "z": {
          "bdata": "wfyxZGrIgz+KfN/GBMp1P1z5lbT63IO/rUvjGqmogD/FsVcqwio+v7JivVVKfX2/oUUJp32CMj/1sXhwWt9aP567sPVIJXC/o5jT7Rukn7++xu4F82Z3v56TK/mx5nc/cvDKtsxbjD+i/BxVAWSDv29NlCkV43E/QGhybRV4c79msfS1MPhmP/8fyEwFqpg/4eo1S6G9ZT+JQhWWH4RbP9B18pf7sI+/T0f04X++Zj9/aRj36Ep+v0UumJLj8Hi/vtCUw5mam7/Zzhzwi2V5v0dM73DM1qW/Go8RI6dxlb+bUpsNZfWSv2w9KUqasE6/Js0KKSi4S79wCuL8eah5Px836LOQNFy/RnzRGQLBcT/fDIPlt4CTv7AmCi9Zfis/",
          "dtype": "f8"
         }
        },
        {
         "hovertemplate": "color=1<br>x=%{x}<br>y=%{y}<br>z=%{z}<br>text=%{text}<extra></extra>",
         "legendgroup": "1",
         "marker": {
          "color": "#ab63fa",
          "size": 5,
          "symbol": "circle"
         },
         "mode": "markers+text",
         "name": "1",
         "scene": "scene",
         "showlegend": true,
         "text": [
          "Skeletons",
          "Ice Spirit",
          "Ice Golem",
          "Mighty Miner",
          "Electro Spirit",
          "Cannon",
          "X-Bow",
          "Goblin Drill",
          "Earthquake",
          "Royal Delivery"
         ],
         "type": "scatter3d",
         "x": {
          "bdata": "/IRPTB0FtT8ubrpaEtq6PyML6TvFEb0/VonGB+AavT9vhdOBVXm0P9ngXM5kKrk/HKqtzsjAxD9OHlm4cgezP10117iezcM/lsTsrosFwD8=",
          "dtype": "f8"
         },
         "y": {
          "bdata": "04FDMnUKX7/PO9Qf9IaHv+ZLQNSpt5E/9KMKAagdWz+dojpJg2eQPzPLfiUrXYa/R77bmtfapj9JR9CRW+qxP03M8Ex0EJe/F4Mb4m/ajj8=",
          "dtype": "f8"
         },
         "z": {
          "bdata": "FeCmHfIAjD/78z3BRiiKP1FNoQZcXqg/vWza2vr0k79wBk7tR0+aP5t2Hwupc4I/gE9HAFjKuT/6/AmTMYqYP4OwObpSjaA/8F0w5I5qkT8=",
          "dtype": "f8"
         }
        },
        {
         "hovertemplate": "color=3<br>x=%{x}<br>y=%{y}<br>z=%{z}<br>text=%{text}<extra></extra>",
         "legendgroup": "3",
         "marker": {
          "color": "#FFA15A",
          "size": 5,
          "symbol": "circle"
         },
         "mode": "markers+text",
         "name": "3",
         "scene": "scene",
         "showlegend": true,
         "text": [
          "Ice Wizard",
          "Royal Recruits",
          "Zappies",
          "Cannon Cart",
          "Flying Machine",
          "Royal Hogs",
          "Fisherman",
          "Skeleton King",
          "Berserker",
          "Goblin Hut",
          "Furnace",
          "Goblin Cage",
          "Poison",
          "Graveyard",
          "Barbarian Barrel",
          "Giant Snowball",
          "Vines"
         ],
         "type": "scatter3d",
         "x": {
          "bdata": "+GzSwldufD/R5U45/bZ3v8tsEWyPZ6C/3thWJvChUz9cd43CeSmjv/jTgWmEimO/q5ZNag2hWr/j8NkULjhHP7AcxlInvos/lSmaBIRjgD8Rt0IvQUY/vxhZ5kYc4pe/Z6lUq1ZqkD+QRbZJ9oGAvxuvyiF7FY2/BaTvK5JIoD+y/sB5mSFovw==",
          "dtype": "f8"
         },
         "y": {
          "bdata": "zkJw0YL9pT/kZEvai8ebPySc/b4hubA/yUPdJAZmiD9dQTNMXDOpP8qAZrmXFJ0/0//7LY09qT83Z5hzRzGFP8acUfyy2bE/euWDmyo0uT9GKOp2ylmSP1Qdy4ERRrA/TFhnCSHqpD9RitS6LQ2/Pxz7LNA5b6w/1YuG6bkwpz+3MCotpMqUPw==",
          "dtype": "f8"
         },
         "z": {
          "bdata": "NK0R0GJ+ir/TOZ0e0fCxv8oc2Kcaxbq/n0mkcaabp78GzAVwSz20v+oTkHc83am/UX+RNs9Nhz9AU7RE/5CUvx3wVakux5S/GqAG2miIqr+rUhR/pFqJv20vm9VV9ai/3YEih9IzgL+aN2uw+Pmbv9r0ULhW0G2/8BzhGia0Zj/fWxQxeYRsvw==",
          "dtype": "f8"
         }
        }
       ],
       "layout": {
        "legend": {
         "title": {
          "text": "color"
         },
         "tracegroupgap": 0
        },
        "scene": {
         "domain": {
          "x": [
           0,
           1
          ],
          "y": [
           0,
           1
          ]
         },
         "xaxis": {
          "title": {
           "text": "x"
          }
         },
         "yaxis": {
          "title": {
           "text": "y"
          }
         },
         "zaxis": {
          "title": {
           "text": "z"
          }
         }
        },
        "template": {
         "data": {
          "bar": [
           {
            "error_x": {
             "color": "#2a3f5f"
            },
            "error_y": {
             "color": "#2a3f5f"
            },
            "marker": {
             "line": {
              "color": "#E5ECF6",
              "width": 0.5
             },
             "pattern": {
              "fillmode": "overlay",
              "size": 10,
              "solidity": 0.2
             }
            },
            "type": "bar"
           }
          ],
          "barpolar": [
           {
            "marker": {
             "line": {
              "color": "#E5ECF6",
              "width": 0.5
             },
             "pattern": {
              "fillmode": "overlay",
              "size": 10,
              "solidity": 0.2
             }
            },
            "type": "barpolar"
           }
          ],
          "carpet": [
           {
            "aaxis": {
             "endlinecolor": "#2a3f5f",
             "gridcolor": "white",
             "linecolor": "white",
             "minorgridcolor": "white",
             "startlinecolor": "#2a3f5f"
            },
            "baxis": {
             "endlinecolor": "#2a3f5f",
             "gridcolor": "white",
             "linecolor": "white",
             "minorgridcolor": "white",
             "startlinecolor": "#2a3f5f"
            },
            "type": "carpet"
           }
          ],
          "choropleth": [
           {
            "colorbar": {
             "outlinewidth": 0,
             "ticks": ""
            },
            "type": "choropleth"
           }
          ],
          "contour": [
           {
            "colorbar": {
             "outlinewidth": 0,
             "ticks": ""
            },
            "colorscale": [
             [
              0,
              "#0d0887"
             ],
             [
              0.1111111111111111,
              "#46039f"
             ],
             [
              0.2222222222222222,
              "#7201a8"
             ],
             [
              0.3333333333333333,
              "#9c179e"
             ],
             [
              0.4444444444444444,
              "#bd3786"
             ],
             [
              0.5555555555555556,
              "#d8576b"
             ],
             [
              0.6666666666666666,
              "#ed7953"
             ],
             [
              0.7777777777777778,
              "#fb9f3a"
             ],
             [
              0.8888888888888888,
              "#fdca26"
             ],
             [
              1,
              "#f0f921"
             ]
            ],
            "type": "contour"
           }
          ],
          "contourcarpet": [
           {
            "colorbar": {
             "outlinewidth": 0,
             "ticks": ""
            },
            "type": "contourcarpet"
           }
          ],
          "heatmap": [
           {
            "colorbar": {
             "outlinewidth": 0,
             "ticks": ""
            },
            "colorscale": [
             [
              0,
              "#0d0887"
             ],
             [
              0.1111111111111111,
              "#46039f"
             ],
             [
              0.2222222222222222,
              "#7201a8"
             ],
             [
              0.3333333333333333,
              "#9c179e"
             ],
             [
              0.4444444444444444,
              "#bd3786"
             ],
             [
              0.5555555555555556,
              "#d8576b"
             ],
             [
              0.6666666666666666,
              "#ed7953"
             ],
             [
              0.7777777777777778,
              "#fb9f3a"
             ],
             [
              0.8888888888888888,
              "#fdca26"
             ],
             [
              1,
              "#f0f921"
             ]
            ],
            "type": "heatmap"
           }
          ],
          "histogram": [
           {
            "marker": {
             "pattern": {
              "fillmode": "overlay",
              "size": 10,
              "solidity": 0.2
             }
            },
            "type": "histogram"
           }
          ],
          "histogram2d": [
           {
            "colorbar": {
             "outlinewidth": 0,
             "ticks": ""
            },
            "colorscale": [
             [
              0,
              "#0d0887"
             ],
             [
              0.1111111111111111,
              "#46039f"
             ],
             [
              0.2222222222222222,
              "#7201a8"
             ],
             [
              0.3333333333333333,
              "#9c179e"
             ],
             [
              0.4444444444444444,
              "#bd3786"
             ],
             [
              0.5555555555555556,
              "#d8576b"
             ],
             [
              0.6666666666666666,
              "#ed7953"
             ],
             [
              0.7777777777777778,
              "#fb9f3a"
             ],
             [
              0.8888888888888888,
              "#fdca26"
             ],
             [
              1,
              "#f0f921"
             ]
            ],
            "type": "histogram2d"
           }
          ],
          "histogram2dcontour": [
           {
            "colorbar": {
             "outlinewidth": 0,
             "ticks": ""
            },
            "colorscale": [
             [
              0,
              "#0d0887"
             ],
             [
              0.1111111111111111,
              "#46039f"
             ],
             [
              0.2222222222222222,
              "#7201a8"
             ],
             [
              0.3333333333333333,
              "#9c179e"
             ],
             [
              0.4444444444444444,
              "#bd3786"
             ],
             [
              0.5555555555555556,
              "#d8576b"
             ],
             [
              0.6666666666666666,
              "#ed7953"
             ],
             [
              0.7777777777777778,
              "#fb9f3a"
             ],
             [
              0.8888888888888888,
              "#fdca26"
             ],
             [
              1,
              "#f0f921"
             ]
            ],
            "type": "histogram2dcontour"
           }
          ],
          "mesh3d": [
           {
            "colorbar": {
             "outlinewidth": 0,
             "ticks": ""
            },
            "type": "mesh3d"
           }
          ],
          "parcoords": [
           {
            "line": {
             "colorbar": {
              "outlinewidth": 0,
              "ticks": ""
             }
            },
            "type": "parcoords"
           }
          ],
          "pie": [
           {
            "automargin": true,
            "type": "pie"
           }
          ],
          "scatter": [
           {
            "fillpattern": {
             "fillmode": "overlay",
             "size": 10,
             "solidity": 0.2
            },
            "type": "scatter"
           }
          ],
          "scatter3d": [
           {
            "line": {
             "colorbar": {
              "outlinewidth": 0,
              "ticks": ""
             }
            },
            "marker": {
             "colorbar": {
              "outlinewidth": 0,
              "ticks": ""
             }
            },
            "type": "scatter3d"
           }
          ],
          "scattercarpet": [
           {
            "marker": {
             "colorbar": {
              "outlinewidth": 0,
              "ticks": ""
             }
            },
            "type": "scattercarpet"
           }
          ],
          "scattergeo": [
           {
            "marker": {
             "colorbar": {
              "outlinewidth": 0,
              "ticks": ""
             }
            },
            "type": "scattergeo"
           }
          ],
          "scattergl": [
           {
            "marker": {
             "colorbar": {
              "outlinewidth": 0,
              "ticks": ""
             }
            },
            "type": "scattergl"
           }
          ],
          "scattermap": [
           {
            "marker": {
             "colorbar": {
              "outlinewidth": 0,
              "ticks": ""
             }
            },
            "type": "scattermap"
           }
          ],
          "scattermapbox": [
           {
            "marker": {
             "colorbar": {
              "outlinewidth": 0,
              "ticks": ""
             }
            },
            "type": "scattermapbox"
           }
          ],
          "scatterpolar": [
           {
            "marker": {
             "colorbar": {
              "outlinewidth": 0,
              "ticks": ""
             }
            },
            "type": "scatterpolar"
           }
          ],
          "scatterpolargl": [
           {
            "marker": {
             "colorbar": {
              "outlinewidth": 0,
              "ticks": ""
             }
            },
            "type": "scatterpolargl"
           }
          ],
          "scatterternary": [
           {
            "marker": {
             "colorbar": {
              "outlinewidth": 0,
              "ticks": ""
             }
            },
            "type": "scatterternary"
           }
          ],
          "surface": [
           {
            "colorbar": {
             "outlinewidth": 0,
             "ticks": ""
            },
            "colorscale": [
             [
              0,
              "#0d0887"
             ],
             [
              0.1111111111111111,
              "#46039f"
             ],
             [
              0.2222222222222222,
              "#7201a8"
             ],
             [
              0.3333333333333333,
              "#9c179e"
             ],
             [
              0.4444444444444444,
              "#bd3786"
             ],
             [
              0.5555555555555556,
              "#d8576b"
             ],
             [
              0.6666666666666666,
              "#ed7953"
             ],
             [
              0.7777777777777778,
              "#fb9f3a"
             ],
             [
              0.8888888888888888,
              "#fdca26"
             ],
             [
              1,
              "#f0f921"
             ]
            ],
            "type": "surface"
           }
          ],
          "table": [
           {
            "cells": {
             "fill": {
              "color": "#EBF0F8"
             },
             "line": {
              "color": "white"
             }
            },
            "header": {
             "fill": {
              "color": "#C8D4E3"
             },
             "line": {
              "color": "white"
             }
            },
            "type": "table"
           }
          ]
         },
         "layout": {
          "annotationdefaults": {
           "arrowcolor": "#2a3f5f",
           "arrowhead": 0,
           "arrowwidth": 1
          },
          "autotypenumbers": "strict",
          "coloraxis": {
           "colorbar": {
            "outlinewidth": 0,
            "ticks": ""
           }
          },
          "colorscale": {
           "diverging": [
            [
             0,
             "#8e0152"
            ],
            [
             0.1,
             "#c51b7d"
            ],
            [
             0.2,
             "#de77ae"
            ],
            [
             0.3,
             "#f1b6da"
            ],
            [
             0.4,
             "#fde0ef"
            ],
            [
             0.5,
             "#f7f7f7"
            ],
            [
             0.6,
             "#e6f5d0"
            ],
            [
             0.7,
             "#b8e186"
            ],
            [
             0.8,
             "#7fbc41"
            ],
            [
             0.9,
             "#4d9221"
            ],
            [
             1,
             "#276419"
            ]
           ],
           "sequential": [
            [
             0,
             "#0d0887"
            ],
            [
             0.1111111111111111,
             "#46039f"
            ],
            [
             0.2222222222222222,
             "#7201a8"
            ],
            [
             0.3333333333333333,
             "#9c179e"
            ],
            [
             0.4444444444444444,
             "#bd3786"
            ],
            [
             0.5555555555555556,
             "#d8576b"
            ],
            [
             0.6666666666666666,
             "#ed7953"
            ],
            [
             0.7777777777777778,
             "#fb9f3a"
            ],
            [
             0.8888888888888888,
             "#fdca26"
            ],
            [
             1,
             "#f0f921"
            ]
           ],
           "sequentialminus": [
            [
             0,
             "#0d0887"
            ],
            [
             0.1111111111111111,
             "#46039f"
            ],
            [
             0.2222222222222222,
             "#7201a8"
            ],
            [
             0.3333333333333333,
             "#9c179e"
            ],
            [
             0.4444444444444444,
             "#bd3786"
            ],
            [
             0.5555555555555556,
             "#d8576b"
            ],
            [
             0.6666666666666666,
             "#ed7953"
            ],
            [
             0.7777777777777778,
             "#fb9f3a"
            ],
            [
             0.8888888888888888,
             "#fdca26"
            ],
            [
             1,
             "#f0f921"
            ]
           ]
          },
          "colorway": [
           "#636efa",
           "#EF553B",
           "#00cc96",
           "#ab63fa",
           "#FFA15A",
           "#19d3f3",
           "#FF6692",
           "#B6E880",
           "#FF97FF",
           "#FECB52"
          ],
          "font": {
           "color": "#2a3f5f"
          },
          "geo": {
           "bgcolor": "white",
           "lakecolor": "white",
           "landcolor": "#E5ECF6",
           "showlakes": true,
           "showland": true,
           "subunitcolor": "white"
          },
          "hoverlabel": {
           "align": "left"
          },
          "hovermode": "closest",
          "mapbox": {
           "style": "light"
          },
          "paper_bgcolor": "white",
          "plot_bgcolor": "#E5ECF6",
          "polar": {
           "angularaxis": {
            "gridcolor": "white",
            "linecolor": "white",
            "ticks": ""
           },
           "bgcolor": "#E5ECF6",
           "radialaxis": {
            "gridcolor": "white",
            "linecolor": "white",
            "ticks": ""
           }
          },
          "scene": {
           "xaxis": {
            "backgroundcolor": "#E5ECF6",
            "gridcolor": "white",
            "gridwidth": 2,
            "linecolor": "white",
            "showbackground": true,
            "ticks": "",
            "zerolinecolor": "white"
           },
           "yaxis": {
            "backgroundcolor": "#E5ECF6",
            "gridcolor": "white",
            "gridwidth": 2,
            "linecolor": "white",
            "showbackground": true,
            "ticks": "",
            "zerolinecolor": "white"
           },
           "zaxis": {
            "backgroundcolor": "#E5ECF6",
            "gridcolor": "white",
            "gridwidth": 2,
            "linecolor": "white",
            "showbackground": true,
            "ticks": "",
            "zerolinecolor": "white"
           }
          },
          "shapedefaults": {
           "line": {
            "color": "#2a3f5f"
           }
          },
          "ternary": {
           "aaxis": {
            "gridcolor": "white",
            "linecolor": "white",
            "ticks": ""
           },
           "baxis": {
            "gridcolor": "white",
            "linecolor": "white",
            "ticks": ""
           },
           "bgcolor": "#E5ECF6",
           "caxis": {
            "gridcolor": "white",
            "linecolor": "white",
            "ticks": ""
           }
          },
          "title": {
           "x": 0.05
          },
          "xaxis": {
           "automargin": true,
           "gridcolor": "white",
           "linecolor": "white",
           "ticks": "",
           "title": {
            "standoff": 15
           },
           "zerolinecolor": "white",
           "zerolinewidth": 2
          },
          "yaxis": {
           "automargin": true,
           "gridcolor": "white",
           "linecolor": "white",
           "ticks": "",
           "title": {
            "standoff": 15
           },
           "zerolinecolor": "white",
           "zerolinewidth": 2
          }
         }
        },
        "title": {
         "text": "Carte: PCA 3D su P(j|i) normalizzato + KMeans"
        }
       }
      }
     },
     "metadata": {},
     "output_type": "display_data"
    },
    {
     "name": "stdout",
     "output_type": "stream",
     "text": [
      "\n",
      "=== Carte per cluster (per interpretare gli archetipi) ===\n",
      "\n",
      "Cluster 0  (n=36):\n",
      "P.E.K.K.A, Balloon, Witch, Barbarians, Valkyrie, Skeleton Army, Prince, Wizard\n",
      "Mini P.E.K.K.A, Spear Goblins, Giant Skeleton, Minion Horde, Royal Giant, Guards, Lumberjack, Inferno Dragon\n",
      "Electro Wizard, Elite Barbarians, Executioner, Bandit, Bats, Ram Rider, Mega Knight, Magic Archer\n",
      "Golden Knight, Electro Giant, Rune Giant, Boss Bandit, Tombstone, Arrows, Freeze, Mirror\n",
      "Lightning, Zap, Clone, Void\n",
      "\n",
      "Cluster 1  (n=10):\n",
      "Skeletons, Ice Spirit, Ice Golem, Mighty Miner, Electro Spirit, Cannon, X-Bow, Goblin Drill\n",
      "Earthquake, Royal Delivery\n",
      "\n",
      "Cluster 2  (n=29):\n",
      "Knight, Archers, Goblins, Musketeer, Hog Rider, Princess, Fire Spirit, Miner\n",
      "Dart Goblin, Goblin Gang, Hunter, Rascals, Skeleton Barrel, Wall Breakers, Firecracker, Archer Queen\n",
      "Monk, Little Prince, Goblin Demolisher, Suspicious Bush, Goblinstein, Mortar, Inferno Tower, Bomb Tower\n",
      "Tesla, Fireball, Rocket, Goblin Barrel, The Log\n",
      "\n",
      "Cluster 3  (n=17):\n",
      "Ice Wizard, Royal Recruits, Zappies, Cannon Cart, Flying Machine, Royal Hogs, Fisherman, Skeleton King\n",
      "Berserker, Goblin Hut, Furnace, Goblin Cage, Poison, Graveyard, Barbarian Barrel, Giant Snowball\n",
      "Vines\n",
      "\n",
      "Cluster 4  (n=29):\n",
      "Giant, Minions, Golem, Bomber, Baby Dragon, Dark Prince, Three Musketeers, Lava Hound\n",
      "Sparky, Bowler, Battle Ram, Mega Minion, Night Witch, Royal Ghost, Goblin Giant, Electro Dragon\n",
      "Elixir Golem, Battle Healer, Skeleton Dragons, Mother Witch, Phoenix, Goblin Machine, Barbarian Hut, Elixir Collector\n",
      "Rage, Tornado, Heal Spirit, Goblin Curse, Spirit Empress\n",
      "\n",
      "Salvato mapping carta -> cluster in: /home/simonetto/project_royale/Royale_Predict/royale/card_clusters.json\n"
     ]
    }
   ],
   "source": [
    "import json\n",
    "import numpy as np\n",
    "import pandas as pd\n",
    "from pathlib import Path\n",
    "\n",
    "from sklearn.decomposition import PCA\n",
    "from sklearn.cluster import KMeans\n",
    "import plotly.express as px\n",
    "\n",
    "# ======================\n",
    "# Config\n",
    "# ======================\n",
    "CXC_PATH = Path(\"cxc.csv\")\n",
    "CARD_DICT_PATH = Path(\"./royale/cards_dict.json\")\n",
    "OUT_CLUSTER_JSON = Path(\"./royale/card_clusters.json\")\n",
    "\n",
    "N_CLUSTERS = 5          # numero atteso di archetipi (modifica a piacere)\n",
    "RANDOM_STATE = 42\n",
    "\n",
    "# ======================\n",
    "# Utils\n",
    "# ======================\n",
    "def load_cxc(path: Path) -> np.ndarray:\n",
    "    cxc = pd.read_csv(path, header=None).values\n",
    "    if cxc.shape[0] != cxc.shape[1]:\n",
    "        raise ValueError(f\"cxc deve essere quadrata, trovata {cxc.shape}\")\n",
    "    return cxc.astype(float)\n",
    "\n",
    "def load_cards_dict(path: Path) -> dict:\n",
    "    with open(path, \"r\", encoding=\"utf-8\") as f:\n",
    "        return json.load(f)\n",
    "\n",
    "def build_idx_to_label(cards_dict: dict, n: int) -> list[str]:\n",
    "    \"\"\"Restituisce un array labels di lunghezza n con i nomi in posizione idx.\n",
    "    Usa 'loc' se presente e consistente; altrimenti crea un mapping 0..n-1 in ordine di iterazione.\"\"\"\n",
    "    # raccogli eventuali loc\n",
    "    locs = []\n",
    "    for cid, info in cards_dict.items():\n",
    "        if isinstance(info, dict) and \"loc\" in info:\n",
    "            locs.append(info[\"loc\"])\n",
    "\n",
    "    use_loc = (\n",
    "        len(locs) == len(cards_dict) and\n",
    "        set(locs) == set(range(n))\n",
    "    )\n",
    "\n",
    "    labels = [None] * n\n",
    "    if use_loc:\n",
    "        for cid, info in cards_dict.items():\n",
    "            idx = int(info[\"loc\"])\n",
    "            labels[idx] = info.get(\"name\", cid)\n",
    "    else:\n",
    "        # fallback: assegna 0..n-1 in ordine, avvisa\n",
    "        print(\"[AVVISO] 'loc' mancante o incoerente: associo 0..N-1 in ordine di cards_dict.\")\n",
    "        for i, (cid, info) in enumerate(cards_dict.items()):\n",
    "            if i >= n:\n",
    "                break\n",
    "            labels[i] = info.get(\"name\", cid)\n",
    "    # riempi eventuali None con l'id carta\n",
    "    for i, val in enumerate(labels):\n",
    "        if val is None:\n",
    "            labels[i] = f\"card_{i}\"\n",
    "    return labels\n",
    "\n",
    "def row_normalize_no_diag(C: np.ndarray) -> np.ndarray:\n",
    "    \"\"\"Rende la diagonale 0 e normalizza ogni riga a somma 1 (se > 0).\"\"\"\n",
    "    C = C.copy().astype(float)\n",
    "    np.fill_diagonal(C, 0.0)\n",
    "    row_sum = C.sum(axis=1, keepdims=True)\n",
    "    P = np.divide(C, row_sum, out=np.zeros_like(C), where=row_sum > 0)\n",
    "    return P\n",
    "\n",
    "def center_columns(X: np.ndarray) -> np.ndarray:\n",
    "    \"\"\"Rimuove la media colonna per colonna.\"\"\"\n",
    "    return X - X.mean(axis=0, keepdims=True)\n",
    "\n",
    "# ======================\n",
    "# 1) Carica dati\n",
    "# ======================\n",
    "C = load_cxc(CXC_PATH)                          # (n, n)\n",
    "n_cards = C.shape[0]\n",
    "cards_dict = load_cards_dict(CARD_DICT_PATH)    # dict\n",
    "labels = build_idx_to_label(cards_dict, n_cards)\n",
    "\n",
    "# ======================\n",
    "# 2) Costruisci feature che enfatizzano le co-occorrenze (non la frequenza)\n",
    "#    - normalizzazione per riga: P(j|i)\n",
    "#    - centering colonne per togliere bias di carte molto popolari\n",
    "# ======================\n",
    "P = row_normalize_no_diag(C)    # (n, n)\n",
    "X = center_columns(P)           # (n, n)\n",
    "\n",
    "# ======================\n",
    "# 3) PCA in 3D\n",
    "# ======================\n",
    "pca = PCA(n_components=3, random_state=RANDOM_STATE)\n",
    "coords = pca.fit_transform(X)   # (n, 3)\n",
    "\n",
    "# ======================\n",
    "# 4) Clustering (KMeans) nello spazio PCA\n",
    "# ======================\n",
    "kmeans = KMeans(n_clusters=N_CLUSTERS, n_init=\"auto\", random_state=RANDOM_STATE)\n",
    "cluster_labels = kmeans.fit_predict(coords)     # (n,)\n",
    "\n",
    "# ======================\n",
    "# 5) Visualizza 3D\n",
    "# ======================\n",
    "fig = px.scatter_3d(\n",
    "    x=coords[:, 0], y=coords[:, 1], z=coords[:, 2],\n",
    "    text=labels,\n",
    "    color=cluster_labels.astype(str),\n",
    "    title=\"Carte: PCA 3D su P(j|i) normalizzato + KMeans\"\n",
    ")\n",
    "fig.update_traces(marker=dict(size=5))\n",
    "fig.show()\n",
    "\n",
    "# ======================\n",
    "# 6) Stampa carte per cluster per interpretazione\n",
    "# ======================\n",
    "print(\"\\n=== Carte per cluster (per interpretare gli archetipi) ===\")\n",
    "for cl in range(N_CLUSTERS):\n",
    "    cards_in_cluster = [labels[i] for i, lab in enumerate(cluster_labels) if lab == cl]\n",
    "    print(f\"\\nCluster {cl}  (n={len(cards_in_cluster)}):\")\n",
    "    # stampa in righe larghe\n",
    "    line = []\n",
    "    for name in cards_in_cluster:\n",
    "        line.append(name)\n",
    "        if len(line) >= 8:\n",
    "            print(\", \".join(line))\n",
    "            line = []\n",
    "    if line:\n",
    "        print(\", \".join(line))\n",
    "\n",
    "# ======================\n",
    "# 7) Salva mappa carta -> cluster (per classificare i deck in seguito)\n",
    "# ======================\n",
    "cid_to_cluster = {}\n",
    "# dobbiamo ricostruire l'indice per ogni cid in base a 'loc' coerente con labels\n",
    "# creiamo una mappa name->idx dalle labels per associare i cluster\n",
    "name_to_idx = {labels[i]: i for i in range(n_cards)}\n",
    "\n",
    "for cid, info in cards_dict.items():\n",
    "    name = info.get(\"name\", cid)\n",
    "    idx = name_to_idx.get(name, None)\n",
    "    if idx is not None:\n",
    "        cid_to_cluster[cid] = int(cluster_labels[idx])\n",
    "\n",
    "OUT_CLUSTER_JSON.parent.mkdir(parents=True, exist_ok=True)\n",
    "with open(OUT_CLUSTER_JSON, \"w\", encoding=\"utf-8\") as f:\n",
    "    json.dump(cid_to_cluster, f, indent=2, ensure_ascii=False)\n",
    "\n",
    "print(f\"\\nSalvato mapping carta -> cluster in: {OUT_CLUSTER_JSON.resolve()}\")\n",
    "\n",
    "# ======================\n",
    "# 8) Funzioni di supporto (facoltative) per classificare un deck\n",
    "# ======================\n",
    "def classify_deck_by_majority(deck_ids, cid2cluster: dict) -> int | None:\n",
    "    cl = [cid2cluster[cid] for cid in deck_ids if cid in cid2cluster]\n",
    "    if not cl:\n",
    "        return None\n",
    "    # cluster più frequente\n",
    "    return max(set(cl), key=cl.count)\n",
    "\n",
    "def deck_centroid(coords_3d: np.ndarray, card_indices: list[int]) -> np.ndarray:\n",
    "    if not card_indices:\n",
    "        return np.zeros(3)\n",
    "    return coords_3d[card_indices].mean(axis=0)\n",
    "\n",
    "# Esempio d'uso (commentato):\n",
    "# my_deck_ids = [\"26000021\", \"26000049\", ...]  # 8 carte\n",
    "# archetipo = classify_deck_by_majority(my_deck_ids, cid_to_cluster)\n",
    "# print(\"Archetipo cluster:\", archetipo)\n"
   ]
  },
  {
   "cell_type": "code",
   "execution_count": 15,
   "id": "d252e97f",
   "metadata": {},
   "outputs": [
    {
     "name": "stdout",
     "output_type": "stream",
     "text": [
      "Coordinate + cluster deck salvate in: /home/simonetto/project_royale/Royale_Predict/decks/deck_coords.csv\n"
     ]
    },
    {
     "data": {
      "application/vnd.plotly.v1+json": {
       "config": {
        "plotlyServerURL": "https://plot.ly"
       },
       "data": [
        {
         "hoverinfo": "skip",
         "marker": {
          "opacity": 0.08,
          "size": 3
         },
         "mode": "markers",
         "name": "Carte",
         "showlegend": false,
         "type": "scatter3d",
         "x": {
          "bdata": "Pbza8FX6rD8K4+Fsuv+kP7eHOdiRKKw/z1z12nGrqr/l4vfTNfSYv8yZPebYj6O/UZ2r9CFMob/zRg79yXSav2xhwQ9CzKO/n3j6zQj+qr/8hE9MHQW1PxR71bcZ+WI/y7xAArf+k7+hwqowWyGiv6f6XEnLe6I/biRE2rLtnb/EGsPdPYyfv3GlzWRrZJy/Evx6sTdWkb/SrQlk6MpGPzt2wYiejZi/7cHvPYiUoj9mPyN1mH2jv/hs0sJXbnw/YL5Cnt+nXT8zTNJGqQWHv54i3JsbzrI/2edadNZdob8ot5pvjoqlvxo8VTJWdq+/Lm66WhLauj8+JW9o0sioP8NF/WzWs4M/ceiIwdjLq7+jB5YLwNWjv+8hxGSFWKG/na4tyZtPo7+fWsS4M8OkvyML6TvFEb0/+XIcai2cqr/bqzy3nuiiP6hJ5dszb5w/6bIOUrYkm79YxVR7tEyhv1jLE/2m2ZY/1g90npdKh79FXcXfBlmbv9HlTjn9tne/89CzQ5wmrL8/qFKOuKSJvy3aZZc7gJC/s9Zofauzkr/LbBFsj2egvwhWwJfzcqg/3thWJvChUz//8gUdugSLv+P23mbAC4w/XHeNwnkpo78arpwnZgqjP/jTgWmEimO/KlFtRguOsr+rlk1qDaFav0yZFxbIA42/3qDD6x6grL/ol+tiZmWVP1aJxgfgGr0/Q4F2mcrYr79jXyeD9TOzv+Pw2RQuOEc/IL00vSTApz/ZEzKyHBORv07zfxsmvZM/ObibOz1Cr78qGWK+Qw+jv2+F04FVebQ/Wam7kzfMor/Dto3WcC2xvzAl+f2Teac/mV9j2ZMmsD+Palf2qAuyv92nspru1qE/dbOU1zPKlT+4gfYSAbWpv7AcxlInvos/QFWG+VwYhL/Z4FzOZCq5P5UpmgSEY4A/NatYDKrkqD/aWdWaI/ufP+HAqSTGtak/8qe8APews7+ActxAwzSyPzHDZeo6RaG/HKqtzsjAxD8+gty6RiuPvxG3Qi9BRj+/GFnmRhzil79OHlm4cgezP9WmR2Gvqp0/Gd+DamUIiL+ONQm5XUaov8XSl4G/pq0/bRHfnrCRpT/FWaQx7amkvwqeTTJs8aG/VwCVvMMznr/JBGl/BhCOv2epVKtWapA/kEW2SfaBgL/bZ5MnRTCtP+Yc8WzZwY+/hlzSAnlnoL9dNde4ns3DPxuvyiF7FY2/SZODKfqGo78FpO8rkkigP5bE7K6LBcA/77VUTrA6oL+l1ZNiRxyqv+S1jYOQaKK/sv7AeZkhaL8=",
          "dtype": "f8"
         },
         "y": {
          "bdata": "eXuLeK3qhb/p+q/Whj9CvymfqlUCKHq/PqxyGoiVaj9vx9yaAzuEvxjSRaekvvG+Tpt+WbdIkb8bQyQ8Hw+cv93zVVF+TZi/B4CO5Q35oT/TgUMydQpfv518D/Srv5q/+SmByHKXqr9JsjmBA3hzv1BVKf5k7Yq/VSANtCLXkz91ZS1VJ32ivxEHnLJA9aa/kGwpCh3jnL8xCJACbcOXv/nWJp6UzKC/UOJDTQ+VoL++Zb8bCueov85CcNGC/aU/Wruz5d7HV7+HOgUgsbphP2vAInLcnaq/Kb1K56ofd78fKzJEel2UP/nvOKN2dIi/zzvUH/SGh7/iVC2MOuyDv1SuS7k51G+/zVeL/wG1nb9sMeyCb5OOP+OyzKsWQ4q/Se4+8aUqdL+ObdIsvAiYv+ZLQNSpt5E/3ByatfWAZ78rGkmrYTmfv+dJbaCkl6S/stYNOSP+oL+Zv3/vVeuhv1Nd4WKNNXs/ZrsSUALvkb/Kr654ovGbv+RkS9qLx5s/xfr2G04Ghz/sD71fxf6iv92A/vLFFIY/x1/nMzkqjb8knP2+IbmwP7eEef1xxnK/yUPdJAZmiD/8dIcwcoefv3YBKA4hfZu/XUEzTFwzqT+d42k1v/mPv8qAZrmXFJ0/95Ooq3rKoj/T//stjT2pPww+TLrZfaG/b7Y3HGWekz9AfDXfeWudv/SjCgGoHVs/cPKQY0dqkr+CFLWs7umZPzdnmHNHMYU/L0m2nXPZi79OG5bIoJtuP6t0K9eyop8/1dZTzOv4fr+wEJM3hnuNP52iOkmDZ5A/h5DS4XiAQj/UoUVRkoqEP6s365CEU3k/+3qh3Czfpj+NpkPO2ni0P7mlyeGNfo6/nVAhW/VLej/QPJd3B5qrv8acUfyy2bE/Pl7T0m6Pf78zy34lK12Gv3rlg5sqNLk/TQij3fMEjz+msIrXSkutv8aTt+cWWpM/dGd/fNgGir/RWfnLyS2Zv6n2YCQDGqA/R77bmtfapj+XLtozfwd6P0Yo6nbKWZI/VB3LgRFGsD9JR9CRW+qxP9eBuT4uPJu/8yFTbHZmmL/QyTMUbvd2v740mwLKzaC//dwD5JyIqL+gzCix3y2av4uo5VbIDaS/GjPdpUlKdb8ZcVolDQGev0xYZwkh6qQ/UYrUui0Nvz9lSrUwWx6Rv1v0s5X1zZI/NkGtLg7goL9NzPBMdBCXvxz7LNA5b6w/YjVX+aGOiT/Vi4bpuTCnPxeDG+Jv2o4/wmzsc/yWgL8rko6HYwSRPwFAeWRKiZM/tzAqLaTKlD8=",
          "dtype": "f8"
         },
         "z": {
          "bdata": "ZF0sZfv9TL8AjZrTYLGaP6+AcE/7KVG/2yeJxb5rkz/B/LFkasiDP+O2cUN6uHc/inzfxgTKdT9c+ZW0+tyDv61L4xqpqIA/sQwfCsYLij8V4KYd8gCMP8WxVyrCKj6/smK9VUp9fb+sHlHIuwihPyNmiQROzZA/pZUXHSWPJz+hRQmnfYIyP/WxeHBa31o/nruw9UglcL+jmNPtG6Sfv77G7gXzZne/OvQ/ukK/eD+ekyv5seZ3PzStEdBifoq/cvDKtsxbjD+i/BxVAWSDv9u1C3o3RqC/pUE1yHPPlT+2XprKTAqnPxCBPKXbcnK/+/M9wUYoij/cb7j75UdzvxIVLHW/6HG/6hTiWaYHmz81oCLzMWOAv29NlCkV43E/ELyTFzMNkT9AaHJtFXhzv1FNoQZcXqg/rRi6Bi59oD/cSDs29kaYv5qkKP+3Qp6/ZrH0tTD4Zj//H8hMBaqYPzyS8EHWoqE/4eo1S6G9ZT+JQhWWH4RbP9M5nR7R8LG/5yLK/1/ElT/QdfKX+7CPv+ZNgBINg4c/T0f04X++Zj/KHNinGsW6vwUBtzrSU6K/n0mkcaabp79/aRj36Ep+v0CJFc5wz6S/BswFcEs9tL+MAMET93qmv+oTkHc83am/a6yok1qOrT9Rf5E2z02HP0UumJLj8Hi/O8XmG0IMgz/3IPxTZuk9P71s2tr69JO/cPmZqrS2gD83MjCPd+elP0BTtET/kJS/iU793uKiVL++0JTDmZqbvzlXy3H4n5s/F8ffk48TUT9cHNNILl41v3AGTu1HT5o/2c4c8Itleb8Cr9aHlvSnP2eJ3XjccJs/F8AOGmVyYT8ac+3m9rCmP48HhpjXtKm/B9ji3dC+nb9HTO9wzNalvx3wVakux5S/Go8RI6dxlb+bdh8LqXOCPxqgBtpoiKq/T1IWE8BHm7/9/c309EGZvwd3sRgV/Uo/ePKPTHgvqj/Va8YrieaBPzhS7K1pHpo/gE9HAFjKuT+bUpsNZfWSv6tSFH+kWom/bS+b1VX1qL/6/AmTMYqYP8YXlMjYcow/bD0pSpqwTr9Vclu/AieWP2vLW0AJvYS/iUYEAZrBm78mzQopKLhLv3AK4vx5qHk/Hzfos5A0XL9GfNEZAsFxP92BIofSM4C/mjdrsPj5m79R/b7AGR1qPzW7Agf/AXQ/3wyD5beAk7+DsDm6Uo2gP9r0ULhW0G2/mLV98ea0qD/wHOEaJrRmP/BdMOSOapE/sCYKL1l+Kz9QUO//gcapPx34lh/fjVw/31sUMXmEbL8=",
          "dtype": "f8"
         }
        },
        {
         "hoverinfo": "text",
         "hovertext": [
          "Deck 1 — 8/8 carte mappate<br>Wizard, Bats, Skeleton Army, Goblin Barrel, Fireball, Electro Giant, Baby Dragon, Princess",
          "Deck 9 — 8/8 carte mappate<br>Mega Knight, Valkyrie, Miner, Bats, Cannon, Witch, Guards, Arrows",
          "Deck 47 — 8/8 carte mappate<br>Mega Knight, Skeleton Barrel, Valkyrie, Wall Breakers, Firecracker, Vines, Witch, Dart Goblin",
          "Deck 59 — 8/8 carte mappate<br>Firecracker, Mega Knight, Arrows, Tesla, Guards, Electro Wizard, Cannon Cart, Mini P.E.K.K.A",
          "Deck 65 — 8/8 carte mappate<br>P.E.K.K.A, Firecracker, Mighty Miner, Valkyrie, Goblin Barrel, Suspicious Bush, Inferno Dragon, Arrows",
          "Deck 73 — 8/8 carte mappate<br>Witch, Goblin Barrel, Bats, Suspicious Bush, Dart Goblin, Skeleton King, Baby Dragon, The Log",
          "Deck 83 — 8/8 carte mappate<br>Mega Knight, Inferno Dragon, Tesla, Dart Goblin, Lumberjack, Goblin Gang, Arrows, Zap",
          "Deck 107 — 8/8 carte mappate<br>Firecracker, Wizard, Lightning, Hog Rider, Princess, Mini P.E.K.K.A, Goblin Barrel, Skeleton Army",
          "Deck 149 — 8/8 carte mappate<br>Wall Breakers, Valkyrie, Guards, Princess, Heal Spirit, Arrows, Bats, Spear Goblins",
          "Deck 164 — 8/8 carte mappate<br>Witch, Mega Knight, Skeleton Army, Goblin Barrel, Arrows, Tesla, Valkyrie, Dart Goblin",
          "Deck 173 — 8/8 carte mappate<br>Bats, Mega Knight, Goblin Gang, Dart Goblin, Arrows, Prince, Cannon, Wall Breakers",
          "Deck 217 — 8/8 carte mappate<br>Mega Knight, Witch, Skeleton King, Firecracker, Valkyrie, Dart Goblin, Goblin Barrel, Cannon",
          "Deck 221 — 8/8 carte mappate<br>Valkyrie, Dart Goblin, Boss Bandit, Arrows, Goblin Gang, Firecracker, Mini P.E.K.K.A, Hog Rider",
          "Deck 228 — 8/8 carte mappate<br>Valkyrie, Executioner, Arrows, Inferno Tower, Tornado, Firecracker, P.E.K.K.A, Goblin Barrel",
          "Deck 262 — 8/8 carte mappate<br>Bats, Dart Goblin, Wizard, Hog Rider, Bandit, Princess, Royal Hogs, Spear Goblins",
          "Deck 287 — 8/8 carte mappate<br>Mega Knight, Witch, Valkyrie, Goblin Barrel, Arrows, Dart Goblin, Skeleton Barrel, Firecracker",
          "Deck 288 — 8/8 carte mappate<br>Mega Knight, Firecracker, Arrows, Prince, Goblin Barrel, Goblin Gang, Zap, Dart Goblin",
          "Deck 323 — 8/8 carte mappate<br>Valkyrie, Goblin Barrel, Goblin Curse, Goblin Gang, Dart Goblin, Prince, Rage, Suspicious Bush",
          "Deck 359 — 8/8 carte mappate<br>Mega Knight, Bats, Bandit, Arrows, Wall Breakers, Archer Queen, Prince, Goblin Gang",
          "Deck 376 — 8/8 carte mappate<br>Valkyrie, Dart Goblin, Rocket, Arrows, Skeleton Army, Goblin Gang, Clone, Mini P.E.K.K.A",
          "Deck 424 — 8/8 carte mappate<br>Witch, Lumberjack, Fireball, Boss Bandit, Bats, Electro Spirit, Arrows, Skeleton Barrel",
          "Deck 462 — 8/8 carte mappate<br>Valkyrie, Wall Breakers, Goblin Barrel, Bandit, Bats, Princess, Skeleton Army, Spear Goblins",
          "Deck 463 — 8/8 carte mappate<br>Mega Knight, Firecracker, Skeleton Barrel, Goblin Gang, Hog Rider, Arrows, Bats, Mini P.E.K.K.A",
          "Deck 474 — 8/8 carte mappate<br>Firecracker, Mega Knight, Arrows, Knight, Skeleton Barrel, Dart Goblin, Goblin Barrel, Baby Dragon",
          "Deck 500 — 8/8 carte mappate<br>Firecracker, Valkyrie, Spear Goblins, Arrows, Goblin Gang, Mini P.E.K.K.A, Ice Wizard, Hog Rider",
          "Deck 508 — 8/8 carte mappate<br>Mega Knight, Valkyrie, Hog Rider, Inferno Tower, Magic Archer, Royal Hogs, Rocket, Witch",
          "Deck 529 — 8/8 carte mappate<br>Mega Knight, Firecracker, Valkyrie, Goblin Barrel, Witch, Mini P.E.K.K.A, Goblin Gang, Golden Knight",
          "Deck 532 — 8/8 carte mappate<br>Mega Knight, Wall Breakers, Goblin Gang, Dart Goblin, Zap, Skeleton Barrel, Bats, Prince",
          "Deck 544 — 8/8 carte mappate<br>Firecracker, Inferno Dragon, Dart Goblin, Arrows, Mini P.E.K.K.A, Bowler, Knight, Goblin Barrel",
          "Deck 546 — 8/8 carte mappate<br>Knight, Firecracker, Hog Rider, Wall Breakers, Witch, Giant Skeleton, P.E.K.K.A, Bandit",
          "Deck 552 — 8/8 carte mappate<br>Goblin Gang, Mega Knight, Hog Rider, Fireball, Zap, Tesla, Skeleton Army, Wizard",
          "Deck 555 — 8/8 carte mappate<br>Firecracker, Valkyrie, Hog Rider, Goblin Gang, Arrows, Elite Barbarians, Electro Wizard, Dart Goblin",
          "Deck 561 — 8/8 carte mappate<br>Valkyrie, Mega Knight, Goblin Barrel, Dart Goblin, Fireball, Ram Rider, Zap, Tombstone",
          "Deck 563 — 8/8 carte mappate<br>Firecracker, Mega Knight, Hog Rider, Ice Spirit, Zap, Goblin Gang, Bats, Cannon Cart",
          "Deck 567 — 8/8 carte mappate<br>Valkyrie, Goblin Barrel, Arrows, Witch, Tesla, Skeleton Barrel, Zap, Giant Skeleton",
          "Deck 577 — 8/8 carte mappate<br>Skeleton Barrel, Witch, Arrows, Princess, Freeze, Royal Recruits, Valkyrie, Mirror",
          "Deck 659 — 8/8 carte mappate<br>Lumberjack, Mega Knight, Wall Breakers, Prince, Archer Queen, Goblin Gang, Arrows, Bats",
          "Deck 673 — 8/8 carte mappate<br>Mega Knight, Valkyrie, Magic Archer, Inferno Tower, Vines, Hog Rider, Witch, Rocket",
          "Deck 675 — 8/8 carte mappate<br>Mega Knight, Bats, Wall Breakers, Prince, Bandit, Archer Queen, Goblin Gang, Arrows",
          "Deck 718 — 8/8 carte mappate<br>Witch, Mega Knight, Dart Goblin, Bats, Arrows, Goblin Gang, Bandit, Knight",
          "Deck 733 — 8/8 carte mappate<br>Zap, Dart Goblin, Mirror, Rascals, Prince, Bandit, Ice Spirit, Bowler",
          "Deck 736 — 8/8 carte mappate<br>Firecracker, Valkyrie, Bats, Giant Skeleton, Furnace, Goblin Barrel, Arrows, Hog Rider",
          "Deck 750 — 8/8 carte mappate<br>Witch, Mega Knight, Knight, Valkyrie, Mini P.E.K.K.A, Skeleton Army, Hog Rider, Fireball",
          "Deck 768 — 8/8 carte mappate<br>Mega Knight, Archers, Sparky, Bats, Princess, The Log, Skeleton Army, Clone",
          "Deck 770 — 8/8 carte mappate<br>Skeleton Barrel, Dart Goblin, Mini P.E.K.K.A, Mega Knight, Elite Barbarians, The Log, Arrows, Tesla",
          "Deck 787 — 8/8 carte mappate<br>Firecracker, Mega Knight, P.E.K.K.A, Golden Knight, Bats, Spear Goblins, Goblin Barrel, Fire Spirit",
          "Deck 827 — 8/8 carte mappate<br>Wizard, Cannon, Arrows, Giant Skeleton, Witch, Clone, Skeleton Barrel, Cannon Cart",
          "Deck 833 — 8/8 carte mappate<br>Firecracker, Valkyrie, Fireball, Skeleton Barrel, Skeleton Army, Guards, Hog Rider, Mini P.E.K.K.A",
          "Deck 840 — 8/8 carte mappate<br>Valkyrie, Barbarians, Firecracker, Inferno Tower, Royal Recruits, Arrows, Hog Rider, Lightning",
          "Deck 851 — 8/8 carte mappate<br>Firecracker, Mega Knight, Goblin Gang, Valkyrie, Minions, Arrows, Goblin Barrel, Zap",
          "Deck 873 — 8/8 carte mappate<br>Bats, Dart Goblin, Mega Knight, Prince, Skeleton Barrel, Ice Spirit, Tornado, Arrows",
          "Deck 876 — 8/8 carte mappate<br>Wall Breakers, Firecracker, Boss Bandit, Dark Prince, The Log, Minion Horde, Elite Barbarians, Goblin Gang",
          "Deck 905 — 8/8 carte mappate<br>Tesla, Mega Knight, Inferno Dragon, Electro Wizard, Fireball, Goblin Gang, Arrows, Cannon Cart",
          "Deck 914 — 8/8 carte mappate<br>Firecracker, Valkyrie, Goblin Gang, Furnace, Mini P.E.K.K.A, Hog Rider, Arrows, Electro Wizard",
          "Deck 926 — 8/8 carte mappate<br>Firecracker, Dart Goblin, Bandit, Princess, Bats, Zap, Mini P.E.K.K.A, Electro Giant",
          "Deck 936 — 8/8 carte mappate<br>Wizard, Mega Knight, Wall Breakers, Skeleton Army, Zap, Knight, Goblin Barrel, Fireball",
          "Deck 943 — 8/8 carte mappate<br>Valkyrie, Zap, Hog Rider, The Log, Dart Goblin, Electro Wizard, Prince, Goblin Barrel",
          "Deck 950 — 8/8 carte mappate<br>Mega Knight, Valkyrie, Boss Bandit, Ice Wizard, Magic Archer, Goblin Gang, Spear Goblins, Fireball",
          "Deck 955 — 8/8 carte mappate<br>Mega Knight, Valkyrie, Firecracker, Hog Rider, Electro Wizard, Fireball, Inferno Tower, Skeleton Army",
          "Deck 966 — 8/8 carte mappate<br>Witch, Valkyrie, Mega Knight, Hog Rider, Skeleton Army, Inferno Tower, Arrows, Knight",
          "Deck 972 — 8/8 carte mappate<br>Mega Knight, Royal Giant, Goblin Gang, Valkyrie, Furnace, Goblin Barrel, Witch, Mini P.E.K.K.A",
          "Deck 978 — 8/8 carte mappate<br>Goblin Barrel, Firecracker, Mega Knight, Skeleton Barrel, Bats, Skeleton Army, Vines, Goblin Gang",
          "Deck 988 — 8/8 carte mappate<br>Mega Knight, Firecracker, Prince, Wizard, Inferno Tower, Goblin Barrel, Ice Spirit, Zap",
          "Deck 996 — 8/8 carte mappate<br>Mega Knight, Skeleton Barrel, Witch, Firecracker, Fireball, Clone, Tesla, Zap",
          "Deck 1007 — 8/8 carte mappate<br>Goblin Barrel, Valkyrie, Mini P.E.K.K.A, Spirit Empress, Arrows, Dart Goblin, Vines, Goblin Gang",
          "Deck 1017 — 8/8 carte mappate<br>Dart Goblin, Skeleton Barrel, Princess, Hog Rider, Freeze, Mini P.E.K.K.A, Inferno Tower, Minion Horde",
          "Deck 1023 — 8/8 carte mappate<br>Firecracker, Valkyrie, Royal Giant, Bats, Goblin Barrel, Skeleton Barrel, Hog Rider, Arrows",
          "Deck 1024 — 8/8 carte mappate<br>Mega Knight, Knight, Dart Goblin, Arrows, Bats, Vines, Mini P.E.K.K.A, Ram Rider",
          "Deck 1045 — 8/8 carte mappate<br>Zap, Firecracker, Rocket, Princess, Goblin Gang, Hog Rider, Minions, Mini P.E.K.K.A",
          "Deck 1050 — 8/8 carte mappate<br>Witch, Mega Knight, Goblin Gang, Barbarian Barrel, Firecracker, Goblin Barrel, Bats, Fireball",
          "Deck 1054 — 8/8 carte mappate<br>Witch, Valkyrie, Bowler, Goblin Gang, Knight, Electro Wizard, Arrows, Fireball",
          "Deck 1065 — 8/8 carte mappate<br>Firecracker, Mega Knight, Hog Rider, Goblin Barrel, Mini P.E.K.K.A, Witch, Skeleton Army, Suspicious Bush",
          "Deck 1083 — 8/8 carte mappate<br>Firecracker, Mega Knight, Inferno Dragon, Fireball, Furnace, Skeleton Army, Inferno Tower, Hog Rider",
          "Deck 1084 — 8/8 carte mappate<br>Mega Knight, Dart Goblin, Goblin Barrel, Skeletons, Bandit, Prince, Goblin Gang, Vines",
          "Deck 1087 — 8/8 carte mappate<br>Witch, Valkyrie, Hog Rider, The Log, Tombstone, Goblinstein, Magic Archer, Arrows",
          "Deck 1106 — 8/8 carte mappate<br>Valkyrie, Goblin Cage, Skeleton Army, Ram Rider, Tesla, Wizard, Rascals, Magic Archer",
          "Deck 1135 — 8/8 carte mappate<br>Mega Knight, Dart Goblin, Miner, Skeleton Barrel, Bats, Goblin Gang, Zap, Wall Breakers",
          "Deck 1146 — 8/8 carte mappate<br>Valkyrie, Mega Knight, Wizard, Skeleton Barrel, Skeleton Army, Tesla, Hog Rider, Arrows",
          "Deck 1158 — 8/8 carte mappate<br>Wizard, Mega Knight, Prince, Bandit, Electro Wizard, Princess, The Log, Fire Spirit",
          "Deck 1167 — 8/8 carte mappate<br>Valkyrie, Lumberjack, Firecracker, Guards, Dart Goblin, Hog Rider, Mini P.E.K.K.A, Arrows",
          "Deck 1181 — 8/8 carte mappate<br>Firecracker, Bats, Zap, Goblin Gang, Wall Breakers, Mega Knight, Miner, Prince",
          "Deck 1186 — 8/8 carte mappate<br>Mega Knight, Witch, Bats, Dart Goblin, Hog Rider, Valkyrie, Fireball, Skeleton Army",
          "Deck 1194 — 8/8 carte mappate<br>Valkyrie, Mega Knight, Mirror, Zap, Dart Goblin, Goblin Gang, Goblin Barrel, Ice Spirit",
          "Deck 1215 — 8/8 carte mappate<br>Skeleton Barrel, Wall Breakers, P.E.K.K.A, Skeleton Army, Furnace, Electro Wizard, Vines, The Log",
          "Deck 1216 — 8/8 carte mappate<br>Witch, Mega Knight, Wall Breakers, Miner, Prince, Zap, Minions, Mighty Miner",
          "Deck 1255 — 8/8 carte mappate<br>Mega Knight, Knight, Dart Goblin, Arrows, Bats, Vines, Mini P.E.K.K.A, Ram Rider",
          "Deck 1270 — 8/8 carte mappate<br>Goblin Barrel, Archers, Dart Goblin, Skeleton Army, Arrows, Knight, Mirror, Mini P.E.K.K.A",
          "Deck 1299 — 8/8 carte mappate<br>Dart Goblin, Mega Knight, Bats, Electro Wizard, The Log, Lumberjack, Hog Rider, Firecracker",
          "Deck 1329 — 8/8 carte mappate<br>Mega Knight, Witch, Guards, Tornado, Princess, Goblin Gang, Goblin Barrel, Dart Goblin",
          "Deck 1346 — 8/8 carte mappate<br>Mega Knight, Furnace, Miner, Inferno Dragon, Goblin Gang, Fireball, Bats, Skeleton Barrel",
          "Deck 1348 — 8/8 carte mappate<br>Mega Knight, Firecracker, Zap, Minions, Goblin Gang, Lumberjack, Skeleton Barrel, Goblin Barrel",
          "Deck 1350 — 8/8 carte mappate<br>Royal Recruits, Wizard, Hog Rider, Mini P.E.K.K.A, Guards, Wall Breakers, Goblin Gang, Arrows",
          "Deck 1357 — 8/8 carte mappate<br>Mega Knight, Wall Breakers, Firecracker, Bats, Boss Bandit, Prince, Arrows, Goblin Gang",
          "Deck 1358 — 8/8 carte mappate<br>Goblin Barrel, Mega Knight, Baby Dragon, Royal Hogs, The Log, Firecracker, Barbarians, Skeleton Army",
          "Deck 1369 — 8/8 carte mappate<br>Firecracker, Witch, Goblin Barrel, Boss Bandit, Tesla, Ram Rider, Royal Hogs, Skeleton Army",
          "Deck 1375 — 8/8 carte mappate<br>Dart Goblin, Knight, Bats, Skeleton Army, Goblin Barrel, Mini P.E.K.K.A, The Log, Mega Knight",
          "Deck 1381 — 8/8 carte mappate<br>Mega Knight, Firecracker, Guards, The Log, Hog Rider, Zap, Inferno Tower, Goblin Barrel",
          "Deck 1407 — 8/8 carte mappate<br>Executioner, Goblin Barrel, Bats, Arrows, Tornado, Bowler, Goblin Gang, Hog Rider",
          "Deck 1420 — 8/8 carte mappate<br>Skeleton Barrel, Witch, Giant Skeleton, Mini P.E.K.K.A, Princess, Arrows, Goblin Demolisher, Tombstone",
          "Deck 1429 — 8/8 carte mappate<br>Mega Knight, Valkyrie, Firecracker, Mini P.E.K.K.A, Skeleton Barrel, Skeleton Army, Hog Rider, Dart Goblin",
          "Deck 1431 — 8/8 carte mappate<br>Mega Knight, Witch, Clone, Goblin Gang, Goblin Barrel, Dart Goblin, Royal Hogs, Skeleton Barrel",
          "Deck 1470 — 8/8 carte mappate<br>Firecracker, Mega Knight, Tornado, Valkyrie, Wall Breakers, Mini P.E.K.K.A, Bats, Goblin Barrel",
          "Deck 1483 — 8/8 carte mappate<br>Mega Knight, Battle Ram, Bats, Witch, Princess, Dart Goblin, Knight, Skeleton Army",
          "Deck 1508 — 8/8 carte mappate<br>Valkyrie, Firecracker, Hog Rider, Fireball, Zappies, Knight, Prince, Electro Wizard",
          "Deck 1529 — 8/8 carte mappate<br>Mega Knight, Giant Snowball, Musketeer, Prince, Goblin Gang, Boss Bandit, Wall Breakers, Arrows",
          "Deck 1560 — 8/8 carte mappate<br>Witch, P.E.K.K.A, Goblin Barrel, Firecracker, Zappies, Arrows, Freeze, Princess",
          "Deck 1562 — 8/8 carte mappate<br>Dart Goblin, Skeleton Barrel, Mega Knight, Firecracker, Goblin Gang, Inferno Dragon, Miner, Zap",
          "Deck 1572 — 8/8 carte mappate<br>Goblin Barrel, Skeleton Army, Goblin Gang, Minions, The Log, Miner, Mini P.E.K.K.A, Princess",
          "Deck 1574 — 8/8 carte mappate<br>Mega Knight, Witch, Bats, Inferno Dragon, Arrows, Goblin Barrel, Firecracker, Knight",
          "Deck 1587 — 8/8 carte mappate<br>Mega Knight, Valkyrie, Witch, Wall Breakers, Bats, The Log, Skeleton Army, Fireball",
          "Deck 1590 — 8/8 carte mappate<br>Archers, Skeletons, Bats, Clone, Skeleton Barrel, Arrows, Giant Skeleton, Dart Goblin",
          "Deck 1596 — 8/8 carte mappate<br>Valkyrie, Tesla, Mini P.E.K.K.A, Balloon, Magic Archer, Miner, Arrows, Goblin Gang",
          "Deck 1611 — 8/8 carte mappate<br>Goblin Barrel, Valkyrie, Mini P.E.K.K.A, Dart Goblin, Princess, Firecracker, Elixir Golem, Baby Dragon",
          "Deck 1618 — 8/8 carte mappate<br>Valkyrie, Dart Goblin, Witch, Bandit, The Log, Mini P.E.K.K.A, Goblin Barrel, Fireball",
          "Deck 1637 — 8/8 carte mappate<br>Mega Knight, Skeleton Barrel, Bandit, Dart Goblin, Goblin Gang, Poison, Firecracker, Zap",
          "Deck 1644 — 8/8 carte mappate<br>Skeleton Barrel, Valkyrie, Witch, Goblin Gang, Hog Rider, Skeleton King, Arrows, Dart Goblin",
          "Deck 1660 — 8/8 carte mappate<br>Valkyrie, Goblin Barrel, Skeleton Army, Arrows, Fireball, Inferno Tower, Ice Wizard, Hog Rider",
          "Deck 1674 — 8/8 carte mappate<br>Firecracker, Valkyrie, Goblin Barrel, Witch, Inferno Tower, Vines, Skeleton Army, Ram Rider",
          "Deck 1682 — 8/8 carte mappate<br>Mega Knight, Firecracker, Royal Hogs, Witch, Zap, Bats, Goblin Barrel, Guards",
          "Deck 1710 — 8/8 carte mappate<br>Firecracker, Goblin Barrel, Miner, Skeleton Army, The Log, Inferno Tower, Minion Horde, Goblin Gang",
          "Deck 1739 — 8/8 carte mappate<br>Lumberjack, Mega Knight, Wall Breakers, Prince, Archer Queen, Goblin Gang, Arrows, Bats",
          "Deck 1758 — 8/8 carte mappate<br>Mega Knight, Valkyrie, Skeleton Barrel, Guards, Electro Wizard, The Log, Dart Goblin, Firecracker",
          "Deck 1776 — 8/8 carte mappate<br>Valkyrie, Mega Knight, Cannon, Arrows, Mini P.E.K.K.A, Goblin Barrel, Electro Wizard, Bats",
          "Deck 1780 — 8/8 carte mappate<br>Tesla, Mega Knight, Skeleton Barrel, Dart Goblin, Inferno Dragon, Electro Wizard, Freeze, Fireball",
          "Deck 1791 — 8/8 carte mappate<br>Firecracker, P.E.K.K.A, Goblin Gang, Arrows, Hog Rider, Goblin Barrel, Skeleton Barrel, Furnace",
          "Deck 1793 — 8/8 carte mappate<br>Firecracker, Mega Knight, Hog Rider, Inferno Tower, Baby Dragon, Valkyrie, Skeleton Army, The Log",
          "Deck 1797 — 8/8 carte mappate<br>Mega Knight, Firecracker, Zap, Minions, Goblin Gang, Lumberjack, Skeleton Barrel, Goblin Barrel",
          "Deck 1808 — 8/8 carte mappate<br>Valkyrie, Mega Knight, The Log, Goblin Barrel, Skeleton Barrel, Skeleton Army, Furnace, Inferno Tower",
          "Deck 1845 — 8/8 carte mappate<br>Valkyrie, Goblin Barrel, Knight, Prince, Baby Dragon, Arrows, Fireball, Skeleton Army",
          "Deck 1861 — 8/8 carte mappate<br>Dart Goblin, Mega Knight, Knight, Golden Knight, Mega Minion, Skeleton Army, Princess, Zap",
          "Deck 1929 — 8/8 carte mappate<br>Firecracker, Valkyrie, Dart Goblin, Hog Rider, Goblin Barrel, Golem, Witch, Arrows",
          "Deck 1934 — 8/8 carte mappate<br>Mega Knight, Tesla, Arrows, Goblin Barrel, Magic Archer, Witch, Goblin Gang, Zap",
          "Deck 1935 — 8/8 carte mappate<br>Mega Knight, Knight, Goblin Barrel, Inferno Tower, The Log, Witch, Electro Wizard, Zap",
          "Deck 1938 — 8/8 carte mappate<br>Mega Knight, Knight, Fisherman, Spear Goblins, Arrows, Hog Rider, Bats, Skeleton Barrel",
          "Deck 1940 — 8/8 carte mappate<br>Valkyrie, Executioner, Goblin Gang, Goblin Barrel, Hog Rider, Electro Wizard, Arrows, Inferno Tower",
          "Deck 1946 — 8/8 carte mappate<br>Mega Knight, Valkyrie, Tesla, Zap, Goblin Barrel, Skeleton Army, Mirror, Hog Rider",
          "Deck 1950 — 8/8 carte mappate<br>Goblin Barrel, Bomber, Minion Horde, Skeleton Army, Fireball, Inferno Tower, Hog Rider, Princess",
          "Deck 1991 — 8/8 carte mappate<br>Valkyrie, Lumberjack, Baby Dragon, Inferno Tower, Princess, Skeleton Army, The Log, Goblin Barrel",
          "Deck 2013 — 8/8 carte mappate<br>Mega Knight, Wizard, Cannon, Skeleton Army, Wall Breakers, Mini P.E.K.K.A, The Log, Goblin Barrel",
          "Deck 2015 — 8/8 carte mappate<br>Firecracker, Skeletons, Dart Goblin, Bats, Hog Rider, Giant Skeleton, Skeleton Barrel, Zap",
          "Deck 2028 — 8/8 carte mappate<br>Mega Knight, Firecracker, Mini P.E.K.K.A, Goblin Gang, Bats, Goblin Barrel, Skeleton Army, The Log",
          "Deck 2029 — 8/8 carte mappate<br>Bats, Mega Knight, Mini P.E.K.K.A, Goblin Barrel, Arrows, Dart Goblin, Goblin Gang, Skeleton Barrel",
          "Deck 2039 — 8/8 carte mappate<br>Firecracker, Mega Knight, Zap, Goblin Barrel, Hog Rider, Arrows, Wizard, Inferno Tower",
          "Deck 2044 — 8/8 carte mappate<br>Mega Knight, Valkyrie, Goblin Barrel, Wizard, Witch, Vines, Hog Rider, The Log",
          "Deck 2048 — 8/8 carte mappate<br>Firecracker, Valkyrie, Skeleton Barrel, Suspicious Bush, Skeleton Army, Zap, The Log, Goblin Barrel",
          "Deck 2062 — 8/8 carte mappate<br>Dart Goblin, Valkyrie, Skeleton Barrel, Golden Knight, Mini P.E.K.K.A, Arrows, Royal Hogs, Knight",
          "Deck 2072 — 8/8 carte mappate<br>Bats, Mega Knight, Bandit, Goblin Gang, Barbarian Barrel, Skeleton Barrel, Inferno Tower, Poison",
          "Deck 2117 — 8/8 carte mappate<br>Mega Knight, Goblin Barrel, Bats, Mini P.E.K.K.A, Skeleton Army, Little Prince, The Log, Executioner",
          "Deck 2131 — 8/8 carte mappate<br>Knight, Witch, Inferno Tower, Arrows, Fireball, Guards, Mega Knight, Flying Machine",
          "Deck 2140 — 8/8 carte mappate<br>Valkyrie, Barbarians, Hog Rider, Dart Goblin, Zap, Rocket, Goblin Barrel, Magic Archer",
          "Deck 2199 — 8/8 carte mappate<br>Firecracker, Valkyrie, Arrows, Rune Giant, Dart Goblin, Rage, Prince, Ice Spirit",
          "Deck 2231 — 8/8 carte mappate<br>Knight, Valkyrie, Skeleton Barrel, Hog Rider, Goblin Gang, Arrows, Dart Goblin, Skeleton Army",
          "Deck 2242 — 8/8 carte mappate<br>Royal Recruits, Firecracker, Skeleton Army, Arrows, Hog Rider, Mini P.E.K.K.A, Dart Goblin, Battle Ram",
          "Deck 2263 — 8/8 carte mappate<br>Valkyrie, Inferno Tower, Furnace, Bats, Elite Barbarians, Princess, Mini P.E.K.K.A, Zap",
          "Deck 2279 — 8/8 carte mappate<br>Dart Goblin, Valkyrie, Wizard, Goblin Gang, Knight, Mini P.E.K.K.A, Zap, Prince",
          "Deck 2283 — 8/8 carte mappate<br>Archers, Mega Knight, Goblin Gang, Miner, Boss Bandit, Skeleton Barrel, The Log, Inferno Dragon",
          "Deck 2286 — 8/8 carte mappate<br>Firecracker, Valkyrie, Hog Rider, Arrows, Electro Wizard, Goblin Gang, Barbarians, Goblin Barrel",
          "Deck 2287 — 8/8 carte mappate<br>Tesla, Firecracker, Arrows, Prince, Dart Goblin, Skeleton Barrel, Bowler, Skeleton Army",
          "Deck 2290 — 8/8 carte mappate<br>Mega Knight, Witch, Wall Breakers, Knight, Mini P.E.K.K.A, Fireball, Inferno Tower, Golden Knight",
          "Deck 2297 — 8/8 carte mappate<br>Firecracker, Knight, Bandit, Wall Breakers, Mini P.E.K.K.A, The Log, Mirror, Electro Wizard",
          "Deck 2350 — 8/8 carte mappate<br>Mega Knight, Valkyrie, Inferno Tower, Dart Goblin, The Log, Executioner, Skeleton Barrel, Skeleton Army",
          "Deck 2429 — 8/8 carte mappate<br>Firecracker, Mega Knight, Knight, Bats, Zap, Goblin Barrel, Mini P.E.K.K.A, The Log",
          "Deck 2459 — 8/8 carte mappate<br>Wizard, Mega Knight, Firecracker, Skeleton Army, Goblin Barrel, Skeletons, Witch, Mini P.E.K.K.A"
         ],
         "marker": {
          "color": "rgb(228,26,28)",
          "size": 6
         },
         "mode": "markers",
         "name": "Cluster 0",
         "text": [
          "Deck 1",
          "Deck 9",
          "Deck 47",
          "Deck 59",
          "Deck 65",
          "Deck 73",
          "Deck 83",
          "Deck 107",
          "Deck 149",
          "Deck 164",
          "Deck 173",
          "Deck 217",
          "Deck 221",
          "Deck 228",
          "Deck 262",
          "Deck 287",
          "Deck 288",
          "Deck 323",
          "Deck 359",
          "Deck 376",
          "Deck 424",
          "Deck 462",
          "Deck 463",
          "Deck 474",
          "Deck 500",
          "Deck 508",
          "Deck 529",
          "Deck 532",
          "Deck 544",
          "Deck 546",
          "Deck 552",
          "Deck 555",
          "Deck 561",
          "Deck 563",
          "Deck 567",
          "Deck 577",
          "Deck 659",
          "Deck 673",
          "Deck 675",
          "Deck 718",
          "Deck 733",
          "Deck 736",
          "Deck 750",
          "Deck 768",
          "Deck 770",
          "Deck 787",
          "Deck 827",
          "Deck 833",
          "Deck 840",
          "Deck 851",
          "Deck 873",
          "Deck 876",
          "Deck 905",
          "Deck 914",
          "Deck 926",
          "Deck 936",
          "Deck 943",
          "Deck 950",
          "Deck 955",
          "Deck 966",
          "Deck 972",
          "Deck 978",
          "Deck 988",
          "Deck 996",
          "Deck 1007",
          "Deck 1017",
          "Deck 1023",
          "Deck 1024",
          "Deck 1045",
          "Deck 1050",
          "Deck 1054",
          "Deck 1065",
          "Deck 1083",
          "Deck 1084",
          "Deck 1087",
          "Deck 1106",
          "Deck 1135",
          "Deck 1146",
          "Deck 1158",
          "Deck 1167",
          "Deck 1181",
          "Deck 1186",
          "Deck 1194",
          "Deck 1215",
          "Deck 1216",
          "Deck 1255",
          "Deck 1270",
          "Deck 1299",
          "Deck 1329",
          "Deck 1346",
          "Deck 1348",
          "Deck 1350",
          "Deck 1357",
          "Deck 1358",
          "Deck 1369",
          "Deck 1375",
          "Deck 1381",
          "Deck 1407",
          "Deck 1420",
          "Deck 1429",
          "Deck 1431",
          "Deck 1470",
          "Deck 1483",
          "Deck 1508",
          "Deck 1529",
          "Deck 1560",
          "Deck 1562",
          "Deck 1572",
          "Deck 1574",
          "Deck 1587",
          "Deck 1590",
          "Deck 1596",
          "Deck 1611",
          "Deck 1618",
          "Deck 1637",
          "Deck 1644",
          "Deck 1660",
          "Deck 1674",
          "Deck 1682",
          "Deck 1710",
          "Deck 1739",
          "Deck 1758",
          "Deck 1776",
          "Deck 1780",
          "Deck 1791",
          "Deck 1793",
          "Deck 1797",
          "Deck 1808",
          "Deck 1845",
          "Deck 1861",
          "Deck 1929",
          "Deck 1934",
          "Deck 1935",
          "Deck 1938",
          "Deck 1940",
          "Deck 1946",
          "Deck 1950",
          "Deck 1991",
          "Deck 2013",
          "Deck 2015",
          "Deck 2028",
          "Deck 2029",
          "Deck 2039",
          "Deck 2044",
          "Deck 2048",
          "Deck 2062",
          "Deck 2072",
          "Deck 2117",
          "Deck 2131",
          "Deck 2140",
          "Deck 2199",
          "Deck 2231",
          "Deck 2242",
          "Deck 2263",
          "Deck 2279",
          "Deck 2283",
          "Deck 2286",
          "Deck 2287",
          "Deck 2290",
          "Deck 2297",
          "Deck 2350",
          "Deck 2429",
          "Deck 2459"
         ],
         "type": "scatter3d",
         "x": {
          "bdata": "rCaDXt5KYz+3lcN9C0lyP5jFD1RGrYE/qiIW/H/cWz/wKiwGT5CRP4Kqu6D7oYo/0gZGD3lNZj+b2rYtSj+EP5Gp9KKufXQ/ygHkiC8LhT8hRUvdNOOQP4ralLyqxJQ/kRUpn9zxhT+YrcaxNjJxP4lI/yD9+YM/VIMuruuwgD/26uUENFd9P1Qk/76VPl4/6GoR3RjGYD9pSvMKgOJ2P+U+QFxTjW0/CuZUE//WiD/PU9uYM6p2Pzq+j6ETuI0/dsSwLxT1gD/DekSrnnmCP29jS0Sj9mQ/HMfxrBG5dj9obbOAL+F4P455FuskpHk/DRjOgR/Khj+uHxWx3LV6P4aetQ1hFXk/dddT0mpIkz9G9GmYaSZ7P0Yqre78/22/nQid5incUj9sgcIC5lSCP+hqEd0YxmA/OhwpIjAHcD9bu+/H5lF2P50UzWTaF3s/nixFm7zteD/0xdvbLG90P0T/JSIhZYo/KAdp7Fs6dz+nPXdszKBQvzkHrCkz43s/POO2Qw+qRD+HKSrHs1FfP18pahtUXoI/rAnIlnvtaz9s69PdsPpyP7Y1ERpKMHA/iPc/AQVNaD8PsKuGgfqGP16LrE8ZSYo/x5eqEYQ6bj9OMYhX0fZ+P2OMKDb5vnw/agC5iL4BYj/LqmwUHNN8P08kaMVK3Iw/JgQVVXMNeT8vfgORm0l1PzsDQUqfo4g/axQbobLGhz9poCTn5l5iP2u89G21wJI/kF8b/TSnez9WP6R0/khaP4LKUMnPCX4/BlPvqdpXdj+y0YWvHIONPxG5Zd82kXk/xsaDM0mdYj/4UokbE7aFP7IWdF+3O3o/Ze1GBu2cez9EzZCwjTBnP971ZFFX2mg/NPDPFvMdcT+MzuXOwFeTPwiVybojcXE/ngmn145Xcz9poCTn5l5iPyj1hWYx64c/sv/JCnGlgD9sloYkVlCNPy4CUrbpQls/CDIOL/uKQj8Yubbppn1sP9DsVqI44E8/abIVWLZwYT+YIriOlNt9P4l3dZoFtJA/xpicIgoAkz8MBzn8XbNgPzBNOd8T83w/+PW3+rX2fj/VBZOOJBl4Pxr3nrRsuHY/CFYk7HLLfT+YIWcocYZ8PzEt271vO4E/wPU0c1KIMT88E7yrbbp0P6RP0BEbUpE/4PnZCFYpYD9imNNwd9t7P45Ohgj67Yc/hDnYeF6DcT9Siri9BT+BPw2AVMG8Dok/fMIIr1MZfz9Gur970oOEP2rReQmF2o0/scmJxq63bj/OvF4i5Dxhv6hSEJZ1xpA/nQid5incUj/qxb5hknSEP7402s8erH8/yy4/0YTTbj+ZyXmnWqyKP3+GLkWg9oU/CDIOL/uKQj+E7ShfefmMPwIDFqSC0nM/GBRedOQUej/4Dtw5lbZ4P7zbwIgwcH8/y9MGm/ZTiz+na6S8vXWBP84TMuTtEYc/1Kq9j6zEgT9AnNM1hXuOP0wYBgpLno8/S6/QfdIglD/DVkp0QcKRP2lzk3C364U/m8HIv6PugD/m4cVTfy6APwQICmgWa4E/u1i1Ca9+kT+G4DyKCqZ/P+nFJ48QomY/oksN7AdKgj9YNHv0XMlhP1yQ/335qYs/3N5ESOJ2aT+GY1vrCDiSPwCjvRzgzDM/kiuBDZxLbT9IRacXriJxPxjJe9yC5oU/LelKBGHfej9YL+qtdGp1P0Bhc++z04Q//7zF5iYGgT94e7i449qIP7eNqmLCio4/+Zfm1l12dT8=",
          "dtype": "f8"
         },
         "y": {
          "bdata": "NvGzhJ3Gnr9RFU6mgDWUv7WR3axONZW/t+e70Ybfk7/WmVYO0CqWvw0AViSkiJK/2lqhP/aVm79yWf4YGqOiv+heF3Ah5JS/ia3V6T/WoL/h8AhEPM+cv+KWhpFIlJi/MTqk0Gvdm78bTNBH/66Yv5oYFKL3BJy/EJW3Rf39nr9yC/8v6hyhv1QcH8iTpZe/dhs55Qi+nL+PL6QEyA+hv9Nyxm5KuZK/UM1s4K/+ob8vv+dlEsKfv8UwuGDqB5e/TGyaENFylL/tF1gtNDObv/w0PWc84py/Q+6WimCMn78wnhR+gNaWv5/e6HHnp5e/xBcjY1T2ob8/1+sC6/6fv5wbHzlGfJm/1OqtWWxbmb+/AguUc5Gev5mjcwIAzpi/qxDgAAbkmr/wod+ecjycv3YbOeUIvpy/rSIy10Ypnb+tV+ntqe2Uv92n4MQ7AZu/Lb8tcnz4nb/hoJkSURGgv1FohCdLtZu/wCOIEqmAl78WDboGQgaYvz8rOwYo/Zu/j+M2rVrFlb8ExPDI4Qudv9zYSic50pa/uQMQjtBgmb/t75wuJWuYv5ysCqQT7pi/AUbsAf3Dnb84g51KGH6gv5PkRjemJKC/r/ukhVGrkr9vEfRoql2iv+Q4P0YaqqC/TwBnHZKTl79xMEOJSyKfv0kXuyxBVKK/nyDuvEkVnb9MgKKx5iWUv3FMog0gSaO/zZ7Ey4O4nL9Nz1on+NiTv8QtmA+ZMJ+/s6VTdrpzl783ySDREymWv2UUqNPqyKC/Rsbfu7TZnb/hy7ZlaeKYv5+xEzeS7JK/DCqgZyCGkb+fwzCcZ2ybv1jZvE/AuaC/DmJfyKUKoL8KAy/YTRiXvxCpNFZQYpy/kiBcwyXSoL+aI72rEVqgv26SgsEmr42/XhDrJn0bkr9Nz1on+NiTv6nIcgO/zJ2/I+i3gQRynL+mAG1p3Kiav+HsWc3h4pW/jztmCfO6m79W+29Kb/GTv2MrxQ4oLJy/itOrT2V2k7+45bNanEmWvxqTt85UP6C/qRxuip3Vnr9RAAT5vjSVvwdQZItP7ZG/6hAvv1NaoL9kZF56I6eavzUWT3NsGpm/BoipkANnn7+agCnxGnOQv4FU4KBeQ4+/fVvTlpsyk7+j3msSoVubvxmEKxNy1Z6/bcsZJatunb/SbGvXQrudv7gIGKHN3pe/vhCUj6hUmb+QEZF89ySbv49vufIViZ2/H2KosuQelr9ExPEOkTWZv9RZ3NMDjZy/S0WKUG7bnb/lymrjvdiVv7DQeOyG5aK/qxDgAAbkmr8+u4HHjGmYv50N7kRKeZ6/e0qY6FlbnL+x3XNKrY+YvzmCYkstvZy/jztmCfO6m7+MMJWe8Kuev9UyV1VeF5q/XyILGtAnmr/T/s43a0SXv+3WfFSBhqC/oJ+DZvY0oL9lSPyMC1qRv7EHUScq0aG/An50O7wPor/pNtf9TJKkvwVeYLZbZ5+/7ZPjCuCbn79wmu50kBqcv5ymP3oVBqK/zBiNYln8oL8ld4TxbeGiv2O7gcX5WZq/03ItsOIIn78TaHJDQzONvxrl52y6gY+/50j4tRasnL8ditV44gSQv/91Jo+jcaC/PDEsI1avm7+JxE8oSQufv4Uy0RlSMZa/ZbbPGxKen7/h83H71Hyfv+2x9F9qOZO/6DxnKmBkoL85Q1spt5Kav31+UZRmrZi/IpI0QRSNmb+FfO6ZB32gvxu2d5YxX52/UQ93BgfAoL8=",
          "dtype": "f8"
         },
         "z": {
          "bdata": "1+w//y5ygr94YaegIN1zv6it7kTSfZC/FHS0SneYfL+RReadJ8SHv1JDHgrvSpK/vaENHdQJeb8lkRO5IkmAvwz//F1WrYW/etx1agFZgb9YqzKvHpeMvyurc/99OIS/pRk/Stiygr8VSf4M2C5yv3PaiPCNTpK/SZxJ68wHjL/oyAfMZWiFv+y0I93IF36/ImgrUFG4iL8UxDra70+Iv7Z+6o3HZXa/Rj1kjwnck7/pJTybDGmHv1tSyDY3nIm/eP9iSYR9gr/4I7tWT1iKvwYcJsKeyoq/Rvq3cO35k78yGXH306GBvyPpa1UVsXW/NN1J+Bl0U79q8vdkXMdlv6SzJtLuw3y/oFFPr1gug7/IRuYd2EyCv9abQaDc95K/V3jqezAIiL/DeffIqZt8vyNoK1BRuIi/B+ZhkyUChr8Lo3inspd1v8sLjzDwc3y/xq7Kd3TCU7/2pDQTB9tpv35ckwI+y3S/kUzcm2k4ir8e2Z3JNouMv9s+CrunKHW/gZ8K4LlOhb9zeCa0mxd8vy3LXuX5+YG/Cg+Gcu89dL+OVz6PJDWAv+aQPfyHcHO/l2umBZwbg7/hyUeReA6Bv4/7uGI7unG/8oa4j3cpiL8uQMQNxOxgvyQ+8RRnJHe/QBCesLyhg7/SKAv51LCQv46yyAogUXS/htLm/xxGeb/kCb7gnmKGvxlaSYN0HI2/tnU3KHN0gL87vmIq2ih7v0m11DiUGH6/09dpD8AZhL96LRDHPdBwv65BR9VrW4m/fR1gWztvcr8l/N8m81qDv27/YA/UbHy/fXaOGl/Lhb+R3zSrdJKUvxQ4cK8Jl3S/7BN45RuPcb/ZnetmPVBsv+Qi1X0He4i/qiTCEraHdr9f9KLFCpqAvzdrZk/Jioe/EuZy2nkPg787vmIq2ih7vxtaYTKVGXC/YCffXklvbr/I0Gv1TSGRv0qyPi47xom/1hHG98j5hr9+f7qA3zmTv5oveKVWEo6/DY+RBtmLhL/fqN/1M36Kv+D7um0uIIW/dFjd63f2e7+2VZQ/+kaBvwAIiIle7ou/olv06Jqsg79I8uhH0pSav9KiUgcmy4e/hIHYecpZhL8IoGuyxBqFv5B61OYrUYW/cPrWhgsZlb+FGg5K5gqLv5Sl3fZ0UIi/uXsl9cjXgL+8x1BjpCqBv21oUE0d14C//rvyiG4FcL8YWyWONwWEvwZt7qDcoXe/4y1wzkJNir/iPj7nmnmOv8eJtd2CU3u/roKy38jCgb/EO763+GeNv36kAAa1WoW/V3jqezAIiL8fe8+2O0KDv/gQbsO8RXa/HMfyzVCUer88of7Mly6Iv2jTegZ1km6/1hHG98j5hr+hnFPdtd2Nv65Kd6d3xGa/b+UuhK9uf79t4MoP8tt1v61wt4zwVIG/y/TgSeZsfr8i/Nd9PC2Ev08QUPh6O4K/tgPDkt0uYb/c7siudz1wv2DR0i4dX4W/4DAedd5hg7+jxVlB8T9/v/T914I5R4a/kwKCHYcKk7+I6EbIEGN4vwHwGB1RFXO/Fvwdxacdjr/OcRWPS/OSv7hiYxdPVZC/9vxCA0Mpbb8aWS3QmEOOv79uI4HJE3m/GASXofSycL/NmaRbjOuIvwFWmr3uLIW/R+6gs/Xdfr9lZ0WZrcV6v88kSApLEoS/ILWLd9jLdL+iQHoD1S2CvzRbEIvigoq/5qqrb0CVcb+JI2VQyyWJvzN/vmVF+Xe/v/xiDrFCdL8=",
          "dtype": "f8"
         }
        },
        {
         "hoverinfo": "text",
         "hovertext": [
          "Deck 39 — 8/8 carte mappate<br>Witch, P.E.K.K.A, Royal Ghost, Princess, Rage, Barbarian Barrel, Minion Horde, Elixir Golem",
          "Deck 51 — 8/8 carte mappate<br>Lumberjack, Knight, Mega Minion, Vines, Balloon, Minions, Arrows, Skeleton Army",
          "Deck 109 — 8/8 carte mappate<br>Witch, Mega Knight, Arrows, Electro Giant, Golden Knight, Inferno Dragon, Wizard, Elixir Golem",
          "Deck 145 — 8/8 carte mappate<br>Valkyrie, Firecracker, Mini P.E.K.K.A, Night Witch, Elixir Golem, Battle Healer, Inferno Tower, Arrows",
          "Deck 160 — 8/8 carte mappate<br>Inferno Dragon, Witch, Elixir Golem, Lightning, The Log, Mini P.E.K.K.A, Night Witch, Arrows",
          "Deck 178 — 8/8 carte mappate<br>Firecracker, Electro Dragon, Arrows, Fireball, Elixir Golem, Battle Healer, Golden Knight, Inferno Dragon",
          "Deck 181 — 8/8 carte mappate<br>Witch, Wizard, Lumberjack, Electro Giant, Boss Bandit, Fireball, Zap, Tornado",
          "Deck 186 — 8/8 carte mappate<br>Battle Ram, Lumberjack, Mini P.E.K.K.A, Baby Dragon, Zap, Firecracker, Minions, Goblin Gang",
          "Deck 188 — 8/8 carte mappate<br>Firecracker, Valkyrie, Rage, Royal Hogs, Sparky, Baby Dragon, Minion Horde, Electro Wizard",
          "Deck 194 — 8/8 carte mappate<br>Firecracker, Inferno Dragon, Golem, Arrows, Balloon, Freeze, Skeleton Army, Witch",
          "Deck 207 — 8/8 carte mappate<br>P.E.K.K.A, Lumberjack, Wizard, Ice Wizard, Electro Wizard, Executioner, Bats, Clone",
          "Deck 219 — 8/8 carte mappate<br>Firecracker, Wizard, Zap, Royal Ghost, Elite Barbarians, Guards, Bandit, Dark Prince",
          "Deck 231 — 8/8 carte mappate<br>P.E.K.K.A, Baby Dragon, Graveyard, Skeleton Army, Sparky, Arrows, Minion Horde, Fireball",
          "Deck 236 — 8/8 carte mappate<br>Valkyrie, Hunter, Inferno Dragon, Balloon, Zap, Skeleton King, Freeze, Electro Wizard",
          "Deck 259 — 8/8 carte mappate<br>Witch, Mega Knight, Night Witch, Clone, Inferno Dragon, Rage, Vines, Electro Wizard",
          "Deck 267 — 8/8 carte mappate<br>Barbarians, Zap, Dart Goblin, Mini P.E.K.K.A, Sparky, Goblin Giant, Minions, Tornado",
          "Deck 299 — 8/8 carte mappate<br>Mega Knight, Electro Dragon, Mini P.E.K.K.A, Mother Witch, Mirror, Arrows, Lightning, Witch",
          "Deck 304 — 8/8 carte mappate<br>Knight, Archers, Arrows, Rage, Mini P.E.K.K.A, Sparky, Goblin Giant, Minions",
          "Deck 306 — 8/8 carte mappate<br>Executioner, Lumberjack, Night Witch, Prince, Skeleton Army, Giant, Minion Horde, Flying Machine",
          "Deck 311 — 8/8 carte mappate<br>Barbarians, Inferno Dragon, Fireball, Balloon, Tombstone, Zap, Skeleton Dragons, Lava Hound",
          "Deck 352 — 8/8 carte mappate<br>Archers, Bowler, Mega Minion, Tombstone, Electro Wizard, Lightning, Giant, Arrows",
          "Deck 357 — 8/8 carte mappate<br>Mega Knight, Witch, Arrows, Mini P.E.K.K.A, Barbarian Barrel, Sparky, Vines, Elixir Golem",
          "Deck 386 — 8/8 carte mappate<br>Baby Dragon, Valkyrie, Lava Hound, Balloon, Fireball, Inferno Dragon, Vines, Tombstone",
          "Deck 396 — 8/8 carte mappate<br>Baby Dragon, Knight, Lightning, Giant, Arrows, Night Witch, Mega Minion, Mini P.E.K.K.A",
          "Deck 399 — 8/8 carte mappate<br>Valkyrie, Goblin Giant, Sparky, Mini P.E.K.K.A, Arrows, Lumberjack, Electro Wizard, Bats",
          "Deck 402 — 8/8 carte mappate<br>Executioner, Battle Ram, P.E.K.K.A, Arrows, Electro Wizard, Boss Bandit, Dark Prince, Lightning",
          "Deck 429 — 8/8 carte mappate<br>Mega Knight, Witch, Rage, Goblin Gang, Goblin Machine, Prince, Dart Goblin, Vines",
          "Deck 440 — 8/8 carte mappate<br>Wizard, Royal Giant, Arrows, Inferno Tower, Elixir Collector, Elite Barbarians, Mirror, Three Musketeers",
          "Deck 458 — 8/8 carte mappate<br>Lumberjack, Valkyrie, Mini P.E.K.K.A, Mega Knight, Arrows, Vines, Rage, Electro Wizard",
          "Deck 479 — 8/8 carte mappate<br>Bomber, Zap, Little Prince, Arrows, Royal Ghost, Battle Ram, Bandit, P.E.K.K.A",
          "Deck 484 — 8/8 carte mappate<br>Valkyrie, Musketeer, Phoenix, Arrows, Balloon, Giant, Mini P.E.K.K.A, Skeleton Army",
          "Deck 486 — 8/8 carte mappate<br>Battle Ram, Baby Dragon, P.E.K.K.A, Bandit, Dark Prince, Mother Witch, Arrows, Vines",
          "Deck 487 — 8/8 carte mappate<br>P.E.K.K.A, Battle Ram, Magic Archer, Electro Wizard, Boss Bandit, Royal Ghost, Lightning, Zap",
          "Deck 511 — 8/8 carte mappate<br>Inferno Dragon, Baby Dragon, Balloon, Goblin Barrel, Mother Witch, Mega Knight, Prince, Boss Bandit",
          "Deck 516 — 8/8 carte mappate<br>Royal Giant, Firecracker, Bowler, Minions, Electro Giant, Sparky, Valkyrie, Tornado",
          "Deck 549 — 8/8 carte mappate<br>Mega Knight, Valkyrie, Fire Spirit, Lumberjack, Bomber, Baby Dragon, Inferno Dragon, Rune Giant",
          "Deck 568 — 8/8 carte mappate<br>Mega Knight, Lumberjack, Vines, Executioner, Prince, Sparky, Skeleton Army, Fisherman",
          "Deck 574 — 8/8 carte mappate<br>P.E.K.K.A, Witch, Tornado, Balloon, Elite Barbarians, Firecracker, Valkyrie, Bowler",
          "Deck 580 — 8/8 carte mappate<br>Balloon, The Log, Arrows, Mega Minion, Lava Hound, Inferno Dragon, Guards, Lightning",
          "Deck 594 — 8/8 carte mappate<br>P.E.K.K.A, Barbarians, Battle Ram, Knight, Freeze, Skeleton Army, Phoenix, Bomber",
          "Deck 605 — 8/8 carte mappate<br>Valkyrie, Executioner, Vines, Minion Horde, Inferno Dragon, Electro Giant, Electro Wizard, Elite Barbarians",
          "Deck 614 — 8/8 carte mappate<br>Mega Knight, Bomber, Lightning, Ram Rider, Tornado, Rage, Arrows, Goblinstein",
          "Deck 617 — 8/8 carte mappate<br>P.E.K.K.A, Valkyrie, Lightning, Arrows, Mother Witch, Inferno Dragon, Electro Wizard, Bowler",
          "Deck 630 — 8/8 carte mappate<br>Furnace, Lumberjack, Vines, Electro Spirit, Elixir Golem, Prince, Electro Wizard, Sparky",
          "Deck 648 — 8/8 carte mappate<br>Valkyrie, Bats, Night Witch, Golem, Inferno Dragon, Bandit, Arrows, Lightning",
          "Deck 665 — 8/8 carte mappate<br>Valkyrie, Zap, Balloon, Skeleton Dragons, Lava Hound, Inferno Dragon, Fireball, Guards",
          "Deck 676 — 8/8 carte mappate<br>Wizard, P.E.K.K.A, Tornado, Boss Bandit, Vines, Electro Wizard, Battle Ram, Arrows",
          "Deck 695 — 8/8 carte mappate<br>Barbarians, Wizard, Sparky, Fireball, Minions, Electro Wizard, Arrows, Giant",
          "Deck 699 — 8/8 carte mappate<br>Zap, P.E.K.K.A, Vines, Phoenix, Battle Ram, Boss Bandit, Suspicious Bush, Electro Wizard",
          "Deck 741 — 8/8 carte mappate<br>Witch, Valkyrie, Elixir Golem, P.E.K.K.A, Arrows, Electro Wizard, Tornado, Executioner",
          "Deck 747 — 8/8 carte mappate<br>P.E.K.K.A, Mega Knight, Balloon, Tornado, Zap, Electro Wizard, Executioner, Freeze",
          "Deck 778 — 8/8 carte mappate<br>Firecracker, Zap, Baby Dragon, Battle Ram, Mega Minion, Mini P.E.K.K.A, Arrows, Bowler",
          "Deck 799 — 8/8 carte mappate<br>Electro Wizard, Lightning, Mega Minion, Tornado, Golem, The Log, Bandit, Baby Dragon",
          "Deck 809 — 8/8 carte mappate<br>Inferno Dragon, Zap, Balloon, Skeleton Dragons, Guards, Valkyrie, Fireball, Lava Hound",
          "Deck 817 — 8/8 carte mappate<br>Valkyrie, Battle Ram, Magic Archer, Electro Wizard, Bandit, Zap, Poison, P.E.K.K.A",
          "Deck 841 — 8/8 carte mappate<br>Inferno Dragon, Battle Ram, Witch, Dark Prince, Mega Knight, Barbarians, Skeleton King, Skeleton Army",
          "Deck 849 — 8/8 carte mappate<br>Inferno Dragon, Barbarians, Miner, Balloon, Skeleton Dragons, Lava Hound, Arrows, Zap",
          "Deck 860 — 8/8 carte mappate<br>Valkyrie, Inferno Dragon, Rage, Freeze, Battle Healer, Mother Witch, The Log, Void",
          "Deck 869 — 8/8 carte mappate<br>Bomber, Barbarians, Fireball, Knight, Giant, Zap, Witch, Elixir Collector",
          "Deck 890 — 8/8 carte mappate<br>Valkyrie, Zap, Lava Hound, Miner, Skeleton Dragons, Tombstone, Goblin Curse, Spirit Empress",
          "Deck 908 — 8/8 carte mappate<br>Valkyrie, Lumberjack, Minions, Mini P.E.K.K.A, Rage, Barbarians, Mother Witch, Bandit",
          "Deck 922 — 8/8 carte mappate<br>P.E.K.K.A, Battle Ram, Furnace, Poison, Electro Wizard, Bandit, Arrows, Royal Ghost",
          "Deck 940 — 8/8 carte mappate<br>Lumberjack, Skeleton Barrel, Minions, Tornado, Electro Giant, Arrows, Magic Archer, Giant Skeleton",
          "Deck 945 — 8/8 carte mappate<br>Electro Dragon, Lumberjack, The Log, Royal Giant, Mega Knight, Arrows, Rage, Phoenix",
          "Deck 969 — 8/8 carte mappate<br>Mega Knight, Valkyrie, Balloon, Night Witch, Rage, Arrows, Witch, Elixir Golem",
          "Deck 977 — 8/8 carte mappate<br>Inferno Dragon, Baby Dragon, Archers, Lightning, Night Witch, Zap, Golem, Bandit",
          "Deck 984 — 8/8 carte mappate<br>Barbarians, Battle Ram, Witch, Freeze, Lightning, Wizard, Elixir Golem, Elite Barbarians",
          "Deck 990 — 8/8 carte mappate<br>Inferno Dragon, Battle Ram, Rage, Arrows, Fireball, Bomber, Bandit, Elite Barbarians",
          "Deck 1016 — 8/8 carte mappate<br>Valkyrie, Witch, Mini P.E.K.K.A, Bowler, Elixir Golem, Minions, Three Musketeers, Arrows",
          "Deck 1018 — 8/8 carte mappate<br>Mega Knight, Baby Dragon, Vines, Rage, P.E.K.K.A, Prince, Ice Wizard, Boss Bandit",
          "Deck 1025 — 8/8 carte mappate<br>P.E.K.K.A, Zap, Royal Ghost, Poison, Electro Wizard, Fisherman, Battle Ram, Mirror",
          "Deck 1026 — 8/8 carte mappate<br>P.E.K.K.A, Zap, Royal Ghost, Poison, Electro Wizard, Fisherman, Battle Ram, Mirror",
          "Deck 1031 — 8/8 carte mappate<br>Wizard, Mega Knight, Arrows, Balloon, Musketeer, Night Witch, Lightning, Lumberjack",
          "Deck 1043 — 8/8 carte mappate<br>Valkyrie, Mega Knight, Mini P.E.K.K.A, Electro Wizard, Balloon, Baby Dragon, Rage, Arrows",
          "Deck 1051 — 8/8 carte mappate<br>Baby Dragon, Electro Dragon, P.E.K.K.A, Wizard, Barbarian Hut, Witch, Arrows, The Log",
          "Deck 1089 — 8/8 carte mappate<br>Lumberjack, Firecracker, Balloon, Bowler, Inferno Dragon, Freeze, Tornado, Barbarian Barrel",
          "Deck 1097 — 8/8 carte mappate<br>Barbarians, Lumberjack, Inferno Dragon, Elixir Golem, Skeleton Dragons, Arrows, Lightning, Zap",
          "Deck 1132 — 8/8 carte mappate<br>Barbarians, Valkyrie, Minions, Arrows, Mother Witch, Giant, Little Prince, Bomber",
          "Deck 1137 — 8/8 carte mappate<br>Firecracker, Inferno Dragon, Elixir Golem, Lightning, Arrows, Mini P.E.K.K.A, Minions, Dark Prince",
          "Deck 1157 — 8/8 carte mappate<br>P.E.K.K.A, Battle Ram, Magic Archer, Tornado, Bandit, Zap, Dark Prince, Electro Wizard",
          "Deck 1164 — 8/8 carte mappate<br>Baby Dragon, Knight, Lightning, Giant, Arrows, Night Witch, Mega Minion, Mini P.E.K.K.A",
          "Deck 1171 — 8/8 carte mappate<br>Firecracker, Witch, Arrows, Rage, Giant, Prince, Dark Prince, Fireball",
          "Deck 1190 — 8/8 carte mappate<br>Witch, Valkyrie, Ram Rider, Tombstone, Lumberjack, Furnace, Vines, Goblin Giant",
          "Deck 1203 — 8/8 carte mappate<br>Executioner, Mega Knight, Mini P.E.K.K.A, Arrows, Prince, Lightning, Guards, Minions",
          "Deck 1204 — 8/8 carte mappate<br>Baby Dragon, Dart Goblin, Mini P.E.K.K.A, Bowler, Miner, Goblin Curse, Electro Wizard, Zap",
          "Deck 1212 — 8/8 carte mappate<br>Mega Knight, Hunter, Balloon, Inferno Dragon, Boss Bandit, Lumberjack, Zap, Arrows",
          "Deck 1222 — 8/8 carte mappate<br>Mega Knight, Bandit, Minions, Zap, Fireball, Furnace, Battle Ram, Royal Ghost",
          "Deck 1240 — 8/8 carte mappate<br>Valkyrie, Electro Dragon, Elixir Collector, Inferno Tower, Lightning, Arrows, Elixir Golem, Night Witch",
          "Deck 1246 — 8/8 carte mappate<br>Mega Knight, Battle Ram, Inferno Dragon, Royal Ghost, Goblin Gang, Zap, Dark Prince, Bandit",
          "Deck 1253 — 8/8 carte mappate<br>Lumberjack, Inferno Dragon, Guards, Cannon, Freeze, Balloon, Arrows, Bowler",
          "Deck 1256 — 8/8 carte mappate<br>Dart Goblin, Electro Dragon, Mega Knight, Prince, Minions, Bandit, Golden Knight, Dark Prince",
          "Deck 1263 — 8/8 carte mappate<br>Witch, Mega Knight, Bandit, Dark Prince, Royal Ghost, Arrows, Electro Giant, Furnace",
          "Deck 1298 — 8/8 carte mappate<br>Knight, Goblin Giant, Mini P.E.K.K.A, Archers, Mother Witch, Sparky, Zap, Rage",
          "Deck 1309 — 8/8 carte mappate<br>Mega Knight, Baby Dragon, Vines, Inferno Dragon, Golden Knight, Royal Ghost, Prince, Arrows",
          "Deck 1315 — 8/8 carte mappate<br>Electro Dragon, Lumberjack, Arrows, Firecracker, Guards, Tornado, Elixir Golem, Elixir Collector",
          "Deck 1321 — 8/8 carte mappate<br>Barbarians, Baby Dragon, Musketeer, Arrows, Goblinstein, Mirror, Elite Barbarians, Sparky",
          "Deck 1339 — 8/8 carte mappate<br>Zap, Barbarians, Mega Minion, Tombstone, Fireball, Lava Hound, Skeleton Dragons, Balloon",
          "Deck 1376 — 8/8 carte mappate<br>Lumberjack, P.E.K.K.A, Balloon, Mother Witch, Fireball, Electro Wizard, Dark Prince, Zap",
          "Deck 1392 — 8/8 carte mappate<br>Valkyrie, Zap, Lava Hound, Miner, Skeleton Dragons, Tombstone, Goblin Curse, Spirit Empress",
          "Deck 1404 — 8/8 carte mappate<br>Mega Knight, Electro Dragon, P.E.K.K.A, Hog Rider, Lumberjack, Guards, Magic Archer, Arrows",
          "Deck 1405 — 8/8 carte mappate<br>Mega Knight, Electro Dragon, Skeleton Army, Golem, Witch, Zap, Arrows, Wizard",
          "Deck 1427 — 8/8 carte mappate<br>Valkyrie, P.E.K.K.A, Night Witch, Bandit, Wizard, Arrows, Lumberjack, Baby Dragon",
          "Deck 1440 — 8/8 carte mappate<br>P.E.K.K.A, Mega Knight, Night Witch, Witch, Electro Wizard, Zap, Musketeer, Lightning",
          "Deck 1442 — 8/8 carte mappate<br>Witch, Firecracker, Electro Giant, Lightning, Bomber, Mini P.E.K.K.A, Furnace, Arrows",
          "Deck 1448 — 8/8 carte mappate<br>P.E.K.K.A, Witch, Zap, Goblin Curse, Baby Dragon, Boss Bandit, Vines, Prince",
          "Deck 1454 — 8/8 carte mappate<br>Musketeer, Arrows, Skeleton Army, Zap, Mega Minion, Bowler, Giant, Ice Wizard",
          "Deck 1465 — 8/8 carte mappate<br>P.E.K.K.A, Valkyrie, Skeleton Army, Rage, Witch, Tornado, Dark Prince, Hog Rider",
          "Deck 1472 — 8/8 carte mappate<br>Mega Knight, Witch, Minion Horde, Balloon, Bats, Rage, Battle Ram, Furnace",
          "Deck 1475 — 8/8 carte mappate<br>Wizard, Valkyrie, Sparky, Arrows, Elixir Golem, Mother Witch, Rage, Skeleton Army",
          "Deck 1486 — 8/8 carte mappate<br>Mini P.E.K.K.A, Witch, Dark Prince, Lumberjack, Ram Rider, Mega Knight, Arrows, Lightning",
          "Deck 1500 — 8/8 carte mappate<br>Barbarians, Baby Dragon, Musketeer, Arrows, Goblinstein, Mirror, Elite Barbarians, Sparky",
          "Deck 1502 — 8/8 carte mappate<br>Barbarians, Inferno Dragon, Skeleton Dragons, Lightning, Lava Hound, Arrows, Balloon, Tombstone",
          "Deck 1509 — 8/8 carte mappate<br>Battle Ram, Wizard, Royal Ghost, Zap, Vines, Barbarian Barrel, P.E.K.K.A, Bandit",
          "Deck 1518 — 8/8 carte mappate<br>Electro Dragon, Firecracker, Electro Giant, Tornado, Mini P.E.K.K.A, Elixir Collector, Valkyrie, Inferno Dragon",
          "Deck 1524 — 8/8 carte mappate<br>Witch, Firecracker, Goblin Machine, Freeze, Mini P.E.K.K.A, Ram Rider, Royal Ghost, Bandit",
          "Deck 1535 — 8/8 carte mappate<br>Battle Ram, P.E.K.K.A, Royal Ghost, Bandit, Electro Wizard, The Log, Magic Archer, Lightning",
          "Deck 1551 — 8/8 carte mappate<br>Battle Ram, Dart Goblin, Skeleton Army, Rage, Mega Minion, Magic Archer, Three Musketeers, Royal Hogs",
          "Deck 1580 — 8/8 carte mappate<br>Mega Knight, Witch, Prince, Zap, Bomber, Vines, Minions, Battle Ram",
          "Deck 1588 — 8/8 carte mappate<br>Electro Dragon, Dart Goblin, Skeleton Army, Mother Witch, Mirror, Skeleton King, Void, Electro Giant",
          "Deck 1601 — 8/8 carte mappate<br>Royal Giant, Witch, Elite Barbarians, Sparky, Zap, Arrows, Barbarian Hut, Spear Goblins",
          "Deck 1616 — 8/8 carte mappate<br>Knight, Goblin Giant, Sparky, Arrows, Rage, Electro Wizard, Little Prince, Mini P.E.K.K.A",
          "Deck 1620 — 8/8 carte mappate<br>Executioner, Prince, Inferno Dragon, Electro Giant, Arrows, Mirror, Lightning, Tornado",
          "Deck 1621 — 8/8 carte mappate<br>Electro Dragon, Musketeer, Golem, Night Witch, Arrows, Skeleton Army, Bats, Clone",
          "Deck 1636 — 8/8 carte mappate<br>Valkyrie, Zap, Balloon, Guards, Lava Hound, Inferno Dragon, Skeleton Dragons, Fireball",
          "Deck 1638 — 8/8 carte mappate<br>P.E.K.K.A, Lumberjack, Balloon, Baby Dragon, Ice Wizard, Freeze, Zap, Tornado",
          "Deck 1649 — 8/8 carte mappate<br>P.E.K.K.A, Battle Ram, Electro Wizard, Bandit, Golden Knight, Royal Ghost, Mother Witch, Arrows",
          "Deck 1673 — 8/8 carte mappate<br>Zap, Battle Ram, Ice Golem, Elixir Collector, Minion Horde, Three Musketeers, Dark Prince, Bandit",
          "Deck 1675 — 8/8 carte mappate<br>Archers, Valkyrie, Lava Hound, Night Witch, Balloon, Mirror, Inferno Dragon, Executioner",
          "Deck 1698 — 8/8 carte mappate<br>P.E.K.K.A, Firecracker, Elite Barbarians, Zap, Mega Minion, Bomber, Valkyrie, Arrows",
          "Deck 1708 — 8/8 carte mappate<br>Mega Knight, Electro Dragon, Lightning, Skeleton Army, Barbarians, Golem, Executioner, Firecracker",
          "Deck 1712 — 8/8 carte mappate<br>Valkyrie, Inferno Dragon, Rage, Freeze, Battle Healer, Mother Witch, The Log, Void",
          "Deck 1717 — 8/8 carte mappate<br>Lumberjack, Electro Dragon, Spirit Empress, Lightning, Mega Knight, Tornado, Mini P.E.K.K.A, Mother Witch",
          "Deck 1719 — 8/8 carte mappate<br>P.E.K.K.A, Battle Ram, Zap, Electro Wizard, Minions, Bandit, Royal Ghost, Poison",
          "Deck 1752 — 8/8 carte mappate<br>Firecracker, Wizard, Mirror, Lightning, Arrows, P.E.K.K.A, Tornado, Baby Dragon",
          "Deck 1766 — 8/8 carte mappate<br>P.E.K.K.A, Wizard, Lightning, Zap, Minions, Bandit, Elixir Collector, Mirror",
          "Deck 1772 — 8/8 carte mappate<br>Mother Witch, The Log, Prince, Witch, Elite Barbarians, Baby Dragon, Elixir Collector, Mirror",
          "Deck 1796 — 8/8 carte mappate<br>P.E.K.K.A, Executioner, Boss Bandit, Void, Firecracker, Ram Rider, Electro Wizard, Tornado",
          "Deck 1817 — 8/8 carte mappate<br>Valkyrie, Zap, Lava Hound, Miner, Skeleton Dragons, Tombstone, Goblin Curse, Spirit Empress",
          "Deck 1820 — 8/8 carte mappate<br>Valkyrie, Lumberjack, Mega Knight, Magic Archer, Phoenix, Little Prince, Arrows, Rage",
          "Deck 1835 — 8/8 carte mappate<br>Barbarians, Battle Ram, Archer Queen, Magic Archer, Bandit, Royal Ghost, Arrows, Heal Spirit",
          "Deck 1841 — 8/8 carte mappate<br>Lumberjack, Witch, Zap, Arrows, Freeze, Sparky, Electro Giant, Tombstone",
          "Deck 1846 — 8/8 carte mappate<br>P.E.K.K.A, Battle Ram, Poison, Electro Wizard, Zap, Minions, Dark Prince, Bandit",
          "Deck 1857 — 8/8 carte mappate<br>Skeletons, Wizard, Inferno Dragon, Balloon, Golem, Minion Horde, Rage, Lightning",
          "Deck 1864 — 8/8 carte mappate<br>Valkyrie, Inferno Dragon, Balloon, Guards, Lava Hound, Skeleton Dragons, Arrows, Freeze",
          "Deck 1884 — 8/8 carte mappate<br>Barbarians, Zap, Balloon, Lava Hound, Mega Minion, Skeleton Dragons, Tombstone, Fireball",
          "Deck 1896 — 8/8 carte mappate<br>Witch, Firecracker, Arrows, Mini P.E.K.K.A, Goblin Gang, Balloon, Golem, Minions",
          "Deck 1923 — 8/8 carte mappate<br>P.E.K.K.A, Battle Ram, Electro Wizard, Bandit, Royal Ghost, Magic Archer, Zap, Poison",
          "Deck 1924 — 8/8 carte mappate<br>Zap, Battle Ram, P.E.K.K.A, Fireball, Minions, Electro Wizard, Bandit, Royal Ghost",
          "Deck 1945 — 8/8 carte mappate<br>Baby Dragon, Royal Recruits, Giant, Vines, Arrows, Prince, Dark Prince, Bats",
          "Deck 1958 — 8/8 carte mappate<br>Furnace, Executioner, Valkyrie, Rune Giant, Firecracker, Arrows, Mini P.E.K.K.A, Goblin Machine",
          "Deck 1968 — 8/8 carte mappate<br>P.E.K.K.A, Battle Ram, Dark Prince, Electro Wizard, Bandit, Magic Archer, Zap, Poison",
          "Deck 1986 — 8/8 carte mappate<br>Battle Ram, Firecracker, Royal Ghost, Vines, Electro Wizard, Boss Bandit, Goblin Curse, Arrows",
          "Deck 1997 — 8/8 carte mappate<br>Lumberjack, Electro Dragon, Balloon, Bandit, Boss Bandit, Arrows, Zap, Inferno Dragon",
          "Deck 2000 — 8/8 carte mappate<br>Firecracker, Arrows, Golem, Lightning, Skeleton Army, Night Witch, Balloon, Guards",
          "Deck 2003 — 8/8 carte mappate<br>Valkyrie, Mega Knight, Witch, Arrows, P.E.K.K.A, Rage, Night Witch, Mirror",
          "Deck 2020 — 8/8 carte mappate<br>Firecracker, Bats, Electro Wizard, Giant, Lightning, Arrows, Tombstone, Dark Prince",
          "Deck 2033 — 8/8 carte mappate<br>Valkyrie, Goblin Cage, Guards, Lava Hound, Skeleton Dragons, Arrows, Lightning, Spirit Empress",
          "Deck 2036 — 8/8 carte mappate<br>Lava Hound, Mega Minion, Minions, Balloon, Arrows, Valkyrie, Mini P.E.K.K.A, Musketeer",
          "Deck 2074 — 8/8 carte mappate<br>P.E.K.K.A, Battle Ram, Zap, Fireball, Royal Ghost, Electro Wizard, Bandit, Baby Dragon",
          "Deck 2076 — 8/8 carte mappate<br>Inferno Dragon, Zap, Miner, Barbarians, Minions, Balloon, Lava Hound, Arrows",
          "Deck 2081 — 8/8 carte mappate<br>Furnace, Musketeer, Freeze, Vines, Night Witch, Rage, Monk, Minion Horde",
          "Deck 2091 — 8/8 carte mappate<br>Bats, Miner, Guards, Mega Minion, Lava Hound, Balloon, Goblin Gang, Arrows",
          "Deck 2100 — 8/8 carte mappate<br>P.E.K.K.A, Valkyrie, Witch, Freeze, Three Musketeers, Rocket, Elite Barbarians, Elixir Collector",
          "Deck 2126 — 8/8 carte mappate<br>Wall Breakers, Knight, Elite Barbarians, Elixir Collector, Royal Ghost, Rage, Heal Spirit, Three Musketeers",
          "Deck 2172 — 8/8 carte mappate<br>Goblin Giant, Knight, Mini P.E.K.K.A, Prince, Arrows, Rage, Bats, Sparky",
          "Deck 2178 — 8/8 carte mappate<br>P.E.K.K.A, Baby Dragon, Skeleton Army, Golden Knight, Zap, Battle Ram, Electro Wizard, Bandit",
          "Deck 2185 — 8/8 carte mappate<br>Firecracker, Goblin Cage, Electro Wizard, Zap, Freeze, Battle Ram, Balloon, Giant Skeleton",
          "Deck 2201 — 8/8 carte mappate<br>Firecracker, Valkyrie, Arrows, Night Witch, Void, Skeleton Army, Baby Dragon, Golem",
          "Deck 2204 — 8/8 carte mappate<br>P.E.K.K.A, Mega Knight, Electro Wizard, Arrows, Rage, Executioner, Balloon, Poison",
          "Deck 2226 — 8/8 carte mappate<br>Valkyrie, Inferno Dragon, Lava Hound, Guards, Fireball, Balloon, Zap, Minions",
          "Deck 2233 — 8/8 carte mappate<br>Valkyrie, Witch, Baby Dragon, Arrows, Rage, Prince, Mini P.E.K.K.A, Tornado",
          "Deck 2240 — 8/8 carte mappate<br>P.E.K.K.A, Valkyrie, Lightning, Arrows, Mother Witch, Inferno Dragon, Electro Wizard, Bowler",
          "Deck 2260 — 8/8 carte mappate<br>Firecracker, Lumberjack, Tornado, Lightning, Golem, Mini P.E.K.K.A, Arrows, Night Witch",
          "Deck 2292 — 8/8 carte mappate<br>P.E.K.K.A, Mega Knight, Monk, Zap, Poison, Skeleton Army, Inferno Dragon, Dark Prince",
          "Deck 2296 — 8/8 carte mappate<br>Executioner, Valkyrie, Mini P.E.K.K.A, Poison, Electro Wizard, Elixir Golem, Arrows, Mega Knight",
          "Deck 2310 — 8/8 carte mappate<br>Firecracker, Battle Ram, Fireball, Zap, Guards, Giant, Golden Knight, Night Witch",
          "Deck 2313 — 8/8 carte mappate<br>Mega Knight, Electro Dragon, Mini P.E.K.K.A, Mother Witch, Mirror, Arrows, Lightning, Witch",
          "Deck 2315 — 8/8 carte mappate<br>Lava Hound, Firecracker, Lightning, Mega Minion, Tombstone, Arrows, Balloon, Skeleton Army",
          "Deck 2316 — 8/8 carte mappate<br>Valkyrie, Executioner, Arrows, Lightning, Balloon, Lumberjack, Guards, Electro Wizard",
          "Deck 2318 — 8/8 carte mappate<br>Baby Dragon, Dart Goblin, Mini P.E.K.K.A, Bowler, Miner, Goblin Curse, Electro Wizard, Zap",
          "Deck 2343 — 8/8 carte mappate<br>P.E.K.K.A, Witch, Tornado, Freeze, Ram Rider, Mini P.E.K.K.A, Elite Barbarians, Rage",
          "Deck 2347 — 8/8 carte mappate<br>Valkyrie, Electro Dragon, Fireball, Battle Healer, Witch, Arrows, Mini P.E.K.K.A, Elixir Golem",
          "Deck 2349 — 8/8 carte mappate<br>Witch, Valkyrie, Fireball, Royal Ghost, Inferno Dragon, Baby Dragon, Bandit, Magic Archer",
          "Deck 2364 — 8/8 carte mappate<br>P.E.K.K.A, Valkyrie, Lightning, Arrows, Mother Witch, Inferno Dragon, Electro Wizard, Bowler",
          "Deck 2391 — 8/8 carte mappate<br>P.E.K.K.A, Goblin Giant, Electro Wizard, Rage, Arrows, Skeletons, Fisherman, Lightning",
          "Deck 2399 — 8/8 carte mappate<br>Executioner, Lumberjack, Night Witch, Prince, Skeleton Army, Giant, Minion Horde, Flying Machine",
          "Deck 2401 — 8/8 carte mappate<br>Lumberjack, Valkyrie, Balloon, Fireball, Ice Wizard, Arrows, Mega Minion, Tombstone",
          "Deck 2402 — 8/8 carte mappate<br>Executioner, Lumberjack, Night Witch, Prince, Skeleton Army, Giant, Minion Horde, Flying Machine",
          "Deck 2407 — 8/8 carte mappate<br>Valkyrie, Bats, Night Witch, Golem, Inferno Dragon, Bandit, Arrows, Lightning",
          "Deck 2422 — 8/8 carte mappate<br>Baby Dragon, Knight, Lightning, Giant, Arrows, Night Witch, Mega Minion, Mini P.E.K.K.A",
          "Deck 2424 — 8/8 carte mappate<br>P.E.K.K.A, Furnace, Rage, Hog Rider, Electro Wizard, Arrows, Mini P.E.K.K.A, Lightning",
          "Deck 2427 — 8/8 carte mappate<br>Knight, Electro Dragon, Mega Minion, Skeleton Army, Sparky, Elixir Golem, Mirror, Arrows",
          "Deck 2447 — 8/8 carte mappate<br>Lumberjack, Valkyrie, Mega Minion, Minions, Clone, Giant Skeleton, Balloon, Zap",
          "Deck 2448 — 8/8 carte mappate<br>Guards, Lumberjack, Inferno Dragon, Freeze, Lightning, Baby Dragon, Balloon, Arrows",
          "Deck 2461 — 8/8 carte mappate<br>Mega Knight, Executioner, Electro Wizard, Elixir Golem, Tornado, Arrows, Mini P.E.K.K.A, Furnace",
          "Deck 2476 — 8/8 carte mappate<br>Wizard, Skeleton Barrel, Giant Skeleton, Minion Horde, Clone, Arrows, Berserker, Night Witch"
         ],
         "marker": {
          "color": "rgb(55,126,184)",
          "size": 6
         },
         "mode": "markers",
         "name": "Cluster 1",
         "text": [
          "Deck 39",
          "Deck 51",
          "Deck 109",
          "Deck 145",
          "Deck 160",
          "Deck 178",
          "Deck 181",
          "Deck 186",
          "Deck 188",
          "Deck 194",
          "Deck 207",
          "Deck 219",
          "Deck 231",
          "Deck 236",
          "Deck 259",
          "Deck 267",
          "Deck 299",
          "Deck 304",
          "Deck 306",
          "Deck 311",
          "Deck 352",
          "Deck 357",
          "Deck 386",
          "Deck 396",
          "Deck 399",
          "Deck 402",
          "Deck 429",
          "Deck 440",
          "Deck 458",
          "Deck 479",
          "Deck 484",
          "Deck 486",
          "Deck 487",
          "Deck 511",
          "Deck 516",
          "Deck 549",
          "Deck 568",
          "Deck 574",
          "Deck 580",
          "Deck 594",
          "Deck 605",
          "Deck 614",
          "Deck 617",
          "Deck 630",
          "Deck 648",
          "Deck 665",
          "Deck 676",
          "Deck 695",
          "Deck 699",
          "Deck 741",
          "Deck 747",
          "Deck 778",
          "Deck 799",
          "Deck 809",
          "Deck 817",
          "Deck 841",
          "Deck 849",
          "Deck 860",
          "Deck 869",
          "Deck 890",
          "Deck 908",
          "Deck 922",
          "Deck 940",
          "Deck 945",
          "Deck 969",
          "Deck 977",
          "Deck 984",
          "Deck 990",
          "Deck 1016",
          "Deck 1018",
          "Deck 1025",
          "Deck 1026",
          "Deck 1031",
          "Deck 1043",
          "Deck 1051",
          "Deck 1089",
          "Deck 1097",
          "Deck 1132",
          "Deck 1137",
          "Deck 1157",
          "Deck 1164",
          "Deck 1171",
          "Deck 1190",
          "Deck 1203",
          "Deck 1204",
          "Deck 1212",
          "Deck 1222",
          "Deck 1240",
          "Deck 1246",
          "Deck 1253",
          "Deck 1256",
          "Deck 1263",
          "Deck 1298",
          "Deck 1309",
          "Deck 1315",
          "Deck 1321",
          "Deck 1339",
          "Deck 1376",
          "Deck 1392",
          "Deck 1404",
          "Deck 1405",
          "Deck 1427",
          "Deck 1440",
          "Deck 1442",
          "Deck 1448",
          "Deck 1454",
          "Deck 1465",
          "Deck 1472",
          "Deck 1475",
          "Deck 1486",
          "Deck 1500",
          "Deck 1502",
          "Deck 1509",
          "Deck 1518",
          "Deck 1524",
          "Deck 1535",
          "Deck 1551",
          "Deck 1580",
          "Deck 1588",
          "Deck 1601",
          "Deck 1616",
          "Deck 1620",
          "Deck 1621",
          "Deck 1636",
          "Deck 1638",
          "Deck 1649",
          "Deck 1673",
          "Deck 1675",
          "Deck 1698",
          "Deck 1708",
          "Deck 1712",
          "Deck 1717",
          "Deck 1719",
          "Deck 1752",
          "Deck 1766",
          "Deck 1772",
          "Deck 1796",
          "Deck 1817",
          "Deck 1820",
          "Deck 1835",
          "Deck 1841",
          "Deck 1846",
          "Deck 1857",
          "Deck 1864",
          "Deck 1884",
          "Deck 1896",
          "Deck 1923",
          "Deck 1924",
          "Deck 1945",
          "Deck 1958",
          "Deck 1968",
          "Deck 1986",
          "Deck 1997",
          "Deck 2000",
          "Deck 2003",
          "Deck 2020",
          "Deck 2033",
          "Deck 2036",
          "Deck 2074",
          "Deck 2076",
          "Deck 2081",
          "Deck 2091",
          "Deck 2100",
          "Deck 2126",
          "Deck 2172",
          "Deck 2178",
          "Deck 2185",
          "Deck 2201",
          "Deck 2204",
          "Deck 2226",
          "Deck 2233",
          "Deck 2240",
          "Deck 2260",
          "Deck 2292",
          "Deck 2296",
          "Deck 2310",
          "Deck 2313",
          "Deck 2315",
          "Deck 2316",
          "Deck 2318",
          "Deck 2343",
          "Deck 2347",
          "Deck 2349",
          "Deck 2364",
          "Deck 2391",
          "Deck 2399",
          "Deck 2401",
          "Deck 2402",
          "Deck 2407",
          "Deck 2422",
          "Deck 2424",
          "Deck 2427",
          "Deck 2447",
          "Deck 2448",
          "Deck 2461",
          "Deck 2476"
         ],
         "type": "scatter3d",
         "x": {
          "bdata": "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",
          "dtype": "f8"
         },
         "y": {
          "bdata": "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",
          "dtype": "f8"
         },
         "z": {
          "bdata": "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",
          "dtype": "f8"
         }
        },
        {
         "hoverinfo": "text",
         "hovertext": [
          "Deck 19 — 8/8 carte mappate<br>Giant Snowball, Royal Giant, Ice Spirit, Royal Delivery, Cannon, The Log, Vines, Monk",
          "Deck 56 — 8/8 carte mappate<br>Archers, Tesla, X-Bow, Electro Spirit, Skeletons, The Log, Knight, Fireball",
          "Deck 80 — 8/8 carte mappate<br>Tesla, Giant Snowball, X-Bow, Rocket, The Log, Ice Wizard, Knight, Skeletons",
          "Deck 130 — 8/8 carte mappate<br>Archers, Tesla, Skeletons, Electro Spirit, X-Bow, The Log, Rocket, Knight",
          "Deck 150 — 8/8 carte mappate<br>Ice Spirit, Cannon, Earthquake, Archer Queen, Royal Hogs, Skeletons, Royal Delivery, The Log",
          "Deck 161 — 8/8 carte mappate<br>Tesla, Archers, Knight, The Log, Skeletons, Fireball, Electro Spirit, X-Bow",
          "Deck 183 — 8/8 carte mappate<br>Archers, Tesla, Knight, Skeletons, Electro Spirit, X-Bow, Fireball, The Log",
          "Deck 254 — 8/8 carte mappate<br>Furnace, Giant Snowball, Cannon, X-Bow, Bats, Fireball, Skeletons, Knight",
          "Deck 273 — 8/8 carte mappate<br>Tesla, Ice Spirit, Mighty Miner, Miner, The Log, Rocket, Royal Delivery, Berserker",
          "Deck 280 — 8/8 carte mappate<br>Archers, Skeletons, Tesla, Knight, X-Bow, Fireball, The Log, Electro Spirit",
          "Deck 301 — 8/8 carte mappate<br>Archers, Tesla, Knight, Fireball, X-Bow, Electro Spirit, Skeletons, The Log",
          "Deck 303 — 8/8 carte mappate<br>Firecracker, Wall Breakers, Skeletons, Royal Delivery, Ice Spirit, Cannon, Goblin Drill, The Log",
          "Deck 397 — 8/8 carte mappate<br>Ice Spirit, Tesla, Goblin Demolisher, Giant Snowball, Poison, Knight, Goblin Drill, Fire Spirit",
          "Deck 400 — 8/8 carte mappate<br>Cannon, Ice Spirit, Royal Hogs, Vines, Archer Queen, Royal Delivery, Skeletons, The Log",
          "Deck 468 — 8/8 carte mappate<br>Archers, Knight, Tesla, X-Bow, Skeletons, Fireball, Ice Spirit, The Log",
          "Deck 527 — 8/8 carte mappate<br>Knight, X-Bow, Archer Queen, Goblins, Fire Spirit, Ice Spirit, The Log, Elixir Collector",
          "Deck 632 — 8/8 carte mappate<br>Archers, Tesla, Electro Spirit, Skeletons, Knight, Fireball, X-Bow, The Log",
          "Deck 694 — 8/8 carte mappate<br>Tesla, Archers, Electro Spirit, Knight, Skeletons, X-Bow, The Log, Fireball",
          "Deck 737 — 8/8 carte mappate<br>Archers, Tesla, Fireball, X-Bow, Knight, The Log, Electro Spirit, Skeletons",
          "Deck 752 — 8/8 carte mappate<br>Tesla, Skeletons, X-Bow, Rocket, Tornado, Knight, Ice Wizard, The Log",
          "Deck 789 — 8/8 carte mappate<br>Skeletons, Musketeer, Cannon, The Log, Electro Spirit, Fireball, Hog Rider, Ice Golem",
          "Deck 806 — 8/8 carte mappate<br>Skeletons, Cannon, Archer Queen, Royal Hogs, Earthquake, Royal Delivery, The Log, Ice Spirit",
          "Deck 820 — 8/8 carte mappate<br>Tesla, Archers, Knight, The Log, Fireball, X-Bow, Electro Spirit, Skeletons",
          "Deck 822 — 8/8 carte mappate<br>Tesla, Knight, Electro Spirit, X-Bow, The Log, Fireball, Skeletons, Archers",
          "Deck 850 — 8/8 carte mappate<br>Tesla, Ice Spirit, Skeletons, Miner, Royal Delivery, The Log, Berserker, Rocket",
          "Deck 867 — 8/8 carte mappate<br>Tesla, Archers, X-Bow, The Log, Ice Spirit, Berserker, Rocket, Elixir Collector",
          "Deck 882 — 8/8 carte mappate<br>Ice Spirit, Skeletons, Goblin Gang, Zap, Giant Snowball, The Log, Ice Golem, Cannon",
          "Deck 894 — 8/8 carte mappate<br>Archers, Tesla, Knight, Skeletons, Electro Spirit, X-Bow, Fireball, The Log",
          "Deck 902 — 8/8 carte mappate<br>Skeletons, Ice Spirit, The Log, Cannon, Royal Delivery, Earthquake, Archer Queen, Royal Hogs",
          "Deck 956 — 8/8 carte mappate<br>Tesla, Archers, Electro Spirit, X-Bow, Fireball, The Log, Skeletons, Ice Golem",
          "Deck 980 — 8/8 carte mappate<br>Cannon, Ice Spirit, Royal Hogs, Royal Delivery, Skeletons, The Log, Earthquake, Archer Queen",
          "Deck 1073 — 8/8 carte mappate<br>Archers, Tesla, Skeletons, Electro Spirit, X-Bow, The Log, Knight, Fireball",
          "Deck 1110 — 8/8 carte mappate<br>Archers, Tesla, Knight, Skeletons, Electro Spirit, X-Bow, Fireball, The Log",
          "Deck 1162 — 8/8 carte mappate<br>Cannon, Furnace, Mighty Miner, Hog Rider, Earthquake, Barbarian Barrel, Skeletons, Electro Spirit",
          "Deck 1166 — 8/8 carte mappate<br>Goblin Drill, Tesla, Knight, The Log, Skeletons, Goblin Demolisher, Electro Spirit, Poison",
          "Deck 1224 — 8/8 carte mappate<br>Cannon, Firecracker, Electro Spirit, Earthquake, Barbarian Barrel, Hog Rider, Skeletons, Mighty Miner",
          "Deck 1267 — 8/8 carte mappate<br>Ice Golem, Tesla, X-Bow, Lumberjack, Musketeer, Valkyrie, Skeletons, Zap",
          "Deck 1281 — 8/8 carte mappate<br>Tesla, Skeleton Barrel, Royal Delivery, Berserker, Goblin Drill, Fireball, Ice Spirit, Giant Snowball",
          "Deck 1318 — 8/8 carte mappate<br>Archers, Tesla, Electro Spirit, X-Bow, Knight, Skeletons, The Log, Fireball",
          "Deck 1353 — 8/8 carte mappate<br>Ice Spirit, Cannon, Earthquake, Archer Queen, Skeletons, Royal Hogs, Royal Delivery, The Log",
          "Deck 1365 — 8/8 carte mappate<br>Knight, Tesla, The Log, X-Bow, Little Prince, Fireball, Ice Spirit, Skeletons",
          "Deck 1379 — 8/8 carte mappate<br>Skeletons, Ice Spirit, Cannon, Little Prince, Hog Rider, Fireball, The Log, Ice Golem",
          "Deck 1390 — 8/8 carte mappate<br>Tesla, Archers, X-Bow, Electro Spirit, Knight, Fireball, Skeletons, Vines",
          "Deck 1573 — 8/8 carte mappate<br>Skeletons, Archers, The Log, Fireball, Electro Spirit, Tesla, X-Bow, Knight",
          "Deck 1632 — 8/8 carte mappate<br>Tesla, Archers, X-Bow, Skeletons, Ice Spirit, Fireball, The Log, Knight",
          "Deck 1667 — 8/8 carte mappate<br>Tesla, Archers, X-Bow, The Log, Ice Spirit, Knight, Skeletons, Fireball",
          "Deck 1733 — 8/8 carte mappate<br>Archers, Tesla, The Log, Fireball, Electro Spirit, Skeletons, Knight, X-Bow",
          "Deck 1751 — 8/8 carte mappate<br>Cannon, Skeletons, Earthquake, Royal Delivery, Ice Spirit, The Log, Royal Hogs, Archer Queen",
          "Deck 1753 — 8/8 carte mappate<br>Skeletons, Cannon, Musketeer, Fireball, Ice Golem, Electro Spirit, The Log, Hog Rider",
          "Deck 1774 — 8/8 carte mappate<br>Archers, Tesla, X-Bow, Electro Spirit, The Log, Knight, Fireball, Skeletons",
          "Deck 1814 — 8/8 carte mappate<br>Cannon, Giant Snowball, Goblin Drill, Knight, Goblin Demolisher, Ice Spirit, Poison, Skeletons",
          "Deck 1836 — 8/8 carte mappate<br>Musketeer, Firecracker, Hog Rider, Ice Spirit, Barbarian Barrel, Cannon, Ice Golem, Skeletons",
          "Deck 1957 — 8/8 carte mappate<br>Ice Spirit, Cannon, The Log, Royal Delivery, Royal Hogs, Knight, Archer Queen, Skeletons",
          "Deck 1990 — 8/8 carte mappate<br>Tesla, Archers, Skeletons, Electro Spirit, X-Bow, The Log, Fireball, Knight",
          "Deck 2009 — 8/8 carte mappate<br>Archers, Tesla, Knight, Skeletons, Electro Spirit, Fireball, The Log, X-Bow",
          "Deck 2196 — 8/8 carte mappate<br>Knight, Tesla, Rocket, Tornado, Ice Wizard, The Log, X-Bow, Skeletons",
          "Deck 2209 — 8/8 carte mappate<br>Cannon, Musketeer, Hog Rider, Fireball, Ice Golem, Electro Spirit, Skeletons, The Log",
          "Deck 2252 — 8/8 carte mappate<br>Tesla, Archers, The Log, X-Bow, Ice Spirit, Fireball, Knight, Ice Golem",
          "Deck 2277 — 8/8 carte mappate<br>Cannon, Wall Breakers, Fireball, The Log, Mighty Miner, Goblin Drill, Fire Spirit, Skeletons",
          "Deck 2309 — 8/8 carte mappate<br>Archers, Tesla, Knight, Skeletons, The Log, Fireball, X-Bow, Electro Spirit",
          "Deck 2328 — 8/8 carte mappate<br>Giant Snowball, Cannon, Knight, X-Bow, Vines, Furnace, Skeletons, Ice Spirit",
          "Deck 2329 — 8/8 carte mappate<br>Firecracker, Cannon, Electro Spirit, Mighty Miner, Hog Rider, Skeletons, Earthquake, Barbarian Barrel",
          "Deck 2340 — 8/8 carte mappate<br>Firecracker, Tesla, X-Bow, Skeletons, Ice Spirit, Knight, The Log, Fireball",
          "Deck 2417 — 8/8 carte mappate<br>Cannon, Firecracker, Electro Spirit, Earthquake, Barbarian Barrel, Hog Rider, Skeletons, Mighty Miner"
         ],
         "marker": {
          "color": "rgb(77,175,74)",
          "size": 6
         },
         "mode": "markers",
         "name": "Cluster 2",
         "text": [
          "Deck 19",
          "Deck 56",
          "Deck 80",
          "Deck 130",
          "Deck 150",
          "Deck 161",
          "Deck 183",
          "Deck 254",
          "Deck 273",
          "Deck 280",
          "Deck 301",
          "Deck 303",
          "Deck 397",
          "Deck 400",
          "Deck 468",
          "Deck 527",
          "Deck 632",
          "Deck 694",
          "Deck 737",
          "Deck 752",
          "Deck 789",
          "Deck 806",
          "Deck 820",
          "Deck 822",
          "Deck 850",
          "Deck 867",
          "Deck 882",
          "Deck 894",
          "Deck 902",
          "Deck 956",
          "Deck 980",
          "Deck 1073",
          "Deck 1110",
          "Deck 1162",
          "Deck 1166",
          "Deck 1224",
          "Deck 1267",
          "Deck 1281",
          "Deck 1318",
          "Deck 1353",
          "Deck 1365",
          "Deck 1379",
          "Deck 1390",
          "Deck 1573",
          "Deck 1632",
          "Deck 1667",
          "Deck 1733",
          "Deck 1751",
          "Deck 1753",
          "Deck 1774",
          "Deck 1814",
          "Deck 1836",
          "Deck 1957",
          "Deck 1990",
          "Deck 2009",
          "Deck 2196",
          "Deck 2209",
          "Deck 2252",
          "Deck 2277",
          "Deck 2309",
          "Deck 2328",
          "Deck 2329",
          "Deck 2340",
          "Deck 2417"
         ],
         "type": "scatter3d",
         "x": {
          "bdata": "f1ePmjXcqz/Nl+rIk4ayP/7nNcHp0bA/w9f5Rapzsz952YBCeVG1P86X6siThrI/zpfqyJOGsj8JT/GSVZqsP5qfuOHRsbE/zZfqyJOGsj/Ol+rIk4ayP4+NfblZMrM/7FKxxlPXrT8jS9H670WwP+V0B2SrUrM/+imCI8bJrz/Ol+rIk4ayP86X6siThrI/zZfqyJOGsj+WUoZxspyuP0peBaGyCLE/etmAQnlRtT/Ol+rIk4ayP82X6siThrI/Dr9JihmvsD9uqUeOO1SuP92yQzAyBrA/zpfqyJOGsj952YBCeVG1P20NWhEnWbQ/edmAQnlRtT/Nl+rIk4ayP86X6siThrI/9oTwceicsT/nBvn6IwKwPwzKLW38S7I/nZOjlSjNqj+V+dFlZKqtP86X6siThrI/edmAQnlRtT8I6Rj9SHqzPwv+a8emJLI/UaD33G2bsD/Ol+rIk4ayP+V0B2SrUrM/5XQHZKtSsz/Ol+rIk4ayP3nZgEJ5UbU/Sl4FobIIsT/Nl+rIk4ayP4y1C5h03rA/YvNdaouWrj/mt1jzti2yP82X6siThrI/zZfqyJOGsj+VUoZxspyuP0teBaGyCLE/qaX6YUBUtD+ast3xx0exP82X6siThrI/tkGF4ogJsT8Nyi1t/EuyP3SzUPDarbI/DMotbfxLsj8=",
          "dtype": "f8"
         },
         "y": {
          "bdata": "P52tgcYrgj+SfJUCG+NkvyULK804onc/OGQSyYBCa79KWu1LOD5xv5J8lQIb42S/k3yVAhvjZL9av1HfoCJlPwAUnjTf/ji/k3yVAhvjZL+TfJUCG+Nkv8BYpQdasQS/b/8DwRh4kj/kkIDET71SP4we3S0Mh3i/EDTfXMeWTj+TfJUCG+Nkv5N8lQIb42S/lHyVAhvjZL/58vxc87BjP676XJTafoG/SVrtSzg+cb+SfJUCG+Nkv5N8lQIb42S/cJMi53YJS7/EmJ0TqYl+P65TtXIljHi/k3yVAhvjZL9JWu1LOD5xv0Q0wjeWJ08/SVrtSzg+cb+SfJUCG+Nkv5N8lQIb42S/uDwzE8z3Zz8QMx2UWhyOP9Bn7EJ4zWe/pF3FgQeFd7+aW/e0FE2MP5F8lQIb42S/SlrtSzg+cb+s92SAnRN1v6pM0gG1loO/i/5JW+QFYT+SfJUCG+Nkv4we3S0Mh3i/jB7dLQyHeL+WfJUCG+Nkv0la7Us4PnG/rvpclNp+gb+RfJUCG+Nkv0CMiQauOJU/CWUFeuRYar8Bpi8HU2Fmv5J8lQIb42S/knyVAhvjZL/88vxc87BjP676XJTafoG/ErlVNMdlbb+cfZjd9CJUv5V8lQIb42S/91yx/uDYhz/QZ+xCeM1nv2CODoHleYO/0GfsQnjNZ78=",
          "dtype": "f8"
         },
         "z": {
          "bdata": "nlY4m/8DhT8AoP7EXHaYPwLyee9n7Io/zaFvpF5jlT+c41a0UIlyPwCg/sRcdpg/AKD+xFx2mD9tdJ61d4GMP6S0vd2Hvlm/AKD+xFx2mD8AoP7EXHaYP6snEQtGhHI/WLRAKUzhcj8orvaFM9sJP3K+aDP4zpY/wUFYIRsxkT8BoP7EXHaYPwCg/sRcdpg/AaD+xFx2mD/NFBOv5naLP2bjzXsPWJE/nONWtFCJcj8BoP7EXHaYPwCg/sRcdpg/dgLP+i8WZT/eSvdM0MOSP24fQWG2VIA/AKD+xFx2mD+e41a0UIlyP7EfDMLxqp4/neNWtFCJcj8AoP7EXHaYPwCg/sRcdpg/mO2i2dk7ej9Mb2t4U4+BP0P9B+MqZ4A/C//5z+8CmT+0t+FPCaZiPwCg/sRcdpg/neNWtFCJcj//HRGo5+aWP0CGwrgcBZE/nFI3edablz8BoP7EXHaYP3K+aDP4zpY/cr5oM/jOlj8BoP7EXHaYP57jVrRQiXI/ZePNew9YkT8AoP7EXHaYPwu992fNbXw/Rf3onXgxij84GojIYIA4PwCg/sRcdpg/AaD+xFx2mD/NFBOv5naLP2TjzXsPWJE/xaM2E4Ammz+y1+31Tu1BvwCg/sRcdpg/zlspHiFKjz9C/QfjKmeAP+NqH8zAh5M/Q/0H4ypngD8=",
          "dtype": "f8"
         }
        },
        {
         "hoverinfo": "text",
         "hovertext": [
          "Deck 5 — 8/8 carte mappate<br>Knight, Firecracker, Electro Giant, Elite Barbarians, Mini P.E.K.K.A, Dark Prince, The Log, Lightning",
          "Deck 11 — 8/8 carte mappate<br>P.E.K.K.A, Archers, Skeleton Army, Arrows, Executioner, Valkyrie, Electro Wizard, The Log",
          "Deck 32 — 8/8 carte mappate<br>Valkyrie, P.E.K.K.A, Baby Dragon, Ram Rider, Mega Knight, Mini P.E.K.K.A, Witch, Inferno Tower",
          "Deck 37 — 8/8 carte mappate<br>Wizard, Giant Snowball, Archers, Zap, Elite Barbarians, Tombstone, P.E.K.K.A, Goblin Barrel",
          "Deck 42 — 8/8 carte mappate<br>Lumberjack, Firecracker, Knight, Golem, Mini P.E.K.K.A, Arrows, Hog Rider, Mega Minion",
          "Deck 43 — 8/8 carte mappate<br>Mega Knight, Tesla, Minion Horde, Mini P.E.K.K.A, Firecracker, Arrows, Vines, Boss Bandit",
          "Deck 48 — 8/8 carte mappate<br>Giant Skeleton, Firecracker, Clone, Skeleton Barrel, Zap, Hunter, Balloon, Mini P.E.K.K.A",
          "Deck 69 — 8/8 carte mappate<br>Firecracker, Valkyrie, Witch, Goblin Gang, Prince, Knight, Elixir Golem, Rage",
          "Deck 70 — 8/8 carte mappate<br>Wizard, Skeletons, Royal Ghost, Goblin Barrel, Minion Horde, Prince, Electro Wizard, Bomber",
          "Deck 72 — 8/8 carte mappate<br>Electro Wizard, Executioner, Royal Ghost, P.E.K.K.A, Hog Rider, Fireball, Bandit, The Log",
          "Deck 76 — 8/8 carte mappate<br>Bats, Goblin Giant, Prince, Spear Goblins, Dark Prince, Goblin Gang, Fireball, Zap",
          "Deck 91 — 8/8 carte mappate<br>Dart Goblin, Valkyrie, Dark Prince, Prince, Arrows, Mini P.E.K.K.A, Firecracker, Barbarian Barrel",
          "Deck 94 — 8/8 carte mappate<br>Valkyrie, Wizard, Mini P.E.K.K.A, Musketeer, Giant, Fireball, P.E.K.K.A, Ice Wizard",
          "Deck 101 — 8/8 carte mappate<br>Valkyrie, Archers, Minions, Zap, Mirror, Hog Rider, Royal Hogs, Mini P.E.K.K.A",
          "Deck 114 — 8/8 carte mappate<br>Mega Knight, Firecracker, Prince, Witch, The Log, P.E.K.K.A, Sparky, Hog Rider",
          "Deck 118 — 8/8 carte mappate<br>Mega Knight, Zap, Vines, Princess, Skeleton Army, Mini P.E.K.K.A, Ice Wizard, Electro Wizard",
          "Deck 127 — 8/8 carte mappate<br>Zap, Wizard, Giant Skeleton, Elite Barbarians, Vines, Hog Rider, Clone, The Log",
          "Deck 136 — 8/8 carte mappate<br>Zap, Lumberjack, Ram Rider, Skeleton King, Goblin Barrel, Lightning, Minions, Inferno Tower",
          "Deck 137 — 8/8 carte mappate<br>P.E.K.K.A, Battle Ram, Firecracker, Magic Archer, Fireball, Zap, Guards, Royal Ghost",
          "Deck 156 — 8/8 carte mappate<br>Mega Knight, Firecracker, Golden Knight, Bats, Fisherman, Electro Wizard, Arrows, The Log",
          "Deck 159 — 8/8 carte mappate<br>P.E.K.K.A, Tesla, Prince, Hog Rider, Fireball, Electro Wizard, Goblin Curse, Rage",
          "Deck 162 — 8/8 carte mappate<br>Wall Breakers, Tesla, Dark Prince, P.E.K.K.A, Lightning, Arrows, Mini P.E.K.K.A, Elite Barbarians",
          "Deck 172 — 8/8 carte mappate<br>Mega Knight, Valkyrie, Lumberjack, Zap, Balloon, Magic Archer, Dart Goblin, Giant Snowball",
          "Deck 175 — 8/8 carte mappate<br>Executioner, Valkyrie, Hog Rider, Mini P.E.K.K.A, The Log, Zap, Lumberjack, Electro Wizard",
          "Deck 176 — 8/8 carte mappate<br>Valkyrie, Royal Giant, Hog Rider, Minions, Mini P.E.K.K.A, Guards, Arrows, Bandit",
          "Deck 180 — 8/8 carte mappate<br>Firecracker, Witch, Elixir Golem, Arrows, Valkyrie, Knight, Wizard, Baby Dragon",
          "Deck 193 — 8/8 carte mappate<br>Knight, Wizard, Fireball, Mirror, Mega Minion, Ice Wizard, Mini P.E.K.K.A, Lumberjack",
          "Deck 208 — 8/8 carte mappate<br>Witch, Dark Prince, Musketeer, Giant Skeleton, The Log, Guards, Inferno Tower, Arrows",
          "Deck 220 — 8/8 carte mappate<br>Firecracker, Valkyrie, Mirror, Fireball, Witch, Mini P.E.K.K.A, Hog Rider, Giant",
          "Deck 241 — 8/8 carte mappate<br>Baby Dragon, Lumberjack, Knight, Barbarian Barrel, Inferno Tower, Wizard, Giant Skeleton, Electro Wizard",
          "Deck 247 — 8/8 carte mappate<br>Tesla, Mega Knight, Mirror, The Log, Wizard, Prince, Rage, Ram Rider",
          "Deck 255 — 8/8 carte mappate<br>Royal Giant, Witch, Rage, Valkyrie, Wizard, Hog Rider, Barbarians, Knight",
          "Deck 263 — 8/8 carte mappate<br>Firecracker, Mega Knight, Zap, Musketeer, Elite Barbarians, Fireball, Bomber, Skeleton Army",
          "Deck 269 — 8/8 carte mappate<br>P.E.K.K.A, Valkyrie, Skeleton Army, Wizard, Zap, Musketeer, Flying Machine, Tesla",
          "Deck 278 — 8/8 carte mappate<br>Mega Knight, Furnace, Inferno Tower, Skeleton Army, Electro Wizard, Minions, Vines, Bandit",
          "Deck 279 — 8/8 carte mappate<br>Mega Knight, Goblin Barrel, Dart Goblin, Magic Archer, Ice Wizard, Royal Ghost, Minions, Skeleton Army",
          "Deck 318 — 8/8 carte mappate<br>Mega Knight, Wall Breakers, Bats, Goblin Curse, Prince, Arrows, Archer Queen, Bandit",
          "Deck 320 — 8/8 carte mappate<br>Musketeer, Valkyrie, Skeleton Army, Rage, Lightning, Ram Rider, Freeze, Knight",
          "Deck 333 — 8/8 carte mappate<br>Firecracker, Mega Knight, Hog Rider, Goblin Gang, Minions, Poison, Executioner, Witch",
          "Deck 335 — 8/8 carte mappate<br>Skeletons, Knight, Minions, Minion Horde, Arrows, Three Musketeers, Elixir Collector, Lumberjack",
          "Deck 360 — 8/8 carte mappate<br>Wizard, Mega Knight, Tornado, Bats, Furnace, Giant Skeleton, Hog Rider, Arrows",
          "Deck 370 — 8/8 carte mappate<br>Archers, Tesla, Miner, Freeze, Giant Skeleton, Balloon, Minions, Arrows",
          "Deck 377 — 8/8 carte mappate<br>Firecracker, Valkyrie, Inferno Dragon, Electro Wizard, Mega Knight, Poison, Hog Rider, Bandit",
          "Deck 421 — 8/8 carte mappate<br>Valkyrie, Witch, Golem, Arrows, Archers, Guards, Goblin Gang, Skeleton Barrel",
          "Deck 436 — 8/8 carte mappate<br>Firecracker, Valkyrie, Arrows, Boss Bandit, Electro Wizard, Lightning, Mini P.E.K.K.A, Guards",
          "Deck 441 — 8/8 carte mappate<br>Firecracker, Mega Knight, Minions, Furnace, Witch, Skeleton Army, The Log, Mini P.E.K.K.A",
          "Deck 442 — 8/8 carte mappate<br>Valkyrie, Witch, Fire Spirit, Mini P.E.K.K.A, Freeze, Ice Spirit, Bowler, Balloon",
          "Deck 446 — 8/8 carte mappate<br>Firecracker, Valkyrie, Skeleton Army, The Log, Mother Witch, Fireball, Prince, Ram Rider",
          "Deck 447 — 8/8 carte mappate<br>Firecracker, Inferno Dragon, Knight, The Log, Balloon, Mini P.E.K.K.A, Arrows, Lightning",
          "Deck 461 — 8/8 carte mappate<br>Executioner, Mega Knight, Boss Bandit, Arrows, Guards, Lightning, Hog Rider, Witch",
          "Deck 465 — 8/8 carte mappate<br>Mega Knight, Valkyrie, Executioner, Tornado, Goblin Gang, Prince, Lightning, Skeleton Barrel",
          "Deck 469 — 8/8 carte mappate<br>Firecracker, Bats, Baby Dragon, Prince, Mini P.E.K.K.A, Arrows, Dark Prince, Hog Rider",
          "Deck 477 — 8/8 carte mappate<br>Lumberjack, Witch, Arrows, Hog Rider, Mega Knight, Vines, Zap, Archers",
          "Deck 481 — 8/8 carte mappate<br>Mega Knight, Firecracker, Ram Rider, Arrows, Inferno Dragon, Knight, Minions, Furnace",
          "Deck 499 — 8/8 carte mappate<br>Royal Giant, Valkyrie, Furnace, Zap, The Log, Minions, Fireball, Barbarians",
          "Deck 504 — 8/8 carte mappate<br>Valkyrie, Wizard, Mini P.E.K.K.A, Fireball, Rage, Giant Skeleton, Goblin Drill, Witch",
          "Deck 512 — 8/8 carte mappate<br>Barbarians, Prince, Valkyrie, Fireball, Ram Rider, Minions, Zap, Musketeer",
          "Deck 517 — 8/8 carte mappate<br>Mega Knight, Minion Horde, Hog Rider, Arrows, Fireball, Skeleton Army, Poison, P.E.K.K.A",
          "Deck 519 — 8/8 carte mappate<br>Royal Giant, Mega Knight, Minions, Hog Rider, Little Prince, Mini P.E.K.K.A, Arrows, Bandit",
          "Deck 524 — 8/8 carte mappate<br>Mega Knight, Firecracker, Dart Goblin, The Log, P.E.K.K.A, Bomber, Electro Wizard, Arrows",
          "Deck 537 — 8/8 carte mappate<br>Lumberjack, Hunter, Balloon, Bats, Tombstone, Fireball, Witch, Zap",
          "Deck 548 — 8/8 carte mappate<br>Valkyrie, Lumberjack, Balloon, Knight, Night Witch, Freeze, Dart Goblin, Tesla",
          "Deck 570 — 8/8 carte mappate<br>Wizard, Lightning, Giant, Guards, Vines, Mini P.E.K.K.A, Ice Spirit, Baby Dragon",
          "Deck 578 — 8/8 carte mappate<br>Wizard, Valkyrie, Arrows, Guards, Hog Rider, Minions, The Log, Mini P.E.K.K.A",
          "Deck 589 — 8/8 carte mappate<br>Valkyrie, Firecracker, Musketeer, Goblin Gang, Arrows, Royal Ghost, Golden Knight, Prince",
          "Deck 590 — 8/8 carte mappate<br>Valkyrie, Baby Dragon, Witch, Mini P.E.K.K.A, Vines, Hog Rider, Zap, Firecracker",
          "Deck 610 — 8/8 carte mappate<br>Valkyrie, Lumberjack, Fireball, Zap, Balloon, Electro Wizard, Bats, Skeletons",
          "Deck 611 — 8/8 carte mappate<br>Mega Knight, Firecracker, Inferno Dragon, Elite Barbarians, Bats, Tombstone, Arrows, Fireball",
          "Deck 635 — 8/8 carte mappate<br>Valkyrie, Mega Knight, Fireball, Vines, Hog Rider, Furnace, Skeleton Army, Bats",
          "Deck 637 — 8/8 carte mappate<br>Barbarians, Musketeer, Hog Rider, Arrows, Skeleton Army, Balloon, Giant Skeleton, Ice Wizard",
          "Deck 640 — 8/8 carte mappate<br>Lumberjack, Mega Knight, Skeleton Barrel, Minions, Ram Rider, Firecracker, The Log, Furnace",
          "Deck 660 — 8/8 carte mappate<br>Valkyrie, Furnace, Spirit Empress, Lumberjack, Arrows, Zap, Skeletons, Balloon",
          "Deck 685 — 8/8 carte mappate<br>Lumberjack, Mega Knight, Tesla, Minions, Skeleton Army, The Log, Firecracker, Balloon",
          "Deck 687 — 8/8 carte mappate<br>Valkyrie, Musketeer, Poison, Mini P.E.K.K.A, Giant Skeleton, Arrows, Baby Dragon, Skeleton Army",
          "Deck 698 — 8/8 carte mappate<br>Royal Giant, Firecracker, Prince, Rocket, Minions, Royal Recruits, Dark Prince, Arrows",
          "Deck 706 — 8/8 carte mappate<br>Lumberjack, Rocket, Arrows, Guards, Tombstone, Electro Giant, Elite Barbarians, Archer Queen",
          "Deck 709 — 8/8 carte mappate<br>Mega Knight, Firecracker, Zap, Dart Goblin, Guards, Lightning, Skeleton Barrel, Minions",
          "Deck 729 — 8/8 carte mappate<br>Valkyrie, Barbarians, Skeletons, Rage, Arrows, Balloon, Bandit, Electro Wizard",
          "Deck 731 — 8/8 carte mappate<br>P.E.K.K.A, Firecracker, Fireball, Battle Ram, Electro Wizard, Guards, Valkyrie, Zap",
          "Deck 754 — 8/8 carte mappate<br>Archers, Zap, Spear Goblins, Minions, Elite Barbarians, Bowler, Hog Rider, Executioner",
          "Deck 774 — 8/8 carte mappate<br>P.E.K.K.A, Valkyrie, Hog Rider, Fireball, Electro Wizard, Witch, Arrows, Vines",
          "Deck 777 — 8/8 carte mappate<br>Valkyrie, Knight, Goblin Barrel, Skeleton Army, Arrows, Electro Giant, Witch, Baby Dragon",
          "Deck 786 — 8/8 carte mappate<br>Mega Knight, Witch, Elixir Collector, Arrows, Knight, Dark Prince, Bats, Skeleton Barrel",
          "Deck 788 — 8/8 carte mappate<br>Valkyrie, Musketeer, Minion Horde, Executioner, Skeleton Army, Graveyard, Freeze, Arrows",
          "Deck 792 — 8/8 carte mappate<br>Mega Knight, Wizard, Fireball, Zap, Skeleton Barrel, Minions, P.E.K.K.A, Fire Spirit",
          "Deck 795 — 8/8 carte mappate<br>Firecracker, Valkyrie, Arrows, Hog Rider, Tornado, Prince, Electro Wizard, Dark Prince",
          "Deck 796 — 8/8 carte mappate<br>Bats, Mega Knight, Musketeer, Hog Rider, Arrows, Prince, Barbarian Barrel, Zap",
          "Deck 798 — 8/8 carte mappate<br>Elite Barbarians, Hog Rider, Minions, Lightning, Ice Golem, Prince, Bats, Zap",
          "Deck 814 — 8/8 carte mappate<br>Dart Goblin, Mega Knight, Barbarian Barrel, Royal Ghost, Wizard, Miner, Bandit, Minion Horde",
          "Deck 824 — 8/8 carte mappate<br>Valkyrie, Mega Knight, Hog Rider, Electro Wizard, Guards, Zap, Arrows, Bandit",
          "Deck 831 — 8/8 carte mappate<br>Valkyrie, Wizard, Elite Barbarians, Mini P.E.K.K.A, Musketeer, Miner, Arrows, Freeze",
          "Deck 843 — 8/8 carte mappate<br>Knight, Witch, Goblin Giant, Sparky, The Log, Mini P.E.K.K.A, Firecracker, Arrows",
          "Deck 846 — 8/8 carte mappate<br>Minions, Skeleton Barrel, Witch, Mega Knight, Mirror, Fireball, Zap, Furnace",
          "Deck 847 — 8/8 carte mappate<br>Mega Knight, Wizard, Witch, Miner, X-Bow, Minion Horde, Skeleton Army, Freeze",
          "Deck 859 — 8/8 carte mappate<br>Valkyrie, Executioner, Rage, Inferno Dragon, Rocket, Hog Rider, Electro Wizard, Baby Dragon",
          "Deck 862 — 8/8 carte mappate<br>Mega Knight, Archers, Goblin Barrel, Dark Prince, Furnace, Skeleton Army, Bats, Arrows",
          "Deck 887 — 8/8 carte mappate<br>Skeletons, Valkyrie, Electro Wizard, Zap, Executioner, Lumberjack, Mini P.E.K.K.A, Balloon",
          "Deck 903 — 8/8 carte mappate<br>Wizard, P.E.K.K.A, Void, Elite Barbarians, Archer Queen, Rocket, Elixir Collector, Hog Rider",
          "Deck 907 — 8/8 carte mappate<br>Valkyrie, Electro Dragon, Furnace, Hog Rider, Mini P.E.K.K.A, Lightning, The Log, Magic Archer",
          "Deck 909 — 8/8 carte mappate<br>Mega Knight, Bats, Arrows, Firecracker, Tornado, Zap, Electro Spirit, Sparky",
          "Deck 913 — 8/8 carte mappate<br>Bats, Firecracker, Skeletons, Rage, Vines, Zap, Ram Rider, Mini P.E.K.K.A",
          "Deck 915 — 8/8 carte mappate<br>Mega Knight, Wizard, Mirror, Arrows, Mini P.E.K.K.A, X-Bow, Witch, Skeleton Army",
          "Deck 924 — 8/8 carte mappate<br>Wizard, Mega Knight, Valkyrie, Rage, Furnace, Arrows, Hog Rider, Mini P.E.K.K.A",
          "Deck 928 — 8/8 carte mappate<br>Firecracker, Bats, Dart Goblin, Golden Knight, Mega Knight, Mini P.E.K.K.A, Arrows, Mother Witch",
          "Deck 953 — 8/8 carte mappate<br>Mega Knight, Firecracker, Executioner, Bandit, Furnace, Tornado, The Log, Zap",
          "Deck 962 — 8/8 carte mappate<br>Mega Knight, Wizard, Wall Breakers, Bats, Miner, Mirror, Tornado, Electro Giant",
          "Deck 982 — 8/8 carte mappate<br>Wizard, P.E.K.K.A, Fireball, Electro Wizard, Ram Rider, Lumberjack, Skeleton Army, The Log",
          "Deck 987 — 8/8 carte mappate<br>Mega Knight, Witch, Sparky, Cannon, Ram Rider, Firecracker, Zap, Furnace",
          "Deck 991 — 8/8 carte mappate<br>Mega Knight, P.E.K.K.A, Skeletons, Zap, Bowler, Electro Wizard, Arrows, Lightning",
          "Deck 993 — 8/8 carte mappate<br>Witch, Mega Knight, Mini P.E.K.K.A, Valkyrie, Firecracker, Poison, Zap, Hog Rider",
          "Deck 998 — 8/8 carte mappate<br>P.E.K.K.A, Valkyrie, Electro Wizard, Arrows, Zap, Boss Bandit, Poison, Firecracker",
          "Deck 1012 — 8/8 carte mappate<br>Valkyrie, Furnace, Prince, Musketeer, Zap, Mini P.E.K.K.A, Tombstone, Hog Rider",
          "Deck 1014 — 8/8 carte mappate<br>Valkyrie, Witch, Giant, Musketeer, The Log, Mini P.E.K.K.A, Zap, Fireball",
          "Deck 1022 — 8/8 carte mappate<br>Firecracker, Valkyrie, Minions, Elixir Golem, Mini P.E.K.K.A, Barbarians, Arrows, Electro Spirit",
          "Deck 1037 — 8/8 carte mappate<br>Witch, Valkyrie, Arrows, Baby Dragon, Bats, Skeletons, Goblin Giant, Mini P.E.K.K.A",
          "Deck 1038 — 8/8 carte mappate<br>Valkyrie, Lumberjack, Prince, Minions, Arrows, Balloon, Barbarian Barrel, Tesla",
          "Deck 1039 — 8/8 carte mappate<br>Mega Knight, Archers, Minions, Valkyrie, Electro Wizard, Prince, Zap, Arrows",
          "Deck 1052 — 8/8 carte mappate<br>Witch, Dart Goblin, Giant, Bats, Arrows, Furnace, Knight, Balloon",
          "Deck 1055 — 8/8 carte mappate<br>Mega Knight, Wizard, Sparky, Elixir Golem, The Log, Bats, Skeletons, Freeze",
          "Deck 1062 — 8/8 carte mappate<br>Electro Dragon, Skeleton Barrel, P.E.K.K.A, Goblin Barrel, Electro Wizard, Barbarians, Giant Snowball, Arrows",
          "Deck 1113 — 8/8 carte mappate<br>Valkyrie, Witch, Mega Minion, Hog Rider, Prince, Mini P.E.K.K.A, The Log, Zap",
          "Deck 1117 — 8/8 carte mappate<br>Musketeer, Mega Knight, Goblin Gang, Mother Witch, Spirit Empress, Lightning, Mini P.E.K.K.A, Arrows",
          "Deck 1119 — 8/8 carte mappate<br>Valkyrie, Executioner, Rage, Inferno Dragon, Rocket, Hog Rider, Electro Wizard, Baby Dragon",
          "Deck 1151 — 8/8 carte mappate<br>Hunter, Zap, Executioner, Giant Skeleton, Ram Rider, Vines, Mini P.E.K.K.A, Arrows",
          "Deck 1172 — 8/8 carte mappate<br>P.E.K.K.A, Musketeer, Tornado, Goblin Barrel, Witch, Bowler, Zap, Boss Bandit",
          "Deck 1180 — 8/8 carte mappate<br>Musketeer, Valkyrie, Skeleton Army, Rage, Lightning, Ram Rider, Freeze, Knight",
          "Deck 1200 — 8/8 carte mappate<br>Musketeer, Mega Knight, Prince, Electro Wizard, Dark Prince, Mini P.E.K.K.A, Arrows, The Log",
          "Deck 1219 — 8/8 carte mappate<br>Mega Knight, Wizard, Ice Wizard, Hog Rider, Arrows, Minions, Skeleton Army, Prince",
          "Deck 1235 — 8/8 carte mappate<br>Mega Knight, Executioner, Guards, Electro Wizard, Hog Rider, Dart Goblin, Vines, Arrows",
          "Deck 1238 — 8/8 carte mappate<br>Royal Giant, Dart Goblin, Guards, Arrows, Goblin Barrel, Minions, Electro Wizard, Elite Barbarians",
          "Deck 1250 — 8/8 carte mappate<br>Lumberjack, Valkyrie, P.E.K.K.A, Prince, Electro Wizard, Goblin Barrel, Arrows, Furnace",
          "Deck 1261 — 8/8 carte mappate<br>Mega Knight, Valkyrie, Baby Dragon, Mini P.E.K.K.A, Mother Witch, Electro Wizard, Arrows, Earthquake",
          "Deck 1266 — 8/8 carte mappate<br>Mega Knight, Firecracker, Elixir Golem, Arrows, Elite Barbarians, Vines, Bats, The Log",
          "Deck 1269 — 8/8 carte mappate<br>Witch, Valkyrie, Goblin Gang, Minions, Miner, P.E.K.K.A, Mega Knight, Hog Rider",
          "Deck 1283 — 8/8 carte mappate<br>Mega Knight, Zap, Hog Rider, Inferno Dragon, Lightning, Goblin Gang, Vines, Minions",
          "Deck 1302 — 8/8 carte mappate<br>Zap, Dart Goblin, Mini P.E.K.K.A, Goblin Gang, Giant, Night Witch, Princess, Golden Knight",
          "Deck 1312 — 8/8 carte mappate<br>Lumberjack, Rocket, Arrows, Guards, Tombstone, Electro Giant, Elite Barbarians, Archer Queen",
          "Deck 1317 — 8/8 carte mappate<br>Battle Ram, Executioner, Prince, Giant Skeleton, Guards, Zap, Vines, Ice Spirit",
          "Deck 1324 — 8/8 carte mappate<br>Valkyrie, Royal Giant, Barbarian Barrel, Rage, Witch, Firecracker, Mini P.E.K.K.A, Hog Rider",
          "Deck 1360 — 8/8 carte mappate<br>Zap, Goblin Cage, Electro Wizard, P.E.K.K.A, Fireball, Wizard, Princess, Dark Prince",
          "Deck 1364 — 8/8 carte mappate<br>Firecracker, Mega Knight, Arrows, Lightning, Witch, Tombstone, Balloon, Valkyrie",
          "Deck 1367 — 8/8 carte mappate<br>Firecracker, Goblin Giant, Sparky, Fireball, Mini P.E.K.K.A, Little Prince, Rage, Knight",
          "Deck 1374 — 8/8 carte mappate<br>Furnace, Tesla, Mirror, Zap, P.E.K.K.A, Lightning, Arrows, Goblin Barrel",
          "Deck 1382 — 8/8 carte mappate<br>Battle Ram, Bomber, Skeleton Army, Skeleton Barrel, Mega Minion, Princess, Giant Snowball, Lumberjack",
          "Deck 1395 — 8/8 carte mappate<br>Lumberjack, Baby Dragon, Fireball, Balloon, Inferno Tower, Rage, Skeleton Army, Vines",
          "Deck 1402 — 8/8 carte mappate<br>Firecracker, Wall Breakers, Rage, Vines, Dark Prince, Inferno Dragon, Skeleton Army, Prince",
          "Deck 1415 — 8/8 carte mappate<br>Musketeer, Mega Knight, Elite Barbarians, Lightning, Arrows, Prince, Furnace, Golden Knight",
          "Deck 1434 — 8/8 carte mappate<br>Valkyrie, Mother Witch, Inferno Dragon, Miner, Wizard, Boss Bandit, Inferno Tower, Guards",
          "Deck 1441 — 8/8 carte mappate<br>Valkyrie, Mega Knight, Electro Wizard, Goblin Cage, Balloon, Fireball, Inferno Tower, Witch",
          "Deck 1444 — 8/8 carte mappate<br>Valkyrie, Baby Dragon, Electro Wizard, Monk, Vines, Mini P.E.K.K.A, Guards, Magic Archer",
          "Deck 1450 — 8/8 carte mappate<br>Musketeer, Mega Knight, Mini P.E.K.K.A, Prince, Zap, Elite Barbarians, Electro Spirit, Mirror",
          "Deck 1458 — 8/8 carte mappate<br>Valkyrie, Wizard, Hog Rider, Fireball, Goblinstein, Electro Giant, Sparky, Mini P.E.K.K.A",
          "Deck 1467 — 8/8 carte mappate<br>Valkyrie, Lumberjack, Zap, Knight, Arrows, Prince, Three Musketeers, Vines",
          "Deck 1473 — 8/8 carte mappate<br>Mega Knight, Witch, Elixir Collector, Arrows, Knight, Dark Prince, Bats, Skeleton Barrel",
          "Deck 1477 — 8/8 carte mappate<br>Bomb Tower, Zap, Mini P.E.K.K.A, Rocket, Arrows, Giant, Spear Goblins, Minions",
          "Deck 1481 — 8/8 carte mappate<br>Mega Knight, Firecracker, Boss Bandit, Cannon Cart, Mirror, Arrows, Witch, Executioner",
          "Deck 1491 — 8/8 carte mappate<br>P.E.K.K.A, Firecracker, Valkyrie, Zap, Arrows, Minions, Hog Rider, Goblin Gang",
          "Deck 1505 — 8/8 carte mappate<br>Executioner, Valkyrie, Electro Wizard, Hog Rider, Mini P.E.K.K.A, P.E.K.K.A, Vines, The Log",
          "Deck 1511 — 8/8 carte mappate<br>Wizard, Valkyrie, Golden Knight, Ram Rider, Mini P.E.K.K.A, Royal Ghost, Furnace, The Log",
          "Deck 1512 — 8/8 carte mappate<br>Firecracker, Mega Knight, Ram Rider, Bats, Valkyrie, Vines, Mini P.E.K.K.A, Arrows",
          "Deck 1519 — 8/8 carte mappate<br>Lumberjack, Mega Knight, Fireball, Goblin Hut, Wizard, Skeleton Army, The Log, Mirror",
          "Deck 1525 — 8/8 carte mappate<br>Valkyrie, Firecracker, Balloon, Skeleton Army, Baby Dragon, Wizard, Hog Rider, Mortar",
          "Deck 1547 — 8/8 carte mappate<br>Royal Giant, Firecracker, Guards, Arrows, Hog Rider, Barbarians, Freeze, Wizard",
          "Deck 1576 — 8/8 carte mappate<br>Witch, Lumberjack, Hog Rider, Arrows, Mini P.E.K.K.A, Valkyrie, Baby Dragon, Goblin Gang",
          "Deck 1578 — 8/8 carte mappate<br>Mega Knight, Witch, Firecracker, Valkyrie, Arrows, Knight, Elixir Golem, Executioner",
          "Deck 1581 — 8/8 carte mappate<br>Valkyrie, Wizard, Mini P.E.K.K.A, Arrows, Rage, Musketeer, Electro Giant, Hog Rider",
          "Deck 1597 — 8/8 carte mappate<br>Firecracker, Royal Giant, Mega Knight, Inferno Dragon, Zap, Valkyrie, Witch, Arrows",
          "Deck 1602 — 8/8 carte mappate<br>Firecracker, Dart Goblin, Golem, Balloon, Minions, Bomber, Clone, Fireball",
          "Deck 1614 — 8/8 carte mappate<br>Battle Ram, Firecracker, P.E.K.K.A, Arrows, Executioner, Tornado, Electro Wizard, Goblin Gang",
          "Deck 1615 — 8/8 carte mappate<br>Valkyrie, Goblin Barrel, Fireball, Dark Prince, Inferno Dragon, Executioner, Baby Dragon, Skeleton Army",
          "Deck 1635 — 8/8 carte mappate<br>Mega Knight, Zap, Arrows, Tornado, Sparky, Knight, Bats, Witch",
          "Deck 1652 — 8/8 carte mappate<br>Witch, P.E.K.K.A, Wizard, Minion Horde, Spear Goblins, Prince, Poison, Hog Rider",
          "Deck 1657 — 8/8 carte mappate<br>Inferno Dragon, Tombstone, The Log, Elixir Golem, Fireball, Executioner, Electro Wizard, Mini P.E.K.K.A",
          "Deck 1661 — 8/8 carte mappate<br>Valkyrie, Witch, Fireball, Baby Dragon, Goblin Gang, Giant, Inferno Tower, Arrows",
          "Deck 1666 — 8/8 carte mappate<br>Valkyrie, Mega Knight, Spear Goblins, Arrows, Minions, Hog Rider, Skeleton Army, Baby Dragon",
          "Deck 1676 — 8/8 carte mappate<br>Knight, Bats, P.E.K.K.A, Balloon, The Log, Electro Wizard, Zap, Rage",
          "Deck 1680 — 8/8 carte mappate<br>Royal Giant, Mega Knight, Barbarians, Freeze, Hog Rider, Witch, Electro Wizard, Furnace",
          "Deck 1681 — 8/8 carte mappate<br>P.E.K.K.A, Lumberjack, Ram Rider, Wizard, Arrows, Vines, Rage, Rocket",
          "Deck 1687 — 8/8 carte mappate<br>Mega Knight, Inferno Dragon, Guards, Skeleton Barrel, Firecracker, Ram Rider, Zap, Executioner",
          "Deck 1702 — 8/8 carte mappate<br>Valkyrie, Tesla, P.E.K.K.A, Magic Archer, Arrows, Furnace, Sparky, Skeleton Barrel",
          "Deck 1703 — 8/8 carte mappate<br>Inferno Dragon, Wall Breakers, Mirror, Guards, Mother Witch, Hog Rider, Fireball, Arrows",
          "Deck 1709 — 8/8 carte mappate<br>Barbarians, Witch, Electro Wizard, Boss Bandit, Golem, Fireball, Minion Horde, Princess",
          "Deck 1749 — 8/8 carte mappate<br>Valkyrie, Witch, Minions, Zap, Elite Barbarians, Bandit, Musketeer, Hog Rider",
          "Deck 1763 — 8/8 carte mappate<br>Mega Knight, Zap, Battle Ram, Barbarian Barrel, Inferno Dragon, Royal Ghost, Dart Goblin, Goblin Barrel",
          "Deck 1770 — 8/8 carte mappate<br>Valkyrie, Witch, Minions, Miner, Fireball, Bomber, Freeze, Hog Rider",
          "Deck 1795 — 8/8 carte mappate<br>Barbarians, Wizard, Balloon, Baby Dragon, Musketeer, Valkyrie, Giant, Rocket",
          "Deck 1799 — 8/8 carte mappate<br>Royal Giant, Wizard, Mini P.E.K.K.A, Zap, Dark Prince, Skeleton Army, Archers, The Log",
          "Deck 1806 — 8/8 carte mappate<br>Mega Knight, Valkyrie, Tornado, Firecracker, Witch, Zap, Executioner, Tesla",
          "Deck 1823 — 8/8 carte mappate<br>Mega Knight, Valkyrie, Ram Rider, Tesla, Golden Knight, Witch, Electro Wizard, Sparky",
          "Deck 1868 — 8/8 carte mappate<br>Royal Giant, Wizard, Balloon, Guards, Tombstone, Fireball, Archers, Arrows",
          "Deck 1870 — 8/8 carte mappate<br>Dart Goblin, Zap, Mirror, Arrows, Mega Knight, Knight, Musketeer, Battle Ram",
          "Deck 1873 — 8/8 carte mappate<br>Fireball, Arrows, Executioner, Mirror, Guards, P.E.K.K.A, Electro Wizard, Hog Rider",
          "Deck 1886 — 8/8 carte mappate<br>P.E.K.K.A, Baby Dragon, Valkyrie, Mini P.E.K.K.A, Firecracker, Balloon, Fireball, Arrows",
          "Deck 1907 — 8/8 carte mappate<br>Baby Dragon, Barbarians, Sparky, Giant, Skeleton Army, Fire Spirit, Vines, Princess",
          "Deck 1908 — 8/8 carte mappate<br>Wizard, P.E.K.K.A, Skeleton Army, Musketeer, Bats, Royal Ghost, Hog Rider, Zap",
          "Deck 1915 — 8/8 carte mappate<br>Valkyrie, Mega Knight, Lightning, Witch, Mini P.E.K.K.A, Bowler, Firecracker, Hog Rider",
          "Deck 1920 — 8/8 carte mappate<br>Valkyrie, Electro Dragon, Monk, Three Musketeers, Princess, Skeleton Army, Arrows, Prince",
          "Deck 1936 — 8/8 carte mappate<br>Witch, Zap, Rage, Balloon, Baby Dragon, Tesla, Skeleton Army, Valkyrie",
          "Deck 1952 — 8/8 carte mappate<br>P.E.K.K.A, The Log, Zap, Electro Wizard, Tornado, Executioner, Bandit, Goblin Gang",
          "Deck 1959 — 8/8 carte mappate<br>Mega Knight, P.E.K.K.A, Elixir Golem, Battle Healer, Earthquake, Electro Wizard, Arrows, Inferno Dragon",
          "Deck 1960 — 8/8 carte mappate<br>Mega Knight, Witch, Balloon, Mirror, Skeletons, Rage, Vines, Zap",
          "Deck 1969 — 8/8 carte mappate<br>Hunter, Lumberjack, Minion Horde, Valkyrie, Elixir Golem, Elite Barbarians, Mini P.E.K.K.A, Tesla",
          "Deck 1975 — 8/8 carte mappate<br>Valkyrie, Mega Knight, Witch, Skeleton Army, Baby Dragon, Goblin Barrel, Arrows, Tornado",
          "Deck 1980 — 8/8 carte mappate<br>Valkyrie, Mega Knight, Wizard, Hog Rider, Archers, Skeleton Army, Lumberjack, Baby Dragon",
          "Deck 1989 — 8/8 carte mappate<br>P.E.K.K.A, Wizard, Royal Ghost, Minion Horde, Ram Rider, Bandit, Fireball, Giant Snowball",
          "Deck 1992 — 8/8 carte mappate<br>Bomber, Firecracker, Prince, Elite Barbarians, Arrows, Mirror, Valkyrie, Archers",
          "Deck 1999 — 8/8 carte mappate<br>Mega Knight, Firecracker, Night Witch, The Log, Giant Skeleton, Clone, Musketeer, Mirror",
          "Deck 2004 — 8/8 carte mappate<br>Lumberjack, Bats, Bowler, Freeze, Balloon, Cannon, Tornado, Goblin Gang",
          "Deck 2017 — 8/8 carte mappate<br>P.E.K.K.A, Bats, Hog Rider, Electro Wizard, Goblin Gang, Barbarian Barrel, Fireball, Dark Prince",
          "Deck 2018 — 8/8 carte mappate<br>Valkyrie, Firecracker, Hog Rider, Minions, Inferno Dragon, Mini P.E.K.K.A, Arrows, Furnace",
          "Deck 2019 — 8/8 carte mappate<br>Valkyrie, Witch, Skeleton Army, Ice Spirit, Giant, Baby Dragon, Rage, Arrows",
          "Deck 2024 — 8/8 carte mappate<br>Mega Knight, P.E.K.K.A, Dart Goblin, Vines, Balloon, Firecracker, Prince, Rage",
          "Deck 2034 — 8/8 carte mappate<br>Firecracker, Valkyrie, Minions, Witch, Fireball, Mini P.E.K.K.A, Arrows, Ram Rider",
          "Deck 2040 — 8/8 carte mappate<br>Barbarians, Electro Dragon, Elixir Golem, Mini P.E.K.K.A, Mother Witch, Goblin Barrel, The Log, Firecracker",
          "Deck 2054 — 8/8 carte mappate<br>Lumberjack, Hog Rider, Inferno Tower, Dark Prince, Fireball, Prince, Ice Wizard, Witch",
          "Deck 2056 — 8/8 carte mappate<br>Lumberjack, Valkyrie, Zap, Musketeer, Skeleton Army, Hog Rider, Balloon, Furnace",
          "Deck 2077 — 8/8 carte mappate<br>Archers, Mega Knight, Golem, Balloon, Archer Queen, Baby Dragon, Elite Barbarians, Hog Rider",
          "Deck 2078 — 8/8 carte mappate<br>Barbarians, Wizard, Minion Horde, Bomber, Skeletons, Musketeer, Giant, Valkyrie",
          "Deck 2079 — 8/8 carte mappate<br>Valkyrie, Lumberjack, Barbarian Barrel, Zap, Inferno Tower, Hog Rider, Mini P.E.K.K.A, Fireball",
          "Deck 2080 — 8/8 carte mappate<br>Wizard, Firecracker, Bowler, Inferno Dragon, Hog Rider, Skeleton King, Arrows, Skeleton Army",
          "Deck 2084 — 8/8 carte mappate<br>Mirror, Mega Minion, Goblins, Prince, Mini P.E.K.K.A, The Log, Boss Bandit, Rage",
          "Deck 2086 — 8/8 carte mappate<br>Wizard, Valkyrie, Inferno Dragon, Golem, Electro Wizard, Arrows, Lightning, Cannon",
          "Deck 2111 — 8/8 carte mappate<br>Valkyrie, Lumberjack, Firecracker, Bandit, Electro Wizard, Night Witch, Baby Dragon, The Log",
          "Deck 2120 — 8/8 carte mappate<br>Bats, Mega Knight, Berserker, Arrows, The Log, Zap, Electro Wizard, Dark Prince",
          "Deck 2129 — 8/8 carte mappate<br>Royal Giant, Mega Knight, Zap, Mini P.E.K.K.A, Furnace, Bats, Guards, Firecracker",
          "Deck 2136 — 8/8 carte mappate<br>Mega Knight, Electro Dragon, Arrows, Hog Rider, Vines, Mini P.E.K.K.A, Inferno Dragon, Valkyrie",
          "Deck 2147 — 8/8 carte mappate<br>Mega Knight, Baby Dragon, Goblin Gang, Electro Wizard, P.E.K.K.A, Skeletons, Arrows, Lightning",
          "Deck 2148 — 8/8 carte mappate<br>Mega Knight, Wall Breakers, Bats, Goblin Curse, Prince, Arrows, Archer Queen, Bandit",
          "Deck 2171 — 8/8 carte mappate<br>Witch, Skeletons, Bats, Lightning, Mother Witch, Dark Prince, Mini P.E.K.K.A, Skeleton King",
          "Deck 2174 — 8/8 carte mappate<br>Firecracker, Royal Giant, Witch, Dark Prince, Mini P.E.K.K.A, Skeleton Barrel, Minions, Fireball",
          "Deck 2179 — 8/8 carte mappate<br>Mega Knight, Lumberjack, Miner, Inferno Dragon, Zap, Balloon, Ice Spirit, Archers",
          "Deck 2193 — 8/8 carte mappate<br>P.E.K.K.A, Battle Ram, Bandit, Electro Wizard, Arrows, Guards, Bats, The Log",
          "Deck 2203 — 8/8 carte mappate<br>Valkyrie, Giant Skeleton, Balloon, Lightning, Inferno Tower, Poison, Tornado, Skeleton Army",
          "Deck 2221 — 8/8 carte mappate<br>Witch, Valkyrie, Giant, Musketeer, Mini P.E.K.K.A, Arrows, Prince, Vines",
          "Deck 2222 — 8/8 carte mappate<br>Bats, Tesla, Mini P.E.K.K.A, Ice Wizard, Electro Wizard, Arrows, Balloon, Zap",
          "Deck 2236 — 8/8 carte mappate<br>Firecracker, P.E.K.K.A, Tornado, Zap, Electro Wizard, Golden Knight, Executioner, Ram Rider",
          "Deck 2237 — 8/8 carte mappate<br>Valkyrie, Lumberjack, Tombstone, Freeze, Musketeer, Zap, Balloon, Mini P.E.K.K.A",
          "Deck 2253 — 8/8 carte mappate<br>Mega Knight, P.E.K.K.A, Mini P.E.K.K.A, Lightning, Freeze, Arrows, Dart Goblin, Boss Bandit",
          "Deck 2265 — 8/8 carte mappate<br>Valkyrie, Mega Knight, Inferno Dragon, Lightning, Royal Ghost, Electro Wizard, Zap, Hog Rider",
          "Deck 2280 — 8/8 carte mappate<br>Mega Knight, Vines, Sparky, Monk, Prince, Rascals, Witch, Zap",
          "Deck 2300 — 8/8 carte mappate<br>Executioner, Valkyrie, Mini P.E.K.K.A, The Log, Arrows, Hog Rider, Dark Prince, Prince",
          "Deck 2303 — 8/8 carte mappate<br>P.E.K.K.A, Battle Ram, Royal Ghost, Bandit, Electro Wizard, Poison, Magic Archer, The Log",
          "Deck 2306 — 8/8 carte mappate<br>Lumberjack, Valkyrie, Elite Barbarians, Minions, Musketeer, Witch, Miner, The Log",
          "Deck 2312 — 8/8 carte mappate<br>Firecracker, Mega Knight, Guards, Lightning, Arrows, Electro Wizard, Barbarian Barrel, Hog Rider",
          "Deck 2323 — 8/8 carte mappate<br>Valkyrie, Mega Knight, Tesla, Rage, Wizard, Electro Wizard, Poison, Hog Rider",
          "Deck 2337 — 8/8 carte mappate<br>Valkyrie, Wizard, Ice Wizard, Arrows, Zap, Mini P.E.K.K.A, Musketeer, Balloon",
          "Deck 2341 — 8/8 carte mappate<br>P.E.K.K.A, Witch, Rage, Dart Goblin, Arrows, Valkyrie, Prince, Musketeer",
          "Deck 2342 — 8/8 carte mappate<br>Valkyrie, Lumberjack, Vines, Balloon, Rocket, Prince, Guards, Furnace",
          "Deck 2344 — 8/8 carte mappate<br>Lumberjack, Valkyrie, P.E.K.K.A, Prince, Electro Wizard, Goblin Barrel, Arrows, Furnace",
          "Deck 2353 — 8/8 carte mappate<br>Mega Knight, Royal Giant, Bowler, Arrows, Tesla, P.E.K.K.A, Electro Wizard, Lightning",
          "Deck 2354 — 8/8 carte mappate<br>Mega Knight, Valkyrie, Lightning, Electro Wizard, Vines, Bats, The Log, Inferno Dragon",
          "Deck 2360 — 8/8 carte mappate<br>Firecracker, Valkyrie, Goblin Gang, Royal Hogs, Mirror, Bowler, Ram Rider, Elite Barbarians",
          "Deck 2373 — 8/8 carte mappate<br>Firecracker, Lumberjack, Archer Queen, Bowler, The Log, Battle Ram, Skeleton Barrel, Skeleton Army",
          "Deck 2385 — 8/8 carte mappate<br>Valkyrie, Lumberjack, Arrows, Balloon, Zap, Skeletons, Spirit Empress, Furnace",
          "Deck 2387 — 8/8 carte mappate<br>Lumberjack, Mega Knight, Fireball, Balloon, Electro Spirit, Electro Wizard, Guards, Zap",
          "Deck 2389 — 8/8 carte mappate<br>Lumberjack, Mega Knight, Electro Spirit, Prince, Vines, Executioner, Electro Wizard, Furnace",
          "Deck 2395 — 8/8 carte mappate<br>Mega Knight, Skeleton Barrel, Bats, Vines, Arrows, Dark Prince, Tesla, Guards",
          "Deck 2431 — 8/8 carte mappate<br>Witch, Musketeer, Arrows, Hog Rider, P.E.K.K.A, Fireball, Zap, Mini P.E.K.K.A",
          "Deck 2442 — 8/8 carte mappate<br>Valkyrie, Mega Knight, Electro Wizard, Arrows, Furnace, Inferno Tower, Lumberjack, Balloon",
          "Deck 2446 — 8/8 carte mappate<br>Firecracker, Valkyrie, Mini P.E.K.K.A, Lightning, P.E.K.K.A, The Log, Furnace, Skeleton Army",
          "Deck 2455 — 8/8 carte mappate<br>Lumberjack, Valkyrie, Arrows, P.E.K.K.A, Electro Wizard, Barbarian Barrel, Tesla, Fireball",
          "Deck 2474 — 8/8 carte mappate<br>Goblin Barrel, Bomber, Electro Wizard, Fireball, Tombstone, Giant, Minions, The Log",
          "Deck 2478 — 8/8 carte mappate<br>Mega Knight, Executioner, Prince, Electro Wizard, Hog Rider, Royal Ghost, Fireball, Giant Snowball",
          "Deck 2488 — 8/8 carte mappate<br>Lumberjack, Mega Knight, Electro Spirit, Prince, Vines, Executioner, Electro Wizard, Furnace"
         ],
         "marker": {
          "color": "rgb(152,78,163)",
          "size": 6
         },
         "mode": "markers",
         "name": "Cluster 3",
         "text": [
          "Deck 5",
          "Deck 11",
          "Deck 32",
          "Deck 37",
          "Deck 42",
          "Deck 43",
          "Deck 48",
          "Deck 69",
          "Deck 70",
          "Deck 72",
          "Deck 76",
          "Deck 91",
          "Deck 94",
          "Deck 101",
          "Deck 114",
          "Deck 118",
          "Deck 127",
          "Deck 136",
          "Deck 137",
          "Deck 156",
          "Deck 159",
          "Deck 162",
          "Deck 172",
          "Deck 175",
          "Deck 176",
          "Deck 180",
          "Deck 193",
          "Deck 208",
          "Deck 220",
          "Deck 241",
          "Deck 247",
          "Deck 255",
          "Deck 263",
          "Deck 269",
          "Deck 278",
          "Deck 279",
          "Deck 318",
          "Deck 320",
          "Deck 333",
          "Deck 335",
          "Deck 360",
          "Deck 370",
          "Deck 377",
          "Deck 421",
          "Deck 436",
          "Deck 441",
          "Deck 442",
          "Deck 446",
          "Deck 447",
          "Deck 461",
          "Deck 465",
          "Deck 469",
          "Deck 477",
          "Deck 481",
          "Deck 499",
          "Deck 504",
          "Deck 512",
          "Deck 517",
          "Deck 519",
          "Deck 524",
          "Deck 537",
          "Deck 548",
          "Deck 570",
          "Deck 578",
          "Deck 589",
          "Deck 590",
          "Deck 610",
          "Deck 611",
          "Deck 635",
          "Deck 637",
          "Deck 640",
          "Deck 660",
          "Deck 685",
          "Deck 687",
          "Deck 698",
          "Deck 706",
          "Deck 709",
          "Deck 729",
          "Deck 731",
          "Deck 754",
          "Deck 774",
          "Deck 777",
          "Deck 786",
          "Deck 788",
          "Deck 792",
          "Deck 795",
          "Deck 796",
          "Deck 798",
          "Deck 814",
          "Deck 824",
          "Deck 831",
          "Deck 843",
          "Deck 846",
          "Deck 847",
          "Deck 859",
          "Deck 862",
          "Deck 887",
          "Deck 903",
          "Deck 907",
          "Deck 909",
          "Deck 913",
          "Deck 915",
          "Deck 924",
          "Deck 928",
          "Deck 953",
          "Deck 962",
          "Deck 982",
          "Deck 987",
          "Deck 991",
          "Deck 993",
          "Deck 998",
          "Deck 1012",
          "Deck 1014",
          "Deck 1022",
          "Deck 1037",
          "Deck 1038",
          "Deck 1039",
          "Deck 1052",
          "Deck 1055",
          "Deck 1062",
          "Deck 1113",
          "Deck 1117",
          "Deck 1119",
          "Deck 1151",
          "Deck 1172",
          "Deck 1180",
          "Deck 1200",
          "Deck 1219",
          "Deck 1235",
          "Deck 1238",
          "Deck 1250",
          "Deck 1261",
          "Deck 1266",
          "Deck 1269",
          "Deck 1283",
          "Deck 1302",
          "Deck 1312",
          "Deck 1317",
          "Deck 1324",
          "Deck 1360",
          "Deck 1364",
          "Deck 1367",
          "Deck 1374",
          "Deck 1382",
          "Deck 1395",
          "Deck 1402",
          "Deck 1415",
          "Deck 1434",
          "Deck 1441",
          "Deck 1444",
          "Deck 1450",
          "Deck 1458",
          "Deck 1467",
          "Deck 1473",
          "Deck 1477",
          "Deck 1481",
          "Deck 1491",
          "Deck 1505",
          "Deck 1511",
          "Deck 1512",
          "Deck 1519",
          "Deck 1525",
          "Deck 1547",
          "Deck 1576",
          "Deck 1578",
          "Deck 1581",
          "Deck 1597",
          "Deck 1602",
          "Deck 1614",
          "Deck 1615",
          "Deck 1635",
          "Deck 1652",
          "Deck 1657",
          "Deck 1661",
          "Deck 1666",
          "Deck 1676",
          "Deck 1680",
          "Deck 1681",
          "Deck 1687",
          "Deck 1702",
          "Deck 1703",
          "Deck 1709",
          "Deck 1749",
          "Deck 1763",
          "Deck 1770",
          "Deck 1795",
          "Deck 1799",
          "Deck 1806",
          "Deck 1823",
          "Deck 1868",
          "Deck 1870",
          "Deck 1873",
          "Deck 1886",
          "Deck 1907",
          "Deck 1908",
          "Deck 1915",
          "Deck 1920",
          "Deck 1936",
          "Deck 1952",
          "Deck 1959",
          "Deck 1960",
          "Deck 1969",
          "Deck 1975",
          "Deck 1980",
          "Deck 1989",
          "Deck 1992",
          "Deck 1999",
          "Deck 2004",
          "Deck 2017",
          "Deck 2018",
          "Deck 2019",
          "Deck 2024",
          "Deck 2034",
          "Deck 2040",
          "Deck 2054",
          "Deck 2056",
          "Deck 2077",
          "Deck 2078",
          "Deck 2079",
          "Deck 2080",
          "Deck 2084",
          "Deck 2086",
          "Deck 2111",
          "Deck 2120",
          "Deck 2129",
          "Deck 2136",
          "Deck 2147",
          "Deck 2148",
          "Deck 2171",
          "Deck 2174",
          "Deck 2179",
          "Deck 2193",
          "Deck 2203",
          "Deck 2221",
          "Deck 2222",
          "Deck 2236",
          "Deck 2237",
          "Deck 2253",
          "Deck 2265",
          "Deck 2280",
          "Deck 2300",
          "Deck 2303",
          "Deck 2306",
          "Deck 2312",
          "Deck 2323",
          "Deck 2337",
          "Deck 2341",
          "Deck 2342",
          "Deck 2344",
          "Deck 2353",
          "Deck 2354",
          "Deck 2360",
          "Deck 2373",
          "Deck 2385",
          "Deck 2387",
          "Deck 2389",
          "Deck 2395",
          "Deck 2431",
          "Deck 2442",
          "Deck 2446",
          "Deck 2455",
          "Deck 2474",
          "Deck 2478",
          "Deck 2488"
         ],
         "type": "scatter3d",
         "x": {
          "bdata": "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",
          "dtype": "f8"
         },
         "y": {
          "bdata": "9poywu2XkL8pkQ09xQGXv7veqXltVZa/KH5upeenjb+ICn87BL2Kv3yJJ6IyCpa/9/np1is0mL+qR/DTKrCYvwQOZTeVcJq/mFkYQ5aOk78ioHoOWKuUv2KJNy54pI+/Gasfkv1Dir8Q6Esya02QvzpZzvHqApu/zoPs7prBlL+joSm0KhOavwrQpFy8A5S/tAgIubbijr/wGVQawAiOv5S7k7E0bJO/JFec9Vzwkr/BWsXowVCRv3Cl3IAkH5m/rdwo/tKNkb98v5cJd4KUv7JIeSBWTI+/Ks4u215Zlr9RHarTkUmav9nyHqD03Y2/tJwyAd4km79I7h42EwyWv9G5ZohNMZy/qEb3saxGk7/73w/sWsOUv5Okx7Z1H5K/tvYrTJN3lb+XnkGfwIWTvyEttmFUb5G/3vqrkoHXd79bg3iRLy6VvxdLyXKeZpC/k0lkNOOflL/aU8iMjZKLvzoWwfYCTpO/Dj1AyaE7lb976DHbC7OQv29hh5/H0Je/Ea1Oppitk7/jmrgXqEKSv7NMOcguDJW/I4n6q/kYlr8LVwrfIoKRv+TlVszNJY2/rWSy/vgji7/iDxqWiyGPv0vLwGKeqpW//pUn301zl7/mlrBlGqORv67e/A4d1Za/9QwtnZyMkb9LPkUvJWaRv75LHnDu23a/TkoFhCrBlb8KBOrygaqTv6axB9/Y9JC/NU2IUTSKl7++4iN3FH6Zv1sKSJWtVpW/lnNmy1Btk7/m+yxc7buMvxC1OCvB54K/9JW/HpVbl7+wOQX8JqeNv4uKidxH+om/TDBRb3Dmi7+dHqX7RBmTv7BWxnkYS5S/JkLmma8KlL9GbPvDPoCPvxABBVFWXZS/Dl/XJvJ/lb9i737aHcCQv9pxeG9+4IW/5UqV2IvIlr9VolajiHWVv3uNqZQl1ZK/QO7iKCEzlL/tlaEjL5+Ov+S/8mLqsZm/sFDFwjCtmb+8cOFk/V6Qv9hU3nfkwpS/cfWfiRgemL9lynmKA2yTv3KZ3+V1BZe//l0JHUE9lb+acS5uEpWSv5f4GEVWEIu/nywwcPB6kr/fiMuEivGPv6bPLqrty5m/osMeVSxBlr/ADYSXRpyUv9D+e0jOMo2/WRoEjw+Ek78YqaESjOiav0790URAhJO/VSE5/4+Ajr9UtOW+d7+Uv/6wmNECL46/Ejx1dGkMkr/Yl10JMAaVv5Dz0mst+ZC/fBd8K56mhr/S5LpjnreFv8dJU1Z0B5e/Ss/YlcIHkL+LB6s9dRmavxGFB7kP14m/XleAkbt8mb+Z8QmUoaCLv2XKeYoDbJO/MyQST/hzjr/EEeU0ciCKv5eeQZ/AhZO/BeSiZZIEmL+NGsjbpKaWv8/gdepWp5K/EHGIdLO5lb+3bCl+ZgKWvyQqSdEQwZC/y7c08HK9lb8E5zu9g9mVvzOzcSjgDpK/xA6yOui7lL9MMFFvcOaLv7MpySXsE4y/RinKodkoiL+fOfhTnKWRv+xlSPQyiJO/M59au0gChr8FsG4yDLuUv/KgZgYoYIy/qHlBGgDRkL9w7Xl+rcqSvzT7sF+6Vo+/6m4oHFnGkr9n/V4it8qTv9DSRIR5D3m/vF6h2eoMmb+d1cwDMxCXv3rlOXQQRIm/Yu9+2h3AkL9cVnBYUoCNvw8TC6t95JS/MKPdVsBhmL+AEn0lLWWSv19xJylIAom/bJPR1IWYlb/6rfQK9dmPv8ziVMO4S5W/ujgEw+LUlr/5e33khfeVv9CnhcPZbpe/z9zrNM03lr+ofZmdznWYv/4cm4+M9oq/t3hTANfokb+JuM8BkASXv4URflwAu5W/8qxd2xk/l7++buZfQiOUv1icemKv4Za/rRyEVuqelb/+pvydVGaUv8HfZ/5gC5S/FzL7Ovusj7+r8sLm05iVvyeBpUCvCJS/Jp1jzxp/kr9BcXXoE5KXvxFUAO6sZ5i/Lusedmq/ib/U8Gfv/ceSvwZ3IboaRZG/oN6qJkrelr9daHRdM0KVvwaQ5wPfPpe/dTV3Z8gKi7/ocl5aU1eXv9Z73ws5F5e//Vxrv/8Hkr8Uie4JsZuPv7NQE9l9mZq/xmKUsfn6lL8C+htSH7uOv4EJoft+y5S/5zowIWXvk7/7d6BBJ3SRv+7hiqj4u5C/R/AtSHjml7/96Ypb98qVvyf6vBHhDJe/sjG9e0uLjb9ONLiRxN2Yv0zdHx81b5e/YvMdp/c2jL+JGFMGzJKQv1dsayhHipK/BzTJQuquj7/iEoacAbCRv7SZ92Aya5a/ljLgKzmbkL8dx3UbmN6Tv61vkP8cFJW/CvZ84pohg799qCoyDXeUv6nMLgx6HJS/xFy70XoHl78MkRzDZUaSv0BPtFKW9JC/C5eo4Ko/jb/3FkM7EFqLv1xrRcr/V5G/ZXkhY1ALkL8NtLkkYhSQv7b2K0yTd5W/8BGoKSGphL91jXe4+4uSv35L/HVviZC/K0yhTSNMk79eBF1R7MKQv7Ln9FOBzZC/i4cAqv03k79/bNYfQVqMv1Xnx2YZppK/Sw7i3YaxlL/U6Wt+77eVv+xBvS3NIou/+ClBnV7gl797FGJzXxSDv5Xapt5gS5G/HQ10CySviL+tQZX67A2Uv1cpWkUm15G/8lh3OGAXlr9cKbwiA5mFv7dsKX5mApa/aZyuz7Qujb9bMgCe/n2Tv2suABhv8JG/ngfWUaIAkr8QtTgrweeCvwQYHKmL0ZC/ogFqwaiAg78qvePTiSuQv/Lytx+Iapi/1r1SHR1ql79/MeSrOQ6Tv6P7Cpg++4m/HWSxWHqdjr/EZXHq39mOv6IBasGogIO/",
          "dtype": "f8"
         },
         "z": {
          "bdata": "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",
          "dtype": "f8"
         }
        },
        {
         "hoverinfo": "text",
         "hovertext": [
          "Deck 55 — 8/8 carte mappate<br>Goblin Cage, Valkyrie, Void, Bowler, Balloon, Fisherman, Mega Minion, Arrows",
          "Deck 111 — 8/8 carte mappate<br>Inferno Dragon, Lumberjack, Bowler, Balloon, Electro Dragon, Barbarian Barrel, Freeze, Tornado",
          "Deck 174 — 8/8 carte mappate<br>Electro Dragon, Lumberjack, Bowler, Freeze, Balloon, Inferno Dragon, Tornado, Barbarian Barrel",
          "Deck 215 — 8/8 carte mappate<br>Knight, Lumberjack, Golem, Baby Dragon, Night Witch, Lightning, Tornado, Barbarian Barrel",
          "Deck 245 — 8/8 carte mappate<br>Goblin Giant, Witch, Minions, Mini P.E.K.K.A, Barbarian Barrel, Vines, Rage, Goblin Machine",
          "Deck 256 — 8/8 carte mappate<br>P.E.K.K.A, Goblin Giant, Firecracker, Goblin Machine, Bats, Electro Spirit, Vines, Rage",
          "Deck 271 — 8/8 carte mappate<br>Lumberjack, Battle Ram, Electro Wizard, Cannon Cart, Golden Knight, Mother Witch, Barbarian Barrel, Heal Spirit",
          "Deck 302 — 8/8 carte mappate<br>Goblin Giant, Witch, Goblin Machine, Berserker, Barbarian Barrel, Minions, Vines, Rage",
          "Deck 316 — 8/8 carte mappate<br>Lumberjack, Musketeer, Golem, Three Musketeers, Elixir Collector, Elite Barbarians, Heal Spirit, Vines",
          "Deck 324 — 8/8 carte mappate<br>Goblin Giant, Witch, Goblin Machine, Minions, Mini P.E.K.K.A, Barbarian Barrel, Vines, Rage",
          "Deck 344 — 8/8 carte mappate<br>Barbarians, Electro Dragon, Berserker, Mini P.E.K.K.A, Tornado, Elixir Collector, Golem, Goblin Gang",
          "Deck 345 — 8/8 carte mappate<br>Witch, Goblin Giant, Goblin Machine, Barbarian Barrel, Rage, Vines, Mini P.E.K.K.A, Minions",
          "Deck 349 — 8/8 carte mappate<br>Baby Dragon, Bomber, Golem, Night Witch, Mini P.E.K.K.A, Mega Minion, Tornado, Lightning",
          "Deck 355 — 8/8 carte mappate<br>Goblin Giant, Furnace, Goblin Machine, Prince, Barbarian Barrel, Goblin Curse, Minions, Rage",
          "Deck 358 — 8/8 carte mappate<br>Lumberjack, Furnace, Golem, Minions, Spirit Empress, Berserker, Lightning, Barbarian Barrel",
          "Deck 372 — 8/8 carte mappate<br>Royal Giant, Baby Dragon, Bowler, Dark Prince, Goblin Cage, Electro Wizard, Tornado, Lightning",
          "Deck 387 — 8/8 carte mappate<br>P.E.K.K.A, Baby Dragon, Dark Prince, Bandit, Electro Wizard, Battle Ram, Barbarian Barrel, Vines",
          "Deck 394 — 8/8 carte mappate<br>Furnace, Baby Dragon, Golem, Goblin Machine, Mini P.E.K.K.A, Vines, Guards, Barbarian Barrel",
          "Deck 398 — 8/8 carte mappate<br>Furnace, Electro Dragon, Battle Healer, Night Witch, Golem, Elixir Collector, Tornado, Skeleton King",
          "Deck 409 — 8/8 carte mappate<br>Witch, Baby Dragon, Mini P.E.K.K.A, Barbarian Barrel, Vines, Golem, Guards, Minions",
          "Deck 410 — 8/8 carte mappate<br>Inferno Dragon, Electro Dragon, Bowler, Barbarian Barrel, Lumberjack, Balloon, Freeze, Tornado",
          "Deck 411 — 8/8 carte mappate<br>Goblin Giant, Wizard, Goblin Machine, Mini P.E.K.K.A, Vines, Minions, Barbarian Barrel, Rage",
          "Deck 417 — 8/8 carte mappate<br>Furnace, Electro Dragon, Golem, Prince, Guards, Tornado, Barbarian Barrel, Lightning",
          "Deck 428 — 8/8 carte mappate<br>P.E.K.K.A, Baby Dragon, Mother Witch, Spirit Empress, Dark Prince, Boss Bandit, Royal Ghost, Vines",
          "Deck 451 — 8/8 carte mappate<br>Goblin Giant, Witch, Mini P.E.K.K.A, Minions, Rage, Vines, Barbarian Barrel, Goblin Machine",
          "Deck 490 — 8/8 carte mappate<br>Inferno Dragon, Electro Dragon, Balloon, Lumberjack, Barbarian Barrel, Tornado, Bowler, Freeze",
          "Deck 522 — 8/8 carte mappate<br>Inferno Dragon, Electro Dragon, Bowler, Tornado, Lumberjack, Freeze, Barbarian Barrel, Balloon",
          "Deck 584 — 8/8 carte mappate<br>Witch, Goblin Giant, Goblin Machine, Guards, Fisherman, Vines, Minions, Arrows",
          "Deck 612 — 8/8 carte mappate<br>Goblin Giant, P.E.K.K.A, Arrows, Lightning, Fisherman, Skeletons, Bomber, Rage",
          "Deck 622 — 8/8 carte mappate<br>Electro Dragon, Goblin Giant, Prince, Tornado, Barbarian Barrel, Zap, Firecracker, Dark Prince",
          "Deck 643 — 8/8 carte mappate<br>Goblin Giant, Witch, Goblin Machine, Mini P.E.K.K.A, Rage, Vines, Barbarian Barrel, Minions",
          "Deck 653 — 8/8 carte mappate<br>Goblin Giant, Furnace, Goblin Machine, Barbarian Barrel, Prince, Minions, Vines, Rage",
          "Deck 666 — 8/8 carte mappate<br>Zap, Bomber, Goblin Curse, Boss Bandit, Electro Spirit, Goblin Machine, Goblin Giant, Spirit Empress",
          "Deck 680 — 8/8 carte mappate<br>Electro Dragon, Lumberjack, Golem, Tornado, Prince, Minions, Elixir Collector, Barbarian Barrel",
          "Deck 684 — 8/8 carte mappate<br>Electro Dragon, Goblin Cage, Golem, Night Witch, Lightning, Barbarian Barrel, Tornado, Barbarians",
          "Deck 692 — 8/8 carte mappate<br>Hunter, Battle Ram, Bandit, Royal Ghost, Elixir Collector, Three Musketeers, Rage, Knight",
          "Deck 697 — 8/8 carte mappate<br>Inferno Dragon, Lumberjack, Baby Dragon, Tornado, Bowler, Barbarian Barrel, Balloon, Freeze",
          "Deck 711 — 8/8 carte mappate<br>Witch, Baby Dragon, Golem, Goblin Machine, Mini P.E.K.K.A, Vines, Barbarian Barrel, Guards",
          "Deck 716 — 8/8 carte mappate<br>Electro Dragon, Lumberjack, Golem, Tornado, Prince, Minions, Elixir Collector, Barbarian Barrel",
          "Deck 759 — 8/8 carte mappate<br>Dart Goblin, Battle Ram, Goblin Machine, Furnace, Goblin Giant, Guards, Mirror, Arrows",
          "Deck 761 — 8/8 carte mappate<br>Goblin Giant, Furnace, Goblin Machine, Prince, Barbarian Barrel, Minions, Vines, Rage",
          "Deck 812 — 8/8 carte mappate<br>Bats, P.E.K.K.A, Goblin Giant, Goblin Machine, Ice Spirit, Goblin Curse, Mother Witch, Arrows",
          "Deck 839 — 8/8 carte mappate<br>Lumberjack, Electro Dragon, Bowler, Barbarian Barrel, Inferno Dragon, Freeze, Balloon, Tornado",
          "Deck 1002 — 8/8 carte mappate<br>Baby Dragon, Witch, Golem, Battle Healer, Vines, Elixir Collector, Barbarians, Berserker",
          "Deck 1133 — 8/8 carte mappate<br>Baby Dragon, Furnace, Minions, Golem, Mini P.E.K.K.A, Vines, Elixir Collector, Barbarian Barrel",
          "Deck 1145 — 8/8 carte mappate<br>Elixir Collector, Electro Dragon, Golem, Lumberjack, Night Witch, Goblin Machine, Tornado, Vines",
          "Deck 1163 — 8/8 carte mappate<br>Electro Dragon, Night Witch, Vines, Baby Dragon, Tornado, Berserker, Golem, Rage",
          "Deck 1177 — 8/8 carte mappate<br>Furnace, Baby Dragon, Golem, Goblin Machine, Mini P.E.K.K.A, Vines, Guards, Barbarian Barrel",
          "Deck 1189 — 8/8 carte mappate<br>Knight, Electro Dragon, Battle Healer, Tornado, Elixir Golem, Baby Dragon, Barbarian Barrel, Inferno Dragon",
          "Deck 1192 — 8/8 carte mappate<br>Baby Dragon, Battle Ram, P.E.K.K.A, Mother Witch, Dark Prince, Barbarian Barrel, Arrows, Vines",
          "Deck 1205 — 8/8 carte mappate<br>Goblin Giant, Witch, Goblin Machine, Mini P.E.K.K.A, Vines, Minions, Barbarian Barrel, Rage",
          "Deck 1225 — 8/8 carte mappate<br>Furnace, Skeletons, Elixir Golem, Skeleton King, Goblin Machine, Night Witch, Vines, Rage",
          "Deck 1227 — 8/8 carte mappate<br>Goblin Giant, Witch, Goblin Machine, Mini P.E.K.K.A, Rage, Vines, Barbarian Barrel, Minions",
          "Deck 1244 — 8/8 carte mappate<br>Witch, Electro Dragon, Goblin Machine, Elixir Golem, Arrows, Rage, Miner, Berserker",
          "Deck 1248 — 8/8 carte mappate<br>Witch, Goblin Giant, Barbarian Barrel, Vines, Berserker, Lightning, Tesla, Goblin Machine",
          "Deck 1316 — 8/8 carte mappate<br>Goblin Giant, P.E.K.K.A, Goblin Machine, Electro Wizard, Minions, Vines, Arrows, Rage",
          "Deck 1319 — 8/8 carte mappate<br>Goblin Giant, Witch, Prince, Goblin Machine, Vines, Minions, Barbarian Barrel, Rage",
          "Deck 1328 — 8/8 carte mappate<br>Goblin Giant, Furnace, Goblin Machine, Prince, Vines, Minions, Rage, Barbarian Barrel",
          "Deck 1363 — 8/8 carte mappate<br>Lumberjack, Electro Dragon, Skeleton Dragons, Tornado, Barbarians, Elixir Collector, Barbarian Barrel, Golem",
          "Deck 1368 — 8/8 carte mappate<br>Mega Knight, Goblin Giant, Goblin Machine, Minions, Mirror, Rage, Fisherman, Vines",
          "Deck 1378 — 8/8 carte mappate<br>Witch, Baby Dragon, Arrows, Golem, Zap, Goblin Machine, Battle Healer, Inferno Tower",
          "Deck 1393 — 8/8 carte mappate<br>Lumberjack, Electro Dragon, Inferno Dragon, Balloon, Freeze, Tornado, Barbarian Barrel, Bowler",
          "Deck 1436 — 8/8 carte mappate<br>Executioner, Lumberjack, Minions, Golem, Lightning, Tornado, Baby Dragon, Tombstone",
          "Deck 1471 — 8/8 carte mappate<br>Witch, Goblin Giant, Rage, Goblin Machine, Barbarian Barrel, Mini P.E.K.K.A, Vines, Minions",
          "Deck 1495 — 8/8 carte mappate<br>Furnace, Baby Dragon, Golem, P.E.K.K.A, Vines, Minions, Arrows, Barbarian Barrel",
          "Deck 1503 — 8/8 carte mappate<br>Witch, Baby Dragon, Golem, Prince, Minions, Vines, Goblin Machine, Fisherman",
          "Deck 1543 — 8/8 carte mappate<br>Archers, Zap, Night Witch, Elixir Golem, Skeleton King, Goblin Machine, Rage, Goblin Curse",
          "Deck 1546 — 8/8 carte mappate<br>Goblin Giant, Witch, Goblin Machine, Mini P.E.K.K.A, Vines, Minions, Barbarian Barrel, Rage",
          "Deck 1625 — 8/8 carte mappate<br>Electro Dragon, Lumberjack, Balloon, Bowler, Barbarian Barrel, Tornado, Phoenix, Freeze",
          "Deck 1692 — 8/8 carte mappate<br>Royal Giant, Goblin Cage, Fisherman, Mother Witch, Mega Minion, Dark Prince, Arrows, Barbarian Barrel",
          "Deck 1736 — 8/8 carte mappate<br>Knight, Electro Dragon, Balloon, Inferno Dragon, Barbarian Barrel, Tornado, Bowler, Freeze",
          "Deck 1737 — 8/8 carte mappate<br>Baby Dragon, Lumberjack, Night Witch, Barbarian Barrel, Electro Dragon, Elixir Collector, Tornado, Golem",
          "Deck 1738 — 8/8 carte mappate<br>Witch, Goblin Giant, Minions, Mini P.E.K.K.A, Barbarian Barrel, Rage, Vines, Goblin Machine",
          "Deck 1741 — 8/8 carte mappate<br>Lumberjack, Battle Ram, Electro Wizard, Fisherman, Golden Knight, Spirit Empress, P.E.K.K.A, Vines",
          "Deck 1825 — 8/8 carte mappate<br>Goblin Giant, Skeletons, P.E.K.K.A, Bomber, Fisherman, Arrows, Rage, Vines",
          "Deck 1866 — 8/8 carte mappate<br>Inferno Dragon, Electro Dragon, Battle Healer, Golem, Tornado, Freeze, Elixir Collector, Guards",
          "Deck 1966 — 8/8 carte mappate<br>Barbarians, Electro Dragon, Golem, Baby Dragon, Lumberjack, Battle Healer, Elixir Collector, Tornado",
          "Deck 2068 — 8/8 carte mappate<br>Electro Dragon, Valkyrie, Golem, Arrows, Tombstone, Barbarian Barrel, Night Witch, Mega Minion",
          "Deck 2073 — 8/8 carte mappate<br>Inferno Dragon, Lumberjack, Baby Dragon, Barbarian Barrel, Balloon, Freeze, Tornado, Bowler",
          "Deck 2155 — 8/8 carte mappate<br>Witch, Baby Dragon, Golem, Minions, Mini P.E.K.K.A, Goblin Machine, Vines, Barbarian Barrel",
          "Deck 2156 — 8/8 carte mappate<br>Furnace, Skeletons, Elixir Golem, Skeleton King, Goblin Machine, Night Witch, Vines, Rage",
          "Deck 2158 — 8/8 carte mappate<br>Witch, Baby Dragon, Battle Healer, Elixir Collector, Barbarians, Berserker, Vines, Golem",
          "Deck 2164 — 8/8 carte mappate<br>Baby Dragon, Witch, Tornado, Battle Healer, Vines, Electro Giant, Barbarian Barrel, Dark Prince",
          "Deck 2177 — 8/8 carte mappate<br>Baby Dragon, Witch, Golem, Barbarians, Battle Healer, Vines, Berserker, Lightning",
          "Deck 2198 — 8/8 carte mappate<br>Goblin Giant, Musketeer, Mini P.E.K.K.A, Three Musketeers, Mother Witch, Elixir Collector, Monk, Fisherman",
          "Deck 2202 — 8/8 carte mappate<br>Baby Dragon, Furnace, Golem, Goblin Machine, Mini P.E.K.K.A, Minions, Guards, Vines",
          "Deck 2217 — 8/8 carte mappate<br>Electro Dragon, Inferno Dragon, Electro Spirit, Heal Spirit, Elixir Golem, Battle Healer, Ice Wizard, Rage",
          "Deck 2244 — 8/8 carte mappate<br>Baby Dragon, Bomber, Golem, Night Witch, Mini P.E.K.K.A, Mega Minion, Tornado, Lightning",
          "Deck 2370 — 8/8 carte mappate<br>Witch, Baby Dragon, Golem, Goblin Machine, Mini P.E.K.K.A, Vines, Minions, Barbarian Barrel",
          "Deck 2386 — 8/8 carte mappate<br>Goblin Giant, Furnace, Goblin Machine, Prince, Mega Minion, Vines, Goblin Curse, Rage",
          "Deck 2394 — 8/8 carte mappate<br>Goblin Giant, Witch, Goblin Machine, Mini P.E.K.K.A, Rage, Vines, Barbarian Barrel, Minions",
          "Deck 2404 — 8/8 carte mappate<br>Furnace, Witch, Golem, Guards, Battle Healer, Berserker, Elixir Collector, Vines",
          "Deck 2406 — 8/8 carte mappate<br>Goblin Cage, Executioner, P.E.K.K.A, Guards, Golem, Baby Dragon, Tornado, Lightning",
          "Deck 2428 — 8/8 carte mappate<br>Lumberjack, Baby Dragon, Elixir Collector, Vines, Poison, Golem, Goblin Machine, Minions",
          "Deck 2438 — 8/8 carte mappate<br>Electro Dragon, Lumberjack, Golem, Tornado, Prince, Minions, Elixir Collector, Barbarian Barrel",
          "Deck 2451 — 8/8 carte mappate<br>Lumberjack, Electro Dragon, Tornado, Inferno Dragon, Balloon, Barbarian Barrel, Freeze, Bowler",
          "Deck 2457 — 8/8 carte mappate<br>Baby Dragon, P.E.K.K.A, Vines, Barbarian Barrel, Royal Ghost, Electro Wizard, Bandit, Battle Ram",
          "Deck 2458 — 8/8 carte mappate<br>Archers, Zap, Skeleton King, Elixir Golem, Goblin Machine, Night Witch, Rage, Goblin Curse",
          "Deck 2469 — 8/8 carte mappate<br>Baby Dragon, Witch, Golem, Mini P.E.K.K.A, Vines, Minions, Guards, Barbarian Barrel",
          "Deck 2473 — 8/8 carte mappate<br>P.E.K.K.A, Lumberjack, Balloon, Baby Dragon, Freeze, Ice Wizard, Tornado, Barbarian Barrel",
          "Deck 2475 — 8/8 carte mappate<br>Witch, Baby Dragon, Mini P.E.K.K.A, Vines, Goblin Machine, Barbarian Barrel, Minions, Elixir Golem",
          "Deck 2486 — 8/8 carte mappate<br>Lumberjack, Witch, Minions, Mini P.E.K.K.A, Golem, Barbarian Barrel, Guards, Vines",
          "Deck 2491 — 8/8 carte mappate<br>Witch, Baby Dragon, Golem, Goblin Machine, Mini P.E.K.K.A, Vines, Guards, Barbarian Barrel",
          "Deck 2499 — 8/8 carte mappate<br>Furnace, Goblin Giant, Goblin Machine, Barbarian Barrel, Rage, Minions, Berserker, Vines"
         ],
         "marker": {
          "color": "rgb(255,127,0)",
          "size": 6
         },
         "mode": "markers",
         "name": "Cluster 4",
         "text": [
          "Deck 55",
          "Deck 111",
          "Deck 174",
          "Deck 215",
          "Deck 245",
          "Deck 256",
          "Deck 271",
          "Deck 302",
          "Deck 316",
          "Deck 324",
          "Deck 344",
          "Deck 345",
          "Deck 349",
          "Deck 355",
          "Deck 358",
          "Deck 372",
          "Deck 387",
          "Deck 394",
          "Deck 398",
          "Deck 409",
          "Deck 410",
          "Deck 411",
          "Deck 417",
          "Deck 428",
          "Deck 451",
          "Deck 490",
          "Deck 522",
          "Deck 584",
          "Deck 612",
          "Deck 622",
          "Deck 643",
          "Deck 653",
          "Deck 666",
          "Deck 680",
          "Deck 684",
          "Deck 692",
          "Deck 697",
          "Deck 711",
          "Deck 716",
          "Deck 759",
          "Deck 761",
          "Deck 812",
          "Deck 839",
          "Deck 1002",
          "Deck 1133",
          "Deck 1145",
          "Deck 1163",
          "Deck 1177",
          "Deck 1189",
          "Deck 1192",
          "Deck 1205",
          "Deck 1225",
          "Deck 1227",
          "Deck 1244",
          "Deck 1248",
          "Deck 1316",
          "Deck 1319",
          "Deck 1328",
          "Deck 1363",
          "Deck 1368",
          "Deck 1378",
          "Deck 1393",
          "Deck 1436",
          "Deck 1471",
          "Deck 1495",
          "Deck 1503",
          "Deck 1543",
          "Deck 1546",
          "Deck 1625",
          "Deck 1692",
          "Deck 1736",
          "Deck 1737",
          "Deck 1738",
          "Deck 1741",
          "Deck 1825",
          "Deck 1866",
          "Deck 1966",
          "Deck 2068",
          "Deck 2073",
          "Deck 2155",
          "Deck 2156",
          "Deck 2158",
          "Deck 2164",
          "Deck 2177",
          "Deck 2198",
          "Deck 2202",
          "Deck 2217",
          "Deck 2244",
          "Deck 2370",
          "Deck 2386",
          "Deck 2394",
          "Deck 2404",
          "Deck 2406",
          "Deck 2428",
          "Deck 2438",
          "Deck 2451",
          "Deck 2457",
          "Deck 2458",
          "Deck 2469",
          "Deck 2473",
          "Deck 2475",
          "Deck 2486",
          "Deck 2491",
          "Deck 2499"
         ],
         "type": "scatter3d",
         "x": {
          "bdata": "zAGngVdkmL/lIdyLr3ehv+Uh3Iuvd6G/Ks0sPVkylr+AdAQK03aiv2egqKhyjpC/WPXN96UAmr/ak1ZUfoOgv7Og9R8VwJm/gHQECtN2or/YtU7JBAmWv4B0BArTdqK/2np7Zc9Ror9h26IW/s2kvx0FPbxOf5i/SY6InbzymL9712djLwmZv4qsKs2vX5m/KrptgoFoor84hZiqx3yYv+Uh3Iuvd6G/aGqAIM2Vor+iDKsf/eyavzlTxmu7Q5i/gHQECtN2or/lIdyLr3ehv+Uh3Iuvd6G/C49kAxMGnr+oWQrbLPmRvyqIe5vTuZu/gHQECtN2or+q4kNduLqhv1CkulpC3Jq/GsM2oPaYob9y/VNmOTqivyosNFSd9Y+/H+APuA2Fn78O1DTspZ6cvxrDNqD2mKG/IAofe3jjmb+q4kNduLqhv0wHT1MMZJa/5SHci693ob+dBkG/z06fv7+purHFHpi/el+ExYx9pL+MAHFQQGGfv4qsKs2vX5m/IeEQOZg1nr+xGW4Dz32Yv4B0BArTdqK/IKD6Uqjtk7+AdAQK03aiv+4thQLTBqC/qNr/14W9kL8tE8IDSdOiv2z2yGwzWqO/quJDXbi6ob9ogf6OB5Cjv8e7qXprAqK/kXNsVsPNn7/kIdyLr3ehv59MfhVE4Zy/gHQECtN2or/AExkSvUGWv+gEzF92HqC/HmUDjBiUoL+AdAQK03aiv0IEZ0qlKqO/tiZw1GUKlr8+jFBCqFqXv5marVvmkaK/gHQECtN2or/6lSIIdv+WvzN7vZJ1Jo2/RIU56EnNpL8Iz+qc7Gqlvzt5uzN1SKC/H+APuA2Fn7/eiqvIIAmgvyCg+lKo7ZO/nQZBv89On78lYlaNyd6dv9s1Onz5w56/EQuMZDoIk78LaJ1UTnKcv/gqtoo6vJ2/2np7Zc9Ror/fiqvIIAmgvwvjAwEg96S/gHQECtN2or/S7wyVBh6Yv88B2e6cP5m/hybJ565hn78awzag9pihv+Qh3Iuvd6G/ydg9OcHBlr8eZQOMGJSgvzmFmKrHfJi/hLBhw+SZl7/zCxsCeaSgvycJgagyFZm/DtQ07KWenL8xAKOJBsidvw==",
          "dtype": "f8"
         },
         "y": {
          "bdata": "6OwHvVCZeT/LiluGp/NtP8uKW4an820/GQnkkdZjjD+w7isdns2QP8xoZoWJWYI/FF7/z8EgeD+k6pk821adP04w9uZT030/sO4rHZ7NkD/Cxa0GWeaEP7DuKx2ezZA/TZQbDEYLdj9+HNQKDR+VPz8r81k89JY/Yq+oI/Ucgj8CN2wmd0RdP5LIz6J44Jk/vTAmFkCelT9h200gwKyDP8uKW4an820/nuoSsGMkjT881h5pSmCLP6K3gY/3FH8/sO4rHZ7NkD/KiluGp/NtP8qKW4an820/aix8/W2PkT//XsirgNZxP2Jh2UADsW4/r+4rHZ7NkD9QkIcf1ZeVPzaQaAFVNZA/JWYurylUjD9jqvfOCEeWP6iU2qjIuWQ/svQwHmUsbj8m+21sWxOUPyVmLq8pVIw/eKTJdLehcz9QkIcf1ZeVP06GpIpivYA/y4pbhqfzbT/i8bLAgDeTP93jIEsTY5M/4RCD/ET0mT8+nw6bigWYP5LIz6J44Jk/CK6XWeHohT/Ft11L3LmAP7DuKx2ezZA/zCFKmrZCjT+v7isdns2QPwCBkx8XFIc/UK6yGxk/mj/4ft24HoCAP8mFS9JvlY8/UZCHH9WXlT/Y0vTy6pCNPyIaPkM0Vow/pJcG6F+JZj/KiluGp/NtP6k2nRTCWHY/sO4rHZ7NkD8eRis47lCNP29BNlaR/JE/4sHtUBuSgD+w7isdns2QP1Ay9DZrEIA/XnSCKpMSkz8/E/4P7g9wP1XaSNo1tZY/sO4rHZ7NkD/UBnf6Py5wP74dGfcb5X4/dEYhbkkfhT/tH9QfIbmMP+W04pJuF4M/r/QwHmUsbj8NrMiy4suTP8whSpq2Qo0/4vGywIA3kz+QfEQlRj2LPz2V11RbDY0/uoQ+1QYVkj+dT585HMSSP9rOEKdToIE/TZQbDEYLdj8NrMiy4suTP4r1vDodP5A/r+4rHZ7NkD9GZrlHcFiWP16xRG7uIYs/yWs8aDNrmz8lZi6vKVSMP8qKW4an820/PAuIRol0bz/iwe1QG5KAP2HbTSDArIM/29q/Vzsygj962+WZrACKP9/5oTsp3XY/JvttbFsTlD8I3H05/JGhPw==",
          "dtype": "f8"
         },
         "z": {
          "bdata": "a+be5WV/Ur/nkkJ68ylLP+eSQnrzKUs/zsrjTrEGcz9aEiCsVtSLPwpcbG/3/JE/CPlfbXdKRL8NoiWR36SHP+YBGLRHIJY/WhIgrFbUiz/QMNuoJLBLP1oSIKxW1Is/5RCQWUZOiT+cU6mkbgCVPyKJvPFfeFu/xghk0x6nX7+/tac3VB53PxIbc/iv42g/Lv0mx/p/hT+CYZi+lKJXv+iSQnrzKUs/TbR0bHO7jj/AZzMGBGTIvp+eqr18FWQ/WhIgrFbUiz/pkkJ68ylLP+iSQnrzKUs/AQcByUV7iD8ojcbu/oSSP31ApL+rOog/WhIgrFbUiz8wXNJ/eDmMP13sCrl7Jpk/xrjBPuhQfj/O/AKkxukxP1cvrcjX55M/wnVEKS9kNL+5R7LdhKJrP8a4wT7oUH4/0tBUpokWhD8wXNJ/eDmMP9mgEoYQPJQ/55JCevMpSz/eTKK/OZh8PyFz7xNLQGU/vd4lXVxujj9IcFWHo6d3PxIbc/iv42g/FMMFQASwfD9mdd1pMS10P1oSIKxW1Is/CPiv0ZC2gj9aEiCsVtSLP/K9nJ6Fong/qNbAH5Zrgj/I+8ByHZqRP1knIrkt6Yw/MFzSf3g5jD+BQF2+mud/P3CXfx8wcJE/qcYj6AmsgT/qkkJ68ylLP2qZsfnVNlU/WhIgrFbUiz+KCO4GyDNQPwIzvF95e38/M9bwHsr4kz9aEiCsVtSLP2dOzaTXyH0/EJeivumuaT815yKQe5wmPzTMA5BJF4M/WhIgrFbUiz/qNptO0I1gPyYMaitWS5I/6Dd3VgWDhD+xTcgwhZ2LP6iRUDCQlno/wnVEKS9kNL/imY4MUqF1Pwj4r9GQtoI/3kyivzmYfD/I1IhPw513Pw/EGcbATm0/RA2wcKPglj+y0yyw7EVxP+MGvIlprpE/5RCQWUZOiT/hmY4MUqF1P3U+WcolZ5g/WhIgrFbUiz8RHYC9rU1qP5FAOfSKjm6/pqgnD3HchD/GuME+6FB+P+aSQnrzKUs/ZygtmF0Xcj801vAeyviTP4JhmL6Uole/3wxW6HCgTD8SVa20DUxzP0IyhXyNHk6/ukey3YSiaz/j1tVXKvWGPw==",
          "dtype": "f8"
         }
        },
        {
         "hoverinfo": "text",
         "hovertext": [
          "Deck 7 — 8/8 carte mappate<br>Firecracker, Valkyrie, Hog Rider, Goblin Barrel, Witch, Goblin Gang, Cannon, Golden Knight",
          "Deck 50 — 8/8 carte mappate<br>Knight, Dart Goblin, Prince, Goblin Barrel, Ice Spirit, Guards, Princess, The Log",
          "Deck 105 — 8/8 carte mappate<br>Valkyrie, Goblin Barrel, Skeleton Barrel, Skeletons, Princess, Goblin Gang, Arrows, Ice Wizard",
          "Deck 128 — 8/8 carte mappate<br>Wall Breakers, Valkyrie, Goblin Gang, Goblin Barrel, Princess, The Log, Lightning, Inferno Tower",
          "Deck 140 — 8/8 carte mappate<br>Hog Rider, Goblin Barrel, Skeleton Army, Inferno Tower, Princess, The Log, Goblin Gang, Rocket",
          "Deck 177 — 8/8 carte mappate<br>Valkyrie, Dart Goblin, The Log, Goblin Gang, Tombstone, Goblin Barrel, Rocket, Princess",
          "Deck 192 — 8/8 carte mappate<br>Goblin Barrel, The Log, Goblin Gang, Electro Wizard, Skeleton Army, Inferno Tower, Hog Rider, Princess",
          "Deck 210 — 8/8 carte mappate<br>Wall Breakers, Knight, Zap, Witch, Dart Goblin, Mini P.E.K.K.A, Hog Rider, Tesla",
          "Deck 224 — 8/8 carte mappate<br>Executioner, Valkyrie, Princess, Goblin Gang, Firecracker, Hog Rider, Zap, Inferno Tower",
          "Deck 230 — 8/8 carte mappate<br>Goblin Barrel, Firecracker, Rocket, Golden Knight, Goblin Gang, The Log, Ice Spirit, Inferno Tower",
          "Deck 239 — 8/8 carte mappate<br>Mega Knight, Dart Goblin, Goblin Barrel, Goblin Gang, Valkyrie, Knight, Arrows, Musketeer",
          "Deck 242 — 8/8 carte mappate<br>Firecracker, Archers, Giant Skeleton, Electro Wizard, Princess, Inferno Tower, Ice Spirit, Arrows",
          "Deck 250 — 8/8 carte mappate<br>Mega Knight, Firecracker, Goblin Gang, Dart Goblin, Cannon, Goblin Barrel, Arrows, Wall Breakers",
          "Deck 285 — 8/8 carte mappate<br>Witch, Tesla, Knight, Goblin Barrel, The Log, Dart Goblin, Ram Rider, Fireball",
          "Deck 292 — 8/8 carte mappate<br>Valkyrie, Knight, Wall Breakers, Skeleton Army, Goblin Barrel, The Log, Dart Goblin, Tesla",
          "Deck 297 — 8/8 carte mappate<br>Royal Recruits, Firecracker, Fireball, Prince, Knight, Earthquake, Inferno Tower, Skeleton Army",
          "Deck 329 — 8/8 carte mappate<br>Valkyrie, Dart Goblin, Fire Spirit, Goblin Gang, Inferno Tower, Tornado, Rocket, Goblin Barrel",
          "Deck 350 — 8/8 carte mappate<br>Mega Knight, Firecracker, Goblin Barrel, Knight, The Log, Goblin Gang, Mini P.E.K.K.A, Skeleton Barrel",
          "Deck 422 — 8/8 carte mappate<br>Witch, Mega Knight, Knight, Tesla, Arrows, Hog Rider, Goblin Barrel, The Log",
          "Deck 454 — 8/8 carte mappate<br>Firecracker, Mega Knight, Inferno Tower, Goblin Barrel, Knight, Fireball, Dart Goblin, Goblin Gang",
          "Deck 480 — 8/8 carte mappate<br>Firecracker, Goblin Barrel, Dart Goblin, Arrows, Goblin Gang, Knight, Inferno Tower, Rocket",
          "Deck 501 — 8/8 carte mappate<br>Zap, Mega Knight, Princess, Electro Wizard, Hog Rider, Goblin Barrel, Goblin Gang, Inferno Tower",
          "Deck 506 — 8/8 carte mappate<br>Knight, Goblin Barrel, Inferno Tower, Fireball, Goblin Gang, Princess, Barbarian Barrel, Skeletons",
          "Deck 550 — 8/8 carte mappate<br>Valkyrie, Tesla, Rocket, Princess, Goblin Barrel, Guards, Arrows, Ice Spirit",
          "Deck 579 — 8/8 carte mappate<br>Dart Goblin, Valkyrie, Inferno Tower, Goblin Barrel, Goblin Gang, Suspicious Bush, The Log, Princess",
          "Deck 582 — 8/8 carte mappate<br>Valkyrie, Dart Goblin, Skeletons, Arrows, Skeleton Barrel, The Log, Suspicious Bush, Mirror",
          "Deck 596 — 8/8 carte mappate<br>Firecracker, Tesla, Fireball, The Log, Dart Goblin, Goblin Gang, Knight, Hog Rider",
          "Deck 602 — 8/8 carte mappate<br>Dart Goblin, Valkyrie, Inferno Tower, Goblin Barrel, Goblin Gang, Suspicious Bush, The Log, Princess",
          "Deck 743 — 8/8 carte mappate<br>Valkyrie, Goblin Barrel, Princess, Knight, Arrows, Goblin Gang, Inferno Tower, Rocket",
          "Deck 838 — 8/8 carte mappate<br>Skeletons, Dart Goblin, Mega Knight, Inferno Tower, Ice Spirit, Arrows, Skeleton Barrel, Goblin Barrel",
          "Deck 861 — 8/8 carte mappate<br>Mortar, Mega Knight, Skeleton Barrel, Knight, Executioner, Goblin Gang, Fireball, The Log",
          "Deck 889 — 8/8 carte mappate<br>Mega Knight, Firecracker, Hog Rider, Mini P.E.K.K.A, Ice Spirit, Goblin Barrel, The Log, Skeletons",
          "Deck 912 — 8/8 carte mappate<br>Skeletons, Musketeer, Mini P.E.K.K.A, Skeleton Army, Princess, Goblin Barrel, The Log, Dart Goblin",
          "Deck 941 — 8/8 carte mappate<br>Goblin Barrel, Dart Goblin, Goblin Gang, The Log, Rocket, Princess, Prince, Rascals",
          "Deck 1098 — 8/8 carte mappate<br>Firecracker, Skeleton Barrel, Goblin Barrel, Knight, Tesla, Vines, Boss Bandit, The Log",
          "Deck 1120 — 8/8 carte mappate<br>Valkyrie, Firecracker, Goblin Gang, Archer Queen, Princess, Goblin Barrel, Inferno Tower, Skeleton Army",
          "Deck 1150 — 8/8 carte mappate<br>Firecracker, Valkyrie, Inferno Tower, Goblin Barrel, The Log, Furnace, Skeletons, Hog Rider",
          "Deck 1152 — 8/8 carte mappate<br>Wall Breakers, Dart Goblin, Royal Ghost, Boss Bandit, Goblin Gang, Fire Spirit, Ice Spirit, The Log",
          "Deck 1199 — 8/8 carte mappate<br>Skeleton Barrel, Furnace, Suspicious Bush, Boss Bandit, Goblin Gang, Cannon, Ice Spirit, The Log",
          "Deck 1322 — 8/8 carte mappate<br>Goblin Barrel, Valkyrie, Wall Breakers, Princess, Ice Spirit, Goblin Gang, Vines, Dart Goblin",
          "Deck 1354 — 8/8 carte mappate<br>Valkyrie, Bats, Hog Rider, Princess, The Log, Tesla, Skeleton Army, Prince",
          "Deck 1398 — 8/8 carte mappate<br>Mega Knight, Firecracker, Dart Goblin, Ice Spirit, The Log, Mini P.E.K.K.A, Goblin Barrel, Witch",
          "Deck 1417 — 8/8 carte mappate<br>Fireball, Goblin Barrel, Princess, Goblin Gang, Inferno Tower, Skeleton Army, Hog Rider, The Log",
          "Deck 1464 — 8/8 carte mappate<br>Skeleton Barrel, Goblin Barrel, Dart Goblin, Tombstone, Mini P.E.K.K.A, Goblin Gang, Guards, Princess",
          "Deck 1498 — 8/8 carte mappate<br>Knight, Goblin Barrel, The Log, Princess, Inferno Tower, Rocket, Bowler, Goblin Gang",
          "Deck 1515 — 8/8 carte mappate<br>Goblin Barrel, Valkyrie, Boss Bandit, Goblin Gang, Dart Goblin, Wall Breakers, The Log, Princess",
          "Deck 1523 — 8/8 carte mappate<br>Tesla, Mega Knight, Fireball, Skeleton Barrel, Dart Goblin, The Log, Ice Spirit, Goblin Gang",
          "Deck 1531 — 8/8 carte mappate<br>Knight, Goblin Barrel, The Log, Goblinstein, Princess, Dart Goblin, Guards, Cannon Cart",
          "Deck 1558 — 8/8 carte mappate<br>Goblin Barrel, Hog Rider, Minions, Inferno Tower, Fireball, Skeleton Army, The Log, Princess",
          "Deck 1559 — 8/8 carte mappate<br>Valkyrie, Goblin Gang, The Log, Princess, Hog Rider, Fireball, Goblin Barrel, Inferno Tower",
          "Deck 1570 — 8/8 carte mappate<br>Royal Recruits, Goblin Barrel, Princess, The Log, Tesla, Rascals, Goblin Gang, Dart Goblin",
          "Deck 1608 — 8/8 carte mappate<br>Goblin Barrel, Valkyrie, Cannon, Dart Goblin, Goblinstein, Goblin Gang, Fireball, The Log",
          "Deck 1671 — 8/8 carte mappate<br>Goblin Barrel, Skeleton Barrel, Dart Goblin, Ice Spirit, Inferno Tower, The Log, Princess, Skeleton Army",
          "Deck 1689 — 8/8 carte mappate<br>Valkyrie, Dart Goblin, Rocket, Goblin Barrel, The Log, Electro Spirit, Inferno Tower, Goblin Gang",
          "Deck 1694 — 8/8 carte mappate<br>Tesla, Dart Goblin, Valkyrie, Fireball, Knight, Goblin Gang, The Log, Goblin Barrel",
          "Deck 1700 — 8/8 carte mappate<br>Dart Goblin, Valkyrie, Skeleton Barrel, Fireball, The Log, Goblin Gang, Spear Goblins, Mortar",
          "Deck 1724 — 8/8 carte mappate<br>Valkyrie, Knight, Wall Breakers, Skeleton Army, Goblin Barrel, The Log, Dart Goblin, Tesla",
          "Deck 1726 — 8/8 carte mappate<br>Mega Knight, Goblin Barrel, Ice Wizard, Princess, Hog Rider, Knight, Skeleton Army, Arrows",
          "Deck 1742 — 8/8 carte mappate<br>Goblin Barrel, Wall Breakers, Goblin Gang, Dart Goblin, Electro Spirit, Vines, Skeleton King, Princess",
          "Deck 1750 — 8/8 carte mappate<br>Valkyrie, Goblin Barrel, Goblin Gang, The Log, Vines, P.E.K.K.A, Inferno Tower, Princess",
          "Deck 1807 — 8/8 carte mappate<br>Mega Knight, Firecracker, Hog Rider, Dart Goblin, Bats, The Log, Fireball, Fire Spirit",
          "Deck 1812 — 8/8 carte mappate<br>Dart Goblin, Goblin Barrel, Prince, Guards, Princess, Rascals, Rocket, The Log",
          "Deck 1830 — 8/8 carte mappate<br>Firecracker, Tesla, Ice Spirit, Bats, Zap, Hog Rider, Goblin Barrel, Mega Knight",
          "Deck 1834 — 8/8 carte mappate<br>Dart Goblin, Goblin Barrel, Royal Recruits, Hog Rider, Knight, Tesla, Fireball, The Log",
          "Deck 1854 — 8/8 carte mappate<br>Bats, Mega Knight, Princess, The Log, Dart Goblin, Inferno Tower, Goblin Barrel, Firecracker",
          "Deck 1877 — 8/8 carte mappate<br>Dart Goblin, Firecracker, Goblin Barrel, Goblin Gang, Inferno Tower, Knight, Barbarian Barrel, Rocket",
          "Deck 1883 — 8/8 carte mappate<br>Goblin Barrel, Valkyrie, Rocket, Inferno Tower, Princess, Goblin Gang, Zap, Skeletons",
          "Deck 1918 — 8/8 carte mappate<br>Knight, Goblin Barrel, The Log, Rascals, Princess, Bomber, Goblin Gang, Rocket",
          "Deck 1927 — 8/8 carte mappate<br>Goblin Barrel, Wall Breakers, Ice Spirit, Goblin Gang, Dart Goblin, Princess, Vines, Valkyrie",
          "Deck 1937 — 8/8 carte mappate<br>Knight, Goblin Barrel, Dart Goblin, Inferno Tower, Skeleton Barrel, The Log, Princess, Skeleton Army",
          "Deck 2006 — 8/8 carte mappate<br>Firecracker, Dart Goblin, Goblin Gang, Goblin Barrel, Inferno Tower, The Log, Fireball, Knight",
          "Deck 2012 — 8/8 carte mappate<br>Goblin Barrel, Valkyrie, Goblin Gang, Inferno Tower, Skeleton Army, Princess, The Log, Miner",
          "Deck 2030 — 8/8 carte mappate<br>Goblin Gang, Wizard, Goblin Barrel, Skeleton Army, Skeleton Barrel, Cannon, Arrows, Knight",
          "Deck 2032 — 8/8 carte mappate<br>The Log, Wall Breakers, Valkyrie, Bats, Dart Goblin, Hog Rider, Miner, Skeleton Barrel",
          "Deck 2098 — 8/8 carte mappate<br>Dart Goblin, Valkyrie, Skeletons, Goblin Barrel, Goblin Gang, Ice Spirit, Wall Breakers, Arrows",
          "Deck 2152 — 8/8 carte mappate<br>Valkyrie, Dart Goblin, Fire Spirit, Goblin Gang, Inferno Tower, Tornado, Rocket, Goblin Barrel",
          "Deck 2157 — 8/8 carte mappate<br>Wall Breakers, Goblin Barrel, Dart Goblin, Goblin Gang, Rocket, The Log, Prince, Rascals",
          "Deck 2210 — 8/8 carte mappate<br>Knight, Goblin Barrel, Inferno Tower, Hog Rider, Goblin Gang, Barbarian Barrel, Fireball, Princess",
          "Deck 2247 — 8/8 carte mappate<br>The Log, Poison, Dart Goblin, Prince, Goblin Gang, Goblin Barrel, Rascals, Princess",
          "Deck 2289 — 8/8 carte mappate<br>Knight, Goblin Barrel, Princess, Rascals, Goblin Gang, Zap, Mini P.E.K.K.A, The Log",
          "Deck 2348 — 8/8 carte mappate<br>Bats, Valkyrie, Dart Goblin, Skeleton Barrel, Wall Breakers, Princess, Bandit, Goblin Barrel",
          "Deck 2380 — 8/8 carte mappate<br>Goblin Barrel, Valkyrie, Dart Goblin, Goblin Gang, Berserker, Ice Spirit, Inferno Tower, The Log",
          "Deck 2462 — 8/8 carte mappate<br>Valkyrie, Dart Goblin, Goblin Barrel, Goblin Gang, Fire Spirit, Tesla, Fireball, The Log"
         ],
         "marker": {
          "color": "rgb(255,255,51)",
          "size": 6
         },
         "mode": "markers",
         "name": "Cluster 5",
         "text": [
          "Deck 7",
          "Deck 50",
          "Deck 105",
          "Deck 128",
          "Deck 140",
          "Deck 177",
          "Deck 192",
          "Deck 210",
          "Deck 224",
          "Deck 230",
          "Deck 239",
          "Deck 242",
          "Deck 250",
          "Deck 285",
          "Deck 292",
          "Deck 297",
          "Deck 329",
          "Deck 350",
          "Deck 422",
          "Deck 454",
          "Deck 480",
          "Deck 501",
          "Deck 506",
          "Deck 550",
          "Deck 579",
          "Deck 582",
          "Deck 596",
          "Deck 602",
          "Deck 743",
          "Deck 838",
          "Deck 861",
          "Deck 889",
          "Deck 912",
          "Deck 941",
          "Deck 1098",
          "Deck 1120",
          "Deck 1150",
          "Deck 1152",
          "Deck 1199",
          "Deck 1322",
          "Deck 1354",
          "Deck 1398",
          "Deck 1417",
          "Deck 1464",
          "Deck 1498",
          "Deck 1515",
          "Deck 1523",
          "Deck 1531",
          "Deck 1558",
          "Deck 1559",
          "Deck 1570",
          "Deck 1608",
          "Deck 1671",
          "Deck 1689",
          "Deck 1694",
          "Deck 1700",
          "Deck 1724",
          "Deck 1726",
          "Deck 1742",
          "Deck 1750",
          "Deck 1807",
          "Deck 1812",
          "Deck 1830",
          "Deck 1834",
          "Deck 1854",
          "Deck 1877",
          "Deck 1883",
          "Deck 1918",
          "Deck 1927",
          "Deck 1937",
          "Deck 2006",
          "Deck 2012",
          "Deck 2030",
          "Deck 2032",
          "Deck 2098",
          "Deck 2152",
          "Deck 2157",
          "Deck 2210",
          "Deck 2247",
          "Deck 2289",
          "Deck 2348",
          "Deck 2380",
          "Deck 2462"
         ],
         "type": "scatter3d",
         "x": {
          "bdata": "CIwzdzu0lz9RHGSjtw2lPy7cBex7S54/eeWVp9vsnj/S6P2e6JmjPyMDN6I8EaI/lgZUk4plnD+bdg/GeSCXP9lNoB1iPJU/hicnUmXPpD8LP/gNFaWWP0qcOeRFyZo/Vgr+FSGAnj+/wup449OfP7mNR6YhKaI/XwUk24Q+nj/hRfAOipedP0+aG6RPD5g/HRGjZSsvmz96+0pXK5ydP0cOWEslwKA/vFTwHwQIlD/I8nOg8/6kP/WW0A/MC6U/dpfe9E6Qoz9IEZpOQg6XP2P366sdeqU/dpfe9E6Qoz/rcqgoNOahPzfzLRW9TqI/JKGNm9Simj9Wnn3EaAukP1KysEdLpKI/VBW6OT/6oz++f40r0dSfP7IKv2aIwZw/ChKgVkBgoT+73AXBNFKiP7PeawvB4KQ/Mi+Xa0SXpD94xbYJ3bKWP83rhEGvWpo/52jfpLu/oT/bTBUvbkaTP/aSDMTVq6M/9k8CxUgWoT/IUeFIqPCkP4JUMRg8wKE/JsKylJoNmz+qH3NImSWjP68ttQKAbKY/EOIIaB8kpD9fyhvagr+lP4gVOYsXdaU/ytJKhV6ppD/THCE4C6abP7mNR6YhKaI/4VOuZvvhlT8GN/gYv+SiP6ZZ23StcZo/3JwcL/v0mT9XLsWxHnuhPyl+sD4OEp4/34/1Ji6wpD8cb1wCLTOeP8fXnZ28l6A/dNP5tPNXoz+5sLSYDvGkPzMvl2tEl6Q/W4aIAUmooj9QGoAhREyjP8EWyRshrJw/QXJ96ev5lj8hEE/chhuXP85qU98ElaQ/4UXwDoqXnT9worYXBaihP8cJHlU9EKI/kmU8tAxMoT/MFoRffnqhP1abyzVvT5U/QwbWC2A2pD/pXz0ULiOkPw==",
          "dtype": "f8"
         },
         "y": {
          "bdata": "Ev6PBQHgmr/Us1obDwSavyTEfiGkgpa/WONSrAS0oL/GL9tPXDKlv7Wxrh6rtZ6/BISpdmc4pb8eoY062W6Zv//1drtuJKK/Ngd++JCdnb99/A1QcJKcvy2PfZrksZ6/UPq1i9c/nb9d1SIokG2Zvw5/gQnxrpy/bJTpJrZ0mr+tLJ1BfPKcv6Z2vePrdJ2/U1eQfjtvm7+hz9+2TnOhv+tYBFc1Z6G/gCjsXxuspL8t1kBJ0SqXv2giOdkSuZu/QP7SFZhGor8WrIvnzwiXv1Xasat975q/QP7SFZhGor9cv+HrnZyiv3vkDoYLgJ2/cPmPoQi+k7+aLwfCe1yZv1UItn7BA5+/jFyBf7exoL8QiLz+kEqSvxX69WyZVaS/YCY7fkm2mL9pEjFyvQWPv1M5RFSLYYy/jag+4V8Nmr9QKqZ2hrmhv6pbPyEzYpy/S2Fz82XMpL98ZPm3lMubvxsRn/kLD5+/Ju+TAYxOnr8MrcRuIZeav/c36/aVk5G/JlX4Wbg5or/WM6RZciWjvyhRRmd6PZi/SBh0SvalmL9AV2derNqiv+QqgEhSJJ6/Cxn9U+eWnL+LDzGOHmiWvw5/gQnxrpy/TuTCEcZxmr91ml5A9tyRvz/FKMx2aJ2/0qxRuZM0m7+1UWcSm/abvxCPYAbEA5+/9WJnBVvFlL8cgWnAu0Kjv9AOc2zNpZi/9BvgYPxlor/AweDnY9eav42oPuFfDZq/PhEtKcrNor/4rOJGvYygvwrcklik8aK/ac+J3BZ2oL/WxUJBczaYv8spSgIhSpm/rSydQXzynL84p9DVk7ucv71HLTIAEpu/1hUCPHT1l7+zoiCRtmSdv0i5yuLy2qC/YyfV9GWJlL+iNjclAHecvw==",
          "dtype": "f8"
         },
         "z": {
          "bdata": "nptRVjIJhL9l927IR6ODvxTvk1iRm5C/EIuMnR74k7+f7QFORgePv+RKGxUVrJG/ps5GoOO3i7+akW2BUyKAv8UYP/6WroK/WbWtSf4bir/3PHIJtdmCv59Xaph1gWW/ZHvI0/6Fj79OIhifbMtwv1ElggLhYYe/Lg+ZO12bfL/ouE6keY2Nv2r2Usj5Gou/yvcEyo25bL+47KJRtVWJvwG14zdk1I2/O1/FNpZ5i7+cFgrKsg6Hv4dHKBKr4n2/fmUdZAyXl783UBIG38OHv1ZBaJbTWWa/fmUdZAyXl7/FiOxH6xCQv4lmN1pCF4m/cjdkANDbhb9cxGJmhO8yv2vmXtkc9n6/VvAsYgbKk78bdJAWBaeEvyu88gZPH4+/rked1/wedb9Apjv3e2qIvzadFuIUe5C/I9IFhFfYkr8sE4H1E8Zyv5cFW+3WYXy/OfHjDErhiL9BFogX6qSXv71hvATkgJC/4ZW0iIpOlr+4PxyftA2Av/5MREctHJW/SlnF0Siqf7/AcrIpoCeHv27ujAl3YZq//LDA/vdyhb9UESE3rM+RvxjkqWtgNIa/HOr6c8edfL/EC9jnAEKRv1ElggLhYYe/6yrRyzoLhb8jT/F5/bOTv0RYW+sFrYq//OCm2qFfbL+Oq5l37zeRv0Uf7UWzDWK/xC4C6+cEh7/Hjw9r3DCQvyzqEbmFhY6/jXIo/0oOi78f4RPHb0qJvyLSBYRX2JK/8Ryani6Pk781biv0HaCGv3iMFwtQOI+/L6+qLAx+iL+rh0ux6oyOv/GcXHKyZom/6LhOpHmNjb8DQ5pINleVv1rzGuLcAom/vluZ9nKBk7//6u7wcB2Pv4eqSLlWOJe/zqkfEVQdjL+jRt1FzJJ+vw==",
          "dtype": "f8"
         }
        },
        {
         "hoverinfo": "text",
         "hovertext": [
          "Deck 25 — 8/8 carte mappate<br>Knight, Baby Dragon, Ice Wizard, Tombstone, Poison, Graveyard, Tornado, Barbarian Barrel",
          "Deck 78 — 8/8 carte mappate<br>Knight, Goblin Cage, Baby Dragon, Ice Wizard, Poison, Graveyard, Tornado, Barbarian Barrel",
          "Deck 124 — 8/8 carte mappate<br>Knight, Baby Dragon, Barbarian Barrel, Tornado, Graveyard, Ice Wizard, Poison, Tombstone",
          "Deck 170 — 8/8 carte mappate<br>Knight, Goblin Cage, Graveyard, Baby Dragon, Tornado, Ice Wizard, Poison, Barbarian Barrel",
          "Deck 238 — 8/8 carte mappate<br>Knight, Baby Dragon, Graveyard, Ice Wizard, Tombstone, Tornado, Poison, Barbarian Barrel",
          "Deck 310 — 8/8 carte mappate<br>Royal Recruits, Goblin Cage, Arrows, Barbarian Barrel, Royal Hogs, Fireball, Flying Machine, Zappies",
          "Deck 313 — 8/8 carte mappate<br>Royal Recruits, Goblin Cage, Zappies, Royal Hogs, Flying Machine, Barbarian Barrel, Golden Knight, Arrows",
          "Deck 314 — 8/8 carte mappate<br>Valkyrie, Furnace, Poison, Graveyard, Barbarian Barrel, Goblin Hut, Berserker, Vines",
          "Deck 319 — 8/8 carte mappate<br>Goblin Cage, Royal Recruits, Royal Hogs, Flying Machine, Fireball, Zappies, Arrows, Barbarian Barrel",
          "Deck 321 — 8/8 carte mappate<br>Royal Recruits, Mega Knight, Fisherman, Flying Machine, Royal Hogs, Zappies, Barbarian Barrel, Arrows",
          "Deck 351 — 8/8 carte mappate<br>Furnace, Valkyrie, Barbarian Barrel, Berserker, Vines, Goblin Hut, Poison, Graveyard",
          "Deck 368 — 8/8 carte mappate<br>Furnace, Valkyrie, Graveyard, Berserker, Poison, Vines, Goblin Hut, Barbarian Barrel",
          "Deck 392 — 8/8 carte mappate<br>Valkyrie, Witch, Graveyard, Poison, Vines, Ice Wizard, Goblin Hut, Berserker",
          "Deck 393 — 8/8 carte mappate<br>Witch, Knight, Graveyard, Poison, Vines, Goblin Hut, Ice Wizard, Barbarian Barrel",
          "Deck 405 — 8/8 carte mappate<br>Knight, Furnace, Barbarian Barrel, Berserker, Vines, Poison, Graveyard, Goblin Hut",
          "Deck 406 — 8/8 carte mappate<br>Royal Recruits, Goblin Cage, Zappies, Royal Hogs, Flying Machine, Barbarian Barrel, Golden Knight, Arrows",
          "Deck 408 — 8/8 carte mappate<br>Witch, Valkyrie, Graveyard, Poison, Vines, Ice Wizard, Goblin Hut, Barbarian Barrel",
          "Deck 497 — 8/8 carte mappate<br>Royal Recruits, Goblin Cage, Arrows, Barbarian Barrel, Zappies, Flying Machine, Golden Knight, Royal Hogs",
          "Deck 556 — 8/8 carte mappate<br>Royal Recruits, Furnace, Archers, Royal Hogs, Arrows, Flying Machine, Mighty Miner, Barbarian Barrel",
          "Deck 598 — 8/8 carte mappate<br>Royal Recruits, Goblin Cage, Zappies, Cannon Cart, Arrows, Poison, Flying Machine, Barbarian Barrel",
          "Deck 618 — 8/8 carte mappate<br>Furnace, Valkyrie, Berserker, Graveyard, Barbarian Barrel, Vines, Poison, Goblin Hut",
          "Deck 627 — 8/8 carte mappate<br>Royal Recruits, Bats, Goblin Cage, Arrows, Royal Hogs, Barbarian Barrel, Flying Machine, Zappies",
          "Deck 633 — 8/8 carte mappate<br>Baby Dragon, Knight, Graveyard, Poison, Ice Wizard, Goblin Hut, Vines, Barbarian Barrel",
          "Deck 636 — 8/8 carte mappate<br>Skeletons, Goblin Cage, Tornado, Poison, Barbarian Barrel, Goblinstein, Ice Wizard, Graveyard",
          "Deck 641 — 8/8 carte mappate<br>Furnace, Valkyrie, Graveyard, Barbarian Barrel, Goblin Hut, Poison, Vines, Berserker",
          "Deck 661 — 8/8 carte mappate<br>Valkyrie, Witch, Goblin Hut, Barbarian Barrel, Ice Wizard, Poison, Graveyard, Vines",
          "Deck 686 — 8/8 carte mappate<br>Witch, Knight, Goblin Hut, Graveyard, Ice Wizard, Poison, Baby Dragon, Barbarian Barrel",
          "Deck 707 — 8/8 carte mappate<br>Royal Recruits, Goblin Cage, Zappies, Flying Machine, Royal Hogs, Fireball, Arrows, Golden Knight",
          "Deck 714 — 8/8 carte mappate<br>Goblin Cage, Royal Recruits, Royal Hogs, Golden Knight, Arrows, Zappies, Flying Machine, Barbarian Barrel",
          "Deck 931 — 8/8 carte mappate<br>Royal Recruits, Goblin Cage, Barbarian Barrel, Arrows, Rage, Flying Machine, Cannon Cart, Ram Rider",
          "Deck 938 — 8/8 carte mappate<br>Skeleton Barrel, Royal Recruits, Flying Machine, Arrows, Bowler, Ice Wizard, Goblin Cage, Barbarian Barrel",
          "Deck 948 — 8/8 carte mappate<br>Witch, Knight, Goblin Hut, Barbarian Barrel, Vines, Poison, Ice Wizard, Graveyard",
          "Deck 1008 — 8/8 carte mappate<br>Knight, Goblin Cage, Ice Wizard, Baby Dragon, Graveyard, Vines, Poison, Barbarian Barrel",
          "Deck 1027 — 8/8 carte mappate<br>Valkyrie, Furnace, Barbarian Barrel, Graveyard, Berserker, Goblin Hut, Vines, Poison",
          "Deck 1078 — 8/8 carte mappate<br>Goblin Cage, Royal Recruits, Royal Hogs, Flying Machine, Zappies, Vines, Mother Witch, Barbarian Barrel",
          "Deck 1114 — 8/8 carte mappate<br>Baby Dragon, Valkyrie, Ice Wizard, Barbarian Barrel, Goblin Hut, Graveyard, Vines, Poison",
          "Deck 1125 — 8/8 carte mappate<br>Knight, Furnace, Berserker, Vines, Graveyard, Poison, Barbarian Barrel, Goblin Hut",
          "Deck 1141 — 8/8 carte mappate<br>Royal Recruits, Mortar, Barbarian Barrel, Goblin Gang, Flying Machine, Arrows, Ice Spirit, Zappies",
          "Deck 1156 — 8/8 carte mappate<br>Royal Recruits, Archers, Barbarian Barrel, Royal Hogs, Flying Machine, Golden Knight, Arrows, Furnace",
          "Deck 1173 — 8/8 carte mappate<br>Royal Recruits, Goblin Cage, Royal Hogs, Zappies, Flying Machine, Fireball, Arrows, Barbarian Barrel",
          "Deck 1182 — 8/8 carte mappate<br>Furnace, Valkyrie, Graveyard, Poison, Goblin Hut, Barbarian Barrel, Berserker, Vines",
          "Deck 1214 — 8/8 carte mappate<br>Witch, Royal Recruits, Poison, Zappies, Goblin Hut, Mega Knight, Goblinstein, Vines",
          "Deck 1237 — 8/8 carte mappate<br>Royal Recruits, Goblin Cage, Zappies, Flying Machine, Arrows, Royal Hogs, Barbarian Barrel, Electro Spirit",
          "Deck 1259 — 8/8 carte mappate<br>Royal Recruits, Barbarian Barrel, Electro Spirit, Elixir Collector, Flying Machine, Royal Hogs, Zappies, Goblin Cage",
          "Deck 1303 — 8/8 carte mappate<br>Royal Recruits, Goblin Cage, Arrows, Royal Hogs, Zappies, Flying Machine, Fireball, Barbarian Barrel",
          "Deck 1355 — 8/8 carte mappate<br>Witch, Knight, Tombstone, Tornado, Graveyard, Furnace, Poison, Ice Wizard",
          "Deck 1545 — 8/8 carte mappate<br>Royal Recruits, Goblin Cage, Zappies, Flying Machine, Royal Hogs, Fireball, Arrows, Barbarian Barrel",
          "Deck 1723 — 8/8 carte mappate<br>Goblin Cage, Royal Recruits, Royal Hogs, Flying Machine, Fireball, Zappies, Arrows, Barbarian Barrel",
          "Deck 1725 — 8/8 carte mappate<br>Furnace, Valkyrie, Graveyard, Barbarian Barrel, Goblin Hut, Poison, Vines, Berserker",
          "Deck 1744 — 8/8 carte mappate<br>Furnace, Valkyrie, Graveyard, Poison, Goblin Hut, Barbarian Barrel, Berserker, Vines",
          "Deck 1748 — 8/8 carte mappate<br>Goblin Cage, Royal Recruits, Arrows, Barbarian Barrel, Royal Hogs, Poison, Zappies, Flying Machine",
          "Deck 1798 — 8/8 carte mappate<br>Baby Dragon, Knight, Ice Wizard, Graveyard, Tornado, Poison, Barbarian Barrel, Tombstone",
          "Deck 1805 — 8/8 carte mappate<br>Baby Dragon, Knight, Graveyard, Ice Wizard, Poison, Tombstone, Tornado, Barbarian Barrel",
          "Deck 1939 — 8/8 carte mappate<br>Furnace, Knight, Vines, Graveyard, Goblin Hut, Berserker, Poison, Ice Spirit",
          "Deck 1943 — 8/8 carte mappate<br>Knight, Witch, Skeletons, Ice Wizard, Goblin Hut, Poison, Graveyard, Barbarian Barrel",
          "Deck 1985 — 8/8 carte mappate<br>Furnace, Knight, Graveyard, Poison, Berserker, Barbarian Barrel, Ice Spirit, Goblin Hut",
          "Deck 2063 — 8/8 carte mappate<br>Knight, Goblin Cage, Baby Dragon, Ice Wizard, Poison, Graveyard, Tornado, Barbarian Barrel",
          "Deck 2108 — 8/8 carte mappate<br>Royal Recruits, Furnace, Royal Hogs, Electro Wizard, Mother Witch, Fisherman, Poison, Barbarian Barrel",
          "Deck 2182 — 8/8 carte mappate<br>Valkyrie, Goblin Cage, Vines, Poison, Guards, Baby Dragon, Ice Wizard, Graveyard",
          "Deck 2216 — 8/8 carte mappate<br>Royal Recruits, Goblin Cage, Vines, Royal Hogs, Zappies, Flying Machine, Poison, Electro Spirit",
          "Deck 2249 — 8/8 carte mappate<br>Valkyrie, Furnace, Vines, Barbarian Barrel, Goblin Hut, Poison, Ice Wizard, Graveyard",
          "Deck 2295 — 8/8 carte mappate<br>Knight, Baby Dragon, Barbarian Barrel, Poison, Tornado, Ice Wizard, Tombstone, Graveyard",
          "Deck 2317 — 8/8 carte mappate<br>Royal Recruits, Goblin Cage, Furnace, Zappies, Royal Hogs, Flying Machine, Arrows, Barbarian Barrel",
          "Deck 2325 — 8/8 carte mappate<br>Royal Recruits, Goblin Cage, Flying Machine, Fireball, Ice Spirit, Electro Spirit, Barbarian Barrel, Royal Hogs",
          "Deck 2330 — 8/8 carte mappate<br>Goblin Cage, Royal Recruits, Barbarian Barrel, Golden Knight, Ice Wizard, Spirit Empress, Vines, Royal Hogs",
          "Deck 2359 — 8/8 carte mappate<br>Furnace, Valkyrie, Ice Wizard, Goblin Hut, Graveyard, Vines, Berserker, Poison",
          "Deck 2375 — 8/8 carte mappate<br>Skeleton Barrel, Wall Breakers, Ice Wizard, Berserker, Minions, Royal Recruits, Poison, Vines",
          "Deck 2379 — 8/8 carte mappate<br>Royal Recruits, Mega Knight, Fisherman, Flying Machine, Royal Hogs, Zappies, Barbarian Barrel, Arrows",
          "Deck 2396 — 8/8 carte mappate<br>Furnace, Valkyrie, Graveyard, Poison, Goblin Hut, Barbarian Barrel, Berserker, Vines",
          "Deck 2398 — 8/8 carte mappate<br>Valkyrie, Witch, Ice Wizard, Barbarian Barrel, Goblin Hut, Graveyard, Vines, Poison",
          "Deck 2440 — 8/8 carte mappate<br>Furnace, Knight, Graveyard, Poison, Berserker, Goblin Hut, Ice Spirit, Barbarian Barrel",
          "Deck 2441 — 8/8 carte mappate<br>Royal Recruits, Goblin Cage, Fireball, Flying Machine, Barbarian Barrel, Royal Hogs, Zappies, Arrows",
          "Deck 2490 — 8/8 carte mappate<br>Valkyrie, Witch, Graveyard, Barbarian Barrel, Berserker, Poison, Goblin Hut, Vines",
          "Deck 2493 — 8/8 carte mappate<br>Royal Recruits, Goblin Cage, Fireball, Flying Machine, Zappies, Barbarian Barrel, Royal Hogs, Arrows"
         ],
         "marker": {
          "color": "rgb(166,86,40)",
          "size": 6
         },
         "mode": "markers",
         "name": "Cluster 6",
         "text": [
          "Deck 25",
          "Deck 78",
          "Deck 124",
          "Deck 170",
          "Deck 238",
          "Deck 310",
          "Deck 313",
          "Deck 314",
          "Deck 319",
          "Deck 321",
          "Deck 351",
          "Deck 368",
          "Deck 392",
          "Deck 393",
          "Deck 405",
          "Deck 406",
          "Deck 408",
          "Deck 497",
          "Deck 556",
          "Deck 598",
          "Deck 618",
          "Deck 627",
          "Deck 633",
          "Deck 636",
          "Deck 641",
          "Deck 661",
          "Deck 686",
          "Deck 707",
          "Deck 714",
          "Deck 931",
          "Deck 938",
          "Deck 948",
          "Deck 1008",
          "Deck 1027",
          "Deck 1078",
          "Deck 1114",
          "Deck 1125",
          "Deck 1141",
          "Deck 1156",
          "Deck 1173",
          "Deck 1182",
          "Deck 1214",
          "Deck 1237",
          "Deck 1259",
          "Deck 1303",
          "Deck 1355",
          "Deck 1545",
          "Deck 1723",
          "Deck 1725",
          "Deck 1744",
          "Deck 1748",
          "Deck 1798",
          "Deck 1805",
          "Deck 1939",
          "Deck 1943",
          "Deck 1985",
          "Deck 2063",
          "Deck 2108",
          "Deck 2182",
          "Deck 2216",
          "Deck 2249",
          "Deck 2295",
          "Deck 2317",
          "Deck 2325",
          "Deck 2330",
          "Deck 2359",
          "Deck 2375",
          "Deck 2379",
          "Deck 2396",
          "Deck 2398",
          "Deck 2440",
          "Deck 2441",
          "Deck 2490",
          "Deck 2493"
         ],
         "type": "scatter3d",
         "x": {
          "bdata": "tIllMRmrNb9fkkkfuANWv7SJZTEZqzW/X5JJH7gDVr+0iWUxGas1v2jtIdnfEYm/Ci4Ab6lgkr/IrZNIlRpdP2jtIdnfEYm/kjUEGSBPjr/IrZNIlRpdP8mtk0iVGl0/MxslW9p3VD9leAJP0rNyP/8nwdO0iIE/Ci4Ab6lgkr9M2LUM5C1ivwouAG+pYJK/s61WEzorhT+/QrkiGneLv8etk0iVGl0/EhafYZHYkb+oiWfgXfdwP4oqb/x0tYA/yK2TSJUaXT9M2LUM5C1iv2nY8eVJ/FQ/ehx1ofezib8KLgBvqWCSv5NDsukAF5S/PRDhVPJOjL9leAJP0rNyP9hWunnXrS0/yK2TSJUaXT/iN5HXFuKTv8m16+nMpmW//yfB07SIgT/843Hbg4CEPzPB+EHaaHi/Z+0h2d8Rib/IrZNIlRpdP9fABO71qHG/WqNAX2wGeL9jt4L3xqSBv2jtIdnfEYm/6/FihlSiXT9n7SHZ3xGJv2jtIdnfEYm/yK2TSJUaXT/IrZNIlRpdP8Ksngb2YYy/tIllMRmrNb+8iWUxGas1vwh2Wkm7Apg/JcmePxMgjz8RzyT96ZGWP1+SSR+4A1a/51rSmnd6gr8bedEiYVl5vxjseviJL1C/KI9trjMnTz+wiWUxGas1v+qMUfnoTZC/PpxiMy67kD82KsgqMSaIv9jk8RLPGXI/4Q4HPwS3dD+SNQQZIE+Ov8itk0iVGl0/Tdi1DOQtYr8RzyT96ZGWP2ftIdnfEYm/ZsoOqMzUVr9o7SHZ3xGJvw==",
          "dtype": "f8"
         },
         "y": {
          "bdata": "hNO8OUHRoj8gMmCdp3qmP4TTvDlB0aI/IDJgnad6pj+F07w5QdGiPxYUkQRvj54/YE7Fp7E4oT9XW91aOnipPxcUkQRvj54//cbwEGEynD9XW91aOnipP1hb3Vo6eKk/mN3U33TDpT+4sUKulNelP0b3Wa7fdKo/YE7Fp7E4oT/KFcZa79qkP19OxaexOKE/65EMRJDmkz9Ej/E8pYqiP1Zb3Vo6eKk/VwB5dEM3nT/ux0XN+NWoP7b9HT6wNqY/VlvdWjp4qT/JFcZa79qkP7DgsJZcyKU/vC2oEw/ulz9fTsWnsTihPxlmKlTS85Q/wnmCgMTwmT+3sUKulNelP+aV14ZymqY/VlvdWjp4qT/aj4hBaLqkPwAsyXlT2ac/RvdZrt90qj/cfxfoT4ORPxHVLHfDKpQ/FxSRBG+Pnj9XW91aOnipPxjdzO0Bo5k/UszHmvIBoj9HHRlmmoulPxYUkQRvj54/3IBFECXVmj8WFJEEb4+ePxcUkQRvj54/VlvdWjp4qT9XW91aOnipPzINYYe+mKM/hNO8OUHRoj+F07w5QdGiPwS2VdPAKqY/Kss99t9rpD9csojK/WuoPyAyYJ2neqY/7FFtWKekmT8IZZVbWzOiPyTthith5KM/f/z29X3Bpz+F07w5QdGiP67Eog0XIaI/2brGGS7UmT+v8IxYVK+gP07EBXsDqqg/Ro+MazpJlD/9xvAQYTKcP1db3Vo6eKk/yBXGWu/apD9csojK/WuoPxYUkQRvj54/oXSsv6uRpj8YFJEEb4+ePw==",
          "dtype": "f8"
         },
         "z": {
          "bdata": "U1H2Q7XugL9kFF3rBqyIv1NR9kO17oC/YxRd6wasiL9TUfZDte6Av95GlUuC/qW/qTQTrsKbqL9h+9cyj0uQv99GlUuC/qW/W1dOgSuCo79i+9cyj0uQv2L71zKPS5C/zexPaFkkkb9B5qwQOyGOv+b7J813WZC/qTQTrsKbqL855QzcaQWOv6g0E67Cm6i/GjY642zimr9iglXlhBunv2L71zKPS5C/SnuZ7qDfp79Mm4sn1JmLv3Ih5XpobYy/YvvXMo9LkL855QzcaQWOv5i3lbRPMY2/APJdOot8p7+oNBOuwpuov9mO2fZksZy/fzHOmCXmoL9C5qwQOyGOv/biVaVK0Iq/YvvXMo9LkL99MKlCIRGnv0Oa6/ICfou/5vsnzXdZkL8Af04TLE+jv5qCUcAg15u/30aVS4L+pb9h+9cyj0uQv2Kl2BowLaK/NQcFkyQ9pb90LQGr5Yujv95GlUuC/qW/+J43B+6yhb/eRpVLgv6lv99GlUuC/qW/YvvXMo9LkL9h+9cyj0uQv6z7Eqa3Y6e/U1H2Q7XugL9TUfZDte6Av6axZQxkf4y/YWdvA/m8ib9ulp/4womMv2QUXesGrIi/0tFa2dG5kL/Y+ZbldjKMv3SNCh/TrKW/YrBcFR+1jr9SUfZDte6AvzOK0jXurKe/DLY2P1mPmb/8iXMJfnibv2HS9wQ0fJG/CQQLxVnDmL9bV06BK4Kjv2H71zKPS5C/OeUM3GkFjr9ulp/4womMv99GlUuC/qW/mitgLGnnj7/eRpVLgv6lvw==",
          "dtype": "f8"
         }
        },
        {
         "hoverinfo": "text",
         "hovertext": [
          "Deck 17 — 8/8 carte mappate<br>Barbarians, Bomber, Giant Skeleton, Firecracker, Giant Snowball, Miner, Cannon, Little Prince",
          "Deck 29 — 8/8 carte mappate<br>Lumberjack, Giant Snowball, Electro Spirit, Mini P.E.K.K.A, Balloon, Firecracker, Bats, Arrows",
          "Deck 30 — 8/8 carte mappate<br>Battle Ram, Knight, Mega Knight, Vines, Dart Goblin, Skeleton Barrel, Giant Snowball, Bats",
          "Deck 46 — 8/8 carte mappate<br>Valkyrie, Wall Breakers, Spear Goblins, Miner, Magic Archer, Bomb Tower, Fireball, Tornado",
          "Deck 68 — 8/8 carte mappate<br>Mega Knight, Wall Breakers, Musketeer, Miner, Bandit, Bats, Zap, Barbarian Barrel",
          "Deck 79 — 8/8 carte mappate<br>P.E.K.K.A, Tesla, Miner, Arrows, Tornado, Fireball, Magic Archer, Golden Knight",
          "Deck 100 — 8/8 carte mappate<br>Tesla, Archers, Mini P.E.K.K.A, Cannon Cart, Miner, Monk, Executioner, Guards",
          "Deck 115 — 8/8 carte mappate<br>Furnace, Firecracker, Inferno Dragon, Electro Spirit, Elite Barbarians, Minions, The Log, Hog Rider",
          "Deck 121 — 8/8 carte mappate<br>Firecracker, Mega Knight, Goblin Barrel, Arrows, Valkyrie, Poison, Goblin Hut, Mini P.E.K.K.A",
          "Deck 125 — 8/8 carte mappate<br>Baby Dragon, Cannon, Vines, Golem, Mini P.E.K.K.A, Wall Breakers, Electro Wizard, Minions",
          "Deck 225 — 8/8 carte mappate<br>Musketeer, Archers, Prince, Royal Ghost, Rascals, Mother Witch, Fireball, Mirror",
          "Deck 249 — 8/8 carte mappate<br>Lumberjack, Skeleton Barrel, Minion Horde, Rascals, Clone, Skeletons, Poison, Bandit",
          "Deck 258 — 8/8 carte mappate<br>Giant Snowball, P.E.K.K.A, Ice Spirit, Bowler, Minions, Vines, Prince, Witch",
          "Deck 260 — 8/8 carte mappate<br>Balloon, Cannon, Royal Recruits, Minions, Freeze, Arrows, Dart Goblin, Knight",
          "Deck 284 — 8/8 carte mappate<br>Baby Dragon, Witch, Golem, Archers, Mini P.E.K.K.A, Fireball, Bomber, The Log",
          "Deck 289 — 8/8 carte mappate<br>Archers, Lumberjack, Fire Spirit, Lightning, Elite Barbarians, Furnace, Zap, The Log",
          "Deck 331 — 8/8 carte mappate<br>Witch, Archers, Minions, Ice Spirit, Giant, Lumberjack, Skeleton King, Elixir Collector",
          "Deck 362 — 8/8 carte mappate<br>Lumberjack, P.E.K.K.A, Lightning, Zap, Musketeer, Skeletons, Baby Dragon, Golden Knight",
          "Deck 365 — 8/8 carte mappate<br>Mega Knight, Tesla, Guards, Arrows, Balloon, Musketeer, Electro Spirit, Tornado",
          "Deck 382 — 8/8 carte mappate<br>Knight, Musketeer, Bomber, Ice Spirit, Battle Ram, Three Musketeers, Zap, Mirror",
          "Deck 407 — 8/8 carte mappate<br>Valkyrie, Wall Breakers, Miner, Magic Archer, Vines, Tornado, Skeletons, Bomb Tower",
          "Deck 423 — 8/8 carte mappate<br>Knight, Wizard, Vines, Furnace, Hog Rider, Witch, Royal Ghost, Lightning",
          "Deck 431 — 8/8 carte mappate<br>P.E.K.K.A, Skeletons, Boss Bandit, Bats, Goblins, Arrows, Dart Goblin, Mother Witch",
          "Deck 433 — 8/8 carte mappate<br>Firecracker, P.E.K.K.A, Monk, Fireball, Tornado, Mother Witch, Electro Wizard, Knight",
          "Deck 449 — 8/8 carte mappate<br>Valkyrie, The Log, Furnace, Electro Wizard, Poison, Tornado, Hog Rider, P.E.K.K.A",
          "Deck 498 — 8/8 carte mappate<br>Giant Snowball, Mega Knight, Ice Wizard, Musketeer, The Log, Guards, Boss Bandit, Arrows",
          "Deck 507 — 8/8 carte mappate<br>Dart Goblin, P.E.K.K.A, Suspicious Bush, Electro Wizard, Fire Spirit, Zap, Bandit, Poison",
          "Deck 547 — 8/8 carte mappate<br>Mini P.E.K.K.A, Bats, The Log, Night Witch, Poison, Golem, Musketeer, Electro Wizard",
          "Deck 585 — 8/8 carte mappate<br>Firecracker, Goblin Giant, Dart Goblin, Suspicious Bush, Goblin Gang, Poison, Furnace, The Log",
          "Deck 586 — 8/8 carte mappate<br>P.E.K.K.A, Battle Ram, Fisherman, Little Prince, Zap, Firecracker, Royal Ghost, Arrows",
          "Deck 587 — 8/8 carte mappate<br>Mortar, Inferno Dragon, Balloon, Tornado, The Log, Fireball, Valkyrie, Skeleton Army",
          "Deck 591 — 8/8 carte mappate<br>Baby Dragon, Tesla, Dark Prince, Vines, Balloon, Mini P.E.K.K.A, Ice Spirit, Phoenix",
          "Deck 603 — 8/8 carte mappate<br>Firecracker, Furnace, Bomb Tower, Hog Rider, Tornado, Goblin Gang, Freeze, Boss Bandit",
          "Deck 608 — 8/8 carte mappate<br>Skeletons, Dart Goblin, Golem, Night Witch, Poison, Mini P.E.K.K.A, Vines, Zap",
          "Deck 634 — 8/8 carte mappate<br>Executioner, Goblin Drill, Golden Knight, The Log, Vines, Tornado, Electro Wizard, Sparky",
          "Deck 647 — 8/8 carte mappate<br>Battle Ram, Musketeer, Mega Knight, Minions, Guards, Poison, Mini P.E.K.K.A, The Log",
          "Deck 688 — 8/8 carte mappate<br>Archers, Furnace, Dart Goblin, Knight, Battle Ram, Elite Barbarians, Mini P.E.K.K.A, Arrows",
          "Deck 726 — 8/8 carte mappate<br>Lumberjack, Mortar, Guards, The Log, Poison, Furnace, Mega Minion, Bats",
          "Deck 728 — 8/8 carte mappate<br>Valkyrie, Executioner, Electro Wizard, Tornado, Tombstone, Poison, The Log, Bandit",
          "Deck 751 — 8/8 carte mappate<br>Musketeer, Valkyrie, Minions, Mini P.E.K.K.A, Goblins, The Log, Miner, Berserker",
          "Deck 790 — 8/8 carte mappate<br>Furnace, Mega Knight, Spirit Empress, Hog Rider, Berserker, Poison, Skeleton Army, Ice Spirit",
          "Deck 818 — 8/8 carte mappate<br>Firecracker, Mega Knight, Night Witch, Zap, Rocket, Dart Goblin, Archer Queen, Golem",
          "Deck 837 — 8/8 carte mappate<br>Wall Breakers, Lumberjack, Bats, Spear Goblins, Valkyrie, Balloon, Giant Snowball, Cannon",
          "Deck 898 — 8/8 carte mappate<br>Wizard, Skeletons, Barbarian Barrel, Zap, Ice Spirit, Balloon, Freeze, Inferno Dragon",
          "Deck 901 — 8/8 carte mappate<br>Baby Dragon, Mega Knight, Prince, Dart Goblin, Arrows, Vines, Furnace, Tesla",
          "Deck 911 — 8/8 carte mappate<br>P.E.K.K.A, Firecracker, Tesla, Arrows, Golden Knight, Hog Rider, Tornado, Minions",
          "Deck 918 — 8/8 carte mappate<br>Skeletons, Battle Ram, P.E.K.K.A, Dart Goblin, Ice Wizard, Goblin Gang, Zap, Electro Wizard",
          "Deck 944 — 8/8 carte mappate<br>Valkyrie, Executioner, Goblin Barrel, Giant Snowball, Vines, Boss Bandit, Knight, Ice Wizard",
          "Deck 947 — 8/8 carte mappate<br>Mega Knight, Tesla, Arrows, Bowler, Hog Rider, Goblin Gang, Vines, Minions",
          "Deck 958 — 8/8 carte mappate<br>Executioner, Mirror, Giant, Ice Wizard, Musketeer, Goblin Drill, Mini P.E.K.K.A, Valkyrie",
          "Deck 964 — 8/8 carte mappate<br>Musketeer, Bomber, The Log, Arrows, Ice Wizard, Minions, Giant, Mini P.E.K.K.A",
          "Deck 1041 — 8/8 carte mappate<br>Knight, Tesla, Hog Rider, Sparky, Electro Giant, Skeleton Army, Arrows, Barbarian Barrel",
          "Deck 1059 — 8/8 carte mappate<br>Mega Knight, Valkyrie, Archers, Barbarian Barrel, Balloon, Lumberjack, Skeletons, Cannon",
          "Deck 1060 — 8/8 carte mappate<br>P.E.K.K.A, Valkyrie, Tesla, Mother Witch, Magic Archer, Arrows, Knight, Poison",
          "Deck 1066 — 8/8 carte mappate<br>Goblin Cage, Bats, Firecracker, Fireball, Balloon, Miner, Goblins, Tornado",
          "Deck 1086 — 8/8 carte mappate<br>Valkyrie, Dart Goblin, Elixir Collector, Giant, Poison, Hog Rider, Electro Wizard, Tombstone",
          "Deck 1088 — 8/8 carte mappate<br>Firecracker, Valkyrie, Hog Rider, Mini P.E.K.K.A, Ice Wizard, Musketeer, Zap, Lumberjack",
          "Deck 1105 — 8/8 carte mappate<br>Mega Knight, Firecracker, Knight, Tornado, Furnace, Archer Queen, Barbarian Barrel, Lightning",
          "Deck 1121 — 8/8 carte mappate<br>Firecracker, Valkyrie, Vines, Bats, Tombstone, Skeleton Barrel, Knight, Ice Wizard",
          "Deck 1140 — 8/8 carte mappate<br>Hunter, Royal Giant, Royal Ghost, Lightning, The Log, Fisherman, Guards, Electro Spirit",
          "Deck 1169 — 8/8 carte mappate<br>Cannon, Mega Knight, Executioner, Arrows, Spirit Empress, Electro Wizard, Guards, Miner",
          "Deck 1178 — 8/8 carte mappate<br>Wall Breakers, Valkyrie, Magic Archer, Guards, Bomb Tower, Miner, Tornado, The Log",
          "Deck 1183 — 8/8 carte mappate<br>Tesla, Mega Knight, Furnace, Skeleton Barrel, Vines, Skeleton King, Poison, Guards",
          "Deck 1193 — 8/8 carte mappate<br>Firecracker, Mega Knight, Bandit, Royal Ghost, The Log, Poison, Hog Rider, Minions",
          "Deck 1209 — 8/8 carte mappate<br>Wizard, Inferno Dragon, Arrows, Mighty Miner, Skeleton Barrel, Fireball, Royal Ghost, Tornado",
          "Deck 1277 — 8/8 carte mappate<br>Firecracker, Mega Knight, Electro Spirit, Bats, Elixir Golem, Goblin Gang, Poison, Baby Dragon",
          "Deck 1291 — 8/8 carte mappate<br>Battle Ram, Valkyrie, Balloon, Vines, Spear Goblins, Archer Queen, The Log, Archers",
          "Deck 1293 — 8/8 carte mappate<br>Royal Giant, Hunter, Barbarian Barrel, Fireball, Golden Knight, Electro Wizard, Fisherman, Electro Spirit",
          "Deck 1301 — 8/8 carte mappate<br>Dart Goblin, Zap, Ice Spirit, Goblin Curse, Boss Bandit, Dark Prince, Prince, Suspicious Bush",
          "Deck 1306 — 8/8 carte mappate<br>Inferno Dragon, Balloon, Goblin Cage, Miner, Mega Minion, Fireball, Ice Golem, Zap",
          "Deck 1314 — 8/8 carte mappate<br>Zap, Goblin Cage, Balloon, Miner, Fireball, Inferno Dragon, Ice Golem, Mega Minion",
          "Deck 1340 — 8/8 carte mappate<br>Lumberjack, Royal Recruits, Firecracker, Giant Snowball, Cannon, Barbarian Barrel, Dart Goblin, Balloon",
          "Deck 1361 — 8/8 carte mappate<br>Archers, Battle Ram, Goblinstein, Royal Recruits, Arrows, Minions, Goblin Gang, Firecracker",
          "Deck 1388 — 8/8 carte mappate<br>Mega Knight, Giant Snowball, Goblin Barrel, Skeleton Barrel, Fireball, Mirror, Mini P.E.K.K.A, Ice Wizard",
          "Deck 1391 — 8/8 carte mappate<br>Mega Knight, Firecracker, Electro Wizard, P.E.K.K.A, Royal Hogs, Zap, Ice Spirit, Vines",
          "Deck 1412 — 8/8 carte mappate<br>Skeletons, Furnace, Ice Spirit, Balloon, Arrows, Inferno Dragon, Knight, Freeze",
          "Deck 1416 — 8/8 carte mappate<br>Musketeer, Mega Knight, Mini P.E.K.K.A, Tesla, Minions, Goblin Gang, Poison, Boss Bandit",
          "Deck 1428 — 8/8 carte mappate<br>Mega Knight, Baby Dragon, Skeletons, Fireball, Hunter, Hog Rider, Mini P.E.K.K.A, Vines",
          "Deck 1437 — 8/8 carte mappate<br>Furnace, Valkyrie, Berserker, Boss Bandit, Rocket, Arrows, Archers, Inferno Tower",
          "Deck 1452 — 8/8 carte mappate<br>Wizard, Skeletons, Ice Golem, Balloon, Freeze, Arrows, Inferno Dragon, Miner",
          "Deck 1455 — 8/8 carte mappate<br>Witch, Valkyrie, Ram Rider, P.E.K.K.A, Goblin Hut, Furnace, Knight, Fireball",
          "Deck 1468 — 8/8 carte mappate<br>Hunter, Lumberjack, Vines, Valkyrie, Hog Rider, Mini P.E.K.K.A, Musketeer, Knight",
          "Deck 1484 — 8/8 carte mappate<br>Valkyrie, Goblin Drill, Fireball, Arrows, Firecracker, Barbarian Barrel, Dark Prince, Baby Dragon",
          "Deck 1493 — 8/8 carte mappate<br>Executioner, Valkyrie, Suspicious Bush, The Log, Ram Rider, Furnace, Skeletons, Bowler",
          "Deck 1507 — 8/8 carte mappate<br>Firecracker, Mega Knight, Night Witch, Zap, Rocket, Dart Goblin, Archer Queen, Golem",
          "Deck 1530 — 8/8 carte mappate<br>Dart Goblin, Lumberjack, Mini P.E.K.K.A, Ram Rider, Elite Barbarians, Firecracker, Skeletons, Giant Snowball",
          "Deck 1542 — 8/8 carte mappate<br>Firecracker, Giant Snowball, Tesla, Golden Knight, Miner, Wall Breakers, Dark Prince, Guards",
          "Deck 1571 — 8/8 carte mappate<br>Knight, Goblin Gang, Minion Horde, Miner, Arrows, Tornado, Skeleton Army, Graveyard",
          "Deck 1575 — 8/8 carte mappate<br>Baby Dragon, P.E.K.K.A, Balloon, Musketeer, Furnace, Fireball, Skeletons, Zap",
          "Deck 1607 — 8/8 carte mappate<br>Giant, Hunter, Musketeer, Goblin Demolisher, Bats, The Log, Vines, Mini P.E.K.K.A",
          "Deck 1619 — 8/8 carte mappate<br>Electro Dragon, Skeletons, Golem, Inferno Dragon, Tesla, Firecracker, The Log, Tornado",
          "Deck 1627 — 8/8 carte mappate<br>Firecracker, Mega Knight, Guards, Barbarian Barrel, Royal Ghost, Minions, Musketeer, Hunter",
          "Deck 1643 — 8/8 carte mappate<br>P.E.K.K.A, Firecracker, Hog Rider, Knight, Vines, Electro Wizard, Ice Wizard, The Log",
          "Deck 1648 — 8/8 carte mappate<br>Archers, Furnace, Skeleton Barrel, Mortar, Skeletons, Mega Minion, Golden Knight, Fireball",
          "Deck 1663 — 8/8 carte mappate<br>Firecracker, Royal Recruits, Bandit, Fireball, Mother Witch, Electro Spirit, Witch, Balloon",
          "Deck 1668 — 8/8 carte mappate<br>Electro Dragon, Dart Goblin, Ice Spirit, Mini P.E.K.K.A, Golem, Poison, Arrows, Ice Golem",
          "Deck 1735 — 8/8 carte mappate<br>Bats, Battle Ram, Miner, Inferno Tower, Tornado, The Log, Dark Prince, Rascals",
          "Deck 1787 — 8/8 carte mappate<br>Battle Ram, Mega Knight, Arrows, Goblin Gang, Cannon, Spirit Empress, Royal Ghost, Archers",
          "Deck 1813 — 8/8 carte mappate<br>Goblin Cage, Baby Dragon, P.E.K.K.A, Fireball, Miner, Little Prince, Mega Minion, The Log",
          "Deck 1824 — 8/8 carte mappate<br>Firecracker, Cannon, Bats, Poison, Sparky, Barbarian Barrel, Skeleton Army, Minions",
          "Deck 1827 — 8/8 carte mappate<br>Tesla, Mortar, Skeleton King, Dart Goblin, Rage, Goblin Curse, Bats, Skeleton Barrel",
          "Deck 1840 — 8/8 carte mappate<br>Goblin Giant, Lumberjack, Bats, Rage, Skeletons, Sparky, Dart Goblin, Electro Spirit",
          "Deck 1848 — 8/8 carte mappate<br>Royal Giant, Wizard, Bomb Tower, Barbarians, Poison, The Log, Fireball, Mini P.E.K.K.A",
          "Deck 1852 — 8/8 carte mappate<br>Wall Breakers, Firecracker, Mirror, Mega Knight, Magic Archer, Skeletons, Tornado, Baby Dragon",
          "Deck 1869 — 8/8 carte mappate<br>Firecracker, Valkyrie, Knight, Electro Wizard, Royal Hogs, Hog Rider, Baby Dragon, Rage",
          "Deck 1872 — 8/8 carte mappate<br>Dart Goblin, Zap, Minions, Bomb Tower, Archers, Princess, Tornado, Electro Giant",
          "Deck 1890 — 8/8 carte mappate<br>Valkyrie, Wizard, P.E.K.K.A, Prince, Golden Knight, Tesla, The Log, Giant Snowball",
          "Deck 1892 — 8/8 carte mappate<br>Bats, Mortar, Miner, Mega Knight, Mother Witch, Inferno Tower, Poison, Tornado",
          "Deck 1910 — 8/8 carte mappate<br>Furnace, Valkyrie, Fireball, Electro Wizard, Poison, Barbarians, Musketeer, Ice Wizard",
          "Deck 2001 — 8/8 carte mappate<br>Firecracker, Executioner, Cannon, Skeleton King, Skeleton Army, Tornado, Golem, Mother Witch",
          "Deck 2023 — 8/8 carte mappate<br>Dart Goblin, Firecracker, Mighty Miner, Bandit, Mini P.E.K.K.A, Guards, Barbarian Barrel, Furnace",
          "Deck 2066 — 8/8 carte mappate<br>Valkyrie, P.E.K.K.A, Electro Wizard, Mini P.E.K.K.A, Berserker, Tesla, Archers, Arrows",
          "Deck 2069 — 8/8 carte mappate<br>Lumberjack, Valkyrie, Balloon, Cannon, Zap, Tornado, Ice Wizard, Skeletons",
          "Deck 2088 — 8/8 carte mappate<br>Royal Recruits, Tesla, Mirror, Mini P.E.K.K.A, Fireball, Balloon, The Log, Vines",
          "Deck 2093 — 8/8 carte mappate<br>Firecracker, Furnace, Dark Prince, Knight, Electro Giant, The Log, Mini P.E.K.K.A, Elite Barbarians",
          "Deck 2095 — 8/8 carte mappate<br>Ice Spirit, Electro Dragon, Hog Rider, Tornado, Lightning, Executioner, Mini P.E.K.K.A, Vines",
          "Deck 2102 — 8/8 carte mappate<br>Royal Giant, Firecracker, Bowler, Knight, Zap, Electro Wizard, Guards, Archer Queen",
          "Deck 2119 — 8/8 carte mappate<br>Mega Knight, P.E.K.K.A, Skeletons, Zap, Knight, Electro Wizard, Tornado, Arrows",
          "Deck 2127 — 8/8 carte mappate<br>Firecracker, Executioner, Baby Dragon, Barbarian Barrel, Goblin Barrel, Mega Knight, Musketeer, Boss Bandit",
          "Deck 2143 — 8/8 carte mappate<br>Goblin Cage, Dart Goblin, Electro Wizard, Balloon, Lumberjack, Goblins, Goblinstein, The Log",
          "Deck 2153 — 8/8 carte mappate<br>Royal Giant, Bats, The Log, Furnace, Poison, Goblin Gang, Electro Wizard, Elite Barbarians",
          "Deck 2219 — 8/8 carte mappate<br>Valkyrie, Mega Knight, Minions, Tesla, Night Witch, Arrows, Poison, Royal Ghost",
          "Deck 2234 — 8/8 carte mappate<br>Valkyrie, Dart Goblin, Golden Knight, Suspicious Bush, Berserker, Goblin Giant, Furnace, Musketeer",
          "Deck 2246 — 8/8 carte mappate<br>P.E.K.K.A, Electro Dragon, Golden Knight, Elixir Collector, The Log, Skeletons, Tornado, Ice Spirit",
          "Deck 2250 — 8/8 carte mappate<br>Firecracker, Lumberjack, The Log, Zap, Golem, Minions, Bomb Tower, Balloon",
          "Deck 2262 — 8/8 carte mappate<br>Goblin Giant, Musketeer, Royal Ghost, Arrows, Electro Spirit, Guards, Mini P.E.K.K.A, Dark Prince",
          "Deck 2269 — 8/8 carte mappate<br>Valkyrie, Mega Knight, Guards, Berserker, Hog Rider, Arrows, Hunter, Magic Archer",
          "Deck 2270 — 8/8 carte mappate<br>Furnace, Mega Knight, P.E.K.K.A, Cannon, Vines, Ice Wizard, Battle Ram, Arrows",
          "Deck 2308 — 8/8 carte mappate<br>Mega Knight, Giant Snowball, Mini P.E.K.K.A, Tesla, Arrows, Hog Rider, Lightning, Witch",
          "Deck 2321 — 8/8 carte mappate<br>Valkyrie, Tesla, P.E.K.K.A, Freeze, Graveyard, Fireball, Arrows, Electro Wizard",
          "Deck 2326 — 8/8 carte mappate<br>Valkyrie, Wall Breakers, Miner, Tornado, Magic Archer, Guards, The Log, Bomb Tower",
          "Deck 2335 — 8/8 carte mappate<br>Dart Goblin, Archers, Boss Bandit, The Log, Lightning, Furnace, Bats, Berserker",
          "Deck 2369 — 8/8 carte mappate<br>Lumberjack, Giant Snowball, Knight, Balloon, Minions, Archers, Cannon, Barbarian Barrel",
          "Deck 2436 — 8/8 carte mappate<br>P.E.K.K.A, Musketeer, Skeleton Barrel, Arrows, Ice Spirit, Dart Goblin, Goblin Machine, Barbarian Barrel",
          "Deck 2452 — 8/8 carte mappate<br>Battle Ram, Skeletons, Zap, Three Musketeers, Minion Horde, Goblin Gang, Knight, Elixir Collector",
          "Deck 2454 — 8/8 carte mappate<br>Inferno Dragon, Goblin Cage, Miner, Balloon, Fireball, Ice Golem, Zap, Mega Minion",
          "Deck 2456 — 8/8 carte mappate<br>Firecracker, Electro Dragon, Hog Rider, Arrows, Inferno Dragon, Skeletons, Vines, Bowler",
          "Deck 2468 — 8/8 carte mappate<br>Zap, Lumberjack, Berserker, Electro Spirit, Inferno Dragon, Balloon, Fireball, Little Prince",
          "Deck 2480 — 8/8 carte mappate<br>Goblin Cage, Zap, Fireball, Ice Golem, Miner, Inferno Dragon, Balloon, Mega Minion",
          "Deck 2483 — 8/8 carte mappate<br>The Log, Zap, Dark Prince, Giant, Goblins, Little Prince, Lightning, Prince",
          "Deck 2496 — 8/8 carte mappate<br>Mega Knight, Musketeer, Hog Rider, Bandit, Cannon Cart, Goblins, Mega Minion, Arrows"
         ],
         "marker": {
          "color": "rgb(247,129,191)",
          "size": 6
         },
         "mode": "markers",
         "name": "Cluster 7",
         "text": [
          "Deck 17",
          "Deck 29",
          "Deck 30",
          "Deck 46",
          "Deck 68",
          "Deck 79",
          "Deck 100",
          "Deck 115",
          "Deck 121",
          "Deck 125",
          "Deck 225",
          "Deck 249",
          "Deck 258",
          "Deck 260",
          "Deck 284",
          "Deck 289",
          "Deck 331",
          "Deck 362",
          "Deck 365",
          "Deck 382",
          "Deck 407",
          "Deck 423",
          "Deck 431",
          "Deck 433",
          "Deck 449",
          "Deck 498",
          "Deck 507",
          "Deck 547",
          "Deck 585",
          "Deck 586",
          "Deck 587",
          "Deck 591",
          "Deck 603",
          "Deck 608",
          "Deck 634",
          "Deck 647",
          "Deck 688",
          "Deck 726",
          "Deck 728",
          "Deck 751",
          "Deck 790",
          "Deck 818",
          "Deck 837",
          "Deck 898",
          "Deck 901",
          "Deck 911",
          "Deck 918",
          "Deck 944",
          "Deck 947",
          "Deck 958",
          "Deck 964",
          "Deck 1041",
          "Deck 1059",
          "Deck 1060",
          "Deck 1066",
          "Deck 1086",
          "Deck 1088",
          "Deck 1105",
          "Deck 1121",
          "Deck 1140",
          "Deck 1169",
          "Deck 1178",
          "Deck 1183",
          "Deck 1193",
          "Deck 1209",
          "Deck 1277",
          "Deck 1291",
          "Deck 1293",
          "Deck 1301",
          "Deck 1306",
          "Deck 1314",
          "Deck 1340",
          "Deck 1361",
          "Deck 1388",
          "Deck 1391",
          "Deck 1412",
          "Deck 1416",
          "Deck 1428",
          "Deck 1437",
          "Deck 1452",
          "Deck 1455",
          "Deck 1468",
          "Deck 1484",
          "Deck 1493",
          "Deck 1507",
          "Deck 1530",
          "Deck 1542",
          "Deck 1571",
          "Deck 1575",
          "Deck 1607",
          "Deck 1619",
          "Deck 1627",
          "Deck 1643",
          "Deck 1648",
          "Deck 1663",
          "Deck 1668",
          "Deck 1735",
          "Deck 1787",
          "Deck 1813",
          "Deck 1824",
          "Deck 1827",
          "Deck 1840",
          "Deck 1848",
          "Deck 1852",
          "Deck 1869",
          "Deck 1872",
          "Deck 1890",
          "Deck 1892",
          "Deck 1910",
          "Deck 2001",
          "Deck 2023",
          "Deck 2066",
          "Deck 2069",
          "Deck 2088",
          "Deck 2093",
          "Deck 2095",
          "Deck 2102",
          "Deck 2119",
          "Deck 2127",
          "Deck 2143",
          "Deck 2153",
          "Deck 2219",
          "Deck 2234",
          "Deck 2246",
          "Deck 2250",
          "Deck 2262",
          "Deck 2269",
          "Deck 2270",
          "Deck 2308",
          "Deck 2321",
          "Deck 2326",
          "Deck 2335",
          "Deck 2369",
          "Deck 2436",
          "Deck 2452",
          "Deck 2454",
          "Deck 2456",
          "Deck 2468",
          "Deck 2480",
          "Deck 2483",
          "Deck 2496"
         ],
         "type": "scatter3d",
         "x": {
          "bdata": "kWRFBxbBiz9wN1Nhy2VoPz9yD3EymYI/WHI6OudtiT/o+GYm0VwqP1XSR55R6Ws/bdpeg1ZJij+0YPX+7sWEP50hAwieU3g/fTjJ7DfKb7921V5T5LxxP98LSqZelm0/jabf/jTLaL9nxHg23bh/P63Q8v1m9nC/EEJIHCh3cT8L2Dk0sAJzv4fYR2LL1W6/M/+eJVkLij+gixG0UrlwPyf50AjbDJM/kOptGInhU7/j/Y/hVhCEP/BTJWiHqWY/nr4MZhHudj+i26AR0vuFP++SSO2PgHY/6hNtcA7qe7+mLK7vU9qOP7FBO7WwOHS/O0GB7GE1bD/8Rb/x9ixQv+ybMBrKqoE/j3Hg4rtuTb9I7DfRk5FAPyR8EGq2r1C/8du5Gp1acT9FQTgMC7FXPyu/fuOUb2S/WIHOSt9Sjj/YMbmH3QKKP2IAat3BMGs/dZQn2FQShz/gqZeoDBNgP8jOKcJ9ImQ/bD3dI2BVZj+SbR26Kth5P+g280iPm40/wEuShFwVbz/a/UoCbGtBP+p+8bv/z3u/2p4VbgEzbD+oByXlxniQP+xkNlsv/H0/v3pFfXsNbj/Yf8W29Wtyv69MPm/A+HI/+M/r07sdej9YCPwyntuBP6oA2R9IRoo/6HsA/UgIMb+u3w/8Eo2NPwXdPtuh3YI/LJiOQwNvcj9iSi3t8OV2Px4slo5FMGw/ShWhHIWugj8Fr/A84vWCP7IOWGNcqXI/GXaSXOzqWL8cdpJc7OpYv+TKJ/Tjq4k/RiG9jWftYT9g+zf7nuJ9P01yl85vWnU/1GltQWbfjT+lVwpF7qeCPwi0f1DYfYs/ihdZCDW+jz+AVZS/KC16PxXYGCl8lms/JoOI3qmQiT8RlrjpWSpzP4A6DuEbgIs/YgBq3cEwaz+SKtua+aGBP9rnaEGs2Ys/QIrIb4fcIT9ucJ0kudt2P0a5rhkbEog/uTPR0nMCgT+8WPJncfJbv2RSx+qIuI8/wkmopaeYkj/AOtFHB2IQP/lYRBOHKpE/gTSka6mGdz9ygz39i9B6P9w6CDPat1k/AEJFER/PPL9KrCfYzMp+PzyXhXj4FGa/UNpL2hwagj95KT5qd+xwP1yNy5eho1U/umS4Bee0iD+M9i3G+AqAPyXucAyMtGs/jQ+3UAJNaT/qi6aTzdZgv8jMjIkOGoo/MOZnGLHOeD+nFFW6oIGHPx69uQ3ABoA/LFhyrY3zWT9ykI7YaXlSP+4lS7blrHE/XH59mVrAcD8KCLptFtRlP+iv6fx+/no/GFKmO/4Gbj/2OqZkl+t2v437KKNCdnE/xVOWgJUKiT8tHs8vzB13v5t69wQ0une/IjEX56W1aD+LlTWYv1NeP760JlT2g3U/5nZwjymqUb+w3w/8Eo2NP3kc4i46oIg/FgAjj8aOiz886wPrTCGCPwB7wUA/K/s+HHaSXOzqWL/gy1lpPq9Vv5Qv59RDRXc/GHaSXOzqWL9Y6gfp+605v+LJrkn4k2k/",
          "dtype": "f8"
         },
         "y": {
          "bdata": "OEDkD3VRe79FWRLq+BSGv1o4dPjZQ4O/jRiZP5Wih79w9KiP1AGKv9zmW1Cw0Im/h7l5hmB/br+lX9JnnzWKv+w3uWA8tHe/beMdTcv2Wr8w2K+tDFGIv1SQUkwgO42/BABQrSbkQb/9zAnQz12Hv/YjyybCeXm/uriTPiBmh78oVd7v1axNvwe9n9u3J3m/HP6dT5Obgr9gkbVN1PWHv5TfFOO8sGi/vWEDsTVPgr+0u39J6VaKv8jtisgtRHe/wue07/USdb9Q77F2JjAtvzZGQuu+KY2/ZwDRfzsUdb9Yo/SFYjdyv5gg70DKIG+/pYXJ3kNpkL91BsJ3+f5yvx7yB4sxVYS/zy4g6/UFYj+n+sIw1lZgP9yFkuyOAXq/MH5JvnSkjb8w9Ad/MulKP35XFHVtS3y/LFp6MgJaab+C4HxzMnplP0hj1nYZkI6/SHb57zntiL8iLTDhIxCJvyCXlVn0lIa/g852HpjqiL+Q52bf8mCLv+CUy6DNHye/TfSvf0vZjb8SUHcb01lQvzrzx4StuXS/yMcPbknJjb/Yhh0oE8J2vz8XBL8c9IK/krZNMxtGc7/aRBPATKF0vzRj7dnUWpC/HJQXRSX1Nj/4yhVgz6l+vzqHcUkngn8/9PwdaGtQib+gvedk3zh9v4IoDhSbLFM/HiQhvLSUhb950P4ONGKNv/MI49jHHYS/cmZitTnqhL8S0gmGPeuBP+mOsVi4d46//PPU/GSpZr/889T8ZKlmv/6BD4G/yWw/daHfbfGRgL+p9N3hC32Mv/a3fud/PIi/u7gN012NiL+QXGqEl5SKv/CtSUuW1IK/sRL0y8YGf7/lmcTv84CPv3C0SiZleCc/5rkHKZ2wiL/g88Gxp2RxPyP+OQ1J932/SGPWdhmQjr/+Kub4HymLv49qvyZX7Gu/jvULdPU/dL8QRiGZ8Ox+v+yt+TajzGS/SRvS3otSZ7+WP7b0DvwzP/LojTVaf4G/Bg+gDll8Zr8cPzy7E8GBv2Xss5z91WI/QMaOfc+YjL/UUmDxL9WEvzN6urSY4W0/Cez+251mf790T3FmDCCFv9KS9v3gb4C/icz+yPLwhL/rNI61p9SMv3ze8axAxoa/MJAT1CAUg7+i4Ge4TvaLvzxdkZHSmXS/4Ou1SD+TZb/WQKMcf6Fvv12hACkWLHO/s6DfbgCfg78ZAw+7nsByv1p6WRFiz4q/qNhMTMREi7/ivYfHpe1yvzA+rIKTkYm/qUbdnjEIj7+SdM4BCCaCv4RyepqBzne/XuOxuSTbir8z6OH1AL91vzQ5oWT8PHY/sitHWevBcD8PtX/tsNZ5v63YYMX7J0W/oriCTPiZgb/AWJizWVkbP0VzAnwlRZC/WRc7uIXReL+hvedk3zh9v3AaUxA3ulS/QNKOSqYNeT+QJjdXN01kP1ZaHmdkl4W//PPU/GSpZr9PhJetWKF8v5xxj+EJjWG//PPU/GSpZr+0gWWkqAWHv+I/NRre8Y+/",
          "dtype": "f8"
         },
         "z": {
          "bdata": "RKGZtq4Cgj9VWWDqY7FiP9hvoMB1eYK/vPBHRNLtgL9xsJswyM96vzDIA5kWUiO/gDgyhEvwET/+zgHYlqN4P0jyX+26X4m/xEacDtVTZb+Yv3iGVphzP3kpcpp+7YO/EK2bx8CsVD/RytMVv4qDv/VPDG5GX4M/LJvOL70idj+OTPz4xE2AP/gh9pE9bGQ/6aZG4E0kdj+40qKZ5CCRP9Gocs9X7nO/dtEPj5VwUr9uoUISBQV0v85z+HKua30/IFztliHdRz/l3sJFogNuv0ZbNpgybIG/e9pCC4G+bT/pHml4TfF/vweMMQ1Fb4Q/r1Ri+WQbWL/fCLK58XGGP65FU/jJX3q/XGiMeXeAWj/VS5kexiBxPx7OfveYSFs/HxtK14mNaT+2KGS+WnFwv0947Uy06Ve/Ul6/0K5bQ79vMz9/0rlxvywoCezQgT6/gdg7yeS7gb9GJPdagi9tP+froupU0HO/6o5MM791Tz9XpHmnt4djvzmMqNSx6n6/yUOkWet7bb9Ts84r8RF6P6Zk8dUen34/EPBZiIbaZj+KiVBjwgh4P9D72AvzWy0/W44vDPMVd78QkZZFfVA2P7TDSN42OV0/RX6hDVl3Zr/SdJuTXomHv+kZ2pxovoY/IqYJgQtsSL9sagZ9e118v5KvI3dItoe/hLU8JLpMWz85ezAn/15xv/kXVCZzdmq/HWDdFGj6Xj9gxRESZEuCP6AaVpKb3Ue/84unqTBIdz/yi6epMEh3PzVjWApAVIO/o8EdhX6lhL+y8WJ2arCBv8f3xsQ+D3C/DAUBLyCBWD8SWtra0d1zv+37OafyWHs//GkTKtxQgL+kGkpUFll9P17KaU/lC3m/dg//HIrgej9yUYd4zQh8P60oIIPS9ni/LCgJ7NCBPr+tyEOL9fhkP97kFdzqVXq/o6nex718fr8+Em42+yd6P2264vwkv3o/67nCd8KueD9ALDy+v514PyRz6n6R2kM/myQ0XutIZb8l/fC7Du5wv3w9rXuUfnc/BFrvnL6Ncb/skbfc1bdrP963Ygtgy3A/We1oNuptTj96eYbQ5Hd3v4s5OCEcPYw/oLAIVO1hbj/zsksLg1lwv0fEvmp2PmW/+FPo0J9EZL+4e6SuNpoiv1yieMp/94S/kDnYZPTrTj+oL33eM04xP4XZPF+uC4K/wY/Y8C8pZj9U9gLod95sPz4PZ/0YiHS/9EI+kso8aj/+h3yZHiVrP8d79Uqu8S0/QEvftEXEaj+45bUTICp0v9wHVqpIPYa/uTs5V9znZb996XdTdkxvP/xwRfgzp36/fG33yXKjej/EUFUJXfFyP7eNFGxbRo4/LW5oe1QDQb+GnwflUKEtv+7y9qz2Jkm/ln5a2gmoRj9ragZ9e118v8aQbEP4tIC/TiWmO5L8eD+mATXTWSRdPwxe/ST9n4Q/84unqTBIdz9RAYouvDBZP44xKuTxV3w/8ounqTBIdz/QsuP+BHWCP/Qj/TIishs/",
          "dtype": "f8"
         }
        },
        {
         "hoverinfo": "text",
         "hovertext": [
          "Deck 0 — 8/8 carte mappate<br>Dart Goblin, Mortar, Skeleton Army, Goblin Gang, Cannon Cart, Skeleton Barrel, Skeleton King, Fireball",
          "Deck 4 — 8/8 carte mappate<br>Mortar, Furnace, Ice Wizard, Goblin Gang, Bats, Miner, Arrows, Skeleton King",
          "Deck 26 — 8/8 carte mappate<br>Wall Breakers, Knight, Spear Goblins, Miner, Tornado, Magic Archer, The Log, Bomb Tower",
          "Deck 34 — 8/8 carte mappate<br>Royal Recruits, Skeleton Barrel, Goblins, Dart Goblin, Goblin Gang, Wall Breakers, Mighty Miner, Fireball",
          "Deck 89 — 8/8 carte mappate<br>Knight, Wall Breakers, Magic Archer, Bomb Tower, Tornado, Miner, The Log, Spear Goblins",
          "Deck 93 — 8/8 carte mappate<br>Mortar, Bats, Skeleton King, Arrows, Cannon Cart, Miner, Goblin Gang, Ice Wizard",
          "Deck 119 — 8/8 carte mappate<br>Goblin Barrel, Firecracker, Golden Knight, Dart Goblin, Tombstone, Ice Spirit, Barbarian Barrel, Mirror",
          "Deck 144 — 8/8 carte mappate<br>Wall Breakers, Royal Recruits, Mighty Miner, Suspicious Bush, Arrows, Dart Goblin, Ice Wizard, Goblin Gang",
          "Deck 182 — 8/8 carte mappate<br>Skeleton Barrel, Wizard, Giant Snowball, Suspicious Bush, Goblin Gang, Tornado, Ice Spirit, P.E.K.K.A",
          "Deck 232 — 8/8 carte mappate<br>Witch, Firecracker, Hog Rider, Earthquake, Zap, Dart Goblin, Berserker, Goblin Cage",
          "Deck 243 — 8/8 carte mappate<br>Royal Recruits, Wall Breakers, Skeleton Barrel, Goblin Gang, Mighty Miner, Arrows, Firecracker, Bats",
          "Deck 300 — 8/8 carte mappate<br>Dart Goblin, Royal Recruits, Goblin Gang, Skeleton Barrel, Mighty Miner, Arrows, Wall Breakers, Bomb Tower",
          "Deck 326 — 8/8 carte mappate<br>Bats, Valkyrie, The Log, Goblin Hut, Poison, Miner, Wall Breakers, Spear Goblins",
          "Deck 379 — 8/8 carte mappate<br>Wall Breakers, Skeleton Barrel, The Log, Vines, Ice Spirit, Dart Goblin, Goblin Gang, Skeleton King",
          "Deck 452 — 8/8 carte mappate<br>Skeleton Barrel, Wall Breakers, Royal Recruits, Firecracker, Arrows, Mighty Miner, Dart Goblin, Goblin Gang",
          "Deck 488 — 8/8 carte mappate<br>Royal Recruits, Cannon, Arrows, Boss Bandit, Inferno Dragon, The Log, Goblin Demolisher, Flying Machine",
          "Deck 492 — 8/8 carte mappate<br>Witch, Dart Goblin, Skeleton King, Tesla, Skeleton Barrel, Vines, Ice Spirit, Barbarian Barrel",
          "Deck 514 — 8/8 carte mappate<br>Goblin Barrel, Valkyrie, Wall Breakers, Berserker, Dart Goblin, Vines, Fire Spirit, Ice Spirit",
          "Deck 523 — 8/8 carte mappate<br>Wall Breakers, Skeleton Barrel, Mighty Miner, Royal Recruits, Goblin Gang, Dart Goblin, Guards, Arrows",
          "Deck 588 — 8/8 carte mappate<br>Dart Goblin, Goblin Barrel, Giant Skeleton, Ice Spirit, Goblin Gang, Tombstone, Barbarian Barrel, Knight",
          "Deck 607 — 8/8 carte mappate<br>Firecracker, Royal Recruits, Bats, Poison, Skeleton Barrel, Goblin Gang, Wall Breakers, Mighty Miner",
          "Deck 616 — 8/8 carte mappate<br>Royal Recruits, Furnace, Firecracker, Dart Goblin, Goblin Cage, Vines, Wall Breakers, Skeleton Barrel",
          "Deck 650 — 8/8 carte mappate<br>Skeleton Barrel, Wall Breakers, Royal Ghost, The Log, Rascals, Goblin Gang, Dart Goblin, Vines",
          "Deck 651 — 8/8 carte mappate<br>Wall Breakers, Dart Goblin, Ice Spirit, Mini P.E.K.K.A, The Log, Goblin Gang, Ice Wizard, Suspicious Bush",
          "Deck 681 — 8/8 carte mappate<br>Goblin Barrel, Goblin Cage, Dart Goblin, Goblin Gang, Royal Recruits, Furnace, Vines, Little Prince",
          "Deck 690 — 8/8 carte mappate<br>Skeleton Barrel, Wall Breakers, Rascals, The Log, Vines, Royal Ghost, Dart Goblin, Goblin Gang",
          "Deck 693 — 8/8 carte mappate<br>Wall Breakers, Witch, Electro Wizard, Ice Spirit, Suspicious Bush, Bowler, Knight, Monk",
          "Deck 717 — 8/8 carte mappate<br>Skeleton Barrel, Wall Breakers, Rascals, The Log, Vines, Royal Ghost, Dart Goblin, Goblin Gang",
          "Deck 727 — 8/8 carte mappate<br>Knight, Dart Goblin, Giant Snowball, Poison, Goblin Gang, Skeleton Barrel, The Log, Tombstone",
          "Deck 807 — 8/8 carte mappate<br>Archers, Mortar, Bats, Guards, Cannon Cart, Ice Spirit, Valkyrie, Arrows",
          "Deck 844 — 8/8 carte mappate<br>Mortar, Skeleton Barrel, Skeleton King, Poison, Dart Goblin, Skeleton Army, Cannon Cart, Knight",
          "Deck 934 — 8/8 carte mappate<br>Monk, Wall Breakers, Suspicious Bush, Skeleton Barrel, Furnace, Ice Golem, Arrows, Berserker",
          "Deck 942 — 8/8 carte mappate<br>Firecracker, Wall Breakers, Mini P.E.K.K.A, Tombstone, Barbarian Barrel, Bats, Skeletons, Skeleton Barrel",
          "Deck 968 — 8/8 carte mappate<br>Bats, Wall Breakers, Spear Goblins, The Log, Knight, Miner, Poison, Goblin Hut",
          "Deck 1000 — 8/8 carte mappate<br>Dart Goblin, Mega Knight, The Log, Goblin Gang, Goblin Barrel, Skeleton Barrel, Princess, Goblin Hut",
          "Deck 1011 — 8/8 carte mappate<br>Archers, Royal Recruits, Arrows, Goblin Gang, Skeleton Barrel, Lightning, Ice Wizard, Cannon",
          "Deck 1069 — 8/8 carte mappate<br>Firecracker, Goblin Cage, Fireball, Royal Hogs, Skeletons, Cannon Cart, Mother Witch, The Log",
          "Deck 1074 — 8/8 carte mappate<br>Mortar, Wall Breakers, Furnace, Dart Goblin, Goblin Gang, Electro Spirit, Inferno Dragon, Barbarian Barrel",
          "Deck 1118 — 8/8 carte mappate<br>Valkyrie, Mortar, Skeleton Barrel, Goblin Barrel, Dart Goblin, Firecracker, The Log, Furnace",
          "Deck 1144 — 8/8 carte mappate<br>Goblin Barrel, Royal Recruits, Witch, Skeleton Barrel, Valkyrie, Furnace, Arrows, Earthquake",
          "Deck 1148 — 8/8 carte mappate<br>Firecracker, Mega Knight, Royal Recruits, Lumberjack, Ice Wizard, Goblin Gang, Fireball, Suspicious Bush",
          "Deck 1154 — 8/8 carte mappate<br>Bats, Wall Breakers, Spear Goblins, Berserker, Miner, Goblin Hut, The Log, Poison",
          "Deck 1165 — 8/8 carte mappate<br>Wall Breakers, Valkyrie, Rascals, Skeleton Barrel, The Log, Dart Goblin, Goblin Gang, Vines",
          "Deck 1202 — 8/8 carte mappate<br>Wall Breakers, Skeleton Barrel, Knight, Goblin Hut, Suspicious Bush, Dart Goblin, Mini P.E.K.K.A, Arrows",
          "Deck 1210 — 8/8 carte mappate<br>Wall Breakers, Valkyrie, Goblin Barrel, Berserker, Dart Goblin, Vines, Goblin Hut, Ice Spirit",
          "Deck 1218 — 8/8 carte mappate<br>Wall Breakers, Dart Goblin, Arrows, Knight, Electro Spirit, Skeleton Barrel, Skeleton Army, Bomb Tower",
          "Deck 1229 — 8/8 carte mappate<br>Wall Breakers, Skeleton Barrel, Royal Ghost, Goblin Gang, Dart Goblin, Vines, Rascals, The Log",
          "Deck 1232 — 8/8 carte mappate<br>Royal Recruits, Wall Breakers, Suspicious Bush, Rocket, Arrows, Spear Goblins, Bats, Berserker",
          "Deck 1252 — 8/8 carte mappate<br>Wall Breakers, Skeleton Barrel, Goblin Gang, Royal Recruits, Dart Goblin, Firecracker, Mighty Miner, Vines",
          "Deck 1264 — 8/8 carte mappate<br>Goblin Barrel, Dart Goblin, Goblin Curse, Rage, Bomb Tower, Suspicious Bush, Berserker, Mighty Miner",
          "Deck 1304 — 8/8 carte mappate<br>Wall Breakers, Valkyrie, Skeleton Barrel, Electro Wizard, Goblins, The Log, Vines, Inferno Tower",
          "Deck 1334 — 8/8 carte mappate<br>Firecracker, Royal Recruits, Hog Rider, Tombstone, Valkyrie, Ice Spirit, Goblin Gang, The Log",
          "Deck 1371 — 8/8 carte mappate<br>Mortar, Giant Snowball, Royal Recruits, Dark Prince, Musketeer, Fireball, Skeleton Barrel, The Log",
          "Deck 1413 — 8/8 carte mappate<br>Dart Goblin, Wall Breakers, The Log, Goblin Gang, Boss Bandit, Vines, Suspicious Bush, Mother Witch",
          "Deck 1419 — 8/8 carte mappate<br>Knight, Wall Breakers, The Log, Tornado, Spear Goblins, Miner, Bomb Tower, Magic Archer",
          "Deck 1432 — 8/8 carte mappate<br>Witch, Goblin Cage, Wizard, Knight, Mortar, Miner, The Log, Flying Machine",
          "Deck 1488 — 8/8 carte mappate<br>Mega Knight, Firecracker, Goblin Barrel, Princess, The Log, Skeleton Barrel, Goblin Cage, Bats",
          "Deck 1496 — 8/8 carte mappate<br>Mega Knight, Royal Recruits, Skeleton Barrel, Dart Goblin, Goblin Barrel, Firecracker, Suspicious Bush, Tornado",
          "Deck 1497 — 8/8 carte mappate<br>Barbarians, Wall Breakers, Mighty Miner, Barbarian Barrel, Fireball, Dart Goblin, Skeleton Barrel, Ice Spirit",
          "Deck 1499 — 8/8 carte mappate<br>Royal Recruits, Firecracker, Mighty Miner, Dart Goblin, Goblin Gang, Wall Breakers, Skeleton Barrel, Arrows",
          "Deck 1664 — 8/8 carte mappate<br>Mortar, Wizard, Valkyrie, Electro Spirit, Golden Knight, Dart Goblin, Wall Breakers, Firecracker",
          "Deck 1677 — 8/8 carte mappate<br>Wizard, Knight, Goblin Barrel, Skeleton Barrel, Royal Hogs, Berserker, Furnace, Wall Breakers",
          "Deck 1701 — 8/8 carte mappate<br>Firecracker, Royal Recruits, Hog Rider, Goblin Gang, Goblin Hut, Wall Breakers, Arrows, Suspicious Bush",
          "Deck 1704 — 8/8 carte mappate<br>Mortar, Knight, Arrows, The Log, Archer Queen, Bats, Cannon Cart, Goblin Gang",
          "Deck 1746 — 8/8 carte mappate<br>Furnace, Wall Breakers, Suspicious Bush, Boss Bandit, Fire Spirit, Spear Goblins, Ice Spirit, The Log",
          "Deck 1773 — 8/8 carte mappate<br>Skeleton Barrel, Royal Recruits, Arrows, Firecracker, Mighty Miner, Wall Breakers, Tesla, Electro Spirit",
          "Deck 1831 — 8/8 carte mappate<br>Bats, Mortar, Spear Goblins, Miner, Goblin Gang, Golden Knight, Goblin Demolisher, Lightning",
          "Deck 1839 — 8/8 carte mappate<br>Royal Recruits, Valkyrie, Ice Spirit, Goblin Barrel, Guards, Vines, Dart Goblin, Skeleton Barrel",
          "Deck 1842 — 8/8 carte mappate<br>Royal Recruits, Firecracker, Goblin Gang, Mighty Miner, Arrows, Skeletons, Skeleton Barrel, Musketeer",
          "Deck 1855 — 8/8 carte mappate<br>Dart Goblin, Skeleton Barrel, The Log, Goblin Gang, Wall Breakers, Royal Recruits, Vines, Mighty Miner",
          "Deck 1900 — 8/8 carte mappate<br>Mortar, Firecracker, Knight, Skeleton Barrel, Spear Goblins, Goblin Gang, Fireball, Barbarian Barrel",
          "Deck 1901 — 8/8 carte mappate<br>Royal Recruits, Wall Breakers, Mighty Miner, Hog Rider, Guards, Goblin Gang, Firecracker, Arrows",
          "Deck 1904 — 8/8 carte mappate<br>Valkyrie, Skeleton Barrel, Executioner, Miner, Flying Machine, The Log, Goblin Gang, Fireball",
          "Deck 1909 — 8/8 carte mappate<br>Skeleton Barrel, Mortar, Spear Goblins, Ice Wizard, Goblin Gang, Cannon Cart, Skeleton King, Arrows",
          "Deck 1928 — 8/8 carte mappate<br>Wall Breakers, Furnace, The Log, Ice Spirit, Boss Bandit, Vines, Suspicious Bush, Spear Goblins",
          "Deck 1932 — 8/8 carte mappate<br>Royal Recruits, Goblin Barrel, Knight, Dart Goblin, Executioner, Cannon, Giant Snowball, Fireball",
          "Deck 1951 — 8/8 carte mappate<br>Skeleton Barrel, Mortar, Minions, Valkyrie, Musketeer, Dart Goblin, Poison, Giant Snowball",
          "Deck 1988 — 8/8 carte mappate<br>Mortar, Valkyrie, Skeleton Barrel, Goblinstein, Firecracker, Vines, The Log, Goblin Hut",
          "Deck 2046 — 8/8 carte mappate<br>Firecracker, P.E.K.K.A, Guards, Goblin Gang, Spear Goblins, Royal Hogs, Goblins, Fireball",
          "Deck 2047 — 8/8 carte mappate<br>Knight, Goblin Barrel, Rascals, Cannon Cart, Rocket, The Log, Bandit, Dark Prince",
          "Deck 2099 — 8/8 carte mappate<br>Mortar, Archers, Goblinstein, Miner, Cannon Cart, Cannon, The Log, Arrows",
          "Deck 2101 — 8/8 carte mappate<br>Goblin Barrel, Valkyrie, Wall Breakers, Berserker, Dart Goblin, Vines, Fire Spirit, Ice Spirit",
          "Deck 2146 — 8/8 carte mappate<br>Valkyrie, Wall Breakers, Dart Goblin, Vines, Berserker, Suspicious Bush, Fire Spirit, Electro Spirit",
          "Deck 2163 — 8/8 carte mappate<br>Royal Recruits, Valkyrie, Knight, Suspicious Bush, Wall Breakers, Hog Rider, Firecracker, Dart Goblin",
          "Deck 2169 — 8/8 carte mappate<br>Wall Breakers, Witch, Electro Wizard, Ice Spirit, Suspicious Bush, Bowler, Knight, Monk",
          "Deck 2184 — 8/8 carte mappate<br>Valkyrie, Firecracker, Goblin Barrel, Mega Knight, Dart Goblin, The Log, Goblin Gang, Zappies",
          "Deck 2191 — 8/8 carte mappate<br>Skeleton Barrel, Goblin Barrel, Dart Goblin, Berserker, Goblin Gang, Goblin Hut, Royal Delivery, The Log",
          "Deck 2194 — 8/8 carte mappate<br>Wall Breakers, Skeleton Barrel, Goblin Gang, Firecracker, The Log, Lightning, Bomb Tower, Prince",
          "Deck 2239 — 8/8 carte mappate<br>Mortar, Bats, Ice Wizard, Miner, Goblinstein, Goblin Gang, Cannon Cart, Arrows",
          "Deck 2272 — 8/8 carte mappate<br>Goblin Barrel, Royal Recruits, Arrows, Goblin Gang, Cannon, Cannon Cart, Goblinstein, Dart Goblin",
          "Deck 2288 — 8/8 carte mappate<br>Valkyrie, Battle Ram, Knight, Dart Goblin, Bats, Furnace, Suspicious Bush, Wall Breakers",
          "Deck 2293 — 8/8 carte mappate<br>Goblin Barrel, Valkyrie, Ice Spirit, Berserker, Vines, Dart Goblin, Fire Spirit, Wall Breakers",
          "Deck 2301 — 8/8 carte mappate<br>Royal Recruits, Skeleton Barrel, Arrows, Goblin Gang, Boss Bandit, Lightning, Electro Spirit, Furnace",
          "Deck 2331 — 8/8 carte mappate<br>Royal Recruits, Firecracker, Wall Breakers, Goblin Gang, Arrows, Goblins, Skeleton Barrel, Mighty Miner",
          "Deck 2377 — 8/8 carte mappate<br>Skeleton Barrel, Wall Breakers, Spear Goblins, Mini P.E.K.K.A, Ice Spirit, The Log, Berserker, Princess",
          "Deck 2405 — 8/8 carte mappate<br>Wall Breakers, Dart Goblin, The Log, Skeleton Barrel, Mini P.E.K.K.A, Skeleton King, Goblin Gang, Suspicious Bush",
          "Deck 2408 — 8/8 carte mappate<br>Valkyrie, Goblin Barrel, Electro Spirit, Berserker, Wall Breakers, Dart Goblin, Fire Spirit, Vines",
          "Deck 2412 — 8/8 carte mappate<br>Wall Breakers, Dart Goblin, Spear Goblins, Arrows, Boss Bandit, Guards, The Log, Royal Recruits",
          "Deck 2418 — 8/8 carte mappate<br>Wall Breakers, Dart Goblin, Princess, Vines, Guards, Berserker, Suspicious Bush, Goblin Cage",
          "Deck 2465 — 8/8 carte mappate<br>Firecracker, Royal Recruits, Bandit, Royal Ghost, Wall Breakers, Rascals, Suspicious Bush, Arrows",
          "Deck 2479 — 8/8 carte mappate<br>Royal Recruits, Valkyrie, Lumberjack, Suspicious Bush, Wall Breakers, Flying Machine, Firecracker, Dart Goblin",
          "Deck 2482 — 8/8 carte mappate<br>Royal Recruits, Executioner, Mighty Miner, The Log, Rascals, Goblin Gang, Vines, Goblin Barrel",
          "Deck 2487 — 8/8 carte mappate<br>Dart Goblin, Skeletons, Wall Breakers, Fire Spirit, Boss Bandit, The Log, Suspicious Bush, Spear Goblins",
          "Deck 2489 — 8/8 carte mappate<br>Royal Recruits, Wall Breakers, Dart Goblin, Rocket, Goblins, Goblin Gang, Skeleton Barrel, Mighty Miner",
          "Deck 2492 — 8/8 carte mappate<br>Witch, Skeleton Barrel, Berserker, Skeletons, Vines, Arrows, Cannon, Furnace",
          "Deck 2495 — 8/8 carte mappate<br>Mortar, Skeleton Barrel, Goblin Gang, Bats, Cannon Cart, Skeleton King, Ice Wizard, Arrows"
         ],
         "marker": {
          "color": "rgb(153,153,153)",
          "size": 6
         },
         "mode": "markers",
         "name": "Cluster 8",
         "text": [
          "Deck 0",
          "Deck 4",
          "Deck 26",
          "Deck 34",
          "Deck 89",
          "Deck 93",
          "Deck 119",
          "Deck 144",
          "Deck 182",
          "Deck 232",
          "Deck 243",
          "Deck 300",
          "Deck 326",
          "Deck 379",
          "Deck 452",
          "Deck 488",
          "Deck 492",
          "Deck 514",
          "Deck 523",
          "Deck 588",
          "Deck 607",
          "Deck 616",
          "Deck 650",
          "Deck 651",
          "Deck 681",
          "Deck 690",
          "Deck 693",
          "Deck 717",
          "Deck 727",
          "Deck 807",
          "Deck 844",
          "Deck 934",
          "Deck 942",
          "Deck 968",
          "Deck 1000",
          "Deck 1011",
          "Deck 1069",
          "Deck 1074",
          "Deck 1118",
          "Deck 1144",
          "Deck 1148",
          "Deck 1154",
          "Deck 1165",
          "Deck 1202",
          "Deck 1210",
          "Deck 1218",
          "Deck 1229",
          "Deck 1232",
          "Deck 1252",
          "Deck 1264",
          "Deck 1304",
          "Deck 1334",
          "Deck 1371",
          "Deck 1413",
          "Deck 1419",
          "Deck 1432",
          "Deck 1488",
          "Deck 1496",
          "Deck 1497",
          "Deck 1499",
          "Deck 1664",
          "Deck 1677",
          "Deck 1701",
          "Deck 1704",
          "Deck 1746",
          "Deck 1773",
          "Deck 1831",
          "Deck 1839",
          "Deck 1842",
          "Deck 1855",
          "Deck 1900",
          "Deck 1901",
          "Deck 1904",
          "Deck 1909",
          "Deck 1928",
          "Deck 1932",
          "Deck 1951",
          "Deck 1988",
          "Deck 2046",
          "Deck 2047",
          "Deck 2099",
          "Deck 2101",
          "Deck 2146",
          "Deck 2163",
          "Deck 2169",
          "Deck 2184",
          "Deck 2191",
          "Deck 2194",
          "Deck 2239",
          "Deck 2272",
          "Deck 2288",
          "Deck 2293",
          "Deck 2301",
          "Deck 2331",
          "Deck 2377",
          "Deck 2405",
          "Deck 2408",
          "Deck 2412",
          "Deck 2418",
          "Deck 2465",
          "Deck 2479",
          "Deck 2482",
          "Deck 2487",
          "Deck 2489",
          "Deck 2492",
          "Deck 2495"
         ],
         "type": "scatter3d",
         "x": {
          "bdata": "S1MSze+1kT/MF9KiCKWBP2x3MBBgQJc/s4n4Gkutoz9rdzAQYECXP+i1mqTWEoI/pfg6Hf6qjz+czGbbB7OeP9mfCCNanJI/SQE3h5ppmT8tnLoSz3KXP3H3HYMDxKA/a41cLZ5Ljj8Sa4j8l52hP6jxbklCx50/etbKXTzzjD/h7HdYD5mXP37nhc7VE6I/6Fmk6DqqmT/Q3LQLWYKbP0xvzT6gAJs/gaK3IgqAgz9ZH6IQpMOZP093hMwUeaI/VvS3rnTBjj9ZH6IQpMOZP+mYzpD4spQ/WR+iEKTDmT+qAo7qK8CcPwxR3R4ezpQ/d/kNt5O+kz9ly1KWUSWcP6im9svkUog/2J8FLIAYlj+ktr0NQnafPw/AYop/ApI/QVnE/qdJkD9Cik02tW6WPxILlbt5TZw/uR8wrTCilT8i3/Rn5QmBP5VS+yTNlZA/izBu6o8fnD8YpHlUuUyUP0WoOUOv+54/X9J+zdElnz9ZH6IQpMOZPwesZEpROI0/nyswOkLnnj8rbYY3arKYP6h9Wfq2X5U/VTT/30c0nT+T3wOWN5eWPwaUrH6XZpI/bHcwEGBAlz+khhcpGHV9PzW9w14ZPpQ/DycqWS4vjT+eWcASchSiP6jxbklCx50/wxUTrDY8lz/QkpgK3/eQP6XPwIcE4JI/jdG69DJOmz9s2RIdo3ShP7qMvUAga6Q/nal0R3dShz/XyxKMpAmXPynOG0UBtqE/TMnbW1PDoT8TOQVw2G2XP/uiQBAmgZo/0eU5Nkcwhz9uVGnGAICGP4/lIjqLVpw/P5ovZrrDoT+D8WCXXtqSPyjy+luBnZU/cajGY5pniD+nn2YbLdqZPz5kZB3P+qA/fueFztUToj8coMZXTgSgP7nxh7MNEZw/6ZjOkPiylD8EgVBR7SaSP3OV3AJ3wKQ/8n3zd2u/kj/iLlY+81aHP/WX/tL445o/05thS0L+jT9954XO1ROiPwD/PTXbaoA/UBTXiJ8LoD+kJHMesiWiP33tF+KheZg/Ti1MmKZ7oD/V9Q2L/d6HP61/TJ5ISJQ/3YMSp7CQhD9yrwN4WTN8P8fyqYbUKqE/SoWrQEtkoj+eCRcVeIelP/3XJ2wWVZU/C+zW49Mdgz8=",
          "dtype": "f8"
         },
         "y": {
          "bdata": "cmXf4VfAkb/A5Wjh4x1jv/iaJS6LKIG/8C6yA90Ljr/5miUuiyiBvyRs5EWrRGm/iB52IlaYh7/r/2nzbUt7v/e6bUbxoYW/kHmBbUQ4c7+/xkvT61+SvxII0C9p3Ya/3+8wyIYOYT9Naao7TliMvwqmxbBmh5G/QuNSjU+mcz/0PRQllbpxv4+z0hynR3q/L8O9YBkmi7/rG9bT4pqMv9wYz4YpMYS/hKkwUmTlaz/rtpoHZ3eKv3hw6YevW42/KJmb9TzfYD/qtpoHZ3eKv9wAWpv8RIG/6raaB2d3ir/VMToa9KBwv7PjThAU44G/iBFvHC5cdb/uucOGmv17P4xs4o2dlYO/Xlf9/21scD93wjgz/MCSv3f/iri5MXO/3k+Bpnyzdj9YIGuRLTBFv47t9iOfZpK/iDvOTVeWkL8sEjwWKX+Fv+S3Yas/zYw/FzN/YfX0kb9Ry96EdLB6v55sQL28G30/qsIztx7fj7/qtpoHZ3eKvxTQzXlo6Hm/aPcru4bCh7+mU7XuxV5QPwFo4gpItZS/QzIB0j1Hj78wb0Kl4awmv+P2DEWoR4e/+JolLosogb8HrePInvloP0+kZvYTmJa/D2hDwo0skb8lQO20DtyDvwqmxbBmh5G/MwpXy51jjL/4XMtw5JVuv37AKWpIz26/EnfPSY53jb+4o6rUZdiEv2IOMkc0JoO/ciAvcYmUd7/ODH8WV+CHv8YBmoQTG4u/8eqLDz+vhL+69yYn+uqFv3/M0NDeHYy/JqNVKFzSi78TcPyvk0Zxv97ZtO9qUHq/CW7yKC5cgr844Lj7extDPxytWOcRdXU/Yd+yuXy9ir8+STXLFB+Rv2JNnkVw92a/j7PSHKdHer8PgUTtQ9tSP6U+1fAS35C/3ABam/xEgb/01ZYdyuyTv78WW11Nj2U/NJq3JL1Ek7+WS+ioUUptvyTl7htZoIu/FfMFKz02j7+Ns9Icp0d6v+XViJ864HW/fK8THPXijL+EN00607WKv+/+3uBY0ZS/maaA4FBkaL/40v9m3piGv2KwOpfl53U/oTPZvtm3g7/EJK52+sl6vzqdYKDc7oO/4voFLnzIjr/YaFF1tqOPv9zH1/hGeWE/6HtxjqJjeL8=",
          "dtype": "f8"
         },
         "z": {
          "bdata": "svC4R9ALl78M9YZeC1SPv9N89MMVx4O/KKrhE/51m7/TfPTDFceDv8NHuwNF+5O/EJmUmSyXhL8jt9kRZA2gvxTcUIN9s4a/bHMl0Xhafr8R9KODxBycv2mC/S6LHp2/RTvZUI9pk7/EIGa5CJ2Sv8817JCTKp2/8EJM5TuqlL9fCQSeIWqEvzajTFUvY4y/qQNoWchvnr/178RVEKqIv/LyyxFRAZ2/3Ax+Pf4Jn7/9MGn6MMqUvzEFVhNB+5K/sVQcqccYmL/+MGn6MMqUvyK2mmcg9YG//jBp+jDKlL/IPJyAaYGNvz/g04kb2X6/FnI0+OEqlr8OJTcM9QKIv4QjZUJ8q4y/yjsp63d3k7+kxQww0Lqav4O+jQBq7I6/j0aP/C5Pjb8bxye9XW+Ov4SVqcs8S5C/wBUAQ2OCkL+HLw8B+GKTv3DN7sRf85W/tWGmLHdRlr/wED25oaebvyI2SrFyOZS/9LOvKVc8h7//MGn6MMqUv1mdFHVW956/A15m2/R9nb8sFx9hnmiBv4PjWVP9s4u/g93S6zOdiL9JZU7/Y26Ev6AwBuuqn5W/03z0wxXHg79qe0C20xCVvxaVmq7wcJW/bCI0TN9dm78Gj1zWObqIv8817JCTKp2/bRLbg8EIiL9nbhq669eYvxRHFUKPuJ6/yNk0mZAfjr9zlOaxnNOSv5aQ2TkM8ZG/fQmd+hoWkb/5XtO4OcKUv8zxyCI+qZC/HWCNJ3Uknb/MyTWUly+Ov4w6H5YeXpW/S9Ryz5sykb8ildL/Tpmav2MizWZvq5K/XUyQrZLsh796VT22jguDv+Sy0rOGAJO/Kbzrgin0iL+/69i26QaIvzP5pnyun4G/NqNMVS9jjL8+0iJ+a/6Ov5AippRfZJe/IraaZyD1gb8EClrp+TWYvyfHdQJ/Ipa/qK5SV2VvjL9cGOE2/yCVv6ZC2VcL2Ju/XnjRbPmvkL82o0xVL2OMv7jDFK2rRZO/ta3DwAhEmr+qa3SewueTv1W2hG7bu5q/GeAgMmYUib8y6LvFOS+Zv7HDA5XtpJ2/+xran9P5l7+2nORedM6gv/TF8bEt/5a/oSn2ekYplL9bqHA0/Iiev6y02ZBpk4C/akmXO9ufmL8=",
          "dtype": "f8"
         }
        },
        {
         "hoverinfo": "text",
         "hovertext": [
          "Deck 3 — 8/8 carte mappate<br>Goblin Barrel, Mega Knight, Valkyrie, Fireball, Minion Horde, Witch, Skeleton Army, Hog Rider",
          "Deck 18 — 8/8 carte mappate<br>Mega Knight, Firecracker, Miner, Inferno Dragon, Goblin Gang, Bats, Skeleton Barrel, Zap",
          "Deck 20 — 8/8 carte mappate<br>Mega Knight, Executioner, Witch, Arrows, Magic Archer, Goblin Gang, Elixir Golem, Dart Goblin",
          "Deck 24 — 8/8 carte mappate<br>Archers, Firecracker, Wizard, Bats, Giant Skeleton, Mega Knight, Hog Rider, Mini P.E.K.K.A",
          "Deck 36 — 8/8 carte mappate<br>Wizard, Witch, Royal Hogs, Elixir Golem, Valkyrie, Skeleton Army, Princess, Fireball",
          "Deck 45 — 8/8 carte mappate<br>Valkyrie, P.E.K.K.A, Skeleton Army, Dart Goblin, Electro Wizard, Executioner, Fireball, Freeze",
          "Deck 54 — 8/8 carte mappate<br>Mega Knight, Wizard, Miner, Golden Knight, Dart Goblin, Prince, Wall Breakers, Mini P.E.K.K.A",
          "Deck 60 — 8/8 carte mappate<br>Wizard, Tesla, Hog Rider, Arrows, Balloon, Fireball, Mini P.E.K.K.A, Skeleton Army",
          "Deck 67 — 8/8 carte mappate<br>Mega Knight, Valkyrie, Fireball, Firecracker, Bats, Inferno Dragon, Princess, Mirror",
          "Deck 97 — 8/8 carte mappate<br>Bats, Mega Knight, Goblin Gang, Miner, Inferno Dragon, Zap, Skeleton Barrel, Spear Goblins",
          "Deck 99 — 8/8 carte mappate<br>Wizard, P.E.K.K.A, Minion Horde, Rage, Spear Goblins, Princess, Witch, Hog Rider",
          "Deck 112 — 8/8 carte mappate<br>Witch, Mega Knight, Miner, Wall Breakers, Bats, Goblin Gang, Inferno Dragon, Zap",
          "Deck 120 — 8/8 carte mappate<br>Firecracker, Wizard, Hog Rider, Prince, Barbarian Barrel, Inferno Tower, Arrows, Valkyrie",
          "Deck 122 — 8/8 carte mappate<br>Mega Knight, Firecracker, Arrows, Bowler, Inferno Tower, Giant, Electro Wizard, Goblin Barrel",
          "Deck 147 — 8/8 carte mappate<br>Goblin Barrel, Bats, The Log, Ram Rider, Electro Wizard, Mini P.E.K.K.A, Giant Skeleton, Skeleton Army",
          "Deck 157 — 8/8 carte mappate<br>Mega Knight, Firecracker, Miner, Inferno Dragon, Goblin Gang, Bats, Skeleton Barrel, Zap",
          "Deck 187 — 8/8 carte mappate<br>Tesla, Mega Knight, Inferno Dragon, Balloon, Princess, Freeze, Skeleton Army, Zap",
          "Deck 195 — 8/8 carte mappate<br>P.E.K.K.A, Firecracker, Witch, Dart Goblin, Prince, Goblin Barrel, Golden Knight, Arrows",
          "Deck 205 — 8/8 carte mappate<br>Valkyrie, Lumberjack, Arrows, Prince, Goblin Barrel, Minion Horde, Goblin Gang, Zap",
          "Deck 214 — 8/8 carte mappate<br>Mega Knight, Wizard, Goblin Barrel, Fireball, Elixir Golem, Firecracker, Arrows, Dart Goblin",
          "Deck 226 — 8/8 carte mappate<br>Furnace, Mega Knight, Boss Bandit, Arrows, Goblin Gang, Prince, Magic Archer, Firecracker",
          "Deck 257 — 8/8 carte mappate<br>Valkyrie, Firecracker, Zap, Fireball, Witch, Hog Rider, Prince, Bandit",
          "Deck 265 — 8/8 carte mappate<br>Wizard, Goblin Barrel, Executioner, Sparky, Inferno Tower, Mini P.E.K.K.A, Arrows, Skeleton Army",
          "Deck 277 — 8/8 carte mappate<br>Valkyrie, Goblin Barrel, Minions, Balloon, Fireball, Witch, Wizard, Skeleton Army",
          "Deck 286 — 8/8 carte mappate<br>Mega Knight, Witch, Mini P.E.K.K.A, Arrows, Goblin Barrel, Prince, Dart Goblin, Skeleton Army",
          "Deck 295 — 8/8 carte mappate<br>Valkyrie, Wizard, Fireball, Zap, Giant, Goblin Barrel, Skeleton Army, Witch",
          "Deck 305 — 8/8 carte mappate<br>Mega Knight, Skeleton Barrel, Zap, Miner, Spear Goblins, Bats, Inferno Dragon, Goblin Gang",
          "Deck 328 — 8/8 carte mappate<br>Firecracker, Mega Knight, Fireball, Barbarians, Minion Horde, Executioner, Goblin Gang, Hog Rider",
          "Deck 342 — 8/8 carte mappate<br>Wizard, Mega Knight, Zap, Balloon, Witch, Mini P.E.K.K.A, Hog Rider, Cannon",
          "Deck 375 — 8/8 carte mappate<br>Skeleton Barrel, Bats, Spear Goblins, Goblin Gang, Arrows, Inferno Dragon, Mega Knight, Zap",
          "Deck 383 — 8/8 carte mappate<br>Witch, Goblin Barrel, Giant Skeleton, Clone, Tesla, Sparky, Skeleton Army, Arrows",
          "Deck 415 — 8/8 carte mappate<br>Mega Knight, Lumberjack, Prince, Archer Queen, Goblin Gang, Arrows, Bats, Zap",
          "Deck 425 — 8/8 carte mappate<br>Executioner, Valkyrie, Lightning, Arrows, Inferno Tower, Guards, Hog Rider, Mini P.E.K.K.A",
          "Deck 426 — 8/8 carte mappate<br>Mega Knight, Royal Giant, Mini P.E.K.K.A, Inferno Tower, Barbarians, Fireball, Freeze, Wizard",
          "Deck 432 — 8/8 carte mappate<br>Barbarians, Valkyrie, Goblin Barrel, Goblin Gang, Minion Horde, Mirror, Wizard, Fireball",
          "Deck 443 — 8/8 carte mappate<br>Wizard, Mega Knight, The Log, Witch, Goblin Barrel, Inferno Tower, Prince, Arrows",
          "Deck 445 — 8/8 carte mappate<br>Mega Knight, Witch, Firecracker, Mini P.E.K.K.A, Inferno Tower, Lightning, Electro Giant, Skeleton Army",
          "Deck 450 — 8/8 carte mappate<br>Firecracker, Mega Knight, Bats, Zap, Inferno Dragon, Hog Rider, Skeleton Army, Boss Bandit",
          "Deck 455 — 8/8 carte mappate<br>Wizard, Valkyrie, Bats, Witch, Mega Knight, Mini P.E.K.K.A, Fireball, Hog Rider",
          "Deck 457 — 8/8 carte mappate<br>Wizard, Valkyrie, Fireball, Skeleton Army, Arrows, Minion Horde, Inferno Tower, Prince",
          "Deck 472 — 8/8 carte mappate<br>Wizard, Valkyrie, Battle Ram, Skeleton Army, Goblin Barrel, Electro Wizard, The Log, Minion Horde",
          "Deck 475 — 8/8 carte mappate<br>Tesla, Wizard, Prince, Electro Wizard, Skeleton Army, Arrows, Bowler, Goblin Barrel",
          "Deck 513 — 8/8 carte mappate<br>Witch, Mega Knight, Firecracker, Prince, Elixir Golem, Hog Rider, The Log, Wizard",
          "Deck 521 — 8/8 carte mappate<br>Royal Giant, Wizard, Inferno Tower, Lightning, Goblin Gang, Minion Horde, Arrows, Skeleton Army",
          "Deck 525 — 8/8 carte mappate<br>Goblin Barrel, Mega Knight, Bomber, Dart Goblin, Giant Skeleton, Minions, The Log, Zap",
          "Deck 531 — 8/8 carte mappate<br>Lumberjack, Balloon, Minions, Skeleton Army, Inferno Tower, Fireball, Zap, Fire Spirit",
          "Deck 554 — 8/8 carte mappate<br>Firecracker, Bats, Mega Knight, Electro Wizard, Hog Rider, Mini P.E.K.K.A, Bandit, Dark Prince",
          "Deck 564 — 8/8 carte mappate<br>Firecracker, Wizard, Furnace, Goblin Barrel, P.E.K.K.A, Arrows, Inferno Tower, Inferno Dragon",
          "Deck 565 — 8/8 carte mappate<br>Witch, Mega Knight, Arrows, Bats, Mini P.E.K.K.A, Skeleton Army, Poison, Valkyrie",
          "Deck 569 — 8/8 carte mappate<br>Witch, Mega Knight, Hog Rider, Arrows, Dart Goblin, Bats, Mirror, Skeleton Army",
          "Deck 600 — 8/8 carte mappate<br>Bats, Mega Knight, Spear Goblins, Goblin Gang, Miner, Skeleton Barrel, Inferno Dragon, Arrows",
          "Deck 609 — 8/8 carte mappate<br>Mega Knight, Wizard, Goblin Gang, Hog Rider, Mini P.E.K.K.A, Arrows, Lightning, Inferno Dragon",
          "Deck 621 — 8/8 carte mappate<br>Skeleton Barrel, Mega Knight, Lightning, Mini P.E.K.K.A, Arrows, Bats, Goblin Gang, Firecracker",
          "Deck 722 — 8/8 carte mappate<br>Wizard, Zap, Mini P.E.K.K.A, Hog Rider, Witch, Goblin Barrel, Guards, Valkyrie",
          "Deck 730 — 8/8 carte mappate<br>Wall Breakers, Firecracker, Arrows, Bats, Bandit, Prince, Mega Knight, Zap",
          "Deck 732 — 8/8 carte mappate<br>Valkyrie, Musketeer, Arrows, Prince, Minion Horde, Goblins, Hog Rider, Skeleton Army",
          "Deck 738 — 8/8 carte mappate<br>Mega Knight, Valkyrie, Firecracker, Ram Rider, Goblin Barrel, Bats, Zap, Golden Knight",
          "Deck 749 — 8/8 carte mappate<br>Mega Knight, Valkyrie, Witch, Goblin Gang, Wizard, Firecracker, Arrows, Hog Rider",
          "Deck 763 — 8/8 carte mappate<br>Valkyrie, Witch, Royal Hogs, Prince, Skeleton Army, Hog Rider, Knight, Inferno Dragon",
          "Deck 779 — 8/8 carte mappate<br>Firecracker, Mega Knight, Valkyrie, Witch, Goblin Barrel, Dart Goblin, Wizard, Inferno Dragon",
          "Deck 783 — 8/8 carte mappate<br>Firecracker, Tesla, Sparky, Giant Skeleton, Goblin Barrel, Minion Horde, Skeleton Army, Clone",
          "Deck 793 — 8/8 carte mappate<br>Mega Knight, Wizard, Minion Horde, Clone, Giant Skeleton, Balloon, Hog Rider, Rocket",
          "Deck 794 — 8/8 carte mappate<br>Firecracker, Valkyrie, Mini P.E.K.K.A, Electro Wizard, Skeleton Army, Zap, Bandit, Skeleton Barrel",
          "Deck 804 — 8/8 carte mappate<br>Valkyrie, Wizard, Skeleton Army, Prince, Hog Rider, Bats, The Log, Executioner",
          "Deck 808 — 8/8 carte mappate<br>Firecracker, Tesla, Arrows, Witch, Sparky, Clone, Giant Skeleton, Goblin Barrel",
          "Deck 810 — 8/8 carte mappate<br>Valkyrie, Mega Knight, Firecracker, Freeze, Ram Rider, Goblin Barrel, Witch, Inferno Dragon",
          "Deck 821 — 8/8 carte mappate<br>Witch, Mega Knight, Hog Rider, Lightning, Firecracker, Inferno Tower, Mini P.E.K.K.A, Arrows",
          "Deck 832 — 8/8 carte mappate<br>Valkyrie, Wizard, Skeleton Army, Rocket, Executioner, Prince, Elite Barbarians, Arrows",
          "Deck 836 — 8/8 carte mappate<br>Valkyrie, Mega Knight, Wizard, Skeleton Army, Goblin Barrel, Arrows, Electro Wizard, Minion Horde",
          "Deck 854 — 8/8 carte mappate<br>Royal Giant, Firecracker, Hog Rider, Skeleton Army, Lumberjack, Mini P.E.K.K.A, Arrows, Witch",
          "Deck 863 — 8/8 carte mappate<br>Firecracker, Mega Knight, Mini P.E.K.K.A, Hog Rider, Zap, Skeleton Army, Electro Wizard, Skeleton Barrel",
          "Deck 865 — 8/8 carte mappate<br>Barbarians, Mega Knight, Witch, Inferno Tower, Fireball, Freeze, Hog Rider, Elite Barbarians",
          "Deck 872 — 8/8 carte mappate<br>Mega Knight, Witch, Bandit, Goblin Gang, Arrows, Bats, Prince, Wall Breakers",
          "Deck 885 — 8/8 carte mappate<br>Firecracker, Valkyrie, Minions, Mini P.E.K.K.A, Zap, Ram Rider, Goblin Gang, Mega Knight",
          "Deck 893 — 8/8 carte mappate<br>Valkyrie, Inferno Dragon, Arrows, Hog Rider, Zap, Mega Knight, Skeleton Army, Electro Wizard",
          "Deck 897 — 8/8 carte mappate<br>Lumberjack, Mega Knight, Princess, Skeleton Army, Balloon, Firecracker, Arrows, Wizard",
          "Deck 904 — 8/8 carte mappate<br>Wizard, Valkyrie, Bats, Ram Rider, Arrows, Giant Skeleton, Fireball, Skeleton Army",
          "Deck 910 — 8/8 carte mappate<br>Mega Knight, Witch, Bats, Skeleton Army, Archers, Arrows, Valkyrie, Goblin Barrel",
          "Deck 916 — 8/8 carte mappate<br>Mega Knight, Baby Dragon, Dart Goblin, Hog Rider, Fireball, Zap, Bats, Skeleton Army",
          "Deck 917 — 8/8 carte mappate<br>Firecracker, P.E.K.K.A, Fireball, Witch, Mirror, Electro Wizard, Zap, Goblin Barrel",
          "Deck 925 — 8/8 carte mappate<br>Valkyrie, Wizard, Fireball, Skeleton King, Giant Skeleton, Clone, Witch, Skeleton Army",
          "Deck 933 — 8/8 carte mappate<br>Lumberjack, Wizard, Fireball, Princess, The Log, Balloon, Skeleton Army, Mini P.E.K.K.A",
          "Deck 937 — 8/8 carte mappate<br>Mega Knight, Bats, Miner, Goblin Gang, Inferno Dragon, Skeleton Barrel, Zap, Mini P.E.K.K.A",
          "Deck 939 — 8/8 carte mappate<br>Valkyrie, Wizard, Giant Skeleton, Arrows, Hog Rider, Mini P.E.K.K.A, Electro Wizard, Goblin Gang",
          "Deck 954 — 8/8 carte mappate<br>Skeletons, Mega Knight, Bats, Prince, Mirror, Rage, Dart Goblin, Arrows",
          "Deck 975 — 8/8 carte mappate<br>Witch, Valkyrie, Princess, Barbarians, Skeleton Army, Mini P.E.K.K.A, Inferno Dragon, Goblin Barrel",
          "Deck 981 — 8/8 carte mappate<br>Dart Goblin, Lumberjack, Balloon, Inferno Tower, Bomber, Skeleton Army, Electro Wizard, Goblin Barrel",
          "Deck 983 — 8/8 carte mappate<br>Mega Knight, Firecracker, Valkyrie, Sparky, Electro Wizard, Goblin Gang, Arrows, P.E.K.K.A",
          "Deck 994 — 8/8 carte mappate<br>Fireball, Goblin Barrel, Zap, Witch, Bats, Inferno Dragon, Mega Knight, Ram Rider",
          "Deck 995 — 8/8 carte mappate<br>Valkyrie, Wizard, Goblinstein, Balloon, Tesla, Skeleton Army, Prince, Arrows",
          "Deck 1001 — 8/8 carte mappate<br>Valkyrie, Musketeer, Goblin Gang, Hog Rider, Electro Wizard, Mini P.E.K.K.A, Zap, Inferno Dragon",
          "Deck 1004 — 8/8 carte mappate<br>Witch, Mega Knight, Bandit, The Log, Goblin Barrel, Electro Wizard, Musketeer, Skeleton Army",
          "Deck 1019 — 8/8 carte mappate<br>Mega Knight, Valkyrie, Firecracker, Balloon, Witch, Freeze, Wizard, Inferno Tower",
          "Deck 1020 — 8/8 carte mappate<br>Valkyrie, Witch, Minion Horde, Zap, Skeleton Army, Giant Skeleton, Poison, Hog Rider",
          "Deck 1035 — 8/8 carte mappate<br>Firecracker, Mega Knight, Giant Skeleton, Witch, Bandit, Goblin Barrel, Mini P.E.K.K.A, Skeleton Army",
          "Deck 1048 — 8/8 carte mappate<br>Mega Knight, Lumberjack, Balloon, Firecracker, Electro Wizard, Inferno Tower, Golden Knight, Bats",
          "Deck 1075 — 8/8 carte mappate<br>Mega Knight, Wizard, Mini P.E.K.K.A, Knight, Firecracker, Mirror, Zap, Valkyrie",
          "Deck 1076 — 8/8 carte mappate<br>Firecracker, P.E.K.K.A, Balloon, Minion Horde, The Log, Inferno Tower, Mega Knight, Electro Wizard",
          "Deck 1081 — 8/8 carte mappate<br>Mega Knight, Firecracker, Bomb Tower, Skeleton Army, Zap, Ram Rider, Valkyrie, Magic Archer",
          "Deck 1095 — 8/8 carte mappate<br>Knight, Valkyrie, Elite Barbarians, Musketeer, Zap, Skeleton Army, Inferno Tower, Electro Wizard",
          "Deck 1100 — 8/8 carte mappate<br>Valkyrie, Wizard, Bats, Bomber, Elite Barbarians, Prince, Fireball, Dart Goblin",
          "Deck 1102 — 8/8 carte mappate<br>Firecracker, Mega Knight, The Log, Ram Rider, Prince, Electro Wizard, Magic Archer, Arrows",
          "Deck 1107 — 8/8 carte mappate<br>Valkyrie, Royal Recruits, Elite Barbarians, Mini P.E.K.K.A, Dart Goblin, Magic Archer, Rage, Goblin Gang",
          "Deck 1115 — 8/8 carte mappate<br>Valkyrie, Mega Knight, Wizard, Goblin Gang, Arrows, Inferno Tower, Witch, Minions",
          "Deck 1130 — 8/8 carte mappate<br>Witch, Barbarians, Firecracker, Hog Rider, Valkyrie, Boss Bandit, Electro Wizard, Arrows",
          "Deck 1143 — 8/8 carte mappate<br>Mega Knight, Witch, Dart Goblin, Minion Horde, Zap, Inferno Dragon, The Log, Royal Recruits",
          "Deck 1188 — 8/8 carte mappate<br>Bomber, Wizard, Ram Rider, Goblin Barrel, Prince, Rocket, Skeleton Army, Minion Horde",
          "Deck 1195 — 8/8 carte mappate<br>Mega Knight, Firecracker, Hog Rider, Balloon, Goblin Gang, Minion Horde, Skeleton Barrel, Mini P.E.K.K.A",
          "Deck 1196 — 8/8 carte mappate<br>Wizard, Goblin Barrel, Goblin Gang, Fireball, Minion Horde, Furnace, Bandit, Skeleton Army",
          "Deck 1208 — 8/8 carte mappate<br>Mega Knight, Firecracker, Zap, Bats, Inferno Dragon, Goblin Gang, Prince, Elite Barbarians",
          "Deck 1220 — 8/8 carte mappate<br>Mega Knight, Valkyrie, Minions, Guards, Dart Goblin, Arrows, Zap, Goblin Barrel",
          "Deck 1249 — 8/8 carte mappate<br>Valkyrie, Firecracker, Giant Skeleton, Hog Rider, Skeleton Army, Minion Horde, Wizard, Balloon",
          "Deck 1258 — 8/8 carte mappate<br>Firecracker, Skeleton Barrel, Goblin Gang, Giant Skeleton, Mirror, Electro Wizard, Clone, Arrows",
          "Deck 1260 — 8/8 carte mappate<br>Wizard, Mega Knight, Bats, Skeleton Army, Hog Rider, Lumberjack, Electro Wizard, The Log",
          "Deck 1272 — 8/8 carte mappate<br>Mega Knight, Goblin Barrel, Balloon, Magic Archer, Mirror, Mini P.E.K.K.A, Cannon, Zap",
          "Deck 1282 — 8/8 carte mappate<br>Witch, Lumberjack, Valkyrie, Arrows, Musketeer, Skeleton Barrel, Skeleton Army, Goblin Barrel",
          "Deck 1286 — 8/8 carte mappate<br>Executioner, Mega Knight, Goblin Gang, Skeleton Army, Hog Rider, Arrows, Minions, Fireball",
          "Deck 1290 — 8/8 carte mappate<br>Firecracker, Witch, Boss Bandit, Valkyrie, Bats, Arrows, Goblin Gang, Mega Knight",
          "Deck 1297 — 8/8 carte mappate<br>Mega Knight, Valkyrie, Magic Archer, Electro Wizard, Witch, Hog Rider, Mini P.E.K.K.A, Arrows",
          "Deck 1300 — 8/8 carte mappate<br>Mega Knight, Valkyrie, Ram Rider, Inferno Dragon, Ice Spirit, Wizard, Zap, Mini P.E.K.K.A",
          "Deck 1326 — 8/8 carte mappate<br>Valkyrie, Witch, Goblin Gang, Dart Goblin, Skeleton Army, Elite Barbarians, Fireball, Freeze",
          "Deck 1331 — 8/8 carte mappate<br>Goblin Barrel, Wizard, Electro Wizard, Bandit, Hog Rider, Goblin Gang, Arrows, Mega Knight",
          "Deck 1342 — 8/8 carte mappate<br>Witch, Goblin Barrel, Prince, Freeze, Goblin Gang, Skeleton Army, Minion Horde, Rocket",
          "Deck 1343 — 8/8 carte mappate<br>Valkyrie, Firecracker, Arrows, Zap, Lumberjack, Bats, Boss Bandit, Mini P.E.K.K.A",
          "Deck 1366 — 8/8 carte mappate<br>Firecracker, Lumberjack, Balloon, Fireball, Arrows, Mini P.E.K.K.A, Goblin Gang, Inferno Tower",
          "Deck 1372 — 8/8 carte mappate<br>Lumberjack, P.E.K.K.A, Balloon, Bats, Firecracker, Goblin Gang, Arrows, Zap",
          "Deck 1377 — 8/8 carte mappate<br>Battle Ram, Valkyrie, Executioner, Firecracker, Mini P.E.K.K.A, Bats, Arrows, Goblin Gang",
          "Deck 1418 — 8/8 carte mappate<br>Mega Knight, Witch, Arrows, Mirror, Electro Wizard, Firecracker, Lumberjack, Princess",
          "Deck 1423 — 8/8 carte mappate<br>Mega Knight, Witch, Inferno Tower, Fireball, Magic Archer, Archers, Zap, Ram Rider",
          "Deck 1433 — 8/8 carte mappate<br>P.E.K.K.A, Valkyrie, Rage, Electro Wizard, Goblin Gang, Dart Goblin, Mini P.E.K.K.A, Zap",
          "Deck 1438 — 8/8 carte mappate<br>Mega Knight, Wizard, Fireball, Skeleton Barrel, Mini P.E.K.K.A, Bats, The Log, Zap",
          "Deck 1451 — 8/8 carte mappate<br>Mega Knight, Inferno Dragon, Arrows, Firecracker, Zap, Electro Wizard, Goblin Barrel, Skeleton Army",
          "Deck 1460 — 8/8 carte mappate<br>Mega Knight, Musketeer, Inferno Dragon, Prince, Princess, Skeleton Army, Arrows, Electro Wizard",
          "Deck 1478 — 8/8 carte mappate<br>Wizard, Valkyrie, Elixir Golem, Lightning, Electro Spirit, Goblin Gang, Arrows, Inferno Tower",
          "Deck 1482 — 8/8 carte mappate<br>Barbarians, Zap, Hog Rider, Musketeer, Minion Horde, Spear Goblins, Freeze, Mini P.E.K.K.A",
          "Deck 1490 — 8/8 carte mappate<br>Mega Knight, Witch, Skeleton Army, Firecracker, Valkyrie, Dart Goblin, Sparky, Goblin Barrel",
          "Deck 1494 — 8/8 carte mappate<br>Wizard, Valkyrie, Goblin Gang, Skeleton Army, Arrows, Dart Goblin, Electro Wizard, Golem",
          "Deck 1513 — 8/8 carte mappate<br>Wizard, Mega Knight, Goblin Barrel, Witch, Rocket, Minions, Prince, Skeleton Army",
          "Deck 1517 — 8/8 carte mappate<br>Valkyrie, Mega Knight, Wizard, Rocket, Witch, Inferno Tower, Poison, Sparky",
          "Deck 1521 — 8/8 carte mappate<br>Mega Knight, Wizard, Goblin Barrel, Ram Rider, Minion Horde, Fireball, Arrows, Skeleton Army",
          "Deck 1534 — 8/8 carte mappate<br>Firecracker, Mega Knight, Giant Skeleton, Magic Archer, Skeleton Army, Clone, Bats, Skeleton Barrel",
          "Deck 1538 — 8/8 carte mappate<br>Mega Knight, Knight, Balloon, Zap, Bats, Goblin Gang, Inferno Dragon, Miner",
          "Deck 1555 — 8/8 carte mappate<br>Mega Knight, Wizard, Lightning, Arrows, Hog Rider, Mini P.E.K.K.A, Inferno Dragon, Princess",
          "Deck 1565 — 8/8 carte mappate<br>Valkyrie, Mega Knight, Goblin Barrel, Inferno Tower, Witch, Fireball, Arrows, Wizard",
          "Deck 1568 — 8/8 carte mappate<br>Firecracker, Valkyrie, Electro Wizard, Magic Archer, Inferno Tower, Giant Skeleton, Sparky, Arrows",
          "Deck 1579 — 8/8 carte mappate<br>Witch, Valkyrie, Bats, Inferno Tower, Dart Goblin, Bomber, Lightning, Boss Bandit",
          "Deck 1603 — 8/8 carte mappate<br>Inferno Dragon, Mega Knight, Arrows, Prince, Inferno Tower, Skeleton Army, Hog Rider, Electro Wizard",
          "Deck 1604 — 8/8 carte mappate<br>Witch, Mega Knight, Freeze, Skeleton Army, Dart Goblin, Inferno Dragon, Hog Rider, Princess",
          "Deck 1605 — 8/8 carte mappate<br>Mega Knight, Valkyrie, Rage, Skeleton Barrel, Goblin Barrel, Mini P.E.K.K.A, Miner, Bats",
          "Deck 1612 — 8/8 carte mappate<br>Sparky, Valkyrie, Goblin Gang, Bats, Electro Wizard, Goblin Barrel, Skeleton Army, Arrows",
          "Deck 1623 — 8/8 carte mappate<br>Executioner, Mega Knight, Zap, Elite Barbarians, Knight, Electro Wizard, Bats, Dart Goblin",
          "Deck 1631 — 8/8 carte mappate<br>Royal Giant, Executioner, Wizard, Mirror, Hog Rider, Mega Knight, Inferno Tower, Skeleton Army",
          "Deck 1633 — 8/8 carte mappate<br>Witch, Mega Knight, Fireball, Wizard, Inferno Tower, Royal Hogs, Electro Giant, Freeze",
          "Deck 1659 — 8/8 carte mappate<br>P.E.K.K.A, Firecracker, Witch, Arrows, Zap, Prince, Dart Goblin, The Log",
          "Deck 1669 — 8/8 carte mappate<br>Mega Knight, Witch, Royal Hogs, Arrows, Freeze, Inferno Tower, Wizard, Wall Breakers",
          "Deck 1670 — 8/8 carte mappate<br>Firecracker, Mega Knight, Wizard, Goblin Barrel, Furnace, Bats, Skeleton Army, Prince",
          "Deck 1672 — 8/8 carte mappate<br>Valkyrie, Mega Knight, Wizard, Witch, Vines, Rocket, Inferno Tower, Balloon",
          "Deck 1679 — 8/8 carte mappate<br>Mega Knight, Valkyrie, Arrows, Goblin Giant, Goblin Gang, Witch, Princess, Bats",
          "Deck 1691 — 8/8 carte mappate<br>Mini P.E.K.K.A, Lightning, Inferno Tower, Wizard, Minions, Arrows, Hog Rider, Valkyrie",
          "Deck 1696 — 8/8 carte mappate<br>Witch, Mega Knight, Valkyrie, Ram Rider, Wizard, Balloon, Boss Bandit, Inferno Tower",
          "Deck 1716 — 8/8 carte mappate<br>Skeleton Army, Inferno Tower, Elite Barbarians, Sparky, Wizard, Mega Knight, Rocket, Arrows",
          "Deck 1718 — 8/8 carte mappate<br>Zap, Firecracker, Princess, Rocket, Minion Horde, Prince, P.E.K.K.A, Electro Wizard",
          "Deck 1730 — 8/8 carte mappate<br>Wizard, Mega Knight, Zap, Balloon, Witch, Mini P.E.K.K.A, Hog Rider, Cannon",
          "Deck 1734 — 8/8 carte mappate<br>Mega Knight, Witch, Hog Rider, Mini P.E.K.K.A, Electro Wizard, Cannon, Lightning, Arrows",
          "Deck 1767 — 8/8 carte mappate<br>Valkyrie, Mega Knight, Bats, Witch, Arrows, Mini P.E.K.K.A, Goblin Gang, Zap",
          "Deck 1768 — 8/8 carte mappate<br>Witch, Mega Knight, Tesla, Arrows, Knight, Electro Wizard, Skeleton Army, Mini P.E.K.K.A",
          "Deck 1781 — 8/8 carte mappate<br>Mega Knight, Skeleton Barrel, Spear Goblins, Miner, Inferno Dragon, Goblin Gang, Bats, Zap",
          "Deck 1785 — 8/8 carte mappate<br>Firecracker, Mega Knight, Elite Barbarians, Mini P.E.K.K.A, Prince, Wizard, Skeleton Army, The Log",
          "Deck 1790 — 8/8 carte mappate<br>Fireball, Goblin Gang, Mirror, Skeleton Army, Elite Barbarians, Fire Spirit, Mini P.E.K.K.A, Minion Horde",
          "Deck 1847 — 8/8 carte mappate<br>Valkyrie, Wizard, Royal Hogs, Minion Horde, Fireball, Skeleton Army, Hog Rider, Mini P.E.K.K.A",
          "Deck 1849 — 8/8 carte mappate<br>Mega Knight, Valkyrie, Inferno Dragon, Fireball, Skeleton Army, Knight, Goblin Barrel, Wizard",
          "Deck 1858 — 8/8 carte mappate<br>Mega Knight, Witch, Arrows, Dart Goblin, Prince, Firecracker, Valkyrie, Electro Wizard",
          "Deck 1865 — 8/8 carte mappate<br>Mega Knight, Executioner, Zap, Wizard, Lumberjack, Fire Spirit, Minion Horde, Hog Rider",
          "Deck 1876 — 8/8 carte mappate<br>Mega Knight, Valkyrie, Skeleton Barrel, Firecracker, Bats, Electro Wizard, Skeleton Army, Arrows",
          "Deck 1881 — 8/8 carte mappate<br>Witch, Valkyrie, Fireball, Arrows, P.E.K.K.A, Electro Wizard, Hog Rider, Magic Archer",
          "Deck 1898 — 8/8 carte mappate<br>Mega Knight, P.E.K.K.A, Witch, Wizard, Valkyrie, Musketeer, Dart Goblin, Mini P.E.K.K.A",
          "Deck 1914 — 8/8 carte mappate<br>Valkyrie, Witch, The Log, Magic Archer, Mini P.E.K.K.A, Bats, Balloon, Zap",
          "Deck 1931 — 8/8 carte mappate<br>Wizard, Goblin Barrel, Rocket, Freeze, Skeleton Army, Minion Horde, P.E.K.K.A, Valkyrie",
          "Deck 1955 — 8/8 carte mappate<br>Witch, Wizard, Arrows, Spear Goblins, Inferno Dragon, Golden Knight, Ram Rider, Goblin Barrel",
          "Deck 1971 — 8/8 carte mappate<br>Mega Knight, Firecracker, P.E.K.K.A, Electro Wizard, Goblin Barrel, Arrows, Bats, Bomber",
          "Deck 2002 — 8/8 carte mappate<br>Firecracker, Mega Knight, Mirror, Wizard, Zap, Valkyrie, Goblin Gang, Hog Rider",
          "Deck 2008 — 8/8 carte mappate<br>Baby Dragon, Mega Knight, Fireball, Valkyrie, Barbarians, Dart Goblin, Mirror, Inferno Tower",
          "Deck 2016 — 8/8 carte mappate<br>Mega Knight, Wizard, Valkyrie, Knight, Goblin Barrel, Mini P.E.K.K.A, Witch, Dark Prince",
          "Deck 2025 — 8/8 carte mappate<br>Mega Knight, Witch, Prince, Spear Goblins, Inferno Tower, Arrows, Fireball, Skeleton Army",
          "Deck 2053 — 8/8 carte mappate<br>Skeleton Barrel, Mega Knight, Firecracker, Arrows, Electro Wizard, Mirror, Dart Goblin, Bandit",
          "Deck 2061 — 8/8 carte mappate<br>Mega Knight, Witch, Princess, Rage, Skeleton Army, Arrows, The Log, Minion Horde",
          "Deck 2103 — 8/8 carte mappate<br>Mega Knight, Lumberjack, Balloon, Mini P.E.K.K.A, Inferno Tower, Arrows, Inferno Dragon, Ice Spirit",
          "Deck 2105 — 8/8 carte mappate<br>Zap, Mega Knight, Inferno Tower, Mirror, Freeze, Minion Horde, Skeleton Army, Fireball",
          "Deck 2110 — 8/8 carte mappate<br>Firecracker, Valkyrie, Arrows, The Log, Inferno Tower, Baby Dragon, Prince, Wizard",
          "Deck 2124 — 8/8 carte mappate<br>Wizard, Goblin Barrel, Mirror, Minion Horde, Hog Rider, Elite Barbarians, Fireball, Skeleton Army",
          "Deck 2130 — 8/8 carte mappate<br>Mega Knight, Valkyrie, Bats, Minions, Arrows, Wizard, Prince, Goblin Gang",
          "Deck 2139 — 8/8 carte mappate<br>Mega Knight, Executioner, Balloon, Goblin Gang, Goblin Barrel, Firecracker, Skeleton Army, Freeze",
          "Deck 2167 — 8/8 carte mappate<br>Knight, Bats, Mega Knight, Fireball, Baby Dragon, Skeleton Army, Bandit, Minion Horde",
          "Deck 2176 — 8/8 carte mappate<br>Wizard, Skeletons, Giant Skeleton, Inferno Tower, Prince, Magic Archer, Sparky, Arrows",
          "Deck 2195 — 8/8 carte mappate<br>Witch, Valkyrie, Elixir Golem, Mini P.E.K.K.A, Wizard, Firecracker, Hog Rider, Goblin Gang",
          "Deck 2197 — 8/8 carte mappate<br>Valkyrie, Mega Knight, Lumberjack, Wizard, Hog Rider, Magic Archer, Baby Dragon, Goblin Gang",
          "Deck 2224 — 8/8 carte mappate<br>Wizard, Valkyrie, Minions, Inferno Tower, Arrows, Giant Skeleton, Goblin Gang, Mini P.E.K.K.A",
          "Deck 2241 — 8/8 carte mappate<br>Mega Knight, Valkyrie, Lightning, Mini P.E.K.K.A, Witch, Zap, Firecracker, Hog Rider",
          "Deck 2248 — 8/8 carte mappate<br>Mega Knight, Wizard, Witch, Boss Bandit, Valkyrie, Lightning, Goblin Gang, Arrows",
          "Deck 2261 — 8/8 carte mappate<br>Mega Knight, Skeleton Barrel, Bats, Inferno Dragon, Spear Goblins, Goblin Gang, Arrows, Miner",
          "Deck 2264 — 8/8 carte mappate<br>Firecracker, Valkyrie, Mini P.E.K.K.A, Zap, Hog Rider, Inferno Dragon, Electro Wizard, Arrows",
          "Deck 2291 — 8/8 carte mappate<br>Wizard, Valkyrie, Rocket, Prince, Balloon, Skeleton Army, Minion Horde, Furnace",
          "Deck 2327 — 8/8 carte mappate<br>Mega Knight, Wizard, Wall Breakers, Arrows, Goblin Gang, Bandit, Lightning, Prince",
          "Deck 2351 — 8/8 carte mappate<br>Mega Knight, Skeleton Barrel, Miner, Zap, Bats, Goblin Gang, Spear Goblins, Inferno Dragon",
          "Deck 2356 — 8/8 carte mappate<br>Skeleton Barrel, Valkyrie, Rage, Hog Rider, Prince, Mini P.E.K.K.A, Balloon, Firecracker",
          "Deck 2361 — 8/8 carte mappate<br>Witch, Mega Knight, Inferno Tower, Prince, Firecracker, Arrows, Mini P.E.K.K.A, Goblin Gang",
          "Deck 2368 — 8/8 carte mappate<br>Zap, Firecracker, Goblin Gang, Electro Wizard, Bandit, Inferno Tower, Hog Rider, Skeleton Army",
          "Deck 2388 — 8/8 carte mappate<br>Firecracker, Mega Knight, Fireball, Barbarians, Minion Horde, Executioner, Goblin Gang, Hog Rider",
          "Deck 2419 — 8/8 carte mappate<br>Mega Knight, Lumberjack, Balloon, Inferno Tower, Valkyrie, Skeleton Army, Firecracker, Arrows",
          "Deck 2425 — 8/8 carte mappate<br>Wizard, Valkyrie, Fireball, Giant Skeleton, Freeze, Balloon, Inferno Tower, Skeleton Army",
          "Deck 2435 — 8/8 carte mappate<br>Valkyrie, Mega Knight, Firecracker, Bandit, Hog Rider, Barbarians, Bats, Executioner",
          "Deck 2444 — 8/8 carte mappate<br>Valkyrie, Mega Knight, Zap, Firecracker, Mini P.E.K.K.A, Bats, Skeleton Army, Arrows"
         ],
         "marker": {
          "color": "rgb(228,26,28)",
          "size": 6
         },
         "mode": "markers",
         "name": "Cluster 9",
         "text": [
          "Deck 3",
          "Deck 18",
          "Deck 20",
          "Deck 24",
          "Deck 36",
          "Deck 45",
          "Deck 54",
          "Deck 60",
          "Deck 67",
          "Deck 97",
          "Deck 99",
          "Deck 112",
          "Deck 120",
          "Deck 122",
          "Deck 147",
          "Deck 157",
          "Deck 187",
          "Deck 195",
          "Deck 205",
          "Deck 214",
          "Deck 226",
          "Deck 257",
          "Deck 265",
          "Deck 277",
          "Deck 286",
          "Deck 295",
          "Deck 305",
          "Deck 328",
          "Deck 342",
          "Deck 375",
          "Deck 383",
          "Deck 415",
          "Deck 425",
          "Deck 426",
          "Deck 432",
          "Deck 443",
          "Deck 445",
          "Deck 450",
          "Deck 455",
          "Deck 457",
          "Deck 472",
          "Deck 475",
          "Deck 513",
          "Deck 521",
          "Deck 525",
          "Deck 531",
          "Deck 554",
          "Deck 564",
          "Deck 565",
          "Deck 569",
          "Deck 600",
          "Deck 609",
          "Deck 621",
          "Deck 722",
          "Deck 730",
          "Deck 732",
          "Deck 738",
          "Deck 749",
          "Deck 763",
          "Deck 779",
          "Deck 783",
          "Deck 793",
          "Deck 794",
          "Deck 804",
          "Deck 808",
          "Deck 810",
          "Deck 821",
          "Deck 832",
          "Deck 836",
          "Deck 854",
          "Deck 863",
          "Deck 865",
          "Deck 872",
          "Deck 885",
          "Deck 893",
          "Deck 897",
          "Deck 904",
          "Deck 910",
          "Deck 916",
          "Deck 917",
          "Deck 925",
          "Deck 933",
          "Deck 937",
          "Deck 939",
          "Deck 954",
          "Deck 975",
          "Deck 981",
          "Deck 983",
          "Deck 994",
          "Deck 995",
          "Deck 1001",
          "Deck 1004",
          "Deck 1019",
          "Deck 1020",
          "Deck 1035",
          "Deck 1048",
          "Deck 1075",
          "Deck 1076",
          "Deck 1081",
          "Deck 1095",
          "Deck 1100",
          "Deck 1102",
          "Deck 1107",
          "Deck 1115",
          "Deck 1130",
          "Deck 1143",
          "Deck 1188",
          "Deck 1195",
          "Deck 1196",
          "Deck 1208",
          "Deck 1220",
          "Deck 1249",
          "Deck 1258",
          "Deck 1260",
          "Deck 1272",
          "Deck 1282",
          "Deck 1286",
          "Deck 1290",
          "Deck 1297",
          "Deck 1300",
          "Deck 1326",
          "Deck 1331",
          "Deck 1342",
          "Deck 1343",
          "Deck 1366",
          "Deck 1372",
          "Deck 1377",
          "Deck 1418",
          "Deck 1423",
          "Deck 1433",
          "Deck 1438",
          "Deck 1451",
          "Deck 1460",
          "Deck 1478",
          "Deck 1482",
          "Deck 1490",
          "Deck 1494",
          "Deck 1513",
          "Deck 1517",
          "Deck 1521",
          "Deck 1534",
          "Deck 1538",
          "Deck 1555",
          "Deck 1565",
          "Deck 1568",
          "Deck 1579",
          "Deck 1603",
          "Deck 1604",
          "Deck 1605",
          "Deck 1612",
          "Deck 1623",
          "Deck 1631",
          "Deck 1633",
          "Deck 1659",
          "Deck 1669",
          "Deck 1670",
          "Deck 1672",
          "Deck 1679",
          "Deck 1691",
          "Deck 1696",
          "Deck 1716",
          "Deck 1718",
          "Deck 1730",
          "Deck 1734",
          "Deck 1767",
          "Deck 1768",
          "Deck 1781",
          "Deck 1785",
          "Deck 1790",
          "Deck 1847",
          "Deck 1849",
          "Deck 1858",
          "Deck 1865",
          "Deck 1876",
          "Deck 1881",
          "Deck 1898",
          "Deck 1914",
          "Deck 1931",
          "Deck 1955",
          "Deck 1971",
          "Deck 2002",
          "Deck 2008",
          "Deck 2016",
          "Deck 2025",
          "Deck 2053",
          "Deck 2061",
          "Deck 2103",
          "Deck 2105",
          "Deck 2110",
          "Deck 2124",
          "Deck 2130",
          "Deck 2139",
          "Deck 2167",
          "Deck 2176",
          "Deck 2195",
          "Deck 2197",
          "Deck 2224",
          "Deck 2241",
          "Deck 2248",
          "Deck 2261",
          "Deck 2264",
          "Deck 2291",
          "Deck 2327",
          "Deck 2351",
          "Deck 2356",
          "Deck 2361",
          "Deck 2368",
          "Deck 2388",
          "Deck 2419",
          "Deck 2425",
          "Deck 2435",
          "Deck 2444"
         ],
         "type": "scatter3d",
         "x": {
          "bdata": "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",
          "dtype": "f8"
         },
         "y": {
          "bdata": "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",
          "dtype": "f8"
         },
         "z": {
          "bdata": "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",
          "dtype": "f8"
         }
        },
        {
         "hoverinfo": "text",
         "hovertext": [
          "Deck 8 — 8/8 carte mappate<br>Skeletons, Ice Spirit, The Log, Ice Golem, Hog Rider, Musketeer, Fireball, Cannon",
          "Deck 38 — 8/8 carte mappate<br>Musketeer, Skeletons, Cannon, Ice Golem, Hog Rider, The Log, Ice Spirit, Fireball",
          "Deck 41 — 8/8 carte mappate<br>Firecracker, Skeletons, Earthquake, Hog Rider, Mighty Miner, Ice Spirit, The Log, Cannon",
          "Deck 61 — 8/8 carte mappate<br>Furnace, Tesla, Earthquake, The Log, Ice Spirit, Hog Rider, Valkyrie, Skeletons",
          "Deck 71 — 8/8 carte mappate<br>Valkyrie, Firecracker, Earthquake, Hog Rider, Skeletons, Ice Spirit, Tesla, The Log",
          "Deck 74 — 8/8 carte mappate<br>Firecracker, Hog Rider, Earthquake, Fire Spirit, Skeletons, Tesla, Valkyrie, The Log",
          "Deck 96 — 8/8 carte mappate<br>Ice Spirit, Cannon, Musketeer, Skeletons, Ice Golem, Fireball, The Log, Hog Rider",
          "Deck 110 — 8/8 carte mappate<br>Knight, Firecracker, Skeletons, Earthquake, Hog Rider, Cannon, Barbarian Barrel, Ice Spirit",
          "Deck 132 — 8/8 carte mappate<br>Skeletons, Ice Spirit, Musketeer, Cannon, Hog Rider, The Log, Ice Golem, Fireball",
          "Deck 135 — 8/8 carte mappate<br>Cannon, Skeletons, Hog Rider, Musketeer, Ice Golem, The Log, Fireball, Ice Spirit",
          "Deck 167 — 8/8 carte mappate<br>Firecracker, Tesla, Hog Rider, Earthquake, Knight, The Log, Royal Delivery, Electro Spirit",
          "Deck 184 — 8/8 carte mappate<br>Musketeer, Skeletons, Hog Rider, The Log, Cannon, Ice Spirit, Fireball, Knight",
          "Deck 212 — 8/8 carte mappate<br>Musketeer, Hog Rider, Fireball, Ice Golem, Cannon, Ice Spirit, Skeletons, The Log",
          "Deck 229 — 8/8 carte mappate<br>Firecracker, Skeletons, Bomb Tower, Hog Rider, Ice Spirit, The Log, Mighty Miner, Earthquake",
          "Deck 252 — 8/8 carte mappate<br>Firecracker, Tesla, The Log, Ice Spirit, Hog Rider, Earthquake, Skeletons, Mighty Miner",
          "Deck 253 — 8/8 carte mappate<br>Firecracker, Cannon, The Log, Ice Spirit, Hog Rider, Earthquake, Knight, Guards",
          "Deck 268 — 8/8 carte mappate<br>Cannon, Firecracker, Knight, The Log, Skeletons, Fireball, Ice Spirit, Hog Rider",
          "Deck 270 — 8/8 carte mappate<br>Valkyrie, Firecracker, The Log, Hog Rider, Cannon, Earthquake, Ice Spirit, Skeletons",
          "Deck 283 — 8/8 carte mappate<br>Firecracker, Cannon, Hog Rider, Earthquake, Ice Spirit, Knight, Guards, The Log",
          "Deck 337 — 8/8 carte mappate<br>Firecracker, Valkyrie, Skeletons, The Log, Earthquake, Tesla, Hog Rider, Royal Delivery",
          "Deck 346 — 8/8 carte mappate<br>Firecracker, Valkyrie, Cannon, Electro Spirit, The Log, Ice Spirit, Skeletons, Goblin Barrel",
          "Deck 374 — 8/8 carte mappate<br>Skeletons, Musketeer, Fireball, Cannon, Ice Golem, Hog Rider, The Log, Ice Spirit",
          "Deck 388 — 8/8 carte mappate<br>Ice Spirit, Cannon, The Log, Skeletons, Fireball, Hog Rider, Musketeer, Ice Golem",
          "Deck 420 — 8/8 carte mappate<br>Cannon, Firecracker, Mighty Miner, Hog Rider, The Log, Skeletons, Ice Spirit, Earthquake",
          "Deck 438 — 8/8 carte mappate<br>Firecracker, Cannon, Hog Rider, Mighty Miner, Ice Spirit, Skeletons, Earthquake, The Log",
          "Deck 494 — 8/8 carte mappate<br>Cannon, Firecracker, Hog Rider, Earthquake, Skeletons, Ice Spirit, The Log, Mighty Miner",
          "Deck 505 — 8/8 carte mappate<br>Firecracker, Tesla, Goblins, The Log, Earthquake, Hog Rider, Mighty Miner, Ice Spirit",
          "Deck 533 — 8/8 carte mappate<br>Ice Spirit, Cannon, Hog Rider, Ice Golem, The Log, Musketeer, Fireball, Skeletons",
          "Deck 597 — 8/8 carte mappate<br>Firecracker, Valkyrie, The Log, Hog Rider, Earthquake, Skeletons, Tesla, Ice Spirit",
          "Deck 613 — 8/8 carte mappate<br>Firecracker, Cannon, Mighty Miner, Hog Rider, The Log, Earthquake, Ice Spirit, Skeletons",
          "Deck 683 — 8/8 carte mappate<br>Firecracker, Cannon, Hog Rider, The Log, Skeletons, Earthquake, Mighty Miner, Ice Spirit",
          "Deck 702 — 8/8 carte mappate<br>Firecracker, Cannon, Hog Rider, Mighty Miner, The Log, Earthquake, Skeletons, Electro Spirit",
          "Deck 724 — 8/8 carte mappate<br>Ice Spirit, Cannon, Hog Rider, Musketeer, Fireball, The Log, Skeletons, Ice Golem",
          "Deck 739 — 8/8 carte mappate<br>Firecracker, Knight, Goblins, Electro Spirit, Hog Rider, The Log, Tesla, Earthquake",
          "Deck 753 — 8/8 carte mappate<br>Firecracker, Valkyrie, The Log, Hog Rider, Tesla, Earthquake, Ice Golem, Skeletons",
          "Deck 784 — 8/8 carte mappate<br>Firecracker, Knight, Skeletons, Cannon, Ice Spirit, Fireball, Hog Rider, The Log",
          "Deck 802 — 8/8 carte mappate<br>Tesla, Knight, Hog Rider, The Log, Firecracker, Royal Delivery, Skeletons, Earthquake",
          "Deck 829 — 8/8 carte mappate<br>Musketeer, Cannon, Hog Rider, Fireball, Ice Spirit, Skeletons, Ice Golem, The Log",
          "Deck 879 — 8/8 carte mappate<br>Firecracker, Knight, Ice Spirit, Skeletons, The Log, Earthquake, Cannon, Hog Rider",
          "Deck 888 — 8/8 carte mappate<br>Cannon, Skeletons, Ice Spirit, Goblin Barrel, Rocket, The Log, Princess, Mighty Miner",
          "Deck 919 — 8/8 carte mappate<br>Dart Goblin, Cannon, Knight, Princess, Skeletons, The Log, Goblin Barrel, Ice Spirit",
          "Deck 951 — 8/8 carte mappate<br>Cannon, Ice Spirit, Musketeer, Hog Rider, The Log, Skeletons, Fireball, Ice Golem",
          "Deck 979 — 8/8 carte mappate<br>Musketeer, Cannon, Ice Golem, Fireball, Ice Spirit, Skeletons, The Log, Hog Rider",
          "Deck 1040 — 8/8 carte mappate<br>Firecracker, Valkyrie, The Log, Skeletons, Inferno Tower, Ice Spirit, Hog Rider, Earthquake",
          "Deck 1064 — 8/8 carte mappate<br>Firecracker, Knight, Tesla, Hog Rider, Ice Spirit, Skeletons, Earthquake, The Log",
          "Deck 1070 — 8/8 carte mappate<br>Firecracker, Ice Spirit, Bomb Tower, Hog Rider, Earthquake, The Log, Mighty Miner, Skeletons",
          "Deck 1072 — 8/8 carte mappate<br>Dart Goblin, Valkyrie, Rocket, Hog Rider, The Log, Cannon, Skeletons, Ice Spirit",
          "Deck 1094 — 8/8 carte mappate<br>Firecracker, Valkyrie, The Log, Ice Spirit, Hog Rider, Earthquake, Cannon, Skeletons",
          "Deck 1112 — 8/8 carte mappate<br>Firecracker, Ice Spirit, Hog Rider, Earthquake, Knight, Skeletons, The Log, Tesla",
          "Deck 1160 — 8/8 carte mappate<br>Skeletons, Cannon, Musketeer, Ice Spirit, Hog Rider, Ice Golem, The Log, Fireball",
          "Deck 1221 — 8/8 carte mappate<br>Firecracker, Valkyrie, Cannon, Hog Rider, Earthquake, The Log, Ice Spirit, Skeletons",
          "Deck 1273 — 8/8 carte mappate<br>Firecracker, Skeletons, The Log, Bomb Tower, Mighty Miner, Goblins, Hog Rider, Earthquake",
          "Deck 1313 — 8/8 carte mappate<br>Tesla, Firecracker, Ice Spirit, Earthquake, Hog Rider, The Log, Goblins, Knight",
          "Deck 1349 — 8/8 carte mappate<br>Ice Spirit, Skeletons, Hog Rider, Fireball, Musketeer, Ice Golem, Cannon, The Log",
          "Deck 1389 — 8/8 carte mappate<br>Skeletons, Ice Spirit, Cannon, Hog Rider, Musketeer, Fireball, Knight, Ice Golem",
          "Deck 1397 — 8/8 carte mappate<br>Firecracker, Valkyrie, Hog Rider, Ice Spirit, Tesla, Earthquake, The Log, Skeletons",
          "Deck 1403 — 8/8 carte mappate<br>Tesla, Firecracker, The Log, Earthquake, Knight, Hog Rider, Skeletons, Ice Spirit",
          "Deck 1414 — 8/8 carte mappate<br>Musketeer, Cannon, Hog Rider, Skeletons, Fireball, The Log, Ice Spirit, Ice Golem",
          "Deck 1426 — 8/8 carte mappate<br>Cannon, Dart Goblin, Royal Delivery, The Log, Earthquake, Mighty Miner, Skeletons, Hog Rider",
          "Deck 1489 — 8/8 carte mappate<br>Firecracker, Cannon, Earthquake, Skeletons, Hog Rider, Mighty Miner, Electro Spirit, The Log",
          "Deck 1504 — 8/8 carte mappate<br>Ice Spirit, Skeletons, Musketeer, The Log, Ice Golem, Hog Rider, Cannon, Fireball",
          "Deck 1526 — 8/8 carte mappate<br>Tesla, Knight, Hog Rider, Furnace, Arrows, Earthquake, Ice Spirit, Skeletons",
          "Deck 1640 — 8/8 carte mappate<br>Firecracker, Valkyrie, Hog Rider, Tesla, Earthquake, The Log, Skeletons, Ice Spirit",
          "Deck 1654 — 8/8 carte mappate<br>Valkyrie, Firecracker, Earthquake, Hog Rider, The Log, Tesla, Ice Spirit, Skeletons",
          "Deck 1693 — 8/8 carte mappate<br>Tesla, Firecracker, Valkyrie, The Log, Electro Spirit, Skeletons, Earthquake, Hog Rider",
          "Deck 1731 — 8/8 carte mappate<br>Firecracker, Cannon, Hog Rider, The Log, Skeletons, Earthquake, Mighty Miner, Ice Spirit",
          "Deck 1757 — 8/8 carte mappate<br>Firecracker, Cannon, Goblinstein, Ice Spirit, Earthquake, Hog Rider, Skeletons, Barbarian Barrel",
          "Deck 1775 — 8/8 carte mappate<br>Firecracker, Valkyrie, Cannon, The Log, Earthquake, Hog Rider, Skeletons, Ice Spirit",
          "Deck 1786 — 8/8 carte mappate<br>Firecracker, Tesla, Ice Spirit, The Log, Hog Rider, Royal Delivery, Knight, Earthquake",
          "Deck 1792 — 8/8 carte mappate<br>Tesla, Firecracker, Skeletons, Ice Spirit, Hog Rider, Mighty Miner, The Log, Earthquake",
          "Deck 1800 — 8/8 carte mappate<br>Firecracker, Tesla, The Log, Hog Rider, Knight, Skeletons, Ice Spirit, Earthquake",
          "Deck 1816 — 8/8 carte mappate<br>Knight, Goblin Barrel, The Log, Dart Goblin, Cannon, Ice Spirit, Fire Spirit, Skeletons",
          "Deck 1851 — 8/8 carte mappate<br>Cannon, Skeletons, Hog Rider, Musketeer, Fireball, Ice Golem, Ice Spirit, The Log",
          "Deck 1911 — 8/8 carte mappate<br>Skeletons, Musketeer, Cannon, The Log, Ice Golem, Fireball, Hog Rider, Ice Spirit",
          "Deck 1947 — 8/8 carte mappate<br>Inferno Tower, Skeletons, Firecracker, Earthquake, Hog Rider, Valkyrie, Ice Spirit, The Log",
          "Deck 1974 — 8/8 carte mappate<br>Firecracker, Cannon, Skeletons, Ice Spirit, The Log, Hog Rider, Earthquake, Mighty Miner",
          "Deck 1976 — 8/8 carte mappate<br>Ice Spirit, Firecracker, Knight, Skeletons, Hog Rider, Inferno Tower, The Log, Earthquake",
          "Deck 1993 — 8/8 carte mappate<br>Mortar, Ice Spirit, Hog Rider, The Log, Skeletons, Mighty Miner, Musketeer, Fireball",
          "Deck 1994 — 8/8 carte mappate<br>Cannon, Musketeer, Skeletons, Hog Rider, Ice Golem, Ice Spirit, The Log, Fireball",
          "Deck 2058 — 8/8 carte mappate<br>Firecracker, Tesla, The Log, Earthquake, Knight, Skeletons, Hog Rider, Royal Delivery",
          "Deck 2060 — 8/8 carte mappate<br>Skeletons, Firecracker, Hog Rider, Ice Golem, Earthquake, Mini P.E.K.K.A, Ice Spirit, The Log",
          "Deck 2065 — 8/8 carte mappate<br>Firecracker, Valkyrie, Hog Rider, Tesla, The Log, Royal Delivery, Ice Spirit, Skeletons",
          "Deck 2067 — 8/8 carte mappate<br>Skeletons, Ice Spirit, Ice Golem, Fireball, Hog Rider, Musketeer, The Log, Cannon",
          "Deck 2071 — 8/8 carte mappate<br>Dart Goblin, Skeletons, Hog Rider, Knight, Ice Spirit, Cannon, The Log, Fireball",
          "Deck 2106 — 8/8 carte mappate<br>Firecracker, Valkyrie, Hog Rider, The Log, Cannon, Skeletons, Earthquake, Ice Spirit",
          "Deck 2118 — 8/8 carte mappate<br>Valkyrie, Tesla, Ice Spirit, Earthquake, The Log, Hog Rider, Firecracker, Goblin Gang",
          "Deck 2133 — 8/8 carte mappate<br>Tesla, Firecracker, Hog Rider, The Log, Knight, Earthquake, Royal Delivery, Skeletons",
          "Deck 2145 — 8/8 carte mappate<br>Skeletons, Musketeer, Ice Golem, Hog Rider, Fireball, Cannon, Ice Spirit, The Log",
          "Deck 2180 — 8/8 carte mappate<br>Firecracker, Tesla, Hog Rider, Mighty Miner, Guards, Earthquake, Electro Spirit, The Log",
          "Deck 2214 — 8/8 carte mappate<br>Skeletons, Ice Spirit, Musketeer, Fireball, Hog Rider, Ice Golem, Cannon, The Log",
          "Deck 2215 — 8/8 carte mappate<br>Tesla, Valkyrie, Fire Spirit, Goblins, Royal Delivery, Earthquake, Hog Rider, Firecracker",
          "Deck 2346 — 8/8 carte mappate<br>Goblin Barrel, Dart Goblin, Knight, Ice Spirit, Skeletons, Cannon, Fire Spirit, The Log",
          "Deck 2453 — 8/8 carte mappate<br>Skeletons, Knight, Fireball, Hog Rider, Musketeer, The Log, Ice Spirit, Cannon",
          "Deck 2470 — 8/8 carte mappate<br>Skeletons, Cannon, Hog Rider, Musketeer, Ice Golem, Ice Spirit, The Log, Fireball",
          "Deck 2471 — 8/8 carte mappate<br>Firecracker, Cannon, Ram Rider, Boss Bandit, Earthquake, Skeletons, Royal Delivery, The Log"
         ],
         "marker": {
          "color": "rgb(55,126,184)",
          "size": 6
         },
         "mode": "markers",
         "name": "Cluster 10",
         "text": [
          "Deck 8",
          "Deck 38",
          "Deck 41",
          "Deck 61",
          "Deck 71",
          "Deck 74",
          "Deck 96",
          "Deck 110",
          "Deck 132",
          "Deck 135",
          "Deck 167",
          "Deck 184",
          "Deck 212",
          "Deck 229",
          "Deck 252",
          "Deck 253",
          "Deck 268",
          "Deck 270",
          "Deck 283",
          "Deck 337",
          "Deck 346",
          "Deck 374",
          "Deck 388",
          "Deck 420",
          "Deck 438",
          "Deck 494",
          "Deck 505",
          "Deck 533",
          "Deck 597",
          "Deck 613",
          "Deck 683",
          "Deck 702",
          "Deck 724",
          "Deck 739",
          "Deck 753",
          "Deck 784",
          "Deck 802",
          "Deck 829",
          "Deck 879",
          "Deck 888",
          "Deck 919",
          "Deck 951",
          "Deck 979",
          "Deck 1040",
          "Deck 1064",
          "Deck 1070",
          "Deck 1072",
          "Deck 1094",
          "Deck 1112",
          "Deck 1160",
          "Deck 1221",
          "Deck 1273",
          "Deck 1313",
          "Deck 1349",
          "Deck 1389",
          "Deck 1397",
          "Deck 1403",
          "Deck 1414",
          "Deck 1426",
          "Deck 1489",
          "Deck 1504",
          "Deck 1526",
          "Deck 1640",
          "Deck 1654",
          "Deck 1693",
          "Deck 1731",
          "Deck 1757",
          "Deck 1775",
          "Deck 1786",
          "Deck 1792",
          "Deck 1800",
          "Deck 1816",
          "Deck 1851",
          "Deck 1911",
          "Deck 1947",
          "Deck 1974",
          "Deck 1976",
          "Deck 1993",
          "Deck 1994",
          "Deck 2058",
          "Deck 2060",
          "Deck 2065",
          "Deck 2067",
          "Deck 2071",
          "Deck 2106",
          "Deck 2118",
          "Deck 2133",
          "Deck 2145",
          "Deck 2180",
          "Deck 2214",
          "Deck 2215",
          "Deck 2346",
          "Deck 2453",
          "Deck 2470",
          "Deck 2471"
         ],
         "type": "scatter3d",
         "x": {
          "bdata": "YzsiPMrUsT9jOyI8ytSxP18IS0duX7U/zrkcM0NBsD/k/lkuV/CwP+JGExNEQ64/YzsiPMrUsT+9gV9mXUSxP2M7IjzK1LE/YjsiPMrUsT+aOMQaq0GzP8HFsvM2ArA/YjsiPMrUsT9QCMoPftWzP5P6mhW6gLQ/J6m6Vv2OsD+upWjkSguvP64MCmALz7E/J6m6Vv2OsD9E4r3Od5axP/tJO9BBNa8/YzsiPMrUsT9iOyI8ytSxP14IS0duX7U/XwhLR25ftT9fCEtHbl+1P3CilImforM/YjsiPMrUsT/j/lkuV/CwP14IS0duX7U/XwhLR25ftT9GKy6sVpO0P2I7IjzK1LE/8J+MTNECsT+C0n+KTTexP6ylaORKC68/jLgTFCRTsz9jOyI8ytSxP/fiX6W3i7M/wNShV90ktD/q/BCpRKWxP2I7IjzK1LE/YjsiPMrUsT/ENirGL1OvPyzVr3MDrbI/UAjKD37Vsz8EVZTE3HKuP64MCmALz7E/LNWvcwOtsj9jOyI8ytSxP64MCmALz7E/B1P24cQ8sj8Ifann6M6xP2M7IjzK1LE/qbC2SGvRsT/j/lkuV/CwPyzVr3MDrbI/YjsiPMrUsT+9WQug7Yi2P0crLqxWk7Q/YzsiPMrUsT83lJ4gk5WvP+P+WS5X8LA/5P5ZLlfwsD/MIT2TPySwP18IS0duX7U/lnsOpgkjsD+vDApgC8+xP7IV4bXCDbQ/k/qaFbqAtD8s1a9zA62yP+pqHFwO2LA/YjsiPMrUsT9iOyI8ytSxP8U2KsYvU68/XwhLR25ftT+r8WooRGaxP8HZl5zrPrA/YzsiPMrUsT+MuBMUJFOzP5zkd5ZMrrE/Y8W+16T8rz9iOyI8ytSxP9XAkCoECbA/rwwKYAvPsT8icV5HWmauP4y4ExQkU7M/YzsiPMrUsT+r49gr6LewP2M7IjzK1LE/9UXFFuZxsD/qahxcDtiwP8LFsvM2ArA/YzsiPMrUsT9qvgWT61KwPw==",
          "dtype": "f8"
         },
         "y": {
          "bdata": "zyqm6pmJiL/PKqbqmYmIvzsaSBtRfY+/37cWsS4ojr+BUE/jvwyVvxLiFEoU05S/zyqm6pmJiL8U5Bm26SeAv9AqpuqZiYi/zyqm6pmJiL++glZRs8SKvzetxw7atI+/zyqm6pmJiL/kW6r8JduHv6VLyxSPfpG/MD5KBo/OkL/P8GfzBdmRv/oRKFzZTJO/MD5KBo/OkL+TVDCjqaaRv8eiEs+9WpC/zyqm6pmJiL/QKqbqmYmIvzsaSBtRfY+/OxpIG1F9j787GkgbUX2Pv5sZFD26EZK/zyqm6pmJiL+BUE/jvwyVvzsaSBtRfY+/OxpIG1F9j78a6v7EkXKIv84qpuqZiYi/iU56uUAhkL9HA8pmW12Rv8/wZ/MF2ZG/bDlu+L1aj7/PKqbqmYmIvx7aLrWOU5G/AsD+yvcGlr8X40unl0+Xv84qpuqZiYi/0Cqm6pmJiL9w0bJf2TmZv6UYVjx1E5O/5Fuq/CXbh79dObNM+teUv/oRKFzZTJO/pBhWPHUTk7/QKqbqmYmIv/oRKFzZTJO/XX4KnseMhr+a5p5koKaTv88qpuqZiYi/pkeKzVj/hr+BUE/jvwyVv6UYVjx1E5O/0Cqm6pmJiL/ZCQ+OniSJvxvq/sSRcoi/zyqm6pmJiL8LvgsyoAeMv4FQT+O/DJW/gVBP478Mlb9wuCo4YIeRvzsaSBtRfY+/Nr+sYqmLd7/5EShc2UyTv2/Zz1O555C/pUvLFI9+kb+kGFY8dROTv0sIhjPk5pG/zyqm6pmJiL/PKqbqmYmIv3DRsl/ZOZm/PBpIG1F9j7+Vmbm4jkCXv8nYTd/J3oW/0Cqm6pmJiL9rOW74vVqPv5CzFiT/6I+/xX6PWwo9kL/PKqbqmYmIv4xk6uzCEpK/+REoXNlMk7/3GwYhlPSZv2w5bvi9Wo+/zyqm6pmJiL9NL4R1X+iKv88qpuqZiYi/ik4lDs1Ukb9KCIYz5OaRvzetxw7atI+/zyqm6pmJiL+kfRaoUXGGvw==",
          "dtype": "f8"
         },
         "z": {
          "bdata": "rgNw1FVhjz+vA3DUVWGPP21zSYear30/ZVUPRv9bgD/c20U8PaWDP7ssxQhsV34/rgNw1FVhjz+ZfMh/pNuBP64DcNRVYY8/rQNw1FVhjz9o2SigurKHP0oEVdor+II/rgNw1FVhjz+iW+SYpH55P7wwc49SjH0/KgFxKuNcez/FTQ1/g8V9PzT9MDjhtoM/KQFxKuNcez/YNCod2LqEP1IrBVVeD3M/rgNw1FVhjz+uA3DUVWGPP25zSYear30/bXNJh5qvfT9uc0mHmq99P7H0jS3GAnY/rwNw1FVhjz/b20U8PaWDP25zSYear30/bXNJh5qvfT/UfNBmliaCP64DcNRVYY8/6v/e+W4Tgz8FxG5nYo+MP8RNDX+DxX0/zzOK6AafhD+tA3DUVWGPPyv8kAMQm4M/2P+EIbqHeb+DLLNsbfV2v64DcNRVYY8/rgNw1FVhjz/DHTOz3S92P9PapQdsiYM/o1vkmKR+eT9s6S75fUdVPzT9MDjhtoM/09qlB2yJgz+uA3DUVWGPPzX9MDjhtoM/n1oZDkNrcj+beWatS4l/P64DcNRVYY8/CLOfD3FWjj/c20U8PaWDP9LapQdsiYM/rgNw1FVhjz+3iExhgntzP9R80GaWJoI/rgNw1FVhjz/uE6odyGN+P9vbRTw9pYM/29tFPD2lgz/4nnFfBvSGP21zSYear30/pT40fthLdT80/TA44baDP0wW/XzxY4Q/vDBzj1KMfT/S2qUHbImDP0YJPWRlMGK/rgNw1FVhjz+uA3DUVWGPP8MdM7PdL3Y/bnNJh5qvfT+yG/NJO/h1P7r5/NAPUmQ/rQNw1FVhjz/PM4roBp+EPwIB7Uxws4w/LDZqMG9yfz+uA3DUVWGPPxWxR5c1ZnE/NP0wOOG2gz9lrY3x4ShxP88ziugGn4Q/rgNw1FVhjz/Hvxn5p1B4P64DcNRVYY8/1S/sfFXhfT9HCT1kZTBiv0oEVdor+II/rQNw1FVhjz8m2s3LeXB9Pw==",
          "dtype": "f8"
         }
        },
        {
         "hoverinfo": "text",
         "hovertext": [
          "Deck 2 — 8/8 carte mappate<br>Royal Recruits, Wall Breakers, Goblin Gang, Flying Machine, Fisherman, Mother Witch, Boss Bandit, Arrows",
          "Deck 16 — 8/8 carte mappate<br>Inferno Dragon, Firecracker, Balloon, Lumberjack, Giant Snowball, Arrows, Royal Recruits, Valkyrie",
          "Deck 28 — 8/8 carte mappate<br>Battle Ram, Bats, Rascals, Dark Prince, Inferno Tower, Barbarian Barrel, Lightning, Arrows",
          "Deck 197 — 8/8 carte mappate<br>Witch, Mega Knight, Arrows, Ram Rider, Skeleton Barrel, Dart Goblin, Flying Machine, Lumberjack",
          "Deck 206 — 8/8 carte mappate<br>Firecracker, Skeleton Barrel, Cannon Cart, Flying Machine, Giant Skeleton, Goblin Gang, Clone, Tornado",
          "Deck 227 — 8/8 carte mappate<br>Royal Recruits, Mega Knight, Inferno Dragon, Lightning, Arrows, Prince, Royal Hogs, Mother Witch",
          "Deck 233 — 8/8 carte mappate<br>Valkyrie, Dart Goblin, Magic Archer, Arrows, Zappies, Golden Knight, Lightning, Tesla",
          "Deck 237 — 8/8 carte mappate<br>Wizard, Graveyard, Tornado, Freeze, Inferno Tower, Goblin Gang, Arrows, Bandit",
          "Deck 264 — 8/8 carte mappate<br>Royal Recruits, Valkyrie, Barbarian Barrel, Balloon, Electro Wizard, Mini P.E.K.K.A, Arrows, Inferno Dragon",
          "Deck 281 — 8/8 carte mappate<br>Witch, Skeleton Barrel, Skeleton Army, Giant Skeleton, Flying Machine, Firecracker, Arrows, Clone",
          "Deck 293 — 8/8 carte mappate<br>Firecracker, P.E.K.K.A, Flying Machine, Mini P.E.K.K.A, Electro Wizard, Tornado, Arrows, Electro Spirit",
          "Deck 294 — 8/8 carte mappate<br>Mega Knight, Firecracker, Freeze, Wizard, Lightning, Zappies, Inferno Tower, Boss Bandit",
          "Deck 298 — 8/8 carte mappate<br>Goblin Cage, Valkyrie, Skeleton Dragons, Flying Machine, Lava Hound, Guards, Arrows, Lightning",
          "Deck 325 — 8/8 carte mappate<br>Baby Dragon, Zap, Knight, Flying Machine, Guards, Minions, Lava Hound, Arrows",
          "Deck 327 — 8/8 carte mappate<br>Skeleton Barrel, P.E.K.K.A, Electro Wizard, Royal Recruits, Witch, Barbarian Barrel, Freeze, Electro Spirit",
          "Deck 369 — 8/8 carte mappate<br>Royal Recruits, Lumberjack, Arrows, Flying Machine, Lightning, Furnace, Goblin Gang, Skeleton Barrel",
          "Deck 378 — 8/8 carte mappate<br>Dart Goblin, Valkyrie, Miner, Lava Hound, Guards, Zap, Baby Dragon, Tombstone",
          "Deck 395 — 8/8 carte mappate<br>Mega Knight, Valkyrie, Tornado, Hog Rider, Magic Archer, Poison, Zappies, Firecracker",
          "Deck 416 — 8/8 carte mappate<br>Wall Breakers, Valkyrie, Goblin Gang, Night Witch, Ice Wizard, Vines, Skeleton Army, Suspicious Bush",
          "Deck 419 — 8/8 carte mappate<br>Witch, Valkyrie, Firecracker, Arrows, Royal Hogs, Lightning, Mini P.E.K.K.A, Inferno Dragon",
          "Deck 470 — 8/8 carte mappate<br>Inferno Dragon, Valkyrie, Suspicious Bush, Mother Witch, Guards, Lightning, Wall Breakers, Vines",
          "Deck 485 — 8/8 carte mappate<br>Valkyrie, Electro Dragon, Tombstone, Elixir Golem, The Log, Arrows, Night Witch, Flying Machine",
          "Deck 526 — 8/8 carte mappate<br>Electro Dragon, Mega Knight, Furnace, Flying Machine, Guards, Princess, Lightning, Valkyrie",
          "Deck 543 — 8/8 carte mappate<br>Royal Giant, Royal Recruits, Lightning, Wizard, Skeleton Army, Zap, P.E.K.K.A, Tornado",
          "Deck 557 — 8/8 carte mappate<br>Valkyrie, Skeletons, Lightning, Arrows, Magic Archer, Mini P.E.K.K.A, Zappies, Royal Hogs",
          "Deck 566 — 8/8 carte mappate<br>Electro Dragon, Mega Knight, Firecracker, Royal Hogs, Magic Archer, Dart Goblin, Arrows, Boss Bandit",
          "Deck 576 — 8/8 carte mappate<br>Mega Knight, Wizard, Electro Giant, Poison, Vines, Bomb Tower, Mini P.E.K.K.A, Lightning",
          "Deck 595 — 8/8 carte mappate<br>Furnace, Mega Knight, Bats, Boss Bandit, Witch, Void, Electro Wizard, Vines",
          "Deck 649 — 8/8 carte mappate<br>Valkyrie, Firecracker, Flying Machine, Mini P.E.K.K.A, Royal Hogs, Skeleton Army, Royal Ghost, Dark Prince",
          "Deck 755 — 8/8 carte mappate<br>Inferno Tower, Firecracker, Tornado, Poison, Bowler, Arrows, Minions, Elixir Golem",
          "Deck 771 — 8/8 carte mappate<br>Bats, Witch, Arrows, Guards, Tombstone, The Log, Prince, Skeleton King",
          "Deck 785 — 8/8 carte mappate<br>Mega Knight, Wizard, Boss Bandit, Poison, Arrows, Furnace, Inferno Dragon, Royal Recruits",
          "Deck 803 — 8/8 carte mappate<br>Mega Knight, Goblin Cage, Firecracker, Fireball, Mirror, Electro Wizard, Cannon Cart, Arrows",
          "Deck 815 — 8/8 carte mappate<br>Mega Knight, Firecracker, Arrows, Furnace, Skeleton Barrel, Electro Dragon, Giant Skeleton, Tornado",
          "Deck 823 — 8/8 carte mappate<br>Valkyrie, Firecracker, Royal Giant, Dark Prince, Arrows, Royal Recruits, Mini P.E.K.K.A, Minions",
          "Deck 864 — 8/8 carte mappate<br>Dart Goblin, Baby Dragon, Electro Wizard, Furnace, Arrows, Mini P.E.K.K.A, The Log, Golem",
          "Deck 875 — 8/8 carte mappate<br>Royal Recruits, Bomber, Mirror, Furnace, Zappies, Bats, Arrows, Ram Rider",
          "Deck 877 — 8/8 carte mappate<br>Royal Recruits, Goblin Cage, Arrows, Electro Dragon, Electro Giant, Electro Wizard, Zap, Mini P.E.K.K.A",
          "Deck 900 — 8/8 carte mappate<br>Valkyrie, Witch, Lumberjack, Goblin Cage, Musketeer, Firecracker, Elixir Golem, Mega Knight",
          "Deck 920 — 8/8 carte mappate<br>Mega Knight, Witch, Electro Wizard, Arrows, Furnace, Golden Knight, Bowler, Goblin Gang",
          "Deck 935 — 8/8 carte mappate<br>Firecracker, Valkyrie, The Log, Guards, Minions, Prince, Zappies, Dark Prince",
          "Deck 949 — 8/8 carte mappate<br>Valkyrie, Firecracker, P.E.K.K.A, Executioner, Elixir Golem, Poison, Bats, Barbarian Barrel",
          "Deck 952 — 8/8 carte mappate<br>Mega Knight, Baby Dragon, Mini P.E.K.K.A, Lightning, Inferno Dragon, Hog Rider, Wizard, Royal Recruits",
          "Deck 963 — 8/8 carte mappate<br>P.E.K.K.A, Witch, Prince, Rocket, Dart Goblin, Flying Machine, Barbarian Barrel, Arrows",
          "Deck 971 — 8/8 carte mappate<br>Royal Recruits, Mega Knight, Inferno Dragon, Wizard, Skeletons, Spear Goblins, Arrows, Flying Machine",
          "Deck 992 — 8/8 carte mappate<br>Valkyrie, Mega Knight, Flying Machine, Guards, Arrows, Cannon Cart, Bats, Mirror",
          "Deck 1128 — 8/8 carte mappate<br>Firecracker, Skeleton Barrel, Suspicious Bush, Clone, Giant Skeleton, Tornado, Witch, Monk",
          "Deck 1174 — 8/8 carte mappate<br>Mega Knight, Valkyrie, Tornado, Hog Rider, Magic Archer, Poison, Zappies, Firecracker",
          "Deck 1179 — 8/8 carte mappate<br>Witch, Skeleton Barrel, Goblinstein, Bats, Lightning, Goblin Hut, Ice Wizard, Arrows",
          "Deck 1223 — 8/8 carte mappate<br>Mega Knight, Baby Dragon, Wall Breakers, Goblin Gang, Berserker, Balloon, Vines, Arrows",
          "Deck 1234 — 8/8 carte mappate<br>Royal Recruits, Bats, Bandit, Ice Wizard, Valkyrie, Arrows, Flying Machine, Baby Dragon",
          "Deck 1271 — 8/8 carte mappate<br>Mega Knight, Witch, Tombstone, Dark Prince, Royal Hogs, Sparky, Firecracker, Valkyrie",
          "Deck 1280 — 8/8 carte mappate<br>Skeleton Barrel, Goblin Cage, Inferno Dragon, Bats, Fireball, Arrows, Mega Knight, Freeze",
          "Deck 1288 — 8/8 carte mappate<br>Firecracker, Bats, Goblin Gang, Golem, Arrows, Clone, Barbarian Barrel, Night Witch",
          "Deck 1295 — 8/8 carte mappate<br>Firecracker, Mega Knight, Poison, The Log, Guards, Flying Machine, Dark Prince, Skeleton Barrel",
          "Deck 1307 — 8/8 carte mappate<br>Skeleton Barrel, Mega Knight, Magic Archer, Fisherman, Arrows, Zappies, Goblin Gang, Giant Skeleton",
          "Deck 1327 — 8/8 carte mappate<br>Cannon, Executioner, Mini P.E.K.K.A, Balloon, Guards, Zappies, Zap, Arrows",
          "Deck 1370 — 8/8 carte mappate<br>Witch, Mega Knight, Bats, Firecracker, Suspicious Bush, Arrows, Goblin Hut, Skeleton Army",
          "Deck 1396 — 8/8 carte mappate<br>Skeleton Barrel, Witch, Royal Hogs, Skeleton Army, Lightning, Clone, Sparky, Electro Giant",
          "Deck 1399 — 8/8 carte mappate<br>Goblin Cage, Inferno Dragon, Zap, Giant Skeleton, Vines, Firecracker, Skeletons, Electro Giant",
          "Deck 1479 — 8/8 carte mappate<br>Witch, Royal Recruits, Flying Machine, Mini P.E.K.K.A, Musketeer, Vines, Hog Rider, Giant",
          "Deck 1516 — 8/8 carte mappate<br>Mega Knight, Inferno Dragon, Knight, Wizard, Arrows, Minions, Battle Ram, Goblin Cage",
          "Deck 1532 — 8/8 carte mappate<br>Royal Giant, Mega Knight, Witch, Arrows, Flying Machine, Archers, Wizard, Rascals",
          "Deck 1645 — 8/8 carte mappate<br>Firecracker, Electro Dragon, Golem, Skeleton Army, Furnace, Mini P.E.K.K.A, Dart Goblin, Arrows",
          "Deck 1707 — 8/8 carte mappate<br>Mega Knight, Skeleton Barrel, Bats, Tornado, Electro Giant, Mini P.E.K.K.A, Guards, Musketeer",
          "Deck 1720 — 8/8 carte mappate<br>Wall Breakers, Lumberjack, Inferno Dragon, P.E.K.K.A, Poison, Royal Ghost, Guards, Skeleton Dragons",
          "Deck 1764 — 8/8 carte mappate<br>Barbarians, Witch, Mother Witch, Bomber, Royal Hogs, Skeleton Army, Mini P.E.K.K.A, Knight",
          "Deck 1789 — 8/8 carte mappate<br>Mega Knight, Lumberjack, Baby Dragon, Flying Machine, Skeleton Barrel, Night Witch, Freeze, Clone",
          "Deck 1819 — 8/8 carte mappate<br>Skeleton Barrel, Witch, Mother Witch, Berserker, Arrows, Tombstone, Giant Skeleton, Goblin Gang",
          "Deck 1862 — 8/8 carte mappate<br>Valkyrie, Mega Knight, Flying Machine, Magic Archer, Firecracker, Elixir Golem, Arrows, Lightning",
          "Deck 1867 — 8/8 carte mappate<br>Baby Dragon, Skeleton Barrel, Royal Ghost, Royal Hogs, Skeleton Army, Bandit, Mini P.E.K.K.A, Dart Goblin",
          "Deck 1912 — 8/8 carte mappate<br>Mega Knight, Witch, Boss Bandit, Mini P.E.K.K.A, Minions, Inferno Dragon, Vines, Barbarian Barrel",
          "Deck 1963 — 8/8 carte mappate<br>Firecracker, Bats, Knight, Arrows, Baby Dragon, Witch, Royal Hogs, Mini P.E.K.K.A",
          "Deck 2014 — 8/8 carte mappate<br>Skeleton Barrel, Wizard, Giant Skeleton, Minions, Mini P.E.K.K.A, Graveyard, Arrows, Valkyrie",
          "Deck 2043 — 8/8 carte mappate<br>Firecracker, Goblin Giant, Barbarians, Dart Goblin, Arrows, Royal Hogs, Guards, Executioner",
          "Deck 2089 — 8/8 carte mappate<br>Mega Knight, Witch, Bats, Flying Machine, Balloon, Lumberjack, Spear Goblins, Arrows",
          "Deck 2109 — 8/8 carte mappate<br>Valkyrie, Inferno Dragon, Arrows, Balloon, Bandit, Freeze, Berserker, Goblin Gang",
          "Deck 2149 — 8/8 carte mappate<br>Witch, Skeleton Barrel, Skeleton King, Vines, Balloon, Guards, Arrows, Flying Machine",
          "Deck 2160 — 8/8 carte mappate<br>Witch, P.E.K.K.A, Furnace, Vines, Guards, Mega Knight, Lightning, Arrows",
          "Deck 2161 — 8/8 carte mappate<br>Archers, Mega Knight, Dart Goblin, Guards, Skeleton Barrel, Bats, Clone, Bowler",
          "Deck 2170 — 8/8 carte mappate<br>Valkyrie, Skeleton Barrel, Giant Skeleton, Musketeer, Mother Witch, Clone, Flying Machine, Barbarian Barrel",
          "Deck 2173 — 8/8 carte mappate<br>Mega Knight, Royal Giant, Furnace, Skeleton Army, Electro Dragon, Spear Goblins, Skeleton Barrel, Arrows",
          "Deck 2227 — 8/8 carte mappate<br>Firecracker, Battle Ram, Wall Breakers, Royal Recruits, Zap, Fireball, Dart Goblin, Flying Machine",
          "Deck 2228 — 8/8 carte mappate<br>Witch, Valkyrie, Goblin Gang, Vines, P.E.K.K.A, Furnace, Tornado, Electro Wizard",
          "Deck 2232 — 8/8 carte mappate<br>Witch, Royal Recruits, Minions, Royal Ghost, Mega Knight, Bandit, Vines, Arrows",
          "Deck 2245 — 8/8 carte mappate<br>Skeleton Barrel, Dart Goblin, Clone, Tornado, Mirror, Electro Wizard, Golden Knight, Giant Skeleton",
          "Deck 2254 — 8/8 carte mappate<br>Mega Knight, Lumberjack, Barbarian Barrel, Wizard, Skeleton Barrel, Guards, Flying Machine, Dark Prince",
          "Deck 2266 — 8/8 carte mappate<br>Furnace, Valkyrie, Princess, Boss Bandit, Mega Knight, Goblin Hut, Bandit, Berserker",
          "Deck 2271 — 8/8 carte mappate<br>Bats, Mega Knight, Furnace, Miner, Ice Wizard, Fire Spirit, Lumberjack, Lightning",
          "Deck 2282 — 8/8 carte mappate<br>Furnace, Witch, P.E.K.K.A, Goblin Cage, Goblin Barrel, Skeleton Barrel, Vines, The Log",
          "Deck 2294 — 8/8 carte mappate<br>Valkyrie, Mega Knight, Mini P.E.K.K.A, Lightning, Witch, Furnace, Electro Wizard, Vines",
          "Deck 2304 — 8/8 carte mappate<br>Wall Breakers, Bats, The Log, Bandit, Rage, Lightning, Royal Hogs, Goblin Gang",
          "Deck 2305 — 8/8 carte mappate<br>Electro Dragon, Valkyrie, Mega Knight, Mini P.E.K.K.A, Flying Machine, Arrows, Elixir Golem, Vines",
          "Deck 2307 — 8/8 carte mappate<br>Witch, Mega Knight, Goblin Hut, Lightning, Firecracker, Berserker, Arrows, Skeleton Barrel",
          "Deck 2319 — 8/8 carte mappate<br>Baby Dragon, Skeleton Barrel, Mega Knight, Hog Rider, Sparky, Minions, Guards, Vines",
          "Deck 2345 — 8/8 carte mappate<br>Witch, Valkyrie, Tombstone, Skeleton King, Giant Skeleton, Zappies, Arrows, The Log",
          "Deck 2384 — 8/8 carte mappate<br>Mega Knight, Goblin Cage, Arrows, Valkyrie, Poison, Mega Minion, Electro Wizard, Hog Rider",
          "Deck 2400 — 8/8 carte mappate<br>Mega Knight, Goblin Cage, Arrows, Valkyrie, Poison, Mega Minion, Electro Wizard, Hog Rider",
          "Deck 2415 — 8/8 carte mappate<br>Valkyrie, Royal Recruits, Bats, Inferno Tower, Skeleton Dragons, Miner, The Log, Vines",
          "Deck 2430 — 8/8 carte mappate<br>Mega Knight, Valkyrie, Zappies, Tesla, Arrows, Magic Archer, Lightning, Royal Hogs",
          "Deck 2450 — 8/8 carte mappate<br>Mega Knight, Bats, Guards, Wall Breakers, Magic Archer, Zap, Tornado, Miner"
         ],
         "marker": {
          "color": "rgb(77,175,74)",
          "size": 6
         },
         "mode": "markers",
         "name": "Cluster 11",
         "text": [
          "Deck 2",
          "Deck 16",
          "Deck 28",
          "Deck 197",
          "Deck 206",
          "Deck 227",
          "Deck 233",
          "Deck 237",
          "Deck 264",
          "Deck 281",
          "Deck 293",
          "Deck 294",
          "Deck 298",
          "Deck 325",
          "Deck 327",
          "Deck 369",
          "Deck 378",
          "Deck 395",
          "Deck 416",
          "Deck 419",
          "Deck 470",
          "Deck 485",
          "Deck 526",
          "Deck 543",
          "Deck 557",
          "Deck 566",
          "Deck 576",
          "Deck 595",
          "Deck 649",
          "Deck 755",
          "Deck 771",
          "Deck 785",
          "Deck 803",
          "Deck 815",
          "Deck 823",
          "Deck 864",
          "Deck 875",
          "Deck 877",
          "Deck 900",
          "Deck 920",
          "Deck 935",
          "Deck 949",
          "Deck 952",
          "Deck 963",
          "Deck 971",
          "Deck 992",
          "Deck 1128",
          "Deck 1174",
          "Deck 1179",
          "Deck 1223",
          "Deck 1234",
          "Deck 1271",
          "Deck 1280",
          "Deck 1288",
          "Deck 1295",
          "Deck 1307",
          "Deck 1327",
          "Deck 1370",
          "Deck 1396",
          "Deck 1399",
          "Deck 1479",
          "Deck 1516",
          "Deck 1532",
          "Deck 1645",
          "Deck 1707",
          "Deck 1720",
          "Deck 1764",
          "Deck 1789",
          "Deck 1819",
          "Deck 1862",
          "Deck 1867",
          "Deck 1912",
          "Deck 1963",
          "Deck 2014",
          "Deck 2043",
          "Deck 2089",
          "Deck 2109",
          "Deck 2149",
          "Deck 2160",
          "Deck 2161",
          "Deck 2170",
          "Deck 2173",
          "Deck 2227",
          "Deck 2228",
          "Deck 2232",
          "Deck 2245",
          "Deck 2254",
          "Deck 2266",
          "Deck 2271",
          "Deck 2282",
          "Deck 2294",
          "Deck 2304",
          "Deck 2305",
          "Deck 2307",
          "Deck 2319",
          "Deck 2345",
          "Deck 2384",
          "Deck 2400",
          "Deck 2415",
          "Deck 2430",
          "Deck 2450"
         ],
         "type": "scatter3d",
         "x": {
          "bdata": "HhTfFtbKc79bE46N/hqCv0phUP10B3+/iJm9evn2hr/x8Kmq6z13v/a7/QRS6ZW/gJy4hl6dST/irG3wQzOCvwA+fbfk1pK/fL9tTPyujb96qA4vPS5wv1LZlHpKuom/4hLF0Dvgnb/Q2+Vo7NySvw6IbJVrN3a/bYgNQW7Mg78S9+GoIzyFv6DLCB6DdBQ/2GCp5zkucD/YtkyhiY2Kv0Xp9OD2Hni/zrBw9ITNlr9ZSF2Ka2yCv3z8RqjpUJG/XQl4K+ncZr93NnNvxkd5v1zxs6HBG3+/LMKKPEV8j78qEQ9rJGSKvw5KTnbBJYm/rzYjjOFqeb9RoqavhN+Hv2tCXv0CE36/vwk60soRhr9LzZ01IOGEv9LLEDsbWna/Mw9fDThdk7/9GJeR9YWYv9Yok8jwX4m/zvFFgST7ir+vwVwJH+WAvxSqPBpU3oW/VTX0nzE1kL+XPjGEMlx5v0XFlXykc3u/SVyrlxIejr+WXFm1+rdRv6DLCB6DdBQ/CKwIuLBhbr9+Zy3ES1tZv7oIjZjQOI2/VUUE8jsjj78yt3ukLlmJv7sg8M6dlJC/71wz4qpEWD/qjIL7Fk18v22WjdAuJHG/fUSfb2eHY7/4U7r4OOKXv9VmtSF2EHS/31IgFomRgb+lVsSLt2ORvxwmk6fe8mm/p330g/l2ib8VcCth1dR8v+Mo0PiBJpG/EE941geQjr9y/Ilexhudv14mRi5PM36//+sw1YaPkr8JPjl4C9t+v+wY/ubSsZS/OtXHzYGmZb+0DM52B1KMv/0bOkfsDYe/fdSaH3R2lb82OrsllQiMv7VW05Pmyou/ApkvCt2Jjr/SojmabXtgv++hAckLv4e/an91DPqqhb/camfcMQ5tPzenqP5lyIC/i65AEMj8kb9ae/TCQmCJv24UcbXENZS/Xmgp8d0heD8VFHXoei9pvzBgObqxXnI/xZoqcgDyjL/Q8fi7vDo8PxKRob/TWJm/2vlcOwGzaL9DmumW4l+Jv2c87Tz3+Hi/lv+wtMx0gr+W/7C0zHSCv/rdiBvzS2I/vFBMtnZKbr8PKUs61alxvw==",
          "dtype": "f8"
         },
         "y": {
          "bdata": "PvjtdlP4ej9GgDu3zW1+v2wxYJa5PIW/Et94et4Ajr86ytUhXgKFvxTXAZfPVHm/3OkqKOZIg7/+IJMa60yEv5DZFHo+rIG/ihwDZfRvlr8YgfMOUpl0vyIc7T55PpG/KSOE2pSidD9kPxVhT5lEv5MkH3dlxmi/FJsuIt/9Xb+YKB0qoeeCvwyZc26rUWy/VP3fHEwEg7+BIFnsUTmRv55Nf9Sxy3i/wGx2rvm1JT92tsoiKz9qv4iZNTRh3Ii/whpj5g1Par9yEsKe1a+Lv94yoRqiGm2/kg42etMmi79bknvur796v9wCsM6mdXu/6YwPJnxOj7841sq/tOd2vxNfRbCHWIu/4ftr52Fqhr+8dzNwgT2Gv+crQedGvX6/PWNdDaTZUb9kH9IksdJAv4sMVJz96oe/toWgTmhsjr+FO614Jnp3v7hBVDBj9nS/W3qY0PNOjr8yz//Ll458v9TaeYS9WYK/Im7Wi2f9h7/B1suR50eNvwyZc26rUWy/iZwniNkbbD+282r/NVpiv10fFDEd62g/52q8HAvqjL/enwAQY7iQv0+w4heVNX+/vhE3OQLkYL+BOTWR4/OCvwZSGFyJSn6/woHhouPAjb9G1SZkR3uSvzaDt+ISRHC/VBH7yzt3JL8E+l0CVDODv4vgj9I5kIW/iKbvTMJMh79UH6mBp3CNv8jzRFvR2V+/KYYCPOebir8//1QkjCl5v5aQ4CxdCn+/GXJWxrgajr+YKpaZAjGLvyQKARrPYHW/lqII6NSyi79uuAjs4Wx/v8wLwbF3M32/Bt2BbGJwj78k0QdY5ReNv+zmgNkudFq/HMXno6sIfb9XfgFLkSGSv6Cv1IyrE1q/Y5Rzpmr4jr+Pp3LJrV1+v9IFtB1eiYS/oELxfEMrer9XMoe4xjCWvxzavq0QuFy/vxsA0HWcdT+yVmqJd8pzv1reNmWinGu/ntCYKPHYjL+G12LeYY2Ov1QEbo6blXO/dmSCL0H/aT/9Gi2fwcODvxhVaMPd9na/otEiHcjrdr+i0SIdyOt2v4JHh20u5om/cSLLwkIYer+/yUMUe66Qvw==",
          "dtype": "f8"
         },
         "z": {
          "bdata": "XISOrtrgnb/cyAA2gjWAv5oUg4UkrHa/BYrHliXAk781M1RxDH6bvwjXWTRXVpG/0pHF+Qzuk78de3QVzTqDv5EAM99TYIO//ZV/ZUa3lL9QNy8frrR0vxuvJgDGOpS/p8uEHdppkr/kH/kn96SFvyH0tRR7NYa/OpYS1exwnb/sB312R+98vxynGQF/c42/bhWGcLYwkL9GSsdLiFKCv6+4adRnRI2/wGTFBqI3fb+uO0CcLwWRv+rZE0+H2na/MhL/0K3Ik78ix3nlcY6JvwS2XpxS3Wy/2vrqyM78gL9Nuf2nFaKLvy/PB8NdwWa/O+iv8c0Zgr/6lEN5HW2Pv01QwUIAbIS/8CciovTXer9mU4oi1Gtxv6y/Yud0m2a/+BdyvfOflL+3ZpKhMAyNv/q2Moe95XK/Zi7f0/yUh7/oqmBMDF+Fv/9AhZPO2Eq/ryUcr+58hL8aaEycnQKOv2cWv3uMwpa/oPdtlriJk7+UOWlAWc6HvxynGQF/c42/yAA/06/FlL/SHZLiwJ2Jv8mpvSDeqpa/mVQHcYCtc79IPfMWKduKv5Jd613KhHG/mcKiu/2Zjr+FkbQqqn2Xv9xsovw9/Ii/bIryAi02kr+yD3sDOs+LvxZV0F0A0nm/2dDw3/z1j7+cBS5RzMdzv7AAeHKUYYe/N2qfbshOar/iGdHhgKh/v6MS4bgROHS/Q3h/kjfpb7+0lhrLPwaPv9IHMJ8sFpC/POWHdqZIhr8fmOGxA9iMv8DVHeBYm3i/3kYwx12whL+jNqU7gVOCv2GMwSqRCGC/Qy4Fracfkb9MfYL6jIR5v+SAke0jO5S/l4zBKdkicr+8f4skAAGJv5vM8ZIs9ZC/p61tgfaIg7866ZQf2jiXv8S4eF4DknO/u/rePaqYgr/GiFB5UCSKv3HGf5gp54y/L48kgNFakr9FczJnNPd7v2uRvbP1iZC/aqMpnKyScr9ueQt//1qNv46TSXaf64O/1ua7OijnkL/QhxnHdx9nvw0yC7ayEZS/Rp7FNEz8aL9GnsU0TPxov+dMf0URQ42/5FYoYIHblL/q9WLVM9aDvw==",
          "dtype": "f8"
         }
        },
        {
         "hoverinfo": "text",
         "hovertext": [
          "Deck 63 — 8/8 carte mappate<br>Barbarians, Electro Dragon, Night Witch, Elixir Golem, Battle Healer, Arrows, Rage, Tornado",
          "Deck 86 — 8/8 carte mappate<br>Goblin Giant, Zap, Mini P.E.K.K.A, Sparky, Mother Witch, Rage, Mirror, Heal Spirit",
          "Deck 90 — 8/8 carte mappate<br>Bomber, Zap, Giant, Prince, Dark Prince, Mega Minion, Arrows, Lightning",
          "Deck 138 — 8/8 carte mappate<br>Goblin Giant, Zap, Bomber, Prince, Dark Prince, Phoenix, Arrows, Rage",
          "Deck 148 — 8/8 carte mappate<br>Electro Dragon, Inferno Dragon, Elite Barbarians, Battle Healer, Elixir Golem, Arrows, Rage, Zap",
          "Deck 155 — 8/8 carte mappate<br>P.E.K.K.A, Goblin Giant, Goblin Machine, Valkyrie, Arrows, Electro Wizard, Bomber, Rage",
          "Deck 179 — 8/8 carte mappate<br>Bomber, Lumberjack, Golem, Mega Minion, Elite Barbarians, Night Witch, Arrows, Zap",
          "Deck 196 — 8/8 carte mappate<br>Lumberjack, Zap, Giant, Bomber, Prince, Mega Minion, Arrows, Lightning",
          "Deck 203 — 8/8 carte mappate<br>Goblin Giant, Zap, Mini P.E.K.K.A, Dark Prince, Sparky, Electro Wizard, Rage, Heal Spirit",
          "Deck 235 — 8/8 carte mappate<br>Night Witch, Electro Wizard, Prince, Mega Minion, Dark Prince, Giant, Zap, Fireball",
          "Deck 275 — 8/8 carte mappate<br>Goblin Giant, Zap, Bomber, Prince, Dark Prince, Phoenix, Arrows, Rage",
          "Deck 315 — 8/8 carte mappate<br>Inferno Dragon, Goblin Giant, Dark Prince, Sparky, Electro Wizard, Mini P.E.K.K.A, Rage, Zap",
          "Deck 341 — 8/8 carte mappate<br>Monk, Lumberjack, Heal Spirit, Mother Witch, Clone, Minion Horde, Giant, Sparky",
          "Deck 364 — 8/8 carte mappate<br>Firecracker, Electro Dragon, Battle Healer, Elixir Golem, Elite Barbarians, Arrows, Rage, Tornado",
          "Deck 367 — 8/8 carte mappate<br>P.E.K.K.A, Goblin Giant, Goblin Machine, Electro Wizard, Arrows, Guards, Rage, Goblin Curse",
          "Deck 384 — 8/8 carte mappate<br>Electro Dragon, Inferno Dragon, Boss Bandit, Elixir Golem, Lumberjack, Night Witch, Lightning, Vines",
          "Deck 403 — 8/8 carte mappate<br>Goblin Giant, Valkyrie, Mini P.E.K.K.A, Electro Wizard, Zap, Rage, Mega Minion, Sparky",
          "Deck 427 — 8/8 carte mappate<br>Bats, Electro Dragon, Elite Barbarians, Elixir Golem, Rage, Arrows, Inferno Dragon, Battle Healer",
          "Deck 476 — 8/8 carte mappate<br>Witch, Lumberjack, Miner, Mother Witch, Battle Healer, Bomber, Mirror, Spirit Empress",
          "Deck 629 — 8/8 carte mappate<br>Goblin Giant, Valkyrie, Mini P.E.K.K.A, Electro Wizard, Zap, Rage, Mega Minion, Sparky",
          "Deck 645 — 8/8 carte mappate<br>Electro Dragon, Zap, Golem, Night Witch, Lightning, Tornado, Prince, Mega Minion",
          "Deck 654 — 8/8 carte mappate<br>Wizard, Goblin Giant, Vines, Night Witch, Rage, Minions, Balloon, Prince",
          "Deck 667 — 8/8 carte mappate<br>Electro Dragon, Inferno Dragon, Heal Spirit, Battle Healer, Elixir Golem, Rage, Arrows, Elite Barbarians",
          "Deck 671 — 8/8 carte mappate<br>Goblin Giant, P.E.K.K.A, Goblin Machine, Mega Minion, Goblin Curse, Electro Wizard, Arrows, Rage",
          "Deck 672 — 8/8 carte mappate<br>Witch, Mega Knight, Rage, Dark Prince, Sparky, Elite Barbarians, Zap, Mega Minion",
          "Deck 678 — 8/8 carte mappate<br>Lumberjack, Zap, Giant, Prince, Bomber, Fireball, Rage, Mega Minion",
          "Deck 701 — 8/8 carte mappate<br>P.E.K.K.A, Goblin Giant, Goblin Machine, Electro Wizard, Arrows, Guards, Rage, Goblin Curse",
          "Deck 710 — 8/8 carte mappate<br>Battle Ram, P.E.K.K.A, Minions, Three Musketeers, Bandit, Guards, Arrows, Elixir Collector",
          "Deck 713 — 8/8 carte mappate<br>Inferno Dragon, Goblin Giant, Dark Prince, Sparky, Electro Wizard, Mini P.E.K.K.A, Rage, Zap",
          "Deck 715 — 8/8 carte mappate<br>Battle Ram, P.E.K.K.A, Minions, Three Musketeers, Bandit, Guards, Arrows, Elixir Collector",
          "Deck 748 — 8/8 carte mappate<br>Mega Knight, Wizard, Barbarians, P.E.K.K.A, Rage, Witch, Barbarian Hut, Minion Horde",
          "Deck 834 — 8/8 carte mappate<br>Musketeer, Electro Dragon, Bomber, Golem, Arrows, Night Witch, Mini P.E.K.K.A, Lightning",
          "Deck 848 — 8/8 carte mappate<br>Inferno Dragon, Electro Dragon, Battle Healer, Elixir Golem, Elite Barbarians, Rage, Arrows, The Log",
          "Deck 855 — 8/8 carte mappate<br>Mega Knight, Wizard, Barbarians, P.E.K.K.A, Rage, Witch, Barbarian Hut, Minion Horde",
          "Deck 856 — 8/8 carte mappate<br>Barbarians, Electro Dragon, Firecracker, Elixir Golem, Battle Healer, Prince, Inferno Dragon, Arrows",
          "Deck 868 — 8/8 carte mappate<br>Inferno Dragon, Electro Dragon, Elixir Golem, Tornado, Battle Healer, The Log, Mirror, Arrows",
          "Deck 921 — 8/8 carte mappate<br>Electro Dragon, Lumberjack, Night Witch, Battle Healer, Elixir Golem, Arrows, The Log, Tornado",
          "Deck 961 — 8/8 carte mappate<br>Valkyrie, Lumberjack, Electro Wizard, Baby Dragon, Goblin Machine, Bandit, Elixir Golem, Arrows",
          "Deck 1033 — 8/8 carte mappate<br>Goblin Giant, Zap, Sparky, Mini P.E.K.K.A, Dark Prince, Mother Witch, Mega Minion, Rage",
          "Deck 1053 — 8/8 carte mappate<br>Furnace, Electro Dragon, Elixir Golem, Inferno Dragon, Arrows, Zap, Rage, Battle Healer",
          "Deck 1185 — 8/8 carte mappate<br>Electro Dragon, Firecracker, Night Witch, Rage, Inferno Dragon, Elixir Golem, Tornado, Battle Healer",
          "Deck 1198 — 8/8 carte mappate<br>Furnace, Goblin Giant, Sparky, Goblin Curse, Mini P.E.K.K.A, Electro Wizard, Dark Prince, Rage",
          "Deck 1233 — 8/8 carte mappate<br>Goblin Giant, Lumberjack, Mini P.E.K.K.A, Spirit Empress, Goblin Curse, Rage, Sparky, Minions",
          "Deck 1284 — 8/8 carte mappate<br>Firecracker, Lumberjack, Night Witch, Golem, Bomber, Elite Barbarians, Phoenix, Arrows",
          "Deck 1310 — 8/8 carte mappate<br>Goblin Giant, Valkyrie, Mini P.E.K.K.A, Electro Wizard, Zap, Rage, Mega Minion, Sparky",
          "Deck 1311 — 8/8 carte mappate<br>Goblin Giant, Valkyrie, Mini P.E.K.K.A, Electro Wizard, Zap, Rage, Mega Minion, Sparky",
          "Deck 1336 — 8/8 carte mappate<br>Battle Ram, Minion Horde, Dark Prince, Elixir Collector, Goblin Gang, Arrows, Giant, Three Musketeers",
          "Deck 1344 — 8/8 carte mappate<br>Furnace, Goblin Giant, Rage, Sparky, Zap, Mini P.E.K.K.A, Phoenix, Dark Prince",
          "Deck 1373 — 8/8 carte mappate<br>P.E.K.K.A, Goblin Giant, Bomber, Mega Minion, Goblin Machine, Rage, Lightning, Goblin Curse",
          "Deck 1380 — 8/8 carte mappate<br>P.E.K.K.A, Baby Dragon, Golem, Bomber, Zap, Dark Prince, Mega Minion, Tornado",
          "Deck 1385 — 8/8 carte mappate<br>Witch, Goblin Giant, Mega Knight, Bomber, The Log, Goblin Curse, Bats, Rage",
          "Deck 1439 — 8/8 carte mappate<br>Skeletons, Goblin Giant, Three Musketeers, Arrows, Elite Barbarians, Sparky, Rage, Mini P.E.K.K.A",
          "Deck 1447 — 8/8 carte mappate<br>Goblin Giant, Executioner, Sparky, Arrows, Zap, Mini P.E.K.K.A, Skeleton Army, Rage",
          "Deck 1550 — 8/8 carte mappate<br>Skeletons, Archers, Elixir Golem, Night Witch, Prince, Goblin Machine, Rage, Zap",
          "Deck 1552 — 8/8 carte mappate<br>Lumberjack, Zap, Giant, Bomber, Prince, Mega Minion, Arrows, Lightning",
          "Deck 1583 — 8/8 carte mappate<br>Inferno Dragon, Electro Dragon, Elite Barbarians, Elixir Golem, Battle Healer, Arrows, Rage, Zap",
          "Deck 1622 — 8/8 carte mappate<br>Bomber, Zap, Giant, Prince, Mega Minion, Goblin Machine, Rage, Goblin Curse",
          "Deck 1626 — 8/8 carte mappate<br>Bomber, Zap, Giant, Prince, Mega Minion, Goblin Machine, Rage, Goblin Curse",
          "Deck 1628 — 8/8 carte mappate<br>Witch, Zap, Miner, Night Witch, Elixir Golem, Goblin Machine, Rage, Goblin Curse",
          "Deck 1634 — 8/8 carte mappate<br>Witch, Skeleton Army, Baby Dragon, Minion Horde, Three Musketeers, Elite Barbarians, Rage, Lightning",
          "Deck 1641 — 8/8 carte mappate<br>Inferno Dragon, Electro Dragon, Elixir Golem, Battle Healer, Mini P.E.K.K.A, Arrows, Rage, Knight",
          "Deck 1642 — 8/8 carte mappate<br>Lumberjack, Zap, Giant, Bomber, Prince, Mega Minion, Fireball, Rage",
          "Deck 1651 — 8/8 carte mappate<br>Goblin Giant, P.E.K.K.A, Goblin Machine, Electro Wizard, Bomber, Rage, Goblin Curse, Arrows",
          "Deck 1705 — 8/8 carte mappate<br>Witch, P.E.K.K.A, Rage, Tornado, Mini P.E.K.K.A, Mirror, Elixir Golem, Goblin Curse",
          "Deck 1740 — 8/8 carte mappate<br>Goblin Giant, Witch, Mini P.E.K.K.A, Rage, Prince, Arrows, Vines, Minions",
          "Deck 1743 — 8/8 carte mappate<br>P.E.K.K.A, Executioner, Goblin Curse, Ram Rider, Dark Prince, Rage, Poison, Minions",
          "Deck 1754 — 8/8 carte mappate<br>Electro Dragon, Goblin Cage, Inferno Dragon, Mini P.E.K.K.A, Heal Spirit, Arrows, Rage, Elixir Golem",
          "Deck 1755 — 8/8 carte mappate<br>Electro Dragon, P.E.K.K.A, Zap, Tornado, Mirror, Electro Giant, Battle Healer, Lightning",
          "Deck 1756 — 8/8 carte mappate<br>Zap, Goblin Giant, Tornado, Guards, Dart Goblin, Sparky, Electro Wizard, Mega Minion",
          "Deck 1794 — 8/8 carte mappate<br>Lumberjack, Zap, Giant, Bomber, Prince, Mega Minion, Fireball, Rage",
          "Deck 1863 — 8/8 carte mappate<br>Goblin Giant, Ice Spirit, Rage, Electro Wizard, Sparky, Elite Barbarians, Dark Prince, Zap",
          "Deck 1897 — 8/8 carte mappate<br>Inferno Dragon, Electro Dragon, Elite Barbarians, Elixir Golem, Battle Healer, Arrows, Rage, Heal Spirit",
          "Deck 1902 — 8/8 carte mappate<br>Goblin Giant, Zap, Mini P.E.K.K.A, Dark Prince, Sparky, Electro Wizard, Rage, Heal Spirit",
          "Deck 1964 — 8/8 carte mappate<br>Lumberjack, Zap, Golem, Bomber, Elite Barbarians, Night Witch, Phoenix, Arrows",
          "Deck 2057 — 8/8 carte mappate<br>Lumberjack, Zap, Golem, Bomber, Elite Barbarians, Night Witch, Phoenix, Arrows",
          "Deck 2075 — 8/8 carte mappate<br>Firecracker, Witch, Mini P.E.K.K.A, Mirror, Arrows, Rage, Goblin Giant, Sparky",
          "Deck 2085 — 8/8 carte mappate<br>Zap, Goblin Giant, Dark Prince, Electro Wizard, Mini P.E.K.K.A, Sparky, Minions, Rage",
          "Deck 2132 — 8/8 carte mappate<br>Barbarians, Ice Wizard, Giant, Arrows, Mini P.E.K.K.A, Elixir Collector, Three Musketeers, Rage",
          "Deck 2229 — 8/8 carte mappate<br>Lumberjack, Electro Dragon, Mini P.E.K.K.A, Mega Minion, Golem, Tornado, Guards, Zap",
          "Deck 2243 — 8/8 carte mappate<br>Firecracker, Sparky, Mega Minion, Tornado, Electro Giant, Lightning, Mirror, Dark Prince",
          "Deck 2274 — 8/8 carte mappate<br>Electro Dragon, Zap, Golem, Prince, Dark Prince, Guards, Tornado, Lightning",
          "Deck 2322 — 8/8 carte mappate<br>Zap, Goblin Giant, Sparky, Mini P.E.K.K.A, Dark Prince, Mother Witch, Vines, Minions",
          "Deck 2358 — 8/8 carte mappate<br>Firecracker, Electro Dragon, Battle Healer, Elixir Golem, Rage, Tornado, Fireball, Elite Barbarians",
          "Deck 2381 — 8/8 carte mappate<br>Inferno Dragon, Goblin Giant, Dark Prince, Sparky, Electro Wizard, Mini P.E.K.K.A, Rage, Zap",
          "Deck 2390 — 8/8 carte mappate<br>Wizard, Goblin Giant, Vines, Night Witch, Rage, Minions, Balloon, Prince",
          "Deck 2463 — 8/8 carte mappate<br>Electro Dragon, Inferno Dragon, Battle Healer, Elixir Golem, Elite Barbarians, Rage, Arrows, Zap",
          "Deck 2464 — 8/8 carte mappate<br>Lumberjack, Zap, Giant, Prince, Bomber, Fireball, Rage, Mega Minion",
          "Deck 2485 — 8/8 carte mappate<br>Bats, Goblin Giant, Mini P.E.K.K.A, Rage, Sparky, Electro Wizard, Dark Prince, Zap",
          "Deck 2494 — 8/8 carte mappate<br>Zap, Goblin Giant, Heal Spirit, Mini P.E.K.K.A, Mirror, Sparky, Bats, Vines"
         ],
         "marker": {
          "color": "rgb(152,78,163)",
          "size": 6
         },
         "mode": "markers",
         "name": "Cluster 12",
         "text": [
          "Deck 63",
          "Deck 86",
          "Deck 90",
          "Deck 138",
          "Deck 148",
          "Deck 155",
          "Deck 179",
          "Deck 196",
          "Deck 203",
          "Deck 235",
          "Deck 275",
          "Deck 315",
          "Deck 341",
          "Deck 364",
          "Deck 367",
          "Deck 384",
          "Deck 403",
          "Deck 427",
          "Deck 476",
          "Deck 629",
          "Deck 645",
          "Deck 654",
          "Deck 667",
          "Deck 671",
          "Deck 672",
          "Deck 678",
          "Deck 701",
          "Deck 710",
          "Deck 713",
          "Deck 715",
          "Deck 748",
          "Deck 834",
          "Deck 848",
          "Deck 855",
          "Deck 856",
          "Deck 868",
          "Deck 921",
          "Deck 961",
          "Deck 1033",
          "Deck 1053",
          "Deck 1185",
          "Deck 1198",
          "Deck 1233",
          "Deck 1284",
          "Deck 1310",
          "Deck 1311",
          "Deck 1336",
          "Deck 1344",
          "Deck 1373",
          "Deck 1380",
          "Deck 1385",
          "Deck 1439",
          "Deck 1447",
          "Deck 1550",
          "Deck 1552",
          "Deck 1583",
          "Deck 1622",
          "Deck 1626",
          "Deck 1628",
          "Deck 1634",
          "Deck 1641",
          "Deck 1642",
          "Deck 1651",
          "Deck 1705",
          "Deck 1740",
          "Deck 1743",
          "Deck 1754",
          "Deck 1755",
          "Deck 1756",
          "Deck 1794",
          "Deck 1863",
          "Deck 1897",
          "Deck 1902",
          "Deck 1964",
          "Deck 2057",
          "Deck 2075",
          "Deck 2085",
          "Deck 2132",
          "Deck 2229",
          "Deck 2243",
          "Deck 2274",
          "Deck 2322",
          "Deck 2358",
          "Deck 2381",
          "Deck 2390",
          "Deck 2463",
          "Deck 2464",
          "Deck 2485",
          "Deck 2494"
         ],
         "type": "scatter3d",
         "x": {
          "bdata": "+5C8CZQhp79B+UaTojykvxnYN5adpaC/yDYsMBgRpL/szWSuptelv1SLrOZDT6K/7TPhULCBor9b/0R086Sgv4RK3ciSeqO/S/cPgc00nr/INiwwGBGkv29jxfoZoqO/vbZripENob/byYloePahvwzrj+rALKS/oNJXM6qLor+JXvUujAuivwkb3D5MtKW/Tlxobg8zob+JXvUujAuiv2we+kWtlqO//6msM++7o78v+Jm/BVinvwrnnE0ZyKa/8yNAfxCbob9CeWicKV+evwzrj+rALKS/a/vnA1jmnL9vY8X6GaKjv2v75wNY5py/VVEyTEGzor8ZKpq9Wkycv8wYd9UdQaG/VVEyTEGzor/FaoPtudCivy4sOcHvlZ6/XlVJGEgkoL9XJgM2HIqgv3G+m0PWDKW/8AVGr+G1o7+qF1qt2Cmlv1jbT8yNZKO/tLAp4tNopr+aERc/sDKhv4le9S6MC6K/iV71LowLor/+/xNVMVycv0sre+SVqqO/PIUGX/J8qL9FJOqF2n+gv6YUu9YktZm/KupGoyIqmb9stthQYcyfv51PB4NQJ5S/W/9EdPOkoL/tzWSuptelvyqImEGipaa/KoiYQaKlpr+5CBPdWUmkv7YAhpy2/KC/VUX7p6gzoL9CeWicKV+ev/+wbga/uKW/lsB7wJ3Pob8SKiH5h4ifvzomNuxvsJq//pzrDvf0or8iFG9PxFmiv7Nxxd3u2Jq/QnlonClfnr/0SqICxM6WvzD4mb8FWKe/hErdyJJ6o78/E0HZhnmjvz8TQdmGeaO/7IqKDigVn79Vi3Sgrnujv5QlMU5RK56//OjEFXsuoL+GoYZbyTaev5YKBFJ4RJ+/lz7yLsNSob/pYEKOFLeev29jxfoZoqO//6msM++7o7/tzWSuptelv0J5aJwpX56/XW0fSNnWob9TTX+3rp6fvw==",
          "dtype": "f8"
         },
         "y": {
          "bdata": "1A+qMsbqNz+CS4i8I1aBvy1twXzvvYq/uDmhba31fb9vJkyvrjmHv9xmLxYzOVs/Nk8+wkvcf7+2V8ajV5SMv39wA6O874S/z6Lxd4CFjr+4OaFtrfV9v47yYu2/I46/9Aiu+yL1f79+oULaOr14v4Y1wQKAHYA/PXkYrczeYL9mW2reiBuOvyAS1BXOOIm/I/NVKsfzbb9mW2reiBuOv623SDYhR1U/HrFoAokGcr/6RpVNLg95v5Z1KJhFp30/sXzELCYzlb8aWUXfl2SNv4Y1wQKAHYA/dAXqTbp3Wb+O8mLtvyOOv3QF6k26d1m/7nFu3W0Pmr9JfQ2UYrpTv8PcIjICAYS/7nFu3W0Pmr+C/KtDGwGMvxAvSz6O3n2/qCPksGBGNj+KRsQLqHJ1v0W1w1gsXnm/I3mjMyJbc78wIJmAiC4svyAx5mQIJ2+/7DzHU5LKOr+IyoAvzvZ4v2Zbat6IG46/Zltq3ogbjr+IH6OijZSBvwtbiLt09XC/S4A+MS3gij924EDRmuJkP9Cx1bg+rYG/Qk9tJFUkgb8oZkYVzgiTv4CiYJH9x/++tlfGo1eUjL9vJkyvrjmHvz+jJ9gos2U/P6Mn2CizZT/fmlJNHzhoP7E6PbvSN5G/8HTRX925gL8aWUXfl2SNvxrhWoNUsHw/tbA4I0bgh7/zwa3BbG2Avz4CfOs7s0I/GNToXrPjP7/cHlzkZKJkvx4E/jllUIG/GllF35dkjb9NY14bU8+Mv/pGlU0uD3m/f3ADo7zvhL/0RJPSl0F5v/REk9KXQXm/KBidrbSXkr+Iy3jMrCKIv8F+Q+ZJimA/MHe9Tob/KT/8tnHCK3mHv6heXh/FACi/ONXG8SlIZb9w0XXDFih6v47yYu2/I46/HrFoAokGcr9wJkyvrjmHvxpZRd+XZI2/kW8GyXnQkL/DbMtG1+KHvw==",
          "dtype": "f8"
         },
         "z": {
          "bdata": "7dhpL8d+jT8z9lQGGIaUP79j1bIgkos/Thw+v1Kalz9KtKI5iseKP1PbaBaFgZU/DwzInXPOkD8tWGETdTyHP2jKcIlS2ZY//njF5CpzjT9OHD6/UpqXP8DJpSFYEJA/iOeOJ1uGjD/f6qDFBEGMP8rDE/DLiZY/ArtA+zf2WD8fD6R0YAKSP8xNB6VatYU/NxZ4noDzgj8fD6R0YAKSPy/79FSQUIU/6hcjCAo0jD+pO2LI9gKTP8EZFIdX35s/kJiEymHkjD+JVdcpYoGQP8rDE/DLiZY/7vCaptEIiD/AyaUhWBCQP+7wmqbRCIg/HtVh6Tm5hD/FLD9jQhuGP3KUC+ZifIo/HtVh6Tm5hD/PJlQcuTyAPzf8QHPIooE/pc/VfAvPhz+KM3b2Icd+P9qmw3TUZJQ/9iGOVrRxgT+Qlx5Qe42KPwlgTfQG+pQ/TIgHOtr/lD/To2pgOi2SPx8PpHRgApI/Hw+kdGACkj/lClElNk+KP9PwPWSzt5Q/decyL+2rnz+H3AiMT1mOP9xmZymEGZE/lzY05HOBlz/ASs9SSsWJPyt/OeiZ4pE/LVhhE3U8hz9KtKI5iseKP3yiuC36SJo/fKK4LfpImj+8TiFGqGeRP8IiudtU/4M/EjCuPqhEgj+JVdcpYoGQP0Dbefc6Apw/+IQIPJlZhj8/l343fz+BP4ExLkvaMos/HstG78OqbT+wJ7UH3r2BP/5eNMNhXYg/iVXXKWKBkD8fxmsqCOWVP6k7Ysj2ApM/aMpwiVLZlj+kMQ++TaySP6QxD75NrJI/bLfDe/MPiT+56iyf3GmRPw9AbDcE94k/KUeLZUnaez+rvKOAw2WFP+gtHjJ8UHU/Vt0BEbWYiz8p4KOJYAaQP8DJpSFYEJA/6hcjCAo0jD9LtKI5iseKP4lV1yligZA/SmskJxJijT9V8ZROir2OPw==",
          "dtype": "f8"
         }
        },
        {
         "hoverinfo": "text",
         "hovertext": [
          "Deck 40 — 8/8 carte mappate<br>Dart Goblin, Goblin Barrel, Knight, Goblin Gang, Cannon, Ice Spirit, The Log, Princess",
          "Deck 142 — 8/8 carte mappate<br>Knight, Goblin Barrel, Goblin Gang, Ice Spirit, Princess, Rocket, Inferno Tower, The Log",
          "Deck 163 — 8/8 carte mappate<br>Tesla, Goblin Barrel, Knight, Ice Spirit, Goblin Gang, The Log, Princess, Rocket",
          "Deck 204 — 8/8 carte mappate<br>Goblin Barrel, Valkyrie, Tesla, Ice Spirit, The Log, Princess, Rocket, Goblin Gang",
          "Deck 251 — 8/8 carte mappate<br>Valkyrie, Goblin Barrel, The Log, Princess, Goblin Gang, Dart Goblin, Ice Spirit, Cannon",
          "Deck 274 — 8/8 carte mappate<br>Tesla, Wizard, Wall Breakers, Mega Knight, Goblin Barrel, The Log, Skeletons, Ice Spirit",
          "Deck 282 — 8/8 carte mappate<br>Knight, Goblin Barrel, Inferno Tower, Ice Spirit, Princess, The Log, Goblin Gang, Rocket",
          "Deck 347 — 8/8 carte mappate<br>Royal Recruits, Goblin Barrel, Dart Goblin, The Log, Princess, Skeleton King, Cannon, Ice Spirit",
          "Deck 459 — 8/8 carte mappate<br>Knight, Goblin Barrel, Goblin Gang, Ice Spirit, Inferno Tower, Princess, The Log, Rocket",
          "Deck 483 — 8/8 carte mappate<br>Dart Goblin, Goblin Barrel, Boss Bandit, Ice Spirit, The Log, Cannon, Goblin Gang, Princess",
          "Deck 518 — 8/8 carte mappate<br>Firecracker, Knight, Goblin Barrel, Rocket, The Log, Inferno Tower, Ice Spirit, Goblin Gang",
          "Deck 573 — 8/8 carte mappate<br>Valkyrie, Ice Spirit, The Log, Goblin Barrel, Rocket, Inferno Tower, Goblin Gang, Princess",
          "Deck 620 — 8/8 carte mappate<br>Tesla, Firecracker, Royal Delivery, Goblin Gang, Knight, Ice Spirit, Goblin Barrel, Magic Archer",
          "Deck 624 — 8/8 carte mappate<br>Goblin Barrel, Valkyrie, Dart Goblin, Ice Spirit, Goblin Gang, Cannon, Wall Breakers, Princess",
          "Deck 668 — 8/8 carte mappate<br>Goblin Barrel, Valkyrie, Inferno Tower, Royal Delivery, Goblin Gang, Rocket, Firecracker, The Log",
          "Deck 677 — 8/8 carte mappate<br>Knight, Dart Goblin, Princess, Goblin Barrel, Goblin Gang, Ice Spirit, Inferno Tower, The Log",
          "Deck 757 — 8/8 carte mappate<br>Knight, Ice Spirit, Rocket, The Log, Goblin Barrel, Inferno Tower, Princess, Goblin Gang",
          "Deck 845 — 8/8 carte mappate<br>Dart Goblin, Goblin Barrel, Princess, Goblin Gang, Inferno Tower, The Log, Ice Spirit, Knight",
          "Deck 853 — 8/8 carte mappate<br>Knight, Goblin Barrel, Cannon, Goblin Gang, Princess, The Log, Ice Spirit, Firecracker",
          "Deck 870 — 8/8 carte mappate<br>Knight, Goblin Barrel, Inferno Tower, Princess, The Log, Rocket, Ice Spirit, Skeleton Army",
          "Deck 895 — 8/8 carte mappate<br>Goblin Barrel, Knight, The Log, Rocket, Inferno Tower, Ice Spirit, Goblin Gang, Princess",
          "Deck 896 — 8/8 carte mappate<br>Goblin Barrel, Dart Goblin, Princess, The Log, Cannon, Knight, Goblin Gang, Ice Spirit",
          "Deck 932 — 8/8 carte mappate<br>Knight, Princess, Goblin Barrel, Inferno Tower, Rocket, The Log, Ice Spirit, Goblin Gang",
          "Deck 1085 — 8/8 carte mappate<br>Dart Goblin, Goblin Barrel, Knight, The Log, Goblin Gang, Princess, Inferno Tower, Skeletons",
          "Deck 1101 — 8/8 carte mappate<br>Rocket, Goblin Barrel, Inferno Tower, Goblin Gang, Knight, Princess, Ice Spirit, The Log",
          "Deck 1131 — 8/8 carte mappate<br>Goblin Barrel, Dart Goblin, Princess, Mighty Miner, The Log, Ice Spirit, Cannon, Rocket",
          "Deck 1134 — 8/8 carte mappate<br>Knight, Goblin Barrel, Goblin Gang, Rocket, Inferno Tower, Electro Spirit, Princess, The Log",
          "Deck 1159 — 8/8 carte mappate<br>Wall Breakers, Skeletons, Ice Spirit, Dark Prince, Dart Goblin, The Log, Rocket, Princess",
          "Deck 1197 — 8/8 carte mappate<br>Goblin Barrel, Valkyrie, Tesla, The Log, Ice Spirit, Goblin Gang, Dart Goblin, Rocket",
          "Deck 1292 — 8/8 carte mappate<br>Goblin Barrel, Dart Goblin, The Log, Cannon, Mighty Miner, Princess, Goblin Gang, Ice Spirit",
          "Deck 1323 — 8/8 carte mappate<br>Wall Breakers, Skeleton Barrel, Dart Goblin, The Log, Goblin Gang, Cannon, Royal Delivery, Knight",
          "Deck 1409 — 8/8 carte mappate<br>Valkyrie, Dart Goblin, Princess, Goblin Barrel, Goblin Gang, Cannon, Wall Breakers, Ice Spirit",
          "Deck 1554 — 8/8 carte mappate<br>Knight, Dart Goblin, Cannon, Goblin Gang, Princess, Goblin Barrel, Ice Spirit, The Log",
          "Deck 1586 — 8/8 carte mappate<br>Dart Goblin, Valkyrie, Princess, The Log, Goblin Gang, Cannon, Wall Breakers, Goblin Barrel",
          "Deck 1589 — 8/8 carte mappate<br>Valkyrie, Goblin Barrel, Princess, Ice Spirit, Electro Spirit, Inferno Tower, The Log, Skeleton Army",
          "Deck 1617 — 8/8 carte mappate<br>Knight, The Log, Goblin Barrel, Princess, Vines, Goblin Gang, Dart Goblin, Ice Spirit",
          "Deck 1624 — 8/8 carte mappate<br>Goblin Barrel, Knight, Rocket, Goblin Gang, Inferno Tower, Ice Spirit, The Log, Princess",
          "Deck 1662 — 8/8 carte mappate<br>Goblin Barrel, Knight, Ice Spirit, Rocket, Goblin Gang, Princess, Inferno Tower, The Log",
          "Deck 1665 — 8/8 carte mappate<br>Ice Spirit, Goblin Barrel, The Log, Princess, Rocket, Knight, Inferno Tower, Goblin Gang",
          "Deck 1699 — 8/8 carte mappate<br>Goblin Barrel, Dart Goblin, Mighty Miner, Princess, Cannon, The Log, Ice Spirit, Goblin Gang",
          "Deck 1715 — 8/8 carte mappate<br>Goblin Barrel, Valkyrie, Dart Goblin, Ice Spirit, Goblin Gang, Wall Breakers, Cannon, Princess",
          "Deck 1760 — 8/8 carte mappate<br>Goblin Barrel, Valkyrie, Vines, Dart Goblin, Goblin Gang, Cannon, Ice Spirit, Princess",
          "Deck 1803 — 8/8 carte mappate<br>Skeleton Barrel, Valkyrie, Princess, Dart Goblin, Cannon, The Log, Goblin Gang, Goblin Barrel",
          "Deck 1810 — 8/8 carte mappate<br>Cannon, Dart Goblin, Goblin Gang, Knight, Rocket, Goblin Barrel, Princess, The Log",
          "Deck 1811 — 8/8 carte mappate<br>Valkyrie, Knight, Ice Spirit, Goblin Barrel, Inferno Tower, The Log, Fireball, Princess",
          "Deck 1815 — 8/8 carte mappate<br>Knight, Goblin Barrel, Inferno Tower, Ice Spirit, The Log, Goblin Gang, Princess, Rocket",
          "Deck 1818 — 8/8 carte mappate<br>Valkyrie, Goblin Barrel, Goblin Gang, Inferno Tower, Ice Spirit, Skeletons, The Log, Dart Goblin",
          "Deck 1860 — 8/8 carte mappate<br>Knight, Dart Goblin, Inferno Tower, The Log, Goblin Barrel, Goblin Gang, Princess, Ice Spirit",
          "Deck 1871 — 8/8 carte mappate<br>Rocket, Tesla, The Log, Princess, Knight, Goblin Gang, Ice Spirit, Goblin Barrel",
          "Deck 1888 — 8/8 carte mappate<br>Knight, Goblin Barrel, Ice Spirit, Princess, Inferno Tower, Rocket, The Log, Goblin Gang",
          "Deck 1891 — 8/8 carte mappate<br>Firecracker, Dart Goblin, Hog Rider, The Log, Tesla, Goblin Gang, Skeletons, Goblin Barrel",
          "Deck 1919 — 8/8 carte mappate<br>Goblin Barrel, Dart Goblin, Valkyrie, Princess, The Log, Rocket, Cannon, Electro Spirit",
          "Deck 1922 — 8/8 carte mappate<br>Goblin Barrel, Knight, The Log, Goblin Gang, Rocket, Princess, Ice Spirit, Inferno Tower",
          "Deck 1953 — 8/8 carte mappate<br>Dart Goblin, Goblin Barrel, Goblin Gang, Knight, Cannon, Bandit, Princess, The Log",
          "Deck 1965 — 8/8 carte mappate<br>Tesla, Knight, Ice Spirit, Goblin Barrel, Rocket, Dart Goblin, Skeletons, Goblin Gang",
          "Deck 2190 — 8/8 carte mappate<br>Goblin Barrel, Valkyrie, The Log, Inferno Tower, Rocket, Princess, Goblin Gang, Ice Spirit",
          "Deck 2206 — 8/8 carte mappate<br>Knight, Skeletons, Inferno Tower, Princess, Dart Goblin, Goblin Barrel, The Log, Royal Delivery",
          "Deck 2332 — 8/8 carte mappate<br>Goblin Barrel, Dart Goblin, Mighty Miner, Goblin Gang, The Log, Cannon, Princess, Ice Spirit",
          "Deck 2365 — 8/8 carte mappate<br>Goblin Barrel, Wall Breakers, Dart Goblin, Knight, Suspicious Bush, Princess, The Log, Goblin Gang",
          "Deck 2372 — 8/8 carte mappate<br>Dart Goblin, Goblin Barrel, Goblin Gang, Princess, The Log, Knight, Inferno Tower, Ice Spirit",
          "Deck 2413 — 8/8 carte mappate<br>Valkyrie, Goblin Barrel, Dart Goblin, Princess, The Log, Cannon, Goblin Gang, Ice Spirit"
         ],
         "marker": {
          "color": "rgb(255,127,0)",
          "size": 6
         },
         "mode": "markers",
         "name": "Cluster 13",
         "text": [
          "Deck 40",
          "Deck 142",
          "Deck 163",
          "Deck 204",
          "Deck 251",
          "Deck 274",
          "Deck 282",
          "Deck 347",
          "Deck 459",
          "Deck 483",
          "Deck 518",
          "Deck 573",
          "Deck 620",
          "Deck 624",
          "Deck 668",
          "Deck 677",
          "Deck 757",
          "Deck 845",
          "Deck 853",
          "Deck 870",
          "Deck 895",
          "Deck 896",
          "Deck 932",
          "Deck 1085",
          "Deck 1101",
          "Deck 1131",
          "Deck 1134",
          "Deck 1159",
          "Deck 1197",
          "Deck 1292",
          "Deck 1323",
          "Deck 1409",
          "Deck 1554",
          "Deck 1586",
          "Deck 1589",
          "Deck 1617",
          "Deck 1624",
          "Deck 1662",
          "Deck 1665",
          "Deck 1699",
          "Deck 1715",
          "Deck 1760",
          "Deck 1803",
          "Deck 1810",
          "Deck 1811",
          "Deck 1815",
          "Deck 1818",
          "Deck 1860",
          "Deck 1871",
          "Deck 1888",
          "Deck 1891",
          "Deck 1919",
          "Deck 1922",
          "Deck 1953",
          "Deck 1965",
          "Deck 2190",
          "Deck 2206",
          "Deck 2332",
          "Deck 2365",
          "Deck 2372",
          "Deck 2413"
         ],
         "type": "scatter3d",
         "x": {
          "bdata": "Lm3MPDXQrz917y1cEt2sP3W2t/KQaq8/5gkMaDjxqz+ewCCy3FasP2h0hrAboKY/de8tXBLdrD9u8hdjtxaqP3TvLVwS3aw//uLklieQqz9KoGXb4X+pP+RCgtG5Y6k/fKWPcyfNqz9m6SHSIBKrP3m6gZHKUqc/l4riQk6Fqz907y1cEt2sP5iK4kJOhas/MpETzHfJrj8Nj0uuM9apP3TvLVwS3aw/MG3MPDXQrz907y1cEt2sP0vQR/8QEKo/de8tXBLdrD/drouZw7KyP0U19CXjRKs/CrsuM9mYqj+4lvxXxZqpP/9bUUDRu7E/ldbrSmT4rD9m6SHSIBKrPy9tzDw10K8/1rpl4KQBqD9/yeGTWManP/yyQdZYVak/dO8tXBLdrD917y1cEt2sP3bvLVwS3aw//ltRQNG7sT9m6SHSIBKrP6bROtqQgKg/yhypHraApj/9y1CWiM6sP+TFwFfkYak/de8tXBLdrD+ctlMktpmoP5iK4kJOhas/eLa38pBqrz907y1cEt2sP9voq16l86c/LaxbLpKsrD907y1cEt2sP897ITggZKc/jrfJkFyvrj/iQoLRuWOpP/7uf8zxJbA//1tRQNG7sT8shNAKQmunP5iK4kJOhas/nsAgstxWrD8=",
          "dtype": "f8"
         },
         "y": {
          "bdata": "jq4C5Ws3nL/3i+UZWTihvwCXZ7eYQ56/bmcwr3EeoL9p5vuLtjCevyUlB2sK0Ji/94vlGVk4ob9Lsdvy0eaQv/eL5RlZOKG/yJEQhDzVm79bFylTqnafv+UnYm3+NKK/QXd5YCJkl79X2zsZhwyev0lTA7reCZ6/ArdG9DUSob/3i+UZWTihvwK3RvQ1EqG/0TqA6679m7/6B+jeUvihv/eL5RlZOKG/jq4C5Ws3nL/4i+UZWTihv6VYesgIdaC/94vlGVk4ob9EXAMWD7CZv95/pohS656/wAiir/5Ulb8EQkF3mHydv47hd72Fopq/rql1ZPd2kb9X2zsZhwyev46uAuVrN5y/50BVPeO3nr9MJvt6jamfv8N7Ba1EOJi/94vlGVk4ob/3i+UZWTihv/iL5RlZOKG/juF3vYWimr9X2zsZhwyevwb3P6CWc5m/btHhtfUToL8AOKwjb/KevxQYYtHR1p+/94vlGVk4ob/JfGJdVLSdvwG3RvQ1EqG//5Znt5hDnr/3i+UZWTihv6Vwty+JiZy/D8liOeC4mb/3i+UZWTihv8pAG/IwPZ6/4eeVVJedmb/kJ2Jt/jSiv5+mt2qB1pm/juF3vYWimr+ztiDCrkCdvwK3RvQ1EqG/aub7i7Ywnr8=",
          "dtype": "f8"
         },
         "z": {
          "bdata": "apvY+YKLhr/zsOzyWLCLv/ljQJAKI4O/8WKgWzkHg79jmjjFsW+Gv6Kr60BkqHO/87Ds8liwi78VNIf59OqSv/Kw7PJYsIu/dqbSy/Cti7/l2ZLPU2+Dv+yvTL6HlIu/Q9v5S94+ab9JiY8OCz+Rv99/DrrnPYK/vQlwWHUqj7/0sOzyWLCLv74JcFh1Ko+/E831BdxbgL/4XX6Yf/eFv/Sw7PJYsIu/a5vY+YKLhr/0sOzyWLCLvzvs4uxf746/9LDs8liwi78lLgbiuFWGv9ftwM+PYYi/BIghQRIAfr86Wiks2/WAv9/dxLnFTou/w5qYzJkHjL9IiY8OCz+Rv2qb2PmCi4a/lGygExt5kr/Lw/6AdmB5vx4txeQbvom/9LDs8liwi7/zsOzyWLCLv/Sw7PJYsIu/4N3EucVOi79JiY8OCz+Rvyw1x1y+JIi/wY41gjkOkr9X0wv6LGiMvzLGXeiyL3y/87Ds8liwi7/FURUjamuDv78JcFh1Ko+/+mNAkAojg7/ysOzyWLCLv2jg3Ig4tni/Fk+clLdPfL/0sOzyWLCLv+EEqFN7Yom/V+401u3EfL/rr0y+h5SLv5erDDQOBIO/393EucVOi79m5sMkdBuav78JcFh1Ko+/YZo4xbFvhr8=",
          "dtype": "f8"
         }
        },
        {
         "hoverinfo": "text",
         "hovertext": [
          "Deck 10 — 8/8 carte mappate<br>Wizard, Goblin Barrel, Prince, Bowler, Zap, Mega Knight, Inferno Dragon, Tornado",
          "Deck 27 — 8/8 carte mappate<br>Firecracker, Mega Knight, Mini P.E.K.K.A, Valkyrie, Elixir Golem, Arrows, Mirror, Witch",
          "Deck 52 — 8/8 carte mappate<br>Mega Knight, Executioner, Inferno Dragon, Electro Wizard, Guards, Mini P.E.K.K.A, Bats, Zap",
          "Deck 85 — 8/8 carte mappate<br>Mega Knight, Witch, Wizard, Bats, Elixir Golem, Fireball, Valkyrie, Arrows",
          "Deck 87 — 8/8 carte mappate<br>Valkyrie, Wizard, Giant Skeleton, Minion Horde, Skeleton Army, Rage, Clone, Ram Rider",
          "Deck 104 — 8/8 carte mappate<br>Valkyrie, Wizard, Balloon, Minion Horde, Mini P.E.K.K.A, Prince, Skeleton Army, Zap",
          "Deck 113 — 8/8 carte mappate<br>P.E.K.K.A, Battle Ram, Dark Prince, Electro Wizard, Bandit, Magic Archer, Fireball, Zap",
          "Deck 116 — 8/8 carte mappate<br>Firecracker, Mega Knight, Rage, Skeleton Army, Minion Horde, Prince, Balloon, Fireball",
          "Deck 129 — 8/8 carte mappate<br>Valkyrie, Mega Knight, Balloon, Skeleton Army, Minion Horde, Arrows, Mirror, Lightning",
          "Deck 133 — 8/8 carte mappate<br>Lumberjack, Wizard, Skeleton Army, Freeze, Prince, Electro Wizard, Minion Horde, Elite Barbarians",
          "Deck 143 — 8/8 carte mappate<br>Valkyrie, Wizard, Tornado, Elite Barbarians, Inferno Dragon, Rage, Prince, Hog Rider",
          "Deck 153 — 8/8 carte mappate<br>Mega Knight, Wizard, Rage, Inferno Tower, Boss Bandit, Elite Barbarians, Golem, Witch",
          "Deck 171 — 8/8 carte mappate<br>Lumberjack, Mega Knight, Wizard, P.E.K.K.A, Bandit, The Log, Magic Archer, Arrows",
          "Deck 191 — 8/8 carte mappate<br>Witch, Giant Skeleton, Rocket, Elixir Golem, Rage, Mirror, Arrows, Minion Horde",
          "Deck 199 — 8/8 carte mappate<br>Valkyrie, Witch, Hog Rider, Sparky, Battle Healer, Wizard, Magic Archer, Elixir Golem",
          "Deck 200 — 8/8 carte mappate<br>Witch, Skeleton Barrel, Vines, Mini P.E.K.K.A, Minions, Arrows, Clone, Elite Barbarians",
          "Deck 209 — 8/8 carte mappate<br>Valkyrie, Mega Knight, Balloon, Witch, Skeleton Army, Executioner, Ram Rider, Arrows",
          "Deck 213 — 8/8 carte mappate<br>Lumberjack, Valkyrie, Sparky, Electro Wizard, Zap, Bats, Inferno Dragon, Balloon",
          "Deck 240 — 8/8 carte mappate<br>Wizard, P.E.K.K.A, Minion Horde, Elite Barbarians, Arrows, Mini P.E.K.K.A, Rage, Rocket",
          "Deck 244 — 8/8 carte mappate<br>Royal Giant, Mega Knight, Electro Wizard, Arrows, Fireball, Witch, Skeleton Army, Barbarians",
          "Deck 246 — 8/8 carte mappate<br>Mega Knight, Wizard, Balloon, Bomber, Suspicious Bush, Zap, Lumberjack, Bats",
          "Deck 353 — 8/8 carte mappate<br>Mega Knight, Royal Giant, Sparky, Witch, Bats, Zap, Rage, Mirror",
          "Deck 361 — 8/8 carte mappate<br>Valkyrie, Mega Knight, Electro Wizard, Boss Bandit, Lightning, Mini P.E.K.K.A, Inferno Dragon, Arrows",
          "Deck 366 — 8/8 carte mappate<br>Royal Giant, Lumberjack, Elite Barbarians, Minion Horde, Skeleton Army, Wizard, Zap, Rocket",
          "Deck 380 — 8/8 carte mappate<br>Zap, Archers, Giant, Goblin Gang, Sparky, Bats, Arrows, Prince",
          "Deck 401 — 8/8 carte mappate<br>Lava Hound, Valkyrie, Mega Minion, Minion Horde, Arrows, Clone, Skeleton Army, Fireball",
          "Deck 430 — 8/8 carte mappate<br>Battle Ram, Zap, Bandit, Magic Archer, Fireball, P.E.K.K.A, Electro Wizard, Dark Prince",
          "Deck 453 — 8/8 carte mappate<br>Mega Knight, P.E.K.K.A, Freeze, Fireball, Elite Barbarians, Rage, Inferno Dragon, Witch",
          "Deck 460 — 8/8 carte mappate<br>Dart Goblin, Tesla, Lumberjack, Balloon, Skeleton Army, Sparky, Freeze, Arrows",
          "Deck 466 — 8/8 carte mappate<br>Mega Knight, Witch, Valkyrie, Freeze, Bats, Balloon, Fireball, Minion Horde",
          "Deck 467 — 8/8 carte mappate<br>Firecracker, Lumberjack, Wizard, Elite Barbarians, Arrows, Rage, Giant Skeleton, Furnace",
          "Deck 471 — 8/8 carte mappate<br>Mega Knight, Valkyrie, Mirror, Arrows, Witch, Electro Wizard, Lightning, Sparky",
          "Deck 493 — 8/8 carte mappate<br>Wizard, Witch, P.E.K.K.A, Boss Bandit, Skeleton Army, Freeze, Bats, Fireball",
          "Deck 502 — 8/8 carte mappate<br>Battle Ram, Lumberjack, Archer Queen, Mega Knight, Witch, Rage, Arrows, Skeleton Army",
          "Deck 515 — 8/8 carte mappate<br>Witch, Mega Knight, Royal Hogs, Bandit, Mother Witch, Wizard, Valkyrie, Minion Horde",
          "Deck 528 — 8/8 carte mappate<br>Firecracker, Mega Knight, Ram Rider, Goblin Barrel, Baby Dragon, Balloon, Minion Horde, Wizard",
          "Deck 530 — 8/8 carte mappate<br>Mega Knight, Wizard, Minion Horde, Skeleton Army, Rage, Balloon, Rocket, Royal Hogs",
          "Deck 538 — 8/8 carte mappate<br>Mega Knight, Firecracker, Bandit, Skeleton Army, Zap, Ram Rider, Bats, Prince",
          "Deck 545 — 8/8 carte mappate<br>Mirror, Wizard, Tornado, Mega Knight, Sparky, P.E.K.K.A, Archers, Zap",
          "Deck 558 — 8/8 carte mappate<br>Wizard, Mega Knight, Hog Rider, Zap, Minions, Mirror, Musketeer, Prince",
          "Deck 581 — 8/8 carte mappate<br>Wizard, Mega Knight, Valkyrie, Electro Wizard, Hog Rider, Rage, Arrows, Mini P.E.K.K.A",
          "Deck 592 — 8/8 carte mappate<br>Inferno Dragon, Executioner, Arrows, Firecracker, Rocket, Giant, Barbarians, Wizard",
          "Deck 593 — 8/8 carte mappate<br>Barbarians, Battle Ram, Prince, Minion Horde, Rocket, Wizard, Witch, Musketeer",
          "Deck 606 — 8/8 carte mappate<br>Witch, Bats, Clone, Skeleton Army, Giant Skeleton, Arrows, Skeleton King, Mirror",
          "Deck 615 — 8/8 carte mappate<br>Valkyrie, Mega Knight, Arrows, Bats, Freeze, Balloon, Electro Wizard, Witch",
          "Deck 619 — 8/8 carte mappate<br>Bats, Firecracker, Prince, Zap, P.E.K.K.A, Electro Wizard, Arrows, Lightning",
          "Deck 623 — 8/8 carte mappate<br>Goblin Barrel, Wizard, Hog Rider, Giant Skeleton, Skeleton Army, Rage, Inferno Dragon, Mirror",
          "Deck 625 — 8/8 carte mappate<br>Valkyrie, Mega Knight, Executioner, Dark Prince, Lightning, Prince, Inferno Tower, Electro Wizard",
          "Deck 638 — 8/8 carte mappate<br>Zap, Witch, Minions, Fireball, Prince, Giant Skeleton, Arrows, Skeleton Army",
          "Deck 642 — 8/8 carte mappate<br>Zap, Bats, Mini P.E.K.K.A, Minion Horde, Sparky, Skeleton Army, Arrows, Giant",
          "Deck 646 — 8/8 carte mappate<br>Mega Knight, Executioner, Bandit, Electro Wizard, Firecracker, Lumberjack, Witch, Clone",
          "Deck 664 — 8/8 carte mappate<br>Lumberjack, Valkyrie, Skeleton Army, Witch, Mirror, Prince, Fireball, Elixir Collector",
          "Deck 679 — 8/8 carte mappate<br>Lumberjack, Zap, Balloon, Mini P.E.K.K.A, Inferno Tower, Electro Wizard, Skeleton Army, Wizard",
          "Deck 704 — 8/8 carte mappate<br>Wizard, Barbarians, Zap, Ram Rider, Prince, Dark Prince, Arrows, Giant Skeleton",
          "Deck 719 — 8/8 carte mappate<br>Wizard, Valkyrie, Witch, Rage, Prince, Skeleton Army, Princess, Minion Horde",
          "Deck 720 — 8/8 carte mappate<br>Wizard, Night Witch, Golem, Giant Skeleton, Clone, Arrows, Rocket, Minion Horde",
          "Deck 721 — 8/8 carte mappate<br>Valkyrie, Wizard, Arrows, Balloon, Lumberjack, Skeleton Army, Minion Horde, Barbarians",
          "Deck 725 — 8/8 carte mappate<br>Valkyrie, Royal Giant, Freeze, Fireball, Arrows, Mini P.E.K.K.A, Skeleton Dragons, Witch",
          "Deck 742 — 8/8 carte mappate<br>Mega Knight, P.E.K.K.A, Witch, Arrows, Wizard, Firecracker, Balloon, Lumberjack",
          "Deck 756 — 8/8 carte mappate<br>Mega Knight, Prince, Bandit, Sparky, Bats, Electro Wizard, Fireball, Zap",
          "Deck 760 — 8/8 carte mappate<br>Wizard, Mega Knight, Royal Hogs, Rocket, Inferno Dragon, Clone, Giant Skeleton, Barbarians",
          "Deck 767 — 8/8 carte mappate<br>Minion Horde, Elixir Collector, Rocket, Prince, Arrows, Wizard, Inferno Dragon, Skeleton Army",
          "Deck 769 — 8/8 carte mappate<br>Mega Knight, Witch, Bandit, Dart Goblin, Minion Horde, Mini P.E.K.K.A, Guards, Minions",
          "Deck 772 — 8/8 carte mappate<br>Wizard, Mega Knight, Arrows, Baby Dragon, Skeleton Army, Sparky, Lightning, Mirror",
          "Deck 773 — 8/8 carte mappate<br>Balloon, Lumberjack, Mini P.E.K.K.A, Arrows, Electro Wizard, Minion Horde, Miner, Skeleton Army",
          "Deck 782 — 8/8 carte mappate<br>Firecracker, Mega Knight, Electro Giant, Arrows, Executioner, Skeleton Army, Minion Horde, Electro Wizard",
          "Deck 791 — 8/8 carte mappate<br>Valkyrie, Lightning, Inferno Tower, Arrows, Fireball, Giant, Witch, Minion Horde",
          "Deck 800 — 8/8 carte mappate<br>Zap, Witch, Hog Rider, Giant Skeleton, Goblin Gang, Freeze, Bandit, Inferno Dragon",
          "Deck 813 — 8/8 carte mappate<br>Valkyrie, Wizard, Skeleton Army, Fireball, Balloon, Witch, Baby Dragon, Ram Rider",
          "Deck 830 — 8/8 carte mappate<br>Barbarians, Valkyrie, Arrows, Balloon, Freeze, Skeleton Army, Prince, Musketeer",
          "Deck 835 — 8/8 carte mappate<br>Mega Knight, Witch, Spear Goblins, Skeleton Army, Zap, Electro Wizard, Ice Wizard, Clone",
          "Deck 857 — 8/8 carte mappate<br>Mega Knight, Wizard, Prince, Sparky, Electro Wizard, Firecracker, Elixir Golem, Arrows",
          "Deck 871 — 8/8 carte mappate<br>Wizard, Mega Knight, Witch, Arrows, Lightning, Mirror, P.E.K.K.A, Balloon",
          "Deck 881 — 8/8 carte mappate<br>Prince, Firecracker, Minion Horde, Balloon, Arrows, Freeze, Rage, Barbarians",
          "Deck 884 — 8/8 carte mappate<br>Barbarians, Mega Knight, Witch, Wizard, Fireball, Prince, Elixir Golem, Arrows",
          "Deck 906 — 8/8 carte mappate<br>Valkyrie, Elite Barbarians, Mega Knight, Minions, Wizard, Inferno Dragon, Boss Bandit, Lightning",
          "Deck 923 — 8/8 carte mappate<br>Royal Giant, Wizard, Elite Barbarians, The Log, Witch, P.E.K.K.A, Freeze, Skeleton Army",
          "Deck 927 — 8/8 carte mappate<br>Firecracker, Mega Knight, Wizard, Golden Knight, Ram Rider, Lightning, Battle Ram, Witch",
          "Deck 929 — 8/8 carte mappate<br>Witch, P.E.K.K.A, Battle Ram, Zap, Fireball, Lumberjack, Mini P.E.K.K.A, Electro Wizard",
          "Deck 930 — 8/8 carte mappate<br>Wizard, Lumberjack, Dart Goblin, Dark Prince, Witch, Battle Ram, Zap, Freeze",
          "Deck 957 — 8/8 carte mappate<br>P.E.K.K.A, Executioner, Balloon, Minion Horde, Lumberjack, Inferno Tower, Electro Wizard, Clone",
          "Deck 959 — 8/8 carte mappate<br>Valkyrie, Musketeer, Spear Goblins, Arrows, Skeleton Army, Balloon, Witch, Lava Hound",
          "Deck 965 — 8/8 carte mappate<br>Mega Knight, Firecracker, Elite Barbarians, Skeleton Barrel, Mini P.E.K.K.A, Electro Wizard, Lumberjack, P.E.K.K.A",
          "Deck 967 — 8/8 carte mappate<br>Mega Knight, Zap, Arrows, Electro Wizard, Dark Prince, Inferno Dragon, Royal Ghost, Hog Rider",
          "Deck 970 — 8/8 carte mappate<br>Wizard, Mega Knight, Guards, Electro Wizard, Mirror, Sparky, Bats, Electro Giant",
          "Deck 985 — 8/8 carte mappate<br>Firecracker, Lumberjack, Skeleton Army, Prince, Electro Wizard, Arrows, Elite Barbarians, Hog Rider",
          "Deck 999 — 8/8 carte mappate<br>Wizard, Prince, Elite Barbarians, Mirror, Minions, Fireball, Arrows, Rage",
          "Deck 1003 — 8/8 carte mappate<br>Wizard, P.E.K.K.A, Arrows, Vines, Golden Knight, Goblin Gang, Prince, Electro Wizard",
          "Deck 1010 — 8/8 carte mappate<br>Barbarians, Valkyrie, Arrows, Balloon, Freeze, Skeleton Army, Prince, Musketeer",
          "Deck 1021 — 8/8 carte mappate<br>Knight, Wizard, Mirror, Minion Horde, Elite Barbarians, Fireball, Freeze, Zap",
          "Deck 1029 — 8/8 carte mappate<br>Firecracker, Lumberjack, Miner, Giant Skeleton, Mini P.E.K.K.A, Inferno Dragon, Bandit, Freeze",
          "Deck 1030 — 8/8 carte mappate<br>Mega Knight, Wizard, Mirror, Mini P.E.K.K.A, The Log, Electro Wizard, Lightning, Ram Rider",
          "Deck 1034 — 8/8 carte mappate<br>Goblin Giant, Wizard, Goblin Barrel, Barbarians, Zap, Boss Bandit, Arrows, Inferno Tower",
          "Deck 1036 — 8/8 carte mappate<br>Mega Knight, Witch, Lumberjack, Balloon, Dart Goblin, Wizard, Mini P.E.K.K.A, Arrows",
          "Deck 1044 — 8/8 carte mappate<br>Wizard, Balloon, Prince, Inferno Dragon, Arrows, Valkyrie, Minion Horde, Skeleton Army",
          "Deck 1067 — 8/8 carte mappate<br>Zap, P.E.K.K.A, Magic Archer, Bandit, Royal Ghost, Electro Wizard, Battle Ram, Fireball",
          "Deck 1082 — 8/8 carte mappate<br>Wizard, Valkyrie, P.E.K.K.A, Balloon, Lumberjack, Electro Wizard, Goblin Gang, Arrows",
          "Deck 1090 — 8/8 carte mappate<br>Valkyrie, Witch, Skeleton Army, Giant Skeleton, Arrows, Electro Wizard, Hog Rider, Inferno Dragon",
          "Deck 1093 — 8/8 carte mappate<br>Witch, Mega Knight, Elixir Golem, Electro Wizard, Arrows, Knight, Firecracker, Inferno Dragon",
          "Deck 1108 — 8/8 carte mappate<br>Firecracker, Valkyrie, Mirror, Mini P.E.K.K.A, Goblin Gang, Skeleton Army, Rage, Balloon",
          "Deck 1109 — 8/8 carte mappate<br>Valkyrie, Witch, Minions, Mega Minion, Dart Goblin, Zap, Mini P.E.K.K.A, Balloon",
          "Deck 1123 — 8/8 carte mappate<br>Valkyrie, Witch, Arrows, Elixir Golem, Mega Knight, Guards, Mini P.E.K.K.A, Firecracker",
          "Deck 1127 — 8/8 carte mappate<br>Mega Knight, Valkyrie, Lumberjack, Arrows, Fireball, Skeleton Army, Witch, Minions",
          "Deck 1129 — 8/8 carte mappate<br>Witch, Valkyrie, Mini P.E.K.K.A, Bats, Dart Goblin, Rage, Firecracker, Elixir Golem",
          "Deck 1136 — 8/8 carte mappate<br>Wizard, Valkyrie, Bats, Mini P.E.K.K.A, Rage, Freeze, Balloon, Prince",
          "Deck 1138 — 8/8 carte mappate<br>Firecracker, Mega Knight, Mirror, Tornado, Sparky, Minion Horde, Goblin Barrel, Electro Wizard",
          "Deck 1149 — 8/8 carte mappate<br>Valkyrie, Barbarians, Hog Rider, Witch, Battle Ram, Freeze, Zap, Minions",
          "Deck 1153 — 8/8 carte mappate<br>Lumberjack, Valkyrie, Zap, Wizard, Balloon, Prince, Skeleton Army, Minion Horde",
          "Deck 1161 — 8/8 carte mappate<br>Wizard, Valkyrie, Tombstone, Prince, Lightning, Skeleton Army, Hog Rider, Arrows",
          "Deck 1168 — 8/8 carte mappate<br>Mega Knight, Arrows, Electro Wizard, P.E.K.K.A, Lumberjack, Executioner, Lightning, Prince",
          "Deck 1187 — 8/8 carte mappate<br>Mega Knight, Wizard, Ram Rider, Lumberjack, Prince, Mini P.E.K.K.A, Guards, Electro Wizard",
          "Deck 1191 — 8/8 carte mappate<br>Valkyrie, Mega Knight, Wizard, Zap, Prince, Witch, Arrows, Bandit",
          "Deck 1217 — 8/8 carte mappate<br>Valkyrie, Wizard, Elite Barbarians, Zap, Electro Wizard, Skeleton Army, Rage, Giant Skeleton",
          "Deck 1230 — 8/8 carte mappate<br>Mega Knight, Witch, Zap, Skeleton Army, Minion Horde, Hog Rider, Elite Barbarians, Rage",
          "Deck 1239 — 8/8 carte mappate<br>Firecracker, Valkyrie, Hog Rider, Skeleton Army, Wizard, Balloon, Minions, Bandit",
          "Deck 1247 — 8/8 carte mappate<br>Firecracker, Mega Knight, Guards, Royal Ghost, Electro Wizard, Prince, Zap, Minions",
          "Deck 1265 — 8/8 carte mappate<br>Barbarians, Mega Knight, Valkyrie, Skeleton Army, Baby Dragon, Arrows, Wizard, Prince",
          "Deck 1274 — 8/8 carte mappate<br>Witch, Mega Knight, Bomber, Inferno Dragon, Zap, Prince, Hog Rider, Freeze",
          "Deck 1276 — 8/8 carte mappate<br>Wizard, Goblin Barrel, Arrows, Sparky, Giant Skeleton, Minion Horde, Skeleton Army, Prince",
          "Deck 1278 — 8/8 carte mappate<br>Mega Knight, Executioner, Electro Wizard, Inferno Dragon, P.E.K.K.A, Witch, Zap, Miner",
          "Deck 1279 — 8/8 carte mappate<br>Firecracker, Zap, Mega Knight, Balloon, Bats, Mini P.E.K.K.A, Electro Wizard, Inferno Dragon",
          "Deck 1287 — 8/8 carte mappate<br>Valkyrie, Inferno Dragon, Mini P.E.K.K.A, Freeze, Arrows, Prince, Witch, Skeleton Army",
          "Deck 1296 — 8/8 carte mappate<br>Royal Giant, Witch, Wizard, Arrows, Lightning, Skeleton Army, Inferno Tower, Elite Barbarians",
          "Deck 1325 — 8/8 carte mappate<br>Valkyrie, Executioner, Rocket, Elite Barbarians, Wizard, Skeleton Army, Golem, Witch",
          "Deck 1332 — 8/8 carte mappate<br>Mega Knight, Wizard, Mirror, Elite Barbarians, Mini P.E.K.K.A, Skeleton Army, Minion Horde, Fireball",
          "Deck 1338 — 8/8 carte mappate<br>Wizard, Mega Knight, Ram Rider, Bats, Skeleton Army, Magic Archer, Rage, Miner",
          "Deck 1362 — 8/8 carte mappate<br>Wizard, Valkyrie, Balloon, Prince, Freeze, Skeleton Army, Fireball, Zap",
          "Deck 1401 — 8/8 carte mappate<br>Valkyrie, Wizard, Barbarians, Minion Horde, Baby Dragon, Zap, Prince, Witch",
          "Deck 1410 — 8/8 carte mappate<br>Mini P.E.K.K.A, Hog Rider, Lightning, Mega Knight, P.E.K.K.A, Wizard, Valkyrie, Electro Wizard",
          "Deck 1421 — 8/8 carte mappate<br>Firecracker, Valkyrie, Minions, Skeleton Army, Prince, Electro Giant, Zap, Rage",
          "Deck 1456 — 8/8 carte mappate<br>Mega Knight, Firecracker, Electro Giant, Bandit, Valkyrie, Inferno Dragon, Skeleton Army, Bats",
          "Deck 1462 — 8/8 carte mappate<br>Hog Rider, Elite Barbarians, Wizard, Arrows, Lava Hound, Zap, Minions, Barbarians",
          "Deck 1463 — 8/8 carte mappate<br>Bats, Battle Ram, Arrows, Magic Archer, Royal Ghost, Mini P.E.K.K.A, Skeleton Army, Hog Rider",
          "Deck 1466 — 8/8 carte mappate<br>Firecracker, Mega Knight, Valkyrie, Arrows, Minions, Lumberjack, Skeleton Army, Balloon",
          "Deck 1474 — 8/8 carte mappate<br>Wizard, Lumberjack, Skeleton Army, Giant Skeleton, Clone, Bats, Rage, Mirror",
          "Deck 1487 — 8/8 carte mappate<br>Firecracker, Mega Knight, Inferno Dragon, Lumberjack, Baby Dragon, Arrows, Fireball, Prince",
          "Deck 1492 — 8/8 carte mappate<br>Firecracker, Valkyrie, Skeleton Army, Rage, Witch, Electro Giant, Ram Rider, Arrows",
          "Deck 1501 — 8/8 carte mappate<br>Witch, Mega Knight, Guards, Wizard, Mini P.E.K.K.A, Electro Wizard, Hog Rider, Dark Prince",
          "Deck 1533 — 8/8 carte mappate<br>Mega Knight, Valkyrie, Mini P.E.K.K.A, Prince, Skeleton Army, Firecracker, Minions, Zap",
          "Deck 1540 — 8/8 carte mappate<br>Mega Knight, Wizard, Minion Horde, Fireball, Skeleton Army, Mirror, Hog Rider, Sparky",
          "Deck 1541 — 8/8 carte mappate<br>Barbarians, Wizard, Giant, Skeleton Army, Minion Horde, Sparky, Arrows, Rage",
          "Deck 1544 — 8/8 carte mappate<br>Witch, Tesla, Minions, Prince, Arrows, Battle Ram, Zap, Mini P.E.K.K.A",
          "Deck 1557 — 8/8 carte mappate<br>Bats, Wizard, Balloon, Skeleton Army, Rage, Bandit, Giant Skeleton, Mini P.E.K.K.A",
          "Deck 1567 — 8/8 carte mappate<br>Lumberjack, Wizard, Arrows, Mini P.E.K.K.A, Bats, Goblin Gang, Skeleton Army, Balloon",
          "Deck 1584 — 8/8 carte mappate<br>Inferno Dragon, Mega Knight, Sparky, Goblin Barrel, Mirror, Arrows, Miner, Mini P.E.K.K.A",
          "Deck 1585 — 8/8 carte mappate<br>Firecracker, Mega Knight, Skeleton Barrel, Arrows, Rage, Lightning, Bats, Prince",
          "Deck 1594 — 8/8 carte mappate<br>Wizard, Arrows, Skeleton Army, Balloon, Minion Horde, Mega Knight, Witch, Lumberjack",
          "Deck 1598 — 8/8 carte mappate<br>Wizard, Valkyrie, Arrows, Fireball, Minion Horde, Prince, Rage, Bandit",
          "Deck 1600 — 8/8 carte mappate<br>Firecracker, Mega Knight, Bats, Rage, Mini P.E.K.K.A, Zap, Battle Ram, Witch",
          "Deck 1606 — 8/8 carte mappate<br>P.E.K.K.A, Wizard, Zap, Arrows, Spear Goblins, Minions, Hog Rider, Elite Barbarians",
          "Deck 1610 — 8/8 carte mappate<br>Firecracker, Mega Knight, Balloon, Witch, Freeze, Mirror, Clone, Giant Skeleton",
          "Deck 1613 — 8/8 carte mappate<br>Zap, Minion Horde, Mirror, Prince, Hog Rider, Elite Barbarians, Skeleton Army, Arrows",
          "Deck 1658 — 8/8 carte mappate<br>Mega Knight, Inferno Dragon, Executioner, Witch, Mini P.E.K.K.A, Goblin Gang, Mirror, Zap",
          "Deck 1686 — 8/8 carte mappate<br>Inferno Dragon, Lumberjack, Zap, Arrows, Balloon, Skeleton Army, Wizard, Mini P.E.K.K.A",
          "Deck 1695 — 8/8 carte mappate<br>Firecracker, Mega Knight, Skeleton Dragons, Freeze, Magic Archer, Rage, Electro Wizard, P.E.K.K.A",
          "Deck 1706 — 8/8 carte mappate<br>Witch, Mega Knight, Furnace, Zap, Wizard, Guards, Arrows, Bats",
          "Deck 1729 — 8/8 carte mappate<br>Witch, Mega Knight, Freeze, Skeleton Army, Mini P.E.K.K.A, Elite Barbarians, Rage, Arrows",
          "Deck 1761 — 8/8 carte mappate<br>Mega Knight, Witch, Wizard, Skeleton Army, Prince, Rage, Mini P.E.K.K.A, Valkyrie",
          "Deck 1765 — 8/8 carte mappate<br>Firecracker, Wizard, Ram Rider, Giant, Arrows, Bats, Lumberjack, Clone",
          "Deck 1778 — 8/8 carte mappate<br>Mega Knight, Lumberjack, Bandit, Inferno Dragon, Arrows, Sparky, Wizard, Minion Horde",
          "Deck 1779 — 8/8 carte mappate<br>Mega Knight, Firecracker, Bandit, Zap, Arrows, Valkyrie, Battle Ram, Bats",
          "Deck 1784 — 8/8 carte mappate<br>Barbarians, Valkyrie, Inferno Dragon, Mega Knight, Hog Rider, Freeze, Skeleton Army, Magic Archer",
          "Deck 1802 — 8/8 carte mappate<br>Mega Knight, Valkyrie, Firecracker, Battle Ram, Skeleton Army, Witch, Skeleton King, Skeleton Dragons",
          "Deck 1804 — 8/8 carte mappate<br>Wizard, Mega Knight, P.E.K.K.A, Sparky, Fireball, Zap, Ram Rider, Elite Barbarians",
          "Deck 1828 — 8/8 carte mappate<br>Bats, Zap, Giant, Skeleton Army, Mini P.E.K.K.A, Minion Horde, Sparky, Arrows",
          "Deck 1832 — 8/8 carte mappate<br>Witch, Valkyrie, Lumberjack, Wizard, Balloon, Electro Wizard, Giant Skeleton, Freeze",
          "Deck 1875 — 8/8 carte mappate<br>Mega Knight, Witch, Balloon, Wizard, Boss Bandit, Inferno Dragon, P.E.K.K.A, Arrows",
          "Deck 1880 — 8/8 carte mappate<br>Witch, Valkyrie, Bats, Furnace, Balloon, Prince, Elite Barbarians, Skeleton Army",
          "Deck 1885 — 8/8 carte mappate<br>Mega Knight, Witch, Prince, Dart Goblin, Inferno Dragon, Sparky, Arrows, Firecracker",
          "Deck 1887 — 8/8 carte mappate<br>Zap, Wizard, Bats, Balloon, Vines, Skeleton Army, Elite Barbarians, Knight",
          "Deck 1895 — 8/8 carte mappate<br>Firecracker, Mega Knight, Elixir Golem, Minion Horde, Wizard, Baby Dragon, Elite Barbarians, Witch",
          "Deck 1903 — 8/8 carte mappate<br>Lava Hound, Mega Minion, Balloon, Minions, Goblin Gang, Skeleton Army, Arrows, Freeze",
          "Deck 1916 — 8/8 carte mappate<br>Mega Knight, Valkyrie, Baby Dragon, Balloon, Arrows, Bats, Rage, Goblin Gang",
          "Deck 1925 — 8/8 carte mappate<br>Witch, P.E.K.K.A, Mega Knight, Vines, Arrows, Wizard, Mirror, Elixir Golem",
          "Deck 1948 — 8/8 carte mappate<br>P.E.K.K.A, Firecracker, Electro Wizard, Dark Prince, Bandit, Battle Ram, Zap, Fireball",
          "Deck 1954 — 8/8 carte mappate<br>Firecracker, Witch, P.E.K.K.A, Fireball, Wizard, Elixir Golem, Skeleton Army, Ram Rider",
          "Deck 1967 — 8/8 carte mappate<br>Elixir Collector, Elite Barbarians, Skeleton Army, Minion Horde, Royal Delivery, Giant Skeleton, Sparky, Witch",
          "Deck 1995 — 8/8 carte mappate<br>P.E.K.K.A, Wizard, Executioner, Elite Barbarians, Skeleton Army, Zap, Electro Wizard, Arrows",
          "Deck 2052 — 8/8 carte mappate<br>Zap, Wizard, Prince, Lightning, The Log, P.E.K.K.A, Electro Wizard, Arrows",
          "Deck 2055 — 8/8 carte mappate<br>P.E.K.K.A, Balloon, Skeleton Army, Prince, Wizard, Hog Rider, Elite Barbarians, Rage",
          "Deck 2090 — 8/8 carte mappate<br>P.E.K.K.A, Wizard, Electro Wizard, Prince, Bats, Zap, Dark Prince, Fireball",
          "Deck 2104 — 8/8 carte mappate<br>Wizard, Valkyrie, Arrows, Fireball, Minion Horde, Prince, Rage, Bandit",
          "Deck 2107 — 8/8 carte mappate<br>P.E.K.K.A, Battle Ram, Magic Archer, Bandit, Royal Ghost, Electro Wizard, Zap, Fireball",
          "Deck 2112 — 8/8 carte mappate<br>Firecracker, Mega Knight, Lightning, Arrows, Magic Archer, Electro Wizard, P.E.K.K.A, Valkyrie",
          "Deck 2122 — 8/8 carte mappate<br>Witch, Mega Knight, Bats, Firecracker, Skeleton Army, Rage, Vines, Balloon",
          "Deck 2137 — 8/8 carte mappate<br>Valkyrie, Lumberjack, Electro Wizard, Balloon, Skeleton Army, Minions, Zap, Hog Rider",
          "Deck 2142 — 8/8 carte mappate<br>Witch, Mega Knight, Inferno Dragon, Freeze, Arrows, Rocket, Elite Barbarians, Valkyrie",
          "Deck 2189 — 8/8 carte mappate<br>Wizard, Valkyrie, Inferno Dragon, Hog Rider, Skeleton Army, Executioner, Zap, Elite Barbarians",
          "Deck 2200 — 8/8 carte mappate<br>Mega Knight, Witch, Lumberjack, Balloon, Freeze, Bats, Arrows, Inferno Tower",
          "Deck 2205 — 8/8 carte mappate<br>Valkyrie, Mega Knight, Fireball, P.E.K.K.A, Bandit, Mini P.E.K.K.A, Electro Wizard, Mother Witch",
          "Deck 2207 — 8/8 carte mappate<br>Mega Knight, Wizard, Mini P.E.K.K.A, Golden Knight, Arrows, Electro Wizard, Valkyrie, Lightning",
          "Deck 2213 — 8/8 carte mappate<br>Mega Knight, Inferno Dragon, Fireball, Magic Archer, Prince, Skeleton Army, Bats, Mirror",
          "Deck 2220 — 8/8 carte mappate<br>Zap, Wizard, Lumberjack, Hog Rider, Mirror, Elixir Collector, Fireball, Minion Horde",
          "Deck 2223 — 8/8 carte mappate<br>Lumberjack, Firecracker, Prince, Elite Barbarians, Skeleton Army, Zap, Fireball, Rage",
          "Deck 2225 — 8/8 carte mappate<br>Valkyrie, Wizard, The Log, Elite Barbarians, Rage, Skeleton Army, Prince, Miner",
          "Deck 2257 — 8/8 carte mappate<br>Wizard, Inferno Tower, Arrows, Minion Horde, Skeleton Army, Giant Skeleton, Mirror, Balloon",
          "Deck 2259 — 8/8 carte mappate<br>Mega Knight, Wizard, Elite Barbarians, Freeze, The Log, Electro Wizard, Skeleton Army, Mini P.E.K.K.A",
          "Deck 2267 — 8/8 carte mappate<br>Witch, Battle Ram, Zap, Inferno Tower, Bandit, Rage, Arrows, Elite Barbarians",
          "Deck 2268 — 8/8 carte mappate<br>Zap, Wizard, Balloon, Lumberjack, P.E.K.K.A, Inferno Dragon, Skeleton Army, Arrows",
          "Deck 2273 — 8/8 carte mappate<br>Lumberjack, Valkyrie, P.E.K.K.A, Ram Rider, Fireball, Electro Wizard, Elite Barbarians, Wizard",
          "Deck 2275 — 8/8 carte mappate<br>Mega Knight, Firecracker, Vines, Prince, Bandit, Minions, Arrows, Zap",
          "Deck 2278 — 8/8 carte mappate<br>Firecracker, Lumberjack, Prince, Bats, Zap, Elite Barbarians, Dark Prince, Hog Rider",
          "Deck 2281 — 8/8 carte mappate<br>Mini P.E.K.K.A, Balloon, Ram Rider, Minion Horde, Rascals, Arrows, Mirror, Giant Skeleton",
          "Deck 2285 — 8/8 carte mappate<br>Witch, Wizard, Minion Horde, Balloon, Freeze, Valkyrie, Giant Skeleton, Mini P.E.K.K.A",
          "Deck 2298 — 8/8 carte mappate<br>Valkyrie, Firecracker, Giant Skeleton, Sparky, Bats, Arrows, Clone, Mini P.E.K.K.A",
          "Deck 2311 — 8/8 carte mappate<br>Bats, Mega Knight, Mini P.E.K.K.A, Bandit, Bomber, Hog Rider, Golem, Witch",
          "Deck 2320 — 8/8 carte mappate<br>Valkyrie, Lumberjack, Freeze, Bats, Tombstone, Prince, Minions, Arrows",
          "Deck 2357 — 8/8 carte mappate<br>P.E.K.K.A, Zap, Magic Archer, Electro Wizard, Royal Ghost, Bandit, Battle Ram, Fireball",
          "Deck 2376 — 8/8 carte mappate<br>Wizard, Lumberjack, Zap, Skeleton Army, Mirror, Hog Rider, Prince, Tornado",
          "Deck 2403 — 8/8 carte mappate<br>Witch, Mega Knight, Skeleton Army, Freeze, Arrows, Dart Goblin, Balloon, Valkyrie",
          "Deck 2409 — 8/8 carte mappate<br>Valkyrie, Giant Skeleton, Elite Barbarians, Prince, Mini P.E.K.K.A, Arrows, Electro Wizard, Minion Horde",
          "Deck 2411 — 8/8 carte mappate<br>Zap, Archers, Giant, Goblin Gang, Sparky, Bats, Arrows, Prince",
          "Deck 2416 — 8/8 carte mappate<br>Zap, Witch, Minions, Fireball, Prince, Giant Skeleton, Arrows, Skeleton Army",
          "Deck 2420 — 8/8 carte mappate<br>Barbarians, Arrows, Giant Skeleton, Minion Horde, Skeleton Army, Mirror, Magic Archer, Rocket",
          "Deck 2437 — 8/8 carte mappate<br>Mega Knight, Zap, Mini P.E.K.K.A, Inferno Dragon, Fireball, Minions, Balloon, Electro Wizard",
          "Deck 2443 — 8/8 carte mappate<br>Valkyrie, Prince, Balloon, Minions, Freeze, Electro Wizard, Skeleton Army, Arrows",
          "Deck 2449 — 8/8 carte mappate<br>Mega Knight, Zap, Hog Rider, Arrows, Guards, Mega Minion, Dark Prince, Electro Wizard",
          "Deck 2472 — 8/8 carte mappate<br>Mega Knight, Executioner, Bandit, Electro Wizard, Firecracker, Lumberjack, Witch, Clone",
          "Deck 2484 — 8/8 carte mappate<br>Valkyrie, Lumberjack, Mini P.E.K.K.A, Bandit, Freeze, Witch, Poison, Skeleton Army"
         ],
         "marker": {
          "color": "rgb(255,255,51)",
          "size": 6
         },
         "mode": "markers",
         "name": "Cluster 14",
         "text": [
          "Deck 10",
          "Deck 27",
          "Deck 52",
          "Deck 85",
          "Deck 87",
          "Deck 104",
          "Deck 113",
          "Deck 116",
          "Deck 129",
          "Deck 133",
          "Deck 143",
          "Deck 153",
          "Deck 171",
          "Deck 191",
          "Deck 199",
          "Deck 200",
          "Deck 209",
          "Deck 213",
          "Deck 240",
          "Deck 244",
          "Deck 246",
          "Deck 353",
          "Deck 361",
          "Deck 366",
          "Deck 380",
          "Deck 401",
          "Deck 430",
          "Deck 453",
          "Deck 460",
          "Deck 466",
          "Deck 467",
          "Deck 471",
          "Deck 493",
          "Deck 502",
          "Deck 515",
          "Deck 528",
          "Deck 530",
          "Deck 538",
          "Deck 545",
          "Deck 558",
          "Deck 581",
          "Deck 592",
          "Deck 593",
          "Deck 606",
          "Deck 615",
          "Deck 619",
          "Deck 623",
          "Deck 625",
          "Deck 638",
          "Deck 642",
          "Deck 646",
          "Deck 664",
          "Deck 679",
          "Deck 704",
          "Deck 719",
          "Deck 720",
          "Deck 721",
          "Deck 725",
          "Deck 742",
          "Deck 756",
          "Deck 760",
          "Deck 767",
          "Deck 769",
          "Deck 772",
          "Deck 773",
          "Deck 782",
          "Deck 791",
          "Deck 800",
          "Deck 813",
          "Deck 830",
          "Deck 835",
          "Deck 857",
          "Deck 871",
          "Deck 881",
          "Deck 884",
          "Deck 906",
          "Deck 923",
          "Deck 927",
          "Deck 929",
          "Deck 930",
          "Deck 957",
          "Deck 959",
          "Deck 965",
          "Deck 967",
          "Deck 970",
          "Deck 985",
          "Deck 999",
          "Deck 1003",
          "Deck 1010",
          "Deck 1021",
          "Deck 1029",
          "Deck 1030",
          "Deck 1034",
          "Deck 1036",
          "Deck 1044",
          "Deck 1067",
          "Deck 1082",
          "Deck 1090",
          "Deck 1093",
          "Deck 1108",
          "Deck 1109",
          "Deck 1123",
          "Deck 1127",
          "Deck 1129",
          "Deck 1136",
          "Deck 1138",
          "Deck 1149",
          "Deck 1153",
          "Deck 1161",
          "Deck 1168",
          "Deck 1187",
          "Deck 1191",
          "Deck 1217",
          "Deck 1230",
          "Deck 1239",
          "Deck 1247",
          "Deck 1265",
          "Deck 1274",
          "Deck 1276",
          "Deck 1278",
          "Deck 1279",
          "Deck 1287",
          "Deck 1296",
          "Deck 1325",
          "Deck 1332",
          "Deck 1338",
          "Deck 1362",
          "Deck 1401",
          "Deck 1410",
          "Deck 1421",
          "Deck 1456",
          "Deck 1462",
          "Deck 1463",
          "Deck 1466",
          "Deck 1474",
          "Deck 1487",
          "Deck 1492",
          "Deck 1501",
          "Deck 1533",
          "Deck 1540",
          "Deck 1541",
          "Deck 1544",
          "Deck 1557",
          "Deck 1567",
          "Deck 1584",
          "Deck 1585",
          "Deck 1594",
          "Deck 1598",
          "Deck 1600",
          "Deck 1606",
          "Deck 1610",
          "Deck 1613",
          "Deck 1658",
          "Deck 1686",
          "Deck 1695",
          "Deck 1706",
          "Deck 1729",
          "Deck 1761",
          "Deck 1765",
          "Deck 1778",
          "Deck 1779",
          "Deck 1784",
          "Deck 1802",
          "Deck 1804",
          "Deck 1828",
          "Deck 1832",
          "Deck 1875",
          "Deck 1880",
          "Deck 1885",
          "Deck 1887",
          "Deck 1895",
          "Deck 1903",
          "Deck 1916",
          "Deck 1925",
          "Deck 1948",
          "Deck 1954",
          "Deck 1967",
          "Deck 1995",
          "Deck 2052",
          "Deck 2055",
          "Deck 2090",
          "Deck 2104",
          "Deck 2107",
          "Deck 2112",
          "Deck 2122",
          "Deck 2137",
          "Deck 2142",
          "Deck 2189",
          "Deck 2200",
          "Deck 2205",
          "Deck 2207",
          "Deck 2213",
          "Deck 2220",
          "Deck 2223",
          "Deck 2225",
          "Deck 2257",
          "Deck 2259",
          "Deck 2267",
          "Deck 2268",
          "Deck 2273",
          "Deck 2275",
          "Deck 2278",
          "Deck 2281",
          "Deck 2285",
          "Deck 2298",
          "Deck 2311",
          "Deck 2320",
          "Deck 2357",
          "Deck 2376",
          "Deck 2403",
          "Deck 2409",
          "Deck 2411",
          "Deck 2416",
          "Deck 2420",
          "Deck 2437",
          "Deck 2443",
          "Deck 2449",
          "Deck 2472",
          "Deck 2484"
         ],
         "type": "scatter3d",
         "x": {
          "bdata": "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",
          "dtype": "f8"
         },
         "y": {
          "bdata": "M5tkAPPtlr9fMPlYJHKcvzC0UL26RJm/HV+BsmYJnr/OF6dNNnWgv+JeUnXlDKK/WfPguN3ilb9mvfuznmWfv4SNRRktDJ+/suQDc0Jwor+loCoTvbOXvxWu0/m9M5a/EHtsCGWkmb++b/xWgzedv4loXiuP4pe/rk4k78y0k78mtjL0Dbeav6JO2GRRnJq/4JQ8yfhJnb+a8VDLywWcvwiJZb8Cf5i/A+RHrgKUmb/stwVLhNmWv8ixuBeNb6C/d/LpbV6wmL+776gZOMmcv1nz4Ljd4pW/L2lbl2yXl79hIJZ6NYmbvzqhIjSUmp6/o98CZjw2lb83/77qg3ubv9nJe4wvkp2/QusD8lbglb+fFh5Uw8WUv/YVfJZtOJu/IYMTkY//mb8LECl0F1qgv4oR3HqjJJW/H8rAGsTlnL9Wfj9y7sucv6N7HDBSiZi/ZtWkOo6lnb/WZNMQxw+ev3lxKYGjRZy//Sp3MOYGmr/7I0wPAc2hv1bwbwy5G5u/x/6rxTMvnb8l6AHE7lSfvxjlP8cT+Jq/tEOnbKgnmL8yRGX/qo+hv6JNVVAA8pq/uKIZl6K6or8AA9pZ1LOVv5jW2tGr2J+/xFkAr6RXlb+d90fzWPuYv/TAGD3u65+/tP8r/w21mL+FwLVFEXedv4ic7gr8Z5i/zLm6PmpKmr+7+PSy8xScv9wg9ie09Z2/8LD/ZL8am7+SFPt5X4Wev8+ZkTRiJZi/ezjazkPRm7/wxUXKacmXv3xcG0w4S5+/o9CMr3xXmb9akM2BiMOav2dDhnu5mp2/Sdyeq3wplr9au+CVrTybv+om+CJugZO/FjmEl64Olr+uLebVwSqXvw4OXnD6Up2/eB9JKyfkmL8hyY8zpUyav8/Kf9dze5W/rZczsR8Om7978IYMnEGgvyIitI5/B5u/eLXB9sf+lL97ONrOQ9Gbv3NCsD+0oKC//8ksIYJll7+nBn4+Xi6bv/6LlyPHUpm/dcxhVMmNm7/+eez7lWWhv2K1dgKUyJO/zIis/n6Ymr8yzDQaxxKgvy4k306kGZm/gEV0p9JRnr/+jIuYM6WUv1Oxv37HJ5e/60p7U7iJmb/ueJ4tjs+Zv49Hn8syN5y/FDsgsyOanr9fyAHDjbCVv68tDlrMEKG/KgoAJ5Vmm7+S+sXyo6yVv0AZB/FeWZm/EUpVb4Zyn7/MoSFyQZCgv+63keUztaC/hMfrm641nb+L+KabqJWSv4IC2bn05pu/70umEhXamr+jfYRUeiqkvyHbs5B1dJa/oPTkXksknb/oFAHYBQ+fvwQmk9BpmZ+/uTjzEeuqmb8T5j5TB4ijv2XRH9byfJy/SAA2QHN4oL8cFT0HI7+bv9ox8Lpm9Zq/Bpdk03Wwlr9ObVdmrMicv0okkRffu5m/xTcdi4PTmb8+FTbL1HaYv/S0ge2ydqC/0wB6hmDclL/1F5as0rGWv5lV0C9lo5m/euf6woyYnb8fiU3OXGqjvwKHlY1zt5y/jx55Lh5Slr8/u2yqbVGfv5AJxxGhX6C/NskLsML2nL/UJ1Jc2duYv8bPYVvsdKC/5Sx9XJaYnr/7e4eniJWYv0ykMr0FZ5m/toO/E6/9nb8kwb1ysveiv3RU94CqN56/fxjJzeCanb9nRqW9S3aWvzEVBBGgKpa/GvsrMS46nb8LbAi5rhCgv0wgRPfBe5i/5IeQRu3Onr+DUT5JfqKav4lWgf79w5+/U3DRsBtklb8UDPhnrx2cvyToAcTuVJ+/Ul2M1NscnL+KZdVIS6eXvxTek11kN5u/F8BGBz5rnb9RE1WUQkyav+dr4y6OZJu/1R9Kv0Atlr+UpncXO6GUv9fr+t0HOJa/X5M0htYwlb8qFWiDol2cvxTHtTz20Za/GojQHgxsn7+M4l4v4XqZv0jMwpgSx52/h7WPJSmAnL/lLH1clpiev2K1dgKUyJO/OS23kSOQmL+l4LdJTc2WvzzP88GW8Jm/MO/n8bHMnL/JC2GQKq2gv5KDA1UppZ2/ESM9IYJ2lb+heFn40h6YvwTnlPul4KG/zEnIqiDlmb8kKxOH//Ccv277EWwZMJy/spTLiB8upL90SD42Mgqhv45CvnrB85q/ZLcxZi1Cm7/HlMz0rvGZv/dzDogF8JO/laT0HtTJm7+toFxBequav7yR4OGjB6C/7OVNdBGQnr+t5Nbr24+Tv6c+r9X+3ZO/YrV2ApTIk78do875wDWdv5YlgEJy052/weec3dvjoL938ultXrCYv8f+q8UzL52/niGh/s5for+GawuIPh+Yv4aUNXjUWJu/tLhrw8Hyk78Y5T/HE/iav6/UCSezSZS/",
          "dtype": "f8"
         },
         "z": {
          "bdata": "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",
          "dtype": "f8"
         }
        },
        {
         "hoverinfo": "text",
         "hovertext": [
          "Deck 14 — 8/8 carte mappate<br>Firecracker, Mega Knight, Elite Barbarians, Tesla, The Log, Fireball, Archers, Goblin Barrel",
          "Deck 15 — 8/8 carte mappate<br>Firecracker, Knight, Witch, Mini P.E.K.K.A, The Log, Hog Rider, Tesla, Mega Knight",
          "Deck 21 — 8/8 carte mappate<br>Giant Snowball, Dart Goblin, Goblin Barrel, P.E.K.K.A, Ice Spirit, Goblin Gang, Fireball, Hog Rider",
          "Deck 57 — 8/8 carte mappate<br>Baby Dragon, Tesla, Electro Wizard, Fireball, Valkyrie, Hog Rider, Knight, The Log",
          "Deck 62 — 8/8 carte mappate<br>Tesla, Firecracker, Skeletons, Dart Goblin, Mega Knight, Electro Wizard, Hog Rider, Arrows",
          "Deck 75 — 8/8 carte mappate<br>Dart Goblin, Valkyrie, Skeleton Army, Arrows, Tesla, Firecracker, Hog Rider, Skeletons",
          "Deck 84 — 8/8 carte mappate<br>Firecracker, Wizard, Zap, Hog Rider, Mega Knight, Guards, Ice Spirit, Cannon",
          "Deck 88 — 8/8 carte mappate<br>Royal Giant, Firecracker, The Log, Little Prince, Skeletons, Elite Barbarians, Fireball, Witch",
          "Deck 106 — 8/8 carte mappate<br>Skeleton Barrel, Dart Goblin, Knight, Ice Golem, Zap, Mini P.E.K.K.A, Skeletons, Goblin Gang",
          "Deck 134 — 8/8 carte mappate<br>Mortar, Archers, Hog Rider, Goblin Gang, The Log, Giant Snowball, Valkyrie, Bowler",
          "Deck 152 — 8/8 carte mappate<br>Archers, Dart Goblin, Goblin Gang, P.E.K.K.A, Ice Spirit, Magic Archer, Archer Queen, The Log",
          "Deck 248 — 8/8 carte mappate<br>Firecracker, Valkyrie, Goblin Gang, Knight, Tesla, Arrows, Fireball, Hog Rider",
          "Deck 332 — 8/8 carte mappate<br>Firecracker, Mega Knight, Hog Rider, Goblin Gang, Knight, Skeletons, Arrows, Bats",
          "Deck 385 — 8/8 carte mappate<br>Zap, Mega Knight, Skeletons, Ice Spirit, Arrows, Miner, Little Prince, Mortar",
          "Deck 435 — 8/8 carte mappate<br>Firecracker, Ice Spirit, Bats, Ice Wizard, Hog Rider, Mini P.E.K.K.A, Fireball, The Log",
          "Deck 444 — 8/8 carte mappate<br>Knight, Firecracker, Hog Rider, Princess, Goblin Gang, Little Prince, Bomb Tower, Vines",
          "Deck 464 — 8/8 carte mappate<br>Cannon, Mega Knight, Zap, Skeletons, Minions, Hog Rider, Arrows, Dart Goblin",
          "Deck 478 — 8/8 carte mappate<br>Tesla, Knight, Skeletons, Mega Knight, Musketeer, Arrows, Magic Archer, Baby Dragon",
          "Deck 509 — 8/8 carte mappate<br>Witch, Mega Knight, The Log, Skeletons, Mini P.E.K.K.A, Ice Wizard, Ice Spirit, Arrows",
          "Deck 534 — 8/8 carte mappate<br>Furnace, Firecracker, Tesla, Golden Knight, Wall Breakers, The Log, Dark Prince, Skeletons",
          "Deck 535 — 8/8 carte mappate<br>Bomber, Knight, Zap, Poison, Goblin Drill, Skeletons, Inferno Tower, Goblin Gang",
          "Deck 536 — 8/8 carte mappate<br>Goblin Drill, Mega Knight, Cannon, Arrows, Mini P.E.K.K.A, Goblin Gang, Poison, Musketeer",
          "Deck 541 — 8/8 carte mappate<br>Valkyrie, Dart Goblin, Goblin Barrel, Electro Spirit, Tesla, Goblin Gang, Vines, Lightning",
          "Deck 559 — 8/8 carte mappate<br>Mega Knight, Firecracker, Hog Rider, Fireball, Bats, Electro Wizard, The Log, Ice Spirit",
          "Deck 655 — 8/8 carte mappate<br>Valkyrie, Executioner, Ice Spirit, The Log, Rocket, Hog Rider, Tornado, Goblins",
          "Deck 682 — 8/8 carte mappate<br>Valkyrie, Furnace, Goblin Gang, Earthquake, Mirror, Fisherman, Princess, Boss Bandit",
          "Deck 712 — 8/8 carte mappate<br>Bomber, Knight, Miner, Vines, Tornado, Ice Spirit, Tesla, Skeletons",
          "Deck 746 — 8/8 carte mappate<br>Cannon, Skeletons, Hog Rider, Arrows, Mighty Miner, Minions, Freeze, Spirit Empress",
          "Deck 762 — 8/8 carte mappate<br>Firecracker, Knight, Tesla, Vines, Poison, Hog Rider, Electro Spirit, P.E.K.K.A",
          "Deck 776 — 8/8 carte mappate<br>Knight, Archers, Lumberjack, Mini P.E.K.K.A, Ice Spirit, Balloon, Electro Wizard, The Log",
          "Deck 781 — 8/8 carte mappate<br>Baby Dragon, Wall Breakers, Electro Spirit, Inferno Tower, Prince, Fireball, Goblin Gang, The Log",
          "Deck 797 — 8/8 carte mappate<br>Bats, Firecracker, The Log, Ice Golem, Mini P.E.K.K.A, Goblin Gang, Poison, Royal Hogs",
          "Deck 842 — 8/8 carte mappate<br>Musketeer, Executioner, Minion Horde, Poison, Hog Rider, Miner, Princess, The Log",
          "Deck 858 — 8/8 carte mappate<br>Mega Knight, Firecracker, Fireball, Electro Wizard, Hog Rider, Knight, Archer Queen, The Log",
          "Deck 878 — 8/8 carte mappate<br>Dart Goblin, P.E.K.K.A, Ram Rider, Tesla, Golden Knight, Ice Spirit, Earthquake, Arrows",
          "Deck 892 — 8/8 carte mappate<br>Skeletons, Witch, Knight, Dart Goblin, Bandit, Boss Bandit, The Log, Arrows",
          "Deck 899 — 8/8 carte mappate<br>Mega Knight, Firecracker, Hog Rider, Mini P.E.K.K.A, Arrows, Musketeer, The Log, Ice Spirit",
          "Deck 960 — 8/8 carte mappate<br>Firecracker, Mega Knight, Poison, Arrows, Tesla, Knight, Skeletons, Hog Rider",
          "Deck 986 — 8/8 carte mappate<br>Mega Knight, Witch, Firecracker, Vines, Cannon, Ice Golem, Skeleton Barrel, The Log",
          "Deck 989 — 8/8 carte mappate<br>Executioner, Skeletons, Cannon, Fireball, The Log, Minions, Hog Rider, P.E.K.K.A",
          "Deck 1028 — 8/8 carte mappate<br>Valkyrie, Zap, Goblins, Ice Spirit, Musketeer, Cannon, Arrows, Hog Rider",
          "Deck 1042 — 8/8 carte mappate<br>Mega Knight, P.E.K.K.A, Hog Rider, Hunter, Goblin Gang, Cannon, The Log, Zap",
          "Deck 1057 — 8/8 carte mappate<br>Valkyrie, Executioner, Hog Rider, The Log, Tornado, Ice Spirit, Goblins, Rocket",
          "Deck 1068 — 8/8 carte mappate<br>Firecracker, Furnace, Prince, Zap, Ice Spirit, Ice Golem, The Log, Elite Barbarians",
          "Deck 1077 — 8/8 carte mappate<br>Musketeer, Firecracker, Knight, Zap, Ice Spirit, Mini P.E.K.K.A, Hog Rider, Arrows",
          "Deck 1079 — 8/8 carte mappate<br>Ice Spirit, Zap, Fireball, Hog Rider, Ice Wizard, The Log, Archer Queen, Mini P.E.K.K.A",
          "Deck 1091 — 8/8 carte mappate<br>Cannon, Goblin Drill, Dart Goblin, Executioner, Dark Prince, Fireball, Mini P.E.K.K.A, Vines",
          "Deck 1092 — 8/8 carte mappate<br>Firecracker, Mega Knight, Hog Rider, Cannon, Wizard, Goblin Barrel, Vines, Knight",
          "Deck 1103 — 8/8 carte mappate<br>Firecracker, P.E.K.K.A, Mini P.E.K.K.A, The Log, Fireball, Cannon, Dart Goblin, Goblin Barrel",
          "Deck 1124 — 8/8 carte mappate<br>Firecracker, Knight, Poison, Bats, Skeletons, Prince, Witch, Fire Spirit",
          "Deck 1176 — 8/8 carte mappate<br>Dart Goblin, Skeletons, Arrows, Bats, Mother Witch, Giant Skeleton, X-Bow, Elixir Collector",
          "Deck 1211 — 8/8 carte mappate<br>Firecracker, Knight, Electro Wizard, Tesla, Arrows, Electro Spirit, Hog Rider, Mega Knight",
          "Deck 1308 — 8/8 carte mappate<br>Mortar, Firecracker, Hog Rider, Musketeer, Barbarian Barrel, Wall Breakers, Goblins, Valkyrie",
          "Deck 1330 — 8/8 carte mappate<br>Mega Knight, Knight, Musketeer, Graveyard, Tesla, Dart Goblin, Arrows, Skeletons",
          "Deck 1333 — 8/8 carte mappate<br>Valkyrie, Wizard, Cannon, The Log, Mini P.E.K.K.A, Hog Rider, Arrows, Ice Golem",
          "Deck 1347 — 8/8 carte mappate<br>Witch, Mega Knight, Dart Goblin, Monk, The Log, Cannon, Battle Ram, Firecracker",
          "Deck 1383 — 8/8 carte mappate<br>Mega Knight, Firecracker, Electro Giant, Hog Rider, Giant Snowball, Skeletons, Tesla, Goblin Gang",
          "Deck 1400 — 8/8 carte mappate<br>P.E.K.K.A, Cannon, Bandit, Goblinstein, Ice Spirit, Zap, Goblin Gang, Vines",
          "Deck 1408 — 8/8 carte mappate<br>Mega Knight, Tesla, Earthquake, Little Prince, Fireball, Mini P.E.K.K.A, Vines, Hog Rider",
          "Deck 1422 — 8/8 carte mappate<br>Mega Knight, Bats, Arrows, Goblin Barrel, Hog Rider, Musketeer, Goblin Gang, Ice Golem",
          "Deck 1443 — 8/8 carte mappate<br>Valkyrie, Firecracker, Hog Rider, Skeletons, Arrows, The Log, Knight, Tesla",
          "Deck 1449 — 8/8 carte mappate<br>Musketeer, Mega Knight, Knight, Zap, The Log, Arrows, P.E.K.K.A, Cannon",
          "Deck 1476 — 8/8 carte mappate<br>Valkyrie, Dart Goblin, Royal Delivery, Lightning, Fire Spirit, Vines, Cannon, Skeleton Barrel",
          "Deck 1480 — 8/8 carte mappate<br>Tesla, Royal Giant, Arrows, Ice Spirit, Fisherman, Furnace, Knight, The Log",
          "Deck 1528 — 8/8 carte mappate<br>Mega Knight, Skeleton Barrel, Mighty Miner, Mini P.E.K.K.A, The Log, Wizard, Arrows, Electro Spirit",
          "Deck 1536 — 8/8 carte mappate<br>Firecracker, Lumberjack, Knight, Tesla, Goblin Gang, Vines, Electro Spirit, Balloon",
          "Deck 1629 — 8/8 carte mappate<br>Royal Giant, Firecracker, Cannon, Guards, Fireball, Knight, Witch, Electro Spirit",
          "Deck 1646 — 8/8 carte mappate<br>Mega Knight, Executioner, Hog Rider, Mini P.E.K.K.A, Tesla, Ice Spirit, The Log, Zap",
          "Deck 1655 — 8/8 carte mappate<br>Wall Breakers, P.E.K.K.A, Hog Rider, The Log, Firecracker, Archers, Fireball, Cannon",
          "Deck 1656 — 8/8 carte mappate<br>Musketeer, Lumberjack, Cannon, Skeletons, Ice Spirit, The Log, Balloon, Bats",
          "Deck 1678 — 8/8 carte mappate<br>Tesla, Executioner, Tornado, Firecracker, P.E.K.K.A, Skeletons, The Log, Hog Rider",
          "Deck 1685 — 8/8 carte mappate<br>Firecracker, Mega Knight, Hog Rider, Arrows, Cannon, Freeze, Electro Spirit, Goblin Gang",
          "Deck 1697 — 8/8 carte mappate<br>Mega Knight, Hunter, Arrows, Zap, Monk, Cannon, Electro Wizard, Knight",
          "Deck 1732 — 8/8 carte mappate<br>Lumberjack, Zap, Musketeer, Balloon, Bats, Barbarian Barrel, Ice Spirit, Ice Golem",
          "Deck 1745 — 8/8 carte mappate<br>Battle Ram, Executioner, Ice Spirit, Skeletons, Bandit, P.E.K.K.A, The Log, Vines",
          "Deck 1782 — 8/8 carte mappate<br>Mega Knight, Furnace, Cannon, Fireball, Ice Spirit, Knight, Goblin Gang, Arrows",
          "Deck 1826 — 8/8 carte mappate<br>Firecracker, Tesla, Balloon, The Log, Lumberjack, Ice Spirit, Mini P.E.K.K.A, Vines",
          "Deck 1829 — 8/8 carte mappate<br>Knight, Tesla, Mega Knight, Skeletons, Bats, Zap, Firecracker, Hog Rider",
          "Deck 1882 — 8/8 carte mappate<br>Tesla, Valkyrie, Hog Rider, The Log, Arrows, Tornado, Musketeer, Fireball",
          "Deck 1905 — 8/8 carte mappate<br>Dart Goblin, Firecracker, The Log, Valkyrie, Hog Rider, Elite Barbarians, Rage, Ice Spirit",
          "Deck 1917 — 8/8 carte mappate<br>Valkyrie, Archers, Hog Rider, Earthquake, Goblin Gang, Wizard, The Log, Guards",
          "Deck 1921 — 8/8 carte mappate<br>Valkyrie, Firecracker, Fire Spirit, Electro Wizard, Wall Breakers, Electro Spirit, Goblin Demolisher, Suspicious Bush",
          "Deck 1944 — 8/8 carte mappate<br>Valkyrie, Firecracker, Cannon, Boss Bandit, The Log, Witch, Ice Wizard, Ice Spirit",
          "Deck 1961 — 8/8 carte mappate<br>Firecracker, Tesla, Zap, Elite Barbarians, Skeletons, Electro Spirit, Mother Witch, Barbarian Barrel",
          "Deck 1979 — 8/8 carte mappate<br>Knight, Mega Knight, Ice Spirit, Zap, The Log, Ram Rider, Musketeer, Electro Wizard",
          "Deck 1983 — 8/8 carte mappate<br>P.E.K.K.A, Zap, Hog Rider, Electro Spirit, The Log, Giant Snowball, Musketeer, Baby Dragon",
          "Deck 2005 — 8/8 carte mappate<br>Skeleton Barrel, Electro Dragon, Firecracker, Valkyrie, Cannon, Archers, Hog Rider, Musketeer",
          "Deck 2021 — 8/8 carte mappate<br>Furnace, Dart Goblin, Arrows, Goblin Barrel, Minions, Guards, Ice Spirit, Knight",
          "Deck 2035 — 8/8 carte mappate<br>P.E.K.K.A, Firecracker, Hog Rider, Goblin Barrel, Cannon, Arrows, Electro Wizard, Knight",
          "Deck 2037 — 8/8 carte mappate<br>Archers, Witch, Skeleton Army, Royal Delivery, Arrows, Hog Rider, The Log, Mini P.E.K.K.A",
          "Deck 2038 — 8/8 carte mappate<br>Witch, Mega Knight, Vines, Rocket, Firecracker, Ice Spirit, Bandit, Ice Golem",
          "Deck 2045 — 8/8 carte mappate<br>Mortar, Wizard, Electro Spirit, Bats, Knight, Arrows, Skeletons, P.E.K.K.A",
          "Deck 2070 — 8/8 carte mappate<br>Lumberjack, Mega Knight, Mighty Miner, Dart Goblin, The Log, Bandit, Firecracker, Vines",
          "Deck 2096 — 8/8 carte mappate<br>Royal Recruits, Cannon, Hog Rider, Mini P.E.K.K.A, Fireball, Musketeer, The Log, Zap",
          "Deck 2113 — 8/8 carte mappate<br>P.E.K.K.A, Executioner, Cannon, Dart Goblin, Vines, Arrows, Fireball, Skeletons",
          "Deck 2121 — 8/8 carte mappate<br>Firecracker, Tesla, Valkyrie, Knight, The Log, Fireball, Hog Rider, Skeleton Army",
          "Deck 2123 — 8/8 carte mappate<br>Valkyrie, Firecracker, Skeleton Barrel, Hog Rider, Guards, Tesla, Zap, Knight",
          "Deck 2134 — 8/8 carte mappate<br>Lumberjack, Bats, Vines, Little Prince, Giant Snowball, Balloon, Skeletons, Ice Spirit",
          "Deck 2135 — 8/8 carte mappate<br>Dart Goblin, Goblin Barrel, Giant Skeleton, Berserker, Fireball, Furnace, Ice Golem, Princess",
          "Deck 2187 — 8/8 carte mappate<br>Firecracker, Tesla, The Log, Vines, Goblin Gang, Hunter, Hog Rider, Valkyrie",
          "Deck 2218 — 8/8 carte mappate<br>Musketeer, Valkyrie, Bats, Hog Rider, Cannon, Freeze, Arrows, Skeletons",
          "Deck 2238 — 8/8 carte mappate<br>Firecracker, Valkyrie, Goblin Drill, Tesla, Bats, Giant Snowball, Ice Golem, Skeleton Army",
          "Deck 2299 — 8/8 carte mappate<br>Firecracker, Baby Dragon, Hog Rider, Earthquake, Mini P.E.K.K.A, Guards, The Log, Prince",
          "Deck 2339 — 8/8 carte mappate<br>Knight, Executioner, Zap, Ice Spirit, Tornado, Goblins, Lightning, Hog Rider",
          "Deck 2393 — 8/8 carte mappate<br>Dart Goblin, Skeletons, Arrows, Bats, Mother Witch, Giant Skeleton, X-Bow, Elixir Collector",
          "Deck 2410 — 8/8 carte mappate<br>Firecracker, Ice Spirit, Golden Knight, Inferno Tower, Guards, The Log, Fireball, Hog Rider"
         ],
         "marker": {
          "color": "rgb(166,86,40)",
          "size": 6
         },
         "mode": "markers",
         "name": "Cluster 15",
         "text": [
          "Deck 14",
          "Deck 15",
          "Deck 21",
          "Deck 57",
          "Deck 62",
          "Deck 75",
          "Deck 84",
          "Deck 88",
          "Deck 106",
          "Deck 134",
          "Deck 152",
          "Deck 248",
          "Deck 332",
          "Deck 385",
          "Deck 435",
          "Deck 444",
          "Deck 464",
          "Deck 478",
          "Deck 509",
          "Deck 534",
          "Deck 535",
          "Deck 536",
          "Deck 541",
          "Deck 559",
          "Deck 655",
          "Deck 682",
          "Deck 712",
          "Deck 746",
          "Deck 762",
          "Deck 776",
          "Deck 781",
          "Deck 797",
          "Deck 842",
          "Deck 858",
          "Deck 878",
          "Deck 892",
          "Deck 899",
          "Deck 960",
          "Deck 986",
          "Deck 989",
          "Deck 1028",
          "Deck 1042",
          "Deck 1057",
          "Deck 1068",
          "Deck 1077",
          "Deck 1079",
          "Deck 1091",
          "Deck 1092",
          "Deck 1103",
          "Deck 1124",
          "Deck 1176",
          "Deck 1211",
          "Deck 1308",
          "Deck 1330",
          "Deck 1333",
          "Deck 1347",
          "Deck 1383",
          "Deck 1400",
          "Deck 1408",
          "Deck 1422",
          "Deck 1443",
          "Deck 1449",
          "Deck 1476",
          "Deck 1480",
          "Deck 1528",
          "Deck 1536",
          "Deck 1629",
          "Deck 1646",
          "Deck 1655",
          "Deck 1656",
          "Deck 1678",
          "Deck 1685",
          "Deck 1697",
          "Deck 1732",
          "Deck 1745",
          "Deck 1782",
          "Deck 1826",
          "Deck 1829",
          "Deck 1882",
          "Deck 1905",
          "Deck 1917",
          "Deck 1921",
          "Deck 1944",
          "Deck 1961",
          "Deck 1979",
          "Deck 1983",
          "Deck 2005",
          "Deck 2021",
          "Deck 2035",
          "Deck 2037",
          "Deck 2038",
          "Deck 2045",
          "Deck 2070",
          "Deck 2096",
          "Deck 2113",
          "Deck 2121",
          "Deck 2123",
          "Deck 2134",
          "Deck 2135",
          "Deck 2187",
          "Deck 2218",
          "Deck 2238",
          "Deck 2299",
          "Deck 2339",
          "Deck 2393",
          "Deck 2410"
         ],
         "type": "scatter3d",
         "x": {
          "bdata": "pyckpVdpmz8tnsFqK82XP81QQaXMM6I/naKDoxcpmT+uFoQNfhOZP46KLQBu9Js/DkKXZdbFmD/h2NYIkaiWP3Rl88iEI6M/O9Qh4stgmj+pi5mXLqGhP9IBW3BguZ0/lLZW+LvVlz9OCj0uSRigP8NyRn6f3pw/S0EeYlS4oz97uqIwQoGWPzJOAcCzu5Y/caE2rel0lz9s1sqSy86bP1ypqw4cdp4//H/x93b3mj9nRsE7bCidP1AJTUoREZk/pK2tGZdWoj9uPIlRsQubP+h3DMdoT6E/wj8xIzchmj+qUTY31zqgPzET5PcW/5I/mSm1WLjemT+Sf2N0lQmaPx1zsJ6s65Y/FNtYUfJsmj+FnKuOpfuiP65eN9iWS5Q/jLbKNkNOmz8pA8y95oSgPysDPe0RvKA/aU7q5CNHnT8i4FZKaZ2jP6VxaFeuP5g/pa2tGZdWoj9GQ3h+UbmbP4da9qISEJs/RskkAkfbnz/2wD7q/DCWP3YvpXKj7Jo/rkVyjowYnz9L7ALa49KTPz4JzcfZu5Q/AJut9gdSmz9eBf/lNnGcP/MS3+Wu+58/HeL4BakRoD8MU/Ia8eyTP+anKKJwK5w/2qqlJjp+lz9J7UAronKjP6JanqEs9Js/GwBh/GEipD9SDrPkco6XP0/l7PZdtqI/L4KH4PrDoT92H965we6YP27TJemExpc/5uECSNHunz/Nqk6t4UebP1Il2/E05qI/JzTXeywWoz8E6h6hgqubPz+MjDpFVpk/hZPGWziwkD/ApVQkEZ+SP+d62LTqCJI/E9urL8yhoj/+aZuxsUuVP0T0+Qu9AZ0/ZD23MR4vmj+wdrLaMKyWPyDPYsfR7aE/7wGjcDynoD/N10TgGE2gP5Q+XKvxvJM/Fx4agkpKlz+do9/5tyGWP3To82J7qpg/9WreObjllj+kNo0LX4aYP+CJxDbwvJc/pUzDVLxBnT+RRbhfE3GYP0alE4tBbpM/ZgcfNy8RnD9101i2AROZP3askVodPKA/E9xnaQtmlj+UDdeYJTyXP1qGh9gyL6I/QOtDIrsMnj8WORIqbWKYP+JezXfIC6I/ogb4PB8hlz9rtd4+pUKXPz4JzcfZu5Q/r9b1w3IWoD8=",
          "dtype": "f8"
         },
         "y": {
          "bdata": "CjocJaT+mr/w2DBVGIqZvwwD9zL3q5O/Q3aKCJNRk78pRmNK81qav+8bsWZOKJy/KAJwVmrYl78WluFQgtiQv+Emn0wJP5O/YfXD2eLNdL9RU4tuTRyUv5RhPlxKSZu/KtDKZMpSmr9xIFjSkHGEvzom+8Mns5G/NqCBSBVfjr+/auJSxG6Uv0N79+08p46/WtgC9ebtiL9/w+R89E+Cv3F9eVWdBnG/6mzRT/OTcr/61uis+LCRv6htZuubxpu/PNCGJEgCkL+Sl299atmOv90q5z8wF2O/B86hGL/pgr82ODdG0c9tv5KW6MtZtpC/ZNfkFB4blL9m2nyeUH6Av9NwUBvIW5K/OwLeYr2qmL8L+tdRFxCRv9poKNgZsZK/66oOvOS3l7+4Hcu3wbCMv0vaBMdzkoq/yUehLTatjb9Ite0agqiTv13fLc3e75S/PNCGJEgCkL/mytegeEOPv9gYG4z3wZa/2spXHYCHjb8Bi2UcHcptvxPuK79Bzpe/UIqJZfqHmb90Jvjxkl6Mv+enImbdP3K/RP/2mGyHlb+ww+rG9Hh6v04Ek24b+ly/Pwgwy2Q2lb9a0fAXFXyOv9pLCFxT3Yy/wkXCMvo0ir/v6W6b8r2Rv/5kUrWjopq/MA/HvLsdlb+EUM4xrpiSv7OAZfRl7YK/mLWqUAUTZr8TwjmwtKeTv0LSU7h//Yi/lRWOChZuhr+Z0ueKi3KYvwKJWKNiGZK/UrEdheT3jr/9UVfUPASNv2f/Q4r3lJa/MYPclMTnib8RBk/XdIZ4v4s+Rh4qxIG/sXiOgN98kb++mwwedX+Ov8+ST03tBZm/8Wf2IyqQkr8zNrhXoOCXv02aoFihMZe/M98kxfRMgb/0Fid94QyGv6Rup/70LnG/gmK9G/hslL/hs8VsoT1lvyemESrRmo6/5rSEbky3ir8o6pSnX0mZv1z+kMqaPpW/unsRdhv0jr+vYHRNAdqIvwRhRQNW+I+/PGMgztGokL+FEiTLSM+Jv6aez3464Ju/CbSxoOeXlr+iqPZa6zVRv2Ani+XauIW/rm2uZBUnkr8AsxBaM+KVv+EilgBqYXK/7Th7WmtSkr8+s1QRZziIv+enImbdP3K/MgRj7exnlb8=",
          "dtype": "f8"
         },
         "z": {
          "bdata": "Cq+W1oV3dT/OLV3W3KA8v4kHneaWCXK/F5H9LtcmcT/I3GC/0D4Fv6y1ddAlyju/XvQ1c+nOYT9EXNFC3hOGPwYUzSMw9nC/dBjblmI5a7/R0Z5ScUVSv7wG/JmDJTa/jqTXr7pxcb+hlktuiqtiP85Kyk2fXkA/An6ERbUrcL8sIMVPIOVLP3xokyPCQ2g/JHM0oQGcRb+xoSb2r19yv/yFhUy5C1k/wJOWxpw3B7+tsqB2n2p6vwIU4FF3rGA/WPaf1PtVYj8eQsjnjx13vxtmSF7KiYA/IPGprrOxXj98fEbc551zP8CuS/MYcXk/ty55qI0afL8uhkqudMB8v5SZIQTLXFS/GR0htLM+YT9ladea+w1eP8/uYpAYRHO/Kpqcl/k6az/FFol7NyJYP3zdkcRe2h+/Wk/8ck1cgD9oY+XHQ513P/ha92v4cW4/WPaf1PtVYj/o92VyyJCEP4PoSqQwiXE/QGegXpKeZj/231pq4VF0P1Ebn8uSPWa/jSgRhyP/Yr/CcS0lpdhovxwNrhsFAYg/cXxH+2yscT+PwmzBHwd7v5Y7pygS8GW/F3MNBDrQfz+1fRQkNrRfPxR3BhI5ele/N6HQamg3ab8iVS792a6CPwQZwzdwVlW/lGeKbreIbj+ry95HhhdxP+Vlz5D473i/o7ghHIlKcj+a0A18RnJ1v7cYUzCD1FU/OiztddPvdT/I39IRxAZrP7QeQ0gC/mg/XJHjcBU5eT/dbhchoD15PxCAqlHTPjQ/QZlLS6R/gT+0PH70yVmCPxVFDneHFH0/76f1vqmxX78wOHjgFRRsP8x0RByZcFM/YkUSZuF/ej/22OrWUYh2Py/UXCMMgG4/dMnhZ4B1gb+wO3g2wA5jvzvsmFtbsYI/VCDhjsBocT9ivriniHqBP1qNsg6Ozmo/F76r7oqhfL9Ivvb+ElEfv3z5+p68Qm8/hqgY0TtIcD+0F98j5ZBLP+ER6C91uXa/Fq1hXFOoZb+01L0lmUJlP6z04gDdV2g//Gcq40BTcL+UodaaG+93P9oPEzKMdn6/wZjHaxjYYz+GVEBf/RJsP6b3ZJTu634/TNVGTZTDbT/e02vlj65rPxwNrhsFAYg/8HkQHuZVab8=",
          "dtype": "f8"
         }
        },
        {
         "hoverinfo": "text",
         "hovertext": [
          "Deck 6 — 8/8 carte mappate<br>Royal Recruits, Musketeer, Arrows, Guards, Bowler, Poison, Baby Dragon, Hog Rider",
          "Deck 23 — 8/8 carte mappate<br>Executioner, Giant Snowball, Guards, Royal Ghost, Ram Rider, Boss Bandit, Lightning, Barbarian Barrel",
          "Deck 35 — 8/8 carte mappate<br>Baby Dragon, Cannon, Minions, Golem, Mini P.E.K.K.A, Earthquake, Goblin Machine, Furnace",
          "Deck 123 — 8/8 carte mappate<br>Executioner, Giant Snowball, Barbarian Barrel, Guards, Lightning, Ram Rider, Royal Ghost, Boss Bandit",
          "Deck 165 — 8/8 carte mappate<br>Mortar, P.E.K.K.A, Rage, Arrows, Poison, Ram Rider, Electro Wizard, Tornado",
          "Deck 189 — 8/8 carte mappate<br>Inferno Dragon, Goblin Cage, Fire Spirit, Golden Knight, Electro Giant, Lightning, Tornado, Barbarian Barrel",
          "Deck 202 — 8/8 carte mappate<br>Lumberjack, Skeletons, Minions, Mini P.E.K.K.A, Zap, Berserker, Barbarian Barrel, Dark Prince",
          "Deck 234 — 8/8 carte mappate<br>Lumberjack, Goblin Cage, Balloon, Musketeer, Ice Golem, Bats, Barbarian Barrel, Giant Snowball",
          "Deck 261 — 8/8 carte mappate<br>Archers, Royal Giant, Fisherman, Skeleton King, Mother Witch, Tombstone, Fireball, Barbarian Barrel",
          "Deck 296 — 8/8 carte mappate<br>P.E.K.K.A, Furnace, Freeze, Cannon, Tornado, Baby Dragon, Vines, Balloon",
          "Deck 307 — 8/8 carte mappate<br>Furnace, Lumberjack, Goblin Hut, Miner, Minion Horde, Arrows, Vines, Guards",
          "Deck 308 — 8/8 carte mappate<br>P.E.K.K.A, Baby Dragon, Ram Rider, Vines, Berserker, Minions, Electro Spirit, Barbarian Barrel",
          "Deck 309 — 8/8 carte mappate<br>Skeleton Barrel, Mortar, Minions, Berserker, Guards, Lightning, Skeleton King, Ice Wizard",
          "Deck 317 — 8/8 carte mappate<br>Royal Giant, Furnace, Phoenix, Fireball, Skeletons, Zap, Barbarian Barrel, Fisherman",
          "Deck 338 — 8/8 carte mappate<br>Bomber, Executioner, Graveyard, P.E.K.K.A, Minions, Zap, Ice Wizard, Tornado",
          "Deck 354 — 8/8 carte mappate<br>Musketeer, P.E.K.K.A, Inferno Dragon, Skeleton Barrel, Lightning, Furnace, Goblin Curse, Berserker",
          "Deck 389 — 8/8 carte mappate<br>Goblin Cage, Electro Giant, Lightning, Ice Wizard, Barbarian Barrel, Tornado, Baby Dragon, Dark Prince",
          "Deck 404 — 8/8 carte mappate<br>Executioner, Giant Snowball, Ram Rider, Boss Bandit, Vines, Guards, Berserker, Barbarian Barrel",
          "Deck 412 — 8/8 carte mappate<br>Witch, Giant Snowball, Guards, Vines, Giant, Graveyard, Minions, Bowler",
          "Deck 414 — 8/8 carte mappate<br>Executioner, Cannon, Tornado, Guards, Electro Giant, Lightning, Golden Knight, Ice Wizard",
          "Deck 418 — 8/8 carte mappate<br>Executioner, Giant Snowball, Boss Bandit, Guards, Barbarian Barrel, Lightning, Royal Ghost, Hog Rider",
          "Deck 448 — 8/8 carte mappate<br>Witch, Lumberjack, Golem, Archer Queen, Vines, Mother Witch, Bats, Berserker",
          "Deck 482 — 8/8 carte mappate<br>Witch, Knight, Monk, Bowler, Mini P.E.K.K.A, Zappies, Arrows, Graveyard",
          "Deck 495 — 8/8 carte mappate<br>Valkyrie, Electro Dragon, Vines, Golden Knight, Giant Snowball, P.E.K.K.A, Magic Archer, Tornado",
          "Deck 520 — 8/8 carte mappate<br>Barbarians, Skeletons, Bowler, Graveyard, Arrows, Zap, Giant, Night Witch",
          "Deck 540 — 8/8 carte mappate<br>Goblin Cage, Inferno Dragon, Electro Giant, Goblin Drill, Furnace, Tornado, Fireball, Barbarian Barrel",
          "Deck 542 — 8/8 carte mappate<br>Tesla, Bomber, Mega Minion, Witch, Guards, Graveyard, Ice Golem, Poison",
          "Deck 571 — 8/8 carte mappate<br>Baby Dragon, Lumberjack, Bowler, P.E.K.K.A, Arrows, Vines, Bats, Barbarian Barrel",
          "Deck 599 — 8/8 carte mappate<br>Knight, Firecracker, Tornado, Ram Rider, Barbarian Barrel, P.E.K.K.A, Lightning, Flying Machine",
          "Deck 604 — 8/8 carte mappate<br>Giant Snowball, Furnace, Giant, Bowler, Guards, Minions, Graveyard, Arrows",
          "Deck 631 — 8/8 carte mappate<br>Goblin Cage, Baby Dragon, Barbarian Barrel, Berserker, Lumberjack, Vines, Skeletons, Balloon",
          "Deck 644 — 8/8 carte mappate<br>Knight, Executioner, Tornado, Barbarian Barrel, Goblins, Inferno Dragon, Graveyard, Freeze",
          "Deck 652 — 8/8 carte mappate<br>Witch, Giant Snowball, Bowler, Minions, Guards, Graveyard, Vines, Giant",
          "Deck 656 — 8/8 carte mappate<br>Executioner, P.E.K.K.A, Goblin Machine, Fisherman, Furnace, Suspicious Bush, Electro Wizard, Arrows",
          "Deck 657 — 8/8 carte mappate<br>P.E.K.K.A, Baby Dragon, Ram Rider, Bandit, Ice Wizard, Lightning, Vines, Barbarian Barrel",
          "Deck 663 — 8/8 carte mappate<br>Furnace, Lumberjack, Goblin Hut, Miner, Minion Horde, Arrows, Vines, Guards",
          "Deck 670 — 8/8 carte mappate<br>Barbarians, Bats, Night Witch, Poison, Cannon Cart, Mother Witch, Golem, Arrows",
          "Deck 689 — 8/8 carte mappate<br>Baby Dragon, Goblin Cage, Electro Giant, Archer Queen, Tornado, Lightning, Dark Prince, Barbarian Barrel",
          "Deck 765 — 8/8 carte mappate<br>Goblin Giant, Valkyrie, Inferno Dragon, Furnace, Arrows, Bats, Goblin Cage, Vines",
          "Deck 780 — 8/8 carte mappate<br>Hunter, Barbarians, Monk, Lightning, Tombstone, Barbarian Barrel, Arrows, Mother Witch",
          "Deck 801 — 8/8 carte mappate<br>Mega Knight, Electro Dragon, Goblin Cage, Tornado, Barbarian Barrel, Rocket, Hog Rider, Executioner",
          "Deck 805 — 8/8 carte mappate<br>Royal Recruits, Furnace, Barbarian Barrel, Royal Hogs, Flying Machine, Arrows, Zap, Minions",
          "Deck 819 — 8/8 carte mappate<br>Bomber, Executioner, Graveyard, P.E.K.K.A, Minions, Zap, Ice Wizard, Tornado",
          "Deck 826 — 8/8 carte mappate<br>Witch, Giant Snowball, Graveyard, Guards, Giant, Bowler, Minions, Arrows",
          "Deck 973 — 8/8 carte mappate<br>Baby Dragon, Lumberjack, Barbarian Barrel, Electro Spirit, Guards, Balloon, Vines, Zappies",
          "Deck 976 — 8/8 carte mappate<br>Lumberjack, Mega Knight, Furnace, Ice Wizard, Guards, Zap, Lightning, Spirit Empress",
          "Deck 1005 — 8/8 carte mappate<br>Mortar, Goblin Drill, Executioner, Guards, Mega Minion, Arrows, Barbarian Barrel, Goblin Machine",
          "Deck 1009 — 8/8 carte mappate<br>P.E.K.K.A, Executioner, Mother Witch, Golden Knight, Lightning, Goblin Hut, Vines, Ram Rider",
          "Deck 1046 — 8/8 carte mappate<br>Baby Dragon, Wizard, Royal Giant, Monk, Vines, Fisherman, Barbarian Barrel, Guards",
          "Deck 1111 — 8/8 carte mappate<br>Furnace, P.E.K.K.A, Bowler, Golden Knight, Flying Machine, Balloon, Zappies, Arrows",
          "Deck 1116 — 8/8 carte mappate<br>P.E.K.K.A, Witch, Inferno Dragon, Arrows, Vines, Poison, Goblin Hut, Hog Rider",
          "Deck 1170 — 8/8 carte mappate<br>Bomber, Inferno Dragon, Tornado, Lightning, Electro Giant, Goblin Hut, Golden Knight, Arrows",
          "Deck 1184 — 8/8 carte mappate<br>Knight, Executioner, Tornado, Barbarian Barrel, Goblins, Inferno Dragon, Graveyard, Freeze",
          "Deck 1226 — 8/8 carte mappate<br>Giant Snowball, Executioner, Ram Rider, Berserker, Boss Bandit, Barbarian Barrel, Vines, Guards",
          "Deck 1242 — 8/8 carte mappate<br>Inferno Dragon, Furnace, Lava Hound, Skeleton King, Graveyard, Rascals, Tombstone, Arrows",
          "Deck 1245 — 8/8 carte mappate<br>Bomber, Executioner, Graveyard, P.E.K.K.A, Minions, Zap, Ice Wizard, Tornado",
          "Deck 1251 — 8/8 carte mappate<br>Archers, P.E.K.K.A, Barbarian Barrel, Royal Ghost, Bandit, Minions, Vines, Ram Rider",
          "Deck 1275 — 8/8 carte mappate<br>Goblin Cage, Skeletons, Mirror, Rage, Prince, Fire Spirit, Ice Wizard, Vines",
          "Deck 1386 — 8/8 carte mappate<br>Witch, Giant Snowball, Minions, Graveyard, Arrows, Guards, Bowler, Giant",
          "Deck 1394 — 8/8 carte mappate<br>P.E.K.K.A, Giant Snowball, Baby Dragon, Electro Wizard, Bandit, Ram Rider, Lightning, Barbarian Barrel",
          "Deck 1485 — 8/8 carte mappate<br>Baby Dragon, Goblin Giant, Goblin Machine, Firecracker, Vines, Tornado, The Log, Skeletons",
          "Deck 1506 — 8/8 carte mappate<br>Electro Dragon, Skeletons, Ice Wizard, Ram Rider, Vines, Monk, Berserker, Tornado",
          "Deck 1527 — 8/8 carte mappate<br>Ice Spirit, Zap, Lava Hound, Miner, Flying Machine, Phoenix, Tombstone, Goblin Curse",
          "Deck 1539 — 8/8 carte mappate<br>Lumberjack, Goblin Cage, Balloon, Musketeer, Ice Golem, Bats, Barbarian Barrel, Giant Snowball",
          "Deck 1591 — 8/8 carte mappate<br>Mother Witch, Hunter, Royal Ghost, Golden Knight, Barbarian Barrel, Fire Spirit, Elite Barbarians, Cannon Cart",
          "Deck 1609 — 8/8 carte mappate<br>Barbarians, Skeletons, Bowler, Graveyard, Arrows, Zap, Giant, Night Witch",
          "Deck 1630 — 8/8 carte mappate<br>Archers, Royal Recruits, Balloon, Lumberjack, Fisherman, Little Prince, Arrows, Giant Snowball",
          "Deck 1650 — 8/8 carte mappate<br>P.E.K.K.A, Baby Dragon, Lumberjack, Balloon, Valkyrie, Berserker, Ice Spirit, Tornado",
          "Deck 1722 — 8/8 carte mappate<br>Baby Dragon, Goblin Cage, Miner, Vines, Balloon, Arrows, Minions, Berserker",
          "Deck 1727 — 8/8 carte mappate<br>Electro Wizard, Rocket, Giant, Barbarian Barrel, Battle Healer, Skeleton King, Barbarian Hut, Electro Spirit",
          "Deck 1728 — 8/8 carte mappate<br>Archers, P.E.K.K.A, Poison, Royal Ghost, Bandit, Minions, Vines, Ram Rider",
          "Deck 1759 — 8/8 carte mappate<br>Baby Dragon, Witch, Skeletons, Barbarian Barrel, Lightning, Golem, Berserker, Mini P.E.K.K.A",
          "Deck 1821 — 8/8 carte mappate<br>Witch, Zap, Graveyard, Giant Skeleton, Berserker, Goblin Curse, Bomber, Goblin Hut",
          "Deck 1833 — 8/8 carte mappate<br>Inferno Dragon, Goblin Cage, Fire Spirit, Golden Knight, Electro Giant, Lightning, Tornado, Barbarian Barrel",
          "Deck 1856 — 8/8 carte mappate<br>Bomber, Inferno Dragon, Golden Knight, Electro Giant, Goblin Hut, Lightning, Tornado, Barbarian Barrel",
          "Deck 1874 — 8/8 carte mappate<br>Witch, Giant Snowball, Giant, Minions, Guards, Bowler, Arrows, Graveyard",
          "Deck 1926 — 8/8 carte mappate<br>Executioner, Giant Snowball, Ram Rider, Boss Bandit, Lightning, Royal Ghost, Skeletons, Barbarian Barrel",
          "Deck 1962 — 8/8 carte mappate<br>Executioner, Giant Snowball, Skeletons, Royal Ghost, Ram Rider, Boss Bandit, Goblin Hut, Goblin Curse",
          "Deck 1972 — 8/8 carte mappate<br>Executioner, Giant Snowball, Skeletons, Royal Ghost, Ram Rider, Boss Bandit, Goblin Hut, Goblin Curse",
          "Deck 1996 — 8/8 carte mappate<br>P.E.K.K.A, Battle Ram, Electro Wizard, Arrows, Executioner, Tornado, Goblins, Berserker",
          "Deck 2027 — 8/8 carte mappate<br>Knight, Battle Ram, Three Musketeers, Hunter, Bandit, Royal Ghost, Elixir Collector, Barbarian Barrel",
          "Deck 2050 — 8/8 carte mappate<br>Archers, Royal Recruits, Balloon, Lumberjack, Fisherman, Skeleton Dragons, Arrows, Giant Snowball",
          "Deck 2150 — 8/8 carte mappate<br>Giant Snowball, Executioner, Ram Rider, Berserker, Boss Bandit, Barbarian Barrel, Vines, Guards",
          "Deck 2151 — 8/8 carte mappate<br>Furnace, Lumberjack, Goblin Hut, Miner, Minion Horde, Arrows, Vines, Guards",
          "Deck 2154 — 8/8 carte mappate<br>Witch, Giant Snowball, Bowler, Minions, Guards, Graveyard, Vines, Giant",
          "Deck 2165 — 8/8 carte mappate<br>Witch, Royal Recruits, Cannon Cart, Mother Witch, Poison, Vines, Tombstone, Mega Knight",
          "Deck 2168 — 8/8 carte mappate<br>Goblin Cage, Musketeer, Dark Prince, Tornado, Electro Giant, Barbarian Barrel, Inferno Dragon, Lightning",
          "Deck 2175 — 8/8 carte mappate<br>Royal Giant, Witch, Mini P.E.K.K.A, Vines, Rage, Berserker, Barbarian Barrel, Electro Spirit",
          "Deck 2181 — 8/8 carte mappate<br>Royal Giant, Goblin Cage, Goblinstein, Void, Royal Delivery, Fisherman, Furnace, Bats",
          "Deck 2183 — 8/8 carte mappate<br>Royal Recruits, Witch, Boss Bandit, Furnace, Flying Machine, Battle Ram, Fisherman, Arrows",
          "Deck 2230 — 8/8 carte mappate<br>Witch, Valkyrie, Arrows, Graveyard, Miner, Archers, Minions, Giant",
          "Deck 2255 — 8/8 carte mappate<br>Furnace, Witch, Clone, Tornado, Skeleton Barrel, Giant Skeleton, Zappies, Goblin Machine",
          "Deck 2276 — 8/8 carte mappate<br>Dart Goblin, Baby Dragon, Poison, Dark Prince, Mini P.E.K.K.A, Golem, Night Witch, Zap",
          "Deck 2284 — 8/8 carte mappate<br>Zap, Executioner, Dark Prince, Poison, Ice Wizard, Giant, Bandit, Cannon Cart",
          "Deck 2302 — 8/8 carte mappate<br>Electro Dragon, Witch, Bowler, Mini P.E.K.K.A, Barbarian Barrel, Miner, Inferno Dragon, Poison",
          "Deck 2314 — 8/8 carte mappate<br>Bats, Witch, Electro Giant, Barbarian Barrel, Fisherman, Boss Bandit, Royal Ghost, Spirit Empress",
          "Deck 2362 — 8/8 carte mappate<br>Knight, Executioner, Tornado, Barbarian Barrel, Goblins, Inferno Dragon, Graveyard, Freeze",
          "Deck 2366 — 8/8 carte mappate<br>P.E.K.K.A, Skeletons, Graveyard, Vines, Poison, Wizard, Tornado, Bats",
          "Deck 2371 — 8/8 carte mappate<br>Goblin Cage, Executioner, Bowler, Goblinstein, Arrows, Tornado, Guards, Hog Rider",
          "Deck 2383 — 8/8 carte mappate<br>Witch, Giant Snowball, Guards, Vines, Giant, Graveyard, Minions, Bowler",
          "Deck 2397 — 8/8 carte mappate<br>Giant Snowball, Witch, Graveyard, Giant, Minions, Bowler, Arrows, Guards",
          "Deck 2426 — 8/8 carte mappate<br>Royal Recruits, Royal Giant, Arrows, Fisherman, Royal Ghost, Lightning, Guards, Mother Witch",
          "Deck 2434 — 8/8 carte mappate<br>Giant Snowball, Lumberjack, Balloon, Ice Wizard, Vines, Bowler, Guards, Golden Knight",
          "Deck 2445 — 8/8 carte mappate<br>Baby Dragon, Witch, Golem, Goblin Machine, Vines, Electro Spirit, Guards, Mini P.E.K.K.A",
          "Deck 2466 — 8/8 carte mappate<br>Executioner, P.E.K.K.A, Goblin Machine, Fisherman, Furnace, Archers, Mortar, Arrows",
          "Deck 2481 — 8/8 carte mappate<br>Giant Snowball, Executioner, Ram Rider, Berserker, Boss Bandit, Barbarian Barrel, Vines, Guards"
         ],
         "marker": {
          "color": "rgb(247,129,191)",
          "size": 6
         },
         "mode": "markers",
         "name": "Cluster 16",
         "text": [
          "Deck 6",
          "Deck 23",
          "Deck 35",
          "Deck 123",
          "Deck 165",
          "Deck 189",
          "Deck 202",
          "Deck 234",
          "Deck 261",
          "Deck 296",
          "Deck 307",
          "Deck 308",
          "Deck 309",
          "Deck 317",
          "Deck 338",
          "Deck 354",
          "Deck 389",
          "Deck 404",
          "Deck 412",
          "Deck 414",
          "Deck 418",
          "Deck 448",
          "Deck 482",
          "Deck 495",
          "Deck 520",
          "Deck 540",
          "Deck 542",
          "Deck 571",
          "Deck 599",
          "Deck 604",
          "Deck 631",
          "Deck 644",
          "Deck 652",
          "Deck 656",
          "Deck 657",
          "Deck 663",
          "Deck 670",
          "Deck 689",
          "Deck 765",
          "Deck 780",
          "Deck 801",
          "Deck 805",
          "Deck 819",
          "Deck 826",
          "Deck 973",
          "Deck 976",
          "Deck 1005",
          "Deck 1009",
          "Deck 1046",
          "Deck 1111",
          "Deck 1116",
          "Deck 1170",
          "Deck 1184",
          "Deck 1226",
          "Deck 1242",
          "Deck 1245",
          "Deck 1251",
          "Deck 1275",
          "Deck 1386",
          "Deck 1394",
          "Deck 1485",
          "Deck 1506",
          "Deck 1527",
          "Deck 1539",
          "Deck 1591",
          "Deck 1609",
          "Deck 1630",
          "Deck 1650",
          "Deck 1722",
          "Deck 1727",
          "Deck 1728",
          "Deck 1759",
          "Deck 1821",
          "Deck 1833",
          "Deck 1856",
          "Deck 1874",
          "Deck 1926",
          "Deck 1962",
          "Deck 1972",
          "Deck 1996",
          "Deck 2027",
          "Deck 2050",
          "Deck 2150",
          "Deck 2151",
          "Deck 2154",
          "Deck 2165",
          "Deck 2168",
          "Deck 2175",
          "Deck 2181",
          "Deck 2183",
          "Deck 2230",
          "Deck 2255",
          "Deck 2276",
          "Deck 2284",
          "Deck 2302",
          "Deck 2314",
          "Deck 2362",
          "Deck 2366",
          "Deck 2371",
          "Deck 2383",
          "Deck 2397",
          "Deck 2426",
          "Deck 2434",
          "Deck 2445",
          "Deck 2466",
          "Deck 2481"
         ],
         "type": "scatter3d",
         "x": {
          "bdata": "fMABvfcFUb9XBnS+ZCWEv/CZ8RaPBXc/WAZ0vmQlhL9zlU3vsUKEvxiipRg7ZJC/cn0Wk+zAfL+oORrC0lGAP7IPZ4+pVUE/oBXrVVbDeL/W0uiBOKqEv3kyxoPmP3G/wMOXqVS1Qj/Hmm4M6VNeP4HHat9HAZK/4nMbl98hhb9gvZJo+HSWv1pQqiuzBme/hKzHxreZkr+6BDKVMyNgv9K+hwDXuGi/cSZ5DOjtir836V89fmx9v//u5C+Tb4i/zZWSixuEkb/YMVXpOyFsvzpp4mgzdIE/siJvaX50lb8lv+ZKGKB/v/i+fpjBepC/kSjD3EJadb+U8Rt+Y+Ziv4Ssx8a3mZK/AzN3ypaajL/6Au0yt7KRv9bS6IE4qoS/opbK4U1mmL+BIVz3YWiRvz9CcRkts5S/xm/3eCXeir9srDzijh90v6e67G1w+Y+/gcdq30cBkr975oi3t7mTvxHBX/CjzIO/NDhc8pTkkL/WmiU2eJt4v2IiIseg8JC/ZUj2GJTdgL9sQL2Tzv2YvzfWw/5RGXe/VEFRWnnLlr+U8Rt+Y+Ziv1pQqiuzBme/CwSVXNXKhr+Bx2rfRwGSv3012F4UjIm/wgnyvYkDMb965oi3t7mTv8J/YsoViJG/CEa3zz1fb78d6jSsO/NtP6XKm4As8ZC/qDkawtJRgD+bv8m+TZh3v82VkosbhJG/yqs90DdPcD/PnUzMo2Vgv3pS5fbKtY2/p5VSy1wri78/tclPz86Bv5Lj5qXvn4K/+Y2lzLqWkb8YoqUYO2SQv1KuxbVKHJe/e+aIt7e5k79VQa61bQNePyTE7crWcl8/JMTtytZyXz+ULcDMKwl+v0bn6NsddYe/0JirtEw2g79aUKorswZnv9bS6IE4qoS/hKzHxreZkr+PXWWtMz6FvzikOueOLJS/EKtHbIyPWL+rAbEQAyCEP1rpB+6HsZC/iQuVhAI+hb/+YpdY6OSXv5QAtxeqIpO/rW+5uzZWjb+S6rpXdFCVv+qxz909jpO/lPEbfmPmYr9GP2BIzbZMP4nuffTL03u/hKzHxreZkr975oi3t7mTv16iHxW4hYy/EcGSQY44ib9lZi55o5CQv2JMvhq5Km+/WlCqK7MGZ78=",
          "dtype": "f8"
         },
         "y": {
          "bdata": "TjJXgFv2cT+AGS3ixLGBP7zcB2f3N4c/gBkt4sSxgT+aWBNnCl1Zv8PUPtCudoo/rbwKK0RBeD/2AzjYVQyKPwUAxQ7LeYs/2ngABrENWj/EbKEC6W15P/3OcHXvEpQ/BQ7/jwi4iz8S4pI9kNOCP0C15BVsA48/XGPK/lVYaj/Jk/3GC0KYP8Wi42IWqJM/VA7g3R8Elz+4hTZ4z3txP6IoEMQIGXo/nKV78i/jeD/7ciDi8zaSPxStj8qCyXI/eJX6Yadrgj9NCd0q4IKWP/6f0BU8O48/BmHl8+Mmaz946Q8xkNZ7P2wxEsEZK5c/WmDvTow0mT8wbmioCo+MP1QO4N0fBJc/ZgCOD+SEeD8tb7o2G+GEP8RsoQLpbXk/nSL8nMuIbT+CHsbYEwWRP0XK4rVApWw/zrnuyNJDfz/r24ycdhN2P0ykEOHkAZA/QLXkFWwDjz//Y7CK/F2RP6DBawcrE5M/miMUNE5jQD8CVwy48NuWP6Z9yqsUDoc/IkOk0MvNkD+t9aOUYb2JPyI+ZDjP1HU/VWY+gJRZgD8wbmioCo+MP8Wi42IWqJM/CKq3n36Thz9AteQVbAOPP1WpiQNnvHE/UJ1kMLiRcT//Y7CK/F2RP6hw0GvwI28/GIGHFLRNkD8bDKrrt7aXP6/0g1f7OGo/9gM42FUMij8BKWOK1dZ9P3iV+mGna4I/5WzHdpHlgj/MlDq6+QBvP56mcIZWbpA/8DXpzvk/cD8MDYh5nG5kP0hVeANC9o0/t36DSicdmz/D1D7QrnaKPzDWtIFnVZI//2OwivxdkT+l4WOExaeAP6dgCVoInZA/p2AJWgidkD+Aqb8apjxPv1VfkPOF1YQ/+vfm4ZTBfj/FouNiFqiTP8RsoQLpbXk/VA7g3R8Elz8A0TGqoRCAPwj4Rc2xL4c/tNeTU7RSiT9ASIZO9gmLP9cFBpvDZ4Q/BWuInZngdT86WdcuFoV/P35OqRZidlo/DKJ9I1+rYz95cUZzqVJ4PxN0QVwuJIA/MG5oqAqPjD9Ije5e12qLP/DtGMFXPXA/VA7g3R8Elz//Y7CK/F2RP4zK2eomw4I/KhePPFeEiT9kIRTD+giOP1chjs50TYw/xaLjYhaokz8=",
          "dtype": "f8"
         },
         "z": {
          "bdata": "jevIzYPigr+hHqc9bHlgv2Jzw8q4iIY/oR6nPWx5YL/EheV1fq1JPyZDadnegoe/N1TyeoUcZj8IvRYGOp1RP9y/FUyzKWc/HddMnQxJWT+RMs2qfX+Cv2uQeVDBFmE/WqJIhaUgkL89Slb6MICGP3dm/6wV02Q/iCIqp02xO7/Oda8OwQB4v96ekMWzZ3m//tQ2uzwsb7+tWl22N9t0v/lUqxbXQlq/ap2txtsfcb+Cb5gDqW6Qv1QmOyNkPVW/FO6+axbUbj9z3gywqeJwv+6SGRLcQYE/Hj4Qzhy+Yb+dQ/i8kUmBvxTApEwHUG+/rjNHPsvwer97RRPJJbJvv/3UNrs8LG+/ltXpYvrcTT8S5gP5u6ZOv5Eyzap9f4K/XVb86xlWbb/09KJxPwZyv4I44uuKMG2/QcvigyG+dj/b2ETc5xN4v4kgaL8tbpq/d2b/rBXTZD9uk2VnMpFsv96c3STW6YW/EZ0p7FEhcb9fzF+Yb/p/P+sJisJAuIG/fhAA2Z8qcz87C015PcSbv3Y8NPFSGoC/+F8ZLdXEe797RRPJJbJvv96ekMWzZ3m/RgOsM2XRj793Zv+sFdNkP4OpQYxZxXk/1lJMdMGwbL9rk2VnMpFsv7pECtQ4t10/cfTP7lz2jj9kDxAV82dlP+C9Solt5E8/CL0WBjqdUT8s/x64VgRYvxTuvmsW1G4/zuvOaZtIRz/xeRBpY9NgP2crXweYCIG/kW1KcZeHiz9ZGP5VapV3P2IwcYqvDVq/QNmfEneLa78mQ2nZ3oKHv1DKdS8YJ32/bZNlZzKRbL/pPuvuNeRMP2SkqVMnZVY/ZKSpUydlVj9q9Wg2nnJdPzl94BW2q5A/AtIrpXyNZL/enpDFs2d5v5Eyzap9f4K//dQ2uzwsb7+hH8jkI+6Uvxl4Y1YmAme/NSvVyZiaZD9A/NfBPC6Av1bz3GLqIJW/rIAIztB0UD+oephd5EiSv27AhObjzmg/sNDnV/50Yr/4C0xruOdwv3Nh8gJiDXC/e0UTySWyb7+VliM8y+lov4C5dJmlJoW//tQ2uzwsb79sk2VnMpFsv00Q5J2bdne/knUzWxTGeL9kNgXR69V8P4IUxjnEtXs/3p6QxbNneb8=",
          "dtype": "f8"
         }
        },
        {
         "hoverinfo": "text",
         "hovertext": [
          "Deck 92 — 8/8 carte mappate<br>Furnace, Giant Snowball, Goblin Drill, Skeletons, Cannon, Poison, Royal Delivery, Berserker",
          "Deck 185 — 8/8 carte mappate<br>Royal Giant, Hunter, Fisherman, Monk, Electro Spirit, Rage, The Log, Spirit Empress",
          "Deck 312 — 8/8 carte mappate<br>Skeletons, Musketeer, Balloon, Giant Snowball, Ice Golem, Miner, Barbarian Barrel, Bomb Tower",
          "Deck 322 — 8/8 carte mappate<br>Royal Giant, Hunter, The Log, Monk, Fisherman, Electro Spirit, Skeletons, Lightning",
          "Deck 330 — 8/8 carte mappate<br>Knight, Archers, Poison, Giant Snowball, Rascals, Graveyard, Guards, Cannon",
          "Deck 339 — 8/8 carte mappate<br>Lumberjack, Musketeer, Balloon, Bomb Tower, Giant Snowball, Ice Golem, Bats, Barbarian Barrel",
          "Deck 340 — 8/8 carte mappate<br>Royal Giant, Furnace, Poison, Skeleton King, The Log, Goblins, Fisherman, Electro Spirit",
          "Deck 348 — 8/8 carte mappate<br>Battle Ram, Hunter, Fisherman, Ice Golem, Three Musketeers, Royal Ghost, The Log, Vines",
          "Deck 373 — 8/8 carte mappate<br>Mega Knight, Furnace, Arrows, Knight, Ice Wizard, Earthquake, Musketeer, Goblin Machine",
          "Deck 390 — 8/8 carte mappate<br>Royal Giant, Hunter, The Log, Monk, Fisherman, Electro Spirit, Skeletons, Lightning",
          "Deck 391 — 8/8 carte mappate<br>Giant Snowball, Musketeer, Balloon, Bomb Tower, Skeletons, Barbarian Barrel, Miner, Ice Golem",
          "Deck 434 — 8/8 carte mappate<br>Skeleton Barrel, Wall Breakers, Berserker, Little Prince, Electro Spirit, The Log, Vines, Fire Spirit",
          "Deck 489 — 8/8 carte mappate<br>Musketeer, Tesla, The Log, Poison, Electro Spirit, Guards, Golden Knight, Royal Giant",
          "Deck 628 — 8/8 carte mappate<br>Skeletons, Musketeer, Giant Snowball, Barbarian Barrel, Miner, Ice Golem, Bomb Tower, Balloon",
          "Deck 639 — 8/8 carte mappate<br>Knight, Archers, Poison, Giant Snowball, Rascals, Graveyard, Guards, Cannon",
          "Deck 662 — 8/8 carte mappate<br>Valkyrie, Firecracker, Berserker, Goblin Hut, Hog Rider, The Log, Ice Spirit, Vines",
          "Deck 696 — 8/8 carte mappate<br>Knight, Mortar, Little Prince, Poison, Barbarian Barrel, Graveyard, Baby Dragon, Skeletons",
          "Deck 700 — 8/8 carte mappate<br>Royal Giant, Wizard, Monk, Fisherman, Barbarian Barrel, Fireball, Skeletons, Electro Spirit",
          "Deck 734 — 8/8 carte mappate<br>Skeletons, Musketeer, Giant Snowball, Barbarian Barrel, Ice Golem, Miner, Balloon, Bomb Tower",
          "Deck 740 — 8/8 carte mappate<br>Royal Giant, Hunter, Royal Ghost, Skeletons, Electro Spirit, Fisherman, The Log, Lightning",
          "Deck 825 — 8/8 carte mappate<br>Knight, Mortar, Skeletons, Mega Minion, Lightning, Tornado, The Log, Ice Wizard",
          "Deck 828 — 8/8 carte mappate<br>Mega Knight, Furnace, Arrows, Knight, Ice Wizard, Earthquake, Musketeer, Goblin Machine",
          "Deck 946 — 8/8 carte mappate<br>Giant Snowball, Cannon, Fire Spirit, Vines, Goblin Drill, Skeletons, Berserker, Bomber",
          "Deck 1013 — 8/8 carte mappate<br>Knight, Furnace, Graveyard, Ice Spirit, Goblin Hut, Poison, Barbarian Barrel, Skeletons",
          "Deck 1049 — 8/8 carte mappate<br>Giant Snowball, Tesla, Goblin Drill, The Log, Vines, Knight, Skeletons, Ice Wizard",
          "Deck 1058 — 8/8 carte mappate<br>Tornado, Giant Snowball, Barbarian Barrel, Goblin Barrel, Vines, Royal Delivery, Rocket, Mirror",
          "Deck 1096 — 8/8 carte mappate<br>Tesla, Knight, Graveyard, Poison, Ice Wizard, Ice Spirit, Guards, Barbarian Barrel",
          "Deck 1228 — 8/8 carte mappate<br>Furnace, Valkyrie, Graveyard, Goblin Hut, Vines, Ice Spirit, Berserker, Skeletons",
          "Deck 1231 — 8/8 carte mappate<br>Furnace, Giant Snowball, Goblin Drill, Mighty Miner, Berserker, Poison, Skeletons, Cannon",
          "Deck 1257 — 8/8 carte mappate<br>Royal Giant, Hunter, Lightning, The Log, Fisherman, Skeletons, Electro Spirit, Royal Ghost",
          "Deck 1294 — 8/8 carte mappate<br>Royal Giant, Firecracker, Guards, Electro Spirit, Monk, Fisherman, The Log, Poison",
          "Deck 1320 — 8/8 carte mappate<br>Skeletons, Musketeer, Balloon, Miner, Barbarian Barrel, Giant Snowball, Ice Golem, Bomb Tower",
          "Deck 1351 — 8/8 carte mappate<br>Giant Snowball, Cannon, Goblin Drill, Rocket, Bomber, Skeletons, Fire Spirit, Berserker",
          "Deck 1445 — 8/8 carte mappate<br>Valkyrie, Inferno Dragon, Graveyard, Skeletons, Ice Wizard, Ice Spirit, Vines, Cannon",
          "Deck 1457 — 8/8 carte mappate<br>Cannon, Giant Snowball, Berserker, Bomber, Skeletons, Fire Spirit, Goblin Drill, Vines",
          "Deck 1577 — 8/8 carte mappate<br>Royal Giant, Hunter, The Log, Lightning, Monk, Electro Spirit, Fisherman, Skeletons",
          "Deck 1595 — 8/8 carte mappate<br>Royal Giant, Furnace, Electro Spirit, Skeletons, Royal Ghost, Fisherman, Lightning, The Log",
          "Deck 1683 — 8/8 carte mappate<br>Musketeer, Skeletons, Balloon, Miner, Ice Golem, Bomb Tower, Barbarian Barrel, Giant Snowball",
          "Deck 1771 — 8/8 carte mappate<br>Royal Giant, Bats, Fisherman, Lightning, Skeletons, Electro Spirit, The Log, Hunter",
          "Deck 1984 — 8/8 carte mappate<br>Royal Giant, Hunter, Guards, Fisherman, Monk, Electro Spirit, Fireball, The Log",
          "Deck 2087 — 8/8 carte mappate<br>Musketeer, Skeletons, Giant Snowball, Balloon, Ice Golem, Bomb Tower, Barbarian Barrel, Miner",
          "Deck 2138 — 8/8 carte mappate<br>Furnace, Giant Snowball, Goblin Drill, Cannon, Berserker, Royal Delivery, Poison, Skeletons",
          "Deck 2144 — 8/8 carte mappate<br>Furnace, Giant Snowball, Goblin Drill, Mighty Miner, Berserker, Poison, Skeletons, Cannon",
          "Deck 2162 — 8/8 carte mappate<br>Cannon, Witch, Poison, Goblin Drill, Giant Snowball, Berserker, Skeletons, Royal Delivery",
          "Deck 2324 — 8/8 carte mappate<br>Musketeer, Skeletons, Giant Snowball, Miner, Bomb Tower, Balloon, Ice Golem, Barbarian Barrel",
          "Deck 2333 — 8/8 carte mappate<br>Skeletons, Musketeer, Barbarian Barrel, Ice Golem, Giant Snowball, Balloon, Bomb Tower, Miner",
          "Deck 2355 — 8/8 carte mappate<br>Knight, Furnace, Graveyard, Ice Spirit, Goblin Hut, Poison, Barbarian Barrel, Skeletons",
          "Deck 2367 — 8/8 carte mappate<br>Witch, Ice Spirit, Berserker, Lightning, Goblin Hut, Royal Hogs, Skeletons, Arrows",
          "Deck 2378 — 8/8 carte mappate<br>Royal Giant, Archers, Royal Delivery, The Log, Ice Wizard, Knight, Guards, Vines",
          "Deck 2392 — 8/8 carte mappate<br>Skeletons, Giant Snowball, Cannon, Mini P.E.K.K.A, Poison, Archer Queen, Fire Spirit, Goblin Drill",
          "Deck 2423 — 8/8 carte mappate<br>Royal Giant, Archers, Royal Delivery, The Log, Ice Wizard, Knight, Guards, Vines",
          "Deck 2432 — 8/8 carte mappate<br>Knight, Furnace, Ice Wizard, Poison, Ice Spirit, Goblin Hut, Graveyard, Royal Delivery",
          "Deck 2467 — 8/8 carte mappate<br>Royal Giant, Executioner, Skeletons, Electro Spirit, Fisherman, Barbarian Barrel, Vines, Monk",
          "Deck 2477 — 8/8 carte mappate<br>Baby Dragon, Cannon, Barbarian Barrel, Vines, Ram Rider, Dark Prince, Ice Golem, Cannon Cart"
         ],
         "marker": {
          "color": "rgb(153,153,153)",
          "size": 6
         },
         "mode": "markers",
         "name": "Cluster 17",
         "text": [
          "Deck 92",
          "Deck 185",
          "Deck 312",
          "Deck 322",
          "Deck 330",
          "Deck 339",
          "Deck 340",
          "Deck 348",
          "Deck 373",
          "Deck 390",
          "Deck 391",
          "Deck 434",
          "Deck 489",
          "Deck 628",
          "Deck 639",
          "Deck 662",
          "Deck 696",
          "Deck 700",
          "Deck 734",
          "Deck 740",
          "Deck 825",
          "Deck 828",
          "Deck 946",
          "Deck 1013",
          "Deck 1049",
          "Deck 1058",
          "Deck 1096",
          "Deck 1228",
          "Deck 1231",
          "Deck 1257",
          "Deck 1294",
          "Deck 1320",
          "Deck 1351",
          "Deck 1445",
          "Deck 1457",
          "Deck 1577",
          "Deck 1595",
          "Deck 1683",
          "Deck 1771",
          "Deck 1984",
          "Deck 2087",
          "Deck 2138",
          "Deck 2144",
          "Deck 2162",
          "Deck 2324",
          "Deck 2333",
          "Deck 2355",
          "Deck 2367",
          "Deck 2378",
          "Deck 2392",
          "Deck 2423",
          "Deck 2432",
          "Deck 2467",
          "Deck 2477"
         ],
         "type": "scatter3d",
         "x": {
          "bdata": "omK1Zlo2rD/sh0aGz2uIPwQREbFroKE/RSHegLmdnT9p0fVltGuhPy9YFHOekpE/rrYsCM6tmj8oykKLnKeHP7rCPzFQSJQ/RSHegLmdnT8EERGxa6ChPwiUAaIDvKI/BciH5+z3nT8EERGxa6ChP2nR9WW0a6E/3MqJCWK4nj/65lwI0U6ZPyoDXJxclJU/BBERsWugoT+XZ4FKDRaZPyE7h0QxwJM/usI/MVBIlD/GkNpobNmjP8QvIC6WWJ8/LcYEpjAgqD9mPqCGdTuYP+0TXjLsbJw/NkrABE6FmT+tojCRTHqrP5ZngUoNFpk/zmgBgAtQlz8FERGxa6ChPxwNAYyHvqc/WtT1pq4anz/FkNpobNmjP0Uh3oC5nZ0/z0xHSjUrlj8FERGxa6ChP1j4iDTJi5k/6s4Eqp4mmT8EERGxa6ChP6NitWZaNqw/raIwkUx6qz/hTjBX35aqPwQREbFroKE/BRERsWugoT/ELyAullifP85PeGnwzZE/Q9ufSQGPoT+sbJFOMFmoP0Pbn0kBj6E/GziM0y7Ioz8Ffv48ZJaTP9E2v8qyT40/",
          "dtype": "f8"
         },
         "y": {
          "bdata": "kvQOtLZ9nz9tjVxl0iCJP2x+H/PD6Yk/0ZhaPijdgz+QsgK+R2eXPyeXtSCUOX0/NiAPDR0hjD9NzrERaUKKPzy+2ZbqZnQ/0ZhaPijdgz9sfh/zw+mJPyCWHratL3Y/es34u+gcTD9sfh/zw+mJP5CyAr5HZ5c//ASFN8Cygj+UScWK/XWfP1bC0c37s4M/bH4f88PpiT+FF9+NKG59P74WjmM1AnQ/PL7ZlupmdD98xI7lHsmWP6gHQpaG1qM/RRSQN5rnjz/5vyRWrb5xP/JYprllpps/iut56cxxoj+pUe8FS8adP4QX340obn0/H9s5baWihz9sfh/zw+mJP2xihb6v+I8/dE4radBTjD99xI7lHsmWP9GYWj4o3YM//v97Di6agT9sfh/zw+mJP4KdicXGqFM/0IamTYHZfj9sfh/zw+mJP5L0DrS2fZ8/qVHvBUvGnT8mJ619mbCZP2x+H/PD6Yk/bX4f88PpiT+oB0KWhtajPz7wd5T4OZA/wa2G6QUkej8FgwfKfH6HP8GthukFJHo/OZCtqi0epD/UAQoXSFqTPxGcbqDS94c/",
          "dtype": "f8"
         },
         "z": {
          "bdata": "f0+Ioih3aj9wr2LYp8eRP9r2iMLMHYQ/ybCqwlFRkD/x901p3kl2v4qkg6uYyH0/2bCaPr35WT9sTo1u9keVPxzzAVqX9n0/ybCqwlFRkD/a9ojCzB2EP9Id6LlfXX2/Y2qDaeAaaD/b9ojCzB2EP/H3TWneSXa/qynM1f5we7/CI1vnKF1qv3+fOKZ3fIo/2/aIwswdhD+BlTILB6uMPypBMmmbGVg/HPMBWpf2fT/ceIIWYsF7P2Q+lQrZ14O/mvDvZDPwcT+8RrJrDX5bv4iPImHTz3S/XoQsQ/rchr9d9gQ5wtBVv4CVMgsHq4w/nulDTttsgD/a9ojCzB2EP8DLfFlnWng/Ydo0W/GjW7/beIIWYsF7P8iwqsJRUZA/DMJXWkeugD/a9ojCzB2EPwk95PWFxIU/0AnfcjK1jj/a9ojCzB2EP39PiKIod2o/XfYEOcLQVb8mfMeH/TVtP9r2iMLMHYQ/2vaIwswdhD9kPpUK2deDvwruOgVKyYu/wH+yG+QRcT+d9XZe0C1wP8B/shvkEXE/6rB9OZ1ehb82RjVkaEyGP1YSC8EHS2w/",
          "dtype": "f8"
         }
        },
        {
         "hoverinfo": "text",
         "hovertext": [
          "Deck 12 — 8/8 carte mappate<br>P.E.K.K.A, Zap, Rocket, The Log, Wall Breakers, Wizard, Archers, Mini P.E.K.K.A",
          "Deck 13 — 8/8 carte mappate<br>Valkyrie, Firecracker, Musketeer, Furnace, Ice Spirit, Goblin Gang, Arrows, Dark Prince",
          "Deck 22 — 8/8 carte mappate<br>Dart Goblin, Firecracker, Electro Wizard, Monk, Fireball, Hog Rider, The Log, P.E.K.K.A",
          "Deck 33 — 8/8 carte mappate<br>Zap, Cannon, Tornado, Ice Spirit, P.E.K.K.A, Battle Ram, Valkyrie, Magic Archer",
          "Deck 44 — 8/8 carte mappate<br>Wizard, Mega Knight, Mini P.E.K.K.A, Skeletons, Bats, Firecracker, Hog Rider, The Log",
          "Deck 58 — 8/8 carte mappate<br>Wizard, P.E.K.K.A, Goblin Gang, Hog Rider, Tombstone, Arrows, Firecracker, Knight",
          "Deck 64 — 8/8 carte mappate<br>Wizard, Tesla, Goblin Barrel, Mega Knight, Firecracker, Hog Rider, Prince, The Log",
          "Deck 66 — 8/8 carte mappate<br>Knight, Ice Wizard, Hog Rider, Mini P.E.K.K.A, Mega Knight, Inferno Dragon, Dart Goblin, Arrows",
          "Deck 77 — 8/8 carte mappate<br>Tesla, Valkyrie, Skeletons, Elite Barbarians, Mini P.E.K.K.A, Rage, Firecracker, The Log",
          "Deck 95 — 8/8 carte mappate<br>Lumberjack, Witch, Tesla, Arrows, Fireball, Hog Rider, Prince, Skeletons",
          "Deck 98 — 8/8 carte mappate<br>Valkyrie, Tesla, Hog Rider, Dart Goblin, Firecracker, Vines, Mini P.E.K.K.A, Zap",
          "Deck 102 — 8/8 carte mappate<br>Musketeer, Skeleton Barrel, Princess, Lightning, Night Witch, Tombstone, Giant Skeleton, The Log",
          "Deck 126 — 8/8 carte mappate<br>Barbarians, Witch, Spear Goblins, Hog Rider, Minions, Tesla, Rocket, Arrows",
          "Deck 139 — 8/8 carte mappate<br>Executioner, Mega Knight, Hog Rider, Fire Spirit, Electro Wizard, Knight, Firecracker, Dart Goblin",
          "Deck 141 — 8/8 carte mappate<br>Firecracker, Mega Knight, Wall Breakers, Knight, Vines, Hog Rider, Electro Wizard, Dart Goblin",
          "Deck 146 — 8/8 carte mappate<br>Firecracker, Mega Knight, Hog Rider, Valkyrie, Skeleton Army, Fire Spirit, Executioner, Bomber",
          "Deck 154 — 8/8 carte mappate<br>Mega Knight, Firecracker, Goblin Barrel, Zap, Witch, Ice Spirit, Tesla, Arrows",
          "Deck 158 — 8/8 carte mappate<br>Mega Knight, Archers, Valkyrie, Ice Wizard, Hog Rider, Goblin Barrel, Freeze, Zap",
          "Deck 166 — 8/8 carte mappate<br>Lumberjack, Mega Knight, Bats, Prince, Firecracker, Royal Delivery, Goblin Gang, Zap",
          "Deck 168 — 8/8 carte mappate<br>Firecracker, P.E.K.K.A, Zap, Ice Spirit, Elite Barbarians, Baby Dragon, Balloon, Cannon",
          "Deck 169 — 8/8 carte mappate<br>Lumberjack, Firecracker, Mini P.E.K.K.A, Balloon, Ice Spirit, Tesla, Valkyrie, Arrows",
          "Deck 190 — 8/8 carte mappate<br>Mega Knight, Dart Goblin, Knight, Arrows, Hog Rider, Goblin Gang, Goblin Barrel, Barbarian Barrel",
          "Deck 201 — 8/8 carte mappate<br>Mega Knight, Firecracker, Balloon, Zap, Mini P.E.K.K.A, Arrows, Archers, Tesla",
          "Deck 211 — 8/8 carte mappate<br>Mega Knight, Archers, Zap, Hog Rider, Guards, Cannon, Musketeer, Skeleton Army",
          "Deck 216 — 8/8 carte mappate<br>Wizard, Valkyrie, Tesla, Hog Rider, Mini P.E.K.K.A, Fireball, Giant Skeleton, The Log",
          "Deck 222 — 8/8 carte mappate<br>Valkyrie, Mega Knight, Firecracker, The Log, Zap, Tesla, Fireball, Bandit",
          "Deck 266 — 8/8 carte mappate<br>Valkyrie, Executioner, Hog Rider, Goblin Gang, Lumberjack, Zap, The Log, Mini P.E.K.K.A",
          "Deck 272 — 8/8 carte mappate<br>Mega Knight, Valkyrie, Hog Rider, Mini P.E.K.K.A, Firecracker, Ice Spirit, Bats, Zap",
          "Deck 290 — 8/8 carte mappate<br>Zap, Lumberjack, The Log, Mirror, Giant Skeleton, Fire Spirit, Tesla, Elite Barbarians",
          "Deck 291 — 8/8 carte mappate<br>Valkyrie, Witch, Furnace, Fireball, Dart Goblin, Knight, Hog Rider, Mega Knight",
          "Deck 334 — 8/8 carte mappate<br>Valkyrie, Executioner, Electro Wizard, Mini P.E.K.K.A, Fireball, Dart Goblin, Knight, Hog Rider",
          "Deck 343 — 8/8 carte mappate<br>Royal Giant, Firecracker, Musketeer, Mini P.E.K.K.A, Arrows, Bomb Tower, Skeleton Army, Skeleton Barrel",
          "Deck 356 — 8/8 carte mappate<br>Mega Knight, Goblin Barrel, Musketeer, Arrows, Witch, Lightning, The Log, Cannon",
          "Deck 381 — 8/8 carte mappate<br>Royal Giant, Witch, Valkyrie, Arrows, Skeleton Army, Goblin Barrel, The Log, Fire Spirit",
          "Deck 437 — 8/8 carte mappate<br>Firecracker, Valkyrie, The Log, Hog Rider, Inferno Tower, Vines, Furnace, Guards",
          "Deck 456 — 8/8 carte mappate<br>Firecracker, Mega Knight, Tesla, Skeleton Barrel, Baby Dragon, Hog Rider, The Log, Prince",
          "Deck 473 — 8/8 carte mappate<br>Knight, Lumberjack, Hog Rider, Zap, Musketeer, Fireball, Tornado, Mini P.E.K.K.A",
          "Deck 496 — 8/8 carte mappate<br>Mega Knight, Witch, Ice Spirit, Bats, Bomber, Fireball, Zap, Miner",
          "Deck 503 — 8/8 carte mappate<br>Zap, Tesla, Goblins, Hog Rider, Barbarians, Miner, Minion Horde, Princess",
          "Deck 510 — 8/8 carte mappate<br>Mega Knight, Witch, Knight, Arrows, Zap, Hog Rider, Dart Goblin, Ice Wizard",
          "Deck 551 — 8/8 carte mappate<br>Executioner, Bats, Dark Prince, Giant Skeleton, Zap, Skeletons, Earthquake, Elite Barbarians",
          "Deck 553 — 8/8 carte mappate<br>Witch, Inferno Dragon, Ice Spirit, Arrows, Prince, Zap, Knight, Hog Rider",
          "Deck 562 — 8/8 carte mappate<br>Firecracker, Valkyrie, Barbarians, Fireball, Electro Wizard, Hog Rider, Inferno Tower, Vines",
          "Deck 572 — 8/8 carte mappate<br>Firecracker, Mega Knight, Goblin Barrel, The Log, Fireball, Prince, Electro Wizard, Archer Queen",
          "Deck 583 — 8/8 carte mappate<br>Valkyrie, Witch, Hog Rider, Zap, Fireball, Bandit, Lumberjack, The Log",
          "Deck 601 — 8/8 carte mappate<br>Valkyrie, Tesla, Arrows, Baby Dragon, Skeleton Army, Hog Rider, Mini P.E.K.K.A, The Log",
          "Deck 626 — 8/8 carte mappate<br>Royal Giant, Firecracker, Musketeer, Mini P.E.K.K.A, Arrows, Bomb Tower, Skeleton Army, Skeleton Barrel",
          "Deck 674 — 8/8 carte mappate<br>Valkyrie, Musketeer, Goblin Gang, Skeleton Army, The Log, Fireball, Sparky, Zap",
          "Deck 708 — 8/8 carte mappate<br>Goblin Barrel, Zap, Goblin Gang, Electro Spirit, Hog Rider, Mini P.E.K.K.A, Minion Horde, Fireball",
          "Deck 723 — 8/8 carte mappate<br>Firecracker, Knight, Hog Rider, Rage, Mini P.E.K.K.A, Goblins, Lightning, Bats",
          "Deck 745 — 8/8 carte mappate<br>Mega Knight, Archers, Goblins, Arrows, Mega Minion, Knight, Zap, Bandit",
          "Deck 758 — 8/8 carte mappate<br>Firecracker, Mega Knight, Dark Prince, Knight, Arrows, Lightning, Tesla, Archer Queen",
          "Deck 764 — 8/8 carte mappate<br>Knight, Executioner, Vines, Hog Rider, Wizard, Firecracker, Princess, Boss Bandit",
          "Deck 766 — 8/8 carte mappate<br>Hunter, P.E.K.K.A, Goblin Barrel, Fireball, Firecracker, Arrows, Prince, Knight",
          "Deck 816 — 8/8 carte mappate<br>Royal Giant, Dart Goblin, Goblin Gang, Goblin Barrel, Skeletons, Mini P.E.K.K.A, Arrows, Valkyrie",
          "Deck 852 — 8/8 carte mappate<br>Mega Knight, Firecracker, Furnace, Witch, Guards, Tesla, Hog Rider, Arrows",
          "Deck 866 — 8/8 carte mappate<br>Knight, Mega Knight, Hog Rider, Electro Wizard, Fireball, Guards, The Log, Executioner",
          "Deck 874 — 8/8 carte mappate<br>Valkyrie, Archers, Wall Breakers, Balloon, The Log, Lumberjack, Skeleton Army, Witch",
          "Deck 880 — 8/8 carte mappate<br>Firecracker, Knight, Skeleton Army, Inferno Tower, Fireball, Magic Archer, Arrows, Golem",
          "Deck 886 — 8/8 carte mappate<br>Valkyrie, Fireball, Hog Rider, Arrows, Baby Dragon, Knight, Skeleton Army, Witch",
          "Deck 891 — 8/8 carte mappate<br>Valkyrie, Lumberjack, Balloon, Tesla, Fireball, Zap, Electro Wizard, Dart Goblin",
          "Deck 974 — 8/8 carte mappate<br>Valkyrie, Mega Knight, Tombstone, Arrows, Princess, The Log, Musketeer, Mini P.E.K.K.A",
          "Deck 1006 — 8/8 carte mappate<br>Firecracker, Valkyrie, Mini P.E.K.K.A, Hog Rider, Bats, Zap, Guards, The Log",
          "Deck 1015 — 8/8 carte mappate<br>Firecracker, Valkyrie, Arrows, Goblin Gang, Fireball, Mini P.E.K.K.A, Tesla, Goblin Barrel",
          "Deck 1032 — 8/8 carte mappate<br>Mega Knight, Firecracker, Ice Spirit, Dart Goblin, Skeleton Barrel, Mini P.E.K.K.A, Zap, Furnace",
          "Deck 1047 — 8/8 carte mappate<br>Valkyrie, Mega Knight, Hog Rider, Bats, Inferno Tower, Fire Spirit, Zap, The Log",
          "Deck 1056 — 8/8 carte mappate<br>Valkyrie, Cannon, Balloon, Fire Spirit, Hog Rider, Zap, Wizard, Lumberjack",
          "Deck 1063 — 8/8 carte mappate<br>Giant Snowball, Wall Breakers, Sparky, Hog Rider, Mini P.E.K.K.A, Knight, Arrows, Dart Goblin",
          "Deck 1080 — 8/8 carte mappate<br>Valkyrie, Mega Knight, Cannon, Minions, The Log, Ram Rider, Firecracker, Arrows",
          "Deck 1099 — 8/8 carte mappate<br>Firecracker, Witch, Goblin Barrel, Hog Rider, Fireball, Goblin Hut, Arrows, Valkyrie",
          "Deck 1104 — 8/8 carte mappate<br>Firecracker, Archers, Knight, Valkyrie, Skeleton Barrel, Minion Horde, Witch, Balloon",
          "Deck 1122 — 8/8 carte mappate<br>Wall Breakers, Firecracker, Tesla, Boss Bandit, Arrows, Valkyrie, Mini P.E.K.K.A, Fire Spirit",
          "Deck 1139 — 8/8 carte mappate<br>Firecracker, Mega Knight, Valkyrie, Zap, Hog Rider, Guards, Dart Goblin, Vines",
          "Deck 1175 — 8/8 carte mappate<br>Zap, Princess, Mini P.E.K.K.A, Miner, Minions, Hog Rider, Fireball, Goblin Gang",
          "Deck 1207 — 8/8 carte mappate<br>Lumberjack, Mega Knight, Inferno Tower, Ice Golem, Zap, Balloon, Fireball, Minions",
          "Deck 1213 — 8/8 carte mappate<br>Barbarians, Valkyrie, Cannon, Mega Minion, Hog Rider, Lightning, Dart Goblin, Arrows",
          "Deck 1236 — 8/8 carte mappate<br>Valkyrie, Skeleton Barrel, Prince, Vines, Firecracker, Rage, Cannon, Goblins",
          "Deck 1243 — 8/8 carte mappate<br>Mega Knight, Firecracker, Fireball, Giant Snowball, Electro Wizard, Ram Rider, Goblin Gang, Mini P.E.K.K.A",
          "Deck 1268 — 8/8 carte mappate<br>Knight, Baby Dragon, Hog Rider, Zap, Fireball, Inferno Tower, Prince, Skeleton Army",
          "Deck 1285 — 8/8 carte mappate<br>Firecracker, Valkyrie, Skeleton Army, Hog Rider, Wizard, Knight, Zap, Tesla",
          "Deck 1289 — 8/8 carte mappate<br>P.E.K.K.A, Firecracker, Hog Rider, Executioner, Arrows, The Log, Magic Archer, Electro Wizard",
          "Deck 1305 — 8/8 carte mappate<br>Mega Minion, Mega Knight, Earthquake, Electro Wizard, Arrows, Mini P.E.K.K.A, Bowler, Hog Rider",
          "Deck 1335 — 8/8 carte mappate<br>Valkyrie, Zap, Arrows, Hog Rider, Witch, Bomber, Prince, Cannon",
          "Deck 1337 — 8/8 carte mappate<br>Valkyrie, Wizard, Musketeer, Elite Barbarians, Goblin Barrel, Goblin Gang, Fireball, Fire Spirit",
          "Deck 1341 — 8/8 carte mappate<br>Mega Knight, Firecracker, Tesla, Furnace, Valkyrie, Arrows, Sparky, Goblin Barrel",
          "Deck 1345 — 8/8 carte mappate<br>Lumberjack, Firecracker, Arrows, Vines, Skeletons, Balloon, Mini P.E.K.K.A, Ice Spirit",
          "Deck 1359 — 8/8 carte mappate<br>P.E.K.K.A, Lumberjack, Goblin Barrel, The Log, Firecracker, Tesla, Electro Wizard, Zap",
          "Deck 1387 — 8/8 carte mappate<br>Witch, Valkyrie, P.E.K.K.A, Goblin Barrel, Mini P.E.K.K.A, Arrows, Archers, Fireball",
          "Deck 1406 — 8/8 carte mappate<br>Firecracker, Mega Knight, Bats, Inferno Dragon, Dark Prince, Earthquake, Arrows, Bandit",
          "Deck 1424 — 8/8 carte mappate<br>Cannon, Mega Knight, Knight, Firecracker, Sparky, Guards, Arrows, Prince",
          "Deck 1425 — 8/8 carte mappate<br>Mega Knight, Wizard, Archers, Ram Rider, Tornado, Fireball, Knight, The Log",
          "Deck 1435 — 8/8 carte mappate<br>Tesla, Mega Knight, Vines, Ram Rider, Guards, Ice Spirit, Fireball, Electro Wizard",
          "Deck 1446 — 8/8 carte mappate<br>Mega Knight, Valkyrie, Bats, Zap, Ice Spirit, The Log, Skeleton Army, Wizard",
          "Deck 1453 — 8/8 carte mappate<br>P.E.K.K.A, Executioner, Zap, Hog Rider, The Log, Prince, Fireball, Ice Spirit",
          "Deck 1459 — 8/8 carte mappate<br>Archers, Wizard, Giant Skeleton, Skeletons, Bats, Goblin Gang, Arrows, Fireball",
          "Deck 1469 — 8/8 carte mappate<br>Mega Knight, Musketeer, Dart Goblin, Lightning, Furnace, Boss Bandit, Skeleton Army, The Log",
          "Deck 1510 — 8/8 carte mappate<br>Lumberjack, Mega Knight, Cannon, The Log, Arrows, Bats, Electro Wizard, Balloon",
          "Deck 1514 — 8/8 carte mappate<br>Firecracker, Barbarians, Fireball, Hog Rider, Wizard, Furnace, Royal Ghost, The Log",
          "Deck 1520 — 8/8 carte mappate<br>Wizard, Royal Giant, Minion Horde, Skeleton Army, Boss Bandit, Rocket, Prince, Earthquake",
          "Deck 1537 — 8/8 carte mappate<br>Tesla, Witch, Goblin Barrel, Knight, Arrows, Firecracker, Vines, Boss Bandit",
          "Deck 1548 — 8/8 carte mappate<br>Cannon, Executioner, Electro Wizard, Knight, Zap, Ram Rider, Vines, Valkyrie",
          "Deck 1549 — 8/8 carte mappate<br>Firecracker, Valkyrie, Goblin Barrel, Skeletons, Arrows, Prince, Tesla, Witch",
          "Deck 1553 — 8/8 carte mappate<br>Witch, Firecracker, Fireball, The Log, Hog Rider, P.E.K.K.A, Mini P.E.K.K.A, Tesla",
          "Deck 1556 — 8/8 carte mappate<br>Mega Knight, Witch, Firecracker, Wizard, Fireball, Ice Spirit, Rage, Hog Rider",
          "Deck 1561 — 8/8 carte mappate<br>Mega Knight, Valkyrie, Electro Wizard, Firecracker, Goblin Barrel, Arrows, Hog Rider, Cannon",
          "Deck 1563 — 8/8 carte mappate<br>Knight, Tesla, Hog Rider, Heal Spirit, Fireball, Electro Wizard, Sparky, Arrows",
          "Deck 1564 — 8/8 carte mappate<br>Firecracker, Dart Goblin, Hog Rider, Bowler, Prince, Tesla, Knight, Arrows",
          "Deck 1566 — 8/8 carte mappate<br>P.E.K.K.A, Mortar, Tesla, The Log, Dart Goblin, Electro Wizard, Bomber, Skeleton Barrel",
          "Deck 1582 — 8/8 carte mappate<br>Mega Knight, Valkyrie, Witch, Mini P.E.K.K.A, Tesla, Wizard, Fireball, Hog Rider",
          "Deck 1592 — 8/8 carte mappate<br>Mega Knight, Archers, Arrows, Valkyrie, Hog Rider, Dart Goblin, Mini P.E.K.K.A, The Log",
          "Deck 1593 — 8/8 carte mappate<br>Witch, P.E.K.K.A, Electro Giant, The Log, Bats, Wall Breakers, Electro Spirit, Dart Goblin",
          "Deck 1639 — 8/8 carte mappate<br>Mega Knight, Wizard, Elixir Golem, Cannon, Miner, Firecracker, Arrows, Rocket",
          "Deck 1647 — 8/8 carte mappate<br>Mega Knight, Firecracker, Hog Rider, Valkyrie, Knight, Dart Goblin, Guards, Arrows",
          "Deck 1653 — 8/8 carte mappate<br>Mega Knight, Valkyrie, Knight, Hog Rider, Musketeer, Arrows, Archers, Electro Wizard",
          "Deck 1688 — 8/8 carte mappate<br>Valkyrie, Knight, Musketeer, Arrows, Mirror, Electro Wizard, Mini P.E.K.K.A, Hog Rider",
          "Deck 1690 — 8/8 carte mappate<br>P.E.K.K.A, Firecracker, Zap, Dart Goblin, Hog Rider, Goblin Barrel, The Log, Mini P.E.K.K.A",
          "Deck 1711 — 8/8 carte mappate<br>Lumberjack, Goblin Barrel, Arrows, Royal Delivery, Mini P.E.K.K.A, Hog Rider, Electro Wizard, Skeleton Army",
          "Deck 1713 — 8/8 carte mappate<br>Executioner, Musketeer, Knight, Mini P.E.K.K.A, Electro Wizard, Prince, Zap, The Log",
          "Deck 1714 — 8/8 carte mappate<br>Firecracker, Wall Breakers, Elite Barbarians, Skeletons, Bats, Electro Spirit, Arrows, Mini P.E.K.K.A",
          "Deck 1747 — 8/8 carte mappate<br>Mega Knight, Valkyrie, Fireball, Wizard, Tesla, The Log, Mini P.E.K.K.A, Firecracker",
          "Deck 1762 — 8/8 carte mappate<br>Witch, Mega Knight, Arrows, The Log, Musketeer, Firecracker, Dart Goblin, Mini P.E.K.K.A",
          "Deck 1783 — 8/8 carte mappate<br>Wizard, P.E.K.K.A, Fireball, The Log, Goblin Barrel, Little Prince, Skeleton Army, Bandit",
          "Deck 1809 — 8/8 carte mappate<br>Mega Knight, Firecracker, Minions, Baby Dragon, Fireball, The Log, Hog Rider, Wizard",
          "Deck 1843 — 8/8 carte mappate<br>Firecracker, Mega Knight, Knight, Guards, Goblin Barrel, Mini P.E.K.K.A, Fireball, Arrows",
          "Deck 1844 — 8/8 carte mappate<br>Firecracker, Witch, Prince, Musketeer, Rocket, Goblin Gang, Elixir Collector, Mirror",
          "Deck 1850 — 8/8 carte mappate<br>Royal Giant, Musketeer, Zap, Princess, Mini P.E.K.K.A, Skeleton Army, Fireball, Hog Rider",
          "Deck 1853 — 8/8 carte mappate<br>Valkyrie, Tesla, Arrows, Dart Goblin, The Log, Prince, Zap, Firecracker",
          "Deck 1879 — 8/8 carte mappate<br>Furnace, Mega Knight, The Log, Mini P.E.K.K.A, Little Prince, Zap, Hog Rider, Minion Horde",
          "Deck 1889 — 8/8 carte mappate<br>Tesla, Furnace, Goblin Barrel, Giant Skeleton, Firecracker, The Log, Mirror, Barbarian Barrel",
          "Deck 1893 — 8/8 carte mappate<br>Mega Knight, Tesla, Boss Bandit, Fireball, The Log, Witch, Inferno Dragon, Arrows",
          "Deck 1899 — 8/8 carte mappate<br>Bomber, Mega Knight, Tesla, Fireball, The Log, Zap, Knight, Mega Minion",
          "Deck 1906 — 8/8 carte mappate<br>Goblin Barrel, Skeletons, Giant Skeleton, Rocket, Minion Horde, Arrows, Furnace, Mini P.E.K.K.A",
          "Deck 1913 — 8/8 carte mappate<br>Mega Knight, Giant Snowball, Dart Goblin, The Log, Goblin Gang, Inferno Dragon, Mini P.E.K.K.A, Hog Rider",
          "Deck 1930 — 8/8 carte mappate<br>Firecracker, Knight, Hog Rider, Inferno Tower, Bats, Mega Knight, Rage, The Log",
          "Deck 1941 — 8/8 carte mappate<br>Firecracker, Mega Knight, Knight, Bats, Hog Rider, Bomb Tower, The Log, Freeze",
          "Deck 1942 — 8/8 carte mappate<br>Inferno Dragon, Dart Goblin, Berserker, Executioner, Hog Rider, Fireball, Skeleton Army, The Log",
          "Deck 1949 — 8/8 carte mappate<br>Giant Skeleton, Baby Dragon, Bats, Arrows, Skeletons, Hog Rider, Wizard, Knight",
          "Deck 1956 — 8/8 carte mappate<br>Archers, Mega Knight, Mini P.E.K.K.A, Hog Rider, Goblin Barrel, Arrows, Bats, Cannon",
          "Deck 1970 — 8/8 carte mappate<br>Mega Knight, Wizard, Boss Bandit, Spirit Empress, Electro Spirit, Arrows, Fireball, Ice Spirit",
          "Deck 1973 — 8/8 carte mappate<br>Firecracker, Lumberjack, Inferno Tower, Ice Wizard, Fire Spirit, Elite Barbarians, Mini P.E.K.K.A, Electro Spirit",
          "Deck 1977 — 8/8 carte mappate<br>Executioner, Tornado, Dark Prince, Mini P.E.K.K.A, Fireball, Arrows, Hog Rider, Ice Spirit",
          "Deck 1978 — 8/8 carte mappate<br>Furnace, Mega Knight, Hog Rider, The Log, Inferno Dragon, Skeleton Army, Fireball, Tesla",
          "Deck 1981 — 8/8 carte mappate<br>Mega Knight, Barbarians, Ram Rider, Executioner, Inferno Tower, Zap, Skeletons, The Log",
          "Deck 1998 — 8/8 carte mappate<br>Mega Knight, Royal Giant, Arrows, Bats, Firecracker, Inferno Tower, Skeletons, Lumberjack",
          "Deck 2007 — 8/8 carte mappate<br>Valkyrie, Lumberjack, Elite Barbarians, Prince, Vines, Zap, Dart Goblin, Ice Spirit",
          "Deck 2010 — 8/8 carte mappate<br>Firecracker, Mega Knight, Zap, Furnace, Poison, Hog Rider, Mini P.E.K.K.A, Goblin Gang",
          "Deck 2011 — 8/8 carte mappate<br>Baby Dragon, Valkyrie, Vines, Elite Barbarians, Mini P.E.K.K.A, Goblin Barrel, Mighty Miner, Arrows",
          "Deck 2026 — 8/8 carte mappate<br>Valkyrie, Mega Knight, Cannon, Prince, Firecracker, Arrows, Barbarian Barrel, Skeletons",
          "Deck 2031 — 8/8 carte mappate<br>Mega Knight, Firecracker, Arrows, Bats, Rage, Hog Rider, Mini P.E.K.K.A, Skeletons",
          "Deck 2041 — 8/8 carte mappate<br>Valkyrie, Tesla, Knight, Vines, Skeleton Army, Electro Wizard, The Log, Balloon",
          "Deck 2042 — 8/8 carte mappate<br>Valkyrie, Firecracker, Cannon, Tornado, Musketeer, Skeleton Army, Electro Giant, Boss Bandit",
          "Deck 2049 — 8/8 carte mappate<br>Lumberjack, Battle Ram, Goblin Barrel, The Log, Goblin Gang, Musketeer, Inferno Tower, Minions",
          "Deck 2064 — 8/8 carte mappate<br>Valkyrie, Dart Goblin, Minions, Bandit, Hog Rider, Inferno Tower, Fireball, The Log",
          "Deck 2082 — 8/8 carte mappate<br>Tesla, Mega Knight, Arrows, Zap, Skeletons, Hog Rider, Musketeer, Freeze",
          "Deck 2083 — 8/8 carte mappate<br>Valkyrie, Firecracker, Arrows, The Log, Hog Rider, P.E.K.K.A, Minions, Skeletons",
          "Deck 2092 — 8/8 carte mappate<br>Mega Knight, Electro Dragon, Hog Rider, Royal Delivery, Arrows, Valkyrie, Musketeer, Zap",
          "Deck 2094 — 8/8 carte mappate<br>Mega Knight, Archers, Hog Rider, Mirror, Firecracker, Witch, Zap, The Log",
          "Deck 2097 — 8/8 carte mappate<br>Hunter, Mega Knight, Firecracker, Freeze, Valkyrie, Tesla, Hog Rider, Balloon",
          "Deck 2116 — 8/8 carte mappate<br>Royal Giant, Valkyrie, Goblin Barrel, Mini P.E.K.K.A, Electro Wizard, Skeleton Army, Fireball, The Log",
          "Deck 2125 — 8/8 carte mappate<br>Firecracker, Tesla, Ice Spirit, Dark Prince, The Log, Electro Giant, Mini P.E.K.K.A, Lightning",
          "Deck 2141 — 8/8 carte mappate<br>Mega Knight, Firecracker, Skeletons, Poison, The Log, Electro Wizard, Mini P.E.K.K.A, Ram Rider",
          "Deck 2186 — 8/8 carte mappate<br>Musketeer, Firecracker, Electro Wizard, Hog Rider, Skeleton Army, The Log, Fireball, Mini P.E.K.K.A",
          "Deck 2188 — 8/8 carte mappate<br>Bats, P.E.K.K.A, Musketeer, Poison, Goblin Gang, The Log, Hog Rider, Dark Prince",
          "Deck 2192 — 8/8 carte mappate<br>Lumberjack, Valkyrie, Zap, Balloon, Hog Rider, Inferno Tower, Firecracker, The Log",
          "Deck 2211 — 8/8 carte mappate<br>Tesla, Zap, Arrows, Valkyrie, Prince, Hog Rider, Bandit, The Log",
          "Deck 2212 — 8/8 carte mappate<br>Mega Knight, Witch, Fireball, Goblin Barrel, Hog Rider, Musketeer, Minions, Zap",
          "Deck 2235 — 8/8 carte mappate<br>Knight, Valkyrie, Wizard, Hog Rider, Prince, Electro Wizard, Elite Barbarians, The Log",
          "Deck 2334 — 8/8 carte mappate<br>Valkyrie, Firecracker, Ram Rider, Cannon, Heal Spirit, The Log, Freeze, Electro Wizard",
          "Deck 2336 — 8/8 carte mappate<br>Mega Knight, Firecracker, Arrows, Mega Minion, Skeletons, Hog Rider, Executioner, Mini P.E.K.K.A",
          "Deck 2338 — 8/8 carte mappate<br>Firecracker, Mega Knight, Valkyrie, Vines, Cannon, Prince, Skeleton Barrel, Dart Goblin",
          "Deck 2414 — 8/8 carte mappate<br>Royal Giant, Firecracker, Musketeer, Mini P.E.K.K.A, Arrows, Bomb Tower, Skeleton Army, Skeleton Barrel",
          "Deck 2439 — 8/8 carte mappate<br>Mega Knight, Hunter, Hog Rider, Prince, Valkyrie, Firecracker, The Log, Zap",
          "Deck 2460 — 8/8 carte mappate<br>Mega Knight, Musketeer, Zap, Skeleton Army, Hog Rider, Goblin Gang, Fireball, Minions",
          "Deck 2497 — 8/8 carte mappate<br>Executioner, P.E.K.K.A, Bats, Tornado, Hog Rider, Ice Spirit, Knight, Zap"
         ],
         "marker": {
          "color": "rgb(228,26,28)",
          "size": 6
         },
         "mode": "markers",
         "name": "Cluster 18",
         "text": [
          "Deck 12",
          "Deck 13",
          "Deck 22",
          "Deck 33",
          "Deck 44",
          "Deck 58",
          "Deck 64",
          "Deck 66",
          "Deck 77",
          "Deck 95",
          "Deck 98",
          "Deck 102",
          "Deck 126",
          "Deck 139",
          "Deck 141",
          "Deck 146",
          "Deck 154",
          "Deck 158",
          "Deck 166",
          "Deck 168",
          "Deck 169",
          "Deck 190",
          "Deck 201",
          "Deck 211",
          "Deck 216",
          "Deck 222",
          "Deck 266",
          "Deck 272",
          "Deck 290",
          "Deck 291",
          "Deck 334",
          "Deck 343",
          "Deck 356",
          "Deck 381",
          "Deck 437",
          "Deck 456",
          "Deck 473",
          "Deck 496",
          "Deck 503",
          "Deck 510",
          "Deck 551",
          "Deck 553",
          "Deck 562",
          "Deck 572",
          "Deck 583",
          "Deck 601",
          "Deck 626",
          "Deck 674",
          "Deck 708",
          "Deck 723",
          "Deck 745",
          "Deck 758",
          "Deck 764",
          "Deck 766",
          "Deck 816",
          "Deck 852",
          "Deck 866",
          "Deck 874",
          "Deck 880",
          "Deck 886",
          "Deck 891",
          "Deck 974",
          "Deck 1006",
          "Deck 1015",
          "Deck 1032",
          "Deck 1047",
          "Deck 1056",
          "Deck 1063",
          "Deck 1080",
          "Deck 1099",
          "Deck 1104",
          "Deck 1122",
          "Deck 1139",
          "Deck 1175",
          "Deck 1207",
          "Deck 1213",
          "Deck 1236",
          "Deck 1243",
          "Deck 1268",
          "Deck 1285",
          "Deck 1289",
          "Deck 1305",
          "Deck 1335",
          "Deck 1337",
          "Deck 1341",
          "Deck 1345",
          "Deck 1359",
          "Deck 1387",
          "Deck 1406",
          "Deck 1424",
          "Deck 1425",
          "Deck 1435",
          "Deck 1446",
          "Deck 1453",
          "Deck 1459",
          "Deck 1469",
          "Deck 1510",
          "Deck 1514",
          "Deck 1520",
          "Deck 1537",
          "Deck 1548",
          "Deck 1549",
          "Deck 1553",
          "Deck 1556",
          "Deck 1561",
          "Deck 1563",
          "Deck 1564",
          "Deck 1566",
          "Deck 1582",
          "Deck 1592",
          "Deck 1593",
          "Deck 1639",
          "Deck 1647",
          "Deck 1653",
          "Deck 1688",
          "Deck 1690",
          "Deck 1711",
          "Deck 1713",
          "Deck 1714",
          "Deck 1747",
          "Deck 1762",
          "Deck 1783",
          "Deck 1809",
          "Deck 1843",
          "Deck 1844",
          "Deck 1850",
          "Deck 1853",
          "Deck 1879",
          "Deck 1889",
          "Deck 1893",
          "Deck 1899",
          "Deck 1906",
          "Deck 1913",
          "Deck 1930",
          "Deck 1941",
          "Deck 1942",
          "Deck 1949",
          "Deck 1956",
          "Deck 1970",
          "Deck 1973",
          "Deck 1977",
          "Deck 1978",
          "Deck 1981",
          "Deck 1998",
          "Deck 2007",
          "Deck 2010",
          "Deck 2011",
          "Deck 2026",
          "Deck 2031",
          "Deck 2041",
          "Deck 2042",
          "Deck 2049",
          "Deck 2064",
          "Deck 2082",
          "Deck 2083",
          "Deck 2092",
          "Deck 2094",
          "Deck 2097",
          "Deck 2116",
          "Deck 2125",
          "Deck 2141",
          "Deck 2186",
          "Deck 2188",
          "Deck 2192",
          "Deck 2211",
          "Deck 2212",
          "Deck 2235",
          "Deck 2334",
          "Deck 2336",
          "Deck 2338",
          "Deck 2414",
          "Deck 2439",
          "Deck 2460",
          "Deck 2497"
         ],
         "type": "scatter3d",
         "x": {
          "bdata": "MKRXlNsCjD+bThea1KqSP/CIZf7kAZM/ePPynK9ciT8JYmc+gx6QP3ESeKjv/38/08PBI03ukz92Kv1qsNN7P2LAcEAHUpE/39wOLj/BjT/SKenM7gWRP6s4Sq0Y+Xw/8ompk2Bnej9EkAG6NPOSP30vzb28l5I/JtJQpSgWbT9isc8hGDiWP/5DyIQy9H4/57VinryZgT8/4VWO6paGP/pXqbsJV4o//u8gMgiOlD/swurQbN11P3vsvWW4l5M/gQv2GMdDkD/VNfkj7ReQPy1B+imw0Xc/8e10zrtoiz948BkbJwFyP7yXABUjIY8/1jxjpCQ2iz95w9OA8RODP15Hdfu+npM/Q0mEdt81iD98dAzlpAiRPwYfyRN0GZA/7JEZ+POzgz8ds3WHU2x1P9K4hlF8uJM/Os8Or8xBgj/0w2/OwkeLPwqLyyGY/II/HpuMuP9oej8ZOUtjPviPP04/OH2ODGg/B0CMsD3dhj95w9OA8RODPzVVQOSuTIA/9VVU5Eeekj8A9NOkmfV/P6pPOtqnknE/4yZbFtpNiz/cxP0JL1SRPwxub95In4o/+phv0O8KlT8z4VAej9mAPx2ms45w1o0/IR/w/B4XaT9rUx3xgj90P2gdgTMUYXM/HcSKxRQ4bz8qdmftUZ+MPxVRlURcTX8/IMcwFk4PlT8e1GmN48iQP+l6CjsZQ5E/spZymWtDgz/yDlais6iNP8TpNYUu3Yg/yBwyARzdiT93gBHcJdtyPzj0PdvtGpI/gzCzsbfWez/pO1Qo2DWLP6B/F4/DfHQ/1Dqaehd9dT/2qwsO/emLP6EoQbS7r3E/UL/aL3Ihfj8gRYWqRQmQP42RY3iyqmo/w9Dyx1ZYcD+4XTC70uFiP5m0ga7zyY8/rjfBx84PfT+nto8tjs6LPxm+/zCZeoc/2JQAPJ80cj+4kVlyKu9yP4DMCNso63s/QGwtcf7giz8R7ODjhwCRP2UBJ/0FmoM/ZMXRGtqtkj/KGo0XTZmKP06YwICfdX0/huS9eCxDaD9+ImM3ts9+P3qV/MWMp4Y/iK/wROT4kT/fXSGR31yFP9oeiE9GOZM/zEYFwrDVkj+UyiJySK6DP6565A7pAZM/omly8nTmfz+LUweRb/2RPwfVutAMD5I/DuHc+hIqfD90x58alduQPy4yILUHlow/rXSj3nRmgj8No7G/h+qNP8pyzjop8o4/NGPxhD4JdT+WQKDiJZKRPw3LGyt7Uog/t3St6ShMeT9rKsTIuZWSPza7Pgp0WY8/JuI90ExPhT9Y0NTzWFyDP6zNlLrB0nE/tnO/siFyiD86WILAWathP2OzuBwqEJA/gdUHUR3GkD8qTiFs8JF8P/HPEFwEEY4/VphggiuofD989HNEYDOJPzR86qRASYc/imTvDg1/jj+hwFd8q3+QP5K8ALTU1JM/oLlJQIzuiT8gI6Vy+d6BP952DcLK6JQ/GZTDCQGMjT+mSD3Vm1SKP27kulzup4Q/gJMtqrCgjj8ISDfYEf2CPyQsG5VhkYA/QDR8A8K1bD//xcowKIV8P0EPPMsSQoA/aFBF2qAckT+sxcZwhjNzP9p9mn/gsYo/2v1Hglx4gz+srX5beZ2FP0/ZCrjiXJA/BOeQe7ekkj8xah3Qn9KPPwVofrhVt4o/qSz11RwDgT80Hsqu9MqAPzpCUMalu4E/chlG9GWEkT9z6ct/8eSJP/ZGCofoxY0/Ts1IOB82ij/0fEuD/b2AP774vBSUMoU/Nibvyu1nej/OvjasUBdxP1ibXE47Snw/Wy6r+z50cT83jTiLTQaQP3nD04DxE4M/43OBTUuEhD+ufmmX4Eh2P1GZ/flNjI4/",
          "dtype": "f8"
         },
         "y": {
          "bdata": "oQ4wDZ/Glr/GP0tKJs2Qv3d4mh8T1JK/D4YteSzCi79dOp/L5j6cv1MTHEnalJe/0t7ol/PFoL//kGFm8oaRv222KdLyW5W/OuwitMXCl7/OG+28vvqWvyJNoY2ThpC/UNcnos0PmL8fFEMjpcWYv4c/L55Ir5S/Gsu5lNfZmb8iPy+Qga2cvwXVLz4LKZO/Gu+T6O2Zmb+uM0Y+FnGPv3s+ofoHGpa/YTHv4BmVlL+5LPhAwWiXv+6cvjQuXJW//tG1rhy7nb+Ztqdbs+Wavz6CtNqEBZq/vImnszywnL/t0uMQCJ6Zv1olVAUvUpW/C+4m4GJEmr9ZllKvRd+Tv2/noOmOhJa/BARX68pAmr84mmAhnOuOv8MgbZUvoZa/ND6KwEJBkb9kefM2q+2Vv6o9sRiZRpy/Quyxy3wrkr+lhUO1zkSXv93VdqGT65i/JWI8HuWUmr+LolDGP+idv105w8X1bJm/8/TWu+ial79ZllKvRd+Tv4W0Kruk1J2/WXP9XzFenr9CrnKwwMCTvxmcP09B3JC/bYnOPndQkr/7veNqLDeWv+INtIXjq5a/3NwGLAmemb+kVHkw6eWSv6IwnnKsNpW/jlhXTqWClb/iYQMGUVqZvy9j4AEV/Za/tdAcflOZmb9LjUUM85uXv8LrL82/I5m/Gtaqi+aDn78FPDYS6X6Vv6qTOllco56/qJgs1Ilsl78/l/EPtvyPvyQ41m7xX5O/HnK96+VRjb85PDGUsMqXv6BqZ3UrD5W/tpy5Y6Xik78BEMcBjjabv3Ho/3hJApS/5mxO9Qzpk78YJfXCmNOOvyKXT/otDpS/o9oo/qrInL8HFTQiW9Kfv7peXwPdI5m/l626vshVlL+ONjpP6myYv9XFoUhLLZ+/ZDqYMWm2mL80yb5OM4KKv8PW1iunAJq/s60ylqhimL9+2flcNYWZvz1WHyqpfpW/DymN314jkL/zPIJBE1GOv52pCEgeyJ+/PeHiQAAKl79vGdjauJqav4fae1gtrJG/HkEpqN1Tl7/NFOqFfniSvzFoqXnFfZ+/NsvvK9RFk79AvtmlmSaPv5eOp6FWuZu/Si8cObXlmL8qM+rjhZqavyxE8Vro752/T91ZaDt7lb/YqE8AJQGWvyzX5Nz+zpC/9umqTv7Wnr8l5QkpkTSYv3u53UvQ4I6/FAt/glvOmL+gsMbpUSeXv7qt8+E/2pW/1KYKzOd2mr8atFZjB6Ccv8pUIGiNjJu/hZgDwYSql78jRhnz6MGTv9PB0jURAZ2/Qhquw0GDmb+8ZfKp7QecvysIgU7skZS/P/qnBP3omL/Bcvw9wNOXv+mbb70IFZ6/pqLo1k+im7/fRvTYb7qUv8AusB1V0Y2/psi9Xj4ul79CL5IcibqSv2cneHKPXpm/jt56iV8YlL8zhlsRVxCcv9ZiBQRC4JS/mxY8OryPkL8B82a4FASVv+xQUFJPGZu/cs7tFcgyjL8/adUJPtyMvyctezqKS5C/HD+safcimL8ipYWY9n+YvzOsQHCGz5i/E3PW0K6clL/PSR0yTsCQv0HSEuxgp46/iwABmAlVir/akQ13VSKYv1HJjttMdZS/72qDc02gjr9TMWRcmbOYv0ahR69LwZu/u/qC9YI7l7/kMpLald2Rv/zepnD1EI+/rDAf5CM/mr+dk4eDdtaWv44V5cTGtp2/n8SM1Cu5jr9AI8Ali+iMv7YEsa6jjp2/8DPGr0o/jb/h2UqksC6cv2ae/4cssZu/uLRx60iRmr/hCYjbpxaevwLH6AoBTpK/cG9Vz8xGlb8osaVZ67iVv1mWUq9F35O/MszASCHFmL8O0ielA7mcv38ra7oCpJC/",
          "dtype": "f8"
         },
         "z": {
          "bdata": "84ApM6vMWr+ebgC0QilPPwW+dLRhIHQ/oImARZ79eT+OvIsVIbAtv30Wf0z4bXC/FluXFu37XL9L2d657tZ4v7IeC0+EP4E/YND65eOdcj/xvnd8Dp1Yv6FOFhc1dH2/aX7cVxqBZ78CoRNGaVVpv8AzjE9o8IG/fPobp/AzZz8DKCBVCEljvycHTND/MFm/6hPyw6uYar9kjEEAbtmAP1A7iPPR8mo/MceIUmxRhr84L7u2vbZwP5oMeopDWnM/SGpLgGDyZz8PTPsEFwVpP4xLrMgOYVu/rOIMB9kKPr97rjWVLcR0PwGhZ+9utnG/3OfWI2CHPb9oiVOfSLJlv9gpdLTZsGK/VASV2wTvcL9UYd1GtN90v3fVP4MV2m2/P/+zSGcXdz8QS6qaYvtrP/Bw1b6e30C/ncNlV2Eid7+jmKpulMKDP37edKQcUU0/yWkCZnFINj/3PFtTegFfv71TOLL/5mc/IEa8Ywj8Rj9oiVOfSLJlv55pAOSOp2s/xBrH4sisQ7+8HtyJQbtEPylRVmC4qHs/gkj50re8Yj+VWROAurR3v/dQ8fvuhW4/qxFLcjXKfb8j5bd2VDtpvxCBMo/fLVY/EVYWmB7cZr+hGGkzAAhav5DkuuZ2jR4/zAMxqTlPXz9ANZ+Njz12vzQ1YmxDYl+/NkiLwr7rc78Z4S9DywyCvxxJhIwOCnS/TRohVn0oaj8O+Gq+14pzvxh+o5ZDdFk/q0yLj43Tgb+jHrd6i7Fcv1ZXrayJ0YC/lr+DP5o+cb9gN+ZxhkV0v7gmM2mNNXk/jRqRsuY/bT8lgy1WaTBdv8auZ6ZXoGK/oPqDFiNtUL+e5vkjB/JZP6rJfjtLNGI/JqEQAFcwez8+akYGXWx1P/QihawEwUe/Me9zoIv6Wb+8SP9OIuhsPyca3wDSZEo/xPEd2qOdTj8VruyXPttrP0ugjtn64GE/DN8J3gWddj+1NlJfYCJlP8eRSsNxmlG/P5EwwpsLez98x4V2JHY9P/7YVB0qhXu/6I1Qju7gHD/agzgxgp1wP+GgGJO5CmA/GnJlEWySe7+jqXI+dSdhP7RgTgO00V6/1OHGFDAEbT/tbI1tYyR0P5DKljUzAmK/E6q30+Gzij84/ecIP3Fivxjj457+EHG/f0o844QOUj/WEV0i3cUiv2PoJBQR836/5NzgkksxPb/M/2lGLZ1yvzAwxNRVUnU/dkGAVdHmaT+ek+Y7U9JvvwInmmQxW1K/rItB4bNwaT84dcs/yPUGvwz1wO43gWA/bKIYCG4+ar9ns41RbBdnP8PmmSj+XGg/SN9S6wQecr8Am80BDg0OvyumlGQ8v1c/nM60WZyYUL98N4ip3gRnP3W3kPIH6m6/q2iLthRWYr98HHiPb1yGP5KVa5Lv1XS/O2j3sONcfb+fdmOaAINhv05r5/rN21y/voUEXOjmbr+dIKfEGCUov5GejSVGIVy/jRMPGMUZaz+wFTQJjBpRP/QbjIsYA30/QAp0XDlg8T4xFBRvMhw2Pw6x8ILng2C/Yn7VDwihYj/BBZGXJMd5vzHHZYOC5W+/ir4IaRCCVj+tAyT5xclcPxPKGe7kb1A/COYeYP+OQL8XM8Jin+BxvyP7gl5VrmK/wVZyRo59dD9XAIM72ydzP99feImSrnY/3CQuwaH1bT/DK9IF4bR3P8TLDDi3Y0S/1a22JRO2cT/LqKajEeU9P+4mV5YaNHA/iBNjuF76PT+C3+Ou9z8nv0FCAhgVa2c/OvL2rMSQMj+0wP8B8slyPyWYv0DVr4A/j1wFIDfkdT/GI18KkuGAv2iJU59IsmW/Wv48ndXvdD++IbHiKgEzP9QiAQwwkGg/",
          "dtype": "f8"
         }
        },
        {
         "hoverinfo": "text",
         "hovertext": [
          "Deck 31 — 8/8 carte mappate<br>Musketeer, Firecracker, Cannon, Vines, Ice Golem, Hog Rider, Knight, The Log",
          "Deck 49 — 8/8 carte mappate<br>Firecracker, Dart Goblin, Royal Delivery, The Log, Monk, Inferno Tower, Ice Golem, Hog Rider",
          "Deck 53 — 8/8 carte mappate<br>Firecracker, Valkyrie, Hog Rider, Vines, Skeletons, Ice Spirit, The Log, Cannon",
          "Deck 81 — 8/8 carte mappate<br>Dart Goblin, Giant Snowball, Ice Spirit, Vines, Goblin Gang, Hog Rider, Tesla, Knight",
          "Deck 82 — 8/8 carte mappate<br>Cannon, Skeletons, Ice Golem, Rage, Giant Skeleton, Electro Spirit, Goblin Barrel, Goblin Curse",
          "Deck 103 — 8/8 carte mappate<br>Firecracker, Tesla, Hog Rider, Dart Goblin, Bandit, Knight, The Log, Ice Spirit",
          "Deck 108 — 8/8 carte mappate<br>Firecracker, Cannon, Hog Rider, Mighty Miner, Vines, The Log, Goblins, Ice Spirit",
          "Deck 117 — 8/8 carte mappate<br>Zap, Firecracker, The Log, Electro Spirit, Elite Barbarians, Hog Rider, Ice Spirit, Ice Golem",
          "Deck 131 — 8/8 carte mappate<br>Firecracker, Valkyrie, Hog Rider, Electro Spirit, Skeletons, Tesla, Rocket, The Log",
          "Deck 151 — 8/8 carte mappate<br>Skeletons, Firecracker, Inferno Tower, Knight, The Log, Fireball, Ice Spirit, Hog Rider",
          "Deck 198 — 8/8 carte mappate<br>Valkyrie, Tesla, Goblins, Miner, Electro Spirit, Little Prince, Rocket, The Log",
          "Deck 218 — 8/8 carte mappate<br>Firecracker, Knight, Goblin Gang, Goblin Barrel, Cannon, Skeletons, Giant Snowball, The Log",
          "Deck 223 — 8/8 carte mappate<br>Firecracker, Tesla, Guards, The Log, Hog Rider, Ice Spirit, Fireball, Knight",
          "Deck 276 — 8/8 carte mappate<br>Tesla, Firecracker, Hog Rider, Skeletons, Electro Spirit, Knight, Fireball, The Log",
          "Deck 336 — 8/8 carte mappate<br>Goblin Barrel, Cannon, Knight, The Log, Electro Spirit, Dart Goblin, Skeletons, Berserker",
          "Deck 363 — 8/8 carte mappate<br>Knight, Skeleton Barrel, Musketeer, Cannon, The Log, Firecracker, Skeletons, Poison",
          "Deck 371 — 8/8 carte mappate<br>Firecracker, Goblin Cage, Ice Golem, Musketeer, Hog Rider, Skeletons, Lightning, The Log",
          "Deck 413 — 8/8 carte mappate<br>Cannon, Firecracker, Mighty Miner, Skeletons, Hog Rider, Electro Spirit, Lightning, Barbarian Barrel",
          "Deck 439 — 8/8 carte mappate<br>Goblin Cage, Dart Goblin, Royal Hogs, The Log, Earthquake, Heal Spirit, Royal Delivery, Archer Queen",
          "Deck 491 — 8/8 carte mappate<br>Musketeer, Mortar, Fireball, Skeletons, Barbarian Barrel, Ice Spirit, Cannon Cart, Ice Golem",
          "Deck 539 — 8/8 carte mappate<br>Knight, Tesla, Poison, Royal Delivery, Bats, The Log, Miner, Little Prince",
          "Deck 560 — 8/8 carte mappate<br>Firecracker, Cannon, Fireball, Knight, Hog Rider, The Log, Musketeer, Skeletons",
          "Deck 575 — 8/8 carte mappate<br>Skeletons, Ice Spirit, Dark Prince, The Log, Inferno Tower, Rocket, Royal Delivery, Miner",
          "Deck 658 — 8/8 carte mappate<br>Firecracker, Mortar, Mighty Miner, Vines, Hog Rider, The Log, Electro Spirit, Guards",
          "Deck 669 — 8/8 carte mappate<br>Tesla, Furnace, Hog Rider, Mighty Miner, Ice Spirit, Poison, The Log, Skeletons",
          "Deck 691 — 8/8 carte mappate<br>Valkyrie, Tesla, Ice Wizard, Rocket, Tornado, Ice Spirit, Skeletons, Arrows",
          "Deck 703 — 8/8 carte mappate<br>Valkyrie, Wall Breakers, Ice Spirit, Cannon, Goblin Gang, Battle Ram, Electro Spirit, Dart Goblin",
          "Deck 705 — 8/8 carte mappate<br>Tesla, Furnace, Hog Rider, Mighty Miner, Ice Spirit, Poison, The Log, Skeletons",
          "Deck 735 — 8/8 carte mappate<br>Cannon, Goblin Barrel, Wall Breakers, Electro Spirit, Giant Snowball, Knight, Dart Goblin, Skeletons",
          "Deck 744 — 8/8 carte mappate<br>Tesla, Firecracker, Hog Rider, The Log, Arrows, Skeletons, Mighty Miner, Ice Spirit",
          "Deck 775 — 8/8 carte mappate<br>Skeletons, Musketeer, Ice Golem, Bomb Tower, Arrows, Balloon, Giant Snowball, Mighty Miner",
          "Deck 811 — 8/8 carte mappate<br>Firecracker, Skeletons, Ice Spirit, Cannon, Vines, Fireball, Hog Rider, Berserker",
          "Deck 883 — 8/8 carte mappate<br>Knight, Cannon, Ice Spirit, Bats, Magic Archer, Balloon, The Log, Skeletons",
          "Deck 997 — 8/8 carte mappate<br>Valkyrie, Cannon, Rocket, Electro Spirit, Zap, Skeletons, Hog Rider, Electro Wizard",
          "Deck 1061 — 8/8 carte mappate<br>Firecracker, Valkyrie, Tesla, Fireball, Hog Rider, Skeletons, Ice Spirit, The Log",
          "Deck 1071 — 8/8 carte mappate<br>Valkyrie, Dart Goblin, The Log, Skeletons, Goblin Barrel, Electro Spirit, Heal Spirit, Ice Spirit",
          "Deck 1126 — 8/8 carte mappate<br>Wall Breakers, Goblin Barrel, Mighty Miner, Dart Goblin, Vines, Guards, Electro Spirit, The Log",
          "Deck 1142 — 8/8 carte mappate<br>Tesla, Ice Spirit, Rocket, Knight, Miner, Guards, Royal Delivery, The Log",
          "Deck 1147 — 8/8 carte mappate<br>Wall Breakers, Skeletons, Berserker, Miner, The Log, Poison, Royal Delivery, Inferno Tower",
          "Deck 1155 — 8/8 carte mappate<br>Firecracker, Knight, Hog Rider, The Log, Electro Spirit, Musketeer, Skeletons, Tesla",
          "Deck 1201 — 8/8 carte mappate<br>Firecracker, Valkyrie, Giant Snowball, Fireball, Tesla, Hog Rider, Skeletons, Fire Spirit",
          "Deck 1206 — 8/8 carte mappate<br>Firecracker, Valkyrie, Skeletons, Ice Spirit, The Log, Electro Spirit, Hog Rider, Tesla",
          "Deck 1241 — 8/8 carte mappate<br>Firecracker, Tesla, Ice Spirit, Hog Rider, Skeletons, Barbarian Barrel, Lightning, Mighty Miner",
          "Deck 1254 — 8/8 carte mappate<br>Mortar, Musketeer, Miner, The Log, Goblins, Poison, Knight, Ice Spirit",
          "Deck 1262 — 8/8 carte mappate<br>Cannon, Zap, Musketeer, Hog Rider, Goblin Gang, The Log, Ice Spirit, Valkyrie",
          "Deck 1352 — 8/8 carte mappate<br>Tesla, Valkyrie, Ice Wizard, Tornado, Ice Spirit, Skeletons, The Log, Rocket",
          "Deck 1356 — 8/8 carte mappate<br>Archers, Dart Goblin, Inferno Tower, Miner, Goblin Gang, Hog Rider, Electro Spirit, Skeletons",
          "Deck 1384 — 8/8 carte mappate<br>Firecracker, Tesla, Miner, Poison, The Log, P.E.K.K.A, Ice Spirit, Skeletons",
          "Deck 1411 — 8/8 carte mappate<br>Firecracker, Valkyrie, Hog Rider, Ice Spirit, Tesla, Skeletons, Vines, The Log",
          "Deck 1430 — 8/8 carte mappate<br>Dart Goblin, Cannon, Earthquake, Electro Spirit, Ram Rider, Prince, The Log, Skeletons",
          "Deck 1461 — 8/8 carte mappate<br>Knight, Firecracker, The Log, Hog Rider, Ice Spirit, Cannon, Fireball, Bats",
          "Deck 1522 — 8/8 carte mappate<br>Firecracker, Goblin Drill, Ice Spirit, The Log, Skeletons, Mini P.E.K.K.A, Rocket, Electro Spirit",
          "Deck 1569 — 8/8 carte mappate<br>Furnace, Tesla, X-Bow, Prince, Ice Spirit, Fireball, Skeletons, Barbarian Barrel",
          "Deck 1599 — 8/8 carte mappate<br>Wall Breakers, Cannon, Mighty Miner, Royal Delivery, Bats, Miner, Poison, Ice Wizard",
          "Deck 1684 — 8/8 carte mappate<br>Cannon, Witch, Hog Rider, The Log, Lightning, Ice Spirit, Knight, Skeletons",
          "Deck 1721 — 8/8 carte mappate<br>Dart Goblin, Furnace, The Log, Knight, Fireball, Cannon, Suspicious Bush, Ice Spirit",
          "Deck 1769 — 8/8 carte mappate<br>Archers, Mortar, Tornado, Skeletons, Knight, The Log, Ice Spirit, Rocket",
          "Deck 1777 — 8/8 carte mappate<br>Mega Knight, Tesla, Dart Goblin, Knight, Hog Rider, Firecracker, Fireball, Ice Spirit",
          "Deck 1788 — 8/8 carte mappate<br>Skeletons, Knight, The Log, Hog Rider, Princess, Vines, Mini P.E.K.K.A, Electro Spirit",
          "Deck 1801 — 8/8 carte mappate<br>Knight, Executioner, Princess, Goblin Barrel, Poison, The Log, Electro Spirit, Tesla",
          "Deck 1822 — 8/8 carte mappate<br>Firecracker, Valkyrie, The Log, Hog Rider, Tesla, Skeletons, Ice Spirit, Vines",
          "Deck 1837 — 8/8 carte mappate<br>Firecracker, Mega Knight, Knight, Cannon, Furnace, Goblin Gang, Hog Rider, Ice Spirit",
          "Deck 1838 — 8/8 carte mappate<br>Tesla, Wall Breakers, Miner, Ice Wizard, Poison, Ice Spirit, The Log, Mighty Miner",
          "Deck 1859 — 8/8 carte mappate<br>Cannon, Firecracker, The Log, Hog Rider, Poison, Ice Spirit, Skeletons, P.E.K.K.A",
          "Deck 1878 — 8/8 carte mappate<br>Goblin Barrel, Dart Goblin, Skeleton Barrel, Knight, The Log, Ice Spirit, Bomb Tower, Skeletons",
          "Deck 1894 — 8/8 carte mappate<br>Tesla, Firecracker, The Log, Earthquake, Valkyrie, Ice Spirit, Guards, Hog Rider",
          "Deck 1933 — 8/8 carte mappate<br>Valkyrie, Tesla, Goblins, Miner, Electro Spirit, Little Prince, Rocket, The Log",
          "Deck 1982 — 8/8 carte mappate<br>Royal Giant, Cannon, Electro Spirit, Lightning, Guards, The Log, Knight, Musketeer",
          "Deck 1987 — 8/8 carte mappate<br>Knight, Firecracker, Hog Rider, Little Prince, Cannon, Poison, Vines, Skeletons",
          "Deck 2022 — 8/8 carte mappate<br>Valkyrie, Skeleton Barrel, Ice Spirit, The Log, Ram Rider, Tesla, Skeletons, Musketeer",
          "Deck 2051 — 8/8 carte mappate<br>Wizard, Tesla, Hog Rider, Vines, The Log, Skeletons, Ice Spirit, Knight",
          "Deck 2059 — 8/8 carte mappate<br>Valkyrie, Firecracker, Tesla, Hog Rider, Vines, Ice Spirit, Dart Goblin, The Log",
          "Deck 2114 — 8/8 carte mappate<br>Knight, Cannon, Ice Spirit, Bats, Magic Archer, Balloon, The Log, Skeletons",
          "Deck 2115 — 8/8 carte mappate<br>Furnace, Mega Knight, Goblin Barrel, Ice Spirit, Skeleton Barrel, Ice Wizard, Cannon, The Log",
          "Deck 2128 — 8/8 carte mappate<br>Archers, Firecracker, Skeletons, Ice Spirit, Royal Recruits, The Log, Cannon, Hog Rider",
          "Deck 2159 — 8/8 carte mappate<br>Firecracker, Mortar, Mighty Miner, Vines, Hog Rider, The Log, Electro Spirit, Guards",
          "Deck 2166 — 8/8 carte mappate<br>Skeletons, Cannon, Hog Rider, Archer Queen, Fireball, Fire Spirit, The Log, Giant Skeleton",
          "Deck 2208 — 8/8 carte mappate<br>Firecracker, Valkyrie, Hog Rider, Skeletons, The Log, Earthquake, Ice Spirit, Tombstone",
          "Deck 2251 — 8/8 carte mappate<br>Cannon, Musketeer, Ice Spirit, The Log, Mini P.E.K.K.A, Lightning, Hog Rider, Skeletons",
          "Deck 2256 — 8/8 carte mappate<br>Skeleton Barrel, Firecracker, Mortar, The Log, Ice Spirit, Rocket, Knight, Little Prince",
          "Deck 2258 — 8/8 carte mappate<br>Skeletons, Firecracker, Goblinstein, Cannon, The Log, Ice Spirit, Hog Rider, Knight",
          "Deck 2352 — 8/8 carte mappate<br>Musketeer, Giant Snowball, Cannon, Skeletons, Ice Golem, Miner, The Log, Balloon",
          "Deck 2363 — 8/8 carte mappate<br>Tesla, Ice Spirit, Skeletons, Knight, Rocket, Ice Wizard, The Log, Tornado",
          "Deck 2374 — 8/8 carte mappate<br>Firecracker, Valkyrie, Tesla, Hog Rider, Knight, Royal Delivery, Ice Spirit, Archer Queen",
          "Deck 2382 — 8/8 carte mappate<br>Witch, Valkyrie, Princess, X-Bow, Monk, Bats, Fisherman, Skeletons",
          "Deck 2421 — 8/8 carte mappate<br>Skeletons, Knight, Tesla, The Log, Miner, Little Prince, Rocket, Poison",
          "Deck 2433 — 8/8 carte mappate<br>Valkyrie, Mortar, Skeletons, Ice Wizard, The Log, Tornado, Ice Spirit, Rocket",
          "Deck 2498 — 8/8 carte mappate<br>Skeleton Barrel, Dart Goblin, Ice Spirit, Poison, The Log, Cannon, Skeletons, Skeleton King"
         ],
         "marker": {
          "color": "rgb(55,126,184)",
          "size": 6
         },
         "mode": "markers",
         "name": "Cluster 19",
         "text": [
          "Deck 31",
          "Deck 49",
          "Deck 53",
          "Deck 81",
          "Deck 82",
          "Deck 103",
          "Deck 108",
          "Deck 117",
          "Deck 131",
          "Deck 151",
          "Deck 198",
          "Deck 218",
          "Deck 223",
          "Deck 276",
          "Deck 336",
          "Deck 363",
          "Deck 371",
          "Deck 413",
          "Deck 439",
          "Deck 491",
          "Deck 539",
          "Deck 560",
          "Deck 575",
          "Deck 658",
          "Deck 669",
          "Deck 691",
          "Deck 703",
          "Deck 705",
          "Deck 735",
          "Deck 744",
          "Deck 775",
          "Deck 811",
          "Deck 883",
          "Deck 997",
          "Deck 1061",
          "Deck 1071",
          "Deck 1126",
          "Deck 1142",
          "Deck 1147",
          "Deck 1155",
          "Deck 1201",
          "Deck 1206",
          "Deck 1241",
          "Deck 1254",
          "Deck 1262",
          "Deck 1352",
          "Deck 1356",
          "Deck 1384",
          "Deck 1411",
          "Deck 1430",
          "Deck 1461",
          "Deck 1522",
          "Deck 1569",
          "Deck 1599",
          "Deck 1684",
          "Deck 1721",
          "Deck 1769",
          "Deck 1777",
          "Deck 1788",
          "Deck 1801",
          "Deck 1822",
          "Deck 1837",
          "Deck 1838",
          "Deck 1859",
          "Deck 1878",
          "Deck 1894",
          "Deck 1933",
          "Deck 1982",
          "Deck 1987",
          "Deck 2022",
          "Deck 2051",
          "Deck 2059",
          "Deck 2114",
          "Deck 2115",
          "Deck 2128",
          "Deck 2159",
          "Deck 2166",
          "Deck 2208",
          "Deck 2251",
          "Deck 2256",
          "Deck 2258",
          "Deck 2352",
          "Deck 2363",
          "Deck 2374",
          "Deck 2382",
          "Deck 2421",
          "Deck 2433",
          "Deck 2498"
         ],
         "type": "scatter3d",
         "x": {
          "bdata": "lg7EiXucqj8arpyrvy6sP7H8tDAEh6k/imTvU2cypz/9Zva9rsuiPxJuy6Bz2aY/yEMq55Trrj+W/ZaVJE6nP0GjQbqHFqo/FMN+6mPAqj8RUG9nPD6oP7/C/+bFqao/dxa+421Upz/nz85Ks7WrP+Jnh2/E3K0/GXn/JgdeqD99LOEdxMKiP2WpJkLtzag/crvwNKDOpj8c8J/w7K2pP5YHJeSam6c/dqnltj+kqj86Keh0CMerP3Cjpjki6KU/4RoFQyLDrj+N4OtFLhOjPxkqnr7FYKY/4RoFQyLDrj9GVHCaKcOtP4A7dqNhWq4/rP9Ure1xqD8SkP2IpXOoP86zrjzwqKU/CWVkecU0pD+F3Vz2idSpP1h7LMiGgKc/uunlOTyTpj8eMc76FyauP5EB0SZKzac/z/TlvYEqrD8nrkdNKZqkP3REvWA0GK0//kcAFbSoqD+Gepf9PJGoP7qPVB2WRaY/gWwyFnp5pz8bIZ4KfROmP3t2+IVclqU/G+FUzZvJpz/f2LIpI3CtPysv4szd/Kg/zBaKeNFzrT8TkS7QytapP9C7qIo7Pqk/TT2LrMBPqD98LFo9PLGqP4cEwwB1sKs/wKEBj4DrpT9FVkBXYWWnP2xXTjznoqg/G+FUzZvJpz9aMdjSSzClP7jb5U/Ap6o/IaCuPbcIqT/J6F//f2OsPyaKab8556s/EVBvZzw+qD/B3eO5+X+iP/gPNGqnmaY//brnRpRVpj/X+YQ7VyaoP1aVKFFo5aQ/zrOuPPCopT8QZCKEfMujP4LU74hw0qs/cKOmOSLopT8CXpglauenPxT9pVYjWqw/yLlUfNiRpz+qRZ8ULPOpP3h2zStDja4/k9MTngBDqT8TGd6g0vKqP1RmejWkrK0/2KHbxOMnoz8lFmgUGlypP0llhofeCKY/vWYqHiE4qj8=",
          "dtype": "f8"
         },
         "y": {
          "bdata": "KnfIHREzg78o4RWaFS+Kv7FkyZnsoou/61enB1OThb+0Ox5l9TF5v1dx0kyyWJe/5vZSTeGshb+86k5o/suOvxZsMy/E2JK/RbDy9gXGl7/XzUQV4puGvw1W+vldn4y/aJOqy+wTk79Fl2rPjBOQvyQy14Wd13C/Z4cgi35vgb+b+bUK8J1hvyihy31ZPki/cP5A2z2Gcj/T8n4qTPJ3P4e3gIcyo2+/Z0JNAW0Pkr+wc/8ReFaNvzriKqEhFme/vjt78H1Ka7/2HgYuU21+vzeuKRSbro+/vjt78H1Ka7+Rs/PJi8l8v1qWt1hPqZG/jwELd4cObD+I2tOPDYNmv2E/C84L55G/ipj9eE1Hk78yZ4ghN5KVv/dsT+17K4u/3ToRiZ8Sgr+R/Qu8oD2Fv9SZVfBGC28/vvjrrrq1jL8BWatPI9GKv6PiifDAHZC/gc7o+OMceL8c5rYbqe5Jv9f358gnFJe/LjM3kEXJer/hK7HV4EeTv7PPXZjD13y/v+EXqLkij7+wqXmC1euNv8at8mCiWpa/epnu+NpVcb92nt80hdVhP3raWoFp5XA/EAa7SI7gjb+OdOh8M5iKv3zntwN60nS/6hCOpSYPmb+8R6yUyQaLvzzBUtZq0Iy/wOEXqLkij79UjGT6PduSv3htka449Fo/gf63lvo3gr//Uzkdr0aQv5K0ajTAh5S/181EFeKbhr95K7N0mHR0vxbtsrdktmG/W5pfTxxJkb+AFqY75k+PvyKNEB90OpO/YT8Lzgvnkb8c1BLwWXSFv3aYKr9GWIO/OuIqoSEWZ79xNSOo/IOSv9FTMbDKFpG/qQvwrOS1jr/KLhv3/yCLvx5sbwFBPou/oAkI4W/NG7++U1L0GuRyv79qeBxs95C/p6c8vjklZL9qfbeIjU92v8wQR8uOxFm/uJ6siVcleL8=",
          "dtype": "f8"
         },
         "z": {
          "bdata": "uuaBRZ0NhD8XaxbcthR7PygEFyMoGHU/SYtBzm/0a7/kvHWx30uRPwxL7by691A/DgnKwJ6DTj/Y+ZirYMmPP5KakrR3K3g/QOK8gz0PaT/QqYZ8hsl4P+ouL7ImIG2/5hOGqv7IcT+nSMfm5h+CP/zQ9QF26mS/yFJFQll3S7/gLRH10eNyP5EQbgy9vm4/oZrKiqMDaL+Ich8Y955sP+YYCmPMvWs/14MC0Riifz9QAKnhmHdtPy31W1HpRGi/ppYeOHr8Qj9708nH9fhfP8VqPz3qJnG/ppYeOHr8Qj8Cz276KcN2v4a2Idh6CGk/KVJThDvwgD+Y0dnoymtwP746CdPuB2Y/y29Okr4Yej8lDXfw3dl9P5Nm9RsNyHo/O8g5eccoib9MoZkP9UJhP/Ch2e4fOYG/Nx/XTt/Egj8kpFJGQLB0PzaFfNpl8oE/uX4SkAg9YT9bh6VNqGJRv9dTAlCXQ2Y/UhNO7qI1ZD9f4GESwSlWvycUHfSiiXI/dsFAK+D0dD/n9bZ6sDCAP5jwTSMQsm0/QArm+GHQgD/gmFhJqymRPxSrXnuT/IO/go97TReUcD+yIbX/b714v5Dqd67re2c/bcYCp1RNVD9clPNf6WlRP7h8Ji/+EWy/dsFAK+D0dD9cqJMpRnVmv8TeKRfKXIC/AtjgMesBeD+zFyKvnK9/v4nA2ps9cXs/0KmGfIbJeD+KDfc8XbV8P365IQgcYHY/Yv1gmRXZYD+xjNzIZVh1PzFQlouIEj0/vjoJ0+4HZj+YdxCZh1ODv2CE+eFseiI/LfVbUelEaL+xuH24pHhxP3RzzKYlVnk/61rEy0thfD/uLNq/ZvZxv0Bv23eTJV8/UQKEPbP1hz8tD84bXsZjP2jyZwhSt3U/tvB//ihpiD80gHi5r81tP+d0q7phBWC/RfXIFlZ/e78=",
          "dtype": "f8"
         }
        }
       ],
       "layout": {
        "legend": {
         "bgcolor": "rgba(255,255,255,0.8)",
         "itemsizing": "trace"
        },
        "margin": {
         "b": 0,
         "l": 0,
         "r": 0,
         "t": 40
        },
        "template": {
         "data": {
          "bar": [
           {
            "error_x": {
             "color": "#2a3f5f"
            },
            "error_y": {
             "color": "#2a3f5f"
            },
            "marker": {
             "line": {
              "color": "#E5ECF6",
              "width": 0.5
             },
             "pattern": {
              "fillmode": "overlay",
              "size": 10,
              "solidity": 0.2
             }
            },
            "type": "bar"
           }
          ],
          "barpolar": [
           {
            "marker": {
             "line": {
              "color": "#E5ECF6",
              "width": 0.5
             },
             "pattern": {
              "fillmode": "overlay",
              "size": 10,
              "solidity": 0.2
             }
            },
            "type": "barpolar"
           }
          ],
          "carpet": [
           {
            "aaxis": {
             "endlinecolor": "#2a3f5f",
             "gridcolor": "white",
             "linecolor": "white",
             "minorgridcolor": "white",
             "startlinecolor": "#2a3f5f"
            },
            "baxis": {
             "endlinecolor": "#2a3f5f",
             "gridcolor": "white",
             "linecolor": "white",
             "minorgridcolor": "white",
             "startlinecolor": "#2a3f5f"
            },
            "type": "carpet"
           }
          ],
          "choropleth": [
           {
            "colorbar": {
             "outlinewidth": 0,
             "ticks": ""
            },
            "type": "choropleth"
           }
          ],
          "contour": [
           {
            "colorbar": {
             "outlinewidth": 0,
             "ticks": ""
            },
            "colorscale": [
             [
              0,
              "#0d0887"
             ],
             [
              0.1111111111111111,
              "#46039f"
             ],
             [
              0.2222222222222222,
              "#7201a8"
             ],
             [
              0.3333333333333333,
              "#9c179e"
             ],
             [
              0.4444444444444444,
              "#bd3786"
             ],
             [
              0.5555555555555556,
              "#d8576b"
             ],
             [
              0.6666666666666666,
              "#ed7953"
             ],
             [
              0.7777777777777778,
              "#fb9f3a"
             ],
             [
              0.8888888888888888,
              "#fdca26"
             ],
             [
              1,
              "#f0f921"
             ]
            ],
            "type": "contour"
           }
          ],
          "contourcarpet": [
           {
            "colorbar": {
             "outlinewidth": 0,
             "ticks": ""
            },
            "type": "contourcarpet"
           }
          ],
          "heatmap": [
           {
            "colorbar": {
             "outlinewidth": 0,
             "ticks": ""
            },
            "colorscale": [
             [
              0,
              "#0d0887"
             ],
             [
              0.1111111111111111,
              "#46039f"
             ],
             [
              0.2222222222222222,
              "#7201a8"
             ],
             [
              0.3333333333333333,
              "#9c179e"
             ],
             [
              0.4444444444444444,
              "#bd3786"
             ],
             [
              0.5555555555555556,
              "#d8576b"
             ],
             [
              0.6666666666666666,
              "#ed7953"
             ],
             [
              0.7777777777777778,
              "#fb9f3a"
             ],
             [
              0.8888888888888888,
              "#fdca26"
             ],
             [
              1,
              "#f0f921"
             ]
            ],
            "type": "heatmap"
           }
          ],
          "histogram": [
           {
            "marker": {
             "pattern": {
              "fillmode": "overlay",
              "size": 10,
              "solidity": 0.2
             }
            },
            "type": "histogram"
           }
          ],
          "histogram2d": [
           {
            "colorbar": {
             "outlinewidth": 0,
             "ticks": ""
            },
            "colorscale": [
             [
              0,
              "#0d0887"
             ],
             [
              0.1111111111111111,
              "#46039f"
             ],
             [
              0.2222222222222222,
              "#7201a8"
             ],
             [
              0.3333333333333333,
              "#9c179e"
             ],
             [
              0.4444444444444444,
              "#bd3786"
             ],
             [
              0.5555555555555556,
              "#d8576b"
             ],
             [
              0.6666666666666666,
              "#ed7953"
             ],
             [
              0.7777777777777778,
              "#fb9f3a"
             ],
             [
              0.8888888888888888,
              "#fdca26"
             ],
             [
              1,
              "#f0f921"
             ]
            ],
            "type": "histogram2d"
           }
          ],
          "histogram2dcontour": [
           {
            "colorbar": {
             "outlinewidth": 0,
             "ticks": ""
            },
            "colorscale": [
             [
              0,
              "#0d0887"
             ],
             [
              0.1111111111111111,
              "#46039f"
             ],
             [
              0.2222222222222222,
              "#7201a8"
             ],
             [
              0.3333333333333333,
              "#9c179e"
             ],
             [
              0.4444444444444444,
              "#bd3786"
             ],
             [
              0.5555555555555556,
              "#d8576b"
             ],
             [
              0.6666666666666666,
              "#ed7953"
             ],
             [
              0.7777777777777778,
              "#fb9f3a"
             ],
             [
              0.8888888888888888,
              "#fdca26"
             ],
             [
              1,
              "#f0f921"
             ]
            ],
            "type": "histogram2dcontour"
           }
          ],
          "mesh3d": [
           {
            "colorbar": {
             "outlinewidth": 0,
             "ticks": ""
            },
            "type": "mesh3d"
           }
          ],
          "parcoords": [
           {
            "line": {
             "colorbar": {
              "outlinewidth": 0,
              "ticks": ""
             }
            },
            "type": "parcoords"
           }
          ],
          "pie": [
           {
            "automargin": true,
            "type": "pie"
           }
          ],
          "scatter": [
           {
            "fillpattern": {
             "fillmode": "overlay",
             "size": 10,
             "solidity": 0.2
            },
            "type": "scatter"
           }
          ],
          "scatter3d": [
           {
            "line": {
             "colorbar": {
              "outlinewidth": 0,
              "ticks": ""
             }
            },
            "marker": {
             "colorbar": {
              "outlinewidth": 0,
              "ticks": ""
             }
            },
            "type": "scatter3d"
           }
          ],
          "scattercarpet": [
           {
            "marker": {
             "colorbar": {
              "outlinewidth": 0,
              "ticks": ""
             }
            },
            "type": "scattercarpet"
           }
          ],
          "scattergeo": [
           {
            "marker": {
             "colorbar": {
              "outlinewidth": 0,
              "ticks": ""
             }
            },
            "type": "scattergeo"
           }
          ],
          "scattergl": [
           {
            "marker": {
             "colorbar": {
              "outlinewidth": 0,
              "ticks": ""
             }
            },
            "type": "scattergl"
           }
          ],
          "scattermap": [
           {
            "marker": {
             "colorbar": {
              "outlinewidth": 0,
              "ticks": ""
             }
            },
            "type": "scattermap"
           }
          ],
          "scattermapbox": [
           {
            "marker": {
             "colorbar": {
              "outlinewidth": 0,
              "ticks": ""
             }
            },
            "type": "scattermapbox"
           }
          ],
          "scatterpolar": [
           {
            "marker": {
             "colorbar": {
              "outlinewidth": 0,
              "ticks": ""
             }
            },
            "type": "scatterpolar"
           }
          ],
          "scatterpolargl": [
           {
            "marker": {
             "colorbar": {
              "outlinewidth": 0,
              "ticks": ""
             }
            },
            "type": "scatterpolargl"
           }
          ],
          "scatterternary": [
           {
            "marker": {
             "colorbar": {
              "outlinewidth": 0,
              "ticks": ""
             }
            },
            "type": "scatterternary"
           }
          ],
          "surface": [
           {
            "colorbar": {
             "outlinewidth": 0,
             "ticks": ""
            },
            "colorscale": [
             [
              0,
              "#0d0887"
             ],
             [
              0.1111111111111111,
              "#46039f"
             ],
             [
              0.2222222222222222,
              "#7201a8"
             ],
             [
              0.3333333333333333,
              "#9c179e"
             ],
             [
              0.4444444444444444,
              "#bd3786"
             ],
             [
              0.5555555555555556,
              "#d8576b"
             ],
             [
              0.6666666666666666,
              "#ed7953"
             ],
             [
              0.7777777777777778,
              "#fb9f3a"
             ],
             [
              0.8888888888888888,
              "#fdca26"
             ],
             [
              1,
              "#f0f921"
             ]
            ],
            "type": "surface"
           }
          ],
          "table": [
           {
            "cells": {
             "fill": {
              "color": "#EBF0F8"
             },
             "line": {
              "color": "white"
             }
            },
            "header": {
             "fill": {
              "color": "#C8D4E3"
             },
             "line": {
              "color": "white"
             }
            },
            "type": "table"
           }
          ]
         },
         "layout": {
          "annotationdefaults": {
           "arrowcolor": "#2a3f5f",
           "arrowhead": 0,
           "arrowwidth": 1
          },
          "autotypenumbers": "strict",
          "coloraxis": {
           "colorbar": {
            "outlinewidth": 0,
            "ticks": ""
           }
          },
          "colorscale": {
           "diverging": [
            [
             0,
             "#8e0152"
            ],
            [
             0.1,
             "#c51b7d"
            ],
            [
             0.2,
             "#de77ae"
            ],
            [
             0.3,
             "#f1b6da"
            ],
            [
             0.4,
             "#fde0ef"
            ],
            [
             0.5,
             "#f7f7f7"
            ],
            [
             0.6,
             "#e6f5d0"
            ],
            [
             0.7,
             "#b8e186"
            ],
            [
             0.8,
             "#7fbc41"
            ],
            [
             0.9,
             "#4d9221"
            ],
            [
             1,
             "#276419"
            ]
           ],
           "sequential": [
            [
             0,
             "#0d0887"
            ],
            [
             0.1111111111111111,
             "#46039f"
            ],
            [
             0.2222222222222222,
             "#7201a8"
            ],
            [
             0.3333333333333333,
             "#9c179e"
            ],
            [
             0.4444444444444444,
             "#bd3786"
            ],
            [
             0.5555555555555556,
             "#d8576b"
            ],
            [
             0.6666666666666666,
             "#ed7953"
            ],
            [
             0.7777777777777778,
             "#fb9f3a"
            ],
            [
             0.8888888888888888,
             "#fdca26"
            ],
            [
             1,
             "#f0f921"
            ]
           ],
           "sequentialminus": [
            [
             0,
             "#0d0887"
            ],
            [
             0.1111111111111111,
             "#46039f"
            ],
            [
             0.2222222222222222,
             "#7201a8"
            ],
            [
             0.3333333333333333,
             "#9c179e"
            ],
            [
             0.4444444444444444,
             "#bd3786"
            ],
            [
             0.5555555555555556,
             "#d8576b"
            ],
            [
             0.6666666666666666,
             "#ed7953"
            ],
            [
             0.7777777777777778,
             "#fb9f3a"
            ],
            [
             0.8888888888888888,
             "#fdca26"
            ],
            [
             1,
             "#f0f921"
            ]
           ]
          },
          "colorway": [
           "#636efa",
           "#EF553B",
           "#00cc96",
           "#ab63fa",
           "#FFA15A",
           "#19d3f3",
           "#FF6692",
           "#B6E880",
           "#FF97FF",
           "#FECB52"
          ],
          "font": {
           "color": "#2a3f5f"
          },
          "geo": {
           "bgcolor": "white",
           "lakecolor": "white",
           "landcolor": "#E5ECF6",
           "showlakes": true,
           "showland": true,
           "subunitcolor": "white"
          },
          "hoverlabel": {
           "align": "left"
          },
          "hovermode": "closest",
          "mapbox": {
           "style": "light"
          },
          "paper_bgcolor": "white",
          "plot_bgcolor": "#E5ECF6",
          "polar": {
           "angularaxis": {
            "gridcolor": "white",
            "linecolor": "white",
            "ticks": ""
           },
           "bgcolor": "#E5ECF6",
           "radialaxis": {
            "gridcolor": "white",
            "linecolor": "white",
            "ticks": ""
           }
          },
          "scene": {
           "xaxis": {
            "backgroundcolor": "#E5ECF6",
            "gridcolor": "white",
            "gridwidth": 2,
            "linecolor": "white",
            "showbackground": true,
            "ticks": "",
            "zerolinecolor": "white"
           },
           "yaxis": {
            "backgroundcolor": "#E5ECF6",
            "gridcolor": "white",
            "gridwidth": 2,
            "linecolor": "white",
            "showbackground": true,
            "ticks": "",
            "zerolinecolor": "white"
           },
           "zaxis": {
            "backgroundcolor": "#E5ECF6",
            "gridcolor": "white",
            "gridwidth": 2,
            "linecolor": "white",
            "showbackground": true,
            "ticks": "",
            "zerolinecolor": "white"
           }
          },
          "shapedefaults": {
           "line": {
            "color": "#2a3f5f"
           }
          },
          "ternary": {
           "aaxis": {
            "gridcolor": "white",
            "linecolor": "white",
            "ticks": ""
           },
           "baxis": {
            "gridcolor": "white",
            "linecolor": "white",
            "ticks": ""
           },
           "bgcolor": "#E5ECF6",
           "caxis": {
            "gridcolor": "white",
            "linecolor": "white",
            "ticks": ""
           }
          },
          "title": {
           "x": 0.05
          },
          "xaxis": {
           "automargin": true,
           "gridcolor": "white",
           "linecolor": "white",
           "ticks": "",
           "title": {
            "standoff": 15
           },
           "zerolinecolor": "white",
           "zerolinewidth": 2
          },
          "yaxis": {
           "automargin": true,
           "gridcolor": "white",
           "linecolor": "white",
           "ticks": "",
           "title": {
            "standoff": 15
           },
           "zerolinecolor": "white",
           "zerolinewidth": 2
          }
         }
        },
        "title": {
         "text": "Clustering dei deck nello spazio PCA (con legenda)"
        }
       }
      }
     },
     "metadata": {},
     "output_type": "display_data"
    },
    {
     "name": "stdout",
     "output_type": "stream",
     "text": [
      "Grafico cluster con legenda salvato in: /home/simonetto/project_royale/Royale_Predict/decks/decks_clusters_legend.html\n"
     ]
    }
   ],
   "source": [
    "from sklearn.cluster import KMeans\n",
    "import plotly.graph_objects as go\n",
    "import plotly.express as px\n",
    "import numpy as np\n",
    "import plotly.io as pio\n",
    "\n",
    "# === Clustering come prima ===\n",
    "N_DECK_CLUSTERS = 20\n",
    "mask_valid = ~np.isnan(deck_points).any(axis=1)\n",
    "deck_points_valid = deck_points[mask_valid]\n",
    "\n",
    "kmeans_decks = KMeans(n_clusters=N_DECK_CLUSTERS, n_init=\"auto\", random_state=RANDOM_STATE)\n",
    "deck_clusters = np.full(len(decks), -1)\n",
    "deck_clusters[mask_valid] = kmeans_decks.fit_predict(deck_points_valid)\n",
    "\n",
    "df_out[\"deck_cluster\"] = deck_clusters\n",
    "df_out.to_csv(OUT_CSV, index=False)\n",
    "print(f\"Coordinate + cluster deck salvate in: {OUT_CSV.resolve()}\")\n",
    "\n",
    "# === Preparazione palette e mapping ===\n",
    "palette = px.colors.qualitative.Set1\n",
    "unique_clusters = sorted([c for c in np.unique(deck_clusters) if c != -1])\n",
    "cluster_to_color = {c: palette[i % len(palette)] for i, c in enumerate(unique_clusters)}\n",
    "cluster_to_color[-1] = \"rgba(150,150,150,0.35)\"\n",
    "\n",
    "# === Crea figura e trace “sfondo carte” ===\n",
    "fig2 = go.Figure()\n",
    "fig2.add_trace(go.Scatter3d(\n",
    "    x=coords[:, 0], y=coords[:, 1], z=coords[:, 2],\n",
    "    mode=\"markers\",\n",
    "    marker=dict(size=3, opacity=0.08),\n",
    "    showlegend=False,\n",
    "    hoverinfo=\"skip\",\n",
    "    name=\"Carte\"\n",
    "))\n",
    "\n",
    "# === Per ogni cluster, traccia i deck che appartengono a quel cluster ===\n",
    "for cl in unique_clusters + [-1]:  # includi -1 se vuoi mostrare “non assegnati”\n",
    "    mask = (deck_clusters == cl)\n",
    "    if not mask.any():\n",
    "        continue\n",
    "    clr = cluster_to_color[cl]\n",
    "    name = f\"Cluster {cl}\" if cl != -1 else \"Non assegnati\"\n",
    "    fig2.add_trace(go.Scatter3d(\n",
    "        x=deck_points[mask, 0],\n",
    "        y=deck_points[mask, 1],\n",
    "        z=deck_points[mask, 2],\n",
    "        mode=\"markers\",\n",
    "        marker=dict(size=6, color=clr),\n",
    "        text=[f\"Deck {i}\" for i in np.where(mask)[0]],\n",
    "        hovertext=[deck_labels[i] for i in np.where(mask)[0]],\n",
    "        hoverinfo=\"text\",\n",
    "        name=name\n",
    "    ))\n",
    "\n",
    "fig2.update_layout(\n",
    "    title=\"Clustering dei deck nello spazio PCA (con legenda)\",\n",
    "    margin=dict(l=0, r=0, b=0, t=40),\n",
    "    legend=dict(\n",
    "        itemsizing=\"trace\",\n",
    "        bgcolor=\"rgba(255,255,255,0.8)\"\n",
    "    )\n",
    ")\n",
    "fig2.show()\n",
    "\n",
    "# === Salva HTML ===\n",
    "pio.write_html(fig2, OUT_HTML.with_name(\"decks_clusters_legend.html\").as_posix(),\n",
    "               include_plotlyjs=\"cdn\", full_html=True)\n",
    "print(f\"Grafico cluster con legenda salvato in: {OUT_HTML.with_name('decks_clusters_legend.html').resolve()}\")\n"
   ]
  },
  {
   "cell_type": "code",
   "execution_count": 7,
   "id": "109c08ec",
   "metadata": {},
   "outputs": [
    {
     "name": "stdout",
     "output_type": "stream",
     "text": [
      "Coordinate + cluster deck salvate in: /home/simonetto/project_royale/Royale_Predict/decks/deck_coords.csv\n"
     ]
    },
    {
     "ename": "ValueError",
     "evalue": "\n    Invalid value of type 'builtins.str' received for the 'colorscale' property of scatter3d.marker\n        Received value: 'Set1'\n\n    The 'colorscale' property is a colorscale and may be\n    specified as:\n      - A list of colors that will be spaced evenly to create the colorscale.\n        Many predefined colorscale lists are included in the sequential, diverging,\n        and cyclical modules in the plotly.colors package.\n      - A list of 2-element lists where the first element is the\n        normalized color level value (starting at 0 and ending at 1),\n        and the second item is a valid color string.\n        (e.g. [[0, 'green'], [0.5, 'red'], [1.0, 'rgb(0, 0, 255)']])\n      - One of the following named colorscales:\n            ['aggrnyl', 'agsunset', 'algae', 'amp', 'armyrose', 'balance',\n             'blackbody', 'bluered', 'blues', 'blugrn', 'bluyl', 'brbg',\n             'brwnyl', 'bugn', 'bupu', 'burg', 'burgyl', 'cividis', 'curl',\n             'darkmint', 'deep', 'delta', 'dense', 'earth', 'edge', 'electric',\n             'emrld', 'fall', 'geyser', 'gnbu', 'gray', 'greens', 'greys',\n             'haline', 'hot', 'hsv', 'ice', 'icefire', 'inferno', 'jet',\n             'magenta', 'magma', 'matter', 'mint', 'mrybm', 'mygbm', 'oranges',\n             'orrd', 'oryel', 'oxy', 'peach', 'phase', 'picnic', 'pinkyl',\n             'piyg', 'plasma', 'plotly3', 'portland', 'prgn', 'pubu', 'pubugn',\n             'puor', 'purd', 'purp', 'purples', 'purpor', 'rainbow', 'rdbu',\n             'rdgy', 'rdpu', 'rdylbu', 'rdylgn', 'redor', 'reds', 'solar',\n             'spectral', 'speed', 'sunset', 'sunsetdark', 'teal', 'tealgrn',\n             'tealrose', 'tempo', 'temps', 'thermal', 'tropic', 'turbid',\n             'turbo', 'twilight', 'viridis', 'ylgn', 'ylgnbu', 'ylorbr',\n             'ylorrd'].\n        Appending '_r' to a named colorscale reverses it.\n",
     "output_type": "error",
     "traceback": [
      "\u001b[0;31m---------------------------------------------------------------------------\u001b[0m",
      "\u001b[0;31mValueError\u001b[0m                                Traceback (most recent call last)",
      "Cell \u001b[0;32mIn[7], line 36\u001b[0m\n\u001b[1;32m     26\u001b[0m fig2\u001b[38;5;241m.\u001b[39madd_trace(go\u001b[38;5;241m.\u001b[39mScatter3d(\n\u001b[1;32m     27\u001b[0m     x\u001b[38;5;241m=\u001b[39mcoords[:, \u001b[38;5;241m0\u001b[39m], y\u001b[38;5;241m=\u001b[39mcoords[:, \u001b[38;5;241m1\u001b[39m], z\u001b[38;5;241m=\u001b[39mcoords[:, \u001b[38;5;241m2\u001b[39m],\n\u001b[1;32m     28\u001b[0m     mode\u001b[38;5;241m=\u001b[39m\u001b[38;5;124m\"\u001b[39m\u001b[38;5;124mmarkers\u001b[39m\u001b[38;5;124m\"\u001b[39m,\n\u001b[0;32m   (...)\u001b[0m\n\u001b[1;32m     32\u001b[0m     name\u001b[38;5;241m=\u001b[39m\u001b[38;5;124m\"\u001b[39m\u001b[38;5;124mCarte\u001b[39m\u001b[38;5;124m\"\u001b[39m\n\u001b[1;32m     33\u001b[0m ))\n\u001b[1;32m     35\u001b[0m \u001b[38;5;66;03m# deck colorati per cluster\u001b[39;00m\n\u001b[0;32m---> 36\u001b[0m fig2\u001b[38;5;241m.\u001b[39madd_trace(\u001b[43mgo\u001b[49m\u001b[38;5;241;43m.\u001b[39;49m\u001b[43mScatter3d\u001b[49m\u001b[43m(\u001b[49m\n\u001b[1;32m     37\u001b[0m \u001b[43m    \u001b[49m\u001b[43mx\u001b[49m\u001b[38;5;241;43m=\u001b[39;49m\u001b[43mdeck_points\u001b[49m\u001b[43m[\u001b[49m\u001b[43m:\u001b[49m\u001b[43m,\u001b[49m\u001b[43m \u001b[49m\u001b[38;5;241;43m0\u001b[39;49m\u001b[43m]\u001b[49m\u001b[43m,\u001b[49m\u001b[43m \u001b[49m\u001b[43my\u001b[49m\u001b[38;5;241;43m=\u001b[39;49m\u001b[43mdeck_points\u001b[49m\u001b[43m[\u001b[49m\u001b[43m:\u001b[49m\u001b[43m,\u001b[49m\u001b[43m \u001b[49m\u001b[38;5;241;43m1\u001b[39;49m\u001b[43m]\u001b[49m\u001b[43m,\u001b[49m\u001b[43m \u001b[49m\u001b[43mz\u001b[49m\u001b[38;5;241;43m=\u001b[39;49m\u001b[43mdeck_points\u001b[49m\u001b[43m[\u001b[49m\u001b[43m:\u001b[49m\u001b[43m,\u001b[49m\u001b[43m \u001b[49m\u001b[38;5;241;43m2\u001b[39;49m\u001b[43m]\u001b[49m\u001b[43m,\u001b[49m\n\u001b[1;32m     38\u001b[0m \u001b[43m    \u001b[49m\u001b[43mmode\u001b[49m\u001b[38;5;241;43m=\u001b[39;49m\u001b[38;5;124;43m\"\u001b[39;49m\u001b[38;5;124;43mmarkers\u001b[39;49m\u001b[38;5;124;43m\"\u001b[39;49m\u001b[43m,\u001b[49m\n\u001b[1;32m     39\u001b[0m \u001b[43m    \u001b[49m\u001b[43mmarker\u001b[49m\u001b[38;5;241;43m=\u001b[39;49m\u001b[38;5;28;43mdict\u001b[39;49m\u001b[43m(\u001b[49m\u001b[43msize\u001b[49m\u001b[38;5;241;43m=\u001b[39;49m\u001b[38;5;241;43m6\u001b[39;49m\u001b[43m,\u001b[49m\u001b[43m \u001b[49m\u001b[43mcolor\u001b[49m\u001b[38;5;241;43m=\u001b[39;49m\u001b[43mdeck_clusters\u001b[49m\u001b[43m,\u001b[49m\u001b[43m \u001b[49m\u001b[43mcolorscale\u001b[49m\u001b[38;5;241;43m=\u001b[39;49m\u001b[38;5;124;43m\"\u001b[39;49m\u001b[38;5;124;43mSet1\u001b[39;49m\u001b[38;5;124;43m\"\u001b[39;49m\u001b[43m)\u001b[49m\u001b[43m,\u001b[49m\n\u001b[1;32m     40\u001b[0m \u001b[43m    \u001b[49m\u001b[43mtext\u001b[49m\u001b[38;5;241;43m=\u001b[39;49m\u001b[43m[\u001b[49m\u001b[38;5;124;43mf\u001b[39;49m\u001b[38;5;124;43m\"\u001b[39;49m\u001b[38;5;124;43mDeck \u001b[39;49m\u001b[38;5;132;43;01m{\u001b[39;49;00m\u001b[43mi\u001b[49m\u001b[38;5;132;43;01m}\u001b[39;49;00m\u001b[38;5;124;43m\"\u001b[39;49m\u001b[43m \u001b[49m\u001b[38;5;28;43;01mfor\u001b[39;49;00m\u001b[43m \u001b[49m\u001b[43mi\u001b[49m\u001b[43m \u001b[49m\u001b[38;5;129;43;01min\u001b[39;49;00m\u001b[43m \u001b[49m\u001b[38;5;28;43mrange\u001b[39;49m\u001b[43m(\u001b[49m\u001b[38;5;28;43mlen\u001b[39;49m\u001b[43m(\u001b[49m\u001b[43mdecks\u001b[49m\u001b[43m)\u001b[49m\u001b[43m)\u001b[49m\u001b[43m]\u001b[49m\u001b[43m,\u001b[49m\n\u001b[1;32m     41\u001b[0m \u001b[43m    \u001b[49m\u001b[43mhovertext\u001b[49m\u001b[38;5;241;43m=\u001b[39;49m\u001b[43mdeck_labels\u001b[49m\u001b[43m,\u001b[49m\n\u001b[1;32m     42\u001b[0m \u001b[43m    \u001b[49m\u001b[43mhoverinfo\u001b[49m\u001b[38;5;241;43m=\u001b[39;49m\u001b[38;5;124;43m\"\u001b[39;49m\u001b[38;5;124;43mtext\u001b[39;49m\u001b[38;5;124;43m\"\u001b[39;49m\u001b[43m,\u001b[49m\n\u001b[1;32m     43\u001b[0m \u001b[43m    \u001b[49m\u001b[43mname\u001b[49m\u001b[38;5;241;43m=\u001b[39;49m\u001b[38;5;124;43m\"\u001b[39;49m\u001b[38;5;124;43mDeck (cluster)\u001b[39;49m\u001b[38;5;124;43m\"\u001b[39;49m\n\u001b[1;32m     44\u001b[0m \u001b[43m)\u001b[49m)\n\u001b[1;32m     46\u001b[0m fig2\u001b[38;5;241m.\u001b[39mupdate_layout(\n\u001b[1;32m     47\u001b[0m     title\u001b[38;5;241m=\u001b[39m\u001b[38;5;124m\"\u001b[39m\u001b[38;5;124mClustering dei deck nello spazio PCA\u001b[39m\u001b[38;5;124m\"\u001b[39m,\n\u001b[1;32m     48\u001b[0m     margin\u001b[38;5;241m=\u001b[39m\u001b[38;5;28mdict\u001b[39m(l\u001b[38;5;241m=\u001b[39m\u001b[38;5;241m0\u001b[39m, r\u001b[38;5;241m=\u001b[39m\u001b[38;5;241m0\u001b[39m, b\u001b[38;5;241m=\u001b[39m\u001b[38;5;241m0\u001b[39m, t\u001b[38;5;241m=\u001b[39m\u001b[38;5;241m40\u001b[39m)\n\u001b[1;32m     49\u001b[0m )\n\u001b[1;32m     51\u001b[0m fig2\u001b[38;5;241m.\u001b[39mshow()\n",
      "File \u001b[0;32m~/miniconda3/envs/royale/lib/python3.10/site-packages/plotly/graph_objs/_scatter3d.py:1959\u001b[0m, in \u001b[0;36mScatter3d.__init__\u001b[0;34m(self, arg, connectgaps, customdata, customdatasrc, error_x, error_y, error_z, hoverinfo, hoverinfosrc, hoverlabel, hovertemplate, hovertemplatesrc, hovertext, hovertextsrc, ids, idssrc, legend, legendgroup, legendgrouptitle, legendrank, legendwidth, line, marker, meta, metasrc, mode, name, opacity, projection, scene, showlegend, stream, surfaceaxis, surfacecolor, text, textfont, textposition, textpositionsrc, textsrc, texttemplate, texttemplatesrc, uid, uirevision, visible, x, xcalendar, xhoverformat, xsrc, y, ycalendar, yhoverformat, ysrc, z, zcalendar, zhoverformat, zsrc, **kwargs)\u001b[0m\n\u001b[1;32m   1957\u001b[0m \u001b[38;5;28mself\u001b[39m\u001b[38;5;241m.\u001b[39m_set_property(\u001b[38;5;124m\"\u001b[39m\u001b[38;5;124mlegendwidth\u001b[39m\u001b[38;5;124m\"\u001b[39m, arg, legendwidth)\n\u001b[1;32m   1958\u001b[0m \u001b[38;5;28mself\u001b[39m\u001b[38;5;241m.\u001b[39m_set_property(\u001b[38;5;124m\"\u001b[39m\u001b[38;5;124mline\u001b[39m\u001b[38;5;124m\"\u001b[39m, arg, line)\n\u001b[0;32m-> 1959\u001b[0m \u001b[38;5;28;43mself\u001b[39;49m\u001b[38;5;241;43m.\u001b[39;49m\u001b[43m_set_property\u001b[49m\u001b[43m(\u001b[49m\u001b[38;5;124;43m\"\u001b[39;49m\u001b[38;5;124;43mmarker\u001b[39;49m\u001b[38;5;124;43m\"\u001b[39;49m\u001b[43m,\u001b[49m\u001b[43m \u001b[49m\u001b[43marg\u001b[49m\u001b[43m,\u001b[49m\u001b[43m \u001b[49m\u001b[43mmarker\u001b[49m\u001b[43m)\u001b[49m\n\u001b[1;32m   1960\u001b[0m \u001b[38;5;28mself\u001b[39m\u001b[38;5;241m.\u001b[39m_set_property(\u001b[38;5;124m\"\u001b[39m\u001b[38;5;124mmeta\u001b[39m\u001b[38;5;124m\"\u001b[39m, arg, meta)\n\u001b[1;32m   1961\u001b[0m \u001b[38;5;28mself\u001b[39m\u001b[38;5;241m.\u001b[39m_set_property(\u001b[38;5;124m\"\u001b[39m\u001b[38;5;124mmetasrc\u001b[39m\u001b[38;5;124m\"\u001b[39m, arg, metasrc)\n",
      "File \u001b[0;32m~/miniconda3/envs/royale/lib/python3.10/site-packages/plotly/basedatatypes.py:4403\u001b[0m, in \u001b[0;36mBasePlotlyType._set_property\u001b[0;34m(self, name, arg, provided)\u001b[0m\n\u001b[1;32m   4397\u001b[0m \u001b[38;5;28;01mdef\u001b[39;00m\u001b[38;5;250m \u001b[39m\u001b[38;5;21m_set_property\u001b[39m(\u001b[38;5;28mself\u001b[39m, name, arg, provided):\n\u001b[1;32m   4398\u001b[0m \u001b[38;5;250m    \u001b[39m\u001b[38;5;124;03m\"\"\"\u001b[39;00m\n\u001b[1;32m   4399\u001b[0m \u001b[38;5;124;03m    Initialize a property of this object using the provided value\u001b[39;00m\n\u001b[1;32m   4400\u001b[0m \u001b[38;5;124;03m    or a value popped from the arguments dictionary. If neither\u001b[39;00m\n\u001b[1;32m   4401\u001b[0m \u001b[38;5;124;03m    is available, do not set the property.\u001b[39;00m\n\u001b[1;32m   4402\u001b[0m \u001b[38;5;124;03m    \"\"\"\u001b[39;00m\n\u001b[0;32m-> 4403\u001b[0m     \u001b[43m_set_property_provided_value\u001b[49m\u001b[43m(\u001b[49m\u001b[38;5;28;43mself\u001b[39;49m\u001b[43m,\u001b[49m\u001b[43m \u001b[49m\u001b[43mname\u001b[49m\u001b[43m,\u001b[49m\u001b[43m \u001b[49m\u001b[43marg\u001b[49m\u001b[43m,\u001b[49m\u001b[43m \u001b[49m\u001b[43mprovided\u001b[49m\u001b[43m)\u001b[49m\n",
      "File \u001b[0;32m~/miniconda3/envs/royale/lib/python3.10/site-packages/plotly/basedatatypes.py:398\u001b[0m, in \u001b[0;36m_set_property_provided_value\u001b[0;34m(obj, name, arg, provided)\u001b[0m\n\u001b[1;32m    396\u001b[0m val \u001b[38;5;241m=\u001b[39m provided \u001b[38;5;28;01mif\u001b[39;00m provided \u001b[38;5;129;01mis\u001b[39;00m \u001b[38;5;129;01mnot\u001b[39;00m \u001b[38;5;28;01mNone\u001b[39;00m \u001b[38;5;28;01melse\u001b[39;00m val\n\u001b[1;32m    397\u001b[0m \u001b[38;5;28;01mif\u001b[39;00m val \u001b[38;5;129;01mis\u001b[39;00m \u001b[38;5;129;01mnot\u001b[39;00m \u001b[38;5;28;01mNone\u001b[39;00m:\n\u001b[0;32m--> 398\u001b[0m     \u001b[43mobj\u001b[49m\u001b[43m[\u001b[49m\u001b[43mname\u001b[49m\u001b[43m]\u001b[49m \u001b[38;5;241m=\u001b[39m val\n",
      "File \u001b[0;32m~/miniconda3/envs/royale/lib/python3.10/site-packages/plotly/basedatatypes.py:4924\u001b[0m, in \u001b[0;36mBasePlotlyType.__setitem__\u001b[0;34m(self, prop, value)\u001b[0m\n\u001b[1;32m   4922\u001b[0m \u001b[38;5;66;03m# ### Handle compound property ###\u001b[39;00m\n\u001b[1;32m   4923\u001b[0m \u001b[38;5;28;01mif\u001b[39;00m \u001b[38;5;28misinstance\u001b[39m(validator, CompoundValidator):\n\u001b[0;32m-> 4924\u001b[0m     \u001b[38;5;28;43mself\u001b[39;49m\u001b[38;5;241;43m.\u001b[39;49m\u001b[43m_set_compound_prop\u001b[49m\u001b[43m(\u001b[49m\u001b[43mprop\u001b[49m\u001b[43m,\u001b[49m\u001b[43m \u001b[49m\u001b[43mvalue\u001b[49m\u001b[43m)\u001b[49m\n\u001b[1;32m   4926\u001b[0m \u001b[38;5;66;03m# ### Handle compound array property ###\u001b[39;00m\n\u001b[1;32m   4927\u001b[0m \u001b[38;5;28;01melif\u001b[39;00m \u001b[38;5;28misinstance\u001b[39m(validator, (CompoundArrayValidator, BaseDataValidator)):\n",
      "File \u001b[0;32m~/miniconda3/envs/royale/lib/python3.10/site-packages/plotly/basedatatypes.py:5335\u001b[0m, in \u001b[0;36mBasePlotlyType._set_compound_prop\u001b[0;34m(self, prop, val)\u001b[0m\n\u001b[1;32m   5332\u001b[0m \u001b[38;5;66;03m# Import value\u001b[39;00m\n\u001b[1;32m   5333\u001b[0m \u001b[38;5;66;03m# ------------\u001b[39;00m\n\u001b[1;32m   5334\u001b[0m validator \u001b[38;5;241m=\u001b[39m \u001b[38;5;28mself\u001b[39m\u001b[38;5;241m.\u001b[39m_get_validator(prop)\n\u001b[0;32m-> 5335\u001b[0m val \u001b[38;5;241m=\u001b[39m \u001b[43mvalidator\u001b[49m\u001b[38;5;241;43m.\u001b[39;49m\u001b[43mvalidate_coerce\u001b[49m\u001b[43m(\u001b[49m\u001b[43mval\u001b[49m\u001b[43m,\u001b[49m\u001b[43m \u001b[49m\u001b[43mskip_invalid\u001b[49m\u001b[38;5;241;43m=\u001b[39;49m\u001b[38;5;28;43mself\u001b[39;49m\u001b[38;5;241;43m.\u001b[39;49m\u001b[43m_skip_invalid\u001b[49m\u001b[43m)\u001b[49m\n\u001b[1;32m   5337\u001b[0m \u001b[38;5;66;03m# Save deep copies of current and new states\u001b[39;00m\n\u001b[1;32m   5338\u001b[0m \u001b[38;5;66;03m# ------------------------------------------\u001b[39;00m\n\u001b[1;32m   5339\u001b[0m curr_val \u001b[38;5;241m=\u001b[39m \u001b[38;5;28mself\u001b[39m\u001b[38;5;241m.\u001b[39m_compound_props\u001b[38;5;241m.\u001b[39mget(prop, \u001b[38;5;28;01mNone\u001b[39;00m)\n",
      "File \u001b[0;32m~/miniconda3/envs/royale/lib/python3.10/site-packages/_plotly_utils/basevalidators.py:2425\u001b[0m, in \u001b[0;36mCompoundValidator.validate_coerce\u001b[0;34m(self, v, skip_invalid, _validate)\u001b[0m\n\u001b[1;32m   2422\u001b[0m     v \u001b[38;5;241m=\u001b[39m \u001b[38;5;28mself\u001b[39m\u001b[38;5;241m.\u001b[39mdata_class()\n\u001b[1;32m   2424\u001b[0m \u001b[38;5;28;01melif\u001b[39;00m \u001b[38;5;28misinstance\u001b[39m(v, \u001b[38;5;28mdict\u001b[39m):\n\u001b[0;32m-> 2425\u001b[0m     v \u001b[38;5;241m=\u001b[39m \u001b[38;5;28;43mself\u001b[39;49m\u001b[38;5;241;43m.\u001b[39;49m\u001b[43mdata_class\u001b[49m\u001b[43m(\u001b[49m\u001b[43mv\u001b[49m\u001b[43m,\u001b[49m\u001b[43m \u001b[49m\u001b[43mskip_invalid\u001b[49m\u001b[38;5;241;43m=\u001b[39;49m\u001b[43mskip_invalid\u001b[49m\u001b[43m,\u001b[49m\u001b[43m \u001b[49m\u001b[43m_validate\u001b[49m\u001b[38;5;241;43m=\u001b[39;49m\u001b[43m_validate\u001b[49m\u001b[43m)\u001b[49m\n\u001b[1;32m   2427\u001b[0m \u001b[38;5;28;01melif\u001b[39;00m \u001b[38;5;28misinstance\u001b[39m(v, \u001b[38;5;28mself\u001b[39m\u001b[38;5;241m.\u001b[39mdata_class):\n\u001b[1;32m   2428\u001b[0m     \u001b[38;5;66;03m# Copy object\u001b[39;00m\n\u001b[1;32m   2429\u001b[0m     v \u001b[38;5;241m=\u001b[39m \u001b[38;5;28mself\u001b[39m\u001b[38;5;241m.\u001b[39mdata_class(v)\n",
      "File \u001b[0;32m~/miniconda3/envs/royale/lib/python3.10/site-packages/plotly/graph_objs/scatter3d/_marker.py:796\u001b[0m, in \u001b[0;36mMarker.__init__\u001b[0;34m(self, arg, autocolorscale, cauto, cmax, cmid, cmin, color, coloraxis, colorbar, colorscale, colorsrc, line, opacity, reversescale, showscale, size, sizemin, sizemode, sizeref, sizesrc, symbol, symbolsrc, **kwargs)\u001b[0m\n\u001b[1;32m    794\u001b[0m \u001b[38;5;28mself\u001b[39m\u001b[38;5;241m.\u001b[39m_set_property(\u001b[38;5;124m\"\u001b[39m\u001b[38;5;124mcoloraxis\u001b[39m\u001b[38;5;124m\"\u001b[39m, arg, coloraxis)\n\u001b[1;32m    795\u001b[0m \u001b[38;5;28mself\u001b[39m\u001b[38;5;241m.\u001b[39m_set_property(\u001b[38;5;124m\"\u001b[39m\u001b[38;5;124mcolorbar\u001b[39m\u001b[38;5;124m\"\u001b[39m, arg, colorbar)\n\u001b[0;32m--> 796\u001b[0m \u001b[38;5;28;43mself\u001b[39;49m\u001b[38;5;241;43m.\u001b[39;49m\u001b[43m_set_property\u001b[49m\u001b[43m(\u001b[49m\u001b[38;5;124;43m\"\u001b[39;49m\u001b[38;5;124;43mcolorscale\u001b[39;49m\u001b[38;5;124;43m\"\u001b[39;49m\u001b[43m,\u001b[49m\u001b[43m \u001b[49m\u001b[43marg\u001b[49m\u001b[43m,\u001b[49m\u001b[43m \u001b[49m\u001b[43mcolorscale\u001b[49m\u001b[43m)\u001b[49m\n\u001b[1;32m    797\u001b[0m \u001b[38;5;28mself\u001b[39m\u001b[38;5;241m.\u001b[39m_set_property(\u001b[38;5;124m\"\u001b[39m\u001b[38;5;124mcolorsrc\u001b[39m\u001b[38;5;124m\"\u001b[39m, arg, colorsrc)\n\u001b[1;32m    798\u001b[0m \u001b[38;5;28mself\u001b[39m\u001b[38;5;241m.\u001b[39m_set_property(\u001b[38;5;124m\"\u001b[39m\u001b[38;5;124mline\u001b[39m\u001b[38;5;124m\"\u001b[39m, arg, line)\n",
      "File \u001b[0;32m~/miniconda3/envs/royale/lib/python3.10/site-packages/plotly/basedatatypes.py:4403\u001b[0m, in \u001b[0;36mBasePlotlyType._set_property\u001b[0;34m(self, name, arg, provided)\u001b[0m\n\u001b[1;32m   4397\u001b[0m \u001b[38;5;28;01mdef\u001b[39;00m\u001b[38;5;250m \u001b[39m\u001b[38;5;21m_set_property\u001b[39m(\u001b[38;5;28mself\u001b[39m, name, arg, provided):\n\u001b[1;32m   4398\u001b[0m \u001b[38;5;250m    \u001b[39m\u001b[38;5;124;03m\"\"\"\u001b[39;00m\n\u001b[1;32m   4399\u001b[0m \u001b[38;5;124;03m    Initialize a property of this object using the provided value\u001b[39;00m\n\u001b[1;32m   4400\u001b[0m \u001b[38;5;124;03m    or a value popped from the arguments dictionary. If neither\u001b[39;00m\n\u001b[1;32m   4401\u001b[0m \u001b[38;5;124;03m    is available, do not set the property.\u001b[39;00m\n\u001b[1;32m   4402\u001b[0m \u001b[38;5;124;03m    \"\"\"\u001b[39;00m\n\u001b[0;32m-> 4403\u001b[0m     \u001b[43m_set_property_provided_value\u001b[49m\u001b[43m(\u001b[49m\u001b[38;5;28;43mself\u001b[39;49m\u001b[43m,\u001b[49m\u001b[43m \u001b[49m\u001b[43mname\u001b[49m\u001b[43m,\u001b[49m\u001b[43m \u001b[49m\u001b[43marg\u001b[49m\u001b[43m,\u001b[49m\u001b[43m \u001b[49m\u001b[43mprovided\u001b[49m\u001b[43m)\u001b[49m\n",
      "File \u001b[0;32m~/miniconda3/envs/royale/lib/python3.10/site-packages/plotly/basedatatypes.py:398\u001b[0m, in \u001b[0;36m_set_property_provided_value\u001b[0;34m(obj, name, arg, provided)\u001b[0m\n\u001b[1;32m    396\u001b[0m val \u001b[38;5;241m=\u001b[39m provided \u001b[38;5;28;01mif\u001b[39;00m provided \u001b[38;5;129;01mis\u001b[39;00m \u001b[38;5;129;01mnot\u001b[39;00m \u001b[38;5;28;01mNone\u001b[39;00m \u001b[38;5;28;01melse\u001b[39;00m val\n\u001b[1;32m    397\u001b[0m \u001b[38;5;28;01mif\u001b[39;00m val \u001b[38;5;129;01mis\u001b[39;00m \u001b[38;5;129;01mnot\u001b[39;00m \u001b[38;5;28;01mNone\u001b[39;00m:\n\u001b[0;32m--> 398\u001b[0m     \u001b[43mobj\u001b[49m\u001b[43m[\u001b[49m\u001b[43mname\u001b[49m\u001b[43m]\u001b[49m \u001b[38;5;241m=\u001b[39m val\n",
      "File \u001b[0;32m~/miniconda3/envs/royale/lib/python3.10/site-packages/plotly/basedatatypes.py:4932\u001b[0m, in \u001b[0;36mBasePlotlyType.__setitem__\u001b[0;34m(self, prop, value)\u001b[0m\n\u001b[1;32m   4928\u001b[0m         \u001b[38;5;28mself\u001b[39m\u001b[38;5;241m.\u001b[39m_set_array_prop(prop, value)\n\u001b[1;32m   4930\u001b[0m     \u001b[38;5;66;03m# ### Handle simple property ###\u001b[39;00m\n\u001b[1;32m   4931\u001b[0m     \u001b[38;5;28;01melse\u001b[39;00m:\n\u001b[0;32m-> 4932\u001b[0m         \u001b[38;5;28;43mself\u001b[39;49m\u001b[38;5;241;43m.\u001b[39;49m\u001b[43m_set_prop\u001b[49m\u001b[43m(\u001b[49m\u001b[43mprop\u001b[49m\u001b[43m,\u001b[49m\u001b[43m \u001b[49m\u001b[43mvalue\u001b[49m\u001b[43m)\u001b[49m\n\u001b[1;32m   4933\u001b[0m \u001b[38;5;28;01melse\u001b[39;00m:\n\u001b[1;32m   4934\u001b[0m     \u001b[38;5;66;03m# Make sure properties dict is initialized\u001b[39;00m\n\u001b[1;32m   4935\u001b[0m     \u001b[38;5;28mself\u001b[39m\u001b[38;5;241m.\u001b[39m_init_props()\n",
      "File \u001b[0;32m~/miniconda3/envs/royale/lib/python3.10/site-packages/plotly/basedatatypes.py:5276\u001b[0m, in \u001b[0;36mBasePlotlyType._set_prop\u001b[0;34m(self, prop, val)\u001b[0m\n\u001b[1;32m   5274\u001b[0m         \u001b[38;5;28;01mreturn\u001b[39;00m\n\u001b[1;32m   5275\u001b[0m     \u001b[38;5;28;01melse\u001b[39;00m:\n\u001b[0;32m-> 5276\u001b[0m         \u001b[38;5;28;01mraise\u001b[39;00m err\n\u001b[1;32m   5278\u001b[0m \u001b[38;5;66;03m# val is None\u001b[39;00m\n\u001b[1;32m   5279\u001b[0m \u001b[38;5;66;03m# -----------\u001b[39;00m\n\u001b[1;32m   5280\u001b[0m \u001b[38;5;28;01mif\u001b[39;00m val \u001b[38;5;129;01mis\u001b[39;00m \u001b[38;5;28;01mNone\u001b[39;00m:\n\u001b[1;32m   5281\u001b[0m     \u001b[38;5;66;03m# Check if we should send null update\u001b[39;00m\n",
      "File \u001b[0;32m~/miniconda3/envs/royale/lib/python3.10/site-packages/plotly/basedatatypes.py:5271\u001b[0m, in \u001b[0;36mBasePlotlyType._set_prop\u001b[0;34m(self, prop, val)\u001b[0m\n\u001b[1;32m   5268\u001b[0m validator \u001b[38;5;241m=\u001b[39m \u001b[38;5;28mself\u001b[39m\u001b[38;5;241m.\u001b[39m_get_validator(prop)\n\u001b[1;32m   5270\u001b[0m \u001b[38;5;28;01mtry\u001b[39;00m:\n\u001b[0;32m-> 5271\u001b[0m     val \u001b[38;5;241m=\u001b[39m \u001b[43mvalidator\u001b[49m\u001b[38;5;241;43m.\u001b[39;49m\u001b[43mvalidate_coerce\u001b[49m\u001b[43m(\u001b[49m\u001b[43mval\u001b[49m\u001b[43m)\u001b[49m\n\u001b[1;32m   5272\u001b[0m \u001b[38;5;28;01mexcept\u001b[39;00m \u001b[38;5;167;01mValueError\u001b[39;00m \u001b[38;5;28;01mas\u001b[39;00m err:\n\u001b[1;32m   5273\u001b[0m     \u001b[38;5;28;01mif\u001b[39;00m \u001b[38;5;28mself\u001b[39m\u001b[38;5;241m.\u001b[39m_skip_invalid:\n",
      "File \u001b[0;32m~/miniconda3/envs/royale/lib/python3.10/site-packages/_plotly_utils/basevalidators.py:1636\u001b[0m, in \u001b[0;36mColorscaleValidator.validate_coerce\u001b[0;34m(self, v)\u001b[0m\n\u001b[1;32m   1631\u001b[0m             v \u001b[38;5;241m=\u001b[39m [\n\u001b[1;32m   1632\u001b[0m                 [e[\u001b[38;5;241m0\u001b[39m], ColorValidator\u001b[38;5;241m.\u001b[39mperform_validate_coerce(e[\u001b[38;5;241m1\u001b[39m])] \u001b[38;5;28;01mfor\u001b[39;00m e \u001b[38;5;129;01min\u001b[39;00m v\n\u001b[1;32m   1633\u001b[0m             ]\n\u001b[1;32m   1635\u001b[0m \u001b[38;5;28;01mif\u001b[39;00m \u001b[38;5;129;01mnot\u001b[39;00m v_valid:\n\u001b[0;32m-> 1636\u001b[0m     \u001b[38;5;28;43mself\u001b[39;49m\u001b[38;5;241;43m.\u001b[39;49m\u001b[43mraise_invalid_val\u001b[49m\u001b[43m(\u001b[49m\u001b[43mv\u001b[49m\u001b[43m)\u001b[49m\n\u001b[1;32m   1638\u001b[0m \u001b[38;5;28;01mreturn\u001b[39;00m v\n",
      "File \u001b[0;32m~/miniconda3/envs/royale/lib/python3.10/site-packages/_plotly_utils/basevalidators.py:298\u001b[0m, in \u001b[0;36mBaseValidator.raise_invalid_val\u001b[0;34m(self, v, inds)\u001b[0m\n\u001b[1;32m    295\u001b[0m             \u001b[38;5;28;01mfor\u001b[39;00m i \u001b[38;5;129;01min\u001b[39;00m inds:\n\u001b[1;32m    296\u001b[0m                 name \u001b[38;5;241m+\u001b[39m\u001b[38;5;241m=\u001b[39m \u001b[38;5;124m\"\u001b[39m\u001b[38;5;124m[\u001b[39m\u001b[38;5;124m\"\u001b[39m \u001b[38;5;241m+\u001b[39m \u001b[38;5;28mstr\u001b[39m(i) \u001b[38;5;241m+\u001b[39m \u001b[38;5;124m\"\u001b[39m\u001b[38;5;124m]\u001b[39m\u001b[38;5;124m\"\u001b[39m\n\u001b[0;32m--> 298\u001b[0m         \u001b[38;5;28;01mraise\u001b[39;00m \u001b[38;5;167;01mValueError\u001b[39;00m(\n\u001b[1;32m    299\u001b[0m \u001b[38;5;250m            \u001b[39m\u001b[38;5;124;03m\"\"\"\u001b[39;00m\n\u001b[1;32m    300\u001b[0m \u001b[38;5;124;03m    Invalid value of type {typ} received for the '{name}' property of {pname}\u001b[39;00m\n\u001b[1;32m    301\u001b[0m \u001b[38;5;124;03m        Received value: {v}\u001b[39;00m\n\u001b[1;32m    302\u001b[0m \n\u001b[1;32m    303\u001b[0m \u001b[38;5;124;03m{valid_clr_desc}\"\"\"\u001b[39;00m\u001b[38;5;241m.\u001b[39mformat(\n\u001b[1;32m    304\u001b[0m                 name\u001b[38;5;241m=\u001b[39mname,\n\u001b[1;32m    305\u001b[0m                 pname\u001b[38;5;241m=\u001b[39m\u001b[38;5;28mself\u001b[39m\u001b[38;5;241m.\u001b[39mparent_name,\n\u001b[1;32m    306\u001b[0m                 typ\u001b[38;5;241m=\u001b[39mtype_str(v),\n\u001b[1;32m    307\u001b[0m                 v\u001b[38;5;241m=\u001b[39m\u001b[38;5;28mrepr\u001b[39m(v),\n\u001b[1;32m    308\u001b[0m                 valid_clr_desc\u001b[38;5;241m=\u001b[39m\u001b[38;5;28mself\u001b[39m\u001b[38;5;241m.\u001b[39mdescription(),\n\u001b[1;32m    309\u001b[0m             )\n\u001b[1;32m    310\u001b[0m         )\n",
      "\u001b[0;31mValueError\u001b[0m: \n    Invalid value of type 'builtins.str' received for the 'colorscale' property of scatter3d.marker\n        Received value: 'Set1'\n\n    The 'colorscale' property is a colorscale and may be\n    specified as:\n      - A list of colors that will be spaced evenly to create the colorscale.\n        Many predefined colorscale lists are included in the sequential, diverging,\n        and cyclical modules in the plotly.colors package.\n      - A list of 2-element lists where the first element is the\n        normalized color level value (starting at 0 and ending at 1),\n        and the second item is a valid color string.\n        (e.g. [[0, 'green'], [0.5, 'red'], [1.0, 'rgb(0, 0, 255)']])\n      - One of the following named colorscales:\n            ['aggrnyl', 'agsunset', 'algae', 'amp', 'armyrose', 'balance',\n             'blackbody', 'bluered', 'blues', 'blugrn', 'bluyl', 'brbg',\n             'brwnyl', 'bugn', 'bupu', 'burg', 'burgyl', 'cividis', 'curl',\n             'darkmint', 'deep', 'delta', 'dense', 'earth', 'edge', 'electric',\n             'emrld', 'fall', 'geyser', 'gnbu', 'gray', 'greens', 'greys',\n             'haline', 'hot', 'hsv', 'ice', 'icefire', 'inferno', 'jet',\n             'magenta', 'magma', 'matter', 'mint', 'mrybm', 'mygbm', 'oranges',\n             'orrd', 'oryel', 'oxy', 'peach', 'phase', 'picnic', 'pinkyl',\n             'piyg', 'plasma', 'plotly3', 'portland', 'prgn', 'pubu', 'pubugn',\n             'puor', 'purd', 'purp', 'purples', 'purpor', 'rainbow', 'rdbu',\n             'rdgy', 'rdpu', 'rdylbu', 'rdylgn', 'redor', 'reds', 'solar',\n             'spectral', 'speed', 'sunset', 'sunsetdark', 'teal', 'tealgrn',\n             'tealrose', 'tempo', 'temps', 'thermal', 'tropic', 'turbid',\n             'turbo', 'twilight', 'viridis', 'ylgn', 'ylgnbu', 'ylorbr',\n             'ylorrd'].\n        Appending '_r' to a named colorscale reverses it.\n"
     ]
    }
   ],
   "source": [
    "from sklearn.cluster import KMeans\n",
    "\n",
    "# ======================\n",
    "# 7) Clustering dei deck nello spazio PCA\n",
    "# ======================\n",
    "N_DECK_CLUSTERS = 6   # numero atteso di archetipi di deck (cambialo se vuoi)\n",
    "\n",
    "# rimuovi eventuali deck senza coordinate valide (NaN)\n",
    "mask_valid = ~np.isnan(deck_points).any(axis=1)\n",
    "deck_points_valid = deck_points[mask_valid]\n",
    "\n",
    "kmeans_decks = KMeans(n_clusters=N_DECK_CLUSTERS, n_init=\"auto\", random_state=RANDOM_STATE)\n",
    "deck_clusters = np.full(len(decks), -1)   # default -1 = non assegnato\n",
    "deck_clusters[mask_valid] = kmeans_decks.fit_predict(deck_points_valid)\n",
    "\n",
    "df_out[\"deck_cluster\"] = deck_clusters\n",
    "df_out.to_csv(OUT_CSV, index=False)\n",
    "print(f\"Coordinate + cluster deck salvate in: {OUT_CSV.resolve()}\")\n",
    "\n",
    "# ======================\n",
    "# 8) Plot interattivo con cluster dei deck\n",
    "# ======================\n",
    "fig2 = go.Figure()\n",
    "\n",
    "# sfondo: carte (trasparenti)\n",
    "fig2.add_trace(go.Scatter3d(\n",
    "    x=coords[:, 0], y=coords[:, 1], z=coords[:, 2],\n",
    "    mode=\"markers\",\n",
    "    marker=dict(size=3, opacity=0.08),\n",
    "    showlegend=False,\n",
    "    hoverinfo=\"skip\",\n",
    "    name=\"Carte\"\n",
    "))\n",
    "\n",
    "# deck colorati per cluster\n",
    "fig2.add_trace(go.Scatter3d(\n",
    "    x=deck_points[:, 0], y=deck_points[:, 1], z=deck_points[:, 2],\n",
    "    mode=\"markers\",\n",
    "    marker=dict(size=6, color=deck_clusters, colorscale=\"Set1\"),\n",
    "    text=[f\"Deck {i}\" for i in range(len(decks))],\n",
    "    hovertext=deck_labels,\n",
    "    hoverinfo=\"text\",\n",
    "    name=\"Deck (cluster)\"\n",
    "))\n",
    "\n",
    "fig2.update_layout(\n",
    "    title=\"Clustering dei deck nello spazio PCA\",\n",
    "    margin=dict(l=0, r=0, b=0, t=40)\n",
    ")\n",
    "\n",
    "fig2.show()\n",
    "pio.write_html(fig2, OUT_HTML.with_name(\"decks_clusters.html\").as_posix(),\n",
    "               include_plotlyjs=\"cdn\", full_html=True)\n",
    "print(f\"Grafico cluster dei deck salvato in: {OUT_HTML.with_name('decks_clusters.html').resolve()}\")\n"
   ]
  },
  {
   "cell_type": "code",
   "execution_count": 4,
   "id": "bda13f5d",
   "metadata": {},
   "outputs": [
    {
     "name": "stdout",
     "output_type": "stream",
     "text": [
      "Grafico salvato in cluster_viewer.html\n"
     ]
    }
   ],
   "source": [
    "import plotly.io as pio\n",
    "\n",
    "# salva in HTML\n",
    "pio.write_html(fig, \"cluster_viewer.html\", include_plotlyjs=\"cdn\", full_html=True)\n",
    "\n",
    "print(\"Grafico salvato in cluster_viewer.html\")\n"
   ]
  }
 ],
 "metadata": {
  "kernelspec": {
   "display_name": "royale",
   "language": "python",
   "name": "python3"
  },
  "language_info": {
   "codemirror_mode": {
    "name": "ipython",
    "version": 3
   },
   "file_extension": ".py",
   "mimetype": "text/x-python",
   "name": "python",
   "nbconvert_exporter": "python",
   "pygments_lexer": "ipython3",
   "version": "3.10.18"
  }
 },
 "nbformat": 4,
 "nbformat_minor": 5
}
